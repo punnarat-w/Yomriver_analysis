{
  "nbformat": 4,
  "nbformat_minor": 0,
  "metadata": {
    "colab": {
      "name": "ForecastingModel.ipynb",
      "provenance": [],
      "toc_visible": true,
      "include_colab_link": true
    },
    "kernelspec": {
      "name": "python3",
      "display_name": "Python 3"
    },
    "language_info": {
      "name": "python"
    }
  },
  "cells": [
    {
      "cell_type": "markdown",
      "metadata": {
        "id": "view-in-github",
        "colab_type": "text"
      },
      "source": [
        "<a href=\"https://colab.research.google.com/github/punnarat-w/Yomriver_analysis/blob/main/ForecastingModel.ipynb\" target=\"_parent\"><img src=\"https://colab.research.google.com/assets/colab-badge.svg\" alt=\"Open In Colab\"/></a>"
      ]
    },
    {
      "cell_type": "markdown",
      "metadata": {
        "id": "uWgPh0QlAM8r"
      },
      "source": [
        "#Retrieving Data"
      ]
    },
    {
      "cell_type": "code",
      "metadata": {
        "id": "ro42Q3qiImlr"
      },
      "source": [
        "# importing pandas library\n",
        "import pandas as pd\n",
        "import matplotlib.pyplot as plt\n",
        "import numpy as np"
      ],
      "execution_count": 1,
      "outputs": []
    },
    {
      "cell_type": "code",
      "metadata": {
        "colab": {
          "base_uri": "https://localhost:8080/"
        },
        "id": "qc4Fd4APbyt8",
        "outputId": "f703cb7f-cd2d-425d-a20f-d9f5cd3f69b9"
      },
      "source": [
        "# download description file\n",
        "!gdown --id 1GJdM5L1SH1Cs95xFeflf3HT7kLT4wd-f"
      ],
      "execution_count": 2,
      "outputs": [
        {
          "output_type": "stream",
          "text": [
            "Downloading...\n",
            "From: https://drive.google.com/uc?id=1GJdM5L1SH1Cs95xFeflf3HT7kLT4wd-f\n",
            "To: /content/st.csv\n",
            "\r  0% 0.00/20.8k [00:00<?, ?B/s]\r100% 20.8k/20.8k [00:00<00:00, 48.6MB/s]\n"
          ],
          "name": "stdout"
        }
      ]
    },
    {
      "cell_type": "code",
      "metadata": {
        "id": "hyVxNQO_0QuI"
      },
      "source": [
        "def getData(filename):\n",
        "  data = pd.read_csv(filename)\n",
        "  # data['Datetime'] = pd.to_datetime(data['Datetime'])\n",
        "  # data = data.set_index('Datetime')\n",
        "  return data"
      ],
      "execution_count": 3,
      "outputs": []
    },
    {
      "cell_type": "code",
      "metadata": {
        "colab": {
          "base_uri": "https://localhost:8080/",
          "height": 419
        },
        "id": "TYukDQR--kOR",
        "outputId": "9b96af5a-8060-4581-a646-eab26a6f6e09"
      },
      "source": [
        "description = getData('st.csv')\n",
        "description"
      ],
      "execution_count": 4,
      "outputs": [
        {
          "output_type": "execute_result",
          "data": {
            "text/html": [
              "<div>\n",
              "<style scoped>\n",
              "    .dataframe tbody tr th:only-of-type {\n",
              "        vertical-align: middle;\n",
              "    }\n",
              "\n",
              "    .dataframe tbody tr th {\n",
              "        vertical-align: top;\n",
              "    }\n",
              "\n",
              "    .dataframe thead th {\n",
              "        text-align: right;\n",
              "    }\n",
              "</style>\n",
              "<table border=\"1\" class=\"dataframe\">\n",
              "  <thead>\n",
              "    <tr style=\"text-align: right;\">\n",
              "      <th></th>\n",
              "      <th>code</th>\n",
              "      <th>name</th>\n",
              "      <th>lat</th>\n",
              "      <th>long</th>\n",
              "      <th>tambon</th>\n",
              "      <th>amphoe</th>\n",
              "      <th>province</th>\n",
              "      <th>basin</th>\n",
              "      <th>region</th>\n",
              "      <th>station_type</th>\n",
              "    </tr>\n",
              "  </thead>\n",
              "  <tbody>\n",
              "    <tr>\n",
              "      <th>0</th>\n",
              "      <td>BDLH</td>\n",
              "      <td>ทต.ลานหอย</td>\n",
              "      <td>17.008562</td>\n",
              "      <td>99.582995</td>\n",
              "      <td>ลานหอย</td>\n",
              "      <td>บ้านด่านลานหอย</td>\n",
              "      <td>สุโขทัย</td>\n",
              "      <td>ภาคเหนือ</td>\n",
              "      <td>R</td>\n",
              "      <td>NaN</td>\n",
              "    </tr>\n",
              "    <tr>\n",
              "      <th>1</th>\n",
              "      <td>SAMN</td>\n",
              "      <td>ทต.สามง่าม</td>\n",
              "      <td>16.512774</td>\n",
              "      <td>100.208275</td>\n",
              "      <td>สามง่าม</td>\n",
              "      <td>สามง่าม</td>\n",
              "      <td>พิจิตร</td>\n",
              "      <td>ภาคเหนือ</td>\n",
              "      <td>R</td>\n",
              "      <td>NaN</td>\n",
              "    </tr>\n",
              "    <tr>\n",
              "      <th>2</th>\n",
              "      <td>SNGT</td>\n",
              "      <td>อบต.บ้านกลาง</td>\n",
              "      <td>18.482018</td>\n",
              "      <td>100.177530</td>\n",
              "      <td>บ้านกลาง</td>\n",
              "      <td>สอง</td>\n",
              "      <td>แพร่</td>\n",
              "      <td>ภาคเหนือ</td>\n",
              "      <td>R</td>\n",
              "      <td>NaN</td>\n",
              "    </tr>\n",
              "    <tr>\n",
              "      <th>3</th>\n",
              "      <td>KPPT</td>\n",
              "      <td>อบจ.กำแพงเพชร</td>\n",
              "      <td>16.410858</td>\n",
              "      <td>99.521990</td>\n",
              "      <td>อ่างทอง</td>\n",
              "      <td>เมืองกำแพงเพชร</td>\n",
              "      <td>กำแพงเพชร</td>\n",
              "      <td>ภาคเหนือ</td>\n",
              "      <td>R</td>\n",
              "      <td>NaN</td>\n",
              "    </tr>\n",
              "    <tr>\n",
              "      <th>4</th>\n",
              "      <td>PKTI</td>\n",
              "      <td>ทต.พรานกระต่าย</td>\n",
              "      <td>16.653760</td>\n",
              "      <td>99.575782</td>\n",
              "      <td>พรานกระต่าย</td>\n",
              "      <td>พรานกระต่าย</td>\n",
              "      <td>กำแพงเพชร</td>\n",
              "      <td>ภาคเหนือ</td>\n",
              "      <td>R</td>\n",
              "      <td>NaN</td>\n",
              "    </tr>\n",
              "    <tr>\n",
              "      <th>...</th>\n",
              "      <td>...</td>\n",
              "      <td>...</td>\n",
              "      <td>...</td>\n",
              "      <td>...</td>\n",
              "      <td>...</td>\n",
              "      <td>...</td>\n",
              "      <td>...</td>\n",
              "      <td>...</td>\n",
              "      <td>...</td>\n",
              "      <td>...</td>\n",
              "    </tr>\n",
              "    <tr>\n",
              "      <th>109</th>\n",
              "      <td>VLGE13</td>\n",
              "      <td>ชุมแสงสงคราม</td>\n",
              "      <td>16.858560</td>\n",
              "      <td>100.059642</td>\n",
              "      <td>ชุมแสงสงคราม</td>\n",
              "      <td>บางระกำ</td>\n",
              "      <td>พิษณุโลก</td>\n",
              "      <td>ภาคเหนือ</td>\n",
              "      <td>W</td>\n",
              "      <td>NaN</td>\n",
              "    </tr>\n",
              "    <tr>\n",
              "      <th>110</th>\n",
              "      <td>VLGE15</td>\n",
              "      <td>ชุมชนหนองปิ้งไก่</td>\n",
              "      <td>16.434798</td>\n",
              "      <td>99.367315</td>\n",
              "      <td>นาบ่อคำ</td>\n",
              "      <td>เมืองกำแพงเพชร</td>\n",
              "      <td>กำแพงเพชร</td>\n",
              "      <td>ภาคเหนือ</td>\n",
              "      <td>R</td>\n",
              "      <td>NaN</td>\n",
              "    </tr>\n",
              "    <tr>\n",
              "      <th>111</th>\n",
              "      <td>VLGE12</td>\n",
              "      <td>นครป่าหมาก</td>\n",
              "      <td>16.623374</td>\n",
              "      <td>100.369210</td>\n",
              "      <td>นครป่าหมาก</td>\n",
              "      <td>บางกระทุ่ม</td>\n",
              "      <td>พิษณุโลก</td>\n",
              "      <td>ภาคเหนือ</td>\n",
              "      <td>W</td>\n",
              "      <td>NaN</td>\n",
              "    </tr>\n",
              "    <tr>\n",
              "      <th>112</th>\n",
              "      <td>TBW014</td>\n",
              "      <td>สะพานข้ามคลองเกรียงไกร</td>\n",
              "      <td>15.843182</td>\n",
              "      <td>100.211475</td>\n",
              "      <td>บางเคียน</td>\n",
              "      <td>ชุมแสง</td>\n",
              "      <td>นครสวรรค์</td>\n",
              "      <td>ภาคเหนือ</td>\n",
              "      <td>W</td>\n",
              "      <td>NaN</td>\n",
              "    </tr>\n",
              "    <tr>\n",
              "      <th>113</th>\n",
              "      <td>TBR013</td>\n",
              "      <td>อบต.ท่าเสา</td>\n",
              "      <td>15.990014</td>\n",
              "      <td>100.221606</td>\n",
              "      <td>ท่าเสา</td>\n",
              "      <td>โพทะเล</td>\n",
              "      <td>พิจิตร</td>\n",
              "      <td>ภาคเหนือ</td>\n",
              "      <td>R</td>\n",
              "      <td>NaN</td>\n",
              "    </tr>\n",
              "  </tbody>\n",
              "</table>\n",
              "<p>114 rows × 10 columns</p>\n",
              "</div>"
            ],
            "text/plain": [
              "       code                    name        lat  ...     basin region station_type\n",
              "0      BDLH               ทต.ลานหอย  17.008562  ...  ภาคเหนือ      R          NaN\n",
              "1      SAMN              ทต.สามง่าม  16.512774  ...  ภาคเหนือ      R          NaN\n",
              "2      SNGT            อบต.บ้านกลาง  18.482018  ...  ภาคเหนือ      R          NaN\n",
              "3      KPPT           อบจ.กำแพงเพชร  16.410858  ...  ภาคเหนือ      R          NaN\n",
              "4      PKTI          ทต.พรานกระต่าย  16.653760  ...  ภาคเหนือ      R          NaN\n",
              "..      ...                     ...        ...  ...       ...    ...          ...\n",
              "109  VLGE13            ชุมแสงสงคราม  16.858560  ...  ภาคเหนือ      W          NaN\n",
              "110  VLGE15        ชุมชนหนองปิ้งไก่  16.434798  ...  ภาคเหนือ      R          NaN\n",
              "111  VLGE12              นครป่าหมาก  16.623374  ...  ภาคเหนือ      W          NaN\n",
              "112  TBW014  สะพานข้ามคลองเกรียงไกร  15.843182  ...  ภาคเหนือ      W          NaN\n",
              "113  TBR013              อบต.ท่าเสา  15.990014  ...  ภาคเหนือ      R          NaN\n",
              "\n",
              "[114 rows x 10 columns]"
            ]
          },
          "metadata": {
            "tags": []
          },
          "execution_count": 4
        }
      ]
    },
    {
      "cell_type": "code",
      "metadata": {
        "colab": {
          "base_uri": "https://localhost:8080/"
        },
        "id": "ZsdQvYUlYIZ_",
        "outputId": "18504286-ddf3-451f-f12c-5cdc3c824510"
      },
      "source": [
        "description['region'].value_counts()"
      ],
      "execution_count": 5,
      "outputs": [
        {
          "output_type": "execute_result",
          "data": {
            "text/plain": [
              "R    77\n",
              "W    37\n",
              "Name: region, dtype: int64"
            ]
          },
          "metadata": {
            "tags": []
          },
          "execution_count": 5
        }
      ]
    },
    {
      "cell_type": "markdown",
      "metadata": {
        "id": "zjpZ_lKLZ1jd"
      },
      "source": [
        "Finding the code of chosen stations"
      ]
    },
    {
      "cell_type": "code",
      "metadata": {
        "colab": {
          "base_uri": "https://localhost:8080/",
          "height": 80
        },
        "id": "FY_XmFkPXwES",
        "outputId": "6a5894df-8c65-4539-8218-315cbe72ee8b"
      },
      "source": [
        "description[description['name'] == 'ทต.เชียงม่วน']"
      ],
      "execution_count": 6,
      "outputs": [
        {
          "output_type": "execute_result",
          "data": {
            "text/html": [
              "<div>\n",
              "<style scoped>\n",
              "    .dataframe tbody tr th:only-of-type {\n",
              "        vertical-align: middle;\n",
              "    }\n",
              "\n",
              "    .dataframe tbody tr th {\n",
              "        vertical-align: top;\n",
              "    }\n",
              "\n",
              "    .dataframe thead th {\n",
              "        text-align: right;\n",
              "    }\n",
              "</style>\n",
              "<table border=\"1\" class=\"dataframe\">\n",
              "  <thead>\n",
              "    <tr style=\"text-align: right;\">\n",
              "      <th></th>\n",
              "      <th>code</th>\n",
              "      <th>name</th>\n",
              "      <th>lat</th>\n",
              "      <th>long</th>\n",
              "      <th>tambon</th>\n",
              "      <th>amphoe</th>\n",
              "      <th>province</th>\n",
              "      <th>basin</th>\n",
              "      <th>region</th>\n",
              "      <th>station_type</th>\n",
              "    </tr>\n",
              "  </thead>\n",
              "  <tbody>\n",
              "    <tr>\n",
              "      <th>32</th>\n",
              "      <td>CGMN</td>\n",
              "      <td>ทต.เชียงม่วน</td>\n",
              "      <td>18.893837</td>\n",
              "      <td>100.28784</td>\n",
              "      <td>เชียงม่วน</td>\n",
              "      <td>เชียงม่วน</td>\n",
              "      <td>พะเยา</td>\n",
              "      <td>ภาคเหนือ</td>\n",
              "      <td>R</td>\n",
              "      <td>NaN</td>\n",
              "    </tr>\n",
              "  </tbody>\n",
              "</table>\n",
              "</div>"
            ],
            "text/plain": [
              "    code          name        lat  ...     basin region station_type\n",
              "32  CGMN  ทต.เชียงม่วน  18.893837  ...  ภาคเหนือ      R          NaN\n",
              "\n",
              "[1 rows x 10 columns]"
            ]
          },
          "metadata": {
            "tags": []
          },
          "execution_count": 6
        }
      ]
    },
    {
      "cell_type": "code",
      "metadata": {
        "colab": {
          "base_uri": "https://localhost:8080/",
          "height": 80
        },
        "id": "EhcKJKgsYdvs",
        "outputId": "2aaa968c-427f-4502-d4de-5ecf65a9af69"
      },
      "source": [
        "description[description['name'] == 'อบต.วังชิ้น']"
      ],
      "execution_count": 7,
      "outputs": [
        {
          "output_type": "execute_result",
          "data": {
            "text/html": [
              "<div>\n",
              "<style scoped>\n",
              "    .dataframe tbody tr th:only-of-type {\n",
              "        vertical-align: middle;\n",
              "    }\n",
              "\n",
              "    .dataframe tbody tr th {\n",
              "        vertical-align: top;\n",
              "    }\n",
              "\n",
              "    .dataframe thead th {\n",
              "        text-align: right;\n",
              "    }\n",
              "</style>\n",
              "<table border=\"1\" class=\"dataframe\">\n",
              "  <thead>\n",
              "    <tr style=\"text-align: right;\">\n",
              "      <th></th>\n",
              "      <th>code</th>\n",
              "      <th>name</th>\n",
              "      <th>lat</th>\n",
              "      <th>long</th>\n",
              "      <th>tambon</th>\n",
              "      <th>amphoe</th>\n",
              "      <th>province</th>\n",
              "      <th>basin</th>\n",
              "      <th>region</th>\n",
              "      <th>station_type</th>\n",
              "    </tr>\n",
              "  </thead>\n",
              "  <tbody>\n",
              "    <tr>\n",
              "      <th>25</th>\n",
              "      <td>WCHN</td>\n",
              "      <td>อบต.วังชิ้น</td>\n",
              "      <td>17.87883</td>\n",
              "      <td>99.61927</td>\n",
              "      <td>วังชิ้น</td>\n",
              "      <td>วังชิ้น</td>\n",
              "      <td>แพร่</td>\n",
              "      <td>ภาคเหนือ</td>\n",
              "      <td>R</td>\n",
              "      <td>NaN</td>\n",
              "    </tr>\n",
              "  </tbody>\n",
              "</table>\n",
              "</div>"
            ],
            "text/plain": [
              "    code         name       lat  ...     basin region station_type\n",
              "25  WCHN  อบต.วังชิ้น  17.87883  ...  ภาคเหนือ      R          NaN\n",
              "\n",
              "[1 rows x 10 columns]"
            ]
          },
          "metadata": {
            "tags": []
          },
          "execution_count": 7
        }
      ]
    },
    {
      "cell_type": "code",
      "metadata": {
        "colab": {
          "base_uri": "https://localhost:8080/",
          "height": 80
        },
        "id": "jBb2K5H_Yeif",
        "outputId": "881de780-0733-4b59-a390-cfc5705aa465"
      },
      "source": [
        "description[description['name'] == 'โรงฆ่าสัตว์ ทม.สวรรคโลก']"
      ],
      "execution_count": 8,
      "outputs": [
        {
          "output_type": "execute_result",
          "data": {
            "text/html": [
              "<div>\n",
              "<style scoped>\n",
              "    .dataframe tbody tr th:only-of-type {\n",
              "        vertical-align: middle;\n",
              "    }\n",
              "\n",
              "    .dataframe tbody tr th {\n",
              "        vertical-align: top;\n",
              "    }\n",
              "\n",
              "    .dataframe thead th {\n",
              "        text-align: right;\n",
              "    }\n",
              "</style>\n",
              "<table border=\"1\" class=\"dataframe\">\n",
              "  <thead>\n",
              "    <tr style=\"text-align: right;\">\n",
              "      <th></th>\n",
              "      <th>code</th>\n",
              "      <th>name</th>\n",
              "      <th>lat</th>\n",
              "      <th>long</th>\n",
              "      <th>tambon</th>\n",
              "      <th>amphoe</th>\n",
              "      <th>province</th>\n",
              "      <th>basin</th>\n",
              "      <th>region</th>\n",
              "      <th>station_type</th>\n",
              "    </tr>\n",
              "  </thead>\n",
              "  <tbody>\n",
              "    <tr>\n",
              "      <th>17</th>\n",
              "      <td>SWKL</td>\n",
              "      <td>โรงฆ่าสัตว์ ทม.สวรรคโลก</td>\n",
              "      <td>17.31681</td>\n",
              "      <td>99.825146</td>\n",
              "      <td>เมืองสวรรคโลก</td>\n",
              "      <td>สวรรคโลก</td>\n",
              "      <td>สุโขทัย</td>\n",
              "      <td>ภาคเหนือ</td>\n",
              "      <td>R</td>\n",
              "      <td>NaN</td>\n",
              "    </tr>\n",
              "  </tbody>\n",
              "</table>\n",
              "</div>"
            ],
            "text/plain": [
              "    code                     name       lat  ...     basin region station_type\n",
              "17  SWKL  โรงฆ่าสัตว์ ทม.สวรรคโลก  17.31681  ...  ภาคเหนือ      R          NaN\n",
              "\n",
              "[1 rows x 10 columns]"
            ]
          },
          "metadata": {
            "tags": []
          },
          "execution_count": 8
        }
      ]
    },
    {
      "cell_type": "markdown",
      "metadata": {
        "id": "-i2OgNa3mlvH"
      },
      "source": [
        "##Download data"
      ]
    },
    {
      "cell_type": "code",
      "metadata": {
        "id": "1d354URmcafg",
        "colab": {
          "base_uri": "https://localhost:8080/"
        },
        "outputId": "6c58cfa5-af5f-4f08-c98c-0de782d986e9"
      },
      "source": [
        "# download station file\n",
        "!gdown --id 1ebJddYtRmEJbU9ITdvObE0IGr2zz5K0f\n",
        "!gdown --id 1dj14nux3FyViM9heQwHxio1QZleZoZJx\n",
        "!gdown --id 1hT_L86beygC_OQ1jMushxeDga8ZBM9Js"
      ],
      "execution_count": 9,
      "outputs": [
        {
          "output_type": "stream",
          "text": [
            "Downloading...\n",
            "From: https://drive.google.com/uc?id=1ebJddYtRmEJbU9ITdvObE0IGr2zz5K0f\n",
            "To: /content/CGMN.csv\n",
            "3.72MB [00:00, 57.3MB/s]\n",
            "Downloading...\n",
            "From: https://drive.google.com/uc?id=1dj14nux3FyViM9heQwHxio1QZleZoZJx\n",
            "To: /content/WCHN.csv\n",
            "3.65MB [00:00, 56.7MB/s]\n",
            "Downloading...\n",
            "From: https://drive.google.com/uc?id=1hT_L86beygC_OQ1jMushxeDga8ZBM9Js\n",
            "To: /content/SWKL.csv\n",
            "3.69MB [00:00, 111MB/s]\n"
          ],
          "name": "stdout"
        }
      ]
    },
    {
      "cell_type": "code",
      "metadata": {
        "id": "TqPDlkhweAyw"
      },
      "source": [
        "north_df = getData('CGMN.csv')\n",
        "mid_df = getData('WCHN.csv')\n",
        "south_df = getData('SWKL.csv')"
      ],
      "execution_count": 10,
      "outputs": []
    },
    {
      "cell_type": "code",
      "metadata": {
        "colab": {
          "base_uri": "https://localhost:8080/"
        },
        "id": "MHP1yNAGbQnL",
        "outputId": "4ad8e5bd-23bd-4240-a064-795dbe64d5f3"
      },
      "source": [
        "# download storm file\n",
        "!gdown --id 1Sj-7RPCg6Ul4CWFdZ-hLAiWpVCzf-2_L"
      ],
      "execution_count": 11,
      "outputs": [
        {
          "output_type": "stream",
          "text": [
            "Downloading...\n",
            "From: https://drive.google.com/uc?id=1Sj-7RPCg6Ul4CWFdZ-hLAiWpVCzf-2_L\n",
            "To: /content/Storm_2010-2020.csv\n",
            "\r  0% 0.00/17.8k [00:00<?, ?B/s]\r100% 17.8k/17.8k [00:00<00:00, 14.9MB/s]\n"
          ],
          "name": "stdout"
        }
      ]
    },
    {
      "cell_type": "code",
      "metadata": {
        "id": "ZZhLSrFmbYcZ"
      },
      "source": [
        "storm_df = getData('Storm_2010-2020.csv')\n",
        "# storm_df"
      ],
      "execution_count": 12,
      "outputs": []
    },
    {
      "cell_type": "code",
      "metadata": {
        "colab": {
          "base_uri": "https://localhost:8080/"
        },
        "id": "0BcZaBK2bn59",
        "outputId": "087557cf-8e78-4160-aa7f-72825721d6ff"
      },
      "source": [
        "# download forest file\n",
        "!gdown --id 1AYwTBFuIVJJ0QGDu1lALIQDmwpIKNO8P"
      ],
      "execution_count": 13,
      "outputs": [
        {
          "output_type": "stream",
          "text": [
            "Downloading...\n",
            "From: https://drive.google.com/uc?id=1AYwTBFuIVJJ0QGDu1lALIQDmwpIKNO8P\n",
            "To: /content/ForestNorth_2013-2019.csv\n",
            "\r  0% 0.00/1.57k [00:00<?, ?B/s]\r100% 1.57k/1.57k [00:00<00:00, 2.64MB/s]\n"
          ],
          "name": "stdout"
        }
      ]
    },
    {
      "cell_type": "code",
      "metadata": {
        "id": "zEAl2jkRbwdQ",
        "colab": {
          "base_uri": "https://localhost:8080/",
          "height": 700
        },
        "outputId": "f041763f-be17-48e6-ca1d-043214096552"
      },
      "source": [
        "forest_df = getData('ForestNorth_2013-2019.csv')\n",
        "forest_df"
      ],
      "execution_count": 14,
      "outputs": [
        {
          "output_type": "execute_result",
          "data": {
            "text/html": [
              "<div>\n",
              "<style scoped>\n",
              "    .dataframe tbody tr th:only-of-type {\n",
              "        vertical-align: middle;\n",
              "    }\n",
              "\n",
              "    .dataframe tbody tr th {\n",
              "        vertical-align: top;\n",
              "    }\n",
              "\n",
              "    .dataframe thead th {\n",
              "        text-align: right;\n",
              "    }\n",
              "</style>\n",
              "<table border=\"1\" class=\"dataframe\">\n",
              "  <thead>\n",
              "    <tr style=\"text-align: right;\">\n",
              "      <th></th>\n",
              "      <th>Year</th>\n",
              "      <th>Province</th>\n",
              "      <th>Province_Area</th>\n",
              "      <th>Forest_Area</th>\n",
              "      <th>Percent_of_Province_Area</th>\n",
              "      <th>Non_Forest_Area</th>\n",
              "    </tr>\n",
              "  </thead>\n",
              "  <tbody>\n",
              "    <tr>\n",
              "      <th>0</th>\n",
              "      <td>2019</td>\n",
              "      <td>ตอนบน</td>\n",
              "      <td>19,254,452.30</td>\n",
              "      <td>12,103,104.21</td>\n",
              "      <td>182.76</td>\n",
              "      <td>117.24</td>\n",
              "    </tr>\n",
              "    <tr>\n",
              "      <th>1</th>\n",
              "      <td>2019</td>\n",
              "      <td>ตอนกลาง</td>\n",
              "      <td>4,051,912.64</td>\n",
              "      <td>2,627,401.47</td>\n",
              "      <td>64.84</td>\n",
              "      <td>35.16</td>\n",
              "    </tr>\n",
              "    <tr>\n",
              "      <th>2</th>\n",
              "      <td>2019</td>\n",
              "      <td>ตอนล่าง</td>\n",
              "      <td>84,183,434.55</td>\n",
              "      <td>41,661,864.73</td>\n",
              "      <td>565.03</td>\n",
              "      <td>734.97</td>\n",
              "    </tr>\n",
              "    <tr>\n",
              "      <th>3</th>\n",
              "      <td>2018</td>\n",
              "      <td>ตอนบน</td>\n",
              "      <td>19,254,452.30</td>\n",
              "      <td>12,128,810.16</td>\n",
              "      <td>183.14</td>\n",
              "      <td>116.86</td>\n",
              "    </tr>\n",
              "    <tr>\n",
              "      <th>4</th>\n",
              "      <td>2018</td>\n",
              "      <td>ตอนกลาง</td>\n",
              "      <td>4,051,912.64</td>\n",
              "      <td>2,623,909.73</td>\n",
              "      <td>64.76</td>\n",
              "      <td>35.24</td>\n",
              "    </tr>\n",
              "    <tr>\n",
              "      <th>5</th>\n",
              "      <td>2018</td>\n",
              "      <td>ตอนล่าง</td>\n",
              "      <td>84,183,434.55</td>\n",
              "      <td>41,728,212.55</td>\n",
              "      <td>565.64</td>\n",
              "      <td>734.36</td>\n",
              "    </tr>\n",
              "    <tr>\n",
              "      <th>6</th>\n",
              "      <td>2017</td>\n",
              "      <td>ตอนบน</td>\n",
              "      <td>19,254,452.30</td>\n",
              "      <td>12,115,729.16</td>\n",
              "      <td>182.92</td>\n",
              "      <td>117.08</td>\n",
              "    </tr>\n",
              "    <tr>\n",
              "      <th>7</th>\n",
              "      <td>2017</td>\n",
              "      <td>ตอนกลาง</td>\n",
              "      <td>4,051,912.64</td>\n",
              "      <td>2,610,863.30</td>\n",
              "      <td>64.44</td>\n",
              "      <td>35.56</td>\n",
              "    </tr>\n",
              "    <tr>\n",
              "      <th>8</th>\n",
              "      <td>2017</td>\n",
              "      <td>ตอนล่าง</td>\n",
              "      <td>84,183,434.55</td>\n",
              "      <td>41,652,816.09</td>\n",
              "      <td>564.00</td>\n",
              "      <td>736.00</td>\n",
              "    </tr>\n",
              "    <tr>\n",
              "      <th>9</th>\n",
              "      <td>2016</td>\n",
              "      <td>ตอนบน</td>\n",
              "      <td>19,254,452.30</td>\n",
              "      <td>12,177,949.25</td>\n",
              "      <td>183.89</td>\n",
              "      <td>116.11</td>\n",
              "    </tr>\n",
              "    <tr>\n",
              "      <th>10</th>\n",
              "      <td>2016</td>\n",
              "      <td>ตอนกลาง</td>\n",
              "      <td>4,051,912.64</td>\n",
              "      <td>2,603,324.70</td>\n",
              "      <td>64.25</td>\n",
              "      <td>35.75</td>\n",
              "    </tr>\n",
              "    <tr>\n",
              "      <th>11</th>\n",
              "      <td>2016</td>\n",
              "      <td>ตอนล่าง</td>\n",
              "      <td>84,183,434.55</td>\n",
              "      <td>41,652,712.94</td>\n",
              "      <td>563.80</td>\n",
              "      <td>736.20</td>\n",
              "    </tr>\n",
              "    <tr>\n",
              "      <th>12</th>\n",
              "      <td>2015</td>\n",
              "      <td>ตอนบน</td>\n",
              "      <td>19,254,452.30</td>\n",
              "      <td>12,177,345.86</td>\n",
              "      <td>183.97</td>\n",
              "      <td>116.03</td>\n",
              "    </tr>\n",
              "    <tr>\n",
              "      <th>13</th>\n",
              "      <td>2015</td>\n",
              "      <td>ตอนกลาง</td>\n",
              "      <td>4,051,912.64</td>\n",
              "      <td>2,600,029.96</td>\n",
              "      <td>64.17</td>\n",
              "      <td>35.83</td>\n",
              "    </tr>\n",
              "    <tr>\n",
              "      <th>14</th>\n",
              "      <td>2015</td>\n",
              "      <td>ตอนล่าง</td>\n",
              "      <td>84,183,434.55</td>\n",
              "      <td>41,719,510.41</td>\n",
              "      <td>564.69</td>\n",
              "      <td>735.31</td>\n",
              "    </tr>\n",
              "    <tr>\n",
              "      <th>15</th>\n",
              "      <td>2014</td>\n",
              "      <td>ตอนบน</td>\n",
              "      <td>19,254,452.30</td>\n",
              "      <td>12,197,151.71</td>\n",
              "      <td>184.23</td>\n",
              "      <td>115.77</td>\n",
              "    </tr>\n",
              "    <tr>\n",
              "      <th>16</th>\n",
              "      <td>2014</td>\n",
              "      <td>ตอนกลาง</td>\n",
              "      <td>4,051,912.64</td>\n",
              "      <td>2,593,778.11</td>\n",
              "      <td>64.01</td>\n",
              "      <td>35.99</td>\n",
              "    </tr>\n",
              "    <tr>\n",
              "      <th>17</th>\n",
              "      <td>2014</td>\n",
              "      <td>ตอนล่าง</td>\n",
              "      <td>84,183,434.55</td>\n",
              "      <td>41,746,553.35</td>\n",
              "      <td>565.14</td>\n",
              "      <td>734.86</td>\n",
              "    </tr>\n",
              "    <tr>\n",
              "      <th>18</th>\n",
              "      <td>2013</td>\n",
              "      <td>ตอนบน</td>\n",
              "      <td>19,254,452.30</td>\n",
              "      <td>12,181,835.00</td>\n",
              "      <td>183.95</td>\n",
              "      <td>116.05</td>\n",
              "    </tr>\n",
              "    <tr>\n",
              "      <th>19</th>\n",
              "      <td>2013</td>\n",
              "      <td>ตอนกลาง</td>\n",
              "      <td>4,051,912.64</td>\n",
              "      <td>2,515,083.57</td>\n",
              "      <td>62.07</td>\n",
              "      <td>37.93</td>\n",
              "    </tr>\n",
              "    <tr>\n",
              "      <th>20</th>\n",
              "      <td>2013</td>\n",
              "      <td>ตอนล่าง</td>\n",
              "      <td>84,183,434.55</td>\n",
              "      <td>41,275,108.50</td>\n",
              "      <td>551.44</td>\n",
              "      <td>748.56</td>\n",
              "    </tr>\n",
              "  </tbody>\n",
              "</table>\n",
              "</div>"
            ],
            "text/plain": [
              "    Year Province  ... Percent_of_Province_Area Non_Forest_Area\n",
              "0   2019    ตอนบน  ...                   182.76          117.24\n",
              "1   2019  ตอนกลาง  ...                    64.84           35.16\n",
              "2   2019  ตอนล่าง  ...                   565.03          734.97\n",
              "3   2018    ตอนบน  ...                   183.14          116.86\n",
              "4   2018  ตอนกลาง  ...                    64.76           35.24\n",
              "5   2018  ตอนล่าง  ...                   565.64          734.36\n",
              "6   2017    ตอนบน  ...                   182.92          117.08\n",
              "7   2017  ตอนกลาง  ...                    64.44           35.56\n",
              "8   2017  ตอนล่าง  ...                   564.00          736.00\n",
              "9   2016    ตอนบน  ...                   183.89          116.11\n",
              "10  2016  ตอนกลาง  ...                    64.25           35.75\n",
              "11  2016  ตอนล่าง  ...                   563.80          736.20\n",
              "12  2015    ตอนบน  ...                   183.97          116.03\n",
              "13  2015  ตอนกลาง  ...                    64.17           35.83\n",
              "14  2015  ตอนล่าง  ...                   564.69          735.31\n",
              "15  2014    ตอนบน  ...                   184.23          115.77\n",
              "16  2014  ตอนกลาง  ...                    64.01           35.99\n",
              "17  2014  ตอนล่าง  ...                   565.14          734.86\n",
              "18  2013    ตอนบน  ...                   183.95          116.05\n",
              "19  2013  ตอนกลาง  ...                    62.07           37.93\n",
              "20  2013  ตอนล่าง  ...                   551.44          748.56\n",
              "\n",
              "[21 rows x 6 columns]"
            ]
          },
          "metadata": {
            "tags": []
          },
          "execution_count": 14
        }
      ]
    },
    {
      "cell_type": "markdown",
      "metadata": {
        "id": "Jhbqe0YpAdcv"
      },
      "source": [
        "#Data Preparation"
      ]
    },
    {
      "cell_type": "markdown",
      "metadata": {
        "id": "j_-7JvpatbzD"
      },
      "source": [
        "##Combining data"
      ]
    },
    {
      "cell_type": "markdown",
      "metadata": {
        "id": "C_ftnjfaWMm6"
      },
      "source": [
        "###Merging data sets"
      ]
    },
    {
      "cell_type": "code",
      "metadata": {
        "id": "RbZBz4XfjB0u"
      },
      "source": [
        "def insertkey(df):\n",
        "  # insert column key in df for merge data\n",
        "  n_10 = df[df.date.str.contains('2010')]\n",
        "  n_10.insert(0, \"Key\", \"10\")\n",
        "  n_11 = df[df.date.str.contains('2011')]\n",
        "  n_11.insert(0, \"Key\", \"11\")\n",
        "  n_12 = df[df.date.str.contains('2012')]\n",
        "  n_12.insert(0, \"Key\", \"12\")\n",
        "  n_13 = df[df.date.str.contains('2013')]\n",
        "  n_13.insert(0, \"Key\", \"13\")\n",
        "  n_14 = df[df.date.str.contains('2014')]\n",
        "  n_14.insert(0, \"Key\", \"14\")\n",
        "  n_15 = df[df.date.str.contains('2015')]\n",
        "  n_15.insert(0, \"Key\", \"15\")\n",
        "  n_16 = df[df.date.str.contains('2016')]\n",
        "  n_16.insert(0, \"Key\", \"16\")\n",
        "  n_17 = df[df.date.str.contains('2017')]\n",
        "  n_17.insert(0, \"Key\", \"17\")\n",
        "  n_18 = df[df.date.str.contains('2018')]\n",
        "  n_18.insert(0, \"Key\", \"18\")\n",
        "  n_19 = df[df.date.str.contains('2019')]\n",
        "  n_19.insert(0, \"Key\", \"19\")\n",
        "  n_20 = df[df.date.str.contains('2020')]\n",
        "  n_20.insert(0, \"Key\", \"20\")\n",
        "  df = pd.concat([n_10, n_11, n_12, n_13, n_14, n_15, n_16, n_17, n_18, n_19, n_20], sort=False)\n",
        "  return df"
      ],
      "execution_count": 15,
      "outputs": []
    },
    {
      "cell_type": "code",
      "metadata": {
        "id": "tdMQRMizt9cL",
        "colab": {
          "base_uri": "https://localhost:8080/",
          "height": 204
        },
        "outputId": "9ed58aaf-53c7-451c-bcf1-99ffe7f679c0"
      },
      "source": [
        "# insert column key in north_df for merge data\n",
        "north_df = insertkey(north_df)\n",
        "mid_df = insertkey(mid_df)\n",
        "south_df = insertkey(south_df)\n",
        "north_df.head()"
      ],
      "execution_count": 16,
      "outputs": [
        {
          "output_type": "execute_result",
          "data": {
            "text/html": [
              "<div>\n",
              "<style scoped>\n",
              "    .dataframe tbody tr th:only-of-type {\n",
              "        vertical-align: middle;\n",
              "    }\n",
              "\n",
              "    .dataframe tbody tr th {\n",
              "        vertical-align: top;\n",
              "    }\n",
              "\n",
              "    .dataframe thead th {\n",
              "        text-align: right;\n",
              "    }\n",
              "</style>\n",
              "<table border=\"1\" class=\"dataframe\">\n",
              "  <thead>\n",
              "    <tr style=\"text-align: right;\">\n",
              "      <th></th>\n",
              "      <th>Key</th>\n",
              "      <th>code</th>\n",
              "      <th>date</th>\n",
              "      <th>time</th>\n",
              "      <th>rain1h</th>\n",
              "      <th>temp_out</th>\n",
              "      <th>press</th>\n",
              "      <th>humid</th>\n",
              "    </tr>\n",
              "  </thead>\n",
              "  <tbody>\n",
              "    <tr>\n",
              "      <th>0</th>\n",
              "      <td>10</td>\n",
              "      <td>CGMN</td>\n",
              "      <td>2010-01-01</td>\n",
              "      <td>00:00</td>\n",
              "      <td>-999.0</td>\n",
              "      <td>-999.0</td>\n",
              "      <td>-999.0</td>\n",
              "      <td>-999.0</td>\n",
              "    </tr>\n",
              "    <tr>\n",
              "      <th>1</th>\n",
              "      <td>10</td>\n",
              "      <td>CGMN</td>\n",
              "      <td>2010-01-01</td>\n",
              "      <td>01:00</td>\n",
              "      <td>-999.0</td>\n",
              "      <td>-999.0</td>\n",
              "      <td>-999.0</td>\n",
              "      <td>-999.0</td>\n",
              "    </tr>\n",
              "    <tr>\n",
              "      <th>2</th>\n",
              "      <td>10</td>\n",
              "      <td>CGMN</td>\n",
              "      <td>2010-01-01</td>\n",
              "      <td>02:00</td>\n",
              "      <td>-999.0</td>\n",
              "      <td>-999.0</td>\n",
              "      <td>-999.0</td>\n",
              "      <td>-999.0</td>\n",
              "    </tr>\n",
              "    <tr>\n",
              "      <th>3</th>\n",
              "      <td>10</td>\n",
              "      <td>CGMN</td>\n",
              "      <td>2010-01-01</td>\n",
              "      <td>03:00</td>\n",
              "      <td>-999.0</td>\n",
              "      <td>-999.0</td>\n",
              "      <td>-999.0</td>\n",
              "      <td>-999.0</td>\n",
              "    </tr>\n",
              "    <tr>\n",
              "      <th>4</th>\n",
              "      <td>10</td>\n",
              "      <td>CGMN</td>\n",
              "      <td>2010-01-01</td>\n",
              "      <td>04:00</td>\n",
              "      <td>-999.0</td>\n",
              "      <td>-999.0</td>\n",
              "      <td>-999.0</td>\n",
              "      <td>-999.0</td>\n",
              "    </tr>\n",
              "  </tbody>\n",
              "</table>\n",
              "</div>"
            ],
            "text/plain": [
              "  Key  code        date   time  rain1h  temp_out  press  humid\n",
              "0  10  CGMN  2010-01-01  00:00  -999.0    -999.0 -999.0 -999.0\n",
              "1  10  CGMN  2010-01-01  01:00  -999.0    -999.0 -999.0 -999.0\n",
              "2  10  CGMN  2010-01-01  02:00  -999.0    -999.0 -999.0 -999.0\n",
              "3  10  CGMN  2010-01-01  03:00  -999.0    -999.0 -999.0 -999.0\n",
              "4  10  CGMN  2010-01-01  04:00  -999.0    -999.0 -999.0 -999.0"
            ]
          },
          "metadata": {
            "tags": []
          },
          "execution_count": 16
        }
      ]
    },
    {
      "cell_type": "code",
      "metadata": {
        "id": "9GXDJRC9rg_6"
      },
      "source": [
        "def insertkey_forest(df):\n",
        "  # insert column key in nf_df for merge data\n",
        "  nf_10 = df[df['Year'] == '2010']\n",
        "  nf_10.insert(0, \"Key\", \"10\")\n",
        "  nf_11 = df[df['Year'] == '2011']\n",
        "  nf_11.insert(0, \"Key\", \"11\")\n",
        "  nf_12 = df[df['Year'] == '2012']\n",
        "  nf_12.insert(0, \"Key\", \"12\")\n",
        "  nf_13 = df[df['Year'] == '2013']\n",
        "  nf_13.insert(0, \"Key\", \"13\")\n",
        "  nf_14 = df[df['Year'] == '2014']\n",
        "  nf_14.insert(0, \"Key\", \"14\")\n",
        "  nf_15 = df[df['Year'] == '2015']\n",
        "  nf_15.insert(0, \"Key\", \"15\")\n",
        "  nf_16 = df[df['Year'] == '2016']\n",
        "  nf_16.insert(0, \"Key\", \"16\")\n",
        "  nf_17 = df[df['Year'] == '2017']\n",
        "  nf_17.insert(0, \"Key\", \"17\")\n",
        "  nf_18 = df[df['Year'] == '2018']\n",
        "  nf_18.insert(0, \"Key\", \"18\")\n",
        "  nf_19 = df[df['Year'] == '2019']\n",
        "  nf_19.insert(0, \"Key\", \"19\")\n",
        "  nf_20 = df[df['Year'] == '2020']\n",
        "  nf_20.insert(0, \"Key\", \"20\")\n",
        "  df = pd.concat([nf_10, nf_11, nf_12, nf_13, nf_14, nf_15, nf_16, nf_17, nf_18, nf_19, nf_20], sort=False)\n",
        "  return df"
      ],
      "execution_count": 17,
      "outputs": []
    },
    {
      "cell_type": "code",
      "metadata": {
        "id": "Fic66Pofngm4"
      },
      "source": [
        "def prepare_forestdata(forest_df):\n",
        "  nf_df = forest_df[forest_df['Province'] == 'ตอนบน']\n",
        "  mf_df = forest_df[forest_df['Province'] == 'ตอนกลาง']\n",
        "  sf_df = forest_df[forest_df['Province'] == 'ตอนล่าง']\n",
        "  nf_df = nf_df.astype(str)\n",
        "  mf_df = mf_df.astype(str)\n",
        "  sf_df = sf_df.astype(str)\n",
        "  nf_df = insertkey_forest(nf_df)\n",
        "  mf_df = insertkey_forest(mf_df)\n",
        "  sf_df = insertkey_forest(sf_df)\n",
        "  return nf_df, mf_df, sf_df\n"
      ],
      "execution_count": 18,
      "outputs": []
    },
    {
      "cell_type": "code",
      "metadata": {
        "id": "LBrMNUwJsg8c"
      },
      "source": [
        "def combine_with_forest(north_df, nf_df, mid_df, mf_df, south_df, sf_df):\n",
        "  data_north = pd.merge(north_df, nf_df, on=\"Key\", how=\"outer\")\n",
        "  data_mid = pd.merge(mid_df, mf_df, on=\"Key\", how=\"outer\")\n",
        "  data_south = pd.merge(south_df, sf_df, on=\"Key\", how=\"outer\")\n",
        "  return data_north, data_mid, data_south"
      ],
      "execution_count": 19,
      "outputs": []
    },
    {
      "cell_type": "code",
      "metadata": {
        "id": "xBpLeU39pU2L"
      },
      "source": [
        "nf_df, mf_df, sf_df = prepare_forestdata(forest_df)"
      ],
      "execution_count": 20,
      "outputs": []
    },
    {
      "cell_type": "code",
      "metadata": {
        "id": "aznwfkmhszn0"
      },
      "source": [
        "north_df, mid_df, south_df = combine_with_forest(north_df, nf_df, mid_df, mf_df, south_df, sf_df)"
      ],
      "execution_count": 21,
      "outputs": []
    },
    {
      "cell_type": "code",
      "metadata": {
        "id": "dfHLn_GHHIq1"
      },
      "source": [
        "#mid_df"
      ],
      "execution_count": 22,
      "outputs": []
    },
    {
      "cell_type": "markdown",
      "metadata": {
        "id": "sAARoO3FArt0"
      },
      "source": [
        "\n",
        "\n",
        "##Data Cleansing\n",
        "\n"
      ]
    },
    {
      "cell_type": "code",
      "metadata": {
        "colab": {
          "base_uri": "https://localhost:8080/",
          "height": 0
        },
        "id": "ZUWPVIgq-mE-",
        "outputId": "1530beb6-9ca6-440b-f204-fcc87ad5e753"
      },
      "source": [
        "#overview data\n",
        "print(\"สถานีทต.เชียงม่วน\")\n",
        "display(north_df)\n",
        "print(\"\\n\\nสถานีอบต.วังชิ้น\")\n",
        "display(mid_df)\n",
        "print(\"\\n\\nสถานีโรงฆ่าสัตว์ ทม.สวรรคโลก\")\n",
        "display(south_df)"
      ],
      "execution_count": 23,
      "outputs": [
        {
          "output_type": "stream",
          "text": [
            "สถานีทต.เชียงม่วน\n"
          ],
          "name": "stdout"
        },
        {
          "output_type": "display_data",
          "data": {
            "text/html": [
              "<div>\n",
              "<style scoped>\n",
              "    .dataframe tbody tr th:only-of-type {\n",
              "        vertical-align: middle;\n",
              "    }\n",
              "\n",
              "    .dataframe tbody tr th {\n",
              "        vertical-align: top;\n",
              "    }\n",
              "\n",
              "    .dataframe thead th {\n",
              "        text-align: right;\n",
              "    }\n",
              "</style>\n",
              "<table border=\"1\" class=\"dataframe\">\n",
              "  <thead>\n",
              "    <tr style=\"text-align: right;\">\n",
              "      <th></th>\n",
              "      <th>Key</th>\n",
              "      <th>code</th>\n",
              "      <th>date</th>\n",
              "      <th>time</th>\n",
              "      <th>rain1h</th>\n",
              "      <th>temp_out</th>\n",
              "      <th>press</th>\n",
              "      <th>humid</th>\n",
              "      <th>Year</th>\n",
              "      <th>Province</th>\n",
              "      <th>Province_Area</th>\n",
              "      <th>Forest_Area</th>\n",
              "      <th>Percent_of_Province_Area</th>\n",
              "      <th>Non_Forest_Area</th>\n",
              "    </tr>\n",
              "  </thead>\n",
              "  <tbody>\n",
              "    <tr>\n",
              "      <th>0</th>\n",
              "      <td>10</td>\n",
              "      <td>CGMN</td>\n",
              "      <td>2010-01-01</td>\n",
              "      <td>00:00</td>\n",
              "      <td>-999.0</td>\n",
              "      <td>-999.0</td>\n",
              "      <td>-999.0</td>\n",
              "      <td>-999.0</td>\n",
              "      <td>NaN</td>\n",
              "      <td>NaN</td>\n",
              "      <td>NaN</td>\n",
              "      <td>NaN</td>\n",
              "      <td>NaN</td>\n",
              "      <td>NaN</td>\n",
              "    </tr>\n",
              "    <tr>\n",
              "      <th>1</th>\n",
              "      <td>10</td>\n",
              "      <td>CGMN</td>\n",
              "      <td>2010-01-01</td>\n",
              "      <td>01:00</td>\n",
              "      <td>-999.0</td>\n",
              "      <td>-999.0</td>\n",
              "      <td>-999.0</td>\n",
              "      <td>-999.0</td>\n",
              "      <td>NaN</td>\n",
              "      <td>NaN</td>\n",
              "      <td>NaN</td>\n",
              "      <td>NaN</td>\n",
              "      <td>NaN</td>\n",
              "      <td>NaN</td>\n",
              "    </tr>\n",
              "    <tr>\n",
              "      <th>2</th>\n",
              "      <td>10</td>\n",
              "      <td>CGMN</td>\n",
              "      <td>2010-01-01</td>\n",
              "      <td>02:00</td>\n",
              "      <td>-999.0</td>\n",
              "      <td>-999.0</td>\n",
              "      <td>-999.0</td>\n",
              "      <td>-999.0</td>\n",
              "      <td>NaN</td>\n",
              "      <td>NaN</td>\n",
              "      <td>NaN</td>\n",
              "      <td>NaN</td>\n",
              "      <td>NaN</td>\n",
              "      <td>NaN</td>\n",
              "    </tr>\n",
              "    <tr>\n",
              "      <th>3</th>\n",
              "      <td>10</td>\n",
              "      <td>CGMN</td>\n",
              "      <td>2010-01-01</td>\n",
              "      <td>03:00</td>\n",
              "      <td>-999.0</td>\n",
              "      <td>-999.0</td>\n",
              "      <td>-999.0</td>\n",
              "      <td>-999.0</td>\n",
              "      <td>NaN</td>\n",
              "      <td>NaN</td>\n",
              "      <td>NaN</td>\n",
              "      <td>NaN</td>\n",
              "      <td>NaN</td>\n",
              "      <td>NaN</td>\n",
              "    </tr>\n",
              "    <tr>\n",
              "      <th>4</th>\n",
              "      <td>10</td>\n",
              "      <td>CGMN</td>\n",
              "      <td>2010-01-01</td>\n",
              "      <td>04:00</td>\n",
              "      <td>-999.0</td>\n",
              "      <td>-999.0</td>\n",
              "      <td>-999.0</td>\n",
              "      <td>-999.0</td>\n",
              "      <td>NaN</td>\n",
              "      <td>NaN</td>\n",
              "      <td>NaN</td>\n",
              "      <td>NaN</td>\n",
              "      <td>NaN</td>\n",
              "      <td>NaN</td>\n",
              "    </tr>\n",
              "    <tr>\n",
              "      <th>...</th>\n",
              "      <td>...</td>\n",
              "      <td>...</td>\n",
              "      <td>...</td>\n",
              "      <td>...</td>\n",
              "      <td>...</td>\n",
              "      <td>...</td>\n",
              "      <td>...</td>\n",
              "      <td>...</td>\n",
              "      <td>...</td>\n",
              "      <td>...</td>\n",
              "      <td>...</td>\n",
              "      <td>...</td>\n",
              "      <td>...</td>\n",
              "      <td>...</td>\n",
              "    </tr>\n",
              "    <tr>\n",
              "      <th>96427</th>\n",
              "      <td>20</td>\n",
              "      <td>CGMN</td>\n",
              "      <td>2020-12-31</td>\n",
              "      <td>19:00</td>\n",
              "      <td>0.0</td>\n",
              "      <td>24.8</td>\n",
              "      <td>981.8</td>\n",
              "      <td>61.4</td>\n",
              "      <td>NaN</td>\n",
              "      <td>NaN</td>\n",
              "      <td>NaN</td>\n",
              "      <td>NaN</td>\n",
              "      <td>NaN</td>\n",
              "      <td>NaN</td>\n",
              "    </tr>\n",
              "    <tr>\n",
              "      <th>96428</th>\n",
              "      <td>20</td>\n",
              "      <td>CGMN</td>\n",
              "      <td>2020-12-31</td>\n",
              "      <td>20:00</td>\n",
              "      <td>0.0</td>\n",
              "      <td>23.8</td>\n",
              "      <td>982.7</td>\n",
              "      <td>64.0</td>\n",
              "      <td>NaN</td>\n",
              "      <td>NaN</td>\n",
              "      <td>NaN</td>\n",
              "      <td>NaN</td>\n",
              "      <td>NaN</td>\n",
              "      <td>NaN</td>\n",
              "    </tr>\n",
              "    <tr>\n",
              "      <th>96429</th>\n",
              "      <td>20</td>\n",
              "      <td>CGMN</td>\n",
              "      <td>2020-12-31</td>\n",
              "      <td>21:00</td>\n",
              "      <td>0.0</td>\n",
              "      <td>23.2</td>\n",
              "      <td>983.6</td>\n",
              "      <td>63.5</td>\n",
              "      <td>NaN</td>\n",
              "      <td>NaN</td>\n",
              "      <td>NaN</td>\n",
              "      <td>NaN</td>\n",
              "      <td>NaN</td>\n",
              "      <td>NaN</td>\n",
              "    </tr>\n",
              "    <tr>\n",
              "      <th>96430</th>\n",
              "      <td>20</td>\n",
              "      <td>CGMN</td>\n",
              "      <td>2020-12-31</td>\n",
              "      <td>22:00</td>\n",
              "      <td>0.0</td>\n",
              "      <td>22.7</td>\n",
              "      <td>983.9</td>\n",
              "      <td>64.9</td>\n",
              "      <td>NaN</td>\n",
              "      <td>NaN</td>\n",
              "      <td>NaN</td>\n",
              "      <td>NaN</td>\n",
              "      <td>NaN</td>\n",
              "      <td>NaN</td>\n",
              "    </tr>\n",
              "    <tr>\n",
              "      <th>96431</th>\n",
              "      <td>20</td>\n",
              "      <td>CGMN</td>\n",
              "      <td>2020-12-31</td>\n",
              "      <td>23:00</td>\n",
              "      <td>0.0</td>\n",
              "      <td>22.3</td>\n",
              "      <td>984.0</td>\n",
              "      <td>65.9</td>\n",
              "      <td>NaN</td>\n",
              "      <td>NaN</td>\n",
              "      <td>NaN</td>\n",
              "      <td>NaN</td>\n",
              "      <td>NaN</td>\n",
              "      <td>NaN</td>\n",
              "    </tr>\n",
              "  </tbody>\n",
              "</table>\n",
              "<p>96432 rows × 14 columns</p>\n",
              "</div>"
            ],
            "text/plain": [
              "      Key  code  ... Percent_of_Province_Area Non_Forest_Area\n",
              "0      10  CGMN  ...                      NaN             NaN\n",
              "1      10  CGMN  ...                      NaN             NaN\n",
              "2      10  CGMN  ...                      NaN             NaN\n",
              "3      10  CGMN  ...                      NaN             NaN\n",
              "4      10  CGMN  ...                      NaN             NaN\n",
              "...    ..   ...  ...                      ...             ...\n",
              "96427  20  CGMN  ...                      NaN             NaN\n",
              "96428  20  CGMN  ...                      NaN             NaN\n",
              "96429  20  CGMN  ...                      NaN             NaN\n",
              "96430  20  CGMN  ...                      NaN             NaN\n",
              "96431  20  CGMN  ...                      NaN             NaN\n",
              "\n",
              "[96432 rows x 14 columns]"
            ]
          },
          "metadata": {
            "tags": []
          }
        },
        {
          "output_type": "stream",
          "text": [
            "\n",
            "\n",
            "สถานีอบต.วังชิ้น\n"
          ],
          "name": "stdout"
        },
        {
          "output_type": "display_data",
          "data": {
            "text/html": [
              "<div>\n",
              "<style scoped>\n",
              "    .dataframe tbody tr th:only-of-type {\n",
              "        vertical-align: middle;\n",
              "    }\n",
              "\n",
              "    .dataframe tbody tr th {\n",
              "        vertical-align: top;\n",
              "    }\n",
              "\n",
              "    .dataframe thead th {\n",
              "        text-align: right;\n",
              "    }\n",
              "</style>\n",
              "<table border=\"1\" class=\"dataframe\">\n",
              "  <thead>\n",
              "    <tr style=\"text-align: right;\">\n",
              "      <th></th>\n",
              "      <th>Key</th>\n",
              "      <th>code</th>\n",
              "      <th>date</th>\n",
              "      <th>time</th>\n",
              "      <th>rain1h</th>\n",
              "      <th>temp_out</th>\n",
              "      <th>press</th>\n",
              "      <th>humid</th>\n",
              "      <th>Year</th>\n",
              "      <th>Province</th>\n",
              "      <th>Province_Area</th>\n",
              "      <th>Forest_Area</th>\n",
              "      <th>Percent_of_Province_Area</th>\n",
              "      <th>Non_Forest_Area</th>\n",
              "    </tr>\n",
              "  </thead>\n",
              "  <tbody>\n",
              "    <tr>\n",
              "      <th>0</th>\n",
              "      <td>10</td>\n",
              "      <td>WCHN</td>\n",
              "      <td>2010-01-01</td>\n",
              "      <td>00:00</td>\n",
              "      <td>-999.0</td>\n",
              "      <td>-999.0</td>\n",
              "      <td>-999.0</td>\n",
              "      <td>-999.0</td>\n",
              "      <td>NaN</td>\n",
              "      <td>NaN</td>\n",
              "      <td>NaN</td>\n",
              "      <td>NaN</td>\n",
              "      <td>NaN</td>\n",
              "      <td>NaN</td>\n",
              "    </tr>\n",
              "    <tr>\n",
              "      <th>1</th>\n",
              "      <td>10</td>\n",
              "      <td>WCHN</td>\n",
              "      <td>2010-01-01</td>\n",
              "      <td>01:00</td>\n",
              "      <td>-999.0</td>\n",
              "      <td>-999.0</td>\n",
              "      <td>-999.0</td>\n",
              "      <td>-999.0</td>\n",
              "      <td>NaN</td>\n",
              "      <td>NaN</td>\n",
              "      <td>NaN</td>\n",
              "      <td>NaN</td>\n",
              "      <td>NaN</td>\n",
              "      <td>NaN</td>\n",
              "    </tr>\n",
              "    <tr>\n",
              "      <th>2</th>\n",
              "      <td>10</td>\n",
              "      <td>WCHN</td>\n",
              "      <td>2010-01-01</td>\n",
              "      <td>02:00</td>\n",
              "      <td>-999.0</td>\n",
              "      <td>-999.0</td>\n",
              "      <td>-999.0</td>\n",
              "      <td>-999.0</td>\n",
              "      <td>NaN</td>\n",
              "      <td>NaN</td>\n",
              "      <td>NaN</td>\n",
              "      <td>NaN</td>\n",
              "      <td>NaN</td>\n",
              "      <td>NaN</td>\n",
              "    </tr>\n",
              "    <tr>\n",
              "      <th>3</th>\n",
              "      <td>10</td>\n",
              "      <td>WCHN</td>\n",
              "      <td>2010-01-01</td>\n",
              "      <td>03:00</td>\n",
              "      <td>-999.0</td>\n",
              "      <td>-999.0</td>\n",
              "      <td>-999.0</td>\n",
              "      <td>-999.0</td>\n",
              "      <td>NaN</td>\n",
              "      <td>NaN</td>\n",
              "      <td>NaN</td>\n",
              "      <td>NaN</td>\n",
              "      <td>NaN</td>\n",
              "      <td>NaN</td>\n",
              "    </tr>\n",
              "    <tr>\n",
              "      <th>4</th>\n",
              "      <td>10</td>\n",
              "      <td>WCHN</td>\n",
              "      <td>2010-01-01</td>\n",
              "      <td>04:00</td>\n",
              "      <td>-999.0</td>\n",
              "      <td>-999.0</td>\n",
              "      <td>-999.0</td>\n",
              "      <td>-999.0</td>\n",
              "      <td>NaN</td>\n",
              "      <td>NaN</td>\n",
              "      <td>NaN</td>\n",
              "      <td>NaN</td>\n",
              "      <td>NaN</td>\n",
              "      <td>NaN</td>\n",
              "    </tr>\n",
              "    <tr>\n",
              "      <th>...</th>\n",
              "      <td>...</td>\n",
              "      <td>...</td>\n",
              "      <td>...</td>\n",
              "      <td>...</td>\n",
              "      <td>...</td>\n",
              "      <td>...</td>\n",
              "      <td>...</td>\n",
              "      <td>...</td>\n",
              "      <td>...</td>\n",
              "      <td>...</td>\n",
              "      <td>...</td>\n",
              "      <td>...</td>\n",
              "      <td>...</td>\n",
              "      <td>...</td>\n",
              "    </tr>\n",
              "    <tr>\n",
              "      <th>96427</th>\n",
              "      <td>20</td>\n",
              "      <td>WCHN</td>\n",
              "      <td>2020-12-31</td>\n",
              "      <td>19:00</td>\n",
              "      <td>0.0</td>\n",
              "      <td>22.8</td>\n",
              "      <td>998.5</td>\n",
              "      <td>81.9</td>\n",
              "      <td>NaN</td>\n",
              "      <td>NaN</td>\n",
              "      <td>NaN</td>\n",
              "      <td>NaN</td>\n",
              "      <td>NaN</td>\n",
              "      <td>NaN</td>\n",
              "    </tr>\n",
              "    <tr>\n",
              "      <th>96428</th>\n",
              "      <td>20</td>\n",
              "      <td>WCHN</td>\n",
              "      <td>2020-12-31</td>\n",
              "      <td>20:00</td>\n",
              "      <td>0.0</td>\n",
              "      <td>21.3</td>\n",
              "      <td>999.6</td>\n",
              "      <td>86.4</td>\n",
              "      <td>NaN</td>\n",
              "      <td>NaN</td>\n",
              "      <td>NaN</td>\n",
              "      <td>NaN</td>\n",
              "      <td>NaN</td>\n",
              "      <td>NaN</td>\n",
              "    </tr>\n",
              "    <tr>\n",
              "      <th>96429</th>\n",
              "      <td>20</td>\n",
              "      <td>WCHN</td>\n",
              "      <td>2020-12-31</td>\n",
              "      <td>21:00</td>\n",
              "      <td>0.0</td>\n",
              "      <td>19.8</td>\n",
              "      <td>1000.3</td>\n",
              "      <td>89.5</td>\n",
              "      <td>NaN</td>\n",
              "      <td>NaN</td>\n",
              "      <td>NaN</td>\n",
              "      <td>NaN</td>\n",
              "      <td>NaN</td>\n",
              "      <td>NaN</td>\n",
              "    </tr>\n",
              "    <tr>\n",
              "      <th>96430</th>\n",
              "      <td>20</td>\n",
              "      <td>WCHN</td>\n",
              "      <td>2020-12-31</td>\n",
              "      <td>22:00</td>\n",
              "      <td>0.0</td>\n",
              "      <td>18.6</td>\n",
              "      <td>1000.8</td>\n",
              "      <td>93.0</td>\n",
              "      <td>NaN</td>\n",
              "      <td>NaN</td>\n",
              "      <td>NaN</td>\n",
              "      <td>NaN</td>\n",
              "      <td>NaN</td>\n",
              "      <td>NaN</td>\n",
              "    </tr>\n",
              "    <tr>\n",
              "      <th>96431</th>\n",
              "      <td>20</td>\n",
              "      <td>WCHN</td>\n",
              "      <td>2020-12-31</td>\n",
              "      <td>23:00</td>\n",
              "      <td>0.0</td>\n",
              "      <td>17.5</td>\n",
              "      <td>1001.3</td>\n",
              "      <td>93.6</td>\n",
              "      <td>NaN</td>\n",
              "      <td>NaN</td>\n",
              "      <td>NaN</td>\n",
              "      <td>NaN</td>\n",
              "      <td>NaN</td>\n",
              "      <td>NaN</td>\n",
              "    </tr>\n",
              "  </tbody>\n",
              "</table>\n",
              "<p>96432 rows × 14 columns</p>\n",
              "</div>"
            ],
            "text/plain": [
              "      Key  code  ... Percent_of_Province_Area Non_Forest_Area\n",
              "0      10  WCHN  ...                      NaN             NaN\n",
              "1      10  WCHN  ...                      NaN             NaN\n",
              "2      10  WCHN  ...                      NaN             NaN\n",
              "3      10  WCHN  ...                      NaN             NaN\n",
              "4      10  WCHN  ...                      NaN             NaN\n",
              "...    ..   ...  ...                      ...             ...\n",
              "96427  20  WCHN  ...                      NaN             NaN\n",
              "96428  20  WCHN  ...                      NaN             NaN\n",
              "96429  20  WCHN  ...                      NaN             NaN\n",
              "96430  20  WCHN  ...                      NaN             NaN\n",
              "96431  20  WCHN  ...                      NaN             NaN\n",
              "\n",
              "[96432 rows x 14 columns]"
            ]
          },
          "metadata": {
            "tags": []
          }
        },
        {
          "output_type": "stream",
          "text": [
            "\n",
            "\n",
            "สถานีโรงฆ่าสัตว์ ทม.สวรรคโลก\n"
          ],
          "name": "stdout"
        },
        {
          "output_type": "display_data",
          "data": {
            "text/html": [
              "<div>\n",
              "<style scoped>\n",
              "    .dataframe tbody tr th:only-of-type {\n",
              "        vertical-align: middle;\n",
              "    }\n",
              "\n",
              "    .dataframe tbody tr th {\n",
              "        vertical-align: top;\n",
              "    }\n",
              "\n",
              "    .dataframe thead th {\n",
              "        text-align: right;\n",
              "    }\n",
              "</style>\n",
              "<table border=\"1\" class=\"dataframe\">\n",
              "  <thead>\n",
              "    <tr style=\"text-align: right;\">\n",
              "      <th></th>\n",
              "      <th>Key</th>\n",
              "      <th>code</th>\n",
              "      <th>date</th>\n",
              "      <th>time</th>\n",
              "      <th>rain1h</th>\n",
              "      <th>temp_out</th>\n",
              "      <th>press</th>\n",
              "      <th>humid</th>\n",
              "      <th>Year</th>\n",
              "      <th>Province</th>\n",
              "      <th>Province_Area</th>\n",
              "      <th>Forest_Area</th>\n",
              "      <th>Percent_of_Province_Area</th>\n",
              "      <th>Non_Forest_Area</th>\n",
              "    </tr>\n",
              "  </thead>\n",
              "  <tbody>\n",
              "    <tr>\n",
              "      <th>0</th>\n",
              "      <td>10</td>\n",
              "      <td>SWKL</td>\n",
              "      <td>2010-01-01</td>\n",
              "      <td>00:00</td>\n",
              "      <td>-999.0</td>\n",
              "      <td>-999.0</td>\n",
              "      <td>-999.0</td>\n",
              "      <td>-999.0</td>\n",
              "      <td>NaN</td>\n",
              "      <td>NaN</td>\n",
              "      <td>NaN</td>\n",
              "      <td>NaN</td>\n",
              "      <td>NaN</td>\n",
              "      <td>NaN</td>\n",
              "    </tr>\n",
              "    <tr>\n",
              "      <th>1</th>\n",
              "      <td>10</td>\n",
              "      <td>SWKL</td>\n",
              "      <td>2010-01-01</td>\n",
              "      <td>01:00</td>\n",
              "      <td>-999.0</td>\n",
              "      <td>-999.0</td>\n",
              "      <td>-999.0</td>\n",
              "      <td>-999.0</td>\n",
              "      <td>NaN</td>\n",
              "      <td>NaN</td>\n",
              "      <td>NaN</td>\n",
              "      <td>NaN</td>\n",
              "      <td>NaN</td>\n",
              "      <td>NaN</td>\n",
              "    </tr>\n",
              "    <tr>\n",
              "      <th>2</th>\n",
              "      <td>10</td>\n",
              "      <td>SWKL</td>\n",
              "      <td>2010-01-01</td>\n",
              "      <td>02:00</td>\n",
              "      <td>-999.0</td>\n",
              "      <td>-999.0</td>\n",
              "      <td>-999.0</td>\n",
              "      <td>-999.0</td>\n",
              "      <td>NaN</td>\n",
              "      <td>NaN</td>\n",
              "      <td>NaN</td>\n",
              "      <td>NaN</td>\n",
              "      <td>NaN</td>\n",
              "      <td>NaN</td>\n",
              "    </tr>\n",
              "    <tr>\n",
              "      <th>3</th>\n",
              "      <td>10</td>\n",
              "      <td>SWKL</td>\n",
              "      <td>2010-01-01</td>\n",
              "      <td>03:00</td>\n",
              "      <td>-999.0</td>\n",
              "      <td>-999.0</td>\n",
              "      <td>-999.0</td>\n",
              "      <td>-999.0</td>\n",
              "      <td>NaN</td>\n",
              "      <td>NaN</td>\n",
              "      <td>NaN</td>\n",
              "      <td>NaN</td>\n",
              "      <td>NaN</td>\n",
              "      <td>NaN</td>\n",
              "    </tr>\n",
              "    <tr>\n",
              "      <th>4</th>\n",
              "      <td>10</td>\n",
              "      <td>SWKL</td>\n",
              "      <td>2010-01-01</td>\n",
              "      <td>04:00</td>\n",
              "      <td>-999.0</td>\n",
              "      <td>-999.0</td>\n",
              "      <td>-999.0</td>\n",
              "      <td>-999.0</td>\n",
              "      <td>NaN</td>\n",
              "      <td>NaN</td>\n",
              "      <td>NaN</td>\n",
              "      <td>NaN</td>\n",
              "      <td>NaN</td>\n",
              "      <td>NaN</td>\n",
              "    </tr>\n",
              "    <tr>\n",
              "      <th>...</th>\n",
              "      <td>...</td>\n",
              "      <td>...</td>\n",
              "      <td>...</td>\n",
              "      <td>...</td>\n",
              "      <td>...</td>\n",
              "      <td>...</td>\n",
              "      <td>...</td>\n",
              "      <td>...</td>\n",
              "      <td>...</td>\n",
              "      <td>...</td>\n",
              "      <td>...</td>\n",
              "      <td>...</td>\n",
              "      <td>...</td>\n",
              "      <td>...</td>\n",
              "    </tr>\n",
              "    <tr>\n",
              "      <th>96427</th>\n",
              "      <td>20</td>\n",
              "      <td>SWKL</td>\n",
              "      <td>2020-12-31</td>\n",
              "      <td>19:00</td>\n",
              "      <td>0.0</td>\n",
              "      <td>22.8</td>\n",
              "      <td>1008.1</td>\n",
              "      <td>61.3</td>\n",
              "      <td>NaN</td>\n",
              "      <td>NaN</td>\n",
              "      <td>NaN</td>\n",
              "      <td>NaN</td>\n",
              "      <td>NaN</td>\n",
              "      <td>NaN</td>\n",
              "    </tr>\n",
              "    <tr>\n",
              "      <th>96428</th>\n",
              "      <td>20</td>\n",
              "      <td>SWKL</td>\n",
              "      <td>2020-12-31</td>\n",
              "      <td>20:00</td>\n",
              "      <td>0.0</td>\n",
              "      <td>22.7</td>\n",
              "      <td>1009.2</td>\n",
              "      <td>61.8</td>\n",
              "      <td>NaN</td>\n",
              "      <td>NaN</td>\n",
              "      <td>NaN</td>\n",
              "      <td>NaN</td>\n",
              "      <td>NaN</td>\n",
              "      <td>NaN</td>\n",
              "    </tr>\n",
              "    <tr>\n",
              "      <th>96429</th>\n",
              "      <td>20</td>\n",
              "      <td>SWKL</td>\n",
              "      <td>2020-12-31</td>\n",
              "      <td>21:00</td>\n",
              "      <td>0.0</td>\n",
              "      <td>21.1</td>\n",
              "      <td>1010.1</td>\n",
              "      <td>66.0</td>\n",
              "      <td>NaN</td>\n",
              "      <td>NaN</td>\n",
              "      <td>NaN</td>\n",
              "      <td>NaN</td>\n",
              "      <td>NaN</td>\n",
              "      <td>NaN</td>\n",
              "    </tr>\n",
              "    <tr>\n",
              "      <th>96430</th>\n",
              "      <td>20</td>\n",
              "      <td>SWKL</td>\n",
              "      <td>2020-12-31</td>\n",
              "      <td>22:00</td>\n",
              "      <td>0.0</td>\n",
              "      <td>19.8</td>\n",
              "      <td>1010.7</td>\n",
              "      <td>70.2</td>\n",
              "      <td>NaN</td>\n",
              "      <td>NaN</td>\n",
              "      <td>NaN</td>\n",
              "      <td>NaN</td>\n",
              "      <td>NaN</td>\n",
              "      <td>NaN</td>\n",
              "    </tr>\n",
              "    <tr>\n",
              "      <th>96431</th>\n",
              "      <td>20</td>\n",
              "      <td>SWKL</td>\n",
              "      <td>2020-12-31</td>\n",
              "      <td>23:00</td>\n",
              "      <td>0.0</td>\n",
              "      <td>19.3</td>\n",
              "      <td>1010.8</td>\n",
              "      <td>70.6</td>\n",
              "      <td>NaN</td>\n",
              "      <td>NaN</td>\n",
              "      <td>NaN</td>\n",
              "      <td>NaN</td>\n",
              "      <td>NaN</td>\n",
              "      <td>NaN</td>\n",
              "    </tr>\n",
              "  </tbody>\n",
              "</table>\n",
              "<p>96432 rows × 14 columns</p>\n",
              "</div>"
            ],
            "text/plain": [
              "      Key  code  ... Percent_of_Province_Area Non_Forest_Area\n",
              "0      10  SWKL  ...                      NaN             NaN\n",
              "1      10  SWKL  ...                      NaN             NaN\n",
              "2      10  SWKL  ...                      NaN             NaN\n",
              "3      10  SWKL  ...                      NaN             NaN\n",
              "4      10  SWKL  ...                      NaN             NaN\n",
              "...    ..   ...  ...                      ...             ...\n",
              "96427  20  SWKL  ...                      NaN             NaN\n",
              "96428  20  SWKL  ...                      NaN             NaN\n",
              "96429  20  SWKL  ...                      NaN             NaN\n",
              "96430  20  SWKL  ...                      NaN             NaN\n",
              "96431  20  SWKL  ...                      NaN             NaN\n",
              "\n",
              "[96432 rows x 14 columns]"
            ]
          },
          "metadata": {
            "tags": []
          }
        }
      ]
    },
    {
      "cell_type": "markdown",
      "metadata": {
        "id": "2a8WP3AfKwuO"
      },
      "source": [
        "### Unnecessary data\n",
        "<br>Drop column Province and Year because we don't have to use it anymore"
      ]
    },
    {
      "cell_type": "code",
      "metadata": {
        "id": "7IMfPSCdaHZH"
      },
      "source": [
        "def drop_column(df, column):\n",
        "  df = df.drop(columns = column, axis = 1)\n",
        "  return df"
      ],
      "execution_count": 24,
      "outputs": []
    },
    {
      "cell_type": "code",
      "metadata": {
        "id": "I7fomcd3adjD",
        "colab": {
          "base_uri": "https://localhost:8080/",
          "height": 0
        },
        "outputId": "e27160b2-545b-42c0-e141-d63e8960fab8"
      },
      "source": [
        "north_df = drop_column(north_df, ['Province','Year'])\n",
        "north_df.head()"
      ],
      "execution_count": 25,
      "outputs": [
        {
          "output_type": "execute_result",
          "data": {
            "text/html": [
              "<div>\n",
              "<style scoped>\n",
              "    .dataframe tbody tr th:only-of-type {\n",
              "        vertical-align: middle;\n",
              "    }\n",
              "\n",
              "    .dataframe tbody tr th {\n",
              "        vertical-align: top;\n",
              "    }\n",
              "\n",
              "    .dataframe thead th {\n",
              "        text-align: right;\n",
              "    }\n",
              "</style>\n",
              "<table border=\"1\" class=\"dataframe\">\n",
              "  <thead>\n",
              "    <tr style=\"text-align: right;\">\n",
              "      <th></th>\n",
              "      <th>Key</th>\n",
              "      <th>code</th>\n",
              "      <th>date</th>\n",
              "      <th>time</th>\n",
              "      <th>rain1h</th>\n",
              "      <th>temp_out</th>\n",
              "      <th>press</th>\n",
              "      <th>humid</th>\n",
              "      <th>Province_Area</th>\n",
              "      <th>Forest_Area</th>\n",
              "      <th>Percent_of_Province_Area</th>\n",
              "      <th>Non_Forest_Area</th>\n",
              "    </tr>\n",
              "  </thead>\n",
              "  <tbody>\n",
              "    <tr>\n",
              "      <th>0</th>\n",
              "      <td>10</td>\n",
              "      <td>CGMN</td>\n",
              "      <td>2010-01-01</td>\n",
              "      <td>00:00</td>\n",
              "      <td>-999.0</td>\n",
              "      <td>-999.0</td>\n",
              "      <td>-999.0</td>\n",
              "      <td>-999.0</td>\n",
              "      <td>NaN</td>\n",
              "      <td>NaN</td>\n",
              "      <td>NaN</td>\n",
              "      <td>NaN</td>\n",
              "    </tr>\n",
              "    <tr>\n",
              "      <th>1</th>\n",
              "      <td>10</td>\n",
              "      <td>CGMN</td>\n",
              "      <td>2010-01-01</td>\n",
              "      <td>01:00</td>\n",
              "      <td>-999.0</td>\n",
              "      <td>-999.0</td>\n",
              "      <td>-999.0</td>\n",
              "      <td>-999.0</td>\n",
              "      <td>NaN</td>\n",
              "      <td>NaN</td>\n",
              "      <td>NaN</td>\n",
              "      <td>NaN</td>\n",
              "    </tr>\n",
              "    <tr>\n",
              "      <th>2</th>\n",
              "      <td>10</td>\n",
              "      <td>CGMN</td>\n",
              "      <td>2010-01-01</td>\n",
              "      <td>02:00</td>\n",
              "      <td>-999.0</td>\n",
              "      <td>-999.0</td>\n",
              "      <td>-999.0</td>\n",
              "      <td>-999.0</td>\n",
              "      <td>NaN</td>\n",
              "      <td>NaN</td>\n",
              "      <td>NaN</td>\n",
              "      <td>NaN</td>\n",
              "    </tr>\n",
              "    <tr>\n",
              "      <th>3</th>\n",
              "      <td>10</td>\n",
              "      <td>CGMN</td>\n",
              "      <td>2010-01-01</td>\n",
              "      <td>03:00</td>\n",
              "      <td>-999.0</td>\n",
              "      <td>-999.0</td>\n",
              "      <td>-999.0</td>\n",
              "      <td>-999.0</td>\n",
              "      <td>NaN</td>\n",
              "      <td>NaN</td>\n",
              "      <td>NaN</td>\n",
              "      <td>NaN</td>\n",
              "    </tr>\n",
              "    <tr>\n",
              "      <th>4</th>\n",
              "      <td>10</td>\n",
              "      <td>CGMN</td>\n",
              "      <td>2010-01-01</td>\n",
              "      <td>04:00</td>\n",
              "      <td>-999.0</td>\n",
              "      <td>-999.0</td>\n",
              "      <td>-999.0</td>\n",
              "      <td>-999.0</td>\n",
              "      <td>NaN</td>\n",
              "      <td>NaN</td>\n",
              "      <td>NaN</td>\n",
              "      <td>NaN</td>\n",
              "    </tr>\n",
              "  </tbody>\n",
              "</table>\n",
              "</div>"
            ],
            "text/plain": [
              "  Key  code        date  ... Forest_Area  Percent_of_Province_Area  Non_Forest_Area\n",
              "0  10  CGMN  2010-01-01  ...         NaN                       NaN              NaN\n",
              "1  10  CGMN  2010-01-01  ...         NaN                       NaN              NaN\n",
              "2  10  CGMN  2010-01-01  ...         NaN                       NaN              NaN\n",
              "3  10  CGMN  2010-01-01  ...         NaN                       NaN              NaN\n",
              "4  10  CGMN  2010-01-01  ...         NaN                       NaN              NaN\n",
              "\n",
              "[5 rows x 12 columns]"
            ]
          },
          "metadata": {
            "tags": []
          },
          "execution_count": 25
        }
      ]
    },
    {
      "cell_type": "code",
      "metadata": {
        "colab": {
          "base_uri": "https://localhost:8080/",
          "height": 0
        },
        "id": "XEzdzuOiLi6Y",
        "outputId": "b9c47f2a-ae79-43c5-b89a-f1a565caeecd"
      },
      "source": [
        "mid_df = drop_column(mid_df, ['Province','Year'])\n",
        "mid_df.head()"
      ],
      "execution_count": 26,
      "outputs": [
        {
          "output_type": "execute_result",
          "data": {
            "text/html": [
              "<div>\n",
              "<style scoped>\n",
              "    .dataframe tbody tr th:only-of-type {\n",
              "        vertical-align: middle;\n",
              "    }\n",
              "\n",
              "    .dataframe tbody tr th {\n",
              "        vertical-align: top;\n",
              "    }\n",
              "\n",
              "    .dataframe thead th {\n",
              "        text-align: right;\n",
              "    }\n",
              "</style>\n",
              "<table border=\"1\" class=\"dataframe\">\n",
              "  <thead>\n",
              "    <tr style=\"text-align: right;\">\n",
              "      <th></th>\n",
              "      <th>Key</th>\n",
              "      <th>code</th>\n",
              "      <th>date</th>\n",
              "      <th>time</th>\n",
              "      <th>rain1h</th>\n",
              "      <th>temp_out</th>\n",
              "      <th>press</th>\n",
              "      <th>humid</th>\n",
              "      <th>Province_Area</th>\n",
              "      <th>Forest_Area</th>\n",
              "      <th>Percent_of_Province_Area</th>\n",
              "      <th>Non_Forest_Area</th>\n",
              "    </tr>\n",
              "  </thead>\n",
              "  <tbody>\n",
              "    <tr>\n",
              "      <th>0</th>\n",
              "      <td>10</td>\n",
              "      <td>WCHN</td>\n",
              "      <td>2010-01-01</td>\n",
              "      <td>00:00</td>\n",
              "      <td>-999.0</td>\n",
              "      <td>-999.0</td>\n",
              "      <td>-999.0</td>\n",
              "      <td>-999.0</td>\n",
              "      <td>NaN</td>\n",
              "      <td>NaN</td>\n",
              "      <td>NaN</td>\n",
              "      <td>NaN</td>\n",
              "    </tr>\n",
              "    <tr>\n",
              "      <th>1</th>\n",
              "      <td>10</td>\n",
              "      <td>WCHN</td>\n",
              "      <td>2010-01-01</td>\n",
              "      <td>01:00</td>\n",
              "      <td>-999.0</td>\n",
              "      <td>-999.0</td>\n",
              "      <td>-999.0</td>\n",
              "      <td>-999.0</td>\n",
              "      <td>NaN</td>\n",
              "      <td>NaN</td>\n",
              "      <td>NaN</td>\n",
              "      <td>NaN</td>\n",
              "    </tr>\n",
              "    <tr>\n",
              "      <th>2</th>\n",
              "      <td>10</td>\n",
              "      <td>WCHN</td>\n",
              "      <td>2010-01-01</td>\n",
              "      <td>02:00</td>\n",
              "      <td>-999.0</td>\n",
              "      <td>-999.0</td>\n",
              "      <td>-999.0</td>\n",
              "      <td>-999.0</td>\n",
              "      <td>NaN</td>\n",
              "      <td>NaN</td>\n",
              "      <td>NaN</td>\n",
              "      <td>NaN</td>\n",
              "    </tr>\n",
              "    <tr>\n",
              "      <th>3</th>\n",
              "      <td>10</td>\n",
              "      <td>WCHN</td>\n",
              "      <td>2010-01-01</td>\n",
              "      <td>03:00</td>\n",
              "      <td>-999.0</td>\n",
              "      <td>-999.0</td>\n",
              "      <td>-999.0</td>\n",
              "      <td>-999.0</td>\n",
              "      <td>NaN</td>\n",
              "      <td>NaN</td>\n",
              "      <td>NaN</td>\n",
              "      <td>NaN</td>\n",
              "    </tr>\n",
              "    <tr>\n",
              "      <th>4</th>\n",
              "      <td>10</td>\n",
              "      <td>WCHN</td>\n",
              "      <td>2010-01-01</td>\n",
              "      <td>04:00</td>\n",
              "      <td>-999.0</td>\n",
              "      <td>-999.0</td>\n",
              "      <td>-999.0</td>\n",
              "      <td>-999.0</td>\n",
              "      <td>NaN</td>\n",
              "      <td>NaN</td>\n",
              "      <td>NaN</td>\n",
              "      <td>NaN</td>\n",
              "    </tr>\n",
              "  </tbody>\n",
              "</table>\n",
              "</div>"
            ],
            "text/plain": [
              "  Key  code        date  ... Forest_Area  Percent_of_Province_Area  Non_Forest_Area\n",
              "0  10  WCHN  2010-01-01  ...         NaN                       NaN              NaN\n",
              "1  10  WCHN  2010-01-01  ...         NaN                       NaN              NaN\n",
              "2  10  WCHN  2010-01-01  ...         NaN                       NaN              NaN\n",
              "3  10  WCHN  2010-01-01  ...         NaN                       NaN              NaN\n",
              "4  10  WCHN  2010-01-01  ...         NaN                       NaN              NaN\n",
              "\n",
              "[5 rows x 12 columns]"
            ]
          },
          "metadata": {
            "tags": []
          },
          "execution_count": 26
        }
      ]
    },
    {
      "cell_type": "code",
      "metadata": {
        "colab": {
          "base_uri": "https://localhost:8080/",
          "height": 0
        },
        "id": "kngxxIELLoOY",
        "outputId": "d0106b68-dcb5-4ad5-974f-3fb3e657f36c"
      },
      "source": [
        "south_df = drop_column(south_df, ['Province','Year'])\n",
        "south_df.head()"
      ],
      "execution_count": 27,
      "outputs": [
        {
          "output_type": "execute_result",
          "data": {
            "text/html": [
              "<div>\n",
              "<style scoped>\n",
              "    .dataframe tbody tr th:only-of-type {\n",
              "        vertical-align: middle;\n",
              "    }\n",
              "\n",
              "    .dataframe tbody tr th {\n",
              "        vertical-align: top;\n",
              "    }\n",
              "\n",
              "    .dataframe thead th {\n",
              "        text-align: right;\n",
              "    }\n",
              "</style>\n",
              "<table border=\"1\" class=\"dataframe\">\n",
              "  <thead>\n",
              "    <tr style=\"text-align: right;\">\n",
              "      <th></th>\n",
              "      <th>Key</th>\n",
              "      <th>code</th>\n",
              "      <th>date</th>\n",
              "      <th>time</th>\n",
              "      <th>rain1h</th>\n",
              "      <th>temp_out</th>\n",
              "      <th>press</th>\n",
              "      <th>humid</th>\n",
              "      <th>Province_Area</th>\n",
              "      <th>Forest_Area</th>\n",
              "      <th>Percent_of_Province_Area</th>\n",
              "      <th>Non_Forest_Area</th>\n",
              "    </tr>\n",
              "  </thead>\n",
              "  <tbody>\n",
              "    <tr>\n",
              "      <th>0</th>\n",
              "      <td>10</td>\n",
              "      <td>SWKL</td>\n",
              "      <td>2010-01-01</td>\n",
              "      <td>00:00</td>\n",
              "      <td>-999.0</td>\n",
              "      <td>-999.0</td>\n",
              "      <td>-999.0</td>\n",
              "      <td>-999.0</td>\n",
              "      <td>NaN</td>\n",
              "      <td>NaN</td>\n",
              "      <td>NaN</td>\n",
              "      <td>NaN</td>\n",
              "    </tr>\n",
              "    <tr>\n",
              "      <th>1</th>\n",
              "      <td>10</td>\n",
              "      <td>SWKL</td>\n",
              "      <td>2010-01-01</td>\n",
              "      <td>01:00</td>\n",
              "      <td>-999.0</td>\n",
              "      <td>-999.0</td>\n",
              "      <td>-999.0</td>\n",
              "      <td>-999.0</td>\n",
              "      <td>NaN</td>\n",
              "      <td>NaN</td>\n",
              "      <td>NaN</td>\n",
              "      <td>NaN</td>\n",
              "    </tr>\n",
              "    <tr>\n",
              "      <th>2</th>\n",
              "      <td>10</td>\n",
              "      <td>SWKL</td>\n",
              "      <td>2010-01-01</td>\n",
              "      <td>02:00</td>\n",
              "      <td>-999.0</td>\n",
              "      <td>-999.0</td>\n",
              "      <td>-999.0</td>\n",
              "      <td>-999.0</td>\n",
              "      <td>NaN</td>\n",
              "      <td>NaN</td>\n",
              "      <td>NaN</td>\n",
              "      <td>NaN</td>\n",
              "    </tr>\n",
              "    <tr>\n",
              "      <th>3</th>\n",
              "      <td>10</td>\n",
              "      <td>SWKL</td>\n",
              "      <td>2010-01-01</td>\n",
              "      <td>03:00</td>\n",
              "      <td>-999.0</td>\n",
              "      <td>-999.0</td>\n",
              "      <td>-999.0</td>\n",
              "      <td>-999.0</td>\n",
              "      <td>NaN</td>\n",
              "      <td>NaN</td>\n",
              "      <td>NaN</td>\n",
              "      <td>NaN</td>\n",
              "    </tr>\n",
              "    <tr>\n",
              "      <th>4</th>\n",
              "      <td>10</td>\n",
              "      <td>SWKL</td>\n",
              "      <td>2010-01-01</td>\n",
              "      <td>04:00</td>\n",
              "      <td>-999.0</td>\n",
              "      <td>-999.0</td>\n",
              "      <td>-999.0</td>\n",
              "      <td>-999.0</td>\n",
              "      <td>NaN</td>\n",
              "      <td>NaN</td>\n",
              "      <td>NaN</td>\n",
              "      <td>NaN</td>\n",
              "    </tr>\n",
              "  </tbody>\n",
              "</table>\n",
              "</div>"
            ],
            "text/plain": [
              "  Key  code        date  ... Forest_Area  Percent_of_Province_Area  Non_Forest_Area\n",
              "0  10  SWKL  2010-01-01  ...         NaN                       NaN              NaN\n",
              "1  10  SWKL  2010-01-01  ...         NaN                       NaN              NaN\n",
              "2  10  SWKL  2010-01-01  ...         NaN                       NaN              NaN\n",
              "3  10  SWKL  2010-01-01  ...         NaN                       NaN              NaN\n",
              "4  10  SWKL  2010-01-01  ...         NaN                       NaN              NaN\n",
              "\n",
              "[5 rows x 12 columns]"
            ]
          },
          "metadata": {
            "tags": []
          },
          "execution_count": 27
        }
      ]
    },
    {
      "cell_type": "markdown",
      "metadata": {
        "id": "yR8q1W-bpIEz"
      },
      "source": [
        "###Error and Outliers\n",
        "<br>Check for error or outlier data"
      ]
    },
    {
      "cell_type": "markdown",
      "metadata": {
        "id": "iUsCmCEsWwqn"
      },
      "source": [
        "\n",
        "\n",
        "*   สถานีตอนบน: สถานีทต.เชียงม่วน\n",
        "\n"
      ]
    },
    {
      "cell_type": "code",
      "metadata": {
        "id": "nem0RUvnpsZb",
        "colab": {
          "base_uri": "https://localhost:8080/",
          "height": 0
        },
        "outputId": "eeb62018-40ec-46df-9b52-97f60509f3df"
      },
      "source": [
        "#สถานีตอนบน north_df\n",
        "north_df.describe()"
      ],
      "execution_count": 28,
      "outputs": [
        {
          "output_type": "execute_result",
          "data": {
            "text/html": [
              "<div>\n",
              "<style scoped>\n",
              "    .dataframe tbody tr th:only-of-type {\n",
              "        vertical-align: middle;\n",
              "    }\n",
              "\n",
              "    .dataframe tbody tr th {\n",
              "        vertical-align: top;\n",
              "    }\n",
              "\n",
              "    .dataframe thead th {\n",
              "        text-align: right;\n",
              "    }\n",
              "</style>\n",
              "<table border=\"1\" class=\"dataframe\">\n",
              "  <thead>\n",
              "    <tr style=\"text-align: right;\">\n",
              "      <th></th>\n",
              "      <th>rain1h</th>\n",
              "      <th>temp_out</th>\n",
              "      <th>press</th>\n",
              "      <th>humid</th>\n",
              "    </tr>\n",
              "  </thead>\n",
              "  <tbody>\n",
              "    <tr>\n",
              "      <th>count</th>\n",
              "      <td>96432.000000</td>\n",
              "      <td>96432.00000</td>\n",
              "      <td>96432.000000</td>\n",
              "      <td>96432.000000</td>\n",
              "    </tr>\n",
              "    <tr>\n",
              "      <th>mean</th>\n",
              "      <td>-352.427800</td>\n",
              "      <td>-349.46950</td>\n",
              "      <td>274.772087</td>\n",
              "      <td>-397.266665</td>\n",
              "    </tr>\n",
              "    <tr>\n",
              "      <th>std</th>\n",
              "      <td>477.432796</td>\n",
              "      <td>494.92824</td>\n",
              "      <td>947.046163</td>\n",
              "      <td>532.817777</td>\n",
              "    </tr>\n",
              "    <tr>\n",
              "      <th>min</th>\n",
              "      <td>-999.000000</td>\n",
              "      <td>-999.00000</td>\n",
              "      <td>-999.000000</td>\n",
              "      <td>-999.000000</td>\n",
              "    </tr>\n",
              "    <tr>\n",
              "      <th>25%</th>\n",
              "      <td>-999.000000</td>\n",
              "      <td>-999.00000</td>\n",
              "      <td>-999.000000</td>\n",
              "      <td>-999.000000</td>\n",
              "    </tr>\n",
              "    <tr>\n",
              "      <th>50%</th>\n",
              "      <td>0.000000</td>\n",
              "      <td>23.00000</td>\n",
              "      <td>975.800000</td>\n",
              "      <td>43.000000</td>\n",
              "    </tr>\n",
              "    <tr>\n",
              "      <th>75%</th>\n",
              "      <td>0.000000</td>\n",
              "      <td>28.90000</td>\n",
              "      <td>980.000000</td>\n",
              "      <td>83.000000</td>\n",
              "    </tr>\n",
              "    <tr>\n",
              "      <th>max</th>\n",
              "      <td>58.800000</td>\n",
              "      <td>44.60000</td>\n",
              "      <td>995.000000</td>\n",
              "      <td>100.000000</td>\n",
              "    </tr>\n",
              "  </tbody>\n",
              "</table>\n",
              "</div>"
            ],
            "text/plain": [
              "             rain1h     temp_out         press         humid\n",
              "count  96432.000000  96432.00000  96432.000000  96432.000000\n",
              "mean    -352.427800   -349.46950    274.772087   -397.266665\n",
              "std      477.432796    494.92824    947.046163    532.817777\n",
              "min     -999.000000   -999.00000   -999.000000   -999.000000\n",
              "25%     -999.000000   -999.00000   -999.000000   -999.000000\n",
              "50%        0.000000     23.00000    975.800000     43.000000\n",
              "75%        0.000000     28.90000    980.000000     83.000000\n",
              "max       58.800000     44.60000    995.000000    100.000000"
            ]
          },
          "metadata": {
            "tags": []
          },
          "execution_count": 28
        }
      ]
    },
    {
      "cell_type": "code",
      "metadata": {
        "id": "d6glcpg_pL_Q",
        "colab": {
          "base_uri": "https://localhost:8080/"
        },
        "outputId": "bb5293c5-c095-4c24-ead2-0fc0eeea74c2"
      },
      "source": [
        "north_df['code'].unique()"
      ],
      "execution_count": 29,
      "outputs": [
        {
          "output_type": "execute_result",
          "data": {
            "text/plain": [
              "array(['CGMN'], dtype=object)"
            ]
          },
          "metadata": {
            "tags": []
          },
          "execution_count": 29
        }
      ]
    },
    {
      "cell_type": "code",
      "metadata": {
        "colab": {
          "base_uri": "https://localhost:8080/"
        },
        "id": "6XM1D8eJs7z2",
        "outputId": "68d7299b-45ec-4c01-8836-4264cc36832a"
      },
      "source": [
        "north_df['date'].unique()"
      ],
      "execution_count": 30,
      "outputs": [
        {
          "output_type": "execute_result",
          "data": {
            "text/plain": [
              "array(['2010-01-01', '2010-01-02', '2010-01-03', ..., '2020-12-29',\n",
              "       '2020-12-30', '2020-12-31'], dtype=object)"
            ]
          },
          "metadata": {
            "tags": []
          },
          "execution_count": 30
        }
      ]
    },
    {
      "cell_type": "code",
      "metadata": {
        "colab": {
          "base_uri": "https://localhost:8080/"
        },
        "id": "sbPEDNYXudhU",
        "outputId": "0635a3d1-2d83-401e-aa91-1c2be230e376"
      },
      "source": [
        "north_df['time'].unique()"
      ],
      "execution_count": 31,
      "outputs": [
        {
          "output_type": "execute_result",
          "data": {
            "text/plain": [
              "array(['00:00', '01:00', '02:00', '03:00', '04:00', '05:00', '06:00',\n",
              "       '07:00', '08:00', '09:00', '10:00', '11:00', '12:00', '13:00',\n",
              "       '14:00', '15:00', '16:00', '17:00', '18:00', '19:00', '20:00',\n",
              "       '21:00', '22:00', '23:00'], dtype=object)"
            ]
          },
          "metadata": {
            "tags": []
          },
          "execution_count": 31
        }
      ]
    },
    {
      "cell_type": "markdown",
      "metadata": {
        "id": "qGqsxReQXGWu"
      },
      "source": [
        "\n",
        "\n",
        "*   สถานีตอนกลาง: สถานีอบต.วังชิ้น\n",
        "\n"
      ]
    },
    {
      "cell_type": "code",
      "metadata": {
        "id": "kK82Ut_WFhxZ",
        "colab": {
          "base_uri": "https://localhost:8080/",
          "height": 0
        },
        "outputId": "8a15a36a-d0d7-480e-d17f-b68351c623fc"
      },
      "source": [
        "mid_df.describe()"
      ],
      "execution_count": 32,
      "outputs": [
        {
          "output_type": "execute_result",
          "data": {
            "text/html": [
              "<div>\n",
              "<style scoped>\n",
              "    .dataframe tbody tr th:only-of-type {\n",
              "        vertical-align: middle;\n",
              "    }\n",
              "\n",
              "    .dataframe tbody tr th {\n",
              "        vertical-align: top;\n",
              "    }\n",
              "\n",
              "    .dataframe thead th {\n",
              "        text-align: right;\n",
              "    }\n",
              "</style>\n",
              "<table border=\"1\" class=\"dataframe\">\n",
              "  <thead>\n",
              "    <tr style=\"text-align: right;\">\n",
              "      <th></th>\n",
              "      <th>rain1h</th>\n",
              "      <th>temp_out</th>\n",
              "      <th>press</th>\n",
              "      <th>humid</th>\n",
              "    </tr>\n",
              "  </thead>\n",
              "  <tbody>\n",
              "    <tr>\n",
              "      <th>count</th>\n",
              "      <td>96432.000000</td>\n",
              "      <td>96432.000000</td>\n",
              "      <td>96432.000000</td>\n",
              "      <td>96432.000000</td>\n",
              "    </tr>\n",
              "    <tr>\n",
              "      <th>mean</th>\n",
              "      <td>-183.630245</td>\n",
              "      <td>-175.201394</td>\n",
              "      <td>613.288869</td>\n",
              "      <td>-350.418397</td>\n",
              "    </tr>\n",
              "    <tr>\n",
              "      <th>std</th>\n",
              "      <td>387.074912</td>\n",
              "      <td>409.571117</td>\n",
              "      <td>783.877748</td>\n",
              "      <td>525.149052</td>\n",
              "    </tr>\n",
              "    <tr>\n",
              "      <th>min</th>\n",
              "      <td>-999.000000</td>\n",
              "      <td>-999.000000</td>\n",
              "      <td>-999.000000</td>\n",
              "      <td>-999.000000</td>\n",
              "    </tr>\n",
              "    <tr>\n",
              "      <th>25%</th>\n",
              "      <td>0.000000</td>\n",
              "      <td>19.200000</td>\n",
              "      <td>988.000000</td>\n",
              "      <td>-999.000000</td>\n",
              "    </tr>\n",
              "    <tr>\n",
              "      <th>50%</th>\n",
              "      <td>0.000000</td>\n",
              "      <td>26.000000</td>\n",
              "      <td>993.000000</td>\n",
              "      <td>50.900000</td>\n",
              "    </tr>\n",
              "    <tr>\n",
              "      <th>75%</th>\n",
              "      <td>0.000000</td>\n",
              "      <td>30.900000</td>\n",
              "      <td>996.000000</td>\n",
              "      <td>85.000000</td>\n",
              "    </tr>\n",
              "    <tr>\n",
              "      <th>max</th>\n",
              "      <td>62.000000</td>\n",
              "      <td>44.600000</td>\n",
              "      <td>1050.000000</td>\n",
              "      <td>100.000000</td>\n",
              "    </tr>\n",
              "  </tbody>\n",
              "</table>\n",
              "</div>"
            ],
            "text/plain": [
              "             rain1h      temp_out         press         humid\n",
              "count  96432.000000  96432.000000  96432.000000  96432.000000\n",
              "mean    -183.630245   -175.201394    613.288869   -350.418397\n",
              "std      387.074912    409.571117    783.877748    525.149052\n",
              "min     -999.000000   -999.000000   -999.000000   -999.000000\n",
              "25%        0.000000     19.200000    988.000000   -999.000000\n",
              "50%        0.000000     26.000000    993.000000     50.900000\n",
              "75%        0.000000     30.900000    996.000000     85.000000\n",
              "max       62.000000     44.600000   1050.000000    100.000000"
            ]
          },
          "metadata": {
            "tags": []
          },
          "execution_count": 32
        }
      ]
    },
    {
      "cell_type": "code",
      "metadata": {
        "colab": {
          "base_uri": "https://localhost:8080/"
        },
        "id": "jbtwj8qfLasp",
        "outputId": "e81b6241-ce10-4af9-d247-9e40ec09bd70"
      },
      "source": [
        "mid_df['code'].unique()"
      ],
      "execution_count": 33,
      "outputs": [
        {
          "output_type": "execute_result",
          "data": {
            "text/plain": [
              "array(['WCHN'], dtype=object)"
            ]
          },
          "metadata": {
            "tags": []
          },
          "execution_count": 33
        }
      ]
    },
    {
      "cell_type": "code",
      "metadata": {
        "colab": {
          "base_uri": "https://localhost:8080/"
        },
        "id": "7kKxDC5vLetT",
        "outputId": "33a85194-8f6a-48de-c5d5-08597a67c07b"
      },
      "source": [
        "mid_df['date'].unique()"
      ],
      "execution_count": 34,
      "outputs": [
        {
          "output_type": "execute_result",
          "data": {
            "text/plain": [
              "array(['2010-01-01', '2010-01-02', '2010-01-03', ..., '2020-12-29',\n",
              "       '2020-12-30', '2020-12-31'], dtype=object)"
            ]
          },
          "metadata": {
            "tags": []
          },
          "execution_count": 34
        }
      ]
    },
    {
      "cell_type": "code",
      "metadata": {
        "colab": {
          "base_uri": "https://localhost:8080/"
        },
        "id": "aH5FerYSLjGC",
        "outputId": "0629703e-ff3b-4e06-dfde-c62e1c56b35b"
      },
      "source": [
        "mid_df['time'].unique()"
      ],
      "execution_count": 35,
      "outputs": [
        {
          "output_type": "execute_result",
          "data": {
            "text/plain": [
              "array(['00:00', '01:00', '02:00', '03:00', '04:00', '05:00', '06:00',\n",
              "       '07:00', '08:00', '09:00', '10:00', '11:00', '12:00', '13:00',\n",
              "       '14:00', '15:00', '16:00', '17:00', '18:00', '19:00', '20:00',\n",
              "       '21:00', '22:00', '23:00'], dtype=object)"
            ]
          },
          "metadata": {
            "tags": []
          },
          "execution_count": 35
        }
      ]
    },
    {
      "cell_type": "markdown",
      "metadata": {
        "id": "qZ2lWE6iXQtB"
      },
      "source": [
        "\n",
        "\n",
        "*   สถานีตอนล่าง: สถานีโรงฆ่าสัตว์ ทม.สวรรคโลก\n",
        "\n"
      ]
    },
    {
      "cell_type": "code",
      "metadata": {
        "id": "2MqJKC_mFlx1",
        "colab": {
          "base_uri": "https://localhost:8080/",
          "height": 0
        },
        "outputId": "a707b459-7a87-42c9-8d2c-208994b00cd7"
      },
      "source": [
        "south_df.describe()"
      ],
      "execution_count": 36,
      "outputs": [
        {
          "output_type": "execute_result",
          "data": {
            "text/html": [
              "<div>\n",
              "<style scoped>\n",
              "    .dataframe tbody tr th:only-of-type {\n",
              "        vertical-align: middle;\n",
              "    }\n",
              "\n",
              "    .dataframe tbody tr th {\n",
              "        vertical-align: top;\n",
              "    }\n",
              "\n",
              "    .dataframe thead th {\n",
              "        text-align: right;\n",
              "    }\n",
              "</style>\n",
              "<table border=\"1\" class=\"dataframe\">\n",
              "  <thead>\n",
              "    <tr style=\"text-align: right;\">\n",
              "      <th></th>\n",
              "      <th>rain1h</th>\n",
              "      <th>temp_out</th>\n",
              "      <th>press</th>\n",
              "      <th>humid</th>\n",
              "    </tr>\n",
              "  </thead>\n",
              "  <tbody>\n",
              "    <tr>\n",
              "      <th>count</th>\n",
              "      <td>96432.000000</td>\n",
              "      <td>96432.000000</td>\n",
              "      <td>96432.000000</td>\n",
              "      <td>96432.000000</td>\n",
              "    </tr>\n",
              "    <tr>\n",
              "      <th>mean</th>\n",
              "      <td>-173.735573</td>\n",
              "      <td>-156.321437</td>\n",
              "      <td>206.394797</td>\n",
              "      <td>-135.046846</td>\n",
              "    </tr>\n",
              "    <tr>\n",
              "      <th>std</th>\n",
              "      <td>378.759107</td>\n",
              "      <td>396.222789</td>\n",
              "      <td>979.460170</td>\n",
              "      <td>421.009449</td>\n",
              "    </tr>\n",
              "    <tr>\n",
              "      <th>min</th>\n",
              "      <td>-999.000000</td>\n",
              "      <td>-999.000000</td>\n",
              "      <td>-999.000000</td>\n",
              "      <td>-999.000000</td>\n",
              "    </tr>\n",
              "    <tr>\n",
              "      <th>25%</th>\n",
              "      <td>0.000000</td>\n",
              "      <td>23.000000</td>\n",
              "      <td>-999.000000</td>\n",
              "      <td>39.375000</td>\n",
              "    </tr>\n",
              "    <tr>\n",
              "      <th>50%</th>\n",
              "      <td>0.000000</td>\n",
              "      <td>27.500000</td>\n",
              "      <td>998.200000</td>\n",
              "      <td>64.000000</td>\n",
              "    </tr>\n",
              "    <tr>\n",
              "      <th>75%</th>\n",
              "      <td>0.000000</td>\n",
              "      <td>32.800000</td>\n",
              "      <td>1003.000000</td>\n",
              "      <td>83.000000</td>\n",
              "    </tr>\n",
              "    <tr>\n",
              "      <th>max</th>\n",
              "      <td>47.800000</td>\n",
              "      <td>44.900000</td>\n",
              "      <td>1118.800000</td>\n",
              "      <td>100.000000</td>\n",
              "    </tr>\n",
              "  </tbody>\n",
              "</table>\n",
              "</div>"
            ],
            "text/plain": [
              "             rain1h      temp_out         press         humid\n",
              "count  96432.000000  96432.000000  96432.000000  96432.000000\n",
              "mean    -173.735573   -156.321437    206.394797   -135.046846\n",
              "std      378.759107    396.222789    979.460170    421.009449\n",
              "min     -999.000000   -999.000000   -999.000000   -999.000000\n",
              "25%        0.000000     23.000000   -999.000000     39.375000\n",
              "50%        0.000000     27.500000    998.200000     64.000000\n",
              "75%        0.000000     32.800000   1003.000000     83.000000\n",
              "max       47.800000     44.900000   1118.800000    100.000000"
            ]
          },
          "metadata": {
            "tags": []
          },
          "execution_count": 36
        }
      ]
    },
    {
      "cell_type": "code",
      "metadata": {
        "colab": {
          "base_uri": "https://localhost:8080/"
        },
        "id": "6cr-9zzhe03V",
        "outputId": "62a88cd0-80e9-4c2c-b451-899583b83527"
      },
      "source": [
        "south_df['code'].unique()"
      ],
      "execution_count": 37,
      "outputs": [
        {
          "output_type": "execute_result",
          "data": {
            "text/plain": [
              "array(['SWKL'], dtype=object)"
            ]
          },
          "metadata": {
            "tags": []
          },
          "execution_count": 37
        }
      ]
    },
    {
      "cell_type": "code",
      "metadata": {
        "colab": {
          "base_uri": "https://localhost:8080/"
        },
        "id": "LQdC3Y5ve3nf",
        "outputId": "86e0ad84-1294-4780-dddc-9e2cbd108884"
      },
      "source": [
        "south_df['date'].unique()"
      ],
      "execution_count": 38,
      "outputs": [
        {
          "output_type": "execute_result",
          "data": {
            "text/plain": [
              "array(['2010-01-01', '2010-01-02', '2010-01-03', ..., '2020-12-29',\n",
              "       '2020-12-30', '2020-12-31'], dtype=object)"
            ]
          },
          "metadata": {
            "tags": []
          },
          "execution_count": 38
        }
      ]
    },
    {
      "cell_type": "code",
      "metadata": {
        "colab": {
          "base_uri": "https://localhost:8080/"
        },
        "id": "MBKtXE1Ie6h7",
        "outputId": "ead6e087-4756-4226-bffe-07cc3d709703"
      },
      "source": [
        "south_df['time'].unique()"
      ],
      "execution_count": 39,
      "outputs": [
        {
          "output_type": "execute_result",
          "data": {
            "text/plain": [
              "array(['00:00', '01:00', '02:00', '03:00', '04:00', '05:00', '06:00',\n",
              "       '07:00', '08:00', '09:00', '10:00', '11:00', '12:00', '13:00',\n",
              "       '14:00', '15:00', '16:00', '17:00', '18:00', '19:00', '20:00',\n",
              "       '21:00', '22:00', '23:00'], dtype=object)"
            ]
          },
          "metadata": {
            "tags": []
          },
          "execution_count": 39
        }
      ]
    },
    {
      "cell_type": "markdown",
      "metadata": {
        "id": "QN1Cet8UIxFe"
      },
      "source": [
        "Drop range time that data rain1h unavailable(top of data start with outlier=-999 ) "
      ]
    },
    {
      "cell_type": "code",
      "metadata": {
        "id": "6ELx-4d1QJv3"
      },
      "source": [
        "def drop_range_unavailable(df):\n",
        "  idx = df['rain1h'].ne(-999).idxmax()\n",
        "  df = df.drop(range(0, idx))\n",
        "  return df"
      ],
      "execution_count": 40,
      "outputs": []
    },
    {
      "cell_type": "code",
      "metadata": {
        "colab": {
          "base_uri": "https://localhost:8080/",
          "height": 0
        },
        "id": "zZ5IElIVRn02",
        "outputId": "88b4dd38-d162-4e23-aa26-91addfe70a31"
      },
      "source": [
        "north_df = drop_range_unavailable(north_df)\n",
        "north_df.head()"
      ],
      "execution_count": 41,
      "outputs": [
        {
          "output_type": "execute_result",
          "data": {
            "text/html": [
              "<div>\n",
              "<style scoped>\n",
              "    .dataframe tbody tr th:only-of-type {\n",
              "        vertical-align: middle;\n",
              "    }\n",
              "\n",
              "    .dataframe tbody tr th {\n",
              "        vertical-align: top;\n",
              "    }\n",
              "\n",
              "    .dataframe thead th {\n",
              "        text-align: right;\n",
              "    }\n",
              "</style>\n",
              "<table border=\"1\" class=\"dataframe\">\n",
              "  <thead>\n",
              "    <tr style=\"text-align: right;\">\n",
              "      <th></th>\n",
              "      <th>Key</th>\n",
              "      <th>code</th>\n",
              "      <th>date</th>\n",
              "      <th>time</th>\n",
              "      <th>rain1h</th>\n",
              "      <th>temp_out</th>\n",
              "      <th>press</th>\n",
              "      <th>humid</th>\n",
              "      <th>Province_Area</th>\n",
              "      <th>Forest_Area</th>\n",
              "      <th>Percent_of_Province_Area</th>\n",
              "      <th>Non_Forest_Area</th>\n",
              "    </tr>\n",
              "  </thead>\n",
              "  <tbody>\n",
              "    <tr>\n",
              "      <th>15278</th>\n",
              "      <td>11</td>\n",
              "      <td>CGMN</td>\n",
              "      <td>2011-09-29</td>\n",
              "      <td>14:00</td>\n",
              "      <td>0.0</td>\n",
              "      <td>34.8</td>\n",
              "      <td>974.0</td>\n",
              "      <td>73.0</td>\n",
              "      <td>NaN</td>\n",
              "      <td>NaN</td>\n",
              "      <td>NaN</td>\n",
              "      <td>NaN</td>\n",
              "    </tr>\n",
              "    <tr>\n",
              "      <th>15279</th>\n",
              "      <td>11</td>\n",
              "      <td>CGMN</td>\n",
              "      <td>2011-09-29</td>\n",
              "      <td>15:00</td>\n",
              "      <td>0.0</td>\n",
              "      <td>33.8</td>\n",
              "      <td>974.0</td>\n",
              "      <td>70.0</td>\n",
              "      <td>NaN</td>\n",
              "      <td>NaN</td>\n",
              "      <td>NaN</td>\n",
              "      <td>NaN</td>\n",
              "    </tr>\n",
              "    <tr>\n",
              "      <th>15280</th>\n",
              "      <td>11</td>\n",
              "      <td>CGMN</td>\n",
              "      <td>2011-09-29</td>\n",
              "      <td>16:00</td>\n",
              "      <td>-999.0</td>\n",
              "      <td>-999.0</td>\n",
              "      <td>-999.0</td>\n",
              "      <td>-999.0</td>\n",
              "      <td>NaN</td>\n",
              "      <td>NaN</td>\n",
              "      <td>NaN</td>\n",
              "      <td>NaN</td>\n",
              "    </tr>\n",
              "    <tr>\n",
              "      <th>15281</th>\n",
              "      <td>11</td>\n",
              "      <td>CGMN</td>\n",
              "      <td>2011-09-29</td>\n",
              "      <td>17:00</td>\n",
              "      <td>0.0</td>\n",
              "      <td>32.8</td>\n",
              "      <td>975.0</td>\n",
              "      <td>72.0</td>\n",
              "      <td>NaN</td>\n",
              "      <td>NaN</td>\n",
              "      <td>NaN</td>\n",
              "      <td>NaN</td>\n",
              "    </tr>\n",
              "    <tr>\n",
              "      <th>15282</th>\n",
              "      <td>11</td>\n",
              "      <td>CGMN</td>\n",
              "      <td>2011-09-29</td>\n",
              "      <td>18:00</td>\n",
              "      <td>0.0</td>\n",
              "      <td>28.9</td>\n",
              "      <td>977.0</td>\n",
              "      <td>85.0</td>\n",
              "      <td>NaN</td>\n",
              "      <td>NaN</td>\n",
              "      <td>NaN</td>\n",
              "      <td>NaN</td>\n",
              "    </tr>\n",
              "  </tbody>\n",
              "</table>\n",
              "</div>"
            ],
            "text/plain": [
              "      Key  code  ... Percent_of_Province_Area Non_Forest_Area\n",
              "15278  11  CGMN  ...                      NaN             NaN\n",
              "15279  11  CGMN  ...                      NaN             NaN\n",
              "15280  11  CGMN  ...                      NaN             NaN\n",
              "15281  11  CGMN  ...                      NaN             NaN\n",
              "15282  11  CGMN  ...                      NaN             NaN\n",
              "\n",
              "[5 rows x 12 columns]"
            ]
          },
          "metadata": {
            "tags": []
          },
          "execution_count": 41
        }
      ]
    },
    {
      "cell_type": "code",
      "metadata": {
        "colab": {
          "base_uri": "https://localhost:8080/",
          "height": 0
        },
        "id": "P8jPzp8QTsVe",
        "outputId": "f708a3f4-032f-4492-a6ca-c4b81351d35d"
      },
      "source": [
        "mid_df = drop_range_unavailable(mid_df)\n",
        "mid_df.head()"
      ],
      "execution_count": 42,
      "outputs": [
        {
          "output_type": "execute_result",
          "data": {
            "text/html": [
              "<div>\n",
              "<style scoped>\n",
              "    .dataframe tbody tr th:only-of-type {\n",
              "        vertical-align: middle;\n",
              "    }\n",
              "\n",
              "    .dataframe tbody tr th {\n",
              "        vertical-align: top;\n",
              "    }\n",
              "\n",
              "    .dataframe thead th {\n",
              "        text-align: right;\n",
              "    }\n",
              "</style>\n",
              "<table border=\"1\" class=\"dataframe\">\n",
              "  <thead>\n",
              "    <tr style=\"text-align: right;\">\n",
              "      <th></th>\n",
              "      <th>Key</th>\n",
              "      <th>code</th>\n",
              "      <th>date</th>\n",
              "      <th>time</th>\n",
              "      <th>rain1h</th>\n",
              "      <th>temp_out</th>\n",
              "      <th>press</th>\n",
              "      <th>humid</th>\n",
              "      <th>Province_Area</th>\n",
              "      <th>Forest_Area</th>\n",
              "      <th>Percent_of_Province_Area</th>\n",
              "      <th>Non_Forest_Area</th>\n",
              "    </tr>\n",
              "  </thead>\n",
              "  <tbody>\n",
              "    <tr>\n",
              "      <th>11707</th>\n",
              "      <td>11</td>\n",
              "      <td>WCHN</td>\n",
              "      <td>2011-05-03</td>\n",
              "      <td>19:00</td>\n",
              "      <td>0.0</td>\n",
              "      <td>29.4</td>\n",
              "      <td>992.0</td>\n",
              "      <td>92.0</td>\n",
              "      <td>NaN</td>\n",
              "      <td>NaN</td>\n",
              "      <td>NaN</td>\n",
              "      <td>NaN</td>\n",
              "    </tr>\n",
              "    <tr>\n",
              "      <th>11708</th>\n",
              "      <td>11</td>\n",
              "      <td>WCHN</td>\n",
              "      <td>2011-05-03</td>\n",
              "      <td>20:00</td>\n",
              "      <td>-999.0</td>\n",
              "      <td>-999.0</td>\n",
              "      <td>-999.0</td>\n",
              "      <td>-999.0</td>\n",
              "      <td>NaN</td>\n",
              "      <td>NaN</td>\n",
              "      <td>NaN</td>\n",
              "      <td>NaN</td>\n",
              "    </tr>\n",
              "    <tr>\n",
              "      <th>11709</th>\n",
              "      <td>11</td>\n",
              "      <td>WCHN</td>\n",
              "      <td>2011-05-03</td>\n",
              "      <td>21:00</td>\n",
              "      <td>-999.0</td>\n",
              "      <td>-999.0</td>\n",
              "      <td>-999.0</td>\n",
              "      <td>-999.0</td>\n",
              "      <td>NaN</td>\n",
              "      <td>NaN</td>\n",
              "      <td>NaN</td>\n",
              "      <td>NaN</td>\n",
              "    </tr>\n",
              "    <tr>\n",
              "      <th>11710</th>\n",
              "      <td>11</td>\n",
              "      <td>WCHN</td>\n",
              "      <td>2011-05-03</td>\n",
              "      <td>22:00</td>\n",
              "      <td>0.2</td>\n",
              "      <td>25.0</td>\n",
              "      <td>994.0</td>\n",
              "      <td>99.0</td>\n",
              "      <td>NaN</td>\n",
              "      <td>NaN</td>\n",
              "      <td>NaN</td>\n",
              "      <td>NaN</td>\n",
              "    </tr>\n",
              "    <tr>\n",
              "      <th>11711</th>\n",
              "      <td>11</td>\n",
              "      <td>WCHN</td>\n",
              "      <td>2011-05-03</td>\n",
              "      <td>23:00</td>\n",
              "      <td>-999.0</td>\n",
              "      <td>-999.0</td>\n",
              "      <td>-999.0</td>\n",
              "      <td>-999.0</td>\n",
              "      <td>NaN</td>\n",
              "      <td>NaN</td>\n",
              "      <td>NaN</td>\n",
              "      <td>NaN</td>\n",
              "    </tr>\n",
              "  </tbody>\n",
              "</table>\n",
              "</div>"
            ],
            "text/plain": [
              "      Key  code  ... Percent_of_Province_Area Non_Forest_Area\n",
              "11707  11  WCHN  ...                      NaN             NaN\n",
              "11708  11  WCHN  ...                      NaN             NaN\n",
              "11709  11  WCHN  ...                      NaN             NaN\n",
              "11710  11  WCHN  ...                      NaN             NaN\n",
              "11711  11  WCHN  ...                      NaN             NaN\n",
              "\n",
              "[5 rows x 12 columns]"
            ]
          },
          "metadata": {
            "tags": []
          },
          "execution_count": 42
        }
      ]
    },
    {
      "cell_type": "code",
      "metadata": {
        "id": "S_3qvrQiYXrn",
        "colab": {
          "base_uri": "https://localhost:8080/",
          "height": 0
        },
        "outputId": "3332571f-5edb-4a73-8b04-cdedfad6611a"
      },
      "source": [
        "south_df = drop_range_unavailable(south_df)\n",
        "south_df.head()"
      ],
      "execution_count": 43,
      "outputs": [
        {
          "output_type": "execute_result",
          "data": {
            "text/html": [
              "<div>\n",
              "<style scoped>\n",
              "    .dataframe tbody tr th:only-of-type {\n",
              "        vertical-align: middle;\n",
              "    }\n",
              "\n",
              "    .dataframe tbody tr th {\n",
              "        vertical-align: top;\n",
              "    }\n",
              "\n",
              "    .dataframe thead th {\n",
              "        text-align: right;\n",
              "    }\n",
              "</style>\n",
              "<table border=\"1\" class=\"dataframe\">\n",
              "  <thead>\n",
              "    <tr style=\"text-align: right;\">\n",
              "      <th></th>\n",
              "      <th>Key</th>\n",
              "      <th>code</th>\n",
              "      <th>date</th>\n",
              "      <th>time</th>\n",
              "      <th>rain1h</th>\n",
              "      <th>temp_out</th>\n",
              "      <th>press</th>\n",
              "      <th>humid</th>\n",
              "      <th>Province_Area</th>\n",
              "      <th>Forest_Area</th>\n",
              "      <th>Percent_of_Province_Area</th>\n",
              "      <th>Non_Forest_Area</th>\n",
              "    </tr>\n",
              "  </thead>\n",
              "  <tbody>\n",
              "    <tr>\n",
              "      <th>11176</th>\n",
              "      <td>11</td>\n",
              "      <td>SWKL</td>\n",
              "      <td>2011-04-11</td>\n",
              "      <td>16:00</td>\n",
              "      <td>0.0</td>\n",
              "      <td>41.7</td>\n",
              "      <td>996.0</td>\n",
              "      <td>43.0</td>\n",
              "      <td>NaN</td>\n",
              "      <td>NaN</td>\n",
              "      <td>NaN</td>\n",
              "      <td>NaN</td>\n",
              "    </tr>\n",
              "    <tr>\n",
              "      <th>11177</th>\n",
              "      <td>11</td>\n",
              "      <td>SWKL</td>\n",
              "      <td>2011-04-11</td>\n",
              "      <td>17:00</td>\n",
              "      <td>-999.0</td>\n",
              "      <td>-999.0</td>\n",
              "      <td>-999.0</td>\n",
              "      <td>-999.0</td>\n",
              "      <td>NaN</td>\n",
              "      <td>NaN</td>\n",
              "      <td>NaN</td>\n",
              "      <td>NaN</td>\n",
              "    </tr>\n",
              "    <tr>\n",
              "      <th>11178</th>\n",
              "      <td>11</td>\n",
              "      <td>SWKL</td>\n",
              "      <td>2011-04-11</td>\n",
              "      <td>18:00</td>\n",
              "      <td>-999.0</td>\n",
              "      <td>-999.0</td>\n",
              "      <td>-999.0</td>\n",
              "      <td>-999.0</td>\n",
              "      <td>NaN</td>\n",
              "      <td>NaN</td>\n",
              "      <td>NaN</td>\n",
              "      <td>NaN</td>\n",
              "    </tr>\n",
              "    <tr>\n",
              "      <th>11179</th>\n",
              "      <td>11</td>\n",
              "      <td>SWKL</td>\n",
              "      <td>2011-04-11</td>\n",
              "      <td>19:00</td>\n",
              "      <td>-999.0</td>\n",
              "      <td>-999.0</td>\n",
              "      <td>-999.0</td>\n",
              "      <td>-999.0</td>\n",
              "      <td>NaN</td>\n",
              "      <td>NaN</td>\n",
              "      <td>NaN</td>\n",
              "      <td>NaN</td>\n",
              "    </tr>\n",
              "    <tr>\n",
              "      <th>11180</th>\n",
              "      <td>11</td>\n",
              "      <td>SWKL</td>\n",
              "      <td>2011-04-11</td>\n",
              "      <td>20:00</td>\n",
              "      <td>-999.0</td>\n",
              "      <td>-999.0</td>\n",
              "      <td>-999.0</td>\n",
              "      <td>-999.0</td>\n",
              "      <td>NaN</td>\n",
              "      <td>NaN</td>\n",
              "      <td>NaN</td>\n",
              "      <td>NaN</td>\n",
              "    </tr>\n",
              "  </tbody>\n",
              "</table>\n",
              "</div>"
            ],
            "text/plain": [
              "      Key  code  ... Percent_of_Province_Area Non_Forest_Area\n",
              "11176  11  SWKL  ...                      NaN             NaN\n",
              "11177  11  SWKL  ...                      NaN             NaN\n",
              "11178  11  SWKL  ...                      NaN             NaN\n",
              "11179  11  SWKL  ...                      NaN             NaN\n",
              "11180  11  SWKL  ...                      NaN             NaN\n",
              "\n",
              "[5 rows x 12 columns]"
            ]
          },
          "metadata": {
            "tags": []
          },
          "execution_count": 43
        }
      ]
    },
    {
      "cell_type": "code",
      "metadata": {
        "id": "pSyCP0p4AgSz"
      },
      "source": [
        "#data_north = data_north.drop(range(0,22167))"
      ],
      "execution_count": 44,
      "outputs": []
    },
    {
      "cell_type": "code",
      "metadata": {
        "id": "KT78Ty3LAK38"
      },
      "source": [
        "#data_mid = data_mid.drop(range(0,17722))"
      ],
      "execution_count": 45,
      "outputs": []
    },
    {
      "cell_type": "code",
      "metadata": {
        "id": "EA2dNMUcHA57"
      },
      "source": [
        "#data_south = data_south.drop(range(0,15280))"
      ],
      "execution_count": 46,
      "outputs": []
    },
    {
      "cell_type": "markdown",
      "metadata": {
        "id": "sR737hszXb6W"
      },
      "source": [
        "Replace -999 with Nan for the rest of missing value inside data"
      ]
    },
    {
      "cell_type": "code",
      "metadata": {
        "colab": {
          "base_uri": "https://localhost:8080/",
          "height": 0
        },
        "id": "E88dpyj7166b",
        "outputId": "a8442352-0b4d-455f-8405-1f390c7771fa"
      },
      "source": [
        "def replacwithnan(df):\n",
        "  df = df.replace({-999: np.nan})\n",
        "  return df\n",
        "north_df = replacwithnan(north_df)\n",
        "mid_df = replacwithnan(mid_df)\n",
        "south_df = replacwithnan(south_df)\n",
        "display(north_df)\n",
        "display(mid_df)\n",
        "display(south_df)"
      ],
      "execution_count": 47,
      "outputs": [
        {
          "output_type": "display_data",
          "data": {
            "text/html": [
              "<div>\n",
              "<style scoped>\n",
              "    .dataframe tbody tr th:only-of-type {\n",
              "        vertical-align: middle;\n",
              "    }\n",
              "\n",
              "    .dataframe tbody tr th {\n",
              "        vertical-align: top;\n",
              "    }\n",
              "\n",
              "    .dataframe thead th {\n",
              "        text-align: right;\n",
              "    }\n",
              "</style>\n",
              "<table border=\"1\" class=\"dataframe\">\n",
              "  <thead>\n",
              "    <tr style=\"text-align: right;\">\n",
              "      <th></th>\n",
              "      <th>Key</th>\n",
              "      <th>code</th>\n",
              "      <th>date</th>\n",
              "      <th>time</th>\n",
              "      <th>rain1h</th>\n",
              "      <th>temp_out</th>\n",
              "      <th>press</th>\n",
              "      <th>humid</th>\n",
              "      <th>Province_Area</th>\n",
              "      <th>Forest_Area</th>\n",
              "      <th>Percent_of_Province_Area</th>\n",
              "      <th>Non_Forest_Area</th>\n",
              "    </tr>\n",
              "  </thead>\n",
              "  <tbody>\n",
              "    <tr>\n",
              "      <th>15278</th>\n",
              "      <td>11</td>\n",
              "      <td>CGMN</td>\n",
              "      <td>2011-09-29</td>\n",
              "      <td>14:00</td>\n",
              "      <td>0.0</td>\n",
              "      <td>34.8</td>\n",
              "      <td>974.0</td>\n",
              "      <td>73.0</td>\n",
              "      <td>NaN</td>\n",
              "      <td>NaN</td>\n",
              "      <td>NaN</td>\n",
              "      <td>NaN</td>\n",
              "    </tr>\n",
              "    <tr>\n",
              "      <th>15279</th>\n",
              "      <td>11</td>\n",
              "      <td>CGMN</td>\n",
              "      <td>2011-09-29</td>\n",
              "      <td>15:00</td>\n",
              "      <td>0.0</td>\n",
              "      <td>33.8</td>\n",
              "      <td>974.0</td>\n",
              "      <td>70.0</td>\n",
              "      <td>NaN</td>\n",
              "      <td>NaN</td>\n",
              "      <td>NaN</td>\n",
              "      <td>NaN</td>\n",
              "    </tr>\n",
              "    <tr>\n",
              "      <th>15280</th>\n",
              "      <td>11</td>\n",
              "      <td>CGMN</td>\n",
              "      <td>2011-09-29</td>\n",
              "      <td>16:00</td>\n",
              "      <td>NaN</td>\n",
              "      <td>NaN</td>\n",
              "      <td>NaN</td>\n",
              "      <td>NaN</td>\n",
              "      <td>NaN</td>\n",
              "      <td>NaN</td>\n",
              "      <td>NaN</td>\n",
              "      <td>NaN</td>\n",
              "    </tr>\n",
              "    <tr>\n",
              "      <th>15281</th>\n",
              "      <td>11</td>\n",
              "      <td>CGMN</td>\n",
              "      <td>2011-09-29</td>\n",
              "      <td>17:00</td>\n",
              "      <td>0.0</td>\n",
              "      <td>32.8</td>\n",
              "      <td>975.0</td>\n",
              "      <td>72.0</td>\n",
              "      <td>NaN</td>\n",
              "      <td>NaN</td>\n",
              "      <td>NaN</td>\n",
              "      <td>NaN</td>\n",
              "    </tr>\n",
              "    <tr>\n",
              "      <th>15282</th>\n",
              "      <td>11</td>\n",
              "      <td>CGMN</td>\n",
              "      <td>2011-09-29</td>\n",
              "      <td>18:00</td>\n",
              "      <td>0.0</td>\n",
              "      <td>28.9</td>\n",
              "      <td>977.0</td>\n",
              "      <td>85.0</td>\n",
              "      <td>NaN</td>\n",
              "      <td>NaN</td>\n",
              "      <td>NaN</td>\n",
              "      <td>NaN</td>\n",
              "    </tr>\n",
              "    <tr>\n",
              "      <th>...</th>\n",
              "      <td>...</td>\n",
              "      <td>...</td>\n",
              "      <td>...</td>\n",
              "      <td>...</td>\n",
              "      <td>...</td>\n",
              "      <td>...</td>\n",
              "      <td>...</td>\n",
              "      <td>...</td>\n",
              "      <td>...</td>\n",
              "      <td>...</td>\n",
              "      <td>...</td>\n",
              "      <td>...</td>\n",
              "    </tr>\n",
              "    <tr>\n",
              "      <th>96427</th>\n",
              "      <td>20</td>\n",
              "      <td>CGMN</td>\n",
              "      <td>2020-12-31</td>\n",
              "      <td>19:00</td>\n",
              "      <td>0.0</td>\n",
              "      <td>24.8</td>\n",
              "      <td>981.8</td>\n",
              "      <td>61.4</td>\n",
              "      <td>NaN</td>\n",
              "      <td>NaN</td>\n",
              "      <td>NaN</td>\n",
              "      <td>NaN</td>\n",
              "    </tr>\n",
              "    <tr>\n",
              "      <th>96428</th>\n",
              "      <td>20</td>\n",
              "      <td>CGMN</td>\n",
              "      <td>2020-12-31</td>\n",
              "      <td>20:00</td>\n",
              "      <td>0.0</td>\n",
              "      <td>23.8</td>\n",
              "      <td>982.7</td>\n",
              "      <td>64.0</td>\n",
              "      <td>NaN</td>\n",
              "      <td>NaN</td>\n",
              "      <td>NaN</td>\n",
              "      <td>NaN</td>\n",
              "    </tr>\n",
              "    <tr>\n",
              "      <th>96429</th>\n",
              "      <td>20</td>\n",
              "      <td>CGMN</td>\n",
              "      <td>2020-12-31</td>\n",
              "      <td>21:00</td>\n",
              "      <td>0.0</td>\n",
              "      <td>23.2</td>\n",
              "      <td>983.6</td>\n",
              "      <td>63.5</td>\n",
              "      <td>NaN</td>\n",
              "      <td>NaN</td>\n",
              "      <td>NaN</td>\n",
              "      <td>NaN</td>\n",
              "    </tr>\n",
              "    <tr>\n",
              "      <th>96430</th>\n",
              "      <td>20</td>\n",
              "      <td>CGMN</td>\n",
              "      <td>2020-12-31</td>\n",
              "      <td>22:00</td>\n",
              "      <td>0.0</td>\n",
              "      <td>22.7</td>\n",
              "      <td>983.9</td>\n",
              "      <td>64.9</td>\n",
              "      <td>NaN</td>\n",
              "      <td>NaN</td>\n",
              "      <td>NaN</td>\n",
              "      <td>NaN</td>\n",
              "    </tr>\n",
              "    <tr>\n",
              "      <th>96431</th>\n",
              "      <td>20</td>\n",
              "      <td>CGMN</td>\n",
              "      <td>2020-12-31</td>\n",
              "      <td>23:00</td>\n",
              "      <td>0.0</td>\n",
              "      <td>22.3</td>\n",
              "      <td>984.0</td>\n",
              "      <td>65.9</td>\n",
              "      <td>NaN</td>\n",
              "      <td>NaN</td>\n",
              "      <td>NaN</td>\n",
              "      <td>NaN</td>\n",
              "    </tr>\n",
              "  </tbody>\n",
              "</table>\n",
              "<p>81154 rows × 12 columns</p>\n",
              "</div>"
            ],
            "text/plain": [
              "      Key  code  ... Percent_of_Province_Area Non_Forest_Area\n",
              "15278  11  CGMN  ...                      NaN             NaN\n",
              "15279  11  CGMN  ...                      NaN             NaN\n",
              "15280  11  CGMN  ...                      NaN             NaN\n",
              "15281  11  CGMN  ...                      NaN             NaN\n",
              "15282  11  CGMN  ...                      NaN             NaN\n",
              "...    ..   ...  ...                      ...             ...\n",
              "96427  20  CGMN  ...                      NaN             NaN\n",
              "96428  20  CGMN  ...                      NaN             NaN\n",
              "96429  20  CGMN  ...                      NaN             NaN\n",
              "96430  20  CGMN  ...                      NaN             NaN\n",
              "96431  20  CGMN  ...                      NaN             NaN\n",
              "\n",
              "[81154 rows x 12 columns]"
            ]
          },
          "metadata": {
            "tags": []
          }
        },
        {
          "output_type": "display_data",
          "data": {
            "text/html": [
              "<div>\n",
              "<style scoped>\n",
              "    .dataframe tbody tr th:only-of-type {\n",
              "        vertical-align: middle;\n",
              "    }\n",
              "\n",
              "    .dataframe tbody tr th {\n",
              "        vertical-align: top;\n",
              "    }\n",
              "\n",
              "    .dataframe thead th {\n",
              "        text-align: right;\n",
              "    }\n",
              "</style>\n",
              "<table border=\"1\" class=\"dataframe\">\n",
              "  <thead>\n",
              "    <tr style=\"text-align: right;\">\n",
              "      <th></th>\n",
              "      <th>Key</th>\n",
              "      <th>code</th>\n",
              "      <th>date</th>\n",
              "      <th>time</th>\n",
              "      <th>rain1h</th>\n",
              "      <th>temp_out</th>\n",
              "      <th>press</th>\n",
              "      <th>humid</th>\n",
              "      <th>Province_Area</th>\n",
              "      <th>Forest_Area</th>\n",
              "      <th>Percent_of_Province_Area</th>\n",
              "      <th>Non_Forest_Area</th>\n",
              "    </tr>\n",
              "  </thead>\n",
              "  <tbody>\n",
              "    <tr>\n",
              "      <th>11707</th>\n",
              "      <td>11</td>\n",
              "      <td>WCHN</td>\n",
              "      <td>2011-05-03</td>\n",
              "      <td>19:00</td>\n",
              "      <td>0.0</td>\n",
              "      <td>29.4</td>\n",
              "      <td>992.0</td>\n",
              "      <td>92.0</td>\n",
              "      <td>NaN</td>\n",
              "      <td>NaN</td>\n",
              "      <td>NaN</td>\n",
              "      <td>NaN</td>\n",
              "    </tr>\n",
              "    <tr>\n",
              "      <th>11708</th>\n",
              "      <td>11</td>\n",
              "      <td>WCHN</td>\n",
              "      <td>2011-05-03</td>\n",
              "      <td>20:00</td>\n",
              "      <td>NaN</td>\n",
              "      <td>NaN</td>\n",
              "      <td>NaN</td>\n",
              "      <td>NaN</td>\n",
              "      <td>NaN</td>\n",
              "      <td>NaN</td>\n",
              "      <td>NaN</td>\n",
              "      <td>NaN</td>\n",
              "    </tr>\n",
              "    <tr>\n",
              "      <th>11709</th>\n",
              "      <td>11</td>\n",
              "      <td>WCHN</td>\n",
              "      <td>2011-05-03</td>\n",
              "      <td>21:00</td>\n",
              "      <td>NaN</td>\n",
              "      <td>NaN</td>\n",
              "      <td>NaN</td>\n",
              "      <td>NaN</td>\n",
              "      <td>NaN</td>\n",
              "      <td>NaN</td>\n",
              "      <td>NaN</td>\n",
              "      <td>NaN</td>\n",
              "    </tr>\n",
              "    <tr>\n",
              "      <th>11710</th>\n",
              "      <td>11</td>\n",
              "      <td>WCHN</td>\n",
              "      <td>2011-05-03</td>\n",
              "      <td>22:00</td>\n",
              "      <td>0.2</td>\n",
              "      <td>25.0</td>\n",
              "      <td>994.0</td>\n",
              "      <td>99.0</td>\n",
              "      <td>NaN</td>\n",
              "      <td>NaN</td>\n",
              "      <td>NaN</td>\n",
              "      <td>NaN</td>\n",
              "    </tr>\n",
              "    <tr>\n",
              "      <th>11711</th>\n",
              "      <td>11</td>\n",
              "      <td>WCHN</td>\n",
              "      <td>2011-05-03</td>\n",
              "      <td>23:00</td>\n",
              "      <td>NaN</td>\n",
              "      <td>NaN</td>\n",
              "      <td>NaN</td>\n",
              "      <td>NaN</td>\n",
              "      <td>NaN</td>\n",
              "      <td>NaN</td>\n",
              "      <td>NaN</td>\n",
              "      <td>NaN</td>\n",
              "    </tr>\n",
              "    <tr>\n",
              "      <th>...</th>\n",
              "      <td>...</td>\n",
              "      <td>...</td>\n",
              "      <td>...</td>\n",
              "      <td>...</td>\n",
              "      <td>...</td>\n",
              "      <td>...</td>\n",
              "      <td>...</td>\n",
              "      <td>...</td>\n",
              "      <td>...</td>\n",
              "      <td>...</td>\n",
              "      <td>...</td>\n",
              "      <td>...</td>\n",
              "    </tr>\n",
              "    <tr>\n",
              "      <th>96427</th>\n",
              "      <td>20</td>\n",
              "      <td>WCHN</td>\n",
              "      <td>2020-12-31</td>\n",
              "      <td>19:00</td>\n",
              "      <td>0.0</td>\n",
              "      <td>22.8</td>\n",
              "      <td>998.5</td>\n",
              "      <td>81.9</td>\n",
              "      <td>NaN</td>\n",
              "      <td>NaN</td>\n",
              "      <td>NaN</td>\n",
              "      <td>NaN</td>\n",
              "    </tr>\n",
              "    <tr>\n",
              "      <th>96428</th>\n",
              "      <td>20</td>\n",
              "      <td>WCHN</td>\n",
              "      <td>2020-12-31</td>\n",
              "      <td>20:00</td>\n",
              "      <td>0.0</td>\n",
              "      <td>21.3</td>\n",
              "      <td>999.6</td>\n",
              "      <td>86.4</td>\n",
              "      <td>NaN</td>\n",
              "      <td>NaN</td>\n",
              "      <td>NaN</td>\n",
              "      <td>NaN</td>\n",
              "    </tr>\n",
              "    <tr>\n",
              "      <th>96429</th>\n",
              "      <td>20</td>\n",
              "      <td>WCHN</td>\n",
              "      <td>2020-12-31</td>\n",
              "      <td>21:00</td>\n",
              "      <td>0.0</td>\n",
              "      <td>19.8</td>\n",
              "      <td>1000.3</td>\n",
              "      <td>89.5</td>\n",
              "      <td>NaN</td>\n",
              "      <td>NaN</td>\n",
              "      <td>NaN</td>\n",
              "      <td>NaN</td>\n",
              "    </tr>\n",
              "    <tr>\n",
              "      <th>96430</th>\n",
              "      <td>20</td>\n",
              "      <td>WCHN</td>\n",
              "      <td>2020-12-31</td>\n",
              "      <td>22:00</td>\n",
              "      <td>0.0</td>\n",
              "      <td>18.6</td>\n",
              "      <td>1000.8</td>\n",
              "      <td>93.0</td>\n",
              "      <td>NaN</td>\n",
              "      <td>NaN</td>\n",
              "      <td>NaN</td>\n",
              "      <td>NaN</td>\n",
              "    </tr>\n",
              "    <tr>\n",
              "      <th>96431</th>\n",
              "      <td>20</td>\n",
              "      <td>WCHN</td>\n",
              "      <td>2020-12-31</td>\n",
              "      <td>23:00</td>\n",
              "      <td>0.0</td>\n",
              "      <td>17.5</td>\n",
              "      <td>1001.3</td>\n",
              "      <td>93.6</td>\n",
              "      <td>NaN</td>\n",
              "      <td>NaN</td>\n",
              "      <td>NaN</td>\n",
              "      <td>NaN</td>\n",
              "    </tr>\n",
              "  </tbody>\n",
              "</table>\n",
              "<p>84725 rows × 12 columns</p>\n",
              "</div>"
            ],
            "text/plain": [
              "      Key  code  ... Percent_of_Province_Area Non_Forest_Area\n",
              "11707  11  WCHN  ...                      NaN             NaN\n",
              "11708  11  WCHN  ...                      NaN             NaN\n",
              "11709  11  WCHN  ...                      NaN             NaN\n",
              "11710  11  WCHN  ...                      NaN             NaN\n",
              "11711  11  WCHN  ...                      NaN             NaN\n",
              "...    ..   ...  ...                      ...             ...\n",
              "96427  20  WCHN  ...                      NaN             NaN\n",
              "96428  20  WCHN  ...                      NaN             NaN\n",
              "96429  20  WCHN  ...                      NaN             NaN\n",
              "96430  20  WCHN  ...                      NaN             NaN\n",
              "96431  20  WCHN  ...                      NaN             NaN\n",
              "\n",
              "[84725 rows x 12 columns]"
            ]
          },
          "metadata": {
            "tags": []
          }
        },
        {
          "output_type": "display_data",
          "data": {
            "text/html": [
              "<div>\n",
              "<style scoped>\n",
              "    .dataframe tbody tr th:only-of-type {\n",
              "        vertical-align: middle;\n",
              "    }\n",
              "\n",
              "    .dataframe tbody tr th {\n",
              "        vertical-align: top;\n",
              "    }\n",
              "\n",
              "    .dataframe thead th {\n",
              "        text-align: right;\n",
              "    }\n",
              "</style>\n",
              "<table border=\"1\" class=\"dataframe\">\n",
              "  <thead>\n",
              "    <tr style=\"text-align: right;\">\n",
              "      <th></th>\n",
              "      <th>Key</th>\n",
              "      <th>code</th>\n",
              "      <th>date</th>\n",
              "      <th>time</th>\n",
              "      <th>rain1h</th>\n",
              "      <th>temp_out</th>\n",
              "      <th>press</th>\n",
              "      <th>humid</th>\n",
              "      <th>Province_Area</th>\n",
              "      <th>Forest_Area</th>\n",
              "      <th>Percent_of_Province_Area</th>\n",
              "      <th>Non_Forest_Area</th>\n",
              "    </tr>\n",
              "  </thead>\n",
              "  <tbody>\n",
              "    <tr>\n",
              "      <th>11176</th>\n",
              "      <td>11</td>\n",
              "      <td>SWKL</td>\n",
              "      <td>2011-04-11</td>\n",
              "      <td>16:00</td>\n",
              "      <td>0.0</td>\n",
              "      <td>41.7</td>\n",
              "      <td>996.0</td>\n",
              "      <td>43.0</td>\n",
              "      <td>NaN</td>\n",
              "      <td>NaN</td>\n",
              "      <td>NaN</td>\n",
              "      <td>NaN</td>\n",
              "    </tr>\n",
              "    <tr>\n",
              "      <th>11177</th>\n",
              "      <td>11</td>\n",
              "      <td>SWKL</td>\n",
              "      <td>2011-04-11</td>\n",
              "      <td>17:00</td>\n",
              "      <td>NaN</td>\n",
              "      <td>NaN</td>\n",
              "      <td>NaN</td>\n",
              "      <td>NaN</td>\n",
              "      <td>NaN</td>\n",
              "      <td>NaN</td>\n",
              "      <td>NaN</td>\n",
              "      <td>NaN</td>\n",
              "    </tr>\n",
              "    <tr>\n",
              "      <th>11178</th>\n",
              "      <td>11</td>\n",
              "      <td>SWKL</td>\n",
              "      <td>2011-04-11</td>\n",
              "      <td>18:00</td>\n",
              "      <td>NaN</td>\n",
              "      <td>NaN</td>\n",
              "      <td>NaN</td>\n",
              "      <td>NaN</td>\n",
              "      <td>NaN</td>\n",
              "      <td>NaN</td>\n",
              "      <td>NaN</td>\n",
              "      <td>NaN</td>\n",
              "    </tr>\n",
              "    <tr>\n",
              "      <th>11179</th>\n",
              "      <td>11</td>\n",
              "      <td>SWKL</td>\n",
              "      <td>2011-04-11</td>\n",
              "      <td>19:00</td>\n",
              "      <td>NaN</td>\n",
              "      <td>NaN</td>\n",
              "      <td>NaN</td>\n",
              "      <td>NaN</td>\n",
              "      <td>NaN</td>\n",
              "      <td>NaN</td>\n",
              "      <td>NaN</td>\n",
              "      <td>NaN</td>\n",
              "    </tr>\n",
              "    <tr>\n",
              "      <th>11180</th>\n",
              "      <td>11</td>\n",
              "      <td>SWKL</td>\n",
              "      <td>2011-04-11</td>\n",
              "      <td>20:00</td>\n",
              "      <td>NaN</td>\n",
              "      <td>NaN</td>\n",
              "      <td>NaN</td>\n",
              "      <td>NaN</td>\n",
              "      <td>NaN</td>\n",
              "      <td>NaN</td>\n",
              "      <td>NaN</td>\n",
              "      <td>NaN</td>\n",
              "    </tr>\n",
              "    <tr>\n",
              "      <th>...</th>\n",
              "      <td>...</td>\n",
              "      <td>...</td>\n",
              "      <td>...</td>\n",
              "      <td>...</td>\n",
              "      <td>...</td>\n",
              "      <td>...</td>\n",
              "      <td>...</td>\n",
              "      <td>...</td>\n",
              "      <td>...</td>\n",
              "      <td>...</td>\n",
              "      <td>...</td>\n",
              "      <td>...</td>\n",
              "    </tr>\n",
              "    <tr>\n",
              "      <th>96427</th>\n",
              "      <td>20</td>\n",
              "      <td>SWKL</td>\n",
              "      <td>2020-12-31</td>\n",
              "      <td>19:00</td>\n",
              "      <td>0.0</td>\n",
              "      <td>22.8</td>\n",
              "      <td>1008.1</td>\n",
              "      <td>61.3</td>\n",
              "      <td>NaN</td>\n",
              "      <td>NaN</td>\n",
              "      <td>NaN</td>\n",
              "      <td>NaN</td>\n",
              "    </tr>\n",
              "    <tr>\n",
              "      <th>96428</th>\n",
              "      <td>20</td>\n",
              "      <td>SWKL</td>\n",
              "      <td>2020-12-31</td>\n",
              "      <td>20:00</td>\n",
              "      <td>0.0</td>\n",
              "      <td>22.7</td>\n",
              "      <td>1009.2</td>\n",
              "      <td>61.8</td>\n",
              "      <td>NaN</td>\n",
              "      <td>NaN</td>\n",
              "      <td>NaN</td>\n",
              "      <td>NaN</td>\n",
              "    </tr>\n",
              "    <tr>\n",
              "      <th>96429</th>\n",
              "      <td>20</td>\n",
              "      <td>SWKL</td>\n",
              "      <td>2020-12-31</td>\n",
              "      <td>21:00</td>\n",
              "      <td>0.0</td>\n",
              "      <td>21.1</td>\n",
              "      <td>1010.1</td>\n",
              "      <td>66.0</td>\n",
              "      <td>NaN</td>\n",
              "      <td>NaN</td>\n",
              "      <td>NaN</td>\n",
              "      <td>NaN</td>\n",
              "    </tr>\n",
              "    <tr>\n",
              "      <th>96430</th>\n",
              "      <td>20</td>\n",
              "      <td>SWKL</td>\n",
              "      <td>2020-12-31</td>\n",
              "      <td>22:00</td>\n",
              "      <td>0.0</td>\n",
              "      <td>19.8</td>\n",
              "      <td>1010.7</td>\n",
              "      <td>70.2</td>\n",
              "      <td>NaN</td>\n",
              "      <td>NaN</td>\n",
              "      <td>NaN</td>\n",
              "      <td>NaN</td>\n",
              "    </tr>\n",
              "    <tr>\n",
              "      <th>96431</th>\n",
              "      <td>20</td>\n",
              "      <td>SWKL</td>\n",
              "      <td>2020-12-31</td>\n",
              "      <td>23:00</td>\n",
              "      <td>0.0</td>\n",
              "      <td>19.3</td>\n",
              "      <td>1010.8</td>\n",
              "      <td>70.6</td>\n",
              "      <td>NaN</td>\n",
              "      <td>NaN</td>\n",
              "      <td>NaN</td>\n",
              "      <td>NaN</td>\n",
              "    </tr>\n",
              "  </tbody>\n",
              "</table>\n",
              "<p>85256 rows × 12 columns</p>\n",
              "</div>"
            ],
            "text/plain": [
              "      Key  code  ... Percent_of_Province_Area Non_Forest_Area\n",
              "11176  11  SWKL  ...                      NaN             NaN\n",
              "11177  11  SWKL  ...                      NaN             NaN\n",
              "11178  11  SWKL  ...                      NaN             NaN\n",
              "11179  11  SWKL  ...                      NaN             NaN\n",
              "11180  11  SWKL  ...                      NaN             NaN\n",
              "...    ..   ...  ...                      ...             ...\n",
              "96427  20  SWKL  ...                      NaN             NaN\n",
              "96428  20  SWKL  ...                      NaN             NaN\n",
              "96429  20  SWKL  ...                      NaN             NaN\n",
              "96430  20  SWKL  ...                      NaN             NaN\n",
              "96431  20  SWKL  ...                      NaN             NaN\n",
              "\n",
              "[85256 rows x 12 columns]"
            ]
          },
          "metadata": {
            "tags": []
          }
        }
      ]
    },
    {
      "cell_type": "markdown",
      "metadata": {
        "id": "UJqPEsS_o9sn"
      },
      "source": [
        "Find the rest of missing values"
      ]
    },
    {
      "cell_type": "code",
      "metadata": {
        "colab": {
          "base_uri": "https://localhost:8080/",
          "height": 0
        },
        "id": "lGcEC164cdxD",
        "outputId": "e4eccd7f-88fa-4c99-ec5c-c41ec0244108"
      },
      "source": [
        "#North\n",
        "print(\"สถานีทต.เชียงม่วน\")\n",
        "display(north_df.isna().sum())\n",
        "#Mid\n",
        "print(\"\\n\\nสถานีอบต.วังชิ้น\")\n",
        "display(mid_df.isna().sum())\n",
        "#South\n",
        "print(\"\\n\\nสถานีโรงฆ่าสัตว์ ทม.สวรรคโลก\")\n",
        "display(south_df.isna().sum())"
      ],
      "execution_count": 48,
      "outputs": [
        {
          "output_type": "stream",
          "text": [
            "สถานีทต.เชียงม่วน\n"
          ],
          "name": "stdout"
        },
        {
          "output_type": "display_data",
          "data": {
            "text/plain": [
              "Key                             0\n",
              "code                            0\n",
              "date                            0\n",
              "time                            0\n",
              "rain1h                      18748\n",
              "temp_out                    20142\n",
              "press                       19051\n",
              "humid                       27080\n",
              "Province_Area               19810\n",
              "Forest_Area                 19810\n",
              "Percent_of_Province_Area    19810\n",
              "Non_Forest_Area             19810\n",
              "dtype: int64"
            ]
          },
          "metadata": {
            "tags": []
          }
        },
        {
          "output_type": "stream",
          "text": [
            "\n",
            "\n",
            "สถานีอบต.วังชิ้น\n"
          ],
          "name": "stdout"
        },
        {
          "output_type": "display_data",
          "data": {
            "text/plain": [
              "Key                             0\n",
              "code                            0\n",
              "date                            0\n",
              "time                            0\n",
              "rain1h                       6028\n",
              "temp_out                     7402\n",
              "press                        6729\n",
              "humid                       26456\n",
              "Province_Area               23381\n",
              "Forest_Area                 23381\n",
              "Percent_of_Province_Area    23381\n",
              "Non_Forest_Area             23381\n",
              "dtype: int64"
            ]
          },
          "metadata": {
            "tags": []
          }
        },
        {
          "output_type": "stream",
          "text": [
            "\n",
            "\n",
            "สถานีโรงฆ่าสัตว์ ทม.สวรรคโลก\n"
          ],
          "name": "stdout"
        },
        {
          "output_type": "display_data",
          "data": {
            "text/plain": [
              "Key                             0\n",
              "code                            0\n",
              "date                            0\n",
              "time                            0\n",
              "rain1h                       5602\n",
              "temp_out                     6281\n",
              "press                       27173\n",
              "humid                        7304\n",
              "Province_Area               23912\n",
              "Forest_Area                 23912\n",
              "Percent_of_Province_Area    23912\n",
              "Non_Forest_Area             23912\n",
              "dtype: int64"
            ]
          },
          "metadata": {
            "tags": []
          }
        }
      ]
    },
    {
      "cell_type": "markdown",
      "metadata": {
        "id": "L6QUmIgUXy-K"
      },
      "source": [
        "Handle missing values with filling a random values in their columns because it have a lot of null data this method will not change data's distribution"
      ]
    },
    {
      "cell_type": "code",
      "metadata": {
        "id": "tA4dMif5lP1h"
      },
      "source": [
        "def fill_missing_value(df):\n",
        "  feature_missing = df.columns[df.isnull().any()].tolist()\n",
        "  df_original = df.copy()\n",
        "  for i in feature_missing:\n",
        "    np.random.seed(0)\n",
        "    nan_rows = df[i].isna()\n",
        "    random_feat = np.random.choice(df[i][~nan_rows], replace=True, size=sum(nan_rows)) \n",
        "    df.loc[nan_rows,i] = random_feat\n",
        "  return df"
      ],
      "execution_count": 49,
      "outputs": []
    },
    {
      "cell_type": "code",
      "metadata": {
        "id": "guxZzPySl3lU",
        "colab": {
          "base_uri": "https://localhost:8080/",
          "height": 0
        },
        "outputId": "781c04d0-0b19-47f0-a7c9-155a94d2f22b"
      },
      "source": [
        "north_df = fill_missing_value(north_df)\n",
        "mid_df = fill_missing_value(mid_df)\n",
        "south_df = fill_missing_value(south_df)\n",
        "display(north_df)\n",
        "display(mid_df)\n",
        "display(south_df)"
      ],
      "execution_count": 50,
      "outputs": [
        {
          "output_type": "display_data",
          "data": {
            "text/html": [
              "<div>\n",
              "<style scoped>\n",
              "    .dataframe tbody tr th:only-of-type {\n",
              "        vertical-align: middle;\n",
              "    }\n",
              "\n",
              "    .dataframe tbody tr th {\n",
              "        vertical-align: top;\n",
              "    }\n",
              "\n",
              "    .dataframe thead th {\n",
              "        text-align: right;\n",
              "    }\n",
              "</style>\n",
              "<table border=\"1\" class=\"dataframe\">\n",
              "  <thead>\n",
              "    <tr style=\"text-align: right;\">\n",
              "      <th></th>\n",
              "      <th>Key</th>\n",
              "      <th>code</th>\n",
              "      <th>date</th>\n",
              "      <th>time</th>\n",
              "      <th>rain1h</th>\n",
              "      <th>temp_out</th>\n",
              "      <th>press</th>\n",
              "      <th>humid</th>\n",
              "      <th>Province_Area</th>\n",
              "      <th>Forest_Area</th>\n",
              "      <th>Percent_of_Province_Area</th>\n",
              "      <th>Non_Forest_Area</th>\n",
              "    </tr>\n",
              "  </thead>\n",
              "  <tbody>\n",
              "    <tr>\n",
              "      <th>15278</th>\n",
              "      <td>11</td>\n",
              "      <td>CGMN</td>\n",
              "      <td>2011-09-29</td>\n",
              "      <td>14:00</td>\n",
              "      <td>0.0</td>\n",
              "      <td>34.8</td>\n",
              "      <td>974.0</td>\n",
              "      <td>73.0</td>\n",
              "      <td>19,254,452.30</td>\n",
              "      <td>12,181,835.00</td>\n",
              "      <td>183.95</td>\n",
              "      <td>116.05</td>\n",
              "    </tr>\n",
              "    <tr>\n",
              "      <th>15279</th>\n",
              "      <td>11</td>\n",
              "      <td>CGMN</td>\n",
              "      <td>2011-09-29</td>\n",
              "      <td>15:00</td>\n",
              "      <td>0.0</td>\n",
              "      <td>33.8</td>\n",
              "      <td>974.0</td>\n",
              "      <td>70.0</td>\n",
              "      <td>19,254,452.30</td>\n",
              "      <td>12,115,729.16</td>\n",
              "      <td>182.92</td>\n",
              "      <td>117.08</td>\n",
              "    </tr>\n",
              "    <tr>\n",
              "      <th>15280</th>\n",
              "      <td>11</td>\n",
              "      <td>CGMN</td>\n",
              "      <td>2011-09-29</td>\n",
              "      <td>16:00</td>\n",
              "      <td>0.0</td>\n",
              "      <td>36.8</td>\n",
              "      <td>976.0</td>\n",
              "      <td>71.0</td>\n",
              "      <td>19,254,452.30</td>\n",
              "      <td>12,115,729.16</td>\n",
              "      <td>182.92</td>\n",
              "      <td>117.08</td>\n",
              "    </tr>\n",
              "    <tr>\n",
              "      <th>15281</th>\n",
              "      <td>11</td>\n",
              "      <td>CGMN</td>\n",
              "      <td>2011-09-29</td>\n",
              "      <td>17:00</td>\n",
              "      <td>0.0</td>\n",
              "      <td>32.8</td>\n",
              "      <td>975.0</td>\n",
              "      <td>72.0</td>\n",
              "      <td>19,254,452.30</td>\n",
              "      <td>12,128,810.16</td>\n",
              "      <td>183.14</td>\n",
              "      <td>116.86</td>\n",
              "    </tr>\n",
              "    <tr>\n",
              "      <th>15282</th>\n",
              "      <td>11</td>\n",
              "      <td>CGMN</td>\n",
              "      <td>2011-09-29</td>\n",
              "      <td>18:00</td>\n",
              "      <td>0.0</td>\n",
              "      <td>28.9</td>\n",
              "      <td>977.0</td>\n",
              "      <td>85.0</td>\n",
              "      <td>19,254,452.30</td>\n",
              "      <td>12,128,810.16</td>\n",
              "      <td>183.14</td>\n",
              "      <td>116.86</td>\n",
              "    </tr>\n",
              "    <tr>\n",
              "      <th>...</th>\n",
              "      <td>...</td>\n",
              "      <td>...</td>\n",
              "      <td>...</td>\n",
              "      <td>...</td>\n",
              "      <td>...</td>\n",
              "      <td>...</td>\n",
              "      <td>...</td>\n",
              "      <td>...</td>\n",
              "      <td>...</td>\n",
              "      <td>...</td>\n",
              "      <td>...</td>\n",
              "      <td>...</td>\n",
              "    </tr>\n",
              "    <tr>\n",
              "      <th>96427</th>\n",
              "      <td>20</td>\n",
              "      <td>CGMN</td>\n",
              "      <td>2020-12-31</td>\n",
              "      <td>19:00</td>\n",
              "      <td>0.0</td>\n",
              "      <td>24.8</td>\n",
              "      <td>981.8</td>\n",
              "      <td>61.4</td>\n",
              "      <td>19,254,452.30</td>\n",
              "      <td>12,103,104.21</td>\n",
              "      <td>182.76</td>\n",
              "      <td>117.24</td>\n",
              "    </tr>\n",
              "    <tr>\n",
              "      <th>96428</th>\n",
              "      <td>20</td>\n",
              "      <td>CGMN</td>\n",
              "      <td>2020-12-31</td>\n",
              "      <td>20:00</td>\n",
              "      <td>0.0</td>\n",
              "      <td>23.8</td>\n",
              "      <td>982.7</td>\n",
              "      <td>64.0</td>\n",
              "      <td>19,254,452.30</td>\n",
              "      <td>12,197,151.71</td>\n",
              "      <td>184.23</td>\n",
              "      <td>115.77</td>\n",
              "    </tr>\n",
              "    <tr>\n",
              "      <th>96429</th>\n",
              "      <td>20</td>\n",
              "      <td>CGMN</td>\n",
              "      <td>2020-12-31</td>\n",
              "      <td>21:00</td>\n",
              "      <td>0.0</td>\n",
              "      <td>23.2</td>\n",
              "      <td>983.6</td>\n",
              "      <td>63.5</td>\n",
              "      <td>19,254,452.30</td>\n",
              "      <td>12,177,949.25</td>\n",
              "      <td>183.89</td>\n",
              "      <td>116.11</td>\n",
              "    </tr>\n",
              "    <tr>\n",
              "      <th>96430</th>\n",
              "      <td>20</td>\n",
              "      <td>CGMN</td>\n",
              "      <td>2020-12-31</td>\n",
              "      <td>22:00</td>\n",
              "      <td>0.0</td>\n",
              "      <td>22.7</td>\n",
              "      <td>983.9</td>\n",
              "      <td>64.9</td>\n",
              "      <td>19,254,452.30</td>\n",
              "      <td>12,128,810.16</td>\n",
              "      <td>183.14</td>\n",
              "      <td>116.86</td>\n",
              "    </tr>\n",
              "    <tr>\n",
              "      <th>96431</th>\n",
              "      <td>20</td>\n",
              "      <td>CGMN</td>\n",
              "      <td>2020-12-31</td>\n",
              "      <td>23:00</td>\n",
              "      <td>0.0</td>\n",
              "      <td>22.3</td>\n",
              "      <td>984.0</td>\n",
              "      <td>65.9</td>\n",
              "      <td>19,254,452.30</td>\n",
              "      <td>12,115,729.16</td>\n",
              "      <td>182.92</td>\n",
              "      <td>117.08</td>\n",
              "    </tr>\n",
              "  </tbody>\n",
              "</table>\n",
              "<p>81154 rows × 12 columns</p>\n",
              "</div>"
            ],
            "text/plain": [
              "      Key  code  ... Percent_of_Province_Area Non_Forest_Area\n",
              "15278  11  CGMN  ...                   183.95          116.05\n",
              "15279  11  CGMN  ...                   182.92          117.08\n",
              "15280  11  CGMN  ...                   182.92          117.08\n",
              "15281  11  CGMN  ...                   183.14          116.86\n",
              "15282  11  CGMN  ...                   183.14          116.86\n",
              "...    ..   ...  ...                      ...             ...\n",
              "96427  20  CGMN  ...                   182.76          117.24\n",
              "96428  20  CGMN  ...                   184.23          115.77\n",
              "96429  20  CGMN  ...                   183.89          116.11\n",
              "96430  20  CGMN  ...                   183.14          116.86\n",
              "96431  20  CGMN  ...                   182.92          117.08\n",
              "\n",
              "[81154 rows x 12 columns]"
            ]
          },
          "metadata": {
            "tags": []
          }
        },
        {
          "output_type": "display_data",
          "data": {
            "text/html": [
              "<div>\n",
              "<style scoped>\n",
              "    .dataframe tbody tr th:only-of-type {\n",
              "        vertical-align: middle;\n",
              "    }\n",
              "\n",
              "    .dataframe tbody tr th {\n",
              "        vertical-align: top;\n",
              "    }\n",
              "\n",
              "    .dataframe thead th {\n",
              "        text-align: right;\n",
              "    }\n",
              "</style>\n",
              "<table border=\"1\" class=\"dataframe\">\n",
              "  <thead>\n",
              "    <tr style=\"text-align: right;\">\n",
              "      <th></th>\n",
              "      <th>Key</th>\n",
              "      <th>code</th>\n",
              "      <th>date</th>\n",
              "      <th>time</th>\n",
              "      <th>rain1h</th>\n",
              "      <th>temp_out</th>\n",
              "      <th>press</th>\n",
              "      <th>humid</th>\n",
              "      <th>Province_Area</th>\n",
              "      <th>Forest_Area</th>\n",
              "      <th>Percent_of_Province_Area</th>\n",
              "      <th>Non_Forest_Area</th>\n",
              "    </tr>\n",
              "  </thead>\n",
              "  <tbody>\n",
              "    <tr>\n",
              "      <th>11707</th>\n",
              "      <td>11</td>\n",
              "      <td>WCHN</td>\n",
              "      <td>2011-05-03</td>\n",
              "      <td>19:00</td>\n",
              "      <td>0.0</td>\n",
              "      <td>29.4</td>\n",
              "      <td>992.0</td>\n",
              "      <td>92.0</td>\n",
              "      <td>4,051,912.64</td>\n",
              "      <td>2,515,083.57</td>\n",
              "      <td>62.07</td>\n",
              "      <td>37.93</td>\n",
              "    </tr>\n",
              "    <tr>\n",
              "      <th>11708</th>\n",
              "      <td>11</td>\n",
              "      <td>WCHN</td>\n",
              "      <td>2011-05-03</td>\n",
              "      <td>20:00</td>\n",
              "      <td>0.0</td>\n",
              "      <td>28.4</td>\n",
              "      <td>992.9</td>\n",
              "      <td>79.0</td>\n",
              "      <td>4,051,912.64</td>\n",
              "      <td>2,610,863.30</td>\n",
              "      <td>64.44</td>\n",
              "      <td>35.56</td>\n",
              "    </tr>\n",
              "    <tr>\n",
              "      <th>11709</th>\n",
              "      <td>11</td>\n",
              "      <td>WCHN</td>\n",
              "      <td>2011-05-03</td>\n",
              "      <td>21:00</td>\n",
              "      <td>0.0</td>\n",
              "      <td>19.1</td>\n",
              "      <td>999.0</td>\n",
              "      <td>96.0</td>\n",
              "      <td>4,051,912.64</td>\n",
              "      <td>2,610,863.30</td>\n",
              "      <td>64.44</td>\n",
              "      <td>35.56</td>\n",
              "    </tr>\n",
              "    <tr>\n",
              "      <th>11710</th>\n",
              "      <td>11</td>\n",
              "      <td>WCHN</td>\n",
              "      <td>2011-05-03</td>\n",
              "      <td>22:00</td>\n",
              "      <td>0.2</td>\n",
              "      <td>25.0</td>\n",
              "      <td>994.0</td>\n",
              "      <td>99.0</td>\n",
              "      <td>4,051,912.64</td>\n",
              "      <td>2,623,909.73</td>\n",
              "      <td>64.76</td>\n",
              "      <td>35.24</td>\n",
              "    </tr>\n",
              "    <tr>\n",
              "      <th>11711</th>\n",
              "      <td>11</td>\n",
              "      <td>WCHN</td>\n",
              "      <td>2011-05-03</td>\n",
              "      <td>23:00</td>\n",
              "      <td>0.0</td>\n",
              "      <td>21.6</td>\n",
              "      <td>995.0</td>\n",
              "      <td>59.0</td>\n",
              "      <td>4,051,912.64</td>\n",
              "      <td>2,623,909.73</td>\n",
              "      <td>64.76</td>\n",
              "      <td>35.24</td>\n",
              "    </tr>\n",
              "    <tr>\n",
              "      <th>...</th>\n",
              "      <td>...</td>\n",
              "      <td>...</td>\n",
              "      <td>...</td>\n",
              "      <td>...</td>\n",
              "      <td>...</td>\n",
              "      <td>...</td>\n",
              "      <td>...</td>\n",
              "      <td>...</td>\n",
              "      <td>...</td>\n",
              "      <td>...</td>\n",
              "      <td>...</td>\n",
              "      <td>...</td>\n",
              "    </tr>\n",
              "    <tr>\n",
              "      <th>96427</th>\n",
              "      <td>20</td>\n",
              "      <td>WCHN</td>\n",
              "      <td>2020-12-31</td>\n",
              "      <td>19:00</td>\n",
              "      <td>0.0</td>\n",
              "      <td>22.8</td>\n",
              "      <td>998.5</td>\n",
              "      <td>81.9</td>\n",
              "      <td>4,051,912.64</td>\n",
              "      <td>2,623,909.73</td>\n",
              "      <td>64.76</td>\n",
              "      <td>35.24</td>\n",
              "    </tr>\n",
              "    <tr>\n",
              "      <th>96428</th>\n",
              "      <td>20</td>\n",
              "      <td>WCHN</td>\n",
              "      <td>2020-12-31</td>\n",
              "      <td>20:00</td>\n",
              "      <td>0.0</td>\n",
              "      <td>21.3</td>\n",
              "      <td>999.6</td>\n",
              "      <td>86.4</td>\n",
              "      <td>4,051,912.64</td>\n",
              "      <td>2,623,909.73</td>\n",
              "      <td>64.76</td>\n",
              "      <td>35.24</td>\n",
              "    </tr>\n",
              "    <tr>\n",
              "      <th>96429</th>\n",
              "      <td>20</td>\n",
              "      <td>WCHN</td>\n",
              "      <td>2020-12-31</td>\n",
              "      <td>21:00</td>\n",
              "      <td>0.0</td>\n",
              "      <td>19.8</td>\n",
              "      <td>1000.3</td>\n",
              "      <td>89.5</td>\n",
              "      <td>4,051,912.64</td>\n",
              "      <td>2,623,909.73</td>\n",
              "      <td>64.76</td>\n",
              "      <td>35.24</td>\n",
              "    </tr>\n",
              "    <tr>\n",
              "      <th>96430</th>\n",
              "      <td>20</td>\n",
              "      <td>WCHN</td>\n",
              "      <td>2020-12-31</td>\n",
              "      <td>22:00</td>\n",
              "      <td>0.0</td>\n",
              "      <td>18.6</td>\n",
              "      <td>1000.8</td>\n",
              "      <td>93.0</td>\n",
              "      <td>4,051,912.64</td>\n",
              "      <td>2,623,909.73</td>\n",
              "      <td>64.76</td>\n",
              "      <td>35.24</td>\n",
              "    </tr>\n",
              "    <tr>\n",
              "      <th>96431</th>\n",
              "      <td>20</td>\n",
              "      <td>WCHN</td>\n",
              "      <td>2020-12-31</td>\n",
              "      <td>23:00</td>\n",
              "      <td>0.0</td>\n",
              "      <td>17.5</td>\n",
              "      <td>1001.3</td>\n",
              "      <td>93.6</td>\n",
              "      <td>4,051,912.64</td>\n",
              "      <td>2,623,909.73</td>\n",
              "      <td>64.76</td>\n",
              "      <td>35.24</td>\n",
              "    </tr>\n",
              "  </tbody>\n",
              "</table>\n",
              "<p>84725 rows × 12 columns</p>\n",
              "</div>"
            ],
            "text/plain": [
              "      Key  code  ... Percent_of_Province_Area Non_Forest_Area\n",
              "11707  11  WCHN  ...                    62.07           37.93\n",
              "11708  11  WCHN  ...                    64.44           35.56\n",
              "11709  11  WCHN  ...                    64.44           35.56\n",
              "11710  11  WCHN  ...                    64.76           35.24\n",
              "11711  11  WCHN  ...                    64.76           35.24\n",
              "...    ..   ...  ...                      ...             ...\n",
              "96427  20  WCHN  ...                    64.76           35.24\n",
              "96428  20  WCHN  ...                    64.76           35.24\n",
              "96429  20  WCHN  ...                    64.76           35.24\n",
              "96430  20  WCHN  ...                    64.76           35.24\n",
              "96431  20  WCHN  ...                    64.76           35.24\n",
              "\n",
              "[84725 rows x 12 columns]"
            ]
          },
          "metadata": {
            "tags": []
          }
        },
        {
          "output_type": "display_data",
          "data": {
            "text/html": [
              "<div>\n",
              "<style scoped>\n",
              "    .dataframe tbody tr th:only-of-type {\n",
              "        vertical-align: middle;\n",
              "    }\n",
              "\n",
              "    .dataframe tbody tr th {\n",
              "        vertical-align: top;\n",
              "    }\n",
              "\n",
              "    .dataframe thead th {\n",
              "        text-align: right;\n",
              "    }\n",
              "</style>\n",
              "<table border=\"1\" class=\"dataframe\">\n",
              "  <thead>\n",
              "    <tr style=\"text-align: right;\">\n",
              "      <th></th>\n",
              "      <th>Key</th>\n",
              "      <th>code</th>\n",
              "      <th>date</th>\n",
              "      <th>time</th>\n",
              "      <th>rain1h</th>\n",
              "      <th>temp_out</th>\n",
              "      <th>press</th>\n",
              "      <th>humid</th>\n",
              "      <th>Province_Area</th>\n",
              "      <th>Forest_Area</th>\n",
              "      <th>Percent_of_Province_Area</th>\n",
              "      <th>Non_Forest_Area</th>\n",
              "    </tr>\n",
              "  </thead>\n",
              "  <tbody>\n",
              "    <tr>\n",
              "      <th>11176</th>\n",
              "      <td>11</td>\n",
              "      <td>SWKL</td>\n",
              "      <td>2011-04-11</td>\n",
              "      <td>16:00</td>\n",
              "      <td>0.0</td>\n",
              "      <td>41.7</td>\n",
              "      <td>996.0</td>\n",
              "      <td>43.0</td>\n",
              "      <td>84,183,434.55</td>\n",
              "      <td>41,275,108.50</td>\n",
              "      <td>551.44</td>\n",
              "      <td>748.56</td>\n",
              "    </tr>\n",
              "    <tr>\n",
              "      <th>11177</th>\n",
              "      <td>11</td>\n",
              "      <td>SWKL</td>\n",
              "      <td>2011-04-11</td>\n",
              "      <td>17:00</td>\n",
              "      <td>0.0</td>\n",
              "      <td>24.9</td>\n",
              "      <td>1002.0</td>\n",
              "      <td>89.3</td>\n",
              "      <td>84,183,434.55</td>\n",
              "      <td>41,652,816.09</td>\n",
              "      <td>564.0</td>\n",
              "      <td>736.0</td>\n",
              "    </tr>\n",
              "    <tr>\n",
              "      <th>11178</th>\n",
              "      <td>11</td>\n",
              "      <td>SWKL</td>\n",
              "      <td>2011-04-11</td>\n",
              "      <td>18:00</td>\n",
              "      <td>0.0</td>\n",
              "      <td>27.9</td>\n",
              "      <td>1002.0</td>\n",
              "      <td>34.0</td>\n",
              "      <td>84,183,434.55</td>\n",
              "      <td>41,652,816.09</td>\n",
              "      <td>564.0</td>\n",
              "      <td>736.0</td>\n",
              "    </tr>\n",
              "    <tr>\n",
              "      <th>11179</th>\n",
              "      <td>11</td>\n",
              "      <td>SWKL</td>\n",
              "      <td>2011-04-11</td>\n",
              "      <td>19:00</td>\n",
              "      <td>0.0</td>\n",
              "      <td>25.5</td>\n",
              "      <td>997.0</td>\n",
              "      <td>36.0</td>\n",
              "      <td>84,183,434.55</td>\n",
              "      <td>41,728,212.55</td>\n",
              "      <td>565.64</td>\n",
              "      <td>734.36</td>\n",
              "    </tr>\n",
              "    <tr>\n",
              "      <th>11180</th>\n",
              "      <td>11</td>\n",
              "      <td>SWKL</td>\n",
              "      <td>2011-04-11</td>\n",
              "      <td>20:00</td>\n",
              "      <td>0.0</td>\n",
              "      <td>26.5</td>\n",
              "      <td>1005.2</td>\n",
              "      <td>71.0</td>\n",
              "      <td>84,183,434.55</td>\n",
              "      <td>41,728,212.55</td>\n",
              "      <td>565.64</td>\n",
              "      <td>734.36</td>\n",
              "    </tr>\n",
              "    <tr>\n",
              "      <th>...</th>\n",
              "      <td>...</td>\n",
              "      <td>...</td>\n",
              "      <td>...</td>\n",
              "      <td>...</td>\n",
              "      <td>...</td>\n",
              "      <td>...</td>\n",
              "      <td>...</td>\n",
              "      <td>...</td>\n",
              "      <td>...</td>\n",
              "      <td>...</td>\n",
              "      <td>...</td>\n",
              "      <td>...</td>\n",
              "    </tr>\n",
              "    <tr>\n",
              "      <th>96427</th>\n",
              "      <td>20</td>\n",
              "      <td>SWKL</td>\n",
              "      <td>2020-12-31</td>\n",
              "      <td>19:00</td>\n",
              "      <td>0.0</td>\n",
              "      <td>22.8</td>\n",
              "      <td>1008.1</td>\n",
              "      <td>61.3</td>\n",
              "      <td>84,183,434.55</td>\n",
              "      <td>41,652,712.94</td>\n",
              "      <td>563.8</td>\n",
              "      <td>736.2</td>\n",
              "    </tr>\n",
              "    <tr>\n",
              "      <th>96428</th>\n",
              "      <td>20</td>\n",
              "      <td>SWKL</td>\n",
              "      <td>2020-12-31</td>\n",
              "      <td>20:00</td>\n",
              "      <td>0.0</td>\n",
              "      <td>22.7</td>\n",
              "      <td>1009.2</td>\n",
              "      <td>61.8</td>\n",
              "      <td>84,183,434.55</td>\n",
              "      <td>41,652,816.09</td>\n",
              "      <td>564.0</td>\n",
              "      <td>736.0</td>\n",
              "    </tr>\n",
              "    <tr>\n",
              "      <th>96429</th>\n",
              "      <td>20</td>\n",
              "      <td>SWKL</td>\n",
              "      <td>2020-12-31</td>\n",
              "      <td>21:00</td>\n",
              "      <td>0.0</td>\n",
              "      <td>21.1</td>\n",
              "      <td>1010.1</td>\n",
              "      <td>66.0</td>\n",
              "      <td>84,183,434.55</td>\n",
              "      <td>41,661,864.73</td>\n",
              "      <td>565.03</td>\n",
              "      <td>734.97</td>\n",
              "    </tr>\n",
              "    <tr>\n",
              "      <th>96430</th>\n",
              "      <td>20</td>\n",
              "      <td>SWKL</td>\n",
              "      <td>2020-12-31</td>\n",
              "      <td>22:00</td>\n",
              "      <td>0.0</td>\n",
              "      <td>19.8</td>\n",
              "      <td>1010.7</td>\n",
              "      <td>70.2</td>\n",
              "      <td>84,183,434.55</td>\n",
              "      <td>41,652,816.09</td>\n",
              "      <td>564.0</td>\n",
              "      <td>736.0</td>\n",
              "    </tr>\n",
              "    <tr>\n",
              "      <th>96431</th>\n",
              "      <td>20</td>\n",
              "      <td>SWKL</td>\n",
              "      <td>2020-12-31</td>\n",
              "      <td>23:00</td>\n",
              "      <td>0.0</td>\n",
              "      <td>19.3</td>\n",
              "      <td>1010.8</td>\n",
              "      <td>70.6</td>\n",
              "      <td>84,183,434.55</td>\n",
              "      <td>41,728,212.55</td>\n",
              "      <td>565.64</td>\n",
              "      <td>734.36</td>\n",
              "    </tr>\n",
              "  </tbody>\n",
              "</table>\n",
              "<p>85256 rows × 12 columns</p>\n",
              "</div>"
            ],
            "text/plain": [
              "      Key  code  ... Percent_of_Province_Area Non_Forest_Area\n",
              "11176  11  SWKL  ...                   551.44          748.56\n",
              "11177  11  SWKL  ...                    564.0           736.0\n",
              "11178  11  SWKL  ...                    564.0           736.0\n",
              "11179  11  SWKL  ...                   565.64          734.36\n",
              "11180  11  SWKL  ...                   565.64          734.36\n",
              "...    ..   ...  ...                      ...             ...\n",
              "96427  20  SWKL  ...                    563.8           736.2\n",
              "96428  20  SWKL  ...                    564.0           736.0\n",
              "96429  20  SWKL  ...                   565.03          734.97\n",
              "96430  20  SWKL  ...                    564.0           736.0\n",
              "96431  20  SWKL  ...                   565.64          734.36\n",
              "\n",
              "[85256 rows x 12 columns]"
            ]
          },
          "metadata": {
            "tags": []
          }
        }
      ]
    },
    {
      "cell_type": "code",
      "metadata": {
        "id": "jAnkfRKdbiJU",
        "colab": {
          "base_uri": "https://localhost:8080/",
          "height": 0
        },
        "outputId": "1df97014-a01b-4220-8b1e-3b40392430aa"
      },
      "source": [
        "#North\n",
        "print(\"สถานีทต.เชียงม่วน\")\n",
        "display(north_df.isna().sum())\n",
        "#Mid\n",
        "print(\"\\n\\nสถานีอบต.วังชิ้น\")\n",
        "display(mid_df.isna().sum())\n",
        "#South\n",
        "print(\"\\n\\nสถานีโรงฆ่าสัตว์ ทม.สวรรคโลก\")\n",
        "display(south_df.isna().sum())"
      ],
      "execution_count": 51,
      "outputs": [
        {
          "output_type": "stream",
          "text": [
            "สถานีทต.เชียงม่วน\n"
          ],
          "name": "stdout"
        },
        {
          "output_type": "display_data",
          "data": {
            "text/plain": [
              "Key                         0\n",
              "code                        0\n",
              "date                        0\n",
              "time                        0\n",
              "rain1h                      0\n",
              "temp_out                    0\n",
              "press                       0\n",
              "humid                       0\n",
              "Province_Area               0\n",
              "Forest_Area                 0\n",
              "Percent_of_Province_Area    0\n",
              "Non_Forest_Area             0\n",
              "dtype: int64"
            ]
          },
          "metadata": {
            "tags": []
          }
        },
        {
          "output_type": "stream",
          "text": [
            "\n",
            "\n",
            "สถานีอบต.วังชิ้น\n"
          ],
          "name": "stdout"
        },
        {
          "output_type": "display_data",
          "data": {
            "text/plain": [
              "Key                         0\n",
              "code                        0\n",
              "date                        0\n",
              "time                        0\n",
              "rain1h                      0\n",
              "temp_out                    0\n",
              "press                       0\n",
              "humid                       0\n",
              "Province_Area               0\n",
              "Forest_Area                 0\n",
              "Percent_of_Province_Area    0\n",
              "Non_Forest_Area             0\n",
              "dtype: int64"
            ]
          },
          "metadata": {
            "tags": []
          }
        },
        {
          "output_type": "stream",
          "text": [
            "\n",
            "\n",
            "สถานีโรงฆ่าสัตว์ ทม.สวรรคโลก\n"
          ],
          "name": "stdout"
        },
        {
          "output_type": "display_data",
          "data": {
            "text/plain": [
              "Key                         0\n",
              "code                        0\n",
              "date                        0\n",
              "time                        0\n",
              "rain1h                      0\n",
              "temp_out                    0\n",
              "press                       0\n",
              "humid                       0\n",
              "Province_Area               0\n",
              "Forest_Area                 0\n",
              "Percent_of_Province_Area    0\n",
              "Non_Forest_Area             0\n",
              "dtype: int64"
            ]
          },
          "metadata": {
            "tags": []
          }
        }
      ]
    },
    {
      "cell_type": "code",
      "metadata": {
        "id": "EBfMzM9uCEk7"
      },
      "source": [
        "# def change_todate(df):\n",
        "#   df['Year'] = df['date'].apply(lambda x: str(x)[:4])\n",
        "#   df['Month'] = df['date'].apply(lambda x: str(x)[5:7])\n",
        "#   df['Day'] = df['date'].apply(lambda x: str(x)[8:])\n",
        "#   df['date'] = pd.to_datetime(df['date'])\n",
        "#   return df"
      ],
      "execution_count": 52,
      "outputs": []
    },
    {
      "cell_type": "code",
      "metadata": {
        "id": "GeA4i1lUEpzX"
      },
      "source": [
        "#change_todate(df) ตอนบน กลาง ล่าง\n",
        "# change_todate(north_df)"
      ],
      "execution_count": 53,
      "outputs": []
    },
    {
      "cell_type": "code",
      "metadata": {
        "id": "zvIvhQIwfGod"
      },
      "source": [
        "# change_todate(mid_df)"
      ],
      "execution_count": 54,
      "outputs": []
    },
    {
      "cell_type": "code",
      "metadata": {
        "id": "-zmW5z6TfPGy"
      },
      "source": [
        "# change_todate(south_df)"
      ],
      "execution_count": 55,
      "outputs": []
    },
    {
      "cell_type": "markdown",
      "metadata": {
        "id": "yDlstODsckcS"
      },
      "source": [
        "\n",
        "\n",
        "##Data Transformation\n",
        "\n"
      ]
    },
    {
      "cell_type": "markdown",
      "metadata": {
        "id": "N_JsV2xeP817"
      },
      "source": [
        "###Aggregating data <br>\n",
        "Aggregating all features to 1 day (ฝนสะสมต่อวัน, อุณหภูมิ ความกดอากาศ ความเร็วลมเฉลี่ย)"
      ]
    },
    {
      "cell_type": "code",
      "metadata": {
        "id": "J0WpNzHtQDtQ"
      },
      "source": [
        "def transformtoOneday(df):\n",
        "  df_new = df.groupby('date')['temp_out','press','humid'].mean()\n",
        "  df_new['rain1d'] = df.groupby('date')['rain1h'].sum()\n",
        "  df_temp = df.groupby('date')['Key','code','Province_Area','Forest_Area','Percent_of_Province_Area','Non_Forest_Area'].first()\n",
        "  dff = pd.concat([df_temp, df_new], axis=1)\n",
        "  dff['Date'] = df['date'].unique()\n",
        "  first_column = dff.pop('Date')\n",
        "  dff.insert(0, 'Date', first_column)\n",
        "  dff.reset_index(drop=True, inplace=True)\n",
        "  return dff"
      ],
      "execution_count": 56,
      "outputs": []
    },
    {
      "cell_type": "code",
      "metadata": {
        "colab": {
          "base_uri": "https://localhost:8080/"
        },
        "id": "bkazVWgMRSqz",
        "outputId": "4e8045de-2902-429e-f9b5-f9aa3c0a678e"
      },
      "source": [
        "north_df = transformtoOneday(north_df)\n",
        "mid_df = transformtoOneday(mid_df)\n",
        "south_df = transformtoOneday(south_df)"
      ],
      "execution_count": 57,
      "outputs": [
        {
          "output_type": "stream",
          "text": [
            "/usr/local/lib/python3.7/dist-packages/ipykernel_launcher.py:2: FutureWarning: Indexing with multiple keys (implicitly converted to a tuple of keys) will be deprecated, use a list instead.\n",
            "  \n",
            "/usr/local/lib/python3.7/dist-packages/ipykernel_launcher.py:4: FutureWarning: Indexing with multiple keys (implicitly converted to a tuple of keys) will be deprecated, use a list instead.\n",
            "  after removing the cwd from sys.path.\n"
          ],
          "name": "stderr"
        }
      ]
    },
    {
      "cell_type": "code",
      "metadata": {
        "colab": {
          "base_uri": "https://localhost:8080/",
          "height": 0
        },
        "id": "L1F2V58bRhAF",
        "outputId": "e75b8c02-f735-4d58-b0d6-1145cacc561a"
      },
      "source": [
        "#overview data\n",
        "print(\"สถานีทต.เชียงม่วน\")\n",
        "display(north_df.head())\n",
        "print(\"\\n\\nสถานีอบต.วังชิ้น\")\n",
        "display(mid_df.head())\n",
        "print(\"\\n\\nสถานีโรงฆ่าสัตว์ ทม.สวรรคโลก\")\n",
        "display(south_df.head())"
      ],
      "execution_count": 58,
      "outputs": [
        {
          "output_type": "stream",
          "text": [
            "สถานีทต.เชียงม่วน\n"
          ],
          "name": "stdout"
        },
        {
          "output_type": "display_data",
          "data": {
            "text/html": [
              "<div>\n",
              "<style scoped>\n",
              "    .dataframe tbody tr th:only-of-type {\n",
              "        vertical-align: middle;\n",
              "    }\n",
              "\n",
              "    .dataframe tbody tr th {\n",
              "        vertical-align: top;\n",
              "    }\n",
              "\n",
              "    .dataframe thead th {\n",
              "        text-align: right;\n",
              "    }\n",
              "</style>\n",
              "<table border=\"1\" class=\"dataframe\">\n",
              "  <thead>\n",
              "    <tr style=\"text-align: right;\">\n",
              "      <th></th>\n",
              "      <th>Date</th>\n",
              "      <th>Key</th>\n",
              "      <th>code</th>\n",
              "      <th>Province_Area</th>\n",
              "      <th>Forest_Area</th>\n",
              "      <th>Percent_of_Province_Area</th>\n",
              "      <th>Non_Forest_Area</th>\n",
              "      <th>temp_out</th>\n",
              "      <th>press</th>\n",
              "      <th>humid</th>\n",
              "      <th>rain1d</th>\n",
              "    </tr>\n",
              "  </thead>\n",
              "  <tbody>\n",
              "    <tr>\n",
              "      <th>0</th>\n",
              "      <td>2011-09-29</td>\n",
              "      <td>11</td>\n",
              "      <td>CGMN</td>\n",
              "      <td>19,254,452.30</td>\n",
              "      <td>12,181,835.00</td>\n",
              "      <td>183.95</td>\n",
              "      <td>116.05</td>\n",
              "      <td>29.800000</td>\n",
              "      <td>977.200000</td>\n",
              "      <td>78.660000</td>\n",
              "      <td>0.0</td>\n",
              "    </tr>\n",
              "    <tr>\n",
              "      <th>1</th>\n",
              "      <td>2011-09-30</td>\n",
              "      <td>11</td>\n",
              "      <td>CGMN</td>\n",
              "      <td>19,254,452.30</td>\n",
              "      <td>12,177,345.86</td>\n",
              "      <td>183.97</td>\n",
              "      <td>116.03</td>\n",
              "      <td>29.641667</td>\n",
              "      <td>976.708333</td>\n",
              "      <td>71.083333</td>\n",
              "      <td>0.0</td>\n",
              "    </tr>\n",
              "    <tr>\n",
              "      <th>2</th>\n",
              "      <td>2011-10-01</td>\n",
              "      <td>11</td>\n",
              "      <td>CGMN</td>\n",
              "      <td>19,254,452.30</td>\n",
              "      <td>12,115,729.16</td>\n",
              "      <td>182.92</td>\n",
              "      <td>117.08</td>\n",
              "      <td>27.079167</td>\n",
              "      <td>977.750000</td>\n",
              "      <td>74.566667</td>\n",
              "      <td>60.2</td>\n",
              "    </tr>\n",
              "    <tr>\n",
              "      <th>3</th>\n",
              "      <td>2011-10-02</td>\n",
              "      <td>11</td>\n",
              "      <td>CGMN</td>\n",
              "      <td>19,254,452.30</td>\n",
              "      <td>12,177,345.86</td>\n",
              "      <td>183.97</td>\n",
              "      <td>116.03</td>\n",
              "      <td>28.129167</td>\n",
              "      <td>979.433333</td>\n",
              "      <td>76.333333</td>\n",
              "      <td>7.8</td>\n",
              "    </tr>\n",
              "    <tr>\n",
              "      <th>4</th>\n",
              "      <td>2011-10-03</td>\n",
              "      <td>11</td>\n",
              "      <td>CGMN</td>\n",
              "      <td>19,254,452.30</td>\n",
              "      <td>12,177,345.86</td>\n",
              "      <td>183.97</td>\n",
              "      <td>116.03</td>\n",
              "      <td>27.808333</td>\n",
              "      <td>979.458333</td>\n",
              "      <td>79.087500</td>\n",
              "      <td>8.0</td>\n",
              "    </tr>\n",
              "  </tbody>\n",
              "</table>\n",
              "</div>"
            ],
            "text/plain": [
              "         Date Key  code  ...       press      humid rain1d\n",
              "0  2011-09-29  11  CGMN  ...  977.200000  78.660000    0.0\n",
              "1  2011-09-30  11  CGMN  ...  976.708333  71.083333    0.0\n",
              "2  2011-10-01  11  CGMN  ...  977.750000  74.566667   60.2\n",
              "3  2011-10-02  11  CGMN  ...  979.433333  76.333333    7.8\n",
              "4  2011-10-03  11  CGMN  ...  979.458333  79.087500    8.0\n",
              "\n",
              "[5 rows x 11 columns]"
            ]
          },
          "metadata": {
            "tags": []
          }
        },
        {
          "output_type": "stream",
          "text": [
            "\n",
            "\n",
            "สถานีอบต.วังชิ้น\n"
          ],
          "name": "stdout"
        },
        {
          "output_type": "display_data",
          "data": {
            "text/html": [
              "<div>\n",
              "<style scoped>\n",
              "    .dataframe tbody tr th:only-of-type {\n",
              "        vertical-align: middle;\n",
              "    }\n",
              "\n",
              "    .dataframe tbody tr th {\n",
              "        vertical-align: top;\n",
              "    }\n",
              "\n",
              "    .dataframe thead th {\n",
              "        text-align: right;\n",
              "    }\n",
              "</style>\n",
              "<table border=\"1\" class=\"dataframe\">\n",
              "  <thead>\n",
              "    <tr style=\"text-align: right;\">\n",
              "      <th></th>\n",
              "      <th>Date</th>\n",
              "      <th>Key</th>\n",
              "      <th>code</th>\n",
              "      <th>Province_Area</th>\n",
              "      <th>Forest_Area</th>\n",
              "      <th>Percent_of_Province_Area</th>\n",
              "      <th>Non_Forest_Area</th>\n",
              "      <th>temp_out</th>\n",
              "      <th>press</th>\n",
              "      <th>humid</th>\n",
              "      <th>rain1d</th>\n",
              "    </tr>\n",
              "  </thead>\n",
              "  <tbody>\n",
              "    <tr>\n",
              "      <th>0</th>\n",
              "      <td>2011-05-03</td>\n",
              "      <td>11</td>\n",
              "      <td>WCHN</td>\n",
              "      <td>4,051,912.64</td>\n",
              "      <td>2,515,083.57</td>\n",
              "      <td>62.07</td>\n",
              "      <td>37.93</td>\n",
              "      <td>24.700000</td>\n",
              "      <td>994.580000</td>\n",
              "      <td>85.000000</td>\n",
              "      <td>0.2</td>\n",
              "    </tr>\n",
              "    <tr>\n",
              "      <th>1</th>\n",
              "      <td>2011-05-04</td>\n",
              "      <td>11</td>\n",
              "      <td>WCHN</td>\n",
              "      <td>4,051,912.64</td>\n",
              "      <td>2,600,029.96</td>\n",
              "      <td>64.17</td>\n",
              "      <td>35.83</td>\n",
              "      <td>28.679167</td>\n",
              "      <td>994.408333</td>\n",
              "      <td>79.891667</td>\n",
              "      <td>2.4</td>\n",
              "    </tr>\n",
              "    <tr>\n",
              "      <th>2</th>\n",
              "      <td>2011-05-05</td>\n",
              "      <td>11</td>\n",
              "      <td>WCHN</td>\n",
              "      <td>4,051,912.64</td>\n",
              "      <td>2,610,863.30</td>\n",
              "      <td>64.44</td>\n",
              "      <td>35.56</td>\n",
              "      <td>28.754167</td>\n",
              "      <td>995.191667</td>\n",
              "      <td>75.112500</td>\n",
              "      <td>0.6</td>\n",
              "    </tr>\n",
              "    <tr>\n",
              "      <th>3</th>\n",
              "      <td>2011-05-06</td>\n",
              "      <td>11</td>\n",
              "      <td>WCHN</td>\n",
              "      <td>4,051,912.64</td>\n",
              "      <td>2,600,029.96</td>\n",
              "      <td>64.17</td>\n",
              "      <td>35.83</td>\n",
              "      <td>28.891667</td>\n",
              "      <td>995.008333</td>\n",
              "      <td>73.387500</td>\n",
              "      <td>0.0</td>\n",
              "    </tr>\n",
              "    <tr>\n",
              "      <th>4</th>\n",
              "      <td>2011-05-07</td>\n",
              "      <td>11</td>\n",
              "      <td>WCHN</td>\n",
              "      <td>4,051,912.64</td>\n",
              "      <td>2,623,909.73</td>\n",
              "      <td>64.76</td>\n",
              "      <td>35.24</td>\n",
              "      <td>27.216667</td>\n",
              "      <td>994.637500</td>\n",
              "      <td>80.679167</td>\n",
              "      <td>0.0</td>\n",
              "    </tr>\n",
              "  </tbody>\n",
              "</table>\n",
              "</div>"
            ],
            "text/plain": [
              "         Date Key  code Province_Area  ...   temp_out       press      humid  rain1d\n",
              "0  2011-05-03  11  WCHN  4,051,912.64  ...  24.700000  994.580000  85.000000     0.2\n",
              "1  2011-05-04  11  WCHN  4,051,912.64  ...  28.679167  994.408333  79.891667     2.4\n",
              "2  2011-05-05  11  WCHN  4,051,912.64  ...  28.754167  995.191667  75.112500     0.6\n",
              "3  2011-05-06  11  WCHN  4,051,912.64  ...  28.891667  995.008333  73.387500     0.0\n",
              "4  2011-05-07  11  WCHN  4,051,912.64  ...  27.216667  994.637500  80.679167     0.0\n",
              "\n",
              "[5 rows x 11 columns]"
            ]
          },
          "metadata": {
            "tags": []
          }
        },
        {
          "output_type": "stream",
          "text": [
            "\n",
            "\n",
            "สถานีโรงฆ่าสัตว์ ทม.สวรรคโลก\n"
          ],
          "name": "stdout"
        },
        {
          "output_type": "display_data",
          "data": {
            "text/html": [
              "<div>\n",
              "<style scoped>\n",
              "    .dataframe tbody tr th:only-of-type {\n",
              "        vertical-align: middle;\n",
              "    }\n",
              "\n",
              "    .dataframe tbody tr th {\n",
              "        vertical-align: top;\n",
              "    }\n",
              "\n",
              "    .dataframe thead th {\n",
              "        text-align: right;\n",
              "    }\n",
              "</style>\n",
              "<table border=\"1\" class=\"dataframe\">\n",
              "  <thead>\n",
              "    <tr style=\"text-align: right;\">\n",
              "      <th></th>\n",
              "      <th>Date</th>\n",
              "      <th>Key</th>\n",
              "      <th>code</th>\n",
              "      <th>Province_Area</th>\n",
              "      <th>Forest_Area</th>\n",
              "      <th>Percent_of_Province_Area</th>\n",
              "      <th>Non_Forest_Area</th>\n",
              "      <th>temp_out</th>\n",
              "      <th>press</th>\n",
              "      <th>humid</th>\n",
              "      <th>rain1d</th>\n",
              "    </tr>\n",
              "  </thead>\n",
              "  <tbody>\n",
              "    <tr>\n",
              "      <th>0</th>\n",
              "      <td>2011-04-11</td>\n",
              "      <td>11</td>\n",
              "      <td>SWKL</td>\n",
              "      <td>84,183,434.55</td>\n",
              "      <td>41,275,108.50</td>\n",
              "      <td>551.44</td>\n",
              "      <td>748.56</td>\n",
              "      <td>30.425000</td>\n",
              "      <td>1001.900000</td>\n",
              "      <td>62.875000</td>\n",
              "      <td>0.0</td>\n",
              "    </tr>\n",
              "    <tr>\n",
              "      <th>1</th>\n",
              "      <td>2011-04-12</td>\n",
              "      <td>11</td>\n",
              "      <td>SWKL</td>\n",
              "      <td>84,183,434.55</td>\n",
              "      <td>41,652,816.09</td>\n",
              "      <td>564.0</td>\n",
              "      <td>736.0</td>\n",
              "      <td>30.370833</td>\n",
              "      <td>1001.112500</td>\n",
              "      <td>67.683333</td>\n",
              "      <td>0.2</td>\n",
              "    </tr>\n",
              "    <tr>\n",
              "      <th>2</th>\n",
              "      <td>2011-04-13</td>\n",
              "      <td>11</td>\n",
              "      <td>SWKL</td>\n",
              "      <td>84,183,434.55</td>\n",
              "      <td>41,275,108.50</td>\n",
              "      <td>551.44</td>\n",
              "      <td>748.56</td>\n",
              "      <td>29.108333</td>\n",
              "      <td>1000.966667</td>\n",
              "      <td>61.720833</td>\n",
              "      <td>0.2</td>\n",
              "    </tr>\n",
              "    <tr>\n",
              "      <th>3</th>\n",
              "      <td>2011-04-14</td>\n",
              "      <td>11</td>\n",
              "      <td>SWKL</td>\n",
              "      <td>84,183,434.55</td>\n",
              "      <td>41,661,864.73</td>\n",
              "      <td>565.03</td>\n",
              "      <td>734.97</td>\n",
              "      <td>29.308333</td>\n",
              "      <td>1002.354167</td>\n",
              "      <td>72.741667</td>\n",
              "      <td>0.0</td>\n",
              "    </tr>\n",
              "    <tr>\n",
              "      <th>4</th>\n",
              "      <td>2011-04-15</td>\n",
              "      <td>11</td>\n",
              "      <td>SWKL</td>\n",
              "      <td>84,183,434.55</td>\n",
              "      <td>41,728,212.55</td>\n",
              "      <td>565.64</td>\n",
              "      <td>734.36</td>\n",
              "      <td>30.675000</td>\n",
              "      <td>1002.987500</td>\n",
              "      <td>72.229167</td>\n",
              "      <td>0.0</td>\n",
              "    </tr>\n",
              "  </tbody>\n",
              "</table>\n",
              "</div>"
            ],
            "text/plain": [
              "         Date Key  code  ...        press      humid rain1d\n",
              "0  2011-04-11  11  SWKL  ...  1001.900000  62.875000    0.0\n",
              "1  2011-04-12  11  SWKL  ...  1001.112500  67.683333    0.2\n",
              "2  2011-04-13  11  SWKL  ...  1000.966667  61.720833    0.2\n",
              "3  2011-04-14  11  SWKL  ...  1002.354167  72.741667    0.0\n",
              "4  2011-04-15  11  SWKL  ...  1002.987500  72.229167    0.0\n",
              "\n",
              "[5 rows x 11 columns]"
            ]
          },
          "metadata": {
            "tags": []
          }
        }
      ]
    },
    {
      "cell_type": "code",
      "metadata": {
        "id": "SoIYZVb0sTi4"
      },
      "source": [
        "# set index\n",
        "# def transform_index(dataframe):\n",
        "#   dataframe = dataframe.set_index('date')\n",
        "#   return dataframe"
      ],
      "execution_count": 59,
      "outputs": []
    },
    {
      "cell_type": "code",
      "metadata": {
        "id": "f4glvpAB3IuX"
      },
      "source": [
        "#เรียกใช้ transform_index\n",
        "#transform_index(n_df)"
      ],
      "execution_count": 60,
      "outputs": []
    },
    {
      "cell_type": "markdown",
      "metadata": {
        "id": "xkb6NOTolcl4"
      },
      "source": [
        "#Data Exploration"
      ]
    },
    {
      "cell_type": "markdown",
      "metadata": {
        "id": "ji4UEF_1lot4"
      },
      "source": [
        "## **อิ่ม**\n",
        "\n",
        "*   Analyzing and comparing rainfall <br> ดูปริมาณน้ำฝนแล้วก็แนวโน้มของปัจจัยอื่นๆด้วยได้ เพื่อตอบคำถาม plot graph<br> \n",
        "-ปริมาณฝนรายปีมีการเปลี่ยนแปลงอย่างไร<br> \n",
        "-บริเวณใด(บน กลาง ล่าง มีความผันผวน)ของปริมาณฝนมากที่สุด ระหว่างฤดูหรือปี<br> \n"
      ]
    },
    {
      "cell_type": "code",
      "metadata": {
        "id": "67ITF4gHBrhK"
      },
      "source": [
        "#ตัวอย่าง plot แต่อย่าลืมทำเป็นปีก่อนจะดูง่ายกว่าภาพล่าง df_new = df.copy()\n",
        "\n",
        "# df_new.Prep.plot(figsize=(15,5))\n",
        "# plt.title('Prep Trend')\n",
        "# #plt.title('Symbol: {}'.format(stock_symbol))\n",
        "# plt.grid()\n",
        "# plt.legend();"
      ],
      "execution_count": 61,
      "outputs": []
    },
    {
      "cell_type": "code",
      "metadata": {
        "id": "2Tdblb9bbYFZ"
      },
      "source": [
        "# function for calculate annual rainfall\n",
        "def transformtoPerYear(df) :\n",
        "  # df_new = df.groupby('Date')['temp_out','press','humid'].mean()\n",
        "  df['year'] = pd.to_datetime(df['Date']).apply(lambda x: '{year}'.format(year=x.year))\n",
        "  rain = df.copy()\n",
        "  temp = df.copy()\n",
        "  df_new = rain.groupby('year')['rain1d'].sum()\n",
        "  df_new_temp = temp.groupby('year')['temp_out'].mean()\n",
        "  df_temp = df.groupby('year')['Key','code','Province_Area','Forest_Area','Percent_of_Province_Area','Non_Forest_Area'].first()\n",
        "  dff = pd.merge(df_temp.reset_index(), df_new.reset_index(), on=\"year\")\n",
        "  dff = pd.merge(dff.reset_index(), df_new_temp.reset_index(), on=\"year\")\n",
        "  dff = dff.rename(columns = {'rain1d': 'rain1y'}, inplace = False)\n",
        "  return dff"
      ],
      "execution_count": 63,
      "outputs": []
    },
    {
      "cell_type": "code",
      "metadata": {
        "id": "ynzYAD9pbu2U"
      },
      "source": [
        "#function for ploting graph\n",
        "from matplotlib import pyplot as plt\n",
        "def plot(x, y, title, x_label, y_label):\n",
        "  plt.figure(figsize=(10,10))\n",
        "    \n",
        "  # plotting the points \n",
        "  plt.plot(x.values, y.values, color='green', linestyle='dashed', linewidth = 3,\n",
        "          marker='o', markerfacecolor='blue', markersize=12)\n",
        "    \n",
        "  # naming the x axis\n",
        "  plt.xlabel(x_label)\n",
        "  # naming the y axis\n",
        "  plt.ylabel(y_label)\n",
        "    \n",
        "  # giving a title to my graph\n",
        "  plt.title(title)\n",
        "    \n",
        "  # function to show the plot\n",
        "  plt.show()"
      ],
      "execution_count": 64,
      "outputs": []
    },
    {
      "cell_type": "code",
      "metadata": {
        "id": "nRbP5NbomDeS",
        "colab": {
          "base_uri": "https://localhost:8080/",
          "height": 413
        },
        "outputId": "c696c6ba-8ea9-4893-d10b-43c3bc6575f9"
      },
      "source": [
        "#สถานีตอนบน\n",
        "north_df_year = transformtoPerYear(north_df)\n",
        "display(north_df_year)"
      ],
      "execution_count": 65,
      "outputs": [
        {
          "output_type": "stream",
          "text": [
            "/usr/local/lib/python3.7/dist-packages/ipykernel_launcher.py:9: FutureWarning: Indexing with multiple keys (implicitly converted to a tuple of keys) will be deprecated, use a list instead.\n",
            "  if __name__ == '__main__':\n"
          ],
          "name": "stderr"
        },
        {
          "output_type": "display_data",
          "data": {
            "text/html": [
              "<div>\n",
              "<style scoped>\n",
              "    .dataframe tbody tr th:only-of-type {\n",
              "        vertical-align: middle;\n",
              "    }\n",
              "\n",
              "    .dataframe tbody tr th {\n",
              "        vertical-align: top;\n",
              "    }\n",
              "\n",
              "    .dataframe thead th {\n",
              "        text-align: right;\n",
              "    }\n",
              "</style>\n",
              "<table border=\"1\" class=\"dataframe\">\n",
              "  <thead>\n",
              "    <tr style=\"text-align: right;\">\n",
              "      <th></th>\n",
              "      <th>index</th>\n",
              "      <th>year</th>\n",
              "      <th>Key</th>\n",
              "      <th>code</th>\n",
              "      <th>Province_Area</th>\n",
              "      <th>Forest_Area</th>\n",
              "      <th>Percent_of_Province_Area</th>\n",
              "      <th>Non_Forest_Area</th>\n",
              "      <th>rain1y</th>\n",
              "      <th>temp_out</th>\n",
              "    </tr>\n",
              "  </thead>\n",
              "  <tbody>\n",
              "    <tr>\n",
              "      <th>0</th>\n",
              "      <td>0</td>\n",
              "      <td>2011</td>\n",
              "      <td>11</td>\n",
              "      <td>CGMN</td>\n",
              "      <td>19,254,452.30</td>\n",
              "      <td>12,181,835.00</td>\n",
              "      <td>183.95</td>\n",
              "      <td>116.05</td>\n",
              "      <td>259.6</td>\n",
              "      <td>27.662589</td>\n",
              "    </tr>\n",
              "    <tr>\n",
              "      <th>1</th>\n",
              "      <td>1</td>\n",
              "      <td>2012</td>\n",
              "      <td>12</td>\n",
              "      <td>CGMN</td>\n",
              "      <td>19,254,452.30</td>\n",
              "      <td>12,115,729.16</td>\n",
              "      <td>182.92</td>\n",
              "      <td>117.08</td>\n",
              "      <td>1281.8</td>\n",
              "      <td>27.935337</td>\n",
              "    </tr>\n",
              "    <tr>\n",
              "      <th>2</th>\n",
              "      <td>2</td>\n",
              "      <td>2013</td>\n",
              "      <td>13</td>\n",
              "      <td>CGMN</td>\n",
              "      <td>19,254,452.30</td>\n",
              "      <td>12,181,835.00</td>\n",
              "      <td>183.95</td>\n",
              "      <td>116.05</td>\n",
              "      <td>1101.4</td>\n",
              "      <td>28.002386</td>\n",
              "    </tr>\n",
              "    <tr>\n",
              "      <th>3</th>\n",
              "      <td>3</td>\n",
              "      <td>2014</td>\n",
              "      <td>14</td>\n",
              "      <td>CGMN</td>\n",
              "      <td>19,254,452.30</td>\n",
              "      <td>12,197,151.71</td>\n",
              "      <td>184.23</td>\n",
              "      <td>115.77</td>\n",
              "      <td>1236.4</td>\n",
              "      <td>26.572820</td>\n",
              "    </tr>\n",
              "    <tr>\n",
              "      <th>4</th>\n",
              "      <td>4</td>\n",
              "      <td>2015</td>\n",
              "      <td>15</td>\n",
              "      <td>CGMN</td>\n",
              "      <td>19,254,452.30</td>\n",
              "      <td>12,177,345.86</td>\n",
              "      <td>183.97</td>\n",
              "      <td>116.03</td>\n",
              "      <td>648.8</td>\n",
              "      <td>26.696986</td>\n",
              "    </tr>\n",
              "    <tr>\n",
              "      <th>5</th>\n",
              "      <td>5</td>\n",
              "      <td>2016</td>\n",
              "      <td>16</td>\n",
              "      <td>CGMN</td>\n",
              "      <td>19,254,452.30</td>\n",
              "      <td>12,177,949.25</td>\n",
              "      <td>183.89</td>\n",
              "      <td>116.11</td>\n",
              "      <td>1121.8</td>\n",
              "      <td>27.980863</td>\n",
              "    </tr>\n",
              "    <tr>\n",
              "      <th>6</th>\n",
              "      <td>6</td>\n",
              "      <td>2017</td>\n",
              "      <td>17</td>\n",
              "      <td>CGMN</td>\n",
              "      <td>19,254,452.30</td>\n",
              "      <td>12,115,729.16</td>\n",
              "      <td>182.92</td>\n",
              "      <td>117.08</td>\n",
              "      <td>791.8</td>\n",
              "      <td>27.974292</td>\n",
              "    </tr>\n",
              "    <tr>\n",
              "      <th>7</th>\n",
              "      <td>7</td>\n",
              "      <td>2018</td>\n",
              "      <td>18</td>\n",
              "      <td>CGMN</td>\n",
              "      <td>19,254,452.30</td>\n",
              "      <td>12,128,810.16</td>\n",
              "      <td>183.14</td>\n",
              "      <td>116.86</td>\n",
              "      <td>739.2</td>\n",
              "      <td>27.886073</td>\n",
              "    </tr>\n",
              "    <tr>\n",
              "      <th>8</th>\n",
              "      <td>8</td>\n",
              "      <td>2019</td>\n",
              "      <td>19</td>\n",
              "      <td>CGMN</td>\n",
              "      <td>19,254,452.30</td>\n",
              "      <td>12,103,104.21</td>\n",
              "      <td>182.76</td>\n",
              "      <td>117.24</td>\n",
              "      <td>988.0</td>\n",
              "      <td>28.011530</td>\n",
              "    </tr>\n",
              "    <tr>\n",
              "      <th>9</th>\n",
              "      <td>9</td>\n",
              "      <td>2020</td>\n",
              "      <td>20</td>\n",
              "      <td>CGMN</td>\n",
              "      <td>19,254,452.30</td>\n",
              "      <td>12,177,345.86</td>\n",
              "      <td>183.97</td>\n",
              "      <td>116.03</td>\n",
              "      <td>511.8</td>\n",
              "      <td>27.429440</td>\n",
              "    </tr>\n",
              "  </tbody>\n",
              "</table>\n",
              "</div>"
            ],
            "text/plain": [
              "   index  year Key  ... Non_Forest_Area  rain1y   temp_out\n",
              "0      0  2011  11  ...          116.05   259.6  27.662589\n",
              "1      1  2012  12  ...          117.08  1281.8  27.935337\n",
              "2      2  2013  13  ...          116.05  1101.4  28.002386\n",
              "3      3  2014  14  ...          115.77  1236.4  26.572820\n",
              "4      4  2015  15  ...          116.03   648.8  26.696986\n",
              "5      5  2016  16  ...          116.11  1121.8  27.980863\n",
              "6      6  2017  17  ...          117.08   791.8  27.974292\n",
              "7      7  2018  18  ...          116.86   739.2  27.886073\n",
              "8      8  2019  19  ...          117.24   988.0  28.011530\n",
              "9      9  2020  20  ...          116.03   511.8  27.429440\n",
              "\n",
              "[10 rows x 10 columns]"
            ]
          },
          "metadata": {
            "tags": []
          }
        }
      ]
    },
    {
      "cell_type": "code",
      "metadata": {
        "colab": {
          "base_uri": "https://localhost:8080/",
          "height": 1000
        },
        "id": "AWqcWg2Kb3cu",
        "outputId": "c6d32917-45bf-4cc0-d10f-3e31169ca941"
      },
      "source": [
        "# plot graph north zone\n",
        "plot(north_df_year['year'], north_df_year['rain1y'],\"Annual Rainfall\", \"Year\", \"Rainfall\")\n",
        "print(\"\\n\")\n",
        "plot(north_df_year['year'], north_df_year['Forest_Area'],\"Forest Area\", \"Year\", \"Forest Area\")\n",
        "print(\"\\n\")\n",
        "plot(north_df_year['year'], north_df_year['Province_Area'],\"Province Area\", \"Year\", \"Province Area\")\n",
        "print(\"\\n\")\n",
        "plot(north_df_year['year'], north_df_year['temp_out'],\"Average Temperature\", \"Year\", \"Temperature\")"
      ],
      "execution_count": 66,
      "outputs": [
        {
          "output_type": "display_data",
          "data": {
            "image/png": "[encoded data removed]",
            "text/plain": [
              "<Figure size 720x720 with 1 Axes>"
            ]
          },
          "metadata": {
            "tags": [],
            "needs_background": "light"
          }
        },
        {
          "output_type": "stream",
          "text": [
            "\n",
            "\n"
          ],
          "name": "stdout"
        },
        {
          "output_type": "display_data",
          "data": {
            "image/png": "[encoded data removed]",
            "text/plain": [
              "<Figure size 720x720 with 1 Axes>"
            ]
          },
          "metadata": {
            "tags": [],
            "needs_background": "light"
          }
        },
        {
          "output_type": "stream",
          "text": [
            "\n",
            "\n"
          ],
          "name": "stdout"
        },
        {
          "output_type": "display_data",
          "data": {
            "image/png": "[encoded data removed]",
            "text/plain": [
              "<Figure size 720x720 with 1 Axes>"
            ]
          },
          "metadata": {
            "tags": [],
            "needs_background": "light"
          }
        },
        {
          "output_type": "stream",
          "text": [
            "\n",
            "\n"
          ],
          "name": "stdout"
        },
        {
          "output_type": "display_data",
          "data": {
            "image/png": "[encoded data removed]",
            "text/plain": [
              "<Figure size 720x720 with 1 Axes>"
            ]
          },
          "metadata": {
            "tags": [],
            "needs_background": "light"
          }
        }
      ]
    },
    {
      "cell_type": "code",
      "metadata": {
        "id": "IZhsGM1vmGbW",
        "colab": {
          "base_uri": "https://localhost:8080/",
          "height": 413
        },
        "outputId": "b5b0f4b5-3b1a-4be3-9618-c19014fced8a"
      },
      "source": [
        "#สถานีตอนกลาง\n",
        "mid_df_year = transformtoPerYear(mid_df)\n",
        "display(mid_df_year)"
      ],
      "execution_count": 67,
      "outputs": [
        {
          "output_type": "stream",
          "text": [
            "/usr/local/lib/python3.7/dist-packages/ipykernel_launcher.py:9: FutureWarning: Indexing with multiple keys (implicitly converted to a tuple of keys) will be deprecated, use a list instead.\n",
            "  if __name__ == '__main__':\n"
          ],
          "name": "stderr"
        },
        {
          "output_type": "display_data",
          "data": {
            "text/html": [
              "<div>\n",
              "<style scoped>\n",
              "    .dataframe tbody tr th:only-of-type {\n",
              "        vertical-align: middle;\n",
              "    }\n",
              "\n",
              "    .dataframe tbody tr th {\n",
              "        vertical-align: top;\n",
              "    }\n",
              "\n",
              "    .dataframe thead th {\n",
              "        text-align: right;\n",
              "    }\n",
              "</style>\n",
              "<table border=\"1\" class=\"dataframe\">\n",
              "  <thead>\n",
              "    <tr style=\"text-align: right;\">\n",
              "      <th></th>\n",
              "      <th>index</th>\n",
              "      <th>year</th>\n",
              "      <th>Key</th>\n",
              "      <th>code</th>\n",
              "      <th>Province_Area</th>\n",
              "      <th>Forest_Area</th>\n",
              "      <th>Percent_of_Province_Area</th>\n",
              "      <th>Non_Forest_Area</th>\n",
              "      <th>rain1y</th>\n",
              "      <th>temp_out</th>\n",
              "    </tr>\n",
              "  </thead>\n",
              "  <tbody>\n",
              "    <tr>\n",
              "      <th>0</th>\n",
              "      <td>0</td>\n",
              "      <td>2011</td>\n",
              "      <td>11</td>\n",
              "      <td>WCHN</td>\n",
              "      <td>4,051,912.64</td>\n",
              "      <td>2,515,083.57</td>\n",
              "      <td>62.07</td>\n",
              "      <td>37.93</td>\n",
              "      <td>583.4</td>\n",
              "      <td>28.092610</td>\n",
              "    </tr>\n",
              "    <tr>\n",
              "      <th>1</th>\n",
              "      <td>1</td>\n",
              "      <td>2012</td>\n",
              "      <td>12</td>\n",
              "      <td>WCHN</td>\n",
              "      <td>4,051,912.64</td>\n",
              "      <td>2,593,778.11</td>\n",
              "      <td>64.01</td>\n",
              "      <td>35.99</td>\n",
              "      <td>1529.0</td>\n",
              "      <td>28.768272</td>\n",
              "    </tr>\n",
              "    <tr>\n",
              "      <th>2</th>\n",
              "      <td>2</td>\n",
              "      <td>2013</td>\n",
              "      <td>13</td>\n",
              "      <td>WCHN</td>\n",
              "      <td>4,051,912.64</td>\n",
              "      <td>2,515,083.57</td>\n",
              "      <td>62.07</td>\n",
              "      <td>37.93</td>\n",
              "      <td>1069.2</td>\n",
              "      <td>28.577500</td>\n",
              "    </tr>\n",
              "    <tr>\n",
              "      <th>3</th>\n",
              "      <td>3</td>\n",
              "      <td>2014</td>\n",
              "      <td>14</td>\n",
              "      <td>WCHN</td>\n",
              "      <td>4,051,912.64</td>\n",
              "      <td>2,593,778.11</td>\n",
              "      <td>64.01</td>\n",
              "      <td>35.99</td>\n",
              "      <td>889.6</td>\n",
              "      <td>28.764943</td>\n",
              "    </tr>\n",
              "    <tr>\n",
              "      <th>4</th>\n",
              "      <td>4</td>\n",
              "      <td>2015</td>\n",
              "      <td>15</td>\n",
              "      <td>WCHN</td>\n",
              "      <td>4,051,912.64</td>\n",
              "      <td>2,600,029.96</td>\n",
              "      <td>64.17</td>\n",
              "      <td>35.83</td>\n",
              "      <td>723.6</td>\n",
              "      <td>29.825525</td>\n",
              "    </tr>\n",
              "    <tr>\n",
              "      <th>5</th>\n",
              "      <td>5</td>\n",
              "      <td>2016</td>\n",
              "      <td>16</td>\n",
              "      <td>WCHN</td>\n",
              "      <td>4,051,912.64</td>\n",
              "      <td>2,603,324.70</td>\n",
              "      <td>64.25</td>\n",
              "      <td>35.75</td>\n",
              "      <td>1216.6</td>\n",
              "      <td>28.690699</td>\n",
              "    </tr>\n",
              "    <tr>\n",
              "      <th>6</th>\n",
              "      <td>6</td>\n",
              "      <td>2017</td>\n",
              "      <td>17</td>\n",
              "      <td>WCHN</td>\n",
              "      <td>4,051,912.64</td>\n",
              "      <td>2,610,863.30</td>\n",
              "      <td>64.44</td>\n",
              "      <td>35.56</td>\n",
              "      <td>1212.6</td>\n",
              "      <td>27.758436</td>\n",
              "    </tr>\n",
              "    <tr>\n",
              "      <th>7</th>\n",
              "      <td>7</td>\n",
              "      <td>2018</td>\n",
              "      <td>18</td>\n",
              "      <td>WCHN</td>\n",
              "      <td>4,051,912.64</td>\n",
              "      <td>2,623,909.73</td>\n",
              "      <td>64.76</td>\n",
              "      <td>35.24</td>\n",
              "      <td>1157.0</td>\n",
              "      <td>27.730559</td>\n",
              "    </tr>\n",
              "    <tr>\n",
              "      <th>8</th>\n",
              "      <td>8</td>\n",
              "      <td>2019</td>\n",
              "      <td>19</td>\n",
              "      <td>WCHN</td>\n",
              "      <td>4,051,912.64</td>\n",
              "      <td>2,627,401.47</td>\n",
              "      <td>64.84</td>\n",
              "      <td>35.16</td>\n",
              "      <td>891.2</td>\n",
              "      <td>28.176861</td>\n",
              "    </tr>\n",
              "    <tr>\n",
              "      <th>9</th>\n",
              "      <td>9</td>\n",
              "      <td>2020</td>\n",
              "      <td>20</td>\n",
              "      <td>WCHN</td>\n",
              "      <td>4,051,912.64</td>\n",
              "      <td>2,593,778.11</td>\n",
              "      <td>64.01</td>\n",
              "      <td>35.99</td>\n",
              "      <td>762.4</td>\n",
              "      <td>27.209153</td>\n",
              "    </tr>\n",
              "  </tbody>\n",
              "</table>\n",
              "</div>"
            ],
            "text/plain": [
              "   index  year Key  ... Non_Forest_Area  rain1y   temp_out\n",
              "0      0  2011  11  ...           37.93   583.4  28.092610\n",
              "1      1  2012  12  ...           35.99  1529.0  28.768272\n",
              "2      2  2013  13  ...           37.93  1069.2  28.577500\n",
              "3      3  2014  14  ...           35.99   889.6  28.764943\n",
              "4      4  2015  15  ...           35.83   723.6  29.825525\n",
              "5      5  2016  16  ...           35.75  1216.6  28.690699\n",
              "6      6  2017  17  ...           35.56  1212.6  27.758436\n",
              "7      7  2018  18  ...           35.24  1157.0  27.730559\n",
              "8      8  2019  19  ...           35.16   891.2  28.176861\n",
              "9      9  2020  20  ...           35.99   762.4  27.209153\n",
              "\n",
              "[10 rows x 10 columns]"
            ]
          },
          "metadata": {
            "tags": []
          }
        }
      ]
    },
    {
      "cell_type": "code",
      "metadata": {
        "colab": {
          "base_uri": "https://localhost:8080/",
          "height": 1000
        },
        "id": "Y_nhBU94dQ-7",
        "outputId": "93f9f441-c519-4d9d-a49c-305a9fc9ecda"
      },
      "source": [
        "# plot graph mid zone\n",
        "plot(mid_df_year['year'], mid_df_year['rain1y'],\"Annual Rainfall\", \"Year\", \"Rainfall\")\n",
        "print(\"\\n\")\n",
        "plot(mid_df_year['year'], mid_df_year['Forest_Area'],\"Forest Area\", \"Year\", \"Forest Area\")\n",
        "print(\"\\n\")\n",
        "plot(mid_df_year['year'], mid_df_year['Province_Area'],\"Province Area\", \"Year\", \"Province Area\")\n",
        "print(\"\\n\")\n",
        "plot(mid_df_year['year'], mid_df_year['temp_out'],\"Average Temperature\", \"Year\", \"Temperature\")"
      ],
      "execution_count": 68,
      "outputs": [
        {
          "output_type": "display_data",
          "data": {
            "image/png": "[encoded data removed]",
            "text/plain": [
              "<Figure size 720x720 with 1 Axes>"
            ]
          },
          "metadata": {
            "tags": [],
            "needs_background": "light"
          }
        },
        {
          "output_type": "stream",
          "text": [
            "\n",
            "\n"
          ],
          "name": "stdout"
        },
        {
          "output_type": "display_data",
          "data": {
            "image/png": "[encoded data removed]",
            "text/plain": [
              "<Figure size 720x720 with 1 Axes>"
            ]
          },
          "metadata": {
            "tags": [],
            "needs_background": "light"
          }
        },
        {
          "output_type": "stream",
          "text": [
            "\n",
            "\n"
          ],
          "name": "stdout"
        },
        {
          "output_type": "display_data",
          "data": {
            "image/png": "[encoded data removed]",
            "text/plain": [
              "<Figure size 720x720 with 1 Axes>"
            ]
          },
          "metadata": {
            "tags": [],
            "needs_background": "light"
          }
        },
        {
          "output_type": "stream",
          "text": [
            "\n",
            "\n"
          ],
          "name": "stdout"
        },
        {
          "output_type": "display_data",
          "data": {
            "image/png": "[encoded data removed]",
            "text/plain": [
              "<Figure size 720x720 with 1 Axes>"
            ]
          },
          "metadata": {
            "tags": [],
            "needs_background": "light"
          }
        }
      ]
    },
    {
      "cell_type": "code",
      "metadata": {
        "id": "kBa7N1C-mJHP",
        "colab": {
          "base_uri": "https://localhost:8080/",
          "height": 413
        },
        "outputId": "7162466a-fe24-4446-fbb7-42492bde9b9e"
      },
      "source": [
        "#สถานีตอนล่าง\n",
        "south_df_year = transformtoPerYear(south_df)\n",
        "display(south_df_year)"
      ],
      "execution_count": 69,
      "outputs": [
        {
          "output_type": "stream",
          "text": [
            "/usr/local/lib/python3.7/dist-packages/ipykernel_launcher.py:9: FutureWarning: Indexing with multiple keys (implicitly converted to a tuple of keys) will be deprecated, use a list instead.\n",
            "  if __name__ == '__main__':\n"
          ],
          "name": "stderr"
        },
        {
          "output_type": "display_data",
          "data": {
            "text/html": [
              "<div>\n",
              "<style scoped>\n",
              "    .dataframe tbody tr th:only-of-type {\n",
              "        vertical-align: middle;\n",
              "    }\n",
              "\n",
              "    .dataframe tbody tr th {\n",
              "        vertical-align: top;\n",
              "    }\n",
              "\n",
              "    .dataframe thead th {\n",
              "        text-align: right;\n",
              "    }\n",
              "</style>\n",
              "<table border=\"1\" class=\"dataframe\">\n",
              "  <thead>\n",
              "    <tr style=\"text-align: right;\">\n",
              "      <th></th>\n",
              "      <th>index</th>\n",
              "      <th>year</th>\n",
              "      <th>Key</th>\n",
              "      <th>code</th>\n",
              "      <th>Province_Area</th>\n",
              "      <th>Forest_Area</th>\n",
              "      <th>Percent_of_Province_Area</th>\n",
              "      <th>Non_Forest_Area</th>\n",
              "      <th>rain1y</th>\n",
              "      <th>temp_out</th>\n",
              "    </tr>\n",
              "  </thead>\n",
              "  <tbody>\n",
              "    <tr>\n",
              "      <th>0</th>\n",
              "      <td>0</td>\n",
              "      <td>2011</td>\n",
              "      <td>11</td>\n",
              "      <td>SWKL</td>\n",
              "      <td>84,183,434.55</td>\n",
              "      <td>41,275,108.50</td>\n",
              "      <td>551.44</td>\n",
              "      <td>748.56</td>\n",
              "      <td>491.4</td>\n",
              "      <td>29.366855</td>\n",
              "    </tr>\n",
              "    <tr>\n",
              "      <th>1</th>\n",
              "      <td>1</td>\n",
              "      <td>2012</td>\n",
              "      <td>12</td>\n",
              "      <td>SWKL</td>\n",
              "      <td>84,183,434.55</td>\n",
              "      <td>41,652,816.09</td>\n",
              "      <td>564.0</td>\n",
              "      <td>736.0</td>\n",
              "      <td>935.6</td>\n",
              "      <td>31.145947</td>\n",
              "    </tr>\n",
              "    <tr>\n",
              "      <th>2</th>\n",
              "      <td>2</td>\n",
              "      <td>2013</td>\n",
              "      <td>13</td>\n",
              "      <td>SWKL</td>\n",
              "      <td>84,183,434.55</td>\n",
              "      <td>41,275,108.50</td>\n",
              "      <td>551.44</td>\n",
              "      <td>748.56</td>\n",
              "      <td>839.2</td>\n",
              "      <td>30.932968</td>\n",
              "    </tr>\n",
              "    <tr>\n",
              "      <th>3</th>\n",
              "      <td>3</td>\n",
              "      <td>2014</td>\n",
              "      <td>14</td>\n",
              "      <td>SWKL</td>\n",
              "      <td>84,183,434.55</td>\n",
              "      <td>41,746,553.35</td>\n",
              "      <td>565.14</td>\n",
              "      <td>734.86</td>\n",
              "      <td>1023.8</td>\n",
              "      <td>29.955023</td>\n",
              "    </tr>\n",
              "    <tr>\n",
              "      <th>4</th>\n",
              "      <td>4</td>\n",
              "      <td>2015</td>\n",
              "      <td>15</td>\n",
              "      <td>SWKL</td>\n",
              "      <td>84,183,434.55</td>\n",
              "      <td>41,719,510.41</td>\n",
              "      <td>564.69</td>\n",
              "      <td>735.31</td>\n",
              "      <td>492.8</td>\n",
              "      <td>30.192123</td>\n",
              "    </tr>\n",
              "    <tr>\n",
              "      <th>5</th>\n",
              "      <td>5</td>\n",
              "      <td>2016</td>\n",
              "      <td>16</td>\n",
              "      <td>SWKL</td>\n",
              "      <td>84,183,434.55</td>\n",
              "      <td>41,652,712.94</td>\n",
              "      <td>563.8</td>\n",
              "      <td>736.2</td>\n",
              "      <td>894.6</td>\n",
              "      <td>30.337580</td>\n",
              "    </tr>\n",
              "    <tr>\n",
              "      <th>6</th>\n",
              "      <td>6</td>\n",
              "      <td>2017</td>\n",
              "      <td>17</td>\n",
              "      <td>SWKL</td>\n",
              "      <td>84,183,434.55</td>\n",
              "      <td>41,652,816.09</td>\n",
              "      <td>564.0</td>\n",
              "      <td>736.0</td>\n",
              "      <td>1201.2</td>\n",
              "      <td>29.780297</td>\n",
              "    </tr>\n",
              "    <tr>\n",
              "      <th>7</th>\n",
              "      <td>7</td>\n",
              "      <td>2018</td>\n",
              "      <td>18</td>\n",
              "      <td>SWKL</td>\n",
              "      <td>84,183,434.55</td>\n",
              "      <td>41,728,212.55</td>\n",
              "      <td>565.64</td>\n",
              "      <td>734.36</td>\n",
              "      <td>730.4</td>\n",
              "      <td>29.315080</td>\n",
              "    </tr>\n",
              "    <tr>\n",
              "      <th>8</th>\n",
              "      <td>8</td>\n",
              "      <td>2019</td>\n",
              "      <td>19</td>\n",
              "      <td>SWKL</td>\n",
              "      <td>84,183,434.55</td>\n",
              "      <td>41,661,864.73</td>\n",
              "      <td>565.03</td>\n",
              "      <td>734.97</td>\n",
              "      <td>707.4</td>\n",
              "      <td>29.368858</td>\n",
              "    </tr>\n",
              "    <tr>\n",
              "      <th>9</th>\n",
              "      <td>9</td>\n",
              "      <td>2020</td>\n",
              "      <td>20</td>\n",
              "      <td>SWKL</td>\n",
              "      <td>84,183,434.55</td>\n",
              "      <td>41,661,864.73</td>\n",
              "      <td>565.03</td>\n",
              "      <td>734.97</td>\n",
              "      <td>751.8</td>\n",
              "      <td>28.930055</td>\n",
              "    </tr>\n",
              "  </tbody>\n",
              "</table>\n",
              "</div>"
            ],
            "text/plain": [
              "   index  year Key  ... Non_Forest_Area  rain1y   temp_out\n",
              "0      0  2011  11  ...          748.56   491.4  29.366855\n",
              "1      1  2012  12  ...           736.0   935.6  31.145947\n",
              "2      2  2013  13  ...          748.56   839.2  30.932968\n",
              "3      3  2014  14  ...          734.86  1023.8  29.955023\n",
              "4      4  2015  15  ...          735.31   492.8  30.192123\n",
              "5      5  2016  16  ...           736.2   894.6  30.337580\n",
              "6      6  2017  17  ...           736.0  1201.2  29.780297\n",
              "7      7  2018  18  ...          734.36   730.4  29.315080\n",
              "8      8  2019  19  ...          734.97   707.4  29.368858\n",
              "9      9  2020  20  ...          734.97   751.8  28.930055\n",
              "\n",
              "[10 rows x 10 columns]"
            ]
          },
          "metadata": {
            "tags": []
          }
        }
      ]
    },
    {
      "cell_type": "code",
      "metadata": {
        "colab": {
          "base_uri": "https://localhost:8080/",
          "height": 1000
        },
        "id": "9KwkCFewde4Y",
        "outputId": "522a7bae-3a1e-4e04-f2f6-ebaaf6768226"
      },
      "source": [
        "# plot south mid zone\n",
        "plot(south_df_year['year'], south_df_year['rain1y'],\"Annual Rainfall\", \"Year\", \"Rainfall\")\n",
        "print(\"\\n\")\n",
        "plot(south_df_year['year'], south_df_year['Forest_Area'],\"Forest Area\", \"Year\", \"Forest Area\")\n",
        "print(\"\\n\")\n",
        "plot(south_df_year['year'], south_df_year['Province_Area'],\"Province Area\", \"Year\", \"Province Area\")\n",
        "print(\"\\n\")\n",
        "plot(south_df_year['year'], south_df_year['temp_out'],\"Average Temperature\", \"Year\", \"Temperature\")"
      ],
      "execution_count": 70,
      "outputs": [
        {
          "output_type": "display_data",
          "data": {
            "image/png": "[encoded data removed]",
            "text/plain": [
              "<Figure size 720x720 with 1 Axes>"
            ]
          },
          "metadata": {
            "tags": [],
            "needs_background": "light"
          }
        },
        {
          "output_type": "stream",
          "text": [
            "\n",
            "\n"
          ],
          "name": "stdout"
        },
        {
          "output_type": "display_data",
          "data": {
            "image/png": "[encoded data removed]",
            "text/plain": [
              "<Figure size 720x720 with 1 Axes>"
            ]
          },
          "metadata": {
            "tags": [],
            "needs_background": "light"
          }
        },
        {
          "output_type": "stream",
          "text": [
            "\n",
            "\n"
          ],
          "name": "stdout"
        },
        {
          "output_type": "display_data",
          "data": {
            "image/png": "[encoded data removed]",
            "text/plain": [
              "<Figure size 720x720 with 1 Axes>"
            ]
          },
          "metadata": {
            "tags": [],
            "needs_background": "light"
          }
        },
        {
          "output_type": "stream",
          "text": [
            "\n",
            "\n"
          ],
          "name": "stdout"
        },
        {
          "output_type": "display_data",
          "data": {
            "image/png": "[encoded data removed]",
            "text/plain": [
              "<Figure size 720x720 with 1 Axes>"
            ]
          },
          "metadata": {
            "tags": [],
            "needs_background": "light"
          }
        }
      ]
    },
    {
      "cell_type": "markdown",
      "metadata": {
        "id": "x_CajoQVlg3s"
      },
      "source": [
        "\n",
        "\n",
        "*   Season Time Series --มิ้ม\n",
        "\n"
      ]
    },
    {
      "cell_type": "code",
      "metadata": {
        "id": "ur0bLtxcnd02"
      },
      "source": [
        "# decompose trend, seasonal, and residual\n",
        "from statsmodels.tsa.seasonal import seasonal_decompose"
      ],
      "execution_count": null,
      "outputs": []
    },
    {
      "cell_type": "code",
      "metadata": {
        "id": "mstyjReXDclj"
      },
      "source": [
        "# prep_decom = seasonal_decompose(df.Prep.values, model='additive', freq= 30)\n",
        "\n",
        "# prep_decom.plot()"
      ],
      "execution_count": null,
      "outputs": []
    },
    {
      "cell_type": "markdown",
      "metadata": {
        "id": "-FGsjgesu0N9"
      },
      "source": [
        ""
      ]
    },
    {
      "cell_type": "markdown",
      "metadata": {
        "id": "FK-wPPu7jDgM"
      },
      "source": [
        "#Data Modeling"
      ]
    },
    {
      "cell_type": "code",
      "metadata": {
        "id": "OyIvW8N2bLpP"
      },
      "source": [
        "# # Create get_X_y function to get dependent (y) and independent (X) variables\n",
        "# def prep_data(dataframe):\n",
        "  \n",
        "#   dataframe['date'] = pd.to_datetime(dataframe['date'])\n",
        "#   dataframe = dataframe.set_index('date')\n",
        "\n",
        "#   # Extract time series variable\n",
        "#   X = dataframe.reset_index()[['date']]\n",
        "#   X['Year'] = [X.iloc[i, 0].year for i in range(len(X))]\n",
        "#   X['Month'] = [X.iloc[i, 0].month for i in range(len(X))]\n",
        "#   X['Day'] = [X.iloc[i, 0].day for i in range(len(X))]\n",
        "#   #X['EnglishDay'] = X.Date.dt.strftime('%a')\n",
        "\n",
        "#   # Set categorical variable\n",
        "#   X = X.astype({'Month':'category', \n",
        "#                 'Day':'category'}).set_index('date')\n",
        "\n",
        "#   # Get OHLC\n",
        "#   X = X.merge(dataframe, left_index=True, right_index=True)\n",
        "\n",
        "#   # Extract dependent variable\n",
        "#   #y = dataframe[['Prep']].copy()\n",
        "\n",
        "#   # col_drop = ['Station', 'MaxTemp', 'MaxTempTime', 'MinTemp', 'MinTempTime',\n",
        "#   #                   'MaxRHTime', 'MinRHTime', 'SR', 'Prep', 'MaxSTemp5', 'MaxSTemp5Time', 'MinSTemp5', 'MinSTemp5Time',\n",
        "#   #                   'MaxSTemp15', 'MaxSTemp15Time', 'MinSTemp15', 'MinSTemp15Time', 'BV','Year_y', 'MaxWGTime', 'DirectionMaxWG']\n",
        "#   # X = X.drop(col_drop, axis=1)\n",
        "#   #X = X.rename(columns={'Year_x' : 'Year'})\n",
        "#   return X #, y"
      ],
      "execution_count": null,
      "outputs": []
    },
    {
      "cell_type": "code",
      "metadata": {
        "id": "2WcPN5AndU7w"
      },
      "source": [
        "X, y = get_X_y(data)\n",
        "X.head()"
      ],
      "execution_count": null,
      "outputs": []
    },
    {
      "cell_type": "code",
      "metadata": {
        "id": "y9aNYR7k1owA"
      },
      "source": [
        "def encoding_data(X, y):\n",
        "  X_encoded = pd.get_dummies(X)\n",
        "  y = pd.DataFrame(y, index= y.index, columns= ['Prep'])\n",
        "  return X_encoded, y"
      ],
      "execution_count": null,
      "outputs": []
    },
    {
      "cell_type": "code",
      "metadata": {
        "id": "g3MbXvZjfSwh"
      },
      "source": [
        "#Split data\n",
        "\n",
        "def train_test_split(dataframe, y, trainsize=0.8):\n",
        "\n",
        "  import math\n",
        "\n",
        "  train_ratio = trainsize\n",
        "  train_size = math.ceil(len(dataframe) * train_ratio)\n",
        "\n",
        "    # Get train dataframe\n",
        "  X_train = dataframe.iloc[:train_size, :]\n",
        "  y_train = y.iloc[:train_size, :]\n",
        "\n",
        "  # Get train dataframe\n",
        "  X_test = dataframe.iloc[train_size:, :]\n",
        "  #X_test = dataframe.copy()\n",
        "  y_test = y.iloc[train_size:, :]\n",
        "\n",
        "\n",
        "  return X_train, X_test, y_train, y_test"
      ],
      "execution_count": null,
      "outputs": []
    },
    {
      "cell_type": "code",
      "metadata": {
        "id": "aEXx7wlCu5Lr"
      },
      "source": [
        "X_train, X_test, y_train, y_test  = train_test_split(X_encoded, y, trainsize=0.8)"
      ],
      "execution_count": null,
      "outputs": []
    },
    {
      "cell_type": "code",
      "metadata": {
        "id": "1X1Pe-vAjCER"
      },
      "source": [
        "from sklearn.linear_model import LinearRegression\n",
        "lr = LinearRegression()\n",
        "lr.fit(X_train, y_train)\n",
        "y = lr.predict(X_test)"
      ],
      "execution_count": null,
      "outputs": []
    },
    {
      "cell_type": "code",
      "metadata": {
        "id": "Wq5RISnGkAYy"
      },
      "source": [
        "#Error\n",
        "from sklearn.metrics import mean_squared_error\n",
        "import math\n",
        "\n",
        "MSE = mean_squared_error(y_test, y)\n",
        " \n",
        "RMSE = math.sqrt(MSE)\n",
        "print(\"Root Mean Square Error:\\n\")\n",
        "print(RMSE)"
      ],
      "execution_count": null,
      "outputs": []
    },
    {
      "cell_type": "code",
      "metadata": {
        "id": "PDFl2uXB2btD"
      },
      "source": [
        "def prediction_model(X_train, X_test, y_train, y_test):\n",
        "  from sklearn.linear_model import LinearRegression\n",
        "  from sklearn.metrics import mean_squared_error\n",
        "  import math\n",
        "  lr = LinearRegression()\n",
        "  lr.fit(X_train, y_train)\n",
        "  y_pred = lr.predict(X_test)\n",
        "  \n",
        "  MSE = mean_squared_error(y_test, y_pred)\n",
        "  RMSE = math.sqrt(MSE)\n",
        "  print(\"Root Mean Square Error:\\n\")\n",
        "  print(RMSE)\n",
        "  return y_pred"
      ],
      "execution_count": null,
      "outputs": []
    },
    {
      "cell_type": "code",
      "metadata": {
        "id": "-mMB695vmUkq"
      },
      "source": [
        "#Visualize\n",
        "def visualize(X, y, y_hat):\n",
        "\n",
        "  # Set figure size\n",
        "  plt.figure(figsize=(30, 10))\n",
        "\n",
        "  # Plot actual price\n",
        "  plt.plot(X.index, y, label='Actual Prep')\n",
        "\n",
        "  # Plot predicted price\n",
        "  plt.plot(X.index, y_hat, label='Predicted Prep')\n",
        "\n",
        "  # Set title\n",
        "  plt.title('Prep')\n",
        "\n",
        "  # Set x-label\n",
        "  plt.xlabel('Period')\n",
        "\n",
        "  # Set y-label\n",
        "  plt.ylabel('Prep')\n",
        "\n",
        "  # Plot grid\n",
        "  plt.grid()\n",
        "\n",
        "  # Display legend\n",
        "  plt.legend()\n",
        "\n",
        "  # Display graph\n",
        "  plt.show()"
      ],
      "execution_count": null,
      "outputs": []
    },
    {
      "cell_type": "code",
      "metadata": {
        "id": "30HVakkat1gV"
      },
      "source": [
        "visualize(X_test,y_test,y)"
      ],
      "execution_count": null,
      "outputs": []
    },
    {
      "cell_type": "markdown",
      "metadata": {
        "id": "FU5saQvAyXJF"
      },
      "source": [
        "#Feature Engineering"
      ]
    },
    {
      "cell_type": "code",
      "metadata": {
        "id": "GbpqkbzbuSA4"
      },
      "source": [
        "# Create feature_engineer function to extract new features\n",
        "def feature_engineer(dataframe, feat_eng=False):\n",
        "\n",
        "  if feat_eng:\n",
        "    # Create a feature from previous day AvgTemp\n",
        "    dataframe['PreviousDayAvgTemp'] = dataframe[['AvgTemp']].shift(periods=1,fill_value=0)\n",
        "\n",
        "    # Create a feature from previous day VP\n",
        "    dataframe['PreviousDayVP'] = dataframe[['VP']].shift(periods=1,fill_value=0)\n",
        "\n",
        "    # Create a feature from previous day MaxRH\n",
        "    dataframe['PreviousDayMaxRH'] = dataframe[['MaxRH']].shift(periods=1,fill_value=0)\n",
        "    # Create a feature from previous day MinRH\n",
        "    dataframe['PreviousDayMinRH'] = dataframe[['MinRH']].shift(periods=1,fill_value=0)\n",
        "    # Create a feature from previous day WR\n",
        "    dataframe['PreviousDayWR'] = dataframe[['WR']].shift(periods=1,fill_value=0)\n",
        "    # Create a feature from previous day MaxWG\n",
        "    dataframe['PreviousDayMaxWG'] = dataframe[['MaxWG']].shift(periods=1,fill_value=0)\n",
        " \n",
        "  return dataframe"
      ],
      "execution_count": null,
      "outputs": []
    },
    {
      "cell_type": "code",
      "metadata": {
        "id": "Lru60irPysg0"
      },
      "source": [
        "# Test our feature_engineer function\n",
        "X_engineered = feature_engineer(X, feat_eng=True)\n",
        "X_engineered"
      ],
      "execution_count": null,
      "outputs": []
    },
    {
      "cell_type": "markdown",
      "metadata": {
        "id": "dTDHccbKzp5H"
      },
      "source": [
        "#Data Pipeline"
      ]
    },
    {
      "cell_type": "code",
      "metadata": {
        "id": "EkBsfoSFfV9F"
      },
      "source": [
        "def drop_range_unavailable(df):\n",
        "  idx = df['rain1h'].ne(-999).idxmax()\n",
        "  df = df.drop(range(0, idx))\n",
        "  return df\n",
        "\n",
        "\n",
        "def drop_column(df, column):\n",
        "  df = df.drop(columns = column, axis = 1)\n",
        "  return df\n",
        "\n",
        "\n",
        "def replacwithnan(df):\n",
        "  df = df.replace({-999: np.nan})\n",
        "  return df\n",
        "\n",
        "  \n",
        "def fill_missing_value(df):\n",
        "  feature_missing = df.columns[df.isnull().any()].tolist()\n",
        "  df_original = df.copy()\n",
        "  for i in feature_missing:\n",
        "    np.random.seed(0)\n",
        "    nan_rows = df[i].isna()\n",
        "    random_feat = np.random.choice(df[i][~nan_rows], replace=True, size=sum(nan_rows)) \n",
        "    df.loc[nan_rows,i] = random_feat\n",
        "  return df"
      ],
      "execution_count": null,
      "outputs": []
    },
    {
      "cell_type": "code",
      "metadata": {
        "id": "QgU3YZVGc5u9"
      },
      "source": [
        "# def cleaning_data(df):\n",
        "#   df = drop_range_unavailable(df)\n",
        "#   df = drop_column(df, ['Province','Year'])\n",
        "#   df = replacwithnan(df)\n",
        "#   df = fill_missing_value(df)"
      ],
      "execution_count": null,
      "outputs": []
    },
    {
      "cell_type": "code",
      "metadata": {
        "id": "X1_UhoeZyunl"
      },
      "source": [
        "def prediction_model_pipeline(filename, feat_eng = True):\n",
        "  #Get data\n",
        "  df = getData(filename)\n",
        "  df = fill_missing_value(df)\n",
        "  #Get x y\n",
        "  X, y = get_X_y(df)\n",
        "\n",
        "  #Feature engineering\n",
        "  X_engineered = feature_engineer(X, feat_eng=True)\n",
        "\n",
        "  #Encoded\n",
        "  X_eng_encoded, y = encoding_data(X_engineered, y)\n",
        "\n",
        "  #Split\n",
        "  X_train, X_test, y_train, y_test  = train_test_split(X_eng_encoded, y, trainsize=0.8)\n",
        "\n",
        "  #Model\n",
        "  y_pred = prediction_model(X_train, X_test, y_train, y_test)\n",
        "\n",
        "  #Visualization\n",
        "  visualize(X_test,y_test,y_pred)"
      ],
      "execution_count": null,
      "outputs": []
    },
    {
      "cell_type": "code",
      "metadata": {
        "id": "2e31YziC3XZv"
      },
      "source": [
        "prediction_model_pipeline('rawdata_results_test.csv', feat_eng = True)"
      ],
      "execution_count": null,
      "outputs": []
    },
    {
      "cell_type": "markdown",
      "metadata": {
        "id": "QKEYGY3AI0nV"
      },
      "source": [
        "##Forecast Model"
      ]
    },
    {
      "cell_type": "code",
      "metadata": {
        "id": "ie9jILkpQTq-"
      },
      "source": [
        "pip install pmdarima"
      ],
      "execution_count": null,
      "outputs": []
    },
    {
      "cell_type": "code",
      "metadata": {
        "id": "UmTtetE0RF8R"
      },
      "source": [
        "data = getData('rawdata_results_test.csv')"
      ],
      "execution_count": null,
      "outputs": []
    },
    {
      "cell_type": "code",
      "metadata": {
        "id": "VNrNz6WMLoB5"
      },
      "source": [
        "#Check Stationarity Data\n",
        "from statsmodels.tsa.stattools import adfuller\n",
        "def ad_test(dataset):\n",
        "     dftest = adfuller(dataset, autolag = 'AIC')\n",
        "     print(\"1. ADF : \",dftest[0])\n",
        "     print(\"2. P-Value : \", dftest[1])\n",
        "     print(\"3. Num Of Lags : \", dftest[2])\n",
        "     print(\"4. Num Of Observations Used For ADF Regression:\", dftest[3])\n",
        "     print(\"5. Critical Values :\")\n",
        "     for key, val in dftest[4].items():\n",
        "         print(\"\\t{}: {} - The data is {} stationary with {}% confidence\".format(k, v, \"not\" if v<dftest[0] else \"\", 100-int(k[:-1])))\n",
        "ad_test(data['Prep'])"
      ],
      "execution_count": null,
      "outputs": []
    },
    {
      "cell_type": "code",
      "metadata": {
        "id": "pGsvk88BMeaE"
      },
      "source": [
        "from pmdarima import auto_arima\n",
        "stepwise_fit = auto_arima(data['Prep'], trace=True,suppress_warnings=True)"
      ],
      "execution_count": null,
      "outputs": []
    },
    {
      "cell_type": "markdown",
      "metadata": {
        "id": "WfXs_-obUDcI"
      },
      "source": [
        "Train model"
      ]
    },
    {
      "cell_type": "code",
      "metadata": {
        "id": "3wr3MGySUHSu"
      },
      "source": [
        "df_new = fill_missing_value(data)"
      ],
      "execution_count": null,
      "outputs": []
    },
    {
      "cell_type": "code",
      "metadata": {
        "id": "fgS-z54WUyJ7"
      },
      "source": [
        "df_new = pd.DataFrame(df_new[['Prep']])"
      ],
      "execution_count": null,
      "outputs": []
    },
    {
      "cell_type": "code",
      "metadata": {
        "id": "gzb9h3FdVaPq"
      },
      "source": [
        "df_new"
      ],
      "execution_count": null,
      "outputs": []
    },
    {
      "cell_type": "code",
      "metadata": {
        "id": "DRaDB5wmUiY0"
      },
      "source": [
        "def f_train_test_split(dataframe,trainsize=0.8):\n",
        "\n",
        "  import math\n",
        "\n",
        "  train_ratio = trainsize\n",
        "  train_size = math.ceil(len(dataframe) * train_ratio)\n",
        "\n",
        "    # Get train dataframe\n",
        "  X_train = dataframe.iloc[:train_size, :]\n",
        "  #y_train = y.iloc[:train_size, :]\n",
        "\n",
        "  # Get train dataframe\n",
        "  X_test = dataframe.iloc[train_size:, :]\n",
        "  #X_test = dataframe.copy()\n",
        "  #y_test = y.iloc[train_size:, :]\n",
        "\n",
        "\n",
        "  return X_train, X_test"
      ],
      "execution_count": null,
      "outputs": []
    },
    {
      "cell_type": "code",
      "metadata": {
        "id": "xX_IWO9_U6IM"
      },
      "source": [
        "train, test = f_train_test_split(df_new)"
      ],
      "execution_count": null,
      "outputs": []
    },
    {
      "cell_type": "code",
      "metadata": {
        "id": "RtgQnLT1VwzW"
      },
      "source": [
        "train.shape"
      ],
      "execution_count": null,
      "outputs": []
    },
    {
      "cell_type": "code",
      "metadata": {
        "id": "NgLVYlQGQ26k"
      },
      "source": [
        "from statsmodels.tsa.arima_model import ARIMA\n",
        "import warnings\n",
        "warnings.filterwarnings('ignore')\n",
        "model=ARIMA(df_new,order=(3,0,1))\n",
        "model=model.fit()\n",
        "model.summary()"
      ],
      "execution_count": null,
      "outputs": []
    },
    {
      "cell_type": "code",
      "metadata": {
        "id": "F2znaxJzlX4_"
      },
      "source": [
        "start=len(train)\n",
        "end=len(train)+len(test)-1\n",
        "pred=model.predict(start=start,end=end,typ='levels').rename('ARIMA Predictions')\n",
        "pred.plot(figsize=(12,5),legend=True)\n",
        "test['Prep'].plot(figsize=(12,5),legend=True)"
      ],
      "execution_count": null,
      "outputs": []
    },
    {
      "cell_type": "code",
      "metadata": {
        "id": "o63aGRF6mVWr"
      },
      "source": [
        "from sklearn.metrics import mean_squared_error\n",
        "from math import sqrt\n",
        "# test['Prep'].mean()\n",
        "rmse=sqrt(mean_squared_error(pred,test['Prep']))\n",
        "print(rmse)"
      ],
      "execution_count": null,
      "outputs": []
    },
    {
      "cell_type": "code",
      "metadata": {
        "id": "Q4KLecXBnLzX"
      },
      "source": [
        "df = fill_missing_value(data)\n",
        "model2=ARIMA(df['Prep'],order=(3,0,1))\n",
        "model2=model2.fit()\n",
        "df.tail()"
      ],
      "execution_count": null,
      "outputs": []
    },
    {
      "cell_type": "code",
      "metadata": {
        "id": "kgY3AD_lmiXQ"
      },
      "source": [
        "index_future_dates=pd.date_range(start='2020-12-31',end='2021-03-31')\n",
        "#print(index_future_dates)\n",
        "pred=model2.predict(start=len(df),end=len(df)+90,typ='levels').rename('ARIMA Predictions')\n",
        "pred.index=index_future_dates\n",
        "print(pred)"
      ],
      "execution_count": null,
      "outputs": []
    },
    {
      "cell_type": "code",
      "metadata": {
        "id": "5GGqhGc-oVm6"
      },
      "source": [
        "pred.plot(figsize=(12,5),legend=True)"
      ],
      "execution_count": null,
      "outputs": []
    },
    {
      "cell_type": "code",
      "metadata": {
        "id": "rLLrYovXof1S"
      },
      "source": [
        ""
      ],
      "execution_count": null,
      "outputs": []
    }
  ]
}