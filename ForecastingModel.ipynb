{
  "nbformat": 4,
  "nbformat_minor": 0,
  "metadata": {
    "colab": {
      "name": "ForecastingModel.ipynb",
      "provenance": [],
      "toc_visible": true,
      "include_colab_link": true
    },
    "kernelspec": {
      "name": "python3",
      "display_name": "Python 3"
    },
    "language_info": {
      "name": "python"
    }
  },
  "cells": [
    {
      "cell_type": "markdown",
      "metadata": {
        "id": "view-in-github",
        "colab_type": "text"
      },
      "source": [
        "<a href=\"https://colab.research.google.com/github/punnarat-w/Yomriver_analysis/blob/main/ForecastingModel.ipynb\" target=\"_parent\"><img src=\"https://colab.research.google.com/assets/colab-badge.svg\" alt=\"Open In Colab\"/></a>"
      ]
    },
    {
      "cell_type": "markdown",
      "metadata": {
        "id": "uWgPh0QlAM8r"
      },
      "source": [
        "##Retrieving Data"
      ]
    },
    {
      "cell_type": "code",
      "metadata": {
        "id": "ro42Q3qiImlr"
      },
      "source": [
        "# importing pandas library\n",
        "import pandas as pd\n",
        "import matplotlib.pyplot as plt\n",
        "import numpy as np"
      ],
      "execution_count": 122,
      "outputs": []
    },
    {
      "cell_type": "code",
      "metadata": {
        "colab": {
          "base_uri": "https://localhost:8080/"
        },
        "id": "qc4Fd4APbyt8",
        "outputId": "ac4b8100-cfe0-47be-98f4-2ff9cc4508f6"
      },
      "source": [
        "# download description file\n",
        "!gdown --id 1GJdM5L1SH1Cs95xFeflf3HT7kLT4wd-f"
      ],
      "execution_count": 123,
      "outputs": [
        {
          "output_type": "stream",
          "text": [
            "Downloading...\n",
            "From: https://drive.google.com/uc?id=1GJdM5L1SH1Cs95xFeflf3HT7kLT4wd-f\n",
            "To: /content/st.csv\n",
            "\r  0% 0.00/20.8k [00:00<?, ?B/s]\r100% 20.8k/20.8k [00:00<00:00, 16.4MB/s]\n"
          ],
          "name": "stdout"
        }
      ]
    },
    {
      "cell_type": "code",
      "metadata": {
        "id": "hyVxNQO_0QuI"
      },
      "source": [
        "def getData(filename):\n",
        "  data = pd.read_csv(filename)\n",
        "  # data['Datetime'] = pd.to_datetime(data['Datetime'])\n",
        "  # data = data.set_index('Datetime')\n",
        "  return data"
      ],
      "execution_count": 124,
      "outputs": []
    },
    {
      "cell_type": "code",
      "metadata": {
        "colab": {
          "base_uri": "https://localhost:8080/",
          "height": 419
        },
        "id": "TYukDQR--kOR",
        "outputId": "fad03720-7376-46c8-b5b2-12b4e521fa20"
      },
      "source": [
        "description = getData('st.csv')\n",
        "description"
      ],
      "execution_count": 125,
      "outputs": [
        {
          "output_type": "execute_result",
          "data": {
            "text/html": [
              "<div>\n",
              "<style scoped>\n",
              "    .dataframe tbody tr th:only-of-type {\n",
              "        vertical-align: middle;\n",
              "    }\n",
              "\n",
              "    .dataframe tbody tr th {\n",
              "        vertical-align: top;\n",
              "    }\n",
              "\n",
              "    .dataframe thead th {\n",
              "        text-align: right;\n",
              "    }\n",
              "</style>\n",
              "<table border=\"1\" class=\"dataframe\">\n",
              "  <thead>\n",
              "    <tr style=\"text-align: right;\">\n",
              "      <th></th>\n",
              "      <th>code</th>\n",
              "      <th>name</th>\n",
              "      <th>lat</th>\n",
              "      <th>long</th>\n",
              "      <th>tambon</th>\n",
              "      <th>amphoe</th>\n",
              "      <th>province</th>\n",
              "      <th>basin</th>\n",
              "      <th>region</th>\n",
              "      <th>station_type</th>\n",
              "    </tr>\n",
              "  </thead>\n",
              "  <tbody>\n",
              "    <tr>\n",
              "      <th>0</th>\n",
              "      <td>BDLH</td>\n",
              "      <td>ทต.ลานหอย</td>\n",
              "      <td>17.008562</td>\n",
              "      <td>99.582995</td>\n",
              "      <td>ลานหอย</td>\n",
              "      <td>บ้านด่านลานหอย</td>\n",
              "      <td>สุโขทัย</td>\n",
              "      <td>ภาคเหนือ</td>\n",
              "      <td>R</td>\n",
              "      <td>NaN</td>\n",
              "    </tr>\n",
              "    <tr>\n",
              "      <th>1</th>\n",
              "      <td>SAMN</td>\n",
              "      <td>ทต.สามง่าม</td>\n",
              "      <td>16.512774</td>\n",
              "      <td>100.208275</td>\n",
              "      <td>สามง่าม</td>\n",
              "      <td>สามง่าม</td>\n",
              "      <td>พิจิตร</td>\n",
              "      <td>ภาคเหนือ</td>\n",
              "      <td>R</td>\n",
              "      <td>NaN</td>\n",
              "    </tr>\n",
              "    <tr>\n",
              "      <th>2</th>\n",
              "      <td>SNGT</td>\n",
              "      <td>อบต.บ้านกลาง</td>\n",
              "      <td>18.482018</td>\n",
              "      <td>100.177530</td>\n",
              "      <td>บ้านกลาง</td>\n",
              "      <td>สอง</td>\n",
              "      <td>แพร่</td>\n",
              "      <td>ภาคเหนือ</td>\n",
              "      <td>R</td>\n",
              "      <td>NaN</td>\n",
              "    </tr>\n",
              "    <tr>\n",
              "      <th>3</th>\n",
              "      <td>KPPT</td>\n",
              "      <td>อบจ.กำแพงเพชร</td>\n",
              "      <td>16.410858</td>\n",
              "      <td>99.521990</td>\n",
              "      <td>อ่างทอง</td>\n",
              "      <td>เมืองกำแพงเพชร</td>\n",
              "      <td>กำแพงเพชร</td>\n",
              "      <td>ภาคเหนือ</td>\n",
              "      <td>R</td>\n",
              "      <td>NaN</td>\n",
              "    </tr>\n",
              "    <tr>\n",
              "      <th>4</th>\n",
              "      <td>PKTI</td>\n",
              "      <td>ทต.พรานกระต่าย</td>\n",
              "      <td>16.653760</td>\n",
              "      <td>99.575782</td>\n",
              "      <td>พรานกระต่าย</td>\n",
              "      <td>พรานกระต่าย</td>\n",
              "      <td>กำแพงเพชร</td>\n",
              "      <td>ภาคเหนือ</td>\n",
              "      <td>R</td>\n",
              "      <td>NaN</td>\n",
              "    </tr>\n",
              "    <tr>\n",
              "      <th>...</th>\n",
              "      <td>...</td>\n",
              "      <td>...</td>\n",
              "      <td>...</td>\n",
              "      <td>...</td>\n",
              "      <td>...</td>\n",
              "      <td>...</td>\n",
              "      <td>...</td>\n",
              "      <td>...</td>\n",
              "      <td>...</td>\n",
              "      <td>...</td>\n",
              "    </tr>\n",
              "    <tr>\n",
              "      <th>109</th>\n",
              "      <td>VLGE13</td>\n",
              "      <td>ชุมแสงสงคราม</td>\n",
              "      <td>16.858560</td>\n",
              "      <td>100.059642</td>\n",
              "      <td>ชุมแสงสงคราม</td>\n",
              "      <td>บางระกำ</td>\n",
              "      <td>พิษณุโลก</td>\n",
              "      <td>ภาคเหนือ</td>\n",
              "      <td>W</td>\n",
              "      <td>NaN</td>\n",
              "    </tr>\n",
              "    <tr>\n",
              "      <th>110</th>\n",
              "      <td>VLGE15</td>\n",
              "      <td>ชุมชนหนองปิ้งไก่</td>\n",
              "      <td>16.434798</td>\n",
              "      <td>99.367315</td>\n",
              "      <td>นาบ่อคำ</td>\n",
              "      <td>เมืองกำแพงเพชร</td>\n",
              "      <td>กำแพงเพชร</td>\n",
              "      <td>ภาคเหนือ</td>\n",
              "      <td>R</td>\n",
              "      <td>NaN</td>\n",
              "    </tr>\n",
              "    <tr>\n",
              "      <th>111</th>\n",
              "      <td>VLGE12</td>\n",
              "      <td>นครป่าหมาก</td>\n",
              "      <td>16.623374</td>\n",
              "      <td>100.369210</td>\n",
              "      <td>นครป่าหมาก</td>\n",
              "      <td>บางกระทุ่ม</td>\n",
              "      <td>พิษณุโลก</td>\n",
              "      <td>ภาคเหนือ</td>\n",
              "      <td>W</td>\n",
              "      <td>NaN</td>\n",
              "    </tr>\n",
              "    <tr>\n",
              "      <th>112</th>\n",
              "      <td>TBW014</td>\n",
              "      <td>สะพานข้ามคลองเกรียงไกร</td>\n",
              "      <td>15.843182</td>\n",
              "      <td>100.211475</td>\n",
              "      <td>บางเคียน</td>\n",
              "      <td>ชุมแสง</td>\n",
              "      <td>นครสวรรค์</td>\n",
              "      <td>ภาคเหนือ</td>\n",
              "      <td>W</td>\n",
              "      <td>NaN</td>\n",
              "    </tr>\n",
              "    <tr>\n",
              "      <th>113</th>\n",
              "      <td>TBR013</td>\n",
              "      <td>อบต.ท่าเสา</td>\n",
              "      <td>15.990014</td>\n",
              "      <td>100.221606</td>\n",
              "      <td>ท่าเสา</td>\n",
              "      <td>โพทะเล</td>\n",
              "      <td>พิจิตร</td>\n",
              "      <td>ภาคเหนือ</td>\n",
              "      <td>R</td>\n",
              "      <td>NaN</td>\n",
              "    </tr>\n",
              "  </tbody>\n",
              "</table>\n",
              "<p>114 rows × 10 columns</p>\n",
              "</div>"
            ],
            "text/plain": [
              "       code                    name        lat  ...     basin region station_type\n",
              "0      BDLH               ทต.ลานหอย  17.008562  ...  ภาคเหนือ      R          NaN\n",
              "1      SAMN              ทต.สามง่าม  16.512774  ...  ภาคเหนือ      R          NaN\n",
              "2      SNGT            อบต.บ้านกลาง  18.482018  ...  ภาคเหนือ      R          NaN\n",
              "3      KPPT           อบจ.กำแพงเพชร  16.410858  ...  ภาคเหนือ      R          NaN\n",
              "4      PKTI          ทต.พรานกระต่าย  16.653760  ...  ภาคเหนือ      R          NaN\n",
              "..      ...                     ...        ...  ...       ...    ...          ...\n",
              "109  VLGE13            ชุมแสงสงคราม  16.858560  ...  ภาคเหนือ      W          NaN\n",
              "110  VLGE15        ชุมชนหนองปิ้งไก่  16.434798  ...  ภาคเหนือ      R          NaN\n",
              "111  VLGE12              นครป่าหมาก  16.623374  ...  ภาคเหนือ      W          NaN\n",
              "112  TBW014  สะพานข้ามคลองเกรียงไกร  15.843182  ...  ภาคเหนือ      W          NaN\n",
              "113  TBR013              อบต.ท่าเสา  15.990014  ...  ภาคเหนือ      R          NaN\n",
              "\n",
              "[114 rows x 10 columns]"
            ]
          },
          "metadata": {
            "tags": []
          },
          "execution_count": 125
        }
      ]
    },
    {
      "cell_type": "code",
      "metadata": {
        "colab": {
          "base_uri": "https://localhost:8080/"
        },
        "id": "ZsdQvYUlYIZ_",
        "outputId": "15a8a0db-c107-4f71-aa33-e762358c8cb3"
      },
      "source": [
        "description['region'].value_counts()"
      ],
      "execution_count": 126,
      "outputs": [
        {
          "output_type": "execute_result",
          "data": {
            "text/plain": [
              "R    77\n",
              "W    37\n",
              "Name: region, dtype: int64"
            ]
          },
          "metadata": {
            "tags": []
          },
          "execution_count": 126
        }
      ]
    },
    {
      "cell_type": "markdown",
      "metadata": {
        "id": "zjpZ_lKLZ1jd"
      },
      "source": [
        "Finding the code of chosen stations"
      ]
    },
    {
      "cell_type": "code",
      "metadata": {
        "colab": {
          "base_uri": "https://localhost:8080/",
          "height": 80
        },
        "id": "FY_XmFkPXwES",
        "outputId": "9b3246d0-8768-4c5f-b878-da04cf522b30"
      },
      "source": [
        "description[description['name'] == 'ทต.เชียงม่วน']"
      ],
      "execution_count": 127,
      "outputs": [
        {
          "output_type": "execute_result",
          "data": {
            "text/html": [
              "<div>\n",
              "<style scoped>\n",
              "    .dataframe tbody tr th:only-of-type {\n",
              "        vertical-align: middle;\n",
              "    }\n",
              "\n",
              "    .dataframe tbody tr th {\n",
              "        vertical-align: top;\n",
              "    }\n",
              "\n",
              "    .dataframe thead th {\n",
              "        text-align: right;\n",
              "    }\n",
              "</style>\n",
              "<table border=\"1\" class=\"dataframe\">\n",
              "  <thead>\n",
              "    <tr style=\"text-align: right;\">\n",
              "      <th></th>\n",
              "      <th>code</th>\n",
              "      <th>name</th>\n",
              "      <th>lat</th>\n",
              "      <th>long</th>\n",
              "      <th>tambon</th>\n",
              "      <th>amphoe</th>\n",
              "      <th>province</th>\n",
              "      <th>basin</th>\n",
              "      <th>region</th>\n",
              "      <th>station_type</th>\n",
              "    </tr>\n",
              "  </thead>\n",
              "  <tbody>\n",
              "    <tr>\n",
              "      <th>32</th>\n",
              "      <td>CGMN</td>\n",
              "      <td>ทต.เชียงม่วน</td>\n",
              "      <td>18.893837</td>\n",
              "      <td>100.28784</td>\n",
              "      <td>เชียงม่วน</td>\n",
              "      <td>เชียงม่วน</td>\n",
              "      <td>พะเยา</td>\n",
              "      <td>ภาคเหนือ</td>\n",
              "      <td>R</td>\n",
              "      <td>NaN</td>\n",
              "    </tr>\n",
              "  </tbody>\n",
              "</table>\n",
              "</div>"
            ],
            "text/plain": [
              "    code          name        lat  ...     basin region station_type\n",
              "32  CGMN  ทต.เชียงม่วน  18.893837  ...  ภาคเหนือ      R          NaN\n",
              "\n",
              "[1 rows x 10 columns]"
            ]
          },
          "metadata": {
            "tags": []
          },
          "execution_count": 127
        }
      ]
    },
    {
      "cell_type": "code",
      "metadata": {
        "colab": {
          "base_uri": "https://localhost:8080/",
          "height": 80
        },
        "id": "EhcKJKgsYdvs",
        "outputId": "2d71a65d-c3b9-4e70-d48e-e97caa1b232c"
      },
      "source": [
        "description[description['name'] == 'อบต.วังชิ้น']"
      ],
      "execution_count": 128,
      "outputs": [
        {
          "output_type": "execute_result",
          "data": {
            "text/html": [
              "<div>\n",
              "<style scoped>\n",
              "    .dataframe tbody tr th:only-of-type {\n",
              "        vertical-align: middle;\n",
              "    }\n",
              "\n",
              "    .dataframe tbody tr th {\n",
              "        vertical-align: top;\n",
              "    }\n",
              "\n",
              "    .dataframe thead th {\n",
              "        text-align: right;\n",
              "    }\n",
              "</style>\n",
              "<table border=\"1\" class=\"dataframe\">\n",
              "  <thead>\n",
              "    <tr style=\"text-align: right;\">\n",
              "      <th></th>\n",
              "      <th>code</th>\n",
              "      <th>name</th>\n",
              "      <th>lat</th>\n",
              "      <th>long</th>\n",
              "      <th>tambon</th>\n",
              "      <th>amphoe</th>\n",
              "      <th>province</th>\n",
              "      <th>basin</th>\n",
              "      <th>region</th>\n",
              "      <th>station_type</th>\n",
              "    </tr>\n",
              "  </thead>\n",
              "  <tbody>\n",
              "    <tr>\n",
              "      <th>25</th>\n",
              "      <td>WCHN</td>\n",
              "      <td>อบต.วังชิ้น</td>\n",
              "      <td>17.87883</td>\n",
              "      <td>99.61927</td>\n",
              "      <td>วังชิ้น</td>\n",
              "      <td>วังชิ้น</td>\n",
              "      <td>แพร่</td>\n",
              "      <td>ภาคเหนือ</td>\n",
              "      <td>R</td>\n",
              "      <td>NaN</td>\n",
              "    </tr>\n",
              "  </tbody>\n",
              "</table>\n",
              "</div>"
            ],
            "text/plain": [
              "    code         name       lat  ...     basin region station_type\n",
              "25  WCHN  อบต.วังชิ้น  17.87883  ...  ภาคเหนือ      R          NaN\n",
              "\n",
              "[1 rows x 10 columns]"
            ]
          },
          "metadata": {
            "tags": []
          },
          "execution_count": 128
        }
      ]
    },
    {
      "cell_type": "code",
      "metadata": {
        "colab": {
          "base_uri": "https://localhost:8080/",
          "height": 80
        },
        "id": "jBb2K5H_Yeif",
        "outputId": "0302461a-41f6-461e-8b1a-4dd8c07a031f"
      },
      "source": [
        "description[description['name'] == 'โรงฆ่าสัตว์ ทม.สวรรคโลก']"
      ],
      "execution_count": 129,
      "outputs": [
        {
          "output_type": "execute_result",
          "data": {
            "text/html": [
              "<div>\n",
              "<style scoped>\n",
              "    .dataframe tbody tr th:only-of-type {\n",
              "        vertical-align: middle;\n",
              "    }\n",
              "\n",
              "    .dataframe tbody tr th {\n",
              "        vertical-align: top;\n",
              "    }\n",
              "\n",
              "    .dataframe thead th {\n",
              "        text-align: right;\n",
              "    }\n",
              "</style>\n",
              "<table border=\"1\" class=\"dataframe\">\n",
              "  <thead>\n",
              "    <tr style=\"text-align: right;\">\n",
              "      <th></th>\n",
              "      <th>code</th>\n",
              "      <th>name</th>\n",
              "      <th>lat</th>\n",
              "      <th>long</th>\n",
              "      <th>tambon</th>\n",
              "      <th>amphoe</th>\n",
              "      <th>province</th>\n",
              "      <th>basin</th>\n",
              "      <th>region</th>\n",
              "      <th>station_type</th>\n",
              "    </tr>\n",
              "  </thead>\n",
              "  <tbody>\n",
              "    <tr>\n",
              "      <th>17</th>\n",
              "      <td>SWKL</td>\n",
              "      <td>โรงฆ่าสัตว์ ทม.สวรรคโลก</td>\n",
              "      <td>17.31681</td>\n",
              "      <td>99.825146</td>\n",
              "      <td>เมืองสวรรคโลก</td>\n",
              "      <td>สวรรคโลก</td>\n",
              "      <td>สุโขทัย</td>\n",
              "      <td>ภาคเหนือ</td>\n",
              "      <td>R</td>\n",
              "      <td>NaN</td>\n",
              "    </tr>\n",
              "  </tbody>\n",
              "</table>\n",
              "</div>"
            ],
            "text/plain": [
              "    code                     name       lat  ...     basin region station_type\n",
              "17  SWKL  โรงฆ่าสัตว์ ทม.สวรรคโลก  17.31681  ...  ภาคเหนือ      R          NaN\n",
              "\n",
              "[1 rows x 10 columns]"
            ]
          },
          "metadata": {
            "tags": []
          },
          "execution_count": 129
        }
      ]
    },
    {
      "cell_type": "markdown",
      "metadata": {
        "id": "BSywRoA_4q1o"
      },
      "source": [
        "## **มิล**"
      ]
    },
    {
      "cell_type": "markdown",
      "metadata": {
        "id": "UlBHuFuM5K49"
      },
      "source": [
        "![image.png](data:image/png;base64,iVBORw0KGgoAAAANSUhEUgAABVYAAAMACAYAAADPPjzCAAAgAElEQVR4AexdB3gU1dpeBKUo14sNsQEiTZKQRoAkgFSlhw5KFRWlKDU0QUGlRgURBQJiVxQVC1bEe1UUUS/eK/ijchH0YgMRBKUlef/nOzNn5szs7O7s7mQ3IV+eZzIzp37nPe+cOfPuN2d8Pp8PvDEGzAHmAHOAOcAcYA4wB5gDzAHmAHOAOVDcHKhSpQouvvhiXH755WjYsCESExN5CwMDwoywu+iii1C5cmV+lmc9gznAHGAOxJ8DPHko7skDl88cYw4wB5gDzAHmAHOAOcAcYA4wB8o6By688EIWUcMQUd2IztWrV2dRJf6iCvcB9wFzoGxzgCc4ZX2Cw+3na4A5wBxgDjAHmAPMAeYAc4A5wBwoTg7UqVOHRVWPRVUpvBK2xdl3XDaPDcwB5gBzICgHgkbyAF22VXfuf+5/5gBzgDnAHGAOMAeYA8wB5gBzICoOkFelFAF5XzxLH1xwwQVR9RGLJqyLMAeYA8yBiDkQcUYeuHmCxRxgDjAHmAPMAeYAc4A5wBxgDjAHmAMBOUDrgLKYWjxiqh3XSpUqBewHFkxY92AOMAeYA8XGgWIrmAd1nmAxB5gDzAHmAHOAOcAcYA4wB5gDzIEyzAH6UJVdAOTz4hFa6YNWLJywvsEcYA4wB2LOgZhXyIN9GZ5Y8QXO1xtzgDnAHGAOMAeYA8wB5gBzoOxwgL5gz0Jq8Qipdlxr167Nz9r8rM0cYA4wB2LPgbJzUy8NE7gGDRrwRRDDi4Dxju31z3gz3qVhHI7URuY38ztS7pT0fMzt2HGbsWasS/p4EIl9CQkJLKwW00er7MIqYR1JH3Ge8Mee+vXrM9YxfG5njobPUcYsppjFtDIefEIMPt26dWOMQmDk5QDBeMf2+me8GW8vr9+SVhbzm/ld0jjplT3M7dhxm7FmrL26bktSOXbxj8+L13u1JPX9qWwLj9exG69PZR5x204ZHnnbkIvSBqHljL1oc8+RsDbKQ3nLOrGiGaDLlSsH+uVsxowZ+Oc//4nvvvsOe/bswebNm7FgwQKkpaWhfPnyZR5jlWPR4E3lVKpcGedfeDEuu7weLq/XSGyXXV5XhFWsVJmxtonkjLe3463KZafjaPF2KvOSquWY1zZeS5yiwfs0nw/l9a2Czwd1k+GURtbFex+iwZvxC49L4WLdqNNwJHa7GUldRyCx6wgk0XGQjdJo6W5Bw6uHlGmeh4s1czk8Lqt4MdaRY6fi6OY4WiE1qMcre8P6eQO76ZNAaVJTU7Fs2TJ8/fXXOHbsmNh27NiBhx9+GMnJyWV6fLZjxmNI7MYQO/Z8HnvsEeKvpPUJmTt06NCAYxbF0Z+HdnvbKZGIqlKEpbweNqxUlhXpAE1f27zlllvETbCwsNCP9kVFRfjhhx8wc+ZMVKtWrVRiUxzciBRvsuXcC2rg8voJuOLKxriiYRLqNEgUGx3XvbKxiKM0xWF3aS2T8fZ2vA3Fg2jwDlT2m30qYkhCBea1g8gZCd7lHMoJhL0MjySPzHsq7SPB+1RqfyzbEi7WqX0nIP3aqUgfMEVsTa6dimCbmW4aknveWqbHl3CxjiUPTrW6osG6fMVKqJaQisu6D0Dt/sP9tlr9bhA8zrr5ErSbUqtMc5p4E42wKkXVRu1TUWtwGmoOTsNlg9NQb2gqOl1dL6qyo7GrJOeN5FqtUqUKVq5c6fcMaQ8g0ZWeOyOp41TLE80YcqphEa/2/P3vf8cdd9yBrVu3GlSlYwqjuHjZdSrWSwAHalewuEB5ijtcCqdO4mqwuCjs8vZBX4qkke6jaEjAji5NZUYyQNPNbf78+eIXRWNECXBAouvjjz+Oc84555TAK9q+jQRvn68calxSC/USUoSASkKqFFNJUFXPKQ2lpTzR2noq5Ge8vR1vQ3EiMryD21i3WjnsvKkSap/NnLbjHyneZ/l8SPH5cI3Ph2E+H4bbNgqjOEpDae31ltXzSPEmvNS3N9RjGWcPK6sYy3aHi3VK77FI65+LtH6TxJbePxfBNjPdZDTOGVWmOR4u1rKPJHfluZ3DdG4Pk2nL6j5SrP9W70okTV+IJveuDril5z0meHzDumSM+UdameY08StSEZJEVSGstkhB2hM9UOvBNrhoTnOceXdLDF2VgF9ePR2tsxogkbxW2XPVwDnca5pEVXrbkf6Kjh/HX2ufwoFbBmFfp2z8enUmDtx0Lf5c87iIozTvvfcei6u+4ntz5h//+IfAONx+LGvpSRz7/fffA6geEHFOolpZwyna9gYEWI+g8ukv2nqKI7+TgOoU5lHd3j6kqYJqqE6Q8WqeUI3K316EAxvGWzqOwrbne9GOlug9ajz69++PVq1aoW7duqhS0Yty3ZcRySSPPFXpVQ0UHkfRn9+j6PA3wAllkCk4iqIj36HoyE7g5GGQ9+rcuXNRoYIbr7Px2HCgSOShfLR5g7V7TEJxIpr4SPA+9/wL0SAxDRddWhtVz66Gi2vVQe36Cbi0dl1cWqsuatdrhEtqXYGqZ/9diKqU9pzzL7RwNrDNOt7b8x3TE9eLAsQFLrNkYE32lTy8JTYa7vaxxefLx3ad9xr/D2DDeDWPPB+PV/Ycwo71dzv2W/0mrVC3ZnXHuOLst0jwdrKHPFTb1zKXEbmpcQVs7F8R5ctJLCLdE74Sw0jLKDn5IsG7p8+H730+HKdJidzKlTOPZZiehtJSHqd+cg7TuK2N2zY+H9iA8T4fnO6rlrLGb8CeQ4ewY8d6TAyr7nDsDD9tJHhb2uVxW+z3SnXMCImxx7Z43c5wsSZhNX3AZENUbTJgshBW5b7pdVOQca0ZFq6wyliHf71Ez4no75Mv7z6IL1+e5Th+1ajTEFXPrOQYF73tzniFy+vissNS7vgNOCDmHduRX8LHBYvdIWyNWFhN1D56lXx7OzR7dQAS8zvh/BlNUWNmU2xdWxXYUg5PzzpPCIpJetrI6lqIzYcOYfPC4l37NDLbwrcpnL6htNJTtfDXn3FgeH/82raJ43Ywd7R8fBdLA4Rbj5ae5iImv8dvOGA8Z5a2Z8ziGkMkyJHh6zzenWplSXFMYhVsn5OTE9N7y6mGNWEbqE0yTu4DpYtnuOQK7dXjYrDJ24tPFUmDEVyNU/OEbCBNOPSHQS1tPrZbzqNpDwmro9C6vl5GtUtw1llVAhJJ2kprma5evdovHYVRnEznZh/uAE1fj6V1b4oOfoGTWwbixPpaOPFqdZx4tykKv38WRfvex8lNOTjx2iU48WoNnPxnGxT+7wX8+vOPaNu2rQvbaCJdsoSPeOJ9RqVKuLxeAuo1ShbrqMo+Pa28KVKfRuvYltO8+WgpgHqNUoTYekZFNw8MGt4HDpgTDlmHT3D/AA7EWFg9tfHWr3XCdvt2y0RPw906+fPlb0eRMd6o1wYJq3uwZYuD8FS/NbKyslDHpbAaT7wNrtkekJrWOA1fDa+E2dmnG2LqCzlnYEpTk/eB8trDvfshLJqx3swbT7wr+nzYowunhT4finw+FKhbuXLGOcVRGhJfKc8Ztj6y42ycE2flmOF3/5Q42HhuK5v6bMsSmTa6fTzxNjDx+TBixAi8/PLLWL9+PSZPngzy1pHx/fr1w623aq+jn3HGGZY4mSboXsXchmXQfB6njSfWqX3GCY/VJgNykdp3ItL7TQIdk7Cace0UNOh2KxJ7jUPGgMloeq0pspIYm9xjtNEXIfFirC1YFSuvPbhPvrx7NzZtehlj7VyvmS6+EeBGWI0nr4mPwbxU0xY+Ifpj5Ov1MHFTI61vhkyDb0yepZ+C8bok3SO9xDoSQTFBF0qTumQg/fneSHu6B5qu6YkLFrbD7Q9fBmz04ejbFXD83Qro16lOlOKqS2F17U4U7VxreIZG0i6nPHv37sW6dev8yqUwinPKEywsGMfscbSmKv2Rp+pv1/cVguq+jlk4snIpTvxnK05s+zeOrHoIvw3uiYIf9qiP8BGuuarMOWhcCejAEN18w95Oee4lr8N9bpc2hNpLkEOlK6vx9Ip/ME9ViZ/cU1peFiDy64lwDMQ1GSf3gdLFO1wKqmQnHReTPZGD7GSQKpJGcuxUpj1MnXTQr1z+XmaRtskmrPqqofJZZ4UEftGiRdRHFnGVRFX6ozi7/cHOwx2gb7/9dhzfuw1/PJqGY0/7cHzd2UJYPf5CZZz8uI8QWo8/58OJ1y4S4urxNeVwePm5OPqvZ/HEE9oEMJg9Pp8qHkWKq7f54on3+RdeJNZUpVf+z60eev1U8lSltLRR3uBYE04a3tu3+/OauL59AwmAzt6socuOrB9Obbw1TAS2+ZrnnvXXcmXyJx4E1XP12tCE1fXrt+CVe/tY+rl+615o0rixa2E1nngH49A5lcqBxFRaY5U+YFX9TG1JgLQLT7O0N1gZFKeO36HSxiI+nnhf4fPhiC6YSmGVBNSi6tVRVK6cEFqLTjtN2yvpDvt8qG0XJgKc529XfhgTwojz+BGsXyjOK2E1nnjTBx4rVqyIF154Qdyf1X8ff/yxeK0xPT3dCKa3VwYOHIhp06aFxXHxA0yMx2mnayWeWJPHKomoSb3GI2vQNOGtmtRzHBr3noArOo/C0mfewMi7VwiBtUH321Cvy2ghwDYZMCW8pQBKiLAaT6xjxWsv7pMkrL788iY8P7en5Zqqmd4GdWrWdOWxGk+s6TpzElbptf/UBU8hed4a0a4xbzdA7keJ4rj8DZNx2vi5lvY6Xa8yLNhYLNPEau8l1sFEwEBxJKwmNE5Eyr2d0OTFPkh/ugfSn++DtIc64ds1lVH43mn4880KwKYK2LS0KhKFEKt5uAYqM3B4fIXVJ598Utx7VHGVjumP4gLb7ezNGg5HaM1U+ju59QHs79kUv3ZohhPbvhBhln8O3/BYunSpa26bNqlz6cieTcyyws/vJa/DfW53a7fE3W36spbuzjvvlBC53lOeeOPk1th422mvn+y2h8lzGSf3Mryk7VlYDfCgaHqNWQdmmozI19VNrzIfNPE133ilXQix+dtxSLzauAOrJ8pB2SasCo9Vd4tzP/roo+JaIUFViqoUFi6pwh2g//Hee/jjxQn4+bYKOPxMOxTt34Siw1+jcPfjOPFeC5CoevKzm1B0+FsU/bkLx94fh18mVsL+vEx89+VmF/ap4pHESd/TA43xK6Py8C5en96ODeLVDj3ceJV0BzZuXI0bjb5NQ+te4S+9EC+8L61dD3UbJokPU1U4/YyQ+FU4/XThrXpFw8ZiqYDQfNDxznfwzKbXZiwPkcR/k/PmDwzadbFkyRbhzbxx40YsuFH2XQd0Upa6OKvy6SHbQDafungTLoS57iFswZfirGOMVTBRrw1NWH307kfxyiv3opPBb8K7E+rXbxLWUgDxwtvOT1pHdVmHM0AeqzJuXHoFscZqm5qnoesV5TG9uTsOUX7/MVrFVz82xhXqE8JY57jhKaz1mVh6YQeNJyq/Jc9pXx1VXPwwFk9+J/p8+FP1WC1fXnikYtYsYMMG4IortHPdm1V6rFIeyiv7JPBexdcHwV9jzFDHbD3OQQyUfSbul3KpixsXYOHChRg/npbO6YXGl+i2nF6y75eE03XXXSfu1SdOnMDJkyfFdvToURE2YcIEzJs3T9zXKO7VV19Ffn4+nn/+eRdYK/3hN45Yf1DQhBPqG43b9GMOzVPUpQNkn45d/oawgT48ObBjQnh2xHHsFh6r/Whd1Un455ZteOvDrUJg7TZ6LsbOW4Wffv4NDz71Oq7sfhumLHoSUxc9ieYDpyKtX27UHqsavlp/RII1ffCiNGEdG157c58kYXXlrJV4/vm56GCMYdnI6pCFGjXquBJWqb0l5R4pr1Ov9nK8FWOBHI+NeyKNF8q4rb+BsEE8++hzGMX77+DBTzDLwLgDBk++A9dffz06dOiAOhfR9eHmLSrvsA5XGJTeqo0HZyFjXT+kPtUDaU/1QPNX+qLugJa475YLgc2n4+ib5XHsrfLAhxUwftBlQoB0vSQAeZ/Ke+LOzcpSACSymvNrw0NVTV+kLRuwcPMhHD58GN9++y0+/HAtpic6C51u2k9vUdAfCapSVKUwN3ntacLh5Ndffy3qLfikCY6/UgV/PTlKnLv599VXX4W8L2n3N4W7lrm1Ms/T+4KeZ7RrwXx7T/6wM/rl3fjyyy/xxhvavXFkV/PeK5YTqVo1pD2lYQyR2IfTj2Up7RdfWIX/5ORkv36nMPWPPmhVljDysq2EY6DyZJzcB0oXz3ApqtJePS4Gm8wByYvCVS9VlczBjtU87mzQBA3Vq08MwHIS4tMfUvRz64CuP8zItHevx0ZDCLGtsVrnEpxuTEpC4yQnetRWOnbXFmu54Qqr/93+OX67Lxs/Tzwbx756y4CZ1lQ98dqlOPHaxdqaq3pMwYEfsO+eBPySey7+2vamCxvtNzz9xigmeuYNT7ymbqyXo2FsCH365G+0xHLiajy14EZRd4eh49GrdX0XdlhxImzjgXfteo3Ex6lqXtHQtc209ioJq5Q3NCc0btM6ntoDod7u/O2aZ7bDA7tWpiqgaPgf2rJEq4/wXjENLSX+xp6EJ/P111C2nZp42wUlFUfCXsPSmHjLcUNgaPYVibO0FMCjw3yYuFoR+joM1fgdprAaL37bOfC3iuUwKrUCPh1cCZsHVQStrUphmRdrSwPQh6zseUKdW3htmVzrWDuO29o4pHkTa7i/MlqOCROx4KkF6GPwWguvdkkduP3hIF54N1KEVfJURYUKmpA6c6Y2YtOC/DNmALrgKtLoeShvKKy15UO0dVT90jqN4Rbx2iyf+szwWKXxRMWblrpo1QTVyR6Xwmq88KZ6yfOnoKAAJKzSdU1/dE7bhx9+iDfffNN40P7mm2+EuPr666+HxlrtD4dxWuU9HRfJ+6UuhMj7pZiv6NfArJe/xPKxsh+ao+PAgUivKc/d7+Mxdqf3HY9GPcZh4JT7Bdbf7v4Rg6csxlc7v8dX//0Bvx86jBkPPIXVL76LY8dO4PF1G9Fq6O1I7TcJyT3HuMfbK6xf2VZqsY4Jry04R36fFMLqEB/oB4PZQ3QOZ/dEm/Sa8IUhrMZzDElfuBLqljJfm++PebsuJnyozw2HzoZv1AL4bl2I8uPmoPzYe1xzWh0rtB/DAsy19bHDeMtGn2vTutmEj++BT7DtFW092yGz8zF5cHPXNoj8shyP5tt24c/NeUKTxkjN76YtA/BUDzR5sS9S7+uEhIREpCU3wrdPn4mi9yvg6FvlUfjPCtj1TCVkpDVyJ0Qu3IxDujgqbBGiqdMaqzZP1iBLAYxb9TaeyrvJXf0BBFgprtK9KVJRldpj78Ng5+I7HeSxuvFMnNxwOor2v67NQfT/6nO6PJ7+nPaDJP0wGaxsituwfQPG529XvtGhjCHEW8vcmvibj+3b8zF+w3bjuwZSWLXU1WECcnMHIYG42igLDRs2RNWqJfu5xmK/fo3Rh6rc/tFHw5zKKGthdrycRFO7+Ep5yhpOXrU3GHZqX3hVn5flOAmpTmEe1el+cu6mQjng0t7tn5rHTR0ijeWhkB60lYmHGKjMQZsGY/nQonmnKb+aDVM9zFSP1fqoWbcOKp/uHh/pqUrtpmPXbVEmL+EKq9999Tn25zXDL7nn4PjODwzIiw7vFGuqnlh/KYqO/NcILzz4I/bNaYxfJlXDX/9Z78JGVTwysXC6wZmTQRN7s6+KDA9h8jDThL4+GDp+KDKU9oeDWTzwvrx+Auo0TELtulei3GmmF19Au8uVA4mwJKxeXj88YdX0jlT6wPJwo3o5qZ4MGv5LDFytwhO9mi4/znaWS48+at+pibdNwPZ7VV3hsniIUccZpV8UYdVn/HCgjCcRCKvxwDsgj30+IaauuuYM/HBLJeHFmni+C/4bHDTHDnOcoDAFX8uxXfBW+4ny2MaTp1ZgREuzDtGO6jVR0vkdV2HVvsyL/aFc6TvqMyms9rn3FcUDXsOcPs5Ws3p4wmq8+L1mzRoUFhb6CasURssBvP3224awSh5Ir7zyCopDWDXEkIC8H42Vm0yvHPJYJW+zrEY2niv9FOj6jQfWmsfqJKT0mYC9v/yG2+asRLNrp4i5SPsb7sT7n25D3iPr0H/Sffh82068vWkrWl8/Eyl9JyGlh7fCqhusV320zfCAIo/V0oQ19Xtx89o6bqvjsW0cD3GflMKqb+xy5M8eAp9P+cEgTGE1HrwmrOVSAOL1/4VPorH++v/ED69E7se6oHXzbJQfP9eyBbo+7eEq1kHn2vYxWzwXmV6WBw8exLaPVqGnbyxm589GNxdjhd0Wee4F1m6EVHuaxrddhaav9hOeqmnP9ET6C32Q2KWJIVzeOuAy4al6/J3y+OvN04DN5bF4/IVGvL08y/nanTi0eaGS1kFAld6sRUXYuVb3RPUTVtfiS8Nj9UO8sGy6UqaeJ72pf1gAYVV6qtJgSccWmwPkcUoj+87N3hBW362iCav71hvPjXSgPqfL40lPuxdWicf0Q6bjWGzjrXxep+tA9dB2uhZ8viEYOXMksgW3G6FOndBLtKl4eMHrcJ/b1frlcTjCKqWV+cry3kJQ/UR91T/QUgFlGbNo2k4QB8ofLC5QnliFBxNQg8VFYV/4k/RglckBN9J9sLItcZYJRXEIqz746MG8SsWARFLtkYMzeYZI7xAKU9O4OQ53gP540wc4+NQN+OnWCjj80mDgr++Bk4dQ9Os/cOLdDLEUwLEPJ6Hg4E8o/OMXHH59Fn4efyb2zUnC3u0fubBPFY9Mrjjd4MzJoCqW+AskBg4tR2DUqN6oH8FkL154C+/TBonCa7VyldDr71aqcqZIW6dBUnhLAYgvz+vY07IA8tdcRVgVExUZbhFJNPydhNW03qPQv1OG3u/u1hCm/jp18dZEOsMjVU6iDVytXCbM5aTP+iON6bHq8/XBtBUrMKLPCIwa2kHDOkxhNV54G9emfk3SeqokptLr/+1rlRdrq9Jaq+TFGl9hdTtMfpvjkt1+t+fxwrvYlwKw3CftONnG9iBpaWz3UliNF97EBxLM6O/48eNiGQDyVJVLAUydOhULFiwQwistBUCvGpKtL774oot7pYKvMk5LDpr3xyCiFF13Rl4SVjdhbk+l3FJ0r0ztPQ7iQ1S9J2D7t99j9/9+wY0zl+Lb3Xvxxf/twh+H/8T9j76Cm2ctw4ZN2it9A6csEl6uKb20D4dJ7ILuDbxMnCLBetVHH5VarIuf197dJw1h1dcTExYvxqCugzCwZ7Z2fYUhrMZzDAnKxwiuUXt5Kn+DzrXtY7bDtSDK7jkXixdPQHObbWdUcffKtFdYO4l/wcISWqUh7bHuSF/TC+lP9RJrrCZPbyOExgQhMCYIz9X37quKovdPw9G3KqBwY3n8su4MtM2qH1KQpFf4AwqrJJ4e2oyFupC5dmcgYXUtdhYdwntzdAF1/lpnYdWlICpFVfJUlZ6rkYqrdl4FO6ePINPfoQ8T8NuGalj373vFudO/2S8eE0LrveuPiejt27e7uj9auWydW2u26eOM8eaMdY5izS/He0VYlR6rVUIv00b1ecXrcJ/bg/WDGiexV8P4WPa7D07eqIQZvf5vXwJAYkl5GEMTw3CwkBgG2odTVizTkr0koAaqU4qrgeIjCI8M4EAVRSqoynyByvULt00oaCJifPnYYSkAZzHEB19Aj1XCxZ3wJBfBJkFV2inFVYqTYW724Q7Q8+fPx/GdH+L3RTVx9MlyOPFmPSGonni1Bk5uyhEfqvplUmXhpbp/booQVX8efxaObLwf69a95MI2643NaANN4OSrjDRZo/4wzm03TBF3AOaru5Jz2tIL4S4FEE+8z7/wYvHxKvJcrVmnAU4/I/AN/PQzKuLSy+sJYfUK8fGqi8PGmyYSll95lYkzcd7gtY4xLSEgvQBN4cn0WLUsvSDWEA4tDp/SeCt4GtwWHmTSq93GZUucem2owqoPnaatEGtQDu2gcz0MYTWeeJsYaHaTeNq/YXnMzj5dfLjqq+GVhMfqq73c/eBkL4/O1YdGydV88cBnw9rWN2Y+wr0Ie14J48vhtgdK1a544l38H6+yYariQPgaDzCqoCfHZ3NP2EthVXhkR7EUQDzxpo/8nHHGGcYDqzpBpAdL+mJsdna2ETx48GAMGzYM5C2qcibksY27dt6bXCaMbX2k5KWlAN5YPja8upU+jifWKX3Mj1f1Gb8Q8x95CW2G34He4xZiyv1PYMycfHF83eT7sfTZNzB8xlKk9JkI8fGqHmFc2wpesl9UfNXjoFi/sq3UYl3svHbAWMMy/PukKaz60GHCYnFt9czWxxqXwmo8eU0cS53zMJLvWiWuS3r9/7aNDbRrdOjd8N1yN3yj56L8mFl+m+RnqL2Fs4S9Mbe2zbVtz0HaPFz2iTl++4SI7b8UQKUzQwurXmIdTER1imvYqjNqTnoVl016HZdNfB21Jr2M5uPfRYtxm5E97iO0HPcRmo37DL3HvoC9gxPw+8AGODDoSuwd2ADdm14ZUlhNFEsB7MRaKXoqSwGQ6Gqsq5pI4mkAYVUv42m9jPlrA3isyjqC7OXHq9TX/6W4Wtwfr3r44YfFfe/zr+bjmuc6o9lzffGvX7cb90J5sOPHQnSYe0QIqx/sKBDBS5boy44p9x4njluFUdt9j/KKpQLGa8sGiPui6X1Nz/fW/JLfVmG1To1zUOXM0EsBeMnrcJ/bnbBxCpOYO8VxmA+BPFJpSQDanP5Uj1bGUF5DvPeYC94CKgVS2gf6U9PYj103zj6hUD9yQl5nygMjDcaGAGXx7AslrPrgqxh6gN69e7fjmqokrlKc6zb5fAh3gKYvGH+/Zw8K976GExub4viLlXF8bXmxDEDB1/fi6KdPYv+CJuLVf1qHdd/dV+LIu/fi4L6f0LOn9ausznaq4pGVK1L007z91Mmc8w1TfiyMlgJYMa2Tjov1Y0pVKlrrcLIpnnhXrASsI24AACAASURBVFRZCKXVzr0AF9S4BHUbJeOiyy4HhUtbSVCtftFlqF3vSt1bNRF1GiTijEpuPhRgxzsf2xUum95McoKtTzwObMf2A7IPNPydhFVfWm/0kh+vqlPT1cd9TmW8LQ8wyqSQwrUxw5/LgveiT9S+sgqrPt+NmDR7BNJkmWEIq/HEW3L4kSe0LxvLc3VPHqtpF2rLAARLp+axHIsHRTlGq/iqx/5Cn7Wv8rFF//igubSIdewQa6y6WOoinnhX9PmwR/14lc+HAnUrV844p/VV5cerKM8ZkltB9ypH7UuHqMta2AVvK5aEvSGs+swfDiL5eFU88ZY8rFixIsg7lV6po3VV6YNV1atXN8bwkSNHYtasWTj99NNBaau6/BiGLN8yTuv9o/JXPQ4m9tFrjnOfNz9edf31PeFqbV29znhiLZYC6E8fr8pFYs/xuKLzaCT3mYCkXuNRv+sYNOx+K5J6j0dCz3G4vNNIXJlzm0hLwmpyziijLwxMA/HcQfRT8VWP3WKtLQVQerCWGBUXr60YmmMDhYd7n1SFVfEar1wfkfrXpbAaT14T1mkLH0ey/vr/pI+U1/9vXWB59d+LpQCovoBzbb/nIP2+qb95Q0sBfLSKllugPhuCUfoSF8bHq86I7fONk3gaLCwhIQWX9HkBNW7Zg/OG/htXjvsR7ecXoe38ArSbX4h28wvQYf5JZC4Anuh/D35v1hCH22TjpYw0JCYkhBZWExMhBFT5ppLl41WamKo93+zETtVjVRdai/T1WcmbVX68au3ayD1W9+7d67imKomrFBcMK6c4OS642UsPv+MFJ9DvjXFIf7YXMp/rj8VfPI7PftmGf/36FfK3PYdOTyxH6zkHMWLVX9CXKEdSUpKr8drKYzl2mOOJNj7rTlLCWURZCkCfN5pLCch8irBaMx31aY1VFx6r8R5D3PSJ1FDcpC2LaeiHcBrj3P5RWspTFrHiNsvxIiZ7bytRhdJAZFfT2I/LeueHK6ySpwJ509D6cDi+H0X7PkDhz2+h6I8dQNFJ0QWFh37C8Z3v4/jXG1Hw226gqBArV65E5cqmGFhWcQ8Xb8Lp3AtqiDVTyVv1nPOro8altVHhdPPL6OVPP13zUm2YBPJsrZeQgnPPv5AH8wh+OGC8oxufI+E3YS4F0z/GVkagTU1Hx7yF/8MYYdbT58P3Ph+O6wIraF+unPYRKzVMT0NpKY9rvB2EJ/+8NlE7nPLjmDZSfvu3X8OT7qeB4sp6eLhYk7BKSwGk9ZuEJgMmo9l1U8U+49opaHrdFDS9dgoyrp2MDD2O9iTCiuUDwvFYjSP/iosT4WIdyg7mdeDx0musQ/VFWY53Ev9ChTXI7IELb9mOS0duQ6vZB9Dm7oO4avbvaH3XQbG1mX0A2XcfRvc7dmNXxzb4vU1jdE1NCluEDGVHaYwPl2vLli0Tz4y//Lkf/XVxlQRW+9b/pfvw80Htw48PPvhgmb9nFtcYIjWUcPuxLKWXr3FLrILtc3JyyjxXyxI34tjWwBOOSIyyC6XhnkdS56mUJ5IBulq1anj88cc1cTXYqKLHvfPOO7jssst4gIlQ6CO+XVyzDi67vD4qVznT4q0quFiuHGqJD1YloV6jFNS4tBZ8Pn5gJ2wi4TfjHfkYHSneUlgVfA4iXLhNF6qcUyU+UrzP8vmQ4vPhGp8Pw3w+DLdtFEZxlIbShocXea2qH43wz296nvnHhVdXbPNHije1qXz58gaOdKyKT3SuxpdkDGJlW7hYS2GVxNI03XOVBFbaKMy+T+83SQvvPwXJLKwa3Ay3f1XeMq9Dj0fh8pr6Y8w/0sUm+mZMXlAvVfJaPa3PjfBVPjPiPg2XAyU1fbjiZEKCtm7pZZ3nIv2OQ7g6D2i3AGi3EGivbFcvKESz+4F7Rz+LB9P1tVVdeqyGa1NpSh8uD8jZhr44T3/HC0/gma9fw6C3c5H5fH/hvTrgzfFYtX0t/jqpra1KbwtVcvUmXujrMFxbS1L6SMYQN/bTGzX8oarQ3CFxNZjnKsWxqBoaRzec5DSucHSVyPWEoOWMvY5fD3QjsFLest5pkQ7Q55xzDubOnYt9+/YFlFb/+OMPrFq1ikVVRZiIFG/i6XnVL0LdKxuDPkxV7jTzC+l0TK/+X9EwSXi3lnVOq+1nvL0db1VsnY4jxZsEU7ebU71lNSwSvMsp45Fb3CLJ47bs0pQuErxLU/tKkq3hYq0Kq6qQqh77iatCcGVhNVysSxJPSpstkWBtEVY7DsJpXa/z37pch9Ou6oJyteuX+ecayYlIRUkSWFM73Iz0btOQ3m0K0rpOEfv0rnQ8WTvuPg2p7W/QPFVZVBU4SNzD2ZO4Kj1XAz5MAiBPVRZVtfl8JGNIOH3CaUM/N9Er/rR+qvpBKzqmMH79PzR+zDFPMfK0MFyUPhiRiKuU56K0QWV+AhLNAE3rwbVt2xa0yPkPP/wA+toxrQ/0yy+/iHV7aE3VKlVCr6lUli6waPAmnCpWroJq59HafKpHajmcc151VKrMWNu5xHh7O97a8bWfR4u3vTw+D95/0eB9GnlR6lsFnw/qJsMpDfeBiUE0eDOOJo5usAgXaydhVXqsOu1JcNVEVxZWw8XaTf9xGme+M9bOuBQHXyIVVjmf5rkbLg7R9CGtubp06VJ89dVXOHr0qNi2b98O+lCV2zVVo6m/NOXlMSR2Y0hp4gXbWmZ5UWYbXiIfUHmAji0fGW/G+1S++TG/md/M79hy4FTFm8eS2PGIsWasT8VxJFxhkNNHJqhK3E5FDpXENvF4HbvxuiT2P9vE/W/jAANiAySugisP0LHlI+PNeJek699rW5jfzG+vOVWSymN+x47fjDVjXZKufa9sYV7HhtcVKlTgD0olRieUSsHU7V5db9mr64XL8b9eeAzxx4R5wpiUYQ5w55ekzq9fn9djimV/MN6xvf4Zb8Y7ltd3rOtifjO/Y825WNXH3I4dtxlrxjpW13Ws6qlatSoLqzEWVs88kz+YFgt+83gdu/E6Fv3JdXB/RskBBjBKAOPq4cq2M3+ZA8wB5gBzgDnAHGAOMAeYA8yBksiB888/n4XVGAur5557Lj+f8rr0zAHmAHMgthzgSUhJnISwTcxL5gBzgDnAHGAOMAeYA8wB5gBzoLRyoFy5ciCvPrevsHM6b5YMqFu3LgsqsRVUGG/GmznAHODJSmmdrLDdzF3mAHOAOcAcYA4wB5gDzAHmAHOgJHLgwgsvZFE1xt6qUpyuXr06Cz0s9DAHmAPMgdhxgCciJXEiwjYxL5kDzAHmAHOAOcAcYA4wB5gDzIHSyIEqVaqwqBonUVWKq5UrV2ZRJXaiCmPNWDMHyjYHeLJSGicrbDPzljnAHGAOMAeYA8wB5gBzgDnAHChpHOB1Vb15pV8KpNHszzvvPBZ7yrbYw/3P/c8ciA0HeDJS0iYjbA9zkjnAHGAOMAeYA8wB5gBzgDnAHCgNHChfvjzoS/TnnHMO6tSpw56qcfZUtQuxl19+uegb6iPqq9LAKbaRxz7mAHOgVHHAPvDyecn5hZH7gvuCOcAcYA4wB5gDzAHmAHOAOcAcYA4wB5gDzAHmAHOAOVAyOeDjjimZHcP9wv3CHGAOMAeYA8wB5gBzgDnAHGAOMAeYA8wB5gBzgDnAHCi5HGBhtYS9qsEXS8m9WLhvuG+YA8wB5gBzgDnAHGAOMAeYA8wB5gBzgDnAHGAOMAckB1hYZWGV10FiDjAHmAPMAeYAc4A5wBxgDjAHmAPMAeYAc4A5wBxgDjAHwuQAC6thAiYVad4H/nUiJSUFGRkZyMrKQnZ2Nlq2bIlWrVrxxhgwB5gDzAHmAHOAOcAcYA4wB5gDzIEYcoCexeiZjJ7N6BktNTWVRRPWAJgDzAHmgIccYGHVQzDLutianp6OFi1a8EQphhMlFqxZsGcOMAeYA8wB5gBzgDnAHGAOMAfC4QA9s9GzW1l/fuX2B3aWYmwYG+aAew6wsMrCatQ3VPrVk34FDedmzml58sccYA4wB5gDzAHmAHOAOcAcYA4wB+LHAXqGS0tLi/p5kAUY9wIMY8VYMQdOPQ6wsMrCalQ3UroRx+pV/1jVw5O7+E3uGHvGnjnAHGAOMAeYA8wB5kDZ4wDP8+PX54Q9Lw9w6gk9LN5xn8abA5lNG+PusdlY/1B7fPNqZxz5OEdsdExhk0dkgtLE204v6mdhlYXViIlMN2CeBMVvEsQPHYw9c4A5wBxgDjAHmAPMAeYAc4A5EC0H6JmOPVdZiPNCYOIymEckli6a2hI/vdsVRzb3wJ+be+DIx7SRsKqf62E/vttVpC3tAisLqyysRiSsJicns6jKa6ny8g/MAeYAc4A5wBxgDjAHmAPMAebAKcABElfpGY+FMRbGmAPMgUg5QALp1uc66mJqDv7UvVRpf/xTKa5qnqtCZNWF1n+t6ViqvVdZWD0FhdWVK1di1apVxXZTTEhIEF+VjPaXUc7Pv64zB5gDzAHmAHOAOcAcYA4wB5gDzAFvOHD11VeDtkjxpDVX6VkvUlElUL6ERE2wrdPmZtBG6WRYoDxehDdOSERKYpLYGicmGe2yhCcUn4jWNCEBa6tXx/+qVnXcKI7SeNFWexmNG2uvWJNgvmzZMnz66afYtWsXvvvuO3z++efIz89H69atRd0yrb0ML84bdmiFWrNHocZz81B9w1Jc8M6DaNixDW5Obo5P0jpjW3pXsadzL+qTZaSkpiItIwtJmR3RrONgtOkzEq16aRsdUxjFURpKK/Odqvvu3buDtuJsH4mqwktVF1Plq/9/bs7BHx/3wK43c3B0Sw8c25Ijtj83d8fhj3Jw+OMcIcT+uKFrqRVXPRdWmzVrho0bN4qtODstWNmjR4/GqFGjkJKSUqzEUW2gds+ZM0e0e/fu3aCNcFi8eDEoTqYl0VMeF8eeypf1F5e4Sl+QjPRmzfm8mTQxjowjc4A5wBxgDjAHmAPMAeYAcyD+HOjXrx9mzJiJBx9cKvY33XRT3J6Vbr31VtAWDS/oWc/L59SERE3gu6LFIPxtymGx0THVIeO8rE+WleTgQJWcmARVYJVpSWiVx17tmyUkYMP55zsKqqrQSmkorVf1UjlJSZqITFzcsWMHXn31VcyePVtwg/gxa9YsvPzyy/j6668xcuRIUbfn4mpKMmrdMwbnv78c53+wwthqz7xZiKrvp3XEVUmaXnNNUio+Tesswr3AIT2jOZpfMwAZ3W7BsEkL8dgL7+Dz7buw56ffxEbHFEZxlIbSUh4v6pZlUB/IfqCwq666Cu3atRNb27ZtY6pVjR071tCI6Fja6OVeeqqSmEqv/pNYSsd/bOqOo5/2wLOzr8H0rhnYmN8V+9/vhT1v5ODApl4o+KIPjm/R0v3xUQ4+f7Z0eq56KqxKUVWKil52VDhlkbA6bdq0mImrRM5t27YZZJXCptxTHKWRomc4bQknrSxfCttUv9fiKg0OLVq0iOhm3alTJzzyyCMCK8KEjqO56XPe+E8kuQ+4D5gDzAHmAHOAOcAcYA4wB+LBgXvvvQ/vvrvRspEdgwcPEWG0L267yLGGbHjhhRewatUjeOqpp8U57ck7rLjrt5dPdrzwwotR1UvPeqogFM7zqD2tFE7rXjUMf5t2BGdNLxIbHVMYpZdp7HkjPVcF1eGpV2FORhfckdEJvVIyDUFpUGoL3JXRWWz9UrKM8EjrtOdr1qgR3rWJqr+2bYuDU6fir9dew4/16lkEV0pLeezlRHIu+2748OH43//+h+nTp6NPnz4YPHgwrr/+erHRMYVNmTIFP/zwA26+WfMilnkjqdeSJyUZl6y6wxBTVWG1Qbf2wkNViqp9GzfBptROuCGpqQi3lOMgjoeKT0tvgnZ9RiChw3Dkr3kTof4oDaWlPJQ3VPmRxNOPL/fffz8eeOABLFmyBA8++KChVRHmnuEeAC8S1qU29eyzzxZLGxdNaymEVG091Rwc+UgTS/GfXti+rjuGZl6JkW2SMalLKu4fnIW8QS2waFgmnruzLb57oyeKtvZE4dZeOPl5D1BZkeAcKg+N14QD7UOlDTfeM2HVLqqqXprhGhVtevJUjZW4qqr/JGx269bN6CQ6lmKnJDLto22fU35ZD4mqhL3aH16Kq7Souf0G7vZ89erVeO+998QgTgM5HVOY2/yh072BPTiMrUsCTW4pHtjzRqD4Uhr+xh7g8FYsKSVrO+Xmr0d+rjPWA/PWYH1+bkBOiPg1eRjoYVuD2ROQc7n5ip25yF+/Huv1LVDbWlnyDETeGi3PmryBAdsr6w+FS6uBeVizPh+5HuIi65Z7J5zILov91EYFC/XYTGe2XYtfg7yBkg9WLNfb+ppsUMukYxVvgZNSv1mnXr7AyVaGrQ5qr189DmkkLsH2fuVIbhNOwcoMFU/9bLRFxU/iqO9Ff/jHC7tk/Xqf+WGl46CFa33mn0YLz8/V+1S2T/JQt1Hto2B4OcVZMLSXL+tx2Fvyhbo2HfI72UJhVK4/DibuFg5KjP3ySdzMfLI/g5XdqpVDPre26/1svX78uRGo3Ryu9JVbzDldyHsb84p5FS0HSNB0KiNWwio9nL/22nrk5lrnriSikLBKAmc0r+U7tS1YmGw34RKtqOzFh6xIMCWRs17r4fj79D9x9owiVJ16Umx0TGEUR2m8Flczk1KwNnMADrYZD1x9O9B+Gn5ocxvuzeiGlc16Y1/bCUCH24EO0/FTm/FY3LQ7yJvV6Tk73LDmjRph43nnWYTT/519NoqKinD8k09wbPNmFJ04gV87dbKkoTyUN9z6nNJnZGQIT9W77roL/fv3xy233IIRI0YIAZVEVDqmsAEDBmDmzJn45ptv0Ly5dx6bwlNV8VJN2fI07t3zOT78fS+SMtLF6/9ktxRVaU/ntCyAU3vCCWuWfRVSOt+EfqNmoQhAQcFJHDtxAgWFhSjUNzoWYQUnRRpKS3kobzh1BUtL3qlDhgwBeQKTtzDpNQ899JDYVqxYIQRWLzFXbaEfdUgDIkGVtu3btxvCKh3LcErjxfIA5K1KH6GSnqqHPiRRtRtObu2Jf67qiqnd0vHIA/di69atWLVgFh7sl46l/VKx5MauuLtPO9zZPRVvPtgF7z7cEVue7Ixf/lE8SwIUpybnibCqinhS2FM7Nh7HsRBXqd3SUzWYS7X6C0FxCKt2UVXirfaLV+IqlRnshh4sjtZzIUFVpqFjwk+eR78PJayeohPY0iSshhAAQwqIXj+ohrDHmZOquKEdG2KIKM9JrFDztEK47QyZPqJ2hHE9+JVvCqBG2wP1jUUk1PJZhLaBeciTQntuviKU2rD1E6es9gshzSK8DURenvmgowle9r6hOlRBWqvTLno657XWb+WKjo/FHhLl9LosmDiUEyo+DIHNDxd7X4q61jgK8xYR0Z6P+pvyyjaKeCu+lvyB+BEwXO8LWX7AdA74heBKyOspSF3B2iSwVsRUlRPWfFrbzOvA4bpwtMGez7ntar3GsROnKGx9cKHYyO9oTxj1c34P5zqMO/OSOSA5EE9hlcRTql8VVUlopXCyj8QKEl1JtJL2FveePHhJ0KWNjqOpr2nTplEJTFIorZ19E06b8Bd8EwtRbtxJVJxciEqTtWMKozhKQ8+vMo98lo1m/1CznsA1d6Co7WScaDsJBe1ygQ7TgHaTgXZThNB6sm2uiBPnV9+O3PT2UbVZ2vuybU3Vn5s3F56q5Dl5/PPPhbhKx/tycizCKi0PQHllOdHsx4wZg88++0zwkYRUWhJg2LBhuPbaa8U2dOhQEUbiat++ffHJJ59gwoQJntRNa6qqr/9fu+1N/H7yGJ7+eQdu2bERjbpqHqvkoUqeqlJUJQ9WWnM1mnZT3oxmmcjsdgOadL0ZX3z9QyiHVZGG0lIeyhtt/ZSftCgaGx577DEMGjQIJHCTlyqtdUsbea4uWrRIxOXk5KBHjx7wcgkO0n5UETHYsRc60d1js8VHqmi91GOf5qBwa0/gyz54c3FnzO7YGPfe0l/0wyOPrMJDKx/Fkpu6Y/WcXLzzj/fx4cebsWzCIMy4JgljWqfi7gHNsf+fPTF1hDd9ofZnifZYVcW7kiKqSvCKW1yVHUPCpqzTvpeip0pme5pozmX5gbBX+8eLiyYzMzPim/Svv/7ql9cpLPJJAAurkWMXm0k6CRrBhLhoBI9I2h7KHscySUCS4omD2GQVUHRc1TwhRB+nOkPi4mCHUzmRhllxMkUgx7ZaBBRKq4htYdppb3fg+kIITi7rFfXJvrW0IxwxXLMlGM+FIBmgHtFHTiKYxR4brpY4+7Vs9pf0eLTYpteVR97ANhHTjrf13N8GC35CtFNFa7tdIc5DYhA8v9VWa1o7r8K5LgKWG4Jj1nwqX13wxehfNZ+1TSHbEAjPEHaHLNewLUx7OJ/ffIixZg4xB8LngF1YJVHzpptGWJYCoHMpdnqJMQmm9Nq9WiYtBaB6itKzYrSv5avl24+pXfRKN220xivhIddYpeNJk3KN+HAxoGe+SJ9R5Uepal91M5o9cBQdVxWh44qT6LCsELXvLkStuwpx9fJCtH34JK5ZWYQWDx7F5Vd590Grqxqn4cfWt6Kw7WScbDsJRW1zxVZI4mq7ydqxEn6i7UThufp+9jBkJGkf2Yq07ZRPXT+Vjg+MGYPjn34qhKVQwiqlj6ZumZdEu1deecXwViUh9fbbb8fbb7+Nd955Rwj+JLSS6Epeq2vXrhWelDJ/NHv6UJV89T95y1PYf+Iohn71thEm11j9V1pndElKE+0lUZXWXPXqA1atr+6CtGuGIrPnaDz7xibs//0PHDh0BHt/3ic2OqYwiqM0lJbyRNNumZcE0kmTJomPgy1fvlx8c4fe0v3Pf/6Dw4cP48iRI/jyyy/x6KOPiuUB6Js8S5cuFUs2RPuDhrTB7tinalH2Y0or80W6X/9Qexz6sDtOfN4D/12fg5fmtsfDE9tgSpfmePS6NCyddD2OFRbh2x3/h/feeQujOzbFT3v3Ytmyh7Hls8+wcd2zyO/bCHf3aI4HxrXBsU97Yv3SdlHbFWl7IskXlceqKtoFEvYiMcrLPMUprlKbiZjq6/+q7VL0tJNXTRPNsSw/FPZqP0UrrtKXIu03dTfnW7ZsAYmoThvFuSnDP80SbD1s/gh1eOtWy1IASyhyz1Y9DS0RoKUXSwEs2YrD2IM31Ic7W5jIbxRvS6vmI49R+Xd4K94Q9b6htElbgkAmgb3eVtZ2wGE5A4ste96A5qS6RKvDz2PVWt/hrXo61WZ5rNpuWSbBWobVZomjkmYPtVdth9OSDCQKKCIb2SDEF/lqdj7yLEsB6MJNnv56OYk+ijhgFSq0ybglzFK2rV7Rfqs9lrwi3l84Ig6SKCOFKUeBRrFRctbMowkj5uu4pl2irACvsfvXo4llspz8PPtSALZ6FMFMKytPX4pAr1+IK7IfrK/Xa2KcaadsE+39MbM+FPnHa3abnnrW9GrZrVr54+9fnpmf4uzCoCwvWD6ZRoqOAW2zCVD2/jLy2dKZ5Zu2Sh7nEt9lnyt9FDTe1lfkXTteLcehPGErCbkO3JR1DRR4W/veDzelbf6cpPbJ/tX4Z2Aixxvd09Zosy4uO3GS6vbPLzGU3NDq08qzctTPdt0GCjfqF0tJ+Nsq0ij9obY1ULmURo4LTn1uzWfWaQ2XSzzYBGkDd5kvQLstY57eTingO/W9MQ4Gw1piznunfuUw5gVzIL4csAurJGyuX/+68BSjOPIYo3MK97qvli59yCiXBNSVK1eJushblI6pPqrfbqMXdpA3LNVDZasbtZOWHqCNjtU4OqY8lNeNDfTMF81z6hVtR+L0yceFgLp9bwFufqYQM18sxNSXCzF2bSEmPFeI6S8XYtv/CtH/iUJUmHQcddtqH1GKpl7Ke03jDBS2zUWhEE9NYVWKqiS0qsckuBa1m4KdrUailS70RWODo7D62WfiUdAurO6/7jr8RmuhVq1qbNHULfPm5eXh9ddfN4TVgQMH4sMPPxTekuQ5+fHHHwvRnTxWaakA+pAVeVHK/NHsazw3zxBR6fX/l/f91zgnwfWC91egQS9NRCUPVXr9n/Ykqjbs2MYTG8j+jKbNkXVNX9TN6olW101F835TkNz5ZrHRMYVRHKWhtNG0Wc1L35UhQZU8Uwlr+q7Mvn37xFIQtOYtrWlLSxLs379fiKu0PAClJ52md+/entgRa2F11+udgS974ovnuuHuPllY0rs5Hh7QHDO7pWNh76aY1z8bYwf1xTlnn4MzK1bCwIy6eGLxfJwoBHbu/h65A7vjnh5puLtHMzw9qwPwf72xdW303stqvxT3cVTCqhQW7cJhsHPK41Wj5Dqq9KEqt9uoUaM8q1+206v2hFOOFFXd2iDT0T4acbVly5aubsb2G7aToKqG2dOHPtdEPFU01DRCU9DTxEjzXAp/2hqrUhw0J4SqWCnyKuuWinMhHprphY2iUkV0FeKsUCh1nDTxUbXTWrYuRqpl28q0pm+FVlpDYZSpGa6vsarVZ64jS+cqBor9tnpaLdmKrWL9WZc2GwKxll4VhLWiVXFZF1HlQz490AsRQBEQpGBkCBq6eGCc28qwCwWG+OBQtj2trF+xx0/gcBD27GKfKrgYnPWrS4pAJvb2ukQ5ljVStbZLYclajzVOCoLrjfya+GKKPFKM0erX6lJFKGs8tTFXvprvgJPRzlDCqh8OevtlPxv2mrhQ2YSNJnwp3BACkBrnlEZrB+WVuGm22ttnrc9sj38/mXGUR40fiLx8c61fgankUqB2620QZVIa9RVsHRPD7lDxFlts7VGvA6NOiY3a73o+1V5Rr4m7nadkuxaWZ/VENuqR156TyK3ZYPKyFXLzNAydObkGebn0g4Hsa9V27RowOS/rtdquCqhqWuv1ZPdG9i+b2iz7xgkTiUt+rsyr2SzzyHiz7ToWa5zWlPbnq1mn4IVQsgAAIABJREFU7EdbOyX31H6wc0TtZ0s62aeh13oW3LXl5TDb9cf4RDRHZB4xjyLlAImFal4SFO2CI50Xxzqn5LFKZVP9mufoEHFOYqr0WqU0tByAaqNXx2pbyVs1ULlkgxRVw8GBnvnCeTZV09bqOB1nTz+G0yYVIGtxAXrlF+KVLwvxye4i9F9diH6rC7H3YBHueK0QffIL0XZpAcpNLBB5KK9aViTHbZLS8Gvr23TPVM1bVQipYhmAySgir1X9mMJpmYDC9tPwUYvhaJqofaU+knplHlUkpWPyWC3Yv18Iq0V//YXCP/4Qx7+PHYuiwkIRr+aR5USzp7U9aS1N8kYl8ZTO33//ffEdGvJS/eCDD8TSAFJYJQ/KG2+8MWrsyebqG5YaQuo/fv8fbvq/d41z6clK4ip5rjbs3BaJTdJAH7Si8wveedATG1Tsmme1RMZVXdC8241I6qhtdCzCsiLnuVqHetylSxfhgUpiKX2w6l//+pfobxK26Zy2d999V4T9+9//FksC0JqrJMTSsgxqWZEe0w8otOwDfahK1YGcjuWaq8GWtgxlx/+t7Y5PnuyKBUNaYPmAppifk4CFPRpjxeDmmNalCeb1aob53ZORUbs6UmpVx339myKvVxpGdm+PO/u2wLxeqZjfrxlu79wE0/o2w1sPd8aKcd6tdyvtl2+c016GebUvc8IqibFegSeJ6VV54ZRDArX6S0SovNJWyhONuF1ihFWbd6k2mbCKiP5iqFVMtcarea3pzLIVAVV/eNI0TatHqKVci+gpJ85KXY7tUOtXj2X+VoE9Vh3qI3sMEdZ46HMuV7TVoYxWrRSbdc9UU7zV7IFdHFaEaSpXFSfkuSk0aG2zCh6qkKW33SIOWOPVvKYQITEjQUIVZtzYYy1fYEP1K0KvWqeIJ3wtNurnSh7/tvsLKZRGLVs99iuf6lTFNPVY9rdit6UsEa/Vb+8L2R57v8lw/3ZIrGmvCUyqsKTmE8dkE4lmNmzMdFoZql3+/arWKY+1fKaQ5oCvLmRqwpvkhUN/S/zEPki8irm9/y1l6DY6pLG0LVS8XTQz6nBoq4jTwqm9fn1iq0u1Qz2290vAfqPyqF/tYp+tHrM8K9e1cN1etQxRrhQUnfrC2nZn2zX8/a4B6j9ZFx3nk0e3ygtZb2ARkuozOSevSVmGPZ9m6xoSVh1+YLDap7bV2kaBlco9gwf2+hzGpWBplTi1n/hYjjG8Zy4wB0oKB+zCKtmlCo7FJapSPbTEANWvvmJPXqJSVKU0tFRAtGudhsKayic77r33Xj9x1YwLf73VaITVy3LycPadQLnxJ9DrkQL0XVWI/+4vQt05hSg3qgArNhXi8++L4Bt+Eun3FeKGpwpQbtwJ/P1OgPKGeq4NFZ+amIR1mdcCV8/Q11DVXv8XSwJIUVVfHoDCTrSZBHS8A/dldBMf0gpVfqh4VSSVwqpQ0Wz/Tu7cKT5itfeyywxvVUofqvxQ8fSFefpg0kcffSQ+FN2rVy9cf/31QkydPHmyWEuVRL4bbrgBFEeiHr1Bmpyc7MnX6VVhdd2vOzFyx0Z/YfWDFaj+Qb7YpNhKe8obqn3hxmc0a46mrbugQav+aN33VrHRMYVRXLjlhUrfuXNnsayC9Fj95ZdfcOzYMSGckneqDKdlAchrlbxaH374YeG1St+gCVV+OPH05rLUgdzsSZANp3yZNrdrC9zepSnu6NZECKpT2lwB2hb1ScWKIVlYPiQTT9zYAs/cfBXW3HwVHhmajcmdm+Dha5vg0aHNkD84C6uHZuGJG1rgrpwmGNM+A2OvzorIFmmT017FwCk+mrCohFX1FXMS6+g8GmOKIy8tBUBequTRSqIqnXtVD7WZOifQUgBqPYQN/WLgtTouyaHW5XTsNp1TXjUs0qUAVO9Up+NQkwa/+JDiXytYBE7xoGgXE0ks1MVSKs8QBinc6c/u+WkvT5toq/Wqx2YblHyO7VCFU1XQNCfyWjb/pQBEfU6mG22TZTiXSzaGtNlBWKU8FvHWr10kDpjihPSytIs8gQUF3W6bOEPpNeGNBAcpYmjigyaaSW83uweZ3R4HIcJBvCLxRLXZaq9ioyIW2vMQxlbRRxVOZP9YhRC1HvXY4JQqrkhhy/D00zHQhSPH/Oor2ortmkCq9ptin187zDghMlnKMeMMm8U1qQtMeQG85dR2BanPWqZWl2in3mYr3qotKvYOopUqMNls0TyuVX7pONnTqWXIYxuP/TgRKt6Bm35lyLpUkd6hXD+hXtivXUvOuAXDSeLpn8aZd0pfWfjin986Zsh61L7Urit5fTrbHqg+szyyk8qgvRhbCDPFtkDlOoWrYeqx2haBi2VsJBvJHp1PlvodcHHgmyPWTn0vOOJQpsIdp2uLw6y8YzwYD+ZA/DjgJKxSf5C4SqKi6qEZKG00/UfCLW1Or9dLUVMVXqOpK1heWpaA2qe2l44pjOKC5Q0UF+1SALU6zUTF24EGcwsw/oUC9FlViCtnF2D02kK8/EUhxj1biIb3FGDiiwVIu7cAp08Hanea6dlz+uDUlviLXvFvO1ksC2B4qNIyACSq6h6rtAYr2k/D7tZjxBIC6nNvpMduhVV6ZPtr/XqLqOqVsEq2t2/fHl9//bV4FZ0+jkRekvRRK/JSJR2DRFXyqty5cyfo9XXKQ6JspO2W+dSlAO7ctRnvHvjeIqxe8MEK/HbiqPHEmvvtB0Y85ZXlRLtPT89AZvueuKJ5DtoNnIxH1r6DH3/9XWx0TGEUR2kobbT1yfzksSoFVFpe4ccff0RBQQGefvpp3HfffcJDldZXPX78OH7++WchrFI/0OaVx6q0JVbC6rA2TXFHDomlzTDjmgRMb3cFpra5Aov7puPR67NwV48MzOjeBAt6N8P8Ps0xpl0q7u3XDKuGNsedHa/EtLZ1MadbIvKHZGJku1RM6ZaJ0R291xZLrMcqdVhJFleLU1SltsuOodfyJXkD7eWr+27SBirDKdytYOo2nVMdalhWVlZEN2cnMVUNC3RTDxju5Okpwkzx018gVARN/cFR01M1IdP0wKR0ZjkBbdAFRoug2MrmveknMNLkUynfqR16GZo9mshr2ibzwxQy1Tq0BrnoI38sjHaq5RkP2IrNEQirTg/6VqFBm5RTmClimGKHYZtdHCBRgcQzudftpXKkwGLkNdri5CFnFzvJHlv9DgKGnyhlF/+c8tjTBPrCuyKoWPCzY0DtojApxNiwsLffUpaCiUyn9oGbtKpHqShDtcWhfFmP3Aetw4afE2dkOX57Na8TZsI2ax8LW6Tnos12i5328tS6AvWnWp49v50ToeLt3KSyHfIITIRt1h8dLH3mkE/iQB+0sqQVbQgsxKncsXAymH2q8Ktg5H8Nq/Va+03rezXe6XrWxhhKa+lLvU6NW7nIW6MI5GvyQOvgqhgE4iCVqaajetS06rEqrMp0dg9fSk9jmNw7tVGEWbgnPWUdfgxx6GeRP1C40hda3SZ+fM5YMAeYAyWFA+GIpeGkdds+ElTJK5XWcb3nnnvEx6LotXz6YBXVR3EU7ra8SNORiCs/pEUes9JrNhqPWU8+XtV5JipMBZovKsCtzxdg9NOFuG9jEVZ8VIhhjxZiyssFYhkASlO7syaqyg9fqc+f4R43TkwSnqfzM7oA7acCbSejQH6sSvdYJU9VTVSdij/bTsCtaW3F83zjxMSQz/Wh7Nnzt79ZxNLfbrzREBHtB78NHWpJS3lDle8mXgqk7dq1Ex9K+uyzz4SASt6R9LEkElM//fRTfPXVV+jQoYOoU+ZxU36wNOrHqy7dtArfHT2Ee77bYvFOrfvxY3h13y4BhyqsUt5gZbuNy7qqPZp0HIKMriOw8vkN+O2gtvyCij+FURylobSUx235wdJJYZWEUvqIGC3BQH8kor744oviQ2G01ir9kecwpSGvYS+F1XCXAiAHwGiWApjUpwPGdc7GtK7NMadHEyzsnoS8nGTkD8kytvv6NcM9PTMwp3dTTLimCVYNbYF7eyVjSps6mNGhPqa3q4v7+2dgYucMTOuagbE9ytDHqyShSqK4WtyiKrWd2r1t2zbhtRqMiBQnhc22bbVBW2IX7V6WG6oct+lClUNfqovkpq+KqE7H4ZepCY6qqEl6oLrOpxthVaxXuof8Vq2v+Yu8tlfZpY2iHt0DVKRT8wqh1Ns1VkV9qi1aQ52FVfHKPjnfOk36NTFVYuZkezhrrKp1UFmyXIET2WjYTIKHFHZMu4S4IcVAeogXAkGYwqoQsdYgP98mapBYoJZtEQmC2KOIaiRorFe+aO8knEiBxBBULCKW4vVmqd8quBBeflgI4cwUh0W89JrTcTKFY01QMturnRs22eq2lCXicpEvy5a2iHNnnOR1QHurWER9S4KXabeaVhwPzEO+xTvVamtuvioI6e1SbPOvT/LJuuYp1SXa6defavnSXpWbep1KPqMshU92DMW5Eq+Jiv6ipNE+BzHL0rZQ8XZh1cY7E3crvrIP1ii8dhZkdRzUdWANHmlxJv/0PnC45sQ1ZPSfxg2Vl5Y1Vo10AcqzlK+VZf4I49zfal0mJnpap/rWrMEaI5zauQb0un7eQMkzJ87rcfY+sJ1b+tdPfNfxNurWhfL8fNNzVeDvgL2oR/I6yPXnwCmNt9b2qTjxsdnvjAVjwRwomRwgJxcSMN1sJD4WRz+SZyitY0oiJtlBa6pSXeSpKu1zek3fS1vIa5Y8U6keiQUdUxjFRVJXtF8nT0hsLESqyztNR/mpwFnTCnDejJMoN6EQp00oxPkzToiwclMASkPPoDJPqOfRcOIXNcvBMfJSbT8NJ9pMRKG+pqoQVa++Hb+3Houp6Zqw6IWoSratuPhii1j6U+PGQkSz/yv87TfsveACS1rKG077gqWl5QAo/qWXXhIC6ttvvy28VslzlY5pbU16w4/SyLTBynMb17BDK5z//nLDC7X5Z2vw78P7sPvoISz/35dY/eN2fH/0D/FRqzf374YhrL6/HJTXbT2B0jVtnoVWvW9B4tXX45NtmnhL2J8sLLJssj8oDaWlPJQ3ULluw2kpgKVLlxqv/tNr/uQ5bP/75ptvLGloiQCvlgJQl4yUOlCgPaV127ZA6bq1aIKHBmbhvn5NMadXUzw+vAVWDs02RNX8Idl4ZGiW8F5dNSwL07o1Rf7QbDzYvwmmtdW8W2dd3QAPDGiOO3OaYvXQTHTLTo3arkD2Fkd4VEsBqAaVJHE1FqKqbLsqmtJHodRlAWixaAqTJA4mvsrywt3LskPlc5suVDmEbSQ3Z1q3xUlQpTCKi6RMbd1Pc4ja84b19XYhHFpegXfy0vQXaKUtun6pViDsFOFKuZZ0h7fija2HlWUFaCKq1WEUZAiOcpKq2WXEq0KteJi2xe95I/Aaq5ReirtGgdL71iqsUjs1cVUmlOlC2eyPY1BhlR78bUKVxFh7sDdfVRdfSTfEBRIJbA/9AcUBKSxITKVYqbyqLW0IaI8ubuiv0GsfopH1ayKLKrDINkgxUVt6QKYnOwLnsYosms0WLGzipIgzcFFEaGGr/MiPioEuPCnLAUghzK8sXeQxlk4IiZOJsb0dQkhT6jTKNAQ6f7tU8cuOgSqcEd5O5cv8fnGyHYYg6MAJwy6zTYHqsXoUWtuxJj8fa1RhVdRpTUNYSFudxEwLlg48t8RbhFUrbw3M1+ThHvpxwAEHgZUMd6hLcFsIdorNBo5afZJPalpLGKXXyzDDbZjonPbnpN4fZJvBJzu/1yAvL1B8cK6o16zdNvNcL0PipLffj2dqv+rt1WxWxwK7IOuAof6jhNlfGlYGZ0T9DvlEnRo2TrYZP7hYsNTHRXVMMfrXei2I/uW4COcojCXzhzkQKw7I9U6lqKjuKS5WdjjVI5cEKC5xVb7yL0VdEnnlR7MkDuoSAU42OoXRM1+o58JQ8VIordNpKqrOLMKZ0wrwt6knxEbHZ80sAsVROTJtqDIjiZ+S3gHftR4NXDNTfNCKPlhF66/+u9UIXJ+qCXlJHniqSttIoH2yRg2LYPrnU0/JBy6xLzp+HPuvu86ShvJ4Je6SLeSBStuGDRvwySefYN26dca8io5pDVbyppTppP1e7GvdM8YQVmnt1Bof5qPvl69jzu5PMf2/H+HqrS+J+KFfvY3sz58Xx5THi7ozMlshtfMIXDPsdsxd8RImzl6CaQvyMW3BStuWL+IoDaWlPBmZ0X/MqmvXrmIpALluKi0LQBstv7Bjxw6x0bEMJ09VmbZ///6eYGAXVskjVWJr/6CVF8JqenIilg3OxKweGeIVfxJRVwzWvFVJYF2pny8fnIVVQ7MwK6cpllzbHI8My8aS/unI65GCh69rJtZjndYlFQ9e1xxUprTZq71845z2XpUpy/FMWKUC7eKqrCTWe1pLtTjWVA3UDlr4WXquSgFT3VNccYiqZI+sJ5BtMtxtOpk+2D7S5QCcbtqnYpjmrGn9oJW37fQXNr0t39sHAasg5G3ZkbQ7InsCiU/BBIdI8gQrL8ZxEeEUYxsj6f/I8qjipSrwxZ/PkbWntNtNoqNVuCybOJT2fmT7mbfMAeaANxwgIVGKiPY9xcUbZymu3nrrrZ7bIkVl8k5V13qlYwojPOTSAG5xoGe9YM+C4cRJwbTW1blCXCXPVdpIaKUwKkumCadct2lpWQBK2yW5KZ5s3hd/tpmAX6+6DYub5iC7cZqI81LMlHY1TkrCY6q4evbZ+O2GG3B4+XIcnDkTP2dkWERVSkt5ZH4v9vLV/jfffBNffPEFNm3aJARWEllJVN26davxUWuZ1ot6RRkpybhk1R0WcVX9SJX9mNImpiR70v60Jhlo03sE6rUZhqTOI3FRWndUqZWJM2tn4azLs8VGxxRGcZSG0lIeyhstBrT8wpIlS5Cfny9e75ev+dMSDBROGx2ToCrj5J68XaOtn/Krzn2kA1177bVGuXQstSHaU1ov6ryhQxqmdWmC5YOysHKIJqzSXl0OgI5JZKX9isGZYk/C66phmncrCa0zuqZjaLvi8VZV2+1Fm9UyPBVWqWAprpIKr1YUy2MSVr3+UFUo+6ndpHxTu6nDSEwl9Z/CKC5U/kjjVXK4OY60HjVfamqq55MCtzf6Ep9OuK+qnp/eTBjVdmteptalC9T4knVMAkhJEqIis4dERtWTzQ3GkeRxU25s0kSGU2xs8/6aYrtLG6YsrDJnSxtn2V7mLHOgrHOgOERVwpTKDeaVS3Hh1k3PeuqzX7THUjit3X48qt5eIDY6pnJlXLR1BMuvCqf9U7LRI9n8EnzjBO+94qQtJJQ+etFFFgHV/mErOqc0XouqZIN8vf+dd94Rnqmkj0ycOFFsdExLApDHKqX1XFglD+CUZAjPVWVZALugSksGCE9Vj0RViX1G82y06DIIzXLGID1nNDJ6jEGT7qOQ3m2k2OiYwiiO0lDajGbZnvCecB84cKDQgWiNZdrmzp2LefPmib16rMYPHTrUsw+t0w8rJJiSHkUbnUts6FiGUxqvtKq0xom47Zo0PHp9ti6aZorX/aWwKjxXh5CASh6s2kbLAUiRdcWQLDwyLAtTu6YjtXHxXJelxmNVdhbvi4cITrjaXbmDiatefjiLvVb1CbJlHQB6s8N7UdX6uj7VUVpEVX6IKOsPEdx+vgaKhwMsrBYPrsxXxpU5wBxgDpR1Dnjprao+u8qPUtXqNBO0UZwMU9MV17H8oJUsnwRVL1//l+Xa9ySYzrvsMrx33nn4p22jMIorDlGV7JBiaa9evfDTTz8Jxy9y/qLtyy+/FB9Tkl+hl2nt9ntxTuum0kepajw3D9U3LBUbHVOYF2uqBrIxNS0dTTJbIbtjP2Tn3ISMLjcis+cYsdExhVEcpaG0gcqJNDwjIwPhbJHWU5Lykbj60KDmFi9VElGlgCpF1kD7JcW0BEAsMPLcYzUWRnMdsRNuA2FN6+60bNmSPVdP2VefeWJd1ifW3H6+BpgDzAHmAHOAOcAcYA6UHQ7Qs11ysjevYwd6huTw+D/Hcx9wHxQnB2ht1Ht6N9PFVc0jddXQbLGe6qPDsrHatsllAOb0aVYs66oWZ1vVsllY9XChahXYsnCclpbGwioLq8wB5gBzgDnAHGAOMAeYA8wB5gBzoBRzgERVr5cAKAvPw9xGFimZA/4cIHH1hvZpeHBgJh4ZmomHrmuOvH5NsaB3c8zt3Rxz+mRiXp9M5PVtivv6NsGNHdJKtahKHGBhlYXVqNze6QYcK8/VWNXDv8yXnV/mua+5r5kDzAHmAHOAOcAcYA7EnwM8z49fH7Co6i8MsVjGmDAHoucACaxdMlNwS+eWmD2wEx4bOwDPTrwOi0f0wp0Du6BvuyykNfb2o23x6jcWVllYjUpYJeLSKyPZ2dn8K3Up/pWaHyjiN5ll7Bl75gBzgDnAHGAOMAeYA8yBeHCAnuH49f/oBaR4iTlcL/cdc6BkcICFVRZWoxZW5cWcnp6OFi1asMDKAitzgDnAHGAOMAeYA8wB5gBzgDnAHCihHKBnNnp2k89xvC8Z4gz3A/cDc6B0coCFVRZWPb+h0vIA9AU8+qok/QrKr/bwL/Dx+AWe62TeMQeYA8wB5gBzgDnAHGAOlHUO0LMYPZNlZmaKZzT6CDGLN6VTvOF+435jDpRMDrCwysIq31iZA8wB5gBzgDnAHGAOMAeYA8wB5gBzgDnAHGAOMAeYA8yBMDnAwmqYgPEvBCXzFwLuF+4X5gBzgDnAHGAOMAeYA8wB5gBzgDnAHGAOMAeYA8yBWHKAhVUWVvnXCOYAc4A5wBxgDjAHmAPMAeYAc4A5wBxgDjAHmAPMAeYAcyBMDrCwGiZgsVS9uS7+lYU5wBxgDjAHmAPMAeYAc4A5wBxgDjAHmAPMAeYAc4A5UDI5wMIqC6v8awRzgDnAHGAOMAeYA8wB5gBzgDnAHGAOMAeYA8wB5gBzgDkQJgdYWA0TMP6FoGT+QsD9wv3CHGAOMAeYA8wB5gBzgDnAHGAOMAeYA8wB5gBzgDkQSw6wsMrCKv8awRxgDjAHmAPMAeYAc4A5wBxgDjAHmAPMAeYAc4A5wBxgDoTJARZWwwQslqo318W/sjAHmAPMAeYAc4A5wBxgDjAHmAPMAeYAc4A5wBxgDjAHSiYHWFhlYZV/jWAOMAeYA8wB5gBzgDnAHGAOMAeYA8wB5gBzgDnAHGAOMAfC5AALq2ECxr8QlMxfCLhfuF+YA8wB5gBzgDnAHGAOMAeYA8wB5gBzgDnAHGAOMAdiyQEWVllY5V8jShEHrmybg9oTH8clD+9EjWf+RI2n/8Qly3ai9qTHQXGxHDy4Lr5ZecGB03w++Hw+XOTz4WqfD+X1TYaX8/kgjymdffPCBi7j1OQyovxjXpyavPC6X7P75aHNiFci2iiv1/ZwecXH28YpTdA4pRmSUpqKrbHYZ6BxagZS0tJtfZlgOy8+u7jPSwe2zJ/S0U98PXE/xZMDw4cP53tHKdJmVK5EJaz+1SwVcpOFynPaBwuTcafafsLVl+K9G6patg3D/4bXhv4dq/qfjxvb1EZSIk+2TrV+L+72JDROQa2JT+GCZ06i+rMF+lao7AtR/ZmTIg2lLW57uPxTa9LRLOcuZA1YFtZGebzgAQmpJJY28fnwps+HRT4f2ulhwQRVKbB6YQOXUZx8Xoddu9Yhcd0uIXMe2jLPE9646TNHXfX3H4Atq8ztP2uBo384JnVTB6cpTu6UjrIjFVVlPuZQ6ehnEsWG3LUVN9z/E4Yt/AHX5/0PN97/PW5Z/F/c9uBXyF22GRMWPoG+Q4chKUmb5yck8Hzfn9/rsAu7sK6UPjj7t8cdf5k/7nCKFF/Ox/ieKhwIV1jduHEjdu/eHdZGeU4VvEpSO1hY9fjG/sKgasAMX9DtXyOroF1GAya0x9iXpAvLS1tIKL347k04/4kTwbfHtXhKy+IqTzDC4WC4oqpMH04dgdKe6fPhbz4fzvL5UNfnQ4bPhwt8PiTp4mp1nw919GPyXpWCqtwHKtfL8HlbDgHyQXDePMyL8di1btchbJlXWjk9D1t2bcG6LbuwZcsuxE1Y3fsFsH4yML8BiqZVA6ZU0bZpZwPz6gOv5QKURvnzkkNelRUfLpIQAr3v5mFeqeVi8VxDUiCNdO8VN7ic4ulfiWtyajOMfmAfJjwGjF1VhHGrCzHh0eOY8uQRzHzmV9yzdjceWP8VVm/8GHMfvgeZ2Rlinn9qi6vzsOWQen+ic000td63KFwZXNXDQ1swL3Eddom9rQ/nbYGRzRZvLd8hH/2gp9yrzfQB6lLSqvm8Oi4T/FH7S+1jcRxITDc5o2JN97pd62z9KvtI/6HWWsUurKP6Hfmk3cOs6SVv/evX7rPW1JDlirlg2fxxQO0fPg7ATcnRKPbhCqskqr766quYM2eOq43SUh7uQ+/7sBQIq9rNOJYPY9EQ7YtRVYKKqlJ0/fa2imiS3Mg1qdVBPuCNJoqL2K/N8qYlbiT2CZF+c5RpbPceyMmM/QZrmxSpbaIiZLuMYmU5RrvsdsiKtZsj5ZNl+LXHKCPIRWRUrJfrV3+QvG7KjzDNZbc+jvMeOYbzVh8396uPo86Tx/DCfwtw8FgRjhcUYcYnJ3EupXvkGCiPGwz8MdMwtuAo+lGdEPn3g3F9CgzlZMWGlygnQFyitUyjvAgxc9P2yNNotjrZaOe0wdAt80BxTnkit8OGbxRYSaE00H7olOex78AR2RzDs9UL24f6fNjk82G5z4cvfT7U9/nQVT8m8XSEz4dVuqAqvVulqEp7L2wIXoYmDM5btwVb1slJu3vsjWFl1zrMI3FRiFLmJH/XOr18S/9ZrwdtQu++zuDtiXU51JZd2EXicLyE1W83AnNqoWj6efhpwhX4aUp9fH1zNRyccDYKppyJr285B8emVBVpQGn1v5KFI/VbGFxU77+7CH+ryBBW29btguDplnUZdEttAAAgAElEQVTwv2e445PzdeAub1i2Wq6j2JTvRlDtNvYNvPnR9zh05DiKioD8l/7PWDogdPucHuLpugp0P1XbTXndpFPzyGPbOCQvjIjLk+UW194JJ+/qImHstkV7MPmRk5iw4jAmrTyEqY8dwoyn9uGuNd9j3vNf4v61/8CyV17Cuo+exrLHx6NJk8ZIdP2WmgPetnlzaK541153ddl5SOdOwmoou5zETit3xfxKGcdModShbBr/lLTUFjO9U10OZXg8lsSeP1o/BJuXEi72eOs81c5J9VkgHMxMXvjzyjmO7LI8i7jpD+p3KYAGvXbUOtXjUG2SY4zch0rP8f79zZiEwiQSYZVE1VDlynhK615YpevDuPmLg7CvyyDXLl3ncsyheaI8lrZGs1fnq16XHciuqITVhx56CHKTFchz2gcLk3Eh9+LmSC+NRDqYx/YCPjSlvCGskvcqtS8j+UrQEgG/5ZpxJLDe3e0iA6OgOKgPSILSkU6Sw8BCY6NuH11UZp3iJmyZsFjjRVuEzWYeEUZlKv2oXkyJIr3Sx5b6Hex2iNeCHNIGuaAtuNvKpFMvL3BLXS5tatiqO85Z9ifOWf6X3/bsNwWWkW7OpydwzoqjWrplf4LyhqzT1matH2zttqShyYRdwNZf9aU2rduFQ4fMQVKtnya1FOfkeWfHet0W8mCIoi+LMy8Za3hvBbLRf9Jl4Xtx2hdB2YEEVRmuiqrUdhmu9m+kx5V8PvzL50OOz4e7fD5M1dda/UwXU2/0+fBQXIVV5cEj6ETdgQs6V8wLVeO/f7Cd79p1VroFVRMPcc8g7Gh8iPVSAEcPAcvbomj6OTg2OxEf3NQAa/vXxFvXnY9XB9TAz+P+jreuq44/cv8OTD9LpAXlAUKPnxFca5FeJzKfwJKMC8pF/4mw8YNnRDbrfPQb+80+lvY57v0J73gfcMwbkb0u7fKobDfC6hubvjeHAQCPvfp1jIRVKxbUFRE9FGkZS+Q1YfLG/75rxllxiCQ8ObUpJi/+Dnc8ehTTVx7A7Y/8iunLd+COVf/GXY9txqIXP8bqDe/j0defwrNv3YeP/30HZt7RScfMzZIA/nNp7XpX5sYecTaS9jvn0cYGk1PUBs1eU8g0sfcbCoxnCQex0+9+YcXHqXzDRvHsaP0xyUzvUFcMcI01fwR3DHypD/yvD+PerLRf9JGRz4q5f5lm3xrY62VRWide2NNpdvk/G1jz+9dD8dp8wuSceIYR98ZQfazGK/ltOAj7LVySGMq9v13+7eM0jEl4HIhGWJXeq4S59EylMLlRePjCqnJ92vUa5ZqJpJ/N6zg8jNzUFdZ8x6M5TlTCqptGRZtGDqxhgRNlJ0dqc6v0hoaoSsJpXo8LLZPQUe1rWuLfvv5vlvhI6y2WfBaCWW+s5o1LXgS2eN370LyhynSaQCEfrK0Xk60MS/1mfqOtDvFRc8Repv08Dry65KaVqLb0T7H9/cEjxp6O9/9VJB7Upn1wDJcs1+KqLZX7P0F5DbwC2U4DpPKALvpkF4mjptCj4qoeO5YtEjj9EKJNYrY4vtJs6/tAtpaIcLKVXmmWEzoHbgo7/SddVr4HyhefcCmUBtpLRcAe78iBMPupgs+HLT4fMvVX/t/y+dDP58PHupg6XPdmJe/U+HisetQntmvNC+xKXRl+D8oeYRuAc4K3W59B0fS/4cTsBlg/uC6+mpyOb3MT8d9bz8PXo6rhx9vOxt7bzsasDpdi+83VNHF16zMia6nDNwAOJXnsORUwdiOsHvjjuODUgse2ou3NrxqiKuUNjYH//UR4Lwf4oTJYeSHv4QE4JNZINsSW4r1ug9kfPM4JJ+9sTUlpipmLvsG8Rw5izupfcMey/0OzzNZIS2+CtPR0tGnfHrMWz8W6Dx7Hundn4f3No/Hexhw0a5bkoo/JTue5UEm+fsm2XevsIpWcMSgP48Qrh/Ffy09tV8vQ+syMM/vQFEdVD1Qz3uCHePiXdsi9tMe/LiNfIP57EB5z/vjNOWzXh8DISbRXeageJ8L/+c8Bex0ra/9pc2endXVpTCKnC/uPhdb8DvUYfFLKVvtdeY6Ra7xLJtBePotq150/Dkb9VKYx9kkM5d7BLg+4Egs+ch3e9x2tW7pq1SpjvLefu8U8GmGVxNTFixcLG2hP5+pGNkQlrAa4T7ltmz0dXWfmtehtn4Q139ESG31nt9PteVTCasqqayE3WWHNhUcgNxl28HEf5CbD3O2VwdLeYP2GsU7xTzaEvGBx4hc7ObTKm6w3HTm09eUW4XRUu5qWDqJX/+VSALSnZQPc4ECkg/rqlXEz0ewmaAxPUL3t5Bmk/hmkpXjlhqLB6tB+C97WG6t/Hmu806+iRjuVci0XkxIu0trP7Tcqh3gtiG52+p9xI9QnAzJc8Zo17KLy7WUa59Q+IzO5e7jqN0vZdvtdnp93539w9qLDjpu06Oz7/4DYFin7RX+A8oa2wdp32qRVDVOPXUwkdMy0nckrra/XWTyfVds0jvtPbEQanbNae800Wh6JQoBwo68C96Fpm16WOhmz9ZOW9v/ZOw9wO6py/SckkHb6CSGN0JLQ0kghCS2ICaEkQAihd0IgEEJ6SE4SI4oiFrCLiu0iKOj9owIqiqhcr14UxYuCFVQsIEVBseCV7/+8a/Y3e83aM7vP3jOz3/M8c6attWbN+73TfnvNmnJe6y/Uqth2ovbF1ijOaReYuvOqsru8HnUCWH0s10p1Zb9+8ql+/eSIfv3kd/37S3u/fvLG3AetAFaRFmN7KKcOQX3zLba85bnrgPosF//Autz5wT+PGl/kzjW+x/J+9x8+cCCYc7fzIGeWq6oYw7/B8rD94Pa88t19kReflefsoiz/epvJHRt6bTB1d44HzePUy9++s1zkOXnWPifqOdVJ5+fX48i5dpUTu1rSGFneMVVe3TZK/nL9XHlw1TS5a/vZ8r1P3yTLl54oi147T75y8+vluzdeKJ8/Zw+RvnYPrL59islactvqGZPa0xnxwb2IG6fA/UnINdhLX60XARlQiVysnTj4y9Vjpr5Weo1PYBz0Y+HDZ4SHcq+W+vtr1yXnszwcCW4DGhjP5HTN+8c5fgL1VK3DtSsZQ6esatKXA1ZV8rC0pbcJnXKx9etrX5u9+BvApRvyz0v5vHYo5MVfy69fzJ8LUQfjQT+fdT7DNpE5sC4Y/9B4W/etXmxxD+BV0MTWqpCf39+/kPOd2X5wv4MwMrevVrl5Dzn742yndAwmyyHTD5U33/iovOuW38tNH/mVXP/+h2XaITMD91kzpk+VT961U77xP1vkv799rvzyx/PlvLOmBdJEb8vdt1yd7XO3tW/2c4EXnvw+2vPedO5Yy7U69843iEUNz0Fewd6++dPYB8+r+eM8WC+1qBn7nsrXT2OGOrq+sMu0pws0hWZ+2d728+nz23JhXkE5VfgkqoxG+8f2gFen3PGh++THLB8frXs+b9CT+eWFeTSvjsPip+t0bHyYi5M9jfUl8/v3E3nP+fdeIaBet1n4jIr86sr8edbffs5Lpn6eaXP3a/m0+bJL68K02dXowx/+sGkZ+qlPfUrmzJkj7ny5sa8FrJazjZrAqn09wrkEJwX902eJXAM7XRy8d7DOvxJsqGSfX7xpK619Pre3+cRDkWyhsDzPe/lj2VwQg/tQyzVx8mRJNlj1FMndkDgXBATWejgxJ1O98SyyDmLqRbsc81WS5vWLxwTA6QlzJgZupg6bflBgfblgFR/+ACj1bzD8iwkMcr089BC+uPyQ92qda3hzAbW0M+lyeUyfQ8Eba39/A9rbFx0juvOadvDCm7+whZw8rfoFjO0aObD9kHJC1mNR8AHSetDyD/awB4Rc+YEyvX32NdcbkTr/UuPr7Zcf3NfON/1B2t/659BBT1jtN/xZzIB0mM6l73rz0wH/RW0Lu+0dE3mfeFI4v05bsTNl5Y4zUw894amGgbTQEjcgjk/cfUZe/NmxCpQTHbv8cZ3fh/z+erG0j/v8PjsP5bmLQWHcg1rktxeMV36bhfXw/K4PMVH+8upj1zVfZtS2al/uAlOd9wJS+F/X16NugKXv6tdPPtivn7w/18cqwOmOfv3kE7vsIu/t31/2zsHUqj5e5QU7f84yvs350T63Xv+QPPHQXeZDS9fDB/Y6eDVw3vXmw/tHVcjlXbDVKzqGZvkHPCt216MP18mi3WDY6fM667Fk5XOOI+8QxProa0M+jVeOfTzkt5X3cGh97e262ph1+fx+maHpovfFz2dvq4Jp49y3T5WXNu4tX91yghneuWODWfzv//uXbN68WV599VW584M3yt2XHSQ/et3h8sqWdpF3TDNpSm0fuvnXnNy+IW4F5w/7PBZ6DXb8VqkX8RAZ6MM3r+ldT3g3rgV1go5e4PPHhq2t9quK48AsD3qvmIfyGnjnOT2n63LfTxGe9/oitrqYKfqQXEy7vA6lYlnL+jBY6i4zhhIJtFTVNKW3HXIsOdfTgBcNQNdrTTBvIG7eTO4+AbHSPCG6FU0b3Ia/P1YexD4P8ZA+90BT1Idh5br1tOedcgM6hOyT7fcypqcfMkve+baH5JYP/Vw+9OFH5d3v+4bMmJH/QNWUKV7L1J3XLpNHH1stD3/neHnhyZmyYfWMsu7FgpDYqq99/rDraenrTebz2POY9s9T5vqn93wlYLq9LXfav46620Q8PODkH+duXhMXF0qF/HhScL2wYx1xHdVtoX56X5pblq9PyLY0X4zjxvhHzzTOvbTZr+DxhGMy6l4zvw6aFytT45879qykkZO5uBhfOjEy54ncMkyHXrdyz65h5T/xkL6FFxVj1NM9z+U965+7bLAb8JJqqGPdf45t7Vp5WmEqWqtCB3e+HG1qAavxtFi1jjb7Gd270PjXt/x5wz4e7PO2dz7Jn3e884bOR1637Gu5ufZYx7A5kVjz1jncLc87n0Qcu86+lBOnsDSJBqu2IKh8YB7C2sG11xdbh0LM/Zwd9PpMf+Ls4T44/Wdff5k2Jdin0srXBrsC+Ool5XUFYC40dp0DNxu5i55enEL2PXCzZvY/b8CAppYZg60T7INCW3/aN0XO+tCbppzGqJ910dSDyaujBXm9ivkHa4F5Q9a7++LPY8L9c7xjynfS5euWewC1yoi62BfU09a0iumOa38nbW/6kze82Rtb1QhMzvnwi7m0L0jbm16Q9mt/F62fXRdPKO8VH/WRLtOxSR9xMrJimveN5Qm/DGuZvX1n2vhd44O87p+uMz6zVpq6YxvuDWXIDZZ1nLgXAnfei2lw38PT2OeRYHqU4eYJziO99adxcLSpt7+0PAWl7hh9q9r9q+q8ptP8tYzt1qc6PXC33WTX3l7pP2BAoHWqrrfHJbdtAS/vwR4e8c5fiAH+vOM56J3gOhus3iUPmX5CczHz/ZiPv4GjAFPoVkP7FPXP27nt+OHOnUvhSb8uhX7x9tPxSci2877KbUe95Hs+v/3CuuX3IX/dyKf3qmyf+3Pp/WM8LL+1zNfAWhajx0193z5FvnHhHnLz5SfKW8+fJ1svOk3+8pe/yEsvvSRvectbTJLr+zbK8rn7yB3rjpNvXdQjcmOZYBV9QefirL/IQ//C64N1PjDntMJrcNBvOc1z8Q2us72YB/HeqVLLtWMW/GiYl05jaJ0bvRVeiM12XX+jTM2XLz/MQ3kNPLgPUIqPl2laH3BEeT63XDUNviac3zYqC62D+uTWhxwbJc8VVXpRAWnY2BO08P/bb/2hD1lL18vyj19H7KfG27k/tu+HnfsxhDnvT6tc//wQcWx6GXP3FDlvBHZL6xKMjw3VNf75c0tuW5HbDotlcL+DZVn7k9MJ3shvN2LffE2LrwcY+/D1X5dPv+/7cvvN35KPvPsLMnPGLKPJpEmTZOoUL/+bd54oT/7oLPnJ92bLK7/bR665urauAExjBT2P53789aXP+TwY16AfguscjQJxtfZfj0GzIT3urfVlauZ7O1CeX/vgRMExi7qqrwohsH8eCasLtudr5tU7n94674XljWlZw/1jNLdjV2bsbajo/IATaMQUk06+Z6opH/us1y/HT8HrhO1lnFNsnbx1/nXM/NB5vXXuQ1pHS7uuOKb0z6lDTftmb4PT5T3fNkEnF6S68+V4IHlgVc/DIedk9bqO9bxrHwf+s03hude+RtvXKnsamvnz3oQVf/eeIH9s+3ns/HoNdY/NgnLz5ZQTM01TE1gt90NVYem0AtFjBC/kTwPmnzzzO+4LWGxd7iBD2vyv5/kyoutTOs2DK9p9sPqT1YOtoHt5v7a8w1+PrgA+cPqIgjRR2/dP8Kh/wcOpdYIP2ffgjWfwgd3XzD35BAzmmracefvmPa+dfQDZ09jvwHxg+/n8vj4h69198edD0vrl2PsdlQ7LrQPQL9fOG9N01/qHZejrn88Nz5lxyFFhFo18ywsy9PXPydBrnzdD94aHy/SX559Av6E5Hz0UeAhD3EPiirR6XNoa5qbzN7Oub0LianS00tnlBTQOntzzQDdXJuoEVUy9Ck/kdqvqgO9cH+a2iTShf7rfgbqhDtYxaZVhP+Dlt1tiXwrKjtKt+uUKSqPGuu/u+tDjqML6ApJqS9SBu+xiQOqRRx4pO7dvl49//OMyvKfHrN9lwADZZZddZMCAAdK/f38zjXHJOuT8aWCnaSEHf+VvohEH7xVa78Yh71fvnORDCOu8C1uaWOaOE/dDa55fnJaCVn6ts/rK3obCpLw/wuOKOoRdw4L5LB9adQ2mCbumYJvWcWh5GFv164vlgWPNrmthfnOcmt899CHFTl//aePbz6yQf2/qlWfW7C8/u2KC/OCqWfKOnVvkhjddJ5dceIG8563XyReWT5Ovndkjf10xQGT9IJE7V5isGqeosRe/YJyxLKCP0c6Kg3OO8U5x3r57efPng3K8aDQ11ydLb88cuXpgubZQc1p34jxlXdsK99Nej3KCx419PrPvSzxdPJ+Yqrz4kNj9a9v7ZZ+7kc8vM3fcenWy6xHuk2LaFe5XeBnVpgsDqrrMGCnk35q3fasCsGrF1j+/BpfZPsJ+5OeD3ssvtz3nnOv8bVg6eRlz59tgmXndPK/5/o885wTrbl+P82VZ2w6cY5y8gfNUYb0CngrbrwqWzTxkpnzq2s/Lve98QO5+971yxzv+Q6YfMj1wDZo+fao8eMdJ8tS3j5JnHh4v/35qmFxy7r6BNKH7aOrh7punAaT3jotofd242vP2dMG9ibeyzPpZMbF10/gEfK4P4hF57PxmOuIYt8t2zlWB84hbnp3Pr5fWKWJbbhl1nm+8f1w/OceH0Sh/Ts/70s5nTyOW7nxIfOGpgr+w7SAv6hT9559LomLh+hf7ZHzixNjUKaoO2Cd7HebD6gT/qIY6Dtn/qLpyeW3nmRTopxA1010BWMdc5PUVaazztZcl+Oannm/sMvx0gXsY7xjTdXZ6r4zoc5LmQTp72uTTa4Q+x3sJavZoTWBVRYllHLqDOJHlLoxGEL1I6sNd7sRYbJ11YBYGp7YT5FPrdvXB6Rcv6vSDc8iUg+Xm03f31wGq/t+2frJ47gQ/TSkNUddA/1k45xszOBcE/6Ji74tlOufhvsBoqk9Afys/1ht93YuQFQukQX6NVa5M7IP/OpLzcOldrK0H9sD27X3JTYes9xbl0/rzrh90H91xSJmIi6m3Hni5mwBzsbd1cKetE0qp2BZbP/Ks98uQ7c96wzZrvO1Z/6qv6wdv+6NJhzGGUWe9v0x/efFF5/EPXa/6hS3T2NvpcstUn4CGuRsmXwvHR77+uYd9f77Ica5pbL1zJ0wFUnk99cYH29UHE2//UE19gHfPA+58vjzVxvkRQOsUGOu2o/P42ymyL3Y93emSN5yB+uTrEbY/LjB159Vs7vKwsipdZrc+1WkAVEzff//9Mn/+fDMNoKrrAVQxYL709rwbbK8/bpy34If8+csc39qNjPFS3t9YF37e9S7S8uKLBW9O2PXx8nva+/H24+JALvhAj6OC86Mbv+hXv/PbCe6nDS+8w9Qq07kuePvgHq9OfXP7Ufjatpbr5veuC373CZ6hvdfM3WlLB1vPSqeNb3/3iLz6xonyzOWj5aOnjpdHV+wv95+3j6yZ1StXT++RL53UJY8sHSL3njBMnrigTeS6fUV+94jJWu723DgXHpvW+cDR2o4FyrGvkTY48LaBcqw/1QmFCLzoebcgJv42ERPkV/87D5++NzWG9rGj2/W2Ydfb6ORvA+fHh0yLHq9lt1eWvS/+dDHP59aZXdNN+/XW+uXH0dp5++zFxJ3OH+vlxjosnULUYmPdhbA0YWW6y4wOGm+9L/GvrYUPDfn4WN6LergwfZSpJ/KaBurgFZg733o66jU0nw7bymtqYpKrI6bz6ZE/n84+N+XLcuuR3w9UxS/LXD+1LO/4yB9/wfpEl+1uK3x+5rQZcve2W+W/bvisfPPtt8qX3vIuOWrObJk14xCZNWOaLHrtLLnjLcfKs185Wp7+ynh55eE2eebbu8nhcw8u4zqFbTq66L2NH+fg/rj65u+BgjrkvYBtYJ0V60Bcw/e7qG5Gf6s8/xwSrKtfhkmvR4Mz9vezvHr45xF/m+XlMxoEtuWeF/RZpDAe/n5UvM3J0nD/FMTGiX2Bv6Cfp0XeS44GBWU6mnsHZ2H3MsgX0NzJF6In/J0/liPS1+pfs13sY5iHw7apGuo4LE3IMlsXd9o6r9fiL+YN0T3EV3HqhNf/AVd1G+68Li81Tm6LVWjsnSPMsQkv29eTnN7m2uT7GseKfU7VaZTlrdPruXc4e3G0p6GXP++eg0wd9B4g6AE/j50/4AnrOPYS+7ErFaOo9TWBVf1wFca6gVfu6ic6FFum66LGthh2Giw3ATAn6SfkCf9XJUvUIutMsPVaXuFJ3q6HO40PUwGW6sepvn/FUHnfshHyyXN65Vdrd/OX63osd8soNu/VO3fihwj4M/XPXQR1n0JbA1kXRs3rp4+4mHgByNXR3YaltX9RcpcphPM3lKtv3vSBWLj1Dmw/n8fXKGS9tyifNjCPGetPD2K/POxHSJneeu/A97LjlcbcScE+uN3pOnlr/8MWy6DNf5BBm5+WQdc8kx9f84y/N2ZdwfqnBXkD+xc4meR1QhoTC6fORjJnmSnP7Ku/efNA7wNZR0OUm78xsnzo1sWJTz6PQvr89jR2dha8cu3dCNqxKjx5+6X4J/xCSIo66zai9CudxjpZ5/bVzWPPh++LdyHRuiCNPR3QyNWzwnkXmLrzqpu7PEqfSpYrLLXHClHvvPNOue666+SDH/yg3HrrrbJ48WLzNcurr75a3vzmN8v48ePL8HjOE76X4cP8eQ9xsLW0H9awzr9p0CD55Shc1T4og8cUNPDyq3qF50hvfW55seMqJJ5edfL7oZqjTM8n7nm7iH8sKKblhD3kB+qrdcrVW71ZLL/3o1yuHp6h4werIvLqPVvl1dVj5A/L95Ltx+wt/3X2OPnPEzrkd0sGymcXdsqnj++VD8zfXeTKQSJ3b9KAleEtL+bBOBfGJAAz1Ef+VvLpUU61Xgz8mJnbhl+WHV/HZ34ajWdg7B07rp+QB5sI5LW2EeaTwG7rMeTUJfBjbG6dtw09rxceQ+q3aO2848Arx52OLk/LLWccBkvdZRpudznmy9mGPsxoOf55KRcvNx75eedapIHQGOQekgqPX+d85hVo1VVjkqtRrjz7WHgRXaFYy/PbQBws7RFrvz72doPb8P1m++ZFPAdoWd6+4nZA//w8AV/b2yh/eta06fLNje+RH1/7IXn42rfLD978BvnOdevloRsuk4dvPFue/PAieekzR8ifP7OvvPyFTpEfDpSbd442mk2ZHOwaLDzmhefsPODy6hmlrz6gevtt3acWPFCG+MG6HwqvVxGNTCzy57B8fmxH42LlR/patmfF0b5W57drbctKG1zv/qDknhf03Ob4NLK8crY5WRrvH1d/J/a5/bE9Bf/kj1Psl+tJt0xn33GeCDuWI49xJ7+lsXtOD8Ywl6/gvBRdXmh+sz3sY5iHw8pSDXUcliZkma2LO12n4yF6/0LqY+nMfMnTpxaw+qtf/UrQzyriijHm7QHLa/p4FbwDD+eAqnv+CN6z4YwSvB7pc4Beq+y3Zb3D2YuHPY062/OBbVb88Socu/m//D2CLi9xjitx7CQWrJY80IudpIutKyFIye1G5D/tiPEF8FQhqju+7+IOQSvWarfVkHyeg5tXx2ZvPyLODdHe2fbuy26WXdf/oWDQ04Ku2y2XBuMRy25uXuyc+jdDM26zshuFBRd/RK56492Rg3rNToM89dDZBqo6rWD1tttukzvuuEPuvfdeOfroowXzd999txk//vjjoh8LqUc9WEZlnkmDXupbeeVv8ur975BXtxwqT58/Wh5cNlY+cNQI+fbxHXLr0b3y1KlD5ZXNB4h8YbPIKy/72dKwj6xj830bBkvdZWoqd3n5YDWu/awvPMqyH2dPO0R+sOpa+e01b5JfbLlGntx+lfzuukvkmRtOkxdumi8vvucQ+evNe8k/PtEr8uXB8siHO2TOTNzrlwNV44pvA8rFM5ca3B9HPJyGptVMEXki7inrB1YboNHkydIy/sHzW8FfueAyH4uywWrBtvIL8tAkX27hOaoBYDXCw4V1KVZPrmsVvWoBq+VoVBlYTbrvKvyRI+ZjkWC1TgJvPG7PkmD1ybWDZPuJY6S8X66bbGS9MIb98lgnzaIOft20+0t9VPqsL5805RDpOO8eGbj6d4FBbx3c5UiLPFnXhftXv3NEksHq5z73Obnhhhtkr732ks9//vPywAMPyIIFC+TBBx+UmTNnlu9zc2LxHtzwpfS7Yj6P0Z/182e1Wuo5UsevvvAbefWBD8qrbz1eZNU0b9gyT+QrHxb5S/4tAE1f7XaZr/mxb2QMwmCpu0w95aM7QhkAACAASURBVC5vOljFebEJ93mNjE+9tjV7yjT5/aVr5d9r1srf114s/9x0uvyz7zj5v52Hi7xpssjb9xG5eaTIbd3y7RuGyzGHHehdnyZlHKzyWlrWfQj901rXhXqdd1hO6/mmGrCK1qkApuUM2pI1C94yrVcT1Oq7JrAa9lGqcpfVHMxirVKLrYvpBuD8efuaV//x+r89vG3JSNl6wlg5+bAJ6QCqMelTc7xbvF4ApcNPfp8MuOI3ssvKp8ygD2o6P2Dlb0waQtXWuwjXenzNOeUN4r7mX2oeeWrdLvJrK1V7rH2s3nLLLXL77bfLG9/4RgNW0WIV8zfddJPcd999Mnbs2MrqoL/aECRUpltKz796jqx2XA9/s4zsn4/DYKm7TD3oLm8eWNVXfPkjU7nH6KwpU+X7Z5wnv7/gbPnNBYvlt5fMl99ePld+e9U0eWr9/vLrLXvLNzbuKX1n7CdTp0zxzrGEqi1xrSnHQ/RP9q8F5fiAaeiDUh6oFKyiL1f7df9yppGnVD2SuV5f2c/dVSXsea4msJpMwXnAMi7Z9cDEQ0+U4YveJYPPfVCf02TQOQ9K76J3ycTZJ6b0JJndePFYLB1bG6i60729vTJ8+HDp6uqSgQMHSk9PjwwaNEjmzp0r3d3dZX68qnQdGKdsauSfJKucoC+y6Yt6x/WIM94mYcDUXqYWtJdhGnnrXR+WF59vZ02ZInOmTJFDp0yW2VMmyewpB8vsqRgOktmHuC1T3fn46sWYp0Nb+icdceLxxDg10wOVgtVm1pXbDh4rBKspbYlDIweNTD2oBz1AD9AD9AA9QA/QA/QAPUAP0AP0AD1AD9AD9EAjPUCwSrDK1hL0AD1AD9AD9AA9QA/QA/QAPUAP0AP0AD1AD9AD9AA9UKEHCFYrFKyR1Jvb4q8s9AA9QA/QA/QAPUAP0AP0AD1AD9AD9AA9QA/QA/RAMj1AsEqwyl8j6AF6gB6gB+gBeoAeoAfoAXqAHqAH6AF6gB6gB+gBeqBCDxCsVigYfyFI5i8EjAvjQg/QA/QAPUAP0AP0AD1AD9AD9AA9QA/QA/QAPdBIDxCsEqzy1wh6gB6gB+gBeoAeoAfoAXqAHqAH6AF6gB6gB+gBeoAeqNADBKsVCtZI6s1t8VcWeoAeoAfoAXqAHqAH6AF6gB6gB+gBeoAeoAfoAXogmR4gWCVY5a8R9AA9QA/QA/QAPUAP0AP0AD1AD9AD9AA9QA/QA/QAPVChBwhWKxSMvxAk8xcCxoVxoQfoAXqAHqAH6AF6gB6gB+gBeoAeoAfoAXqAHmikBwhWCVb5awQ9QA/QA/QAPUAP0AP0AD1AD9AD9AA9QA/QA/QAPUAPVOiBfnvttZdwoAb0AD1AD9AD9AA9QA/QA/QAPUAP0AP0AD1AD9AD9AA9QA+U74F+I0eOlFGjRnGgBvQAPUAP0AP0AD1AD9AD9AA9QA/QA/QAPUAP0AP0AD1AD5ThATDVfoSqhMr0AD1AD9AD9AA9QA/QA/QAPUAP0AP0AD1AD9AD9AA9QA9U5gGC1TIINE1VmamoF/WiB+gBeoAeoAfoAXqAHqAH6AF6gB6gB+gBeoAeyLoHCFYJVtm8mx6gB+gBeoAeoAfoAXqAHqAH6AF6gB6gB+gBeoAeoAcq9ADBaoWCZZ20c//4axI9QA/QA/QAPUAP0AP0AD1AD9AD9AA9QA/QA/QAPVDaAwSrBKv8NYIeoAfoAXqAHqAH6AF6gB6gB+gBeoAeoAfoAXqAHqAHKvQAwWqFgpHWl6b11Iga0QP0AD1AD9AD9AA9QA/QA/QAPUAP0AP0AD1AD2TdAwSrBKv8NYIeoAfoAXqAHqAH6AF6gB6gB+gBeoAeoAfoAXqAHqAHKvQAwWqFgmWdtHP/+GsSPUAP0AP0AD1AD9AD9AA9QA/QA/QAPUAP0AP0AD1Q2gMEqwSr/DWCHqAH6AF6gB6gB+gBeoAeoAfoAXqAHqAH6AF6gB6gByr0AMFqhYKR1pem9dSIGtED9AA9QA/QA/QAPUAP0AP0AD1AD9AD9AA9QA9k3QMEqwSr/DWCHqAH6AF6gB6gB+gBeoAeoAfoAXqAHqAH6AF6gB6gByr0AMFqhYJlnbRz//hrEj1AD9AD9AA9QA/QA/QAPUAP0AP0AD1AD9AD9AA9UNoDBKsEq/w1gh6gB+gBeoAeoAdS6IGRI0dKb28vhwRpMHz4cB5LKTyW+NBY+qGRGlEjeoAeoAfoAXog3AMEq7z54wMAPUAP0AP0AD1AD6TQA8OGDZNBgwZxSJgGXV1dPJ5SeDzxYTH8YZG6UBd6gB6gB+gBeqC4BwhWeePHm396gB6gB+gBeoAeSKEHCFWTCZUBvPkAUvwBhPpQH3qAHqAH6AF6gB7IigcIVlP4IJUV83E/eCKlB+gBeoAeoAeq9wDBKsEqj5/qjx9qR+3oAXqAHqAH6AF6oB4eIFglWGWrCnqAHqAH6AF6gB5IoQcIVglW6/EwwDL4UEkP0AP0AD1AD9AD9ED1HiBYTeGDFA1fveGpHbWjB+gBeoAeyIoHCFYJVrPiZe4Hz8v0AD1AD9AD9AA9kFYPEKwSrLKVEj1AD9AD9AA9QA+k0AMEqwSraX0AYb358EwP0AP0AD1AD9ADWfEAwWoKH6SyYj7uB0+k9AA9QA/QA/RA9R4gWCVY5fFT/fFD7agdPUAP0APRHjj22GNlxYoVdRtQHvWO1pvapFsbgtUiYHWPvQ6UnsmnSvvc9dJ+2IbIoXPWCtl9whEycuze3jBmLxk1ZpyMGj2GJ48i+vLkke6TB+PH+NED9AA90FwPEKwSrPIYbO4xSP2pPz1AD2TRA4sXL5adO3fWfVi6dGli+MiMGTNk0aJFFQ3Ik8V4c59qP48lBqzuvffeMnny5EQZdfeJR0rH7FWRQBWwdexrN8nIeWulc+YlMmK/Qz2gSpiYqDjyRFH7iYIaUkN6gB6gB5LnAYJVglUel8k7LhkTxoQeoAfS7gG0VAVYxRiQtdbBLi8p2lQDj5EnKfWvpB6oNyDyxIkTU1l/d1/BDtECGgOm3fXNmE8EWIUYq1atki1btiQKrg4/YH7J1qpzTrtGFpy7VfY8Zr10zbhIRuw3S0aOSUZwm2EobpM3EvQAPUAP0AP0QGM80Aiwipvw9evXmwesrVu3Clpr1GO78+fPl+3bt8uSJUsE05dffnldyq1H3WotY9iwYYm4yedx2JjjkDpTZ3qAHsiaBxSElgKJ2urz6KOPLnrdU4iJcpOildYJ9ziYLjaUq0dS9s2th7Y+zkqLW40H9gsc0d3fZsw3HawqVIUouGFPUqvV4QfOL9paFS1W55+zVVZt2CGLL9oqo16zUXpmoeXqLBmF7gDYcpUa0AP0AD1AD9AD9EBMHqgVAJaTHzesgJ9IixtyzK9du9aMy8kflQZl4b5v+fLlsmnTproB26jtNXI5wSohC58B6AF6gB5IswcUXAE2FtsPhZOlgGm56Yptq97rKqmTpsW43vVoRHlZAqvgh7o/Ok4CQ2wqWIUAuEFPIlSFwcsFq5v7Xidbtu00cHXk0Rule8ZFsju6Baihj9VLL720wDBo0Wv3S3LmmWcWpMFDysUXXyzTpk0LHPQob+PGjTJz5szAcj2Qi62/+uqrBYOm5Zg3CvQAPUAP0AP0QPM9EDcsVPipN646vuaaa2oGq7vttptceeWVpjXshAkTZODAgWyxGhOA57Ha/GOVMWAM6AF6IE0eIFgN+pVgNahHs72sb1IpR2x2fbD9poFVQFWAQhUjCZTZDUglYPV1aHGbg6tetwAXey1Xq4SrAJ1owbFgwQKZN2+evPa1r5UrrrhCtm3bJscff7yBnACrfX19pr8MTXPhhReaZRs2bJDZs2f7MLQYOMV+F1tPsJqsE4nrU84zPvQAPUAPtKYH4garKB/AExAU0xhjHkAUQy3bR1kDBgyQXXfd1Yx1G7WUmZS8bLHamscjz8OMOz1AD2TFA1kHq/jh+KyzzjIsCg39MF9s0LQYI13a4qw/jKex7mFagx2Ce8GnSeGITQGraYCqCGA5YPXw07fIZWu3y1UbdpjhktXb5YjTt8jww1dLz+RTZdTosVUdeGGgc9asWQa24rU51E/BKqCqbbi5c+eadHjoGTdunFkXVp6dp9h6glXeJNhe4TT9QA/QA/RAMjxQb5CIm1S0AkC/qihb+0FFX6jHHHOM9O/f3wwuWLX7YcXNO9Ijr10/3MzjrRq9ucf0IYcc4rdUddejLprfLh/Ldd5Oo2mTMCZYTcbxwfMU40AP0AP0QHUeiAKruFbbgwLHMDhpf1RIW3yi3GbGROuh9yK1jO03iZu5T+VsW/cTsSsnPdNUftw0HKymBarCTOWA1XHzN8nBizbLlJPyw34LN0nv4Wule9qZdQWrRx55pGnlC6CK+kWBVaw7/fTTTctVtHjFfDFwWmp9KbCKFrToZgAH7Ote9zpZs2aNHHXUUWa7ALvnnHOOqQvWo8Ut5rH83HPPNQ9ZdmfXWK79tx144IE88PlaID1AD9AD9AA9EOGBekNEF6xiHv2r4rqMQbfnglV3PaAqwKnC1TAQinKRBjf5WI8yMI1tKNDVvl01LZbjx+Ww8rRuSRgTrFb+QIJ7UQ7UgB6gB+iBZHggCqwqoCtnbEM8BZrNBKtgDuXUu5I02K8kehZQ227JqfukMcF6G3wncR/SVqeGgtU0QVUEshywig9YhQ0dc9bUDFbRVcJ5550nZ599tlxwwQWyefNm8+Bx0EEHmQO4GFhFK1Y8sJxxxhkmbTlg1e56APl1wEcqovpYPfnkkw0sveqqq2ThwoWmWwJAVu2K4JRTTjEtV9Dv62te8xo5//zzTXqAXwXFAKx64IQt03UcJ+NCyzgwDvQAPUAPJMMD9YaIuNcIa7GKG/IosIqbdNw/oMsibdG63377mXIUjAKIIg36f9c0mMYyha/aNQDW77vvvia/tkhFOfpQgDoqWMV0PTQYM2aMHHDAAWUPnZ2dRbdLsJqM44PnKcaBHqAH6IHqPJBFsKr7pPcTlY7BVgBSMda8uDdKmscATFEvsCSFq1pf3LPpeqRJK1wFJMf+YbAb6TUzFg0DqzZU1cBWOm70LxwuWO04bIN0Hh49YD0GgNZ6gFW0/kQfqjrs2LFD1q1b5/edWgqsIp+2bi0HrBaLRxhYRYtStE5dvXq1KOyFmQFksV08NAHsoh7aLyzWT5061T8B4YDGQ5x+bAuQFQcIAGszDwxuu7qLMHWjbvQAPUAPNM4D9YCKdhkuWEX/pwCebgtVex5gFNftE044wVzP0Q3AiSeeWABGkQbwFQ8kGDCNZQpf7b5c8TEr3BsoWMWPtEg7ffp00ydrvcEqNMC9S7H7IF2H+xVbs7BpgtXGHQM831BreoAeoAfq7wGFkKVaZJbbErXcdHHGUvdJr+eVjlWLY489NnC/EGedqykbsBSN3rB/uHcCh9N9RZeR4C+Yx72YgtdqttPMPDbcxr4kARA3DKzWo+l1s8Hqa87eIleu3yHrNhcOV23cISdd1Ccj5m2sG1hFy8+ZM2f6gPGII44wrVYvu+wys6wUWIXhKmmx6m5PD5aorgAOP/xwc7AqvNX09hi/igC8AhKjxS1e4cPDi6bBwxLAKx7IAFzxIHX55Zf76zUdx/W/YFJTakoP0AP0QLo9EAb1alnmglVtRWqDVJRvz+M6jxt3XN9x/QYoxbQNRhW+YjlgKQZ0C4R8uA9w6+yCU4W7Clfd9W7+audLwdVyoCq2TbCa7uOK50XGjx6gB1rdAwohFSZG6VEuMC03XdR26rFc90khY6Vj3NfgPkHBpOavR93qXYYLV7WuuI/CdJqhKvZN90fHuC+st4aVltcwsIqK2XAVQQUxxw15uUOjibrbYvXos7bIynXb5eqNOwqGK9bvkBMv3Cq7xwhWoaHd8rQYWG1EH6sKVtFVQSnjoQUqujUAvEVrllNPPdXkwUMKTlKAxYCrgKx4yCpVHtfzhoceoAfoAXqg1T1QLUCMygewqjep2pIUaW2Q6s5r61KFqXaLVX1VHy1Ncd+nMBXT2mLVBauAsCgD9dD8SIM8uF/E9uMCqygbfcSrBva4XKiKMghWeW5q9XMT95/HAD2Qbg8ohCRY3Rl6T2DfHyTV6zZcteubZqiqWuPDYbpP5bAozRfnuKFgFTtiw9Wk9+vggtV9FmwyH6madvI14g5TTrpGxi/cLN1HxNdi1f2wUxRYBbBGv2V4EEIe6G4D2TBDFVsf1WI1qiuAww47zDw84SEED0gwu9YDY+0+QOuB/lfxwIQm64CsyKfrOE73RZnxY/zoAXqAHojPA4B49Ry0xSpe5QcE1bKLgVVtTappAEEVtioY1XnAV9xTAKoqbHXBKraLeweUp/kBeXGfgPsDbC9OsIp9duEq3qhRLcoZE6zG53meT6gtPUAP0APxe4BgtTRQVbCXZD+6cDULUFX1RqNL/OCu880eNxysYofTAlddsNp75EYZefRGGfWawgHLdz9qo+mDtV59rAKOLliwwDQ5R7NzvDqHVhz66r2C1UWLFpk0eFBBGrT61I9HqcEATt3yUKZ2NVAuWMUHqFAOYCjKLvXxqmXLlpk6o0Uq6gfIigP6oosu8g8CPEChzjg52R+y0rpzHP/FkxpTY3qAHqAH0ueBciBfJWkUduJeA9dmBZj68GCPAT61bABQrAMkHTBgQAFYVfiKco855hiTRrflglVsF+kAUpEG20Aae9s6reBV61HPscLVSqEq6kCwmr5jiec/xoweoAfogbwHygWrAFto1Qq+U0y/JHcFgIZdqF+xQfXQ+w97XGy/G7UO+oMJhYFGhatRUBV5kLdUDBu1L2ndTlPAKsRKA1x1weoRp2+Ri6/aJivXbi8Yll+9XRaet7WufazaByymAR/RkkNbfwKsumlwwAB6uq0+AU7dtJjHcsSjErCKh52VK1f6J098mAqv+KM89KWKFql4IEG5qCv6eUW9sB4PS2ixYn/sCmnQDyv2Dw9UaT2YWO/8xZhaUAt6gB6gB+L3QD1BIsrCx6r0I1KY1vKxDEOpec2LdJh2y7DLB2wFhMVYy8UYabDMzh+W1l5v56/n9JQpUwJ1K7dsgtX4vc/zCzWmB+gBeiA+DyhIxBjQrdbBLq9ZcdM6uEwEy0vVScGwmxfzpfI2Yr3uG+oZtj3A1ahuNXXfytEhrOxmLMP+4CNiGDDdjDq422waWEVFkg5XXbCKPlavWLdd1m7aUTBctWGHLK7jx6vcQHE+vgsHtaW29AA9QA/QA2n0QLmgr9x0CjBt4AmA2b9//4IBy7VcwFCksSGpCz4xb5er27LzoDxd7qYNq4MNbrUuSRgTrPJ8ksbzCetM39ID9IB6QEFdGEisZVkU+NPtxjkGe8L2ddB9LAco2vBR8+s4zjqXW7buC+pUbh5NZ++bLkv6WPcXXkT3okmob1PBKgRIMlx1wepeuT5WDzn5GnGHqehj9bj69bGaBHOwDry40gP0AD1AD9ADyfVAEiAi61DYzy3BanKPGZ7PGBt6gB6gB0p7wAZXgFd4XR7Lqh3QHSC4T5K0rwQoatpqwGUj9hndQSJOZ511VtkfhkcXABiQB3kR20bUtdZtoIUq6msPUa1xa91WJfmbDlZRWRuu4sNLlexAnGldsIq+U8sdOuaske6pZ8qo0WMTsz9xasWyS1+gqBE1ogfoAXqAHqinBwg1C6FmEjQhWOVxXs/jnGXRT/QAPdBoD9hgFR+YTsrr1vXUQWEpWjwqZIwaK3xMKljFK/E2aKxmOqn7FhZzgH7dR3Q5GZam0csSAVax04CrSfsVY/j+rxEA0nJhqp2uY/Zq6Zm8REaNHpOIQDfaWNwebwDoAXqAHqAH6IF4PZAEiMg6FMJdgtV4fc/zCvWlB+gBeiBeDyhYzSpUhX8UrCqgK2ecZPi4dOlSqbZFMfKmCZ6jhSpa6WJ/k9BaFX5KDFhN4slxj70nSfe0s6R97rrK4OrcddI1/QLZY+/JMmrUaILVUfGe+JPoHdaJMacH6AF6gB6I2wOEmoVQMwmaEKzy2I/72Gf59Bg9QA/E6QEAqyxDVWiXNbAapx9YdunzDcEqoR/BLz1AD9AD9AA9QA+k0ANJgIisQyHcJVgt/QDChzRqRA/QA/RAcj2QtDeJ6ZXkeoWx8WJDsJrCBymalycWeoAeoAfoAXqAHiDULISaSdCEYJXHJs/P9AA9QA/QA/QAPdA6HiBYJVhlKyV6gB6gB+gBeoAeSKEHkgARWYdCuEuw2joPUnxoZqzpAXqAHqAH6AF6gGA1hQ9SPHB54NID9AA9QA/QA/QAoWYh1EyCJgSrPDZ5fqYH6AF6gB6gB+iB1vEAwSrBKlsp0QP0AD1AD9AD9EAKPZAEiMg6FMJdgtXWeZDiQzNjTQ/QA/QAPUAP0AMEqyl8kOKBywOXHqAH6AF6gB6gBwg1C6FmEjRpa2vjDxW8v6YH6AF6gB6gB+gBeqBFPECw2iKB5gM4H8DpAXqAHqAH6IFseaC9vV2SABJZhyDg7enp4YMU76/pAXqAHqAH6AF6gB5oEQ8QrLZIoPkwna2HacaT8aQH6AF6gB6AB/bYYw8ZMWIEh4RogHjw2OSxSQ/QA/QAPUAP0AP0QOt4gGCVYJUPAPQAPUAP0AP0AD1AD9AD9AA9QA/QA/QAPUAP0AP0AD1QoQcIVisUjL86tM6vDow1Y00P0AP0AD1AD9AD9AA9QA/QA/QAPUAP0AP0AD0Q5QGCVYJV/hpBD9AD9AA9QA/QA/QAPUAP0AP0AD1AD9AD9AA9QA/QAxV6gGC1QsGiCDWX89cLeoAeoAfoAXqAHqAH6AF6gB6gB+gBeoAeoAfoAXqgdTxAsEqwyl8j6AF6gB6gB+gBeoAeoAfoAXqAHqAH6AF6gB6gB+gBeqBCDxCsVigYf3VonV8dGGvGmh6gB+gBeoAeoAfoAXqAHqAH6AF6gB6gB+gBeiDKAwSrBKv8NYIeoAfoAXqAHqAH6AF6gB6gB+gBeoAeoAfoAXqAHqAHKvQAwWqFgkURai7nrxf0AD1AD9AD9AA9QA/QA/QAPUAP0AP0AD1AD9AD9EDreIBglWCVv0bQA/QAPUAP0AP0AD1AD9AD9AA9QA/QA/QAPUAP0AP0QIUeIFitUDD+6tA6vzow1ow1PUAP0AP0AD1AD9AD9AA9QA/QA/QAPUAP0AP0QJQHCFYJVvlrBD1AD9AD9AA9QA/QA/QAPUAP0AP0AD1AD9AD9AA9QA9U6AGC1QoFiyLUXM5fL+gBeoAeoAfoAXqAHqAH6AF6gB6gB+gBeoAeoAfogdbxAMEqwSp/jaAH6AF6gB6gB+gBeoAeoAfoAXqAHqAH6AF6gB6gB+iBCj3Qr7OzU9ra2mTYsGGpHbq6uqS7uzu19U+z9rXWHf7r7e1l7FJ4/HV0dMjw4cMZuxTGrr29XXbffXfGLoWxw/V6xIgRjF0KY4frJWKX9nuuWq/7ac2PcybOnWmtfyvXG/cqiN2QIUM4UAN6gB6gB+gBeoAeqKsHhg4dKv0AJAG3AEnSOuBmFw8raa1/K9cbUHXkyJGMXQqPv56eHvNLViv7N637jh+jxowZw+Muhccdrtdjx45l7FIYO5wvELu033Ol9bxXa71xzsS5s9ZymL/xzxt4FROxa2W4zH1PbwMixo6xowfoAXoguR4wDSba2qQffsUF3ErzsOeee8q4ceNSvQ9p1r+WuuNBZe+992bsUngM4kFlv/32Y+xSGDv8EDVhwgTGLoWxww+JEydOZOxSGDtcKxE7xLCW6ybzNueeFedMnDupf3P0r0V33KsgdvhRgwM1oAfoAXqAHqAH6IF6egA/mvfbY489JO0Dbphww5v2/WjF+gOq7r///oxdCo9D/Jhx0EEHMXYpjB1+0Jg0aRJjl8LY4QeNqVOnMnYpjB2u8YgdYtiK1/u07zPOmTh3pn0/WrH+uFdB7PCmDQdqQA/QA/QAPUAP0AP19EBnV5f0w2vYaR8AVQHn0r4frVj/fffd18C5Vtz3tO8zoPjkyZN53KXwHIpW/gA8afdgK9Z/9OjRMn36dMYuhccd/IrYIYat6N207zPOmTh3pn0/WrH+uFdB7Gpp9cq86WupzJgxZvQAPUAP0AON8EBXd3d2wOoBBxzAm90UPmiitTFaErTijX7a95lgNb0/SuEBc9q0aTzuUnjORKsrgtX0HnuIHWKY9vN/K9Yf50yC1XQeewSrfLBuxIM1t0Gf0QP0AD3Qmh4gWE3hQ3XWHmYIVtP5kAIfEqymN3YEq+mNHcFqemOH8ybBanrjR7Ca3tgRrLbmgy4BB+NOD9AD9AA90AgPZAqsZrkrgIULF8qSJUtk/PjxmWvlkkWwOmXKFFm6dKksW7YsMMybNy9T8csyWEWs7PhlLXZZBKtRxx3On1n6QSqrYBVxso85nca5FLHNSgyzCFbd86XGbtGiRebDolmJXVbB6qxZswLHXhbvNwFWx44dK3jw4UAN6AF6gB6gB+gBeqDeHshMH6tZ7QoAMBUPJxhw85uVBxTdj6yCVTyY2DBAoU+WYphVsOr+kIFjEPHMElzNKlh1jzuNXZbgapbBapbipNc4d5xVsJo1iOrGDfNZBKu4rrk/XoQtC9MjTcvYYpUtlhrRYonboM/oAXqg1T0AWNmKGmC/CVYT3h0AbnDxsIlxFh9cWgWsjhs3zsQPcUzTw0ixumYRrAKAu3AOGgCIY3lWWo23ClhF7KJiWszbSV5HsJre15HhK4LV9MYva2A16gffLN6vEKwSdrTigz73mb6nB+iBRnuAYDXhcLHUQ+6ECRMkiy1W9eYWUCdrcEBj2ipgNYvxyyJYzeoPGHq86biVwKq2Ws1Ka3GC1fSCORx/BKvpjV/WwGqrXO9w3BGsEi40Gi5we/QcPUAPtKIHCFYJVhPZihAw7uSTT/ZbyWnLVYUjWRhnFayG9bGaYZ6VsAAAIABJREFUFbCjvssiWMUx1gqvI7cSWNUfqLLSWjzLYFX75rTHWTseswpW7ZhhOkst/PWalzWw2irXO8SPYJWAoxUBB/eZvqcH6IFGe4BglWA1kWAVIMCGAQBzWesOIKtg1X2dXFvN2fHUh7W0jglW09vyimA1vbHLMljNGkQNO7dnFaxm7d4kLHZZB6vaNYBC8izFlGCVcKHRcIHbo+foAXqgFT1AsEqwmjiwqiBOb3DtcZZaPrYKWMVDGqBqlh5UsghWsxajMDiAZa0EVvVcmpXzJsFqeqE4jj2C1fTGL2tgtdj1rti6qOtKkpcTrBJwtCLg4D7T9/QAPdBoDxCsEqwmDqxGtU7N2qtbBKvpfcjMIliN6gs3anmSHySL1a2VwCrOpe5Xr4tpk/R1BKvpPWfCWwSr6Y1f1sCqtlAN+9GJYJUP441+GOf26Dl6gB6gB9LvAYJVgtXEgVUAVNzYug/5uAHOUt9lrQJWtdVcWEzdGKdlPotgFdrj2LOPMe2jM0uvKbcKWNXjLkuxI1hNL5jD+YVgNb3xyxpYhR9xT+L+8IT7TLwllaU3bNhiNf0P6wQujCE9QA/QA8n3AMEqwWoBwGwm3CrWOk5BQVYAXVbBatjHq7IEd3B8ZBWs6sOm3f1GVo43Pa9lFayGHXdZi12Wwap9zNnTYS3q1MtpGxOsEqwmzbPacjWrxxz0JlhN/sM4gQljRA/QA/RA+j1AsEqwmiiwmrSb7jjrk0WwGqdeSSo7y2A1STrHUZcsgtU4dEpimVkFq0nUOo46ZRGsxqFTEsvMYovVJOocR50IVtP/sE7gwhjSA+nwQHd3tzBW6YhVHHEiWCVYJVhtkgcIVtPbeodgNb2xI1hNb+wIVtMbOwAjgtX0xo9gNb2xI1ht3Yf8OMABy6Sf6IFoDxCsRmvTCr4hWG0SVKvXr9ITJkyQAw44gHA0hXEkWE3vgwrBanpjR7Ca3tgRrKY3dgSr6Y4dwWp640ew2toP+q0AM7iP9HhSPECw2tpeJFhNIZCzoSzBanpvdglW0xs7gtX0xo5gNb2xI1hNb+wIVtMdO4LV9MaPYLW1H/STApxYD/qwFTxAsNraPidYzQBY3X///dliNYVxJFhN74MKwWp6Y0ewmt7YEaymN3YEq+mOHcFqeuNHsNraD/qtALO4j/R4UjxAsNraXiRYTSGQc1usEqym84aXYDWdccPxR7Ca3tgRrKY3dgSr6Y0dwWq6Y0ewmt74Eay29oN+UoAT60EftoIHCFZb2+cEqxkAq+xjNZ03vASr6Ywbwaobt1EyctQoGZWSYdy4cXLIIYekpr5p0bUR9Rw7dqzMmDGDsUvJseZ6ArFDDN3lnE/++RPnTJw7Gavkx8qN0ZQpU0zshg8fLhyoAT2Q90Dv8OHS24uhtWEQ979+8SdYrZ+W6svOzk5pa2szw5AhQ2To0KFmuqOjQ5KmN8EqwSq7EWiSBwhWXUCXnvlWb7FqP7iZFvQpAj2AA2h9Ze8Dp9MBCwDl8GV5xisd8XLjhNgRrKYzdjhnEqymM3YEq3mQRqhILWwPeGC1N/CDg8KcrIxtKKVwSsdZ2cck7UfSQF+StKm0LgCngKiAqcUG+Dkpurc0WD3ooIMk7QNumKZOnZr6/Uh7HKqpP2KHh5Vq8jJPc49dvFqHFjytGoeDDz5YMEyaNMmMDz54khyM6RQMk6dMkUOmT09FXdOgZyPrOGnyZJk+YwZjl4LjLMwXiB1iGLaOy5J9/sQ5E+dOxinZcQqLD2I3YeJE2X3ECA7UoC4e6OntFQCE7p4ewXRavTVixB4yYsQIM+y+++7S09MjXV1dYsNIwB3MY12lYKjR6VFXhaY6LgamNI09xr42ut7Vbk/jhJhVW0a98yUF8NV7vxpd3rBhw3yYCg+3t7eLtlBF3DFtpwF4TYJ3Wxqs7rvvvpL2AWAHYPW4447jkDINDj/8cJk3bx7jlrK44Vg78sgj5aijjmqZ2C1cuNDs68LjjpOFC48TjN/61rfKt771LXnuuefk1VdfFf5RASpABagAFaACVIAKUIE0KIB716efflruvfdeufzyy6WtvV3a2tpl6LBhoS3lACCTDM5Qv2It+8pZB2DVaIhWzfYA2uz9SUpcGlEPxKjeQxKgpPrA/jGglB+ht+17+ELLacY4K2AVfHTixIllD/vss4/0M6+wNuk18Hpte8KECTJnzhzZuXMnh5RpcNVVVzFmKYuZHmeIXV9fX0vE73Wve51g2LFjh9nnj3zkI+ZGNA03zawjFaACVIAKUAEqQAWoABUopcBjjz0mS5cuNS3f7JarNugBzAPIaQa0KbVNwDGtK+pYLnyz8zQCDJbaj3LWa50VrpYCcOWUWY80jdBP97me46R4WluhIr6VaGmD9mZC4qyA1UqgqqYlWE0p1FK4lfYxwWp6fwxoNbCqUPUzn/1sqftSrqcCVIAKUAEqQAWoABWgAqlUYN369abfVbz+jz5ZAdzclnGVgp96QLtyytDWe5WAxmrylFOXONNonRUuJqU7gEpgYLX66D4DQkIHHRQ2Y6zLdFwqD9JVW5965QMQ1XpG6YjlUesUrmL/61WnSsuJC6x296D7leqHzq5e6ezGeay8j4spLK1kTLBKsNrUFocEqwSrSf9xAC1Vt+daqt7y0Y+m8gaZlaYCVIAKUAEqQAWoABWgAuUqcOpppxk4NaytzfS7qoAFUMcGWFGQR9M3egxABjilYBVw2IVR7rybp9F1rnZ7AGmoezNbKLp1b4QfouAjYo51YZC0mjzuvsU9r8eVetfdHrTV/XDX6XypMjRdXOM4wCqA6uC2Xhk0rFd2q2LYdWiPDBzSZYZdh3ZLe2fp/qIrAaqalmCVYJVglR6oygOt0GJVX//ftm27bNmyRf7whz+Uez/KdFSAClABKkAFqAAVoAJUIJUKPP744waomj5Xhw71QaUCGfuVZV2WhLELScNgmwun3DxJ2I+01oFgtbwWkW58tbVqsdam5YDVcspxt13P+TjAanunB1QBSKsZBg7pll0Gd5lhwOAuGdTWXbJFr8LSSsYEq4RqVUG1erUyZItVtlitl5fiKEfB6ta+PvnUpz6dyhtjVpoKUAEqQAWoABWgAlSAClSqwOrVV0vv8OHm6+MAPmj9qRAG081uHad1sccuJCVYrQ702ZpWMk2wWp3e+ho/xpXoHZZWfzhoRCzc7ccBVtsKwGqv7Dq0/EHBav8cXB00LMVgddasWbJo0SIZN26c1OuDVXY5/HhVuuFcHECMZcbviVZpsbp9u9da9dFHf1Tp/SjTUwEqQAWoABWgAlSAClCBVCrwpS992Ty7oxUcIKr7irK2jgPIsaGrC1saOd8qYBXQDPsaFpdG6u1uqxEwLwochkF0rV81eTRvI8baArwefeW6x0Aj6q/baARYRZcAQ9p6ZUh7ecPgti4ZNLTNH4a2dZSE15W0VNW0sbdYBVRdtmwZwSpbxoa2jGWL1fgBaFyQOetgVVurbtu2TTZv3iwvvvhiKm+KWWkqQAWoABWgAlSAClABKlCpAk8//bSMGjXKQAgAPAAbBSg6ViBUj5Z2WmYtYxcqhcE2hWy6HTePLk/yWOus+wLInYT6NhKsZunjVRrHYvopTA87Du3Yq+fdH0LsNHFNxw9We2Vou/chqrI/ZtXVLl3tu0pX+0AzdHcOLnmsKCytZBwrWF24cKEsXbpUTjjhBIJVglWC1Yx5IPtgdaegtWpfX59s3LS50ntRpqcCVIAKUAEqQAWoABWgAqlV4NVXX5VRo8eY1qhey8ggvEMrVQVCSQF7ChwVKilksmGU1lnhkptHlyd5jHjofmCs+9vsOhcDg/Wqm73f9Zq2/VGvelZSju5HMf2wTtMVK1s93wxPNAKsDuvolZ6eCrpc6B4mvZ39pbejn/R29Jferl3TB1bRWhWv7M+bNy91YPXCCy+Uo48+OhQGxtUCsBXLLdVitZI4IG0ratisfY4Cq+eff76JA46ftB9D23fskK1b+2TDxk2pvSlmxakAFaACVIAKUAEqQAWoQDUKjB4zVtrbO2TosGHmY1Y20FEgCchnL2/mtNZJoZJCJhucuXDKzdPM+pe7bd0v3ZdiQK7cMuuRrhH10H1GK2nooIPG0fsRIL/c1ioqj+2PeuhQaRm6T8X0Kxesqg7Y70rrUWv6RoPV7p5e6ezyBkxr/THtz3e3pR+saj+oaQWre++9N0FdzK0sywGr5cQhCxCvWYC02u2GgVXEIUtgdQfAal+frN+wsZp7UeahAlSAClABKkAFqAAVoAKpVaB3+O7S1t4uAFLDhw/3wYXdv2oxGKSgo1FjFyopVLPBmUIsrZObR5cnfYwYYP+SpH8j6qLxc7cVFmuNYTV5NG8jxurBYi2/sb+6H8XqpN1zFCurWP5a1jUSrKLVanun188qugdAn6s9vb2CLgIwjZatBq4SrI4s+0NXUR+vuuKKK+Scc86RDRs2FADSdevWyTXXXFOwfM2aNXLBBRfI8uXLxQV6eCX4kksuKchTLZhivp0SBVYRO/TNi1aodhyuvPJKsxzrVq5caWKhrVoB9exWq1dffbUgztQ5nn5cXbCqccDYHqC/zm/dutVMY4zliGHYMYVjDfFrduwUrG7YSLCa2icCVpwKUAEqQAWoABWgAlSgKgUAKto7Okx3AApWFWAB8mC6FhBT77wKqLReWtcsgtV6a1eP8lzYWY8y3TIULrrbCou15q0mj+ZtxLhY3XX75YBVu3uOZnxQrqFgtdcDp9o6dXCbNw+gCtBKsDqyfKCqLWLDwOprXvMaAa0/8MADpV+/fj6gwUdodtllF5kyZYoZz5kzx1+HvmBx0AHQAebZQA/ToP4w9Pjx4+XSSy/18zUb/qR5+2FgVWO31157ycEHH+zHYf369ebX0unTp8uhhx4qgwYNMuBUgR66nkDsLrvsMhNzXPwHDhwoSJ9mjZJa9zCwiuMKMdOYIB6oP+ZxDO2+++5mjI7wDzjgABMvHJ9Yr/s5depUcxxiOcpau3atv07TNGpMsFrVPTgzUQEqQAWoABWgAlSACmRAgT1GjpTdR4zwW6squMQzc1I+WKXgCWOtX6uAVRcu2lo0Y7oR9akGklaTp5H62dA0CojaaaLqhmMS+woOFpUmzuWNBKu6H53dHkTVFqtY3tHVK21ssVo7WEULVUAZhXZotaqAZ+7cuTJjxgwf1CDdihUrzPzo0aP96ZNPPtkHemhRt8cee/h5kP+QQw7x5xsFebK4HY2R7hvgqR274447zo8DYnjsscf6ugPUKZDDOo0xoKsb4/POO8/Pp9viuLaWrC5YhZ74oeLiiy82WtsxQZzQ341qPmbMGDnppJMK0qEFK34w0XQAq6eddpo/r8sbNSZYzcATAXeBClABKkAFqAAVoAJUoCoFRo0ebV6vBai0P5jUjNeMFaQUG7cKWO3q6vLj0SyIFhYHgtV8P59h+hRbpt7FOCxdKbBqr2/W8dkMsIpX/9E6VVusQjuC1SpaqwLCuC1Ww17jVxBjwzgss+EPgJ6m27hxow/0AFHHjRtn4CpMOnjw4EArWM3DceWgzgWr2rJRtTz33HP9OGAZwN0+++xjOk+3Y2nHEReXsWPHmtaR+NVmt912My0ftUyOK49TmGZhYBUtVsNgtxvXqNihdXGSjjWC1aruwZmJClABKkAFqAAVoAJUIAMKoCsA9LGK5yuAVUCfRsCzMLBUzjKFU9piNa485ZQbZxrEQ1thYtwskObuYyO8Ye93vaajYKa7f3HO22C0mtbg+sNHM0F7I8Eq+lgFVMUY3QHg9X8AVcSIYLVOYHX79u3m1QTAUQAh9Mc5e/ZsM33KKaf4LRuxbtq0abJ06VKzbsSIEYK+PbEcLRwBfzCN1/7xqxCmMaxevdrAo7A+WjUNx+XBOxes4rVvAG6N3eLFi/04KDyF/tAX8TnjjDPMtK7DcrRyRVw1BoB6Cvt0GcflxaeYTmFgFXFQre2YlAtW3WNNY9esY41gNQNPBNwFKkAFqAAVoAJUgApQgaoU0D5WAe6iXlGOEzZVWnargFWFaAoWKwHJlWpaSXqC1epbrEJnHGca03LhKjRXP2DczOO0kWAVMBUtVTG0dXotVgFaoWNmwar2hRrX2G2xChiEV/7RhyNeI95zzz192IOPHw0YMEDQnyoGTCtMRR70yYqvmgPaoY9OBUuYx+vlgLDoHxLdC+g6jquHdC5YhZZ4/RvD8ccfb14LV8B91llnmbgAtgHaIa4LFiwIgFUsRzyRZ968eXLqqaeakxM+SsY4VR+nMO2iwCpigO4zqgGr2A5aJKOfXUBzXFiaeawRrFZ1D85MVIAKUAEqQAWoABWgAhlQYAzeAsz1saofr6oEtDU6rYJVACZMlzMolEJDqkbXt9rt2QAO9a+2nHrnawRYxTbiGOqtRbXlaT+peA5GbKNaI0MDN20j9C+2X40Eq6gHQGp7pzd05lqr6nLTmrW3V3q726S3s7/0dvST3o7+0tu1a8njZeLEiVLp0C8u2NnIcsPAKgANWqrig0bagk7h0JYtWwwgPfHEE32oquvQohWtJDEPMKTLMV6yZInpWxX57OWcrh7YhYFV6KlQTiGqaoz4ALpivb0OMBWvoWvM8JGy+fPnm/hri2Qtg+Pq42VrFwZWFWovXLjQjyHy2LHCvMZPpzVuWj5ajCN+2iJZlzd6TLCagScC7gIVoAJUgApQASpABahAVQqkDawCjmqLv0rGzXx9uhioKrYOLRObDdLc+iWtPm790jIPmKrAX31s/0jgroN/k6B9vGC1V3Yd6rVQxev/GktM2/O63B8TrJb/EasosNpoCMPtVQ7sosAqtaxcy0ZrFgZWG12HuLdHsFrVPTgzUQEqQAWoABWgAlSACmRAgbSBVcAUACaAKbweX84Q1SLQBzNo9cahLA2SAPeyEiuAc7RIdSGqglaMAVST5N94wGq37DqsSwYO9YYh7V3S2d0lXT3dZQ3dXUOlt30X6W3rL73t/aW3c1BJL1faWhXpM91iNW7owvJrh38Eq7Vr2CwfEqxm4G6Zu0AFqAAVoAJUgApQASpABSIUSCNYzQpYS+N+EKzGA+Ghq/0jAWBqM/tSjfJmHGB1WGeHDBw6RAYMHWyGXduGyOCOoTK4s7yhrW2Q9Awe6A1Dd5PernaC1ajuBdhiNd1wrllgkNutzTcEqxF3oFxMBagAFaACVIAKUAEqQAUyoADBajygLApMpX05wWpr+yUesNomA4buKv2HDjTDgGG7ysD23WRg+6CyhqFDd5Pu3XaVnkGDpLe9NFTFMcgWqztrA0UEbY3Xjy1WG695vXxOsJqBu2XuAhWgAlSAClABKkAFqAAViFCAYLW1QVmloJdgtbX9Eg9YbTdgdRcbrLYBrJY3GLA6uHyoWjVYPeCAAyTtw+TJk2XGjBkC0MOBGtAD9EC9PLBq1Sq5fOVKWX7ppRG3m8lY/Oxzz8sjjz4mX3ngQbnzrnvkY7fdKR/6+O3ywY/dZgZMYxnWIQ3SIg//qAAVoAJUgApQASpABahAlAIEq60NyghWGf9KPBAHWO3s7pRd2wbJwGG7eUPbINm1HcPgsoZhbYOlp6O8lqq6r1W1WMVr9GkfJk2aZL7+Xq+WeCynca0oAcCod+P0rqfWiF1fX1+m45fkj1e98q9/GUAKWKoAtdIx8gKyoiz+UQEqQAWoABWgAlSAClABWwGCVYI1hU3ljNlitbX9EgdYhe+6e7rNB6vw0Srvw1X4eFV5A/KW4107TVVgNarf0jQtZx+r6QRzgHwEq+mOHcGqfevZuGnAULRArRSkRqVHWSiTf1SAClABKkAFqAAVoAJUQBUgWG1tUGbDpnKmCVZb2y9xgdVyvFfPNASr7GM1da0HCVYJVuvZirbeZSWtxSpe37/rnvvqBlRd0Iqy2UWAPkpwTAWoABWgAlSAClCB1laAYLW1QVmlsIpgtbX9QrA6cqSkqYWqW1e2WE03nKs3DGN5jfEDuwJo7I32z3/5ZKDfVBeK1mse/bFiW/yjAlSAClABKkAFqAAVaG0FCFZbG5RVClaZvrX9QrBKsJq6lp5ZgYdssdoYCBqHXwhWG3ej/dhPfh5bK9UoIItt8o8KUAEqQAWoABWgAlSgdRUgWG1tUEZQyvhX4gGCVYJVgtUmdaNAsEqwGgf0rVeZSegKAK1Ho+Bn3MvZcrV1H6S451SAClABKkAFqAAVIFglWKsErDFta/uFYDUmsLpw4UJZtmyZGZYuXSpTpkyJpcsBdgWQbjhXLwjGchrrA7ZYjf9mG/2d4tX8uAFqVPnYNvtcjT/O3AIVoAJUgApQASpABZKoAMFqa4MyglLGvxIPEKzGAFbnzZsnixYtknHjxhmYivklS5bI+PHj6w5XCVYbC9TqCTDZYjXdsevr68t0a+9mt1iN80NVUTDVXY46ZPXv1VdflUcf/ZHccedn5B//+EfBbv7r//5PbrnlozJ12gw5++zz5Je/fKIgDRdQASpABagAFaACVCCrChCsEqxVAtaYtrX9QrAaA1h1PzCF1qoAq3G0WiVYTTecqyeoZVmN8wJbrMZ7C/3Io481raWqC1dRl6z8AZZ+//s/kBtveqecunSZnH7GWZHA9Dvf+R9ZfNIS+c1vnpIP3/IRuWZLn7zyyiu+FL/69a9l/oKF8vWvf8NfVu8JwN+7775HNm/eIs8995wp/umnn5HTTjtDPn3HnfXeHMsrQ4Gf//wXcvIppwrG/KMCVIAKUAEqkGUFCFZbG5QRlDL+lXiAYDWDYPXCCy8UHVauXCl2yzpdbo+3bNnit7zT5WGQLmxd2LKwvFxWCP2y1GIV3V6ExXj16tVyySWXhK5DevjHzbd161Y5//zzC5a76eDbFStWRKYLK9stA9tZv359aBlXXHFFaP1QBsFqfLfRr/zrX/Kx2+5MDFhFXVCntP8Bqr773e+VD334Ftm4cbM89NB35d///nfkbv3nf/4/ufrqtfK3v/1NAFlPWbJUXnjhBZP+hRf+JFetXiPr1m+Ul19+ObKMWldge294w3Vy7xe/ZEAq9uEdN95kQGuc26213lnOT7Ca5ehy36gAFaACVMBWgGCVYK0SsMa0re0XgtUGgFX0t2p3DeC2aK1lPqzFar9+/WTvvff2hxEjRsiVV15p4BFgk7se8xdffLFZf/TRRwsGF0BhHmW6sCpsWVheLssmWD399NNl8ODBcvDBB8s+++wjp5xyiu8dtNAeMmSI9PT0mPWuB+Az+Mdefvzxxxt/jh49Wg488MDAOjvdscceK2PGjDHda+AYsNdhGuW4ZdtpNmzYYLrlQB3g/1NPPbWgDNTb9buWQbBq33bWd7qW1qqf/fwX5Qtf/Kp87LbP1BXMZqHV6osvvigrV14pP/3Zz+T22z9VssXnL37xS7ngwosDLVb/9Kc/y5e+9GWZd/RrDVQFYI3zDyD1ne98txx40GT55Cdvlx2ve728573vk7///e9xbpZlF1GAYLWIOFxFBagAFaACmVKAYLW1QRlBKeNfiQcIVmMGq+hftdEfrwIosoEQIBPAF6CQglUFRBijtSHyYJpgtRCA2lrVczoLLVb32msvH9qvWbNGurq6jI/gKQB91Wvq1Kly2mmnmflVq1aZ/oenTZsWgJ/btm2T9vZ2P8+MGTNk8eLF/ryWhVamgJ46D7BqpwOUdcvWtDoGtNU8aJmKPLoOy7EfxX40IFiN7775zrvuqRiKAqg+97zXmlJr9r0f/G/F5bjdAOg86pT0PwCvw4+YZ17Px+v7YX/33vtFA0svWb5CfvWrX4UlCSz78Y8fMzB2/wMOlr33GS9HHnW0bNm6TR577PGirV0DhdQ4AxB88cXL5aMf/bj88Y9/rLE0Zq9VAYLVWhVkfipABagAFUiLAiNHj5be3XeX7p4eMwCccKAG9AA9EOWBSkBsUtNOnDhRKh361dJStJy8cUNV1CGqxaoNVgFLDz/8cAOOwsAqgNKwYcNk7dq1BKs7CVYVMFY6Bkzdc889jc/QohS+0zJsYH/BBRcIICy8aLcqBXC15931WhZal9qtWfHDwaGHHupv6+yzzy4oW/PqePjw4YJuMnQeLWvXrVtn5lFXdA9AsLpDtvb1yYaNGxt2//vsc89XBUOfe95rOfn7p5+RRx/7ifzzn15foPd97ZsF5X3hS18VQNfbP/O5gnUKUsPGqFuS/z7/+S8Y+Lm1b5v885//THJVWTcqQAWoABWgAlSACiReAbZYZYvFpMIv1it53gRszUJcKoWqSB8rWAVUxQerxo8fb145LgfEVpMmCqyiBaoOqMNll11moFEUWFWIZAMwhU46RpqwAWVqGo7LB7NZaLGq8QYohd/QOhvLXB+580jjgtNS87qt+fPn+z8UYNk555xjfmDQ9WFl2+swPXDgwEDfw2PHjpXly5cHfKzHhJsX82yxGs+9cDXdAACU4u9Xv3nKB6VowYo/gFYXkj78yKNmHfK564rN19odwPVvucGAT/ejS5hHa1Dtz9RUzvr38st/k/e9/wMy69C5Jt1rjlkgd975WR+eop/Urz3wgGmtio862a1Vn332WXn7O240LU2xDR3mHnakjJ9wgKBO9h+A7Oc+/wXzYSus11aqN9zwNnnqqd/aSc00Xsl/29tvFLRoRZn/cesnBa/vu3+6j+72kA4fpVqzZp0pA10MfOMb3xR8tEr/tCUuWuNi2v2DPnfc+ZmCOqNl7U9/+tNAWciL+kE/6Dl12gy56aZ3FfQTi35lEQ/svxsvrY/d5yzKRX+wWIY86JM27A96Pfjgf8nrdl4rr51/rB8P1CWqvijnl798QpadfqapL+qjGmOMslZddbVAB/sP8/jo2HHHL/K3g+mbb/6Q31eunR7T8BI0e+/73m+2py2VMT7v/Avlq1+93/ed5nX1fNObr69ITy2HYypABagAFaACSVPZGwtoAAAgAElEQVSAYDV58CoL4Ir7kB5fdXd3S0dHR8kBMSVYjaErgFmzZsX6+r8NYKPAqg070e8l8gAIYbm+9m8DI7yCjXVhAEzThYGmsGWanuPikDVLYBWesj9g5frInYc3SoFUe70N9BcsWGBe9Vd/wd+TJk0KQFE7L9KhGwItY+bMmebkCBisZeDVf3QJoPMYF/M2wWo8t75feeDBimAnQOjX/+s7pjIApjYYxUK0ZLWXYbpasIq61fJXDVjFB5rwgSgFovYYfY8CagHiYflb3vLWAFwDsDz77PNC82o5NujEtna+/trI9AC6eC3f/kPXAmedfa6Box/72McNrL3nnnvtJGY6CqwCYG7YuMlAYQA9QFXA4aeffsYvQ0FmGFh95pk/GuCn++OOAQQ/+9n/DMDVxx9/XE5cdJIBiNjewZOmmn5cFVZiw3GBVfWAW0+dB8wGJLbB8j/+8Q/jgXe/573yk5/8xNQd+4C/v/71r3LpissF4NvOg9hjuZbrjs8482yBdu6feslNb8+7Hyyz9fz+938gM2bOrkhPtw6cpwJUgApQASqQFAUIVtMDwAgrGas4PACw2tnZWXIgWI0BqgJg4mNVgEzuAOBqQ9F6TJcDVgGQ8Ko/YBGAkwtW8ep0W1ubeTU6DIApbAoDTWHLND3H2Qer8LgLVRF3eEr79cU8+jw9+eSTA+DShZ+Yt/s6RfqDDjrI5Ln00ktFB2zTTnfYYYcJBttvbtmaV8fw7ZlnnmnybNq0yezD5s2bA2UU8zbBajy3vNX2r4raoI9V/WiVwlZtxYoWrL//wzNmeOkvfzWVR3pd5sLXsPla+1lVqOa2gFToGNZiFaBLW45ijJaWjz76o0BfqmhlilajgF9o2aqADdATy15/7RsEH52y/wBRbZCIdQCi2AbAJraB1oso68knnzR9nKKsTZuuCbRYtMHqpz59h9neNVv65JVXvK4YdJu6jzbIxbonnnhC5s07xger//M/DxlwaLe6jQKr2G90e4B6nXzKqfLww983+4Q6//73v5e+bdvNOhfIAgSiZSlagSpYxT7bGsUFVgHDAUF/8INHDBSFBqgvQPJ1173Z6I9WtACU+od6oX7wgraKxTT+sC9oKazzWIby4APocsWVV8mvf/0bswzxRLnQCusAapHW/vvud79r+tS9/2sPCFo7Iw/+4Bd0NaGtpm2fhYHVSvS0t89pKkAFqAAVoAJJUoBglbAuDljHMtPjK4LV8vpbjbUrgHpA03LKKAZWAZdOPPFE0woVHwICeMIygDCMMQACA6rqh3wUrF500UV+GqRD3jDQFLbMBlycjoaraW+xCiCJpvEAneon9QrijosG1gGyokUo+i21/YC08I+9DB/DggevvPJK8/Gr8847L7Be08LD8DZameJDVgCmug7jsLLt9djG/vvvL6tXr5ajjjpKZs+eHciPtMW8TbAaz23vx267s6CFaRjkdJcBoOqfglP0s6r9qGp3AZrGHbvlhc2jbrX8VQNWASS1RSjA5bnnXWAgHCCsDQx/9KMfm5aCNtBS2AqIhkFf5/7mNx/0gZnuj7Z8RGvDH/7wh7rYH//q178WtFgFBAUM1T+7KwDdThggjgKrCk0BdA88aLKBhPff/7UA8NM09v5i+wB6s+ccZgaAYPfvpZdekhWXrTT7/pGPfMxfbb+6rnV2X+uPC6z6lQiZsEGx3QIV9X3jG99kQCharKILAYBZLEc67CP2Vf/+8Ien5YQTF8vC4040gFmX6/h7Dz9sWunaXtF1pcYK309dukyef97rc9jWEzFELCvRs9Q2uZ4KUAEqQAWoQLMUIFhNDwAjrGSs4vAAwWqLg9UjjzxS8BV2tBicPHmyD00VOM2dO9esw3q0ogX4UugE4IRlGObMmSNHHHGEAV1Yj3U2OItapmVxHA1VoU3awSr6NoUn3EHjvnHjRoEXAfWRVpfrGF5CXp3HeMOGDYI+VNFSFa/42+vsaXgWYBRQVVue2uvDyrbXA/Ji2+gCA1631+k01rt+13UEq/Hc4n7o47dXBVYBQvGKP179B1AFaEUr1TBAWm1XAKhbLX/VgNWvf/0b5nV+vNqNV+0BLdEaE6/423BL4aMNtHR7Cg91DPDlvq6vLUc1DcZ2K0gFr+5yWw+kx/pqwKpdb7tMTOu+uWBVW+SGbU/LAFBFndAPKQCg+6dlu9uPC6yiZSpa0qJVKkA3WhO/8IL34TXULWqf0AUDwDbyoN9UtFx917veY+Dpz37288BuodUpYoz9xuDqpuDVXY5CAHfRTy62hbzw2f8+6vVJjPVoSTx/wcKCMrUC1eipeTmmAlSAClABKpA0BQhWCevigHUsMz2+IlhtcbCq8Ifj4mCz2fqkHaw2W79mbp9gNZ5b3zAQWu9l1YJV1KOWPwWdaL1p/2lrzjBACBgIkAagBsj1i1/80vTBCXAG0KqvckcBLXs7gHpXrV5jgJm7Lc2vMA5jG6zaoNFebpffaLCqukFX/OkHnhQ+QjtN4+6v1lv3uxFgFa/TX375FT7wVK3t/k6LaYjYo3UqYo9X8vFRMryu7/5pGVq+C1C1OwF3Ocr5xH/cWlA/QOD/+ta3zGaK5UWCavR06895KkAFqAAVoAJJUYBgNT0AjLCSsYrDAwSrBKuhLfCaCaK47ULIS7BaqElafEKwGs8tb6UtVvGq/3//z8Omr1S0trP/0IfqT3/+S/ny/d8MtFxF/6u/f/qZyBatUSC3GS1W7f3BNF55x+vvp59xlvzxj/mPD0UBLTe/dhnggkSkQ8vJjRs3y5y5h8uXv3xfoLuARoJVtM68ctVq/+NKum8uCNTWnWiN+uKLLxpo+f/u+pxp0bv4pCUGDCcJrKr2iN9DD33Xbx0KEIy+YuFfhaJRINiNZ9Q8Wpaef8FFcuyxx5t+VRXAe3F+wbyq7+ppt0r+wAc+aPrJRZ+sKAMDuoMgWI1SnMupABWgAlQgiwoQrBLWxQHrWGZ6fEWwSrBKsLoz+dCOYDX5MYoCvQSr8dw+l9vHKj5S9eiPfxKoBLoAADDFgC4B7D/0u4p+VqOgaTnLm9HHqr0PmH7Pe99nWhTafYZiucLHMGBql6Hp8Dq3/YEogDd8zAitHNFq0f1rFFjFl+rRghP10K/Pa51dEIh+Rg+eNFVWXXW1/xEqgFW86g7wDEiZJLCq0NSOEXRHy2O0QsUHozSNC1a1NS5aj2KftFsDjAGWocHLL//NhA2AFh8ZQ5noSsL9i4Kjuhzaox76pzAf3RYgPqi/GwtNq7Gy9xHrbP+g/vyjAlSAClABKpAGBQhW0wPACCsZqzg8QLBKsEqwSrBKD8ToAYLVeG6H77zrnrLgp36s6i9/+avpW1U/UuUC0vu+9k3T36rWNqrfVTdf2DzqVstfNV0BuNuLKiMKaLn5NZ0LxtDiEx/Gwser0LLS/bPBmA3d7HRRUBBpFHDqa/uaT+sDEPfUU781MBXwcM3a9QYM7nz9tfLIIz80IM+ts/b3CUgMsIiWn2gNmtSuAFQfFzr+6U9/lvPOv9AM937xSwYq22D1H//4h9EF4Bsfrzpx0Unmw13QUFuZ2h+7Ul3wAStAZvdPAaqrpy53wSrg7/ve/wHTL+x9932FYNUVlPNUgApQASqQWQUIVgnr4oB1LDM9viJYLROsTpgwQdI+TJo0SWbOnGk+hATYw4Ea0AP0QD08sGrVKrl85UpZfumlDbth/soDD5YFVlEhQFW0XA2DoO6y/37oYbMP6F/VXVfuPOpWy59CUbSyRGtCvHaP1+8VOgJoYUBfqmihGPanZbit/mxACUBm/wGM3X33PTL3sCNN+dhGFFRzl2s5cYNVfMFeW1necednzGvo77jxJlPfNWvWmbq7dUMLTQBV1e1Tn77D73NW663a2qBS12Hs6obWnl/96v1y1tnnmhih7JNPOTUQD82DGB540GRTt/vv/5o8//zzBjpqfQCIb7nlo37rUgWruh77jA9N4Q99mMIXF1x4sdkfu74Ar6eddoZpRarwU+H2448/brav82H7ZDZg/dMyXD11udbPrj+6nUArYGiBfIV5/yTXvuGNBr5qfnwA6+abP2S6rLD943rXqhonqQAVoAJUgAokSgGC1fQAMMJKxioODxCslglWDzjgAEn7MHnyZANW+/r6hEO6NAD8YszSFTONF2K3efPmTMdvy5YtsnHTJlmzdm3DbnIfefSxssAnKoTX+7/3g/8ta0Bfq/irBayibrX8ve3tNxpohtaFf/7zn82HpPBqvwK3iy9ebvqw/OAHP2RaKKKlovtXDVh94oknTCtH9JeJAa1S3VaTCtVcYKbbt8GYDfF0Pca6HzYU1PUKOKNarCqMA0zV19z//ve/y5vefL0PTsPqpnpEtc7U7YbVCXVTSIo+We+5516Zd/Rr/e3h1XfA275t2wWx0z/oOW/eMQYu/vSnPzXdEKAVKfqGxXawL1/60pdNn6Sol8JT7boAQBX9laLbArQSRmthAF30s6o62PWFHm9845tMVw1osfra+ccKysJyeAkftHrppZe0ev4+uTHWBFGx1lbLWn98LOu44xeZbSEv9AFMxno7Flq/a7b0yQ9/6LUuXrz4FEEfuPA08qzfsEmWnX6myUuwqpHgmApQASpABZKuAMEqYV0csI5lpsdXBKtlgtWRI0dK2ge0uJ0zZw5f+47xte+ofjZrXQ44V2sZzN+cfloVimdZ/x07dsjWvj7ZsHFjw+57n33u+bLBajWVqgWsom61/AFqohWgDVbRn+nTTz8jAHvFwKoCQAVvUeMwmBYGVgHqFGBin6Jgm+5vMbCqQDWqTvbyYmBV+1TVbWKsr8mjDBvmaRoFp8gbBqJ1vQ0qNS/Grq6Af9/+9nfkujddLzZYBQDXP4WgqI+CVbQoRRwRT9Q1DKzqvoSBVZStfZkiv1tfQFu0ANVuDhCvd73rPYKyfvazn2vVzFj3KcwLSBAVa33lX+vvglXAW0BcNxbaVcGtt95mwCrAvdb/3//+t/kQ2qxD55p8yEuwGggXZ6gAFaACVCDBChCspgeAEVYyVnF4gGCVYJXALgWglWC1OVC0HjCUYDW+u+By+lnFh6iqGaL6Yi3VHUCt/atCLYCrL3/5PgPD0Ipvx46dpisArPvfRx81XQAAPIV1BaCwDOuLDWEwze4KAGAOwBBdENh/UbBN08QNVtE3Kl5rD/v73sMPm9fki4FVF9hqOeWCVejyH7d+0rQcRd7f/va3BiIiTtplg5aJ8XPPPWdamCIfWrl+4xvfNPFFK1vtj9R+lV7zPvnkk365aNWJFp76B9CtrZoVTOo6jAE6ATZRJ4DKt7/jRnn22WftJGZavRLmBSQoFuuXX35ZbrrpXeYHANT/tttuDwB47bLAjUUp/6JrC3QjQLBaEC4uoAJUgApQgQQrQLBKWBcHrGOZ6fEVwSrBKsEqwSo9EKMHCFbjuwsutzuAUjC0nutr7QYgPrVYMhWgAlSAClABKkAFqEAcChCspgeAEVYyVnF4gGCVYJVQLUaoVo8WjyiDLVbZYrVeXoqjnGZ0BYCb4lf+9S/52G13ltUlQD3haVRZqAvqxL/GKICWm2g9in450XIUf2iFiRaPGPOveQqgpTO6kUA3BGjdyj8qQAWoABWgAllWgGCVsC4OWMcy0+MrglWCVYJVglV6IEYPsMVqvLfRSWq1ytaq8cbaLR3wFN0k3P+1B8xr6VhPsOqq1Jz5z33+C/Lxj39C8JEx/ShXc2rCrVIBKkAFqAAViF8BgtX0ADDCSsYqDg8QrCYArM6bN0+WLVtmhiVLlsj48eNj+VAWP16V7laPcbQ0ZJnxe4JgNf6b2bvuua/prVZRB/41VgG0WP3sZ/9T5h52pGjfqfh4Ez7wxRarjY2FuzW0WMXH19C3LD5axj8qQAWoABWgAllWgGCVsC4OWMcy0+MrgtUmg9VZs2aJDVMXLlwoixYtknHjxtUdrhKsxg/R4gKV7Aog3bHr6+vLdKvgZnUFoDfozz73vHzo47c3Da5i26gD/5qjAKCq/aGuzddsFXxEi3/NVUA/fkWw2tw4cOtUgApQASoQvwIEq+kBYISVjFUcHiBYbTJYHTlyZACguqDVXV/LPMFquuFcXNCW5cbrC7ZYjf9mFlv4+S+fbBpYxbb5RwWoABWgAlSAClABKtCaChCsEtbFAetYZnp8RbCaMLCKFqsYagGoUXnDwOqFF14oOqxcuVLslnW6XMfr1q0LtLrT5WFgLmxd2LKwvFxWCPqy1GL1ggsuCPhI4w1/XXnllaHrkAb+0bQ63rp1q5x//vkFy3W9juHrFStWRKYLK1vz6hjHx/r160PLuPzyy0Prh7wEq427wX7sJz9vOFzFNvlHBagAFaACVIAKUAEq0LoKEKymB4ARVjJWcXiAYDUhYBUtVdHP6tKlS2XKlCkNA6v9+vWTvffe2x9GjBjhwy3AJnv9sGHDBOvXrFlj4NLRRx8tGBQ82WOU6cKqsGV2Hk4XAlXVJAtg9YwzzpChQ4cK+hQeM2ZMwB/wxqhRo2T06NFy8MEHF3gKPkMa1QPjww47THbbbTfZc889Q/No2vnz50tnZ2fRsvfZZ59A2ZoX4w0bNpj6ot44HnCc2usxjeWu3zUNwWpjb7LRerQR3QJgG2yp2tjYcmtUgApQASpABagAFUiiAgSrhHVxwDqWmR5fEawmBKxqK1MA1rjgaliLVRcIobUs6gAopGBVARHGxx9/vIFImCZYjQahtmb1mM4CWAUYRatP6HHFFVf4oPTss882wF51OvDAA+Wcc84x6VatWmXAKX5ssMHqtm3bZPDgwT7kRx70Taxl6BitWQFVdR7pbDAKiIvBLlvT6hh5TjzxRFPGJZdcEkiLsnAMAcwSrPbJho0bE3Gvi/5O4/ygFcpmn6qJCDUrQQWoABWgAlSAClCBpitAsJoeAEZYyVjF4QGC1YSBVXy0CoAIreMUttZrXA5YBSydM2eOgUhhYBWwaciQIYLXtglWCVYVPpYzxuv42tUEgCRaPyPfcccdF2j5bPsKHgTMx9iGnwDN9vy5554rc+fO9QGq1ufUU08V+F7nFyxYEEh3xBFHFJStaXU8fPhwufTSS/0y0EoWrVixHnXFvhCs7pCtfckBq3p3/cijj8nHbruzbt0DoCyUyT8qQAWoABWgAlSAClABKqAKEKwS1sUB61hmenxFsJowsDp+/HhZsmSJaTVaL6Cq5USBVbS408F+DTsKrI4dO1aWL19eEqxqmfYYZSqw4rh8MJuFFqsab/SjCqiKltkKJwEodb0NVnWZC1ZLzWs+dANw+OGH+2WjJawNWpHOLUvz6njgwIGCvlx1Ht0Y2KAVywlWkwlWcbP7yr/+ZWDonXfdUzVgRV4AVZTFPypABagAFaACVIAKUAEqYCtAsJoeAEZYyVjF4QGC1SaDVbx2D5AKoAoAipaq9rxC0XqMo8Cqws7Vq1fLzJkzBa1mAYuwHFBUgZKOYRqsCwNgmgatCbXcYst0HcfFIWtWwKpC1cWLF/u+cn3kzsMb8JLdQrXY/KRJk0QHtFCdPn26vy20YMU6229uWaeddpqfH8dDR0eHaaGteXp6ekxXBjqPcZjfdT1ipy11dVnWxjt2JBes2je9eH0fgPQrDzwogKVogWr3x4ppLMM6pEFavvJvK8hpKkAFqAAVoAJUgApQAVcBglWFdd3SMaRNunp6pbtjiHnTta2rR8oBWSZ9R3eRtD3S1eaViTdoO7p1mxyXoy/TxOuTVgSr++67r0ycWB5QRTo0RutXD7AZVQZgKl4nxhBX/6rYdimwqrBHYSqAk07rOsBXvAp92WWXEazuLA5DVbN6jLMAVsOgKrQ5+eSTAx+fAlg96aSTisJPF4Zifv/99zd5zjrrLNEBP1LYQBZl46NXdkzcsjSvjvFDA9JoHhwTmzdv9uexnGA1HWDVvQnmPBWgAlSAClABKkAFqAAVqFUBgtU8tOrpapO2ri7pGNIhXV1tMqStS3p68+ujAF/5YLVDussoL2o7XF46FtSoco1aEaxW6pOu7u54wWoUcK338mJgFeAIA8CTAirMAyLpOnzYCmUgDWASxhh0vY6jQFMx+KTQiuNwWJt2sIpX6QEo8cOB+gRjxPuaa64xrbUxv2LFCvOrx5o1awLgEutsQIp8APz48BXSomsB/eCV7aGNGzcaD2u6/fbbr+A1/rCy7TLQqhw+X79+vZxyyikye/bsQN2Qtpi32WK11ltV5qcCVIAKUAEqQAWoABWgAslVgGDVAlHdHdLW0SFtbV3SXVewam2DYLVIy17qVCnwq0d6gtXSvss0WAUQ0gH9qx577LGiEE+Bk66fMWOGuK9w6zodK3TFPPLbgCpsmb2e0+FQFbpoTNKqEXyhHrHHuj9orb3nnnsa+IqWorpcx+pFnccYQHXatGnS2dkpJ5xwQkEeTQuoih8L8Ar/GWecUZAurGzNizGAKurf3t5uusqw1+l0MW8TrCb3Jpg1owJUgApQASpABagAFaACtSqQFLCK1qJ4Td4M+lp9d4cMGaKtPPGqvrfefpU+2Fo0+Mr9EC3Hh5nO+tyr/z6c6umStiFDBF0AmPoEWqzmtl9QZq7rgMDyEtvx61Ma6Ph1Yx4C2Zg8QLBa+jjMNFhVMMRxNNRMgjZpB6tJ0LBZdSBYrfVWlfmpABWgAlSAClABKkAFqEByFUgEWAXQBJjs7pCObg9gGnhqg1W0JlXgaUFMG6x2d3h9pHow0ivH7ifVTmvSGJBq58kDFhesemV7wNQDu93SkQOvbrnBevSa/RriQtyYIBlBbD6G1KI8LRIBVnu6pLd7mPR2D61xGCa9KKvOxxfBagP7Em0W/Er6dglWkw2+i/mHYDW5N8GsGRWgAlSAClABKkAFqAAVqFWBRIDV3nwLz45uC17aYLU332LV7vvUhZo2UAmuQ34XolrbckCMC1YBfbVFrYG1Zt762JUFe+06eNPedmzIW5imPAjGfNSp3h5oOlgFCO0cKL2d/es0DKw7XCVYJVgteH28GEiLYx3BKsFqHL6qV5k7dvDjVbXekDM/FaACVIAKUAEqQAWoQDoVSAZYtWCZDVPt6Rz4dIFnEJ5a5fQ6r+j7rVMV4gKKRgNPdzsuIEWr1I4OfOyqR9w6mLyBbguit1NvSMbygh6gHqX1aDpYRUtVQNWOfvUZUBbKdH4sqWWeYJVglWCVHqjaA2yxms4bZNaaClABKkAFqAAVoAJUgAqUo0CywKoDIOsJVnMtXju68t0OtHV1S1eb16eqC12Kg9WuXDcAXncAXR1DJN+fq9WVQa4lrrbCZYvV0pDPjQPn49es+WB1aAxgdWj9wSq+Jp724aCDDjIf31m3bp1wSJcGgHOMWbpipvFC7PChLZ3P4hj7d9Xq1XL5ypXl3HsyDRWgAlSAClABKkAFqAAVyIwCyQKrNpTUvkn141UeYMoDT215ig9aua/4e2mDLUkV2now1cujy3oKIEy+1am9/Vz6Nq+lKqAfWq62tRWCVf8jXGgp29YhHREAl+AwfnBIjYtrTLBaXB/4x7RYBZRM+zBlyhQDVvv6+oRDujTQVo+MW7rihnghdps3b870MbdlyxbZuGmTrFm7NjM3yNwRKkAFqAAVoAJUgApQASpQjgLpBKsAlW3S1ZX/oJX3QakgIAmC1XzXAFjupY8Gq6ZPVXycSj+sZV4r9tIHQK5pVVsIVlF+9/9n70zA5KrK9B+FLL0kvXf2jeyELGRfgIQlG9k3gYSQPSQha6c7WycBdZz/jI7ojApu48iAg+KgM6Isjqigw4iiMKICCiioEIRhUcIm6e//vKfzVU6dvrequvveqrq33nqe2+ee7bvnvuer6lu/+u653ZqhrBlHkXdkLKFf8pxRj+zrkfdgtewMqSrvfOqhVkXN+yjzWzrALAUQQsRqjx49JOrbkCFDZMqUKW2+pTmo9Rhpp/XrhQLOUbfW65YPmikUz4exhDUGrrGaySU321ABKkAFqAAVoAJUgArEUYH8AasKLRGBam92xGiVNEeSaoSq9kluo3DOBasahXoawqYAq7pGa5Ft+9TxAFwT6zeeeqiW9fAqPY67PACXAsg+NFRfYOqvfV6DVQBUs15qhRVVXtFc5gdXCVb9ATDBajTBHGAYwWq05w6Rq2FBzXywS7Aax68IPCcqQAWoABWgAlSAClCBTBTIH7DqD34IxagNfSA8H8hbsFr23uYo1aqWS3VUoawCa7O+t2XkKsEqwWo+gKagx0CwSrAatE8FaY9gNZNL7vDafOGmW+TJp54O7wC0TAWoABWgAlSAClABKuCrAMFqeMCKMJDaRsEH8haslneSqqpyK1LV8afKcqlCG3dJAIJVgtUggVG+2CJYJVjNF1/0GgfBqu91dlYqCFazIjMPQgWoABWgAlSAClABTwUIVh1Yk7jFn+VRgIIcY/v9NH/Bahd/qKrv0/IuBKutWfeVSwFEG855AS2W5f+cco1Vz+tPFlIBKkAFqAAVoAJUgApQgVgoQLDafjBFuEcNo+wDBKvp/be8okI6tAZgtrVtv379ZMGCBTJjxoxQHpRFsJr/EM4PlDJiNdpzxzVWw79mxq3wW3fslZ889LPEwdJFcv7HN74pN3z68/Lyy69IXcNh07+1t9Sjb+OxD5hb8WFv7catxmZiECl2MFYcFzawj7Fk8tLjtOZYtl27vx7fruc+FaACVIAKUAEqQAWoQOYKEKymhypRhmYcO+c3nQ/kL1jFUgD2Q6vcuayI31IAAKorV64kWL0uuhDND4y2t5xgNbo+wYjVzC9K29ryjTfeNFDyj889nwClgJTpQKX2u+e/7pWPfvwT8jf/7yMC6JjJCyBU22L/1q/8u7GBNFNYqWAVx8exMZ50LxfAYgw6jnR9UQ+IC12g1Zdvu93sp9MpE7tsQwWoABWgAlSAClCBQlWAYNWFNcynA3Gsj4mKzBwAACAASURBVJeP5C1YLTtDqipK/ZcDqCiRKrSJyxqrgwcPlsWLF8vSpUsJVglWWzxBnmCVYLW9cD7M/vmwxiqAIyI4dcsENgJkAqhiAxAF3MwUMuJ4egzsoy82QFJEzmYS+aqRspkeE+PFMfQcNc0U5OqXHYxX++DYmR5f+zOlAlSAClABKkAFqAAVOK0AwWq8IBmhJ+eztT6Qt2AVwLTszGa4WtlNquwNwBV1LlQ1fd4jVRXF/kBW12dtRZqVpQDmzJkjU6dO5VIAhKotoCqAWJzA6rp16zzPsa6uTrZv3+5ZBw28+uEW+y1btvj2UZiYrp2Xbe2r6bZt22Tfvn2ex9q6davn+NCXEaunLzrzcQ9wFCD0F7/8VavAqn0uNiAFtMwUrNo2crHvtXxCLsbBY1IBKkAFqAAVoAJUIMoKEKwSxLUWxLF9vHwmr8Fqt/c0A9TyzlJlbwaqvic+YHX06NFy6aWXCqJWs73GaocOHWTAgAFmw/7IkSMT4Aiwya4vLS2V2tpaaWhoMG1mzpwp2BQ82SlsurDKq8zuw33/qMw4gNUVK1ZInz59jK916tQpyT/GjBljfK1jx45JPqg+MXv2bNNP80gXLlwosNO1a1fPPtp2/vz5UllZKWeeeaZnO0SKDxw40NOPYePIkSNyzjnnJN4jWK5DbWvav3//pPPRcqQEq+FeJiPaEpGbGnUJUKrRmPaRATzRzg96ajSo2tG+ah+RonqrfiogmQqsqi2NNHWPpYBWI2ExBi2zj496HEfrtL2OC/ZRry8cx+6frty246cZjqnnoSnK/HTEMTOxq/1hU8/Lb/x6HkypABWgAlSAClABKpBLBQhW4wXJCD05n631gfwGq4ha7ZgcrYrIVZR5RatGMWIVD6wCVAVczcXDqwBObQA6bdo0ueSSSww4UrBqQ6J58+YZAIYyglV/EGprFsR+HMDqsGHDZPPmzQnfAmiHNijr0qVLAlaOGDFCVq9ebfJ79uyRsWPHCsCrtlc9a2pqEn3wYDYv4IlIUvwgoH1g+33ve18ijyjxiRMnyllnnZUo07aaTp48WQB2kd+4cWNS2yuvvFIwjlQ/GhCshneZC1C3t+GQiTYFfANoBIzzAqt4kFWqqFQFejbshD3ksR6pPqAKZ6OA0IaXepZ+YNWFg3o8hYfo74JSlKEeNtEfm/bDvtte2yJFvb6w7wdW7XZo73VuOL6tqVcbPZY9Pi1DirFiDEj1hXG6oFuP9dTTv02cr9/41Q5TKkAFqAAVoAJUgArkUgGCVYK41oI4to+XzxCspp/PUJcCANTBMgA9evTIC7B64YUXmiUJAJG8wCrKESWIqFWCVYJVhY/p0l27dhl/Onz4cAJQIvoZ/QBEN23alACbtl/BBwHzkdpgtb6+Xi6++OJEH4DYQYMGJfI6HtgGdNX8rFmzEv6NsvPOO6+FbW2rKd6b9vgQVbt//35jE2PFMQhWj8nhxkapb2jI6jUtIJxGSyogBKyzIaAOyKut1iH1A4Kwq8eADbxSgUW0cWGhAlDUYXwajYl9G3hqO5TrS4+FPmgLOHz46PsN6AV8xLlqe7ctzgkvPzCJctVNjwdbrn46Lvf8VRf7HPx0VPt2qnZ1/KjDvtrVcr/x27a4TwWoABWgAlSAClCBXClAsJoeqhAkUqM4+0D+g9VTywHg9v/E5rMMQBQjVgFVAWbcTWEroE5QGwDTlClTEpAJ4Mi+1R+3VAMUKVDyA6u9e/c2UYY2ANM+mgI0eW2wqW2YZg5m4xCxas/38OHDZe7cucYXACltv/PyKxesIhIV0adq063XchwDEaeav+yyy5L6odyvr/ZBNO2BAwcSNrp37y44vtYjJVjNDVgFSETEKlJ92WBQQaMCulTQL1Wd2nHBoub12EhR5gdW7//hAwZkajQm8jbE9AKNalvhIh6yhfNBHg/KssGq27atYBWgFFG6sI0N+yhTHfU4SN0x++mo5YCmqo+W2Xahn60JjqHnrudjH5/7VIAKUAEqQAWoABXItQIEq4SGcYaGPLf0/p33YNXvln+/8rKIPrwq1xGrgEvYJkyYYCJnFTgBvNoACftwGrT1AmDa1gs0eZVpe6apIWucwCrWO8Vawjrnrh+5ebRz4adXXtf+xY8Hul100UXmVn89Fn7AANTVvJdtrAWr/ZGWlJQk1hVGe0TaXn311Uk2Uvk2lwII91IXUE5BHY6EvA3m7LyCPIA695WqLiiwirFgA1zEGFyI6EJKe4xoj+UIPvrxTxiYib6AnThX2LRfLoh089oW5djsF2zBrgJcHAf7fmAVfW07fjra54rzxLno0gxe47fn0G/89ri5TwWoABWgAlSAClCBXClAsJoePBHOUaM4+0DuwWqJVAGG+oHS1pYbsFoiQc5ZqEsB2NGo+bDGKsCRwlTAK91XEIUnsKOMYDU1CFW9gkrjAFa3bdsmRUVFsmHDhiQouWrVqqSHSgGs4oFTtnZeIBUwU9usXbs2EZmKh1rptmTJkqQlBGDbjmBFf9c2wKr2R4r3JdroseD/WIpA80gJVvMzYhUX1worAfb8oB/aaR2gJyAi8nihn96argDXBa2m4ak/dnvs60vho0JF2EC9DRB1rDieXQ4b6K9AFnl7vAom7TK7rR+YVJtoq2PFuBAFjE3H4Rexap8rbLnjUr1QjjHCHjbs4zg6Lh0/2rmaoEzb6ZygjC8qQAWoABWgAlSACuSLAgSrhIZBAijaip4/5RysVpafusUft/wHsZ0pVbBZFdxcZA2s2pA1jH2/pQAAjXQDeFJghTKFqFqPdSzRBjAJKTat09QPNKWCTzak4n5LaBt1sIq1VQEoAS0BQbHBXzDXqCsvLzd5gPv+/fsLUtsP0Fb9Usux1i+gLB5whfcLIKjWaXro0CGzJrC2g/8uW7YsqZ2Xbe2PdNKkScbP9+3bJwC1gwcPTuqPNql8mxGr4V3yAsLZ8A5HAqRzoaSW+QFCHSEAHjbYRR+APM3rQ7IAXRE1iuOinftSMIloTPQFLMUL9rQv9vFyIaKCUdRjs+3Dlg1A1aaCSrWHfmir44YWOK4Ni83BrUhTjBkP98JL4a7d3h6X9kWKPgpIcTx92cfXc0WKsegyCKqtPX7013aqG8pgzx6PHocpFaACVIAKUAEqQAXyQQGC1eDgS5Agh7Y4L9nygZyDVQBQgNCKEqmqKG7nVhI4VMU8xBqsAgjZ26hRo2T37t0GHClwsuunTZuWgEoKYe16ha4oU3CmkMqrTOuYtoSptiZRB6tevgR/0HPcvn27AZa4zV59SOuQan+7DPt4+BRu1cdD4Nw6zQO8jh07Vtw1hLXez7bWIwVQBfwdNmyYAbl2HfZT+TbBaniXuwCPAHPu5oJVBYNo59bZo9N2NsQD6EM/rzIbfNp2dFx2vdpBqi/Uu+PRvm454KJbpm3VpkJRjFePrWX2+PX4gKIAxF7t1Sbaqi52Gcr1+C7cVrt2uY4Dx1I72k7zsIl9tHE3r/HreTClAlSAClABKkAFqEAuFSBYJcDLFsDjcfLT1/ICrAYYXRqGn8UarLqAiPnUgDNX+kQdrOZKt3w4LsFqLi9zeWwqQAWoABWgAlSAClABKhCuAgSr+Qm7woBDtMm59vIBgtX0fkGwel1+wsZ8gGbZGgPBanR9kGA13AtZWqcCVIAKUAEqQAWoABWgArlUoEevXlJVUyMVlZVmA0DgRg2i7ANe8JBl/vCQYNVfG/UbglWCVd/bzAlWows8szl3jY2NOfehMM/32LHcPLwqlxfQPDYVoAJUgApQASpABagAFYACvXr3kZraWqmqqjZbZWWVcKMGUfYBhWFM0wNDaESwml4nglWC1ZxDMUasRhfgMmKVF9xUgApQASpABagAFaACVCC+ChCsEqJGGaJ6jZ1ANT0otDUiWE2vlwGreDhN1LcRI0aYh/zU1dUJt2hpADjHOYvWnOl8Ye7wAC3NxzHF+e3ctUu2btsW3ytmnhkVoAJUgApQASpABagAFfBQgGCVYNULTka5zIaG3E8PDQlW02tkwOqoUaMk6huejD5hwgTZv38/t4hpADjHeYum32Lu6uvrYz1/OL+9dXWyY+dOj0tNFlEBKkAFqAAVoAJUgApQgfgqQLBKsBpliOo1dsLU9KDQ1ohgNb1eXAqASwFwKQD6QJt9AGCVa6zG90KaZ0YFqAAVoAJUgApQASpQ2AoQrBKsesHJKJfZ0JD76aEhwWp6jQhWCdXaDNWCemAQ4FxQtmgnu+u1EqwW9oU2z54KUAEqQAWoABWgAlQg3goQrBKsRhmieo2dMDU9KLQ1IlhNrxfBKsFqzqEmwWp2YWiQ8JlgNd4X0jw7KkAFqAAVoAJUgApQgcJWgGCVYNULTka5zIaG3E8PDQlW02tEsEqwSrBKH2izDxCsFvaFNs+eClABKkAFqAAVoAJUIN4KEKwSrEYZonqNnTA1PSi0NSJYTa8XwSqhWpuhWlCRj4xYZcRqUL4Uhp1jx47J4cZGqW9oiPdVM8+OClABKkAFqAAVoAJUgAo4ChCsEqx6wckol9nQkPvpoSHBanqNQgerM2bMkJUrVya2pUuXyuDBg6VHjx6BbkOGDJEpU6bkHBKGAXbibpNglWA1n32cYNW5umaWClABKkAFqAAVoAJUoGAUIFglWI0yRPUaO2FqelBoa0Swml6v0MHqnDlzBHA1aJDq2iNYjTacy2ewxrH5+xaXAiiYa2qeKBWgAlSAClABKkAFqEABKkCwSrDqBSejXGZDQ+6nh4YEq+k1ChWs9uvXTxYsWCATJ04kWOWSA77RxIxY9QeX+Q51CVYL8Oqap0wFqAAVoAJUgApQASpQMAoQrBKsRhmieo2dMDU9KLQ1IlhNr1eoYBW3/C9evFhGjx5NsEqwSrAaQx8gWC2Ya2qeKBWgAlSAClABKkAFqEABKkCwSrDqBSejXGZDQ+6nh4YEq+k1ChWsAqguX748sb4q1loNK3rVaymADh06iL2NHDkyAffWrVuXVId2M2fOTNRj387bkYMDBgwQ9E9XZtdz3z8qMw4Rq5s2bZKhQ4dK3759Tbphw4aEf8CPunfvLuXl5Z4+ddlllwl8yvaR1atXy8CBA6WkpMSzj7a94oorTLvi4mLPdmpH23ulkyZNEkSX9+nTR7Zv3540DrTv379/C39XOwSrBXh1zVOmAlSAClABKkAFqAAVKBgFCFYJVqMMUb3GTpiaHhTaGhGsptcrVLAKiAqwqhGrbt5dJ7U9eT+wagPQCy+8UGbNmmXAkYJVBURIL7jgApk6daqpJ1j1B6G2ZkHsxwGsjho1SgBXocfll18uw4YNM/tbtmwxAB/lBw4cMA9u03YoO++886S2trYFWO3Vq5fpjzYAnrYfowzbtm3bpFu3bmZfbdvt4MNFRUUtbGt/pNOnT5fZs2cbG8uWLRP7x4d9+/aZseFHB9uu3Z9gtWCuqXmiVIAKUAEqQAWoABWgAgWoAMEqwaoXnIxymQ0NuZ8eGhKsptcoVLDqglJdczWMh1llAlbxIC1AXoAhL7CK8k6dOsn+/ftN9B8jVrMDV6MOVnfv3m386fDhw8a3duzYYaJT4U+XXnppUiSpDezhgwCrSO2I1T179iTlEemNdjbQxD7K4fdaftFFFyW1ww8ZAKW2bW2rKd6jNugFRD148KCxqWMlWD0mhxsbpb6hoQAvpXnKVIAKUAEqQAWoABWgAoWsAMEqwWqUIarX2AlT04NCWyOC1fR65QSshrEcgB9YBVTSDbdi663OfmC1d+/esnXr1rRgVW3aKWwqsGKaOZSNOlh15xo+oSBU4aS2cfMod8Hq+vXrk2Ao6s8+++wWvjV37lyZPHlyohyg1Y44he2FCxcm2dJxaNqlSxcTSat5RM8iElbzSAlWm8HqvnqC1UL+UsFzpwJUgApQASpABahAoSnQ1NQkPXv1kZraWqmqqjabF6hiGeFrlHzAhobczwAalpebO2Vxt2yqDVoCMBaipqGCVUSmLliwwKzfiMg45JcuXWpuh3ajWdub9wOrgFK6YS1JQC/AIpQBGNkACftwAtR5ATBtCxtqU1Mt0zZMCxOs4rZ9harwAdeP3DzawIfUL9PlL7nkEtENS1vgRwr1NYDV4cOHJ/JetlasWJHoDztYKqChoSHRB2D16quvTuRho9DB6tFjx+TwYUSs7pdXX3210K6neb5UgApQASpABagAFaACBarA8ePHm8FqTXepJFiVKMFDjtUfdhci+MvWOROs9ugh7YWbXv0BUwF8sNnrrXq1bU9ZKrCq4EkhkQInF6xincozzzwzY7Bq2yVYzRyk2rphPy4Rq4MHD5YJEyYkQUmstwqYqueM/fnz5yfyKM8ErOLBWGgLmKrbokWLkoAsbNsRrF62AVa1P1JEaOP4Oj68J+rr6xN5lAO+2m20LdK4r7F67bXXydGjR6WxsVEa9h+Q//35zwv0spqnTQWoABWgAlSAClABKlBoCtx9zz3So2dvqampPQUVqwkXK/2BHWFmNLTJFmQsxOMQrIYEVtsDS1vTNxOwumTJkgSIAiiywerGjRsNABs3bpyBSl6RhQqUvCCqV5m2Z5oausYBrI4ZM0bGjx+fBCQx71gvFeHyWIIC4N7LT1ywinbos3nzZmMPvo1b+l0/gu3S0tLEGqmDBg0SPIDKbufatuuwjx8+sGEfP34ADrttvMasbeIPVq+VY8eOyZEjR8z83fKlfyu062meLxWgAlSAClABKkAFqECBKrBnb5307NnTgFUsBUBwGA1wyHlKPU+FCDyzdc4EqzEEqwBCgLNdu3aVM844Q/DkdoV4AE79+/c3DxkCYMUt0NOmTUtAJYBVLNJbU1Nj/pn07ds3EXnoBZq8yhQ+MY03WF29erUMHDjQbPAD3XTecct9SUmJdOzYMeFDWofUC36uWrVKRowYYXzXvt3f7of9iy++OOHD8Fm33su23Qb1WL8V7wE8XA6w1q7HfirfjjtYxflfe+21Jmr10KFDUle3T/74x+cK9NKap00FqAAVoAJUgApQASpQKAo8/vgT0rt3X+nevYdUV9dwfVVGqsYGrGcLMhbicQhWYwhWXUDEfGrAmSt9FHbn6vg8btv9olDAKqJWDzc2yv79B+TGG28slOtpnicVoAJUgApQASpABahAgSqwZs0a6YllAGq759WDq8orqqRjcYV0Ka3wBH0VlVXSuaRCziwqF7R1ozdR3wn1xafru5ZVynu7lCdtnYorpFt5ZYv+rj3mW2qc75oUIvDM1jkTrBKstojUI3BrO3BrjXYEq9nRuTVzkmnbQgKrR44cFRO1um+ffOnfbi3QS2yeNhWgAlSAClABKkAFqEDcFdh/4KD06t3nVLRqbd5EqwKKFnWtMAA0HVgFKC3t1hKMdiuvkjOKyluAVRu0AsgWd600ANcLzuY7OOT4UsPebEHGQjwOwSrBKsHqdbkBfASrudE9U3iaql0hgFWcv1kO4Ngx8xCrA6eWBPjUjTfKc89xWYC4f7Hg+VEBKkAFqAAVoAJUoFAUeOKJJ+TKq9Y2LwHQs1fzQ6uqqvMGrCKCFJGkiDhNB1bRBhtgrIJGBbOIeMWm0BQRqzZYRfuy8ioT9YpU+zONhxaFCDyzdc4EqwSrBKsEq/SBVvpAoYBVhatYEqCxsVEMXN23T3bt3i03/evN8sgjj8grr75aKNfcPE8qQAWoABWgAlSAClCBGCjQ1NQkx194Qb797W/L3rp90rdf/+ZI1VNQFQ+sypeHVgGK4hb/0rJKA1XTgdWSbs0Rp/bt/ACpAKqoA6D1A6s4FiJWcTwbzBKsEqxmC1BG9TgFDVbxYKaob8OHD5dJkybJ/v37uUVMA8A5zls0/RZzV19fXxDz19DQINhwvnV1deZBXzt37pLt26+Rq7duk6uv3iabt1wtmzZvad62bJFNebytXb9eNm7enNdjzGf9cjk2zN2GTZs4d3n8/vLzD8wb5y6/Pxs5d9GcH795Qznec/0HDuQWggZ9BwyUmt79pU//0/r27jdQevQZIH0GDDRb9z4DpLbPAOnnHB951FX16p+wgTw22KvplWzXnsNep45hl+G46Osex27jtY/2Pfsm9/Wy5VWm9sx4ocOA0zpoHcbalnFp/9BSjPXU1q/fQOnTt7+JUsWaqnhYVU1N8+3/+QJVATRxW7+CTkDVdGAV7bFsADaFo2pDI19tsOqusYo1Wss81mglXI0+XI0qtIzCuAsarI4dO1aivp177rkyYcKEggA8cYOQBKvRhKrww0ICqzhfgFWk9Q0Nsm9fvew9BVh3794tO3buMts1O3bKjp35v225+mrZfs01kRhrFPTM5hgxd1u3bePcReB95voF5o1zl/+fj+68Ic+5i+a86dxhrUhuwWrQo1cfKa/uJdXde0vPFPp279lHulX1lNqevT3noLZHb+lW3VNquvc2tiq79zL76IO+XvNWWdtLsKFv16qeiX3Ywbi8+niVYdw4Ls7D7ge7FTW9ks7Lqww2Mcay6p5mLF7HgD6uLa92uSjr2auPYOvRs7f07NmzGajWdpfq6lqpzKNIVYBMjTTV2/IzAauISsV6qnrLfyLitVuluc0/XcQqIKzdhkA1+kBV5zAKgDKqYyxosNoj4ssAYPxDhgyRKVOm8FbuVt7KnWr9zGzVAc5l61g8TrDruWLucGt8oemKNVexYWmAo0ePypEjR4wOhw83yuHGaGz4stmwf39kxhsVXbMxTswdoH42jsVjBPt+xrxx7oLVNFs+yrmL5rzBPzB3NbW13ALUoLq2VorLaqS0vEawn0rfqppa6dKtWsqrvNuhHPXF5TVSWV1r2mG/S9dqk/ey3a2yVoq71ZgxVFTXSkl5jZRVNtvB8bz6eJWZY3scB+U4P/vcvMpwrKJuNYLx2G3tY5mxOrbs+pzv13Q30amIUK2urjG3/efT7f8AYQCiRaXJkaeZglUbptqQtVsZlgko910KwIa5WHpAgRzTeMDVqELLKIybYDXicJVgNVhglk1QRrAa7bkrRLCK94fCVRuwHj12zMBWANd83xBle+jQobwfZ77rmIvxYe6wJEUujs1jtu+9jXnj3LVPw1z5IOcumvMGf8HcKShi2rxeZnt0QCQjIgGxaVSj2qusrJairpUGVmlZRWW1dC5tXstSy+wUt1p3LKmQ4lP20B42zEOHKrzHiz5nFlckNvRFWadS3PLt3cc+JvbLK3RcLdsjOhJjtm11La9KjBH99VxR7upgHwv1OJ9Ubez22d7HuAAL7ePmGzzUh0i5t+oj7z5wCmNXmGp8FEsIlDVHngLG6rIA7sOq3DzsaJQswWo8YKrt11EAlFEdI8EqwWrBRd1lE56mOhbBKsFqKv+IQl0zZL1Oro1QxPjevXsLMto4Cv6UboyYOyxJka4d6/PvsxXzxrnLv3nJ5L3CuYvmvGFuMXc2NOJ+S5CYqSaAcHigT5dSb1Bo6rs11wNKavvOPu1xXEQRnlGEBxKdhnsAkQCngJ9oAztop6AT5ai3+5hoRPOgoeY+aGPWxzx1S7t9jqjD7eHoY5frPo6HMZd0a4amaA/Qq+1RDw2gBfa1n1eKMfrp5dU+22UYPyCxDZ2isJ9pxKoCUqyXekZRuZlDlLkg1c0DzmJ+uc5q/KAq5j+q0DIK4yZYJVjll9QcQSGC1eh+WSnUpQAy+RKe720IVqP7viNYje7cEc5x7vL9f0Mcx4f3XRRAURTGiMhBwCmvyEGAKZyDuW27a4Wc0aW5HR42pA8I8jpH9IM97Y82iDTEcXQ9TROhaqBY8zFgD5GKdh/s29GLqZ7oDijndQ76YCSMwUTAljS3w1gwJpwb6nTMrg17zHqu6Gfb1XKm7QN2rQGr6pP2PLj+4jWnzfCdywDE0VejACijOkaCVYJVglWCVfpAK32AYDW6kIBgNdpzB1AQRwAS93MiWI3u+45zF+25iyMY4Dm1D8xRP+pHHyhcH4gqtIzCuAlWQwKrgwcPlqVLl8rKlSvNNnHiRAnjYVlcYzW6F7yMWI323BXqGqtRB0AEq9F93zFiNbpzRzjHuYv6/44ojh/vOwKUwgUonHvOPX2APuD6QBQAZVTHSLAaAljt16+fLFiwQObMmWNg6ujRow1kRRo0XCVYje6XFYLVaM8dwWo0549gNZrzBqhBsBrduSNY5dxFEUxGfcwEq4QqLlRhnj5BHyhsH4gqtIzCuAlWQwCrAKiLFy8WRK0GDVJdewSr0f2yQrAa7bkjWI3m/BGsRnPeCFajO2+YO4LV6M4f5y7ac0eIUtgQhfPP+acP0AdsH4gCoIzqGAlWQwCrM2bMMBGriFx1QWjQeYLV6F7wEqxGe+4IVqM5fwSr0Zw3gtXozhvBKucOPsAt+xowYpVAxQYq3Kc/0AfoA1GFllEYN8FqSGAVywBgy8Uaqx06dBDdSktLZeTIkYkL2nXr1iXq0KZ79+5y3nnnJepnzpwp2LwugAcMGCDob9d5ldn13Pe/kI4DWN2zZ49MmDBB+vfvb1Lkdc7hR/CvsrIyT5+67LLLBP6j7ZGuWbNGBg4cKPDb5cuXJ9XZ7a644grTrri42NO22rH7uPuTJk0S/PjRp08f2b59e4tjnXXWWS38XW1g7ghW/X1bdWprOnToUF/tYRNrVnft2tWkAKV6nGuuuUaGDx9u/Mf+3NN6pASr4c2b6oz/fdXV1dKpU6ek9+eBAwfMnJ1xxhmmfvXq1Ym5w/9KzB0+E8aMGZMoV5s6dwAFdhn3g53PZcuWSc+ePeU973mPnHvuuQmtMXcXXHCBVFRUmPfX5ZdfnqjDdcGwYcPMtYXf3DHqMdh58vL7VO+hSy65REpKSjznbvz48Wbu+vbtK/b/cD0G5y78uUv1Hpo3b565TqmtrU36PEWfUaNGpZ07ghSCFPoAfYA+QB9QH4gCoIzqGHMFVjG35RXNG/azrR/Ou0PQ0aNqDxGroAi3OAAAIABJREFUuMDVB1YhBSTK1hqrAKYKQAGMLrzwQpk9e7b5EoRy1OsF87Zt28y4zj//fFNGsBr+BbRqHwewOm7cONm4caPxHXzRHjt2rNnfsmWLAHoCdOEL+aBBg2TTpk0Jv8OXd3xJcMFqr169ZMmSJebLHfqoH6tmSOGzgGq2bbsdxoG+ALR2P3t/+vTpiS8oGIsN4Q4ePChTpkwxY7Pt2v0JVpvfJ9dee61ce+11cm2A0Uj4/Dz77LM95x5zsHDhQgF4BQCAr+BzV+cG/0jw2Ys8PvdmzZqVqNM2BKvhf8YBqG7evNloj/cWQCv0x3sNc6dzAZCj+/gRBvXIo/0555yTqNM2mDuC1XDnD/Og7yHAuEWLFpl50LnD5znmAz+Y6Wc6rnHwfkM5rjX0ekLnDSnhXLjzBo393kN43+D/sf6AWF5ebv6Poo89d/hfjjp73jh34c+bOw/2e0jnTt9r9ufp/PnzE5+nqeauqqpauFED+kBLH6isqpbKSmyEbtSgcHwg29CtkI6XTbAKkFpaViVFXaukS2mVdC45tZVWSVFpcx3aZEP/0MEqHl6lSwHow6wADBS+BpV6LQVgg1VcsOHiC1AX+y5YRRk29AFQIljNzkU0NI86WMUXbHzZ1i/adXV1JiIG5wafsyOfbb+CD+LLAVIbrOILhJ3Hl3uvL+got9vBth11jfcbbAOuqn+7Kd5/aKPl6v/I61hxDLuNtkVayGC1GaYCqF4rx44dk6NHj8rRY8fMPvLt2dauXWvmDdFv2FdbOifIu3Xvfe97DbTZvXu3genaB/0RSa15TdHu0KFDLcq1nmn75hAAAD+QqI4rVqyQyZMnmzxgKdYf1zpEi2/dutVAHvzj13J8liBqUvOaYu7q6+tblGs90/bNHX60sudh1apV5scy6OrOHYAc5hZ1+KFr165dZh9zh6hWdy4wb5y79s2Pq6mdd+fOfg/h/zF+9NT2mDtcoyJvzx3yNTU1gr7aFinnLrx5U53tebDfQ+7cpfo89Zs7ArWWQI2aUBP4QDNYBXg4rQcBY+EAxkKd62yAtkI9RjbAakVlMzRVmNqppEpOb5XSqaR5A2hFG8BX9AlzTkIFq3rR6oJVlAcFVNWOH1hVEIHbhEaMGJGAeABFdsSqwiJED+LCXPtpuZ0CNHltfvDJ7sv9lsA26mDVnVP4jkZVuH5k5wFH0Bd+YwPSDRs2JOXdej3e3LlzTZSN5gFa7YhTL9vaVtMuXbpIQ0NDAqyq/6Neb/EnWG3pswpV8WUQQPXIkSNGr8OHG+VwY/u3wUOGyIaNG2XI0KFy5Zo1CZvY1/zAs85K7OOY/QcMkM1btshVa9cK6nQce/bulW5lZYm8lu/YuVMa9u9vUa71TNs3j3X79kllVVVC32nTp8uIs882+RkzZ8rkKVMSdWi3aPFik6+qrpY1V11l9lesXCklpaWJdjonmLu9dXUtyrWeafvmDvqd2bGjXLNjh9F47rx5gnlB+QJEig8bltAe77XZc+aYPPaXLF1q9jdt3mxsbNu+PdEW/TFvnLv2z08qH/d7D+GzsV///on5GDV6tIw991yTHz1mjFx08cVmH+8vzP/GTZsSbTl34c6Zzqffewjvp+KSksR84PNTP08xh3iPwkaquauprRVu1IA+4OEDNd2lpqbWbNXVNQSsjNwtiOjlMAFbodsOG6yWV1ZJSbdmYHoapjpgtbhSOlkbAGtxt+ZlAsKan1DB6uDBg2Xp0qVJSwEgj3IFokGlfmAVUAobIgpxu6Wue4YyP7CKOhuAKYTSVEGT2kaqZdqGaUsY5adJnMAqItIA8PVcL730Ut+IVW2j/pMqD9iPerx/dMMtpzie9sNarVibUfNIXduI8tD+SIuKihKRtmiPWyivvvrqJBupfLvQIlYVqCIy9ciRo+aL3G233Sa//OUv5bXXXhO+qAAVoAJUgApQASpABahAVBRoamqS48ePy1133SU7duyUmtruUl1dayJZTUQrQWNBgMZCi1wNC67RLuBlRWiRoYg6BVTtXGqDVHc/Gap2LK4UbICwgKthRa6GClYBTRWuIpourPVVcZxUYFVBE9YiRISeAicXrO7bt086duxoYFQmYFXtIk0Fn+x23G8JXOMCVnE7L/zGnmPchm2XYR+w1W7jwk83j8hRBah4QJZuWPMPfq+2sI6mttMy1xbAqvZH2rt370R0LfrA/3G7o/ZHmsq3CwmsKlRFlCrm5Atf+IK5EI3KhTPHSQWoABWgAlSAClABKkAFUinw+OOPC57TgChWXR6g0KAbzzf+SyEQgIZ3W3yYYBW39OPWfu9IVS1PBqvNbU8vDVDaLZxzDx2sBhWRms5OJmAVD3jRh4QAOLlgFdBLn/6LfRuIpQNNqeCT3Zf78QSriISeNm1aEpDUuVaYjzz8Dw+00jqkLvzEumJ4arG2wZpwWF9M85riARy2DyNSFus2aj1S17Zdh32MW2EsHvqAtTjdNvDt9evXtyhHu0IDqwpV//3221Ndk7KOClABKkAFqAAVoAJUgApEVgEsaUS4Gn/AWKgQmWA1HLgIXcMCq3gIVXqoCrh6GqwishURrl1PPeAKywPARhgPtIo9WAV40g0Pe8FDKACEFKxqXWVlpXmwFaJWUQ+oqnWaKmj1gqheZS6gYr4lVIUmUY9YdX1J/UXnG1GriGYtLS2VcePGtQCUXvATfgpQij76Y4Das1M8rAq38+OYusyFXe9l265HJPlZZ51l+uOhEYCrdj32U/l2oYBVRKvi9n9Eqv7zv/xLZC+SOXAqQAWoABWgAlSAClABKpCJApddscrAVTzgissCELLGCcISrEYPrCJaFWulpo5WPQ1WAVUBVOG3mO+ycvRvjlwNI2o11mDVBUTMe4PNXOsSdbCaa/1yefxCAKuAqohUxZqqhw4dkueffz6Ta1G2oQJUgApQASpABagAFaACkVXgsccel+7de5g1VwlWCVYJVsODkXECvWFFrBYllgColM4lFdKlpNykJkI1AVxP3/JvQ1Xo2628UjoXV5j1VhG1GrTmBKvX5SdszCUsy/axCVaj64OFBFbxxOEvf/krkb045sCpABWgAlSAClABKkAFqEBrFNi1a7d5oBXXWyVYJVgNHsYFDffywV4YYBW+pw+sAlQt7Voi5d06S7euRVJUWtZ8+7+Bq4CupyJVq07PF279Ly6tkI5FzWAVkasayRqUZgSrBKstbv0mWI0u6MzF3OH2+GwfN5vHM8sAHG2OVn300V+05lqUbakAFaACVIAKUAEqQAWoQGQVuOuue05FrdZwOYBKwtW4wNWgYBrtnIaXqkUYYBVgtHkZgEopKS2Vim5nSlW395itrGtn6VRccQquVprb/3UsSCtsqHoKrCLKNeh1VglWCVZzDsUYsRpdkBv3iNXTywAckQMHDshrr70W2QtjDpwKUAEqQAWoABWgAlSACrRGgePHj0vPnj0TD7KKC1jjeRQ2JLbBG/dbwtH2aBIqWC2ulNLSYqnodoYFVjtKp2IsC+ANVYs0UvUUVO1Y3LxcQFlF8OfdoXfv3hL1bejQoTJp0iTZv38/t4hpADjHeYum32Lu6uvrYzt/DQ37zfnV1dXJjp27pKmpqTXXomxLBagAFaACVIAKUAEqQAUiqwCufXv07N38ECsTsVltbqElmCxsMBn1+W8POGTf1EAyDLBagaUA8OCp4krpUlImZV07GbAKwFpSUpwSqnYCULWgqoJV2AxyLk3EKp5UHodtwoQJsQU8cQaPBKvRhKrwybiDVZxjfUOD7N3bDFYje1XMgVMBKkAFqAAVoAJUgApQgTYo0LNXH6mp6S6VVdVcDoDLAcQCrAcJ1GgrGVCGAVahcZfS5khTwNXOxWVSVFwqXYq7modYmQdVWWuq4vZ/RKpiiQAXqgKsdimpDBSqYnwGrPbo0UOivg0ZMkSmTJmS89vas7n2Y1yOBTgXl3MptPPA3MV9jdVjx44JHly1r76hDZei7EIFqAAVoAJUgApQASpABaKrgAGrtbUGquIhVlGPVuT4GW1LGJoMQ4PUIyywWtKtqnkdVdzKb7YK6VxcISXdkh9ElQ6qoi/6BHnOBKtcXzUvgCbBKtdYzWcgrWAVkat8UQEqQAWoABWgAlSAClCBQlKgV+8+UkOwSqAco2jdoKEa7Z0GtWGBVfMAK0StFlcKok6xNa+rehqSJqCqx+3/dp+gH1xFsEqwSrBKH2iXDxRSxCrBaiF9heC5UgEqQAWoABWgAlSACkABglVGeMYtypcg9DQIDVqLsMAqxolI004lp8Eq9otKK6WsvFK6lVdKsceDqhSoIkX7MKJVCVYJ1doF1YKKMmTEKiNWg/KlMOwwYpVfKqgAFaACVIAKUAEqQAUKVYHefZojVqurqwVb0CCG9sKDXNSW2mbbB8IEq3jgVHFXB66ayNXmZQHMeqrOg6oUrCLStahrpSCqNQxNcN4dor6+KsbPNVajDefCAGK0Gb5PMGK1UC+xed5UgApQASpABagAFaAChaAAwWo4ICYMuEObnKtc+0CYYBXnhtv4Xbiq8LRj0elo1kTZqUhVQNUwlgBQvUMFqzNmzJCVK1e22FAeNMwlWA0fooUFKhmxGu25K5SHV3EpgEL46sBzpAJUgApQASpABagAFbAVIFglrFN4xJS+kM4HwgarOD6iTnFLP9ZYtZcGsGEq9hGlijZoG1akquoRKlh14enEiRNl6dKlMnjwYIJVLkOQWIaAYJVgNSxoH4RdLgVgX1pznwpQASpABagAFaACVKCQFCBYJUxTeMSUvpDOB7IBVnUMiEAFNO1SehqyArRiU6AaZpSqjgNp1sAqYCqgKuCqC1yDyDNiNdpwLggARhvZ9wEuBVBIl9U8VypABagAFaACVIAKUIFCU4BglTDNBkjcpz+k8oFsglV7HFh/tay8ecO+XZeN/ayBVdz+v2DBAunXrx/BKqNVE9GqgKGMWM0+EA0KQhOsFtqlNc+XClABKkAFqAAVoAJUoJAUIFjNPqTJBgjiMTivYfhArsBqGOfSGptZAathR6si4tUrYnXAgAGi24gRI2TmzJkJoLdu3bpEnbaZNm1aoh5t7fY2iEJ79E9XZtdz3x8exgGs1tXVyfjx46VDhw4ybNgw2bNnT8I/rrjiCvODQq9evcx6w64vbNu2zfiiXb5r1y4555xzpLy83LOPtoV2gwYNMsfEesZarmlDQ0ML21qn6ezZs824p0yZ0qI/2uB94Pq79iVYLaTLap4rFaACVIAKUAEqQAWoQKEpQLBKANcawMS2he0vBKs9eoQSSQroGebaqrqMgBdYBeQCENJt5MiRsmTJEgOPUOZVf95555l6glV/EKpQLag0DmB1+vTpsnDhQuM78LGxY8ea/QMHDkjXrl2ND27ZssVA0GuuucbUQb/169cbPwSst/UEnIUdAFr4Kfra9dg/cuSIgabwZdS77bTMtW3bWbRoUeIHBIwfcNiuR97rhwRtQ7BaaJfWPF8qQAWoABWgAlSAClCBQlKAYLWwQRlBKee/NT5AsBoiWMUyAHPmzAkN3PpFrCo4VQgEUAW4iryCVa3TFH0OHjxoYBMjVrMDV6MOVo8ePWr8BdGh8CNEr5aUlJh9G1yizgb2a9eulTFjxhhftOFnfX19UpQpIlGHDx+eBDxh6/LLL09qB9vnn39+ol3//v1b2FY/17RPnz6mjebh/4cOHTI2dKwEq8fkcGOj1Dc0FNI1NM+VClABKkAFqAAVoAJUgAoIwSrBWmvAGtsWtr8QrIYEVrGmKtZWBVzV6NIwUr+IVYVDSBE5qLdL+4HV2tpawa3Z2k+Bk50CNGm9pqngk92X+y1hbdTBqjun8InRo0cnwUlto/6CvC4XAF+0wermzZuT8m692sL7aty4cQmQumzZssRxtY1fX60vLS01IFjzlZWVsmPHDmMTEbEoT+XbjFjNr6vtB598Vz73vbflwK1vypU3nJBLP/y6XPSh5g37KEMd2qAtX1SAClABKkAFqAAVoAJUIJUCBKuFDcoISjn/rfEBgtWQwCrWV128eLEBPmEAVbWZCVjt27eviRAELEoFVlFnAzCFTpoqaEI73bRM2zBtCVD9NIkTWIXfaFQ0ztf1IzePNvAhG6ymyq9Zs0Z0Q3QqliBQXVevXi14v2ney7b21bRjx45y+PDhRJ/evXvLpk2bEnnYSOXbBKupLkOzU/f4cyfl+jvfkgUfOZGAqApT06Xog76wwRcVoAJUgApQASpABagAFXAVIFglWGsNWGPbwvYXgtWQwCoi95YuXZozsApIpaAJEYJdunQxeZTjtmetQ7pv3z4BaEKdFwDTtl6gyatM2zNNDVnjAlaxHqkNVTHv+FEBvqQ+gP25c+cm8ihPBVK1/qyzzjJ9sCSAblgTFT8oqO1Zs2bJhAkTEnnta0PbFStWJPqjbffu3QURsmqjU6dOsnfv3kQe5al8m2DVvfTMXv63L56UD3z9rVbDVD/YCluwyRcVoAJUgApQASpABagAFVAFCFYLG5QRlHL+W+MDBKshgVWNKA079YtYtcEq9rE0gQInF6wCemHNS9QTrKaGoQrigkjjAFbPPffcFlAV2mC9VCwvoToBUq5atSqRR7kLVlGGZSu0D36csOGsluOHAl3LFWUjRoxo0c7LtvZHesEFFwiALPY3btwoWAoAa8babQhW82+N1VsfeCcwoOqCVtjmiwpQASpABagAFaACVIAKQAGCVYK11oA1ti1sfyFYjSlYBRTCBgAFkKpQC8AJebse+4haBVQCyDrnnHNMdB+g7cCBAxPQCu3QP1P4ZLfjfktgG3Wwilvwi4qKjI+oPyHVucY6qNXV1WaN4WHDhiXKtd4LfsL/ysrKDCzF7fna1k1HjRpl/Limpkaw79Z72bbb4IFu+OeHY3Tu3NksM2DXY9/L37UNI1aze8H9zl9Frrs9uChVF6pqHsfAsfiiAlSAClABKkAFqAAVKGwFCFYLG5QRlHL+W+MDBKsxBKsKf5i2hJn5pEnUwWomWuJBUHV1dS3AZ7q+eJBaujaNjY0m2jRdu1T1GzZsSHscr/4Eq9m70H71RJPsvOnN0CJVFapqimPhmHxRASpABagAFaACVIAKFK4CBKsEa60Ba2xb2P5CsEqw2iaw5AWbWNY6kFsIYDWuPkGwmp2LbESPZhOq2nD1nXezc448ChWgAlSAClABKkAFqED+KUCwWtigjKCU898aHyBYJVglWL2udUA0KFhIsJob3YOYP4LV7Fz8ZuP2f4Wpbopj80UFqAAVoAJUgApQASpQmAoQrBKstQassW1h+wvBKsEqwSrBKn2glT5AsBr+BXaYD6pyIapfng+0Cn+eeQQqQAWoABWgAlSACuSjAgSrhQ3KCEo5/63xAYLVGIDVyZMny/79+7lFTAPAOc5bNP0Wc1dfXx/r+cP57a2rkx07d2b9Wve3L57M2pqqflBVyzGWIF4vvfSS7Ny1R0aeM0Y+9Ld/JydOnAjCbGRsvPjii3LzLV+S5557LjJj5kCpABWgAlSAClCBYBW477775I477mixPfDAA8EeKABrBKsEa60Ba2xb2P5S0GAVTy2PwzZhwgTZu3cvt4hpADjHeYum32Lu9uzZE+v52717t4GqW7dtC+DStHUmPvD1t/IGrGIs7X01NTXJhz/8D3LtdR8QAMYNGzfLnXfelWT2G9+4QxYuWirHj7+QVN6ezIkTb8gNN35azr9gpgwYOFjmzlsgX/3q7fL222+3x2xGfXHOf/jDH+Smf71Zrt66XWbMuEjuuOObgnK+qAAVoAJUgApQgcJTAD8ye0FVLUN9Pr0IVgsblBGUcv5b4wMFDVZ79+4tUd+GDh0qU6ZM4a3crbyVO4h1NttrA3CuvTbYPzfrtGLuGhsbYz1/x44dk8ONjVLf0JDVa9zHn8ufaFWNWsWY2vN66623pG5fg3zltq8aM3/39x8WbPp6+OFH5OJLZsttX/33wMDjU089LcuWr5QPfej/yZ/+9CdjF9GiGAciZ19++RU9fCjpj370oBw4eFg++akb5LOf+7xAA76oABWgAlSAClCBwlXg6aefNmD1O9/5TpIIyAOuPvvss0nluc4QrBKstQassW1h+0tBg9UeEV8GAOMfMmQIwWoEoSqAKMFqbqBoEDCaYDW8S93r78yfaFUFqxhTe1+33/41ef8HPpiIWP3Wt+400an/+I+fkFGjz5UvfelW+eu777b3MKY/IlIPNx6R/fsPtohO/fOf/yxbrt5mIlnDjB4FUL311i/LE7/+tRnLG2+8Eci50QgVoAJUgApQASqQ/wq89tprcvfdd5vtkUceEUSj4nZ/AFT3tn+7HO3QXvvCTq5e+QZWKysrpbS0VLp16yZ+EK9r166mDdp6tdF6rauoqJCioqLEVlxcLGiDcm3DtLCBIec/s/knWI04XCVYjTacCwLy0Ub2fYBgNbxL3AUfOZE3ywAoWMWY2vsCNDW3+y9cYm7LHzxkuCxcuEQ+85nPmYjS9tq3+z/22GMyeco0cxwsAeC1Bb3sgH187P/ud78zSwBcuWZti2UP3LbMUwEqQAWoABWgAvFR4J133pF7773X97b/X/ziF0kni7wuB+CmsAN7uXjlG1gtKyszADQdWAUoLS8vbwFGAVtLSkoMeFVYBoAKWKt5pDiOW2bXcz8z0EadCksnglWC1VjfzpzP0JERq9kHokH5A8FqOJe3Dz75bt5BVYWrGBtfVIAKUAEqQAWoABWgAqkVeOKJJwwoveuuuwS3///kJz8xeTy4ym8dVZTrg63QHv3QH6AV9nLxyiewCgCKSFJs6cCqtnPBngJTG5p6gVWNjPWLenXtMl9YAJHz7T3fBKsEqwSrOVpKgGCVYDUo0BuGnVyssfq5773darC66pMn5Iv3v91iUyB60/3vtKhDH63PNMXY2vo6efKk3H//D2TNVetk2PCRiQjSMWPHy7njJsj082bIb37zpLz55pvyDx/9mGkzddr5cvMtX/JcHgBrtSIK1V6nVceGW/3vvvses5aqPrQKbbGPB2j9/vd/0Ka+6YkTJ+RDf/t3ZhwXXjRLsIyB3zIFzzzzrBw6fEQmTppqxoTzw3l+5zv3tliGwPeArKACVIAKUAEqQAVioQCuITTq1AaiKE/3QmSq3U4BLezZ5ensBFWfT2AVsBRRqICq6cAq2gGe2rfzKyxFHWwpHPMCqwCwdhtty9QbqFEX6gIfIFgNCayOHj1ali9fLitXrjQp8mGs6cqlAKIN58IAYrQZvk8wYjWoS9ZkOwdufbNVwBPQ1O+lwNSvHjBW22SSYmxtfQFM4tZ/r1vyUaZg9c4775IrVl1pojm++MWbTB+sxeq+/MAq1jHdvXuv73FwLMDcH/73f7smk/Kwj3VY8YArrAuLsX//+/cltUHmxz/+iRm733ld/7GP+wLZFsZYQAWoABWgAlSACkRegYcfftiAVfcBVfaJHT9+XB566CG5//77TYq830sfbAW72X7lC1hVoAp4kylYBRzFptBPgapGvmo58vYaq9gHlGW0KmGh+gjTzHyBYDUEsDp48GBZunSpTJw40cDUGTNmmDzKg4arBKvhQ7SwQCUjVqM9d42NjbGO9s5FxOqVN2QeSfqp/2qOIH39rSbB/t5b3kzaFJa65WiLPngd/WrmIBdja8sLD13AOqOApw8++OMk0IgoUDsCwwarX/7KbQaQHjzU2GJtsVRg9drrPmAeTIWHRukDoxAxizVPd+3aY2zOnj1PfvfMM76nA/s7d+2RV1991US5Apy60bGvvPKqiUwFdP3s5z4viJTFC1G3GDsA7shzxshDP/2p73FYQQWoABWgAlSACsRLAQWriDJ111LFmf7mN79JRLRqZCtSlLsve+3VQgWrGmmqoDNTsOr204hXlNvRqF4RqxrxqsckWMsMrFGnwtaJYDUEsIroVIBVjVJ180HCVYLVaMO5sKAt7YbrF4xYdS99g8lf+uHXM44iPf5qMxzd8vk3Mu6jsBV98Hr+1aaM+2JsbXlhjbAZMy5KiiLFbfkfvf5j8uKLLyaZtJcC0ChQRKAqINXGfmBV6/1ShaGwDRt+L8DeD37wQyZSFXDUC6ze+93vmfKjR69NgsWw2dTUJJ/45KdMPZY24IsKUAEqQAWoABUoDAVwO7+uqQpginVT9fWXv/zFE6oqYEW9vnS9VdTBXi4eYJUPEasAqXbkaaZgFZDPhqkaheqCVDevcBDtAVg1z7SwoSHnP/38E6yGAFa9IlYXLFgg/fr1Y8RqjtYzzUfQyIjVcOFnmHNOsKqXvcGmCj7TpVgjFa9Hnkl+2NX3f/VXeeVEk+eGOtsu+uK16KOZR8maDq38g7VTEa2qoNROsRYpYKfX60c/etD0aS1YffLJp2TbtmvM+qiIGr3hxk+bKFI9xic/dYOx60agar2b+kFcAFP7XNxxKnh1y137zFMBKkAFqAAVoALxU0AjV22wirtnFKJ6pajXVy6XANAx5BqsImK0pKSkxa36eru+F+xSmIo6vf3fhrMuSHXzapNgNT1IU62YUivzfquoKMgfIgCUOwQZOeraAkQFTMUaq3PmzAkcqOrxvCJWBwwYILqNGDFCZs6cmbhled26dYk6tJkwYYJcccUViXq0tdvbcArt0T9dmV3PfX94GAewWldXZ/ylf//+snjx4iTfWL16tYwfP17OOecc8z5wfWHbtm3GF+1ylKE9LgTw3rHr7P0dO3bI9OnTZdiwYZ7t6uvrW9i2+2MfUeV4f0yePNnzOCh3/V1tEKzqJWewqQ0+U+1HCay6CuH2/zvvutvcKo/b6AFQvV5tAavHj78gCxctTQKegJ91+xoSSw54gdJ/vfkW02f//oMtHjjl1R7jBZhNBVZTjd/rfFlGBagAFaACVIAKxEeBoMDqI488kjNRcg1WvYBdayJWdTkAwFmciHATAAAgAElEQVS9rd8FqW4ex0SErEa4eo2BZQSJ9IGWPsCI1RAiVnHrPx5cpWusIgXEydYaqx06dDBACFAIW58+fWTJkiUGHiFv1wP+1tTUyNy5c009wao/CFWoFlQaB7AKuLlw4ULjO1hLWKE8wCb+icPfAFjxz3zXrl0JgLl+/Xrjh4D1tp61tbXGV7ds2WLqr7nmmqR6tD1y5Ij07ds3ybbdTvu6tu3jwO91rJMmTTLvVbseQHjgwIHmGHa57hOshnONm+2lALCcQCqAa9e1dSkAL6UAV7EWKsCk3y35qcCkH+zUKNE5c+cLliA4ceINA0ABcBG5ilv0vfoqkPVaE9WrPc4Jtu6997syddr5Bty6yxqkGr+XJiyjAlSAClABKkAFoq8AlwJoCVyChFCtAas4LiBpqjVVAVa9Hl6F8iDHTVvh+gX1zb2+BKshgFUAJvvWf41eRblGmgaVekWsKjhVCAS4NXz4cAOoFKxqnaboc+jQIQObFDhpnaaMWA0WukYdrCJaFRGfSNVH4EfYR/Tq2LFjE+VTp05NgEz4IAAqUht+AsYiUlVt2X20DOnll18uvXv3TrTDDxe2z2IMiHa1bdv9sY8fG1atWmVsNDQ0GAgMYIs62Bo5cqTpjzG6fZEnWA3nwr81D6/6+zveMoP4y5tN8slvvy17b34zaVMoah5eZdWhLfrglY2HV/kppRGfuDXf65UKTPrBTi23b78HxH3/Bz4ok6dMk0cf/YUnWAUk/eIXb/KMWlWb7tIBePjVhRfNMhGyALPuK9X43bbMUwEqQAWoABWgAvFQQCNVcas/H16Ve9hD4MY5oA9kxwcIVmMKVgGHdMOvVG7EqguLEFGI26u1j1uPPECV1mvqBVu9+rKsJZSNOlh15xQ+ASCJcvUPbWPnFVa6YHXz5s1JMNStV1v40cKGtvBtO3/gwIEW0Fb7aorbW/bs2ZOApgC6Oh9XXXWVKU/l2wSr4Vz8H7j1zYwjSAFOb7r/Hd+BKFj1a4C+2iaTFGML8qVg1QWWeoxUYNIPdmq5DVZhDxB09ux5crjxiOht/+5xn3vuOZm/YJG4Uatq021/5513GRCLyFvAW/eVavxuW+apABWgAlSAClCBeCigYPXee+/1PaHjx4/LQw89JPfff79Jkfd75XKt1XxcCoCQLDuQjDpT59b6QBBgVZfhQBR5586dpVOnTtKxY0ezYR9lusay/VC71o41yPY479DWWPVaCgBLA6A8qEhVteMXsaogC7c0YwIAowCVAKs0qlAhE9JevXqZOu1n1+k+wWpLOKratCVVkNeWvvnWB36DpS50XK4fuXm0c8FpqjzWXtXt/PPPN+ur6rGw1IB9bC/b2ldTfEA1NjYmxosI1k2bNiXysEGwekwONzZKfUOD37Vu4OWf+97brYKdAKJYb/VT//W2gayApbopLNW8pmiLPlqfaYqxtff10ksvyc5dewS35uv6pC6w1GOkApN+sFPL1faqVWvkqaeeNiZRB2iKMtS7x7WjVgFg3367+Xy/8IUverbXY7l2Mhm/tmFKBagAFaACVIAKxEuBEydOJB5Q9cQTTyRODuXpXlhGwG6H/vqQK7s8nZ2g6glWCdeCBFC0FW9/aitYBSAtLi5OAFQFqZmm6JtLyBoqWAX0xO3JuB0ZW1hQFcfxA6uAVAqeNm7cmLjF2g+sgnyjzguAqR0v0ORVpu2ZpgaxcQGr8Bksd2HPNx7YZj8UCm1mz56d1CYVSIUtux7gU7f58+ebJQj0ePPmzTMPYdO82xf5FStWJPrjgW3du3c3oFb7wP/37t2bNL5Uvs2I1aAuWZPtPPjku60GnpmC0fa2w9ja+/qHj35MGo8clddff92kQa+xqlGkGzZskpdfflk+/vF/koOHGgVfVF555VVZc9W6lEBXo1YBfu+445tmnADBGCcAq/0iWLXV4D4VoAJUgApQASqgCigQvfvuu82a7z/5yU8MIL3vvvsEPzJ7vVCOKFeAVLTHWvHoj7wNaL36hlVGsBpvEEbQyfkN0gdaC1axXnKXLl3aDFRd8ApbsBnkOWViK3SwqhGlYaeZgFUAKqxpqcDJjVjFrdSDBg0y9QSrqWGogrgg0jiAVfgLop1dPfQBUloOSIkfGTSP1AanyOMHANs3/XzRbTdmzBjzg0Aq23Yd9rE2LIAs9vHgKyyFcfTo0aTxEaxmP2IVF8YLPtL6aNL2QtN0/TGmIF4uWMW6p4899liSaY1U1ajTVKkbLaq3/HuBVRwED7fSaFm3rw7i9tu/lmijx8Zaqk8++ZQ2MSnBapIczFABKkAFqAAVoAKnFMAPunoLv0ac2qm79irydr29Dzuwl4sXwSrBWyZgiW3oJ/CBTMGqPjDOBaNB5REwls2Hz8UerAIKYcOTzREerNGCgFmAV1qPJ7cDKqEckAkwS+s0RRnqkNd2yPuVaR3T1JA26mDVy1fgIzrvQ4cOTTxl0i7Xehesohw2sSYwYG3Pnj0TtrSPpoiQxToj+MFg1KhRLdp52da+SBH1ig8v2MFSGWvWrGlhw8vf1QYjVsO7vL3+zrfyLmoVYwriZS8FMGfufLnvvvsFt+Dbr/aAVdj52c8elpXvu9xEmV61dr08++zvE+bfeOMNwfqrAKZ+YPXkyZNy5113C8YHCIso158/+mjChu4QrKoSTKkAFaACVIAKUAFXgddee03uuusus2HdVVwDPfDAAwagIrVfWo6I1meffVZ0nVb0f/755+2mWd0nWCUwIzSlD2TqA5mAVUSUBgVQ09nJVvRqrMEqoJJuLrzTck337duXBJS03E0BlLRM4ZJfmV3PfX+46s5N1LRSf3BT+zzq6upk165dST6m9dpP83a6fv16zz52G6yRiuhVu0z3U9nWNkg3bNjg2R91qWwQrIZ3Xfv4cyfzDqxiTHxRASpABagAFaACVIAKtF0B3N6PaFT3wVYa3Yr6fHoRrBKqZQrV2I6+kg6s4uHZ6WBo0PU4Zti+GWuwaoMj7vuDzVxrE3Wwmmv9cnl8gtVwL3s/8PX8iVrFWPiiAlSAClABKkAFqAAVaJ8CiFq1b/N391GfTy+CVcKysKEU7cfHx1KBVdwlHjQ0zdQejh2mnxGsnrqVP5dwqtCPTbCav9A7nW8SrIZ72fvbF/MnahVj4YsKUAEqQAWoABWgAlSg/Qrgdn8XqCKP8nx7EazGB3qFCZZom34CH/ADq7mIVHWha5iRqwSrBKu+t4Cng2pB1ROsEqwG5Uth2Dl2LDcPr9KL6lsfeCfnSwJgDHxRASpABagAFaACVIAKFJ4CBKsEZoSm9IFMfcALrGZzTVUXprr5sNZcjR1YxXqT3KKlgUY9ct6iNW+YL8zdgQMHYv2eO3TokDTs3y979u7N2ZX0dbfnbkkAHJsvKkAFqAAVoAJUgApQgcJUgGCVUC1TqMZ29BUXrFZUVOTs9n8XqmoeYwraVw1YHTt2rER9O/fcc2XChAmyd+9ebhHTAHCO8xZNv8Xc7dmzJ9bzt3v3btmxc6ds3bYtZ1fT7/xVZOdNb2Y9chXHfOfdnJ02D0wFqAAVoAJUgApQASqQYwUIVgnLgoZQtBdfn3LBalFRUd6BVYwpaB80YLVv374S9W348OEyefLknN/WHsatyHG3CTgX93OM6/lh7hC5Gtfzw3nleikAvZZ+9URTVuEqoCqOyRcVoAJUgApQASpABahA4SpAsBpfCBY0XKI9+ooNVoNaAuDMM8+UoLeg11s1YLVHjx4S9W3IkCEyZcqUWAOeuMIrglWusZrPvp0vYBWX84gezcayADgGI1UL9wsUz5wKUAEqQAWoABWgAqoAwSphGYEpfSBTH7DBapcuXfIuWlWXA8DYMj2nTNoRrPLhVTmH0QSrBKsEq3rpmlka5gOt+KCqzOaAragAFaACVIAKUAEqUAgKEKwSqmUCltiGfgIfULBaVlaWt1BV4SrGGJTfEqwSrBKs0gfa7ANcCiB3l9O/ffGkfODrwT3UCrZgky8qQAWoABWgAlSAClABKqAKEKwSmAUFn2gn/r6kYLW4uDjvwSrGGJRPEqwSqrUZqgUVZciIVUasBuVLYdjJp6UA9ALXTh9/7qRcf+dbsuAjJ1r9cCv0QV/Y4IsKUAEqQAWoABWgAlSACrgKEKzGH4YFBZdoh76iYFWjQtub9unTR8aPHx8apA3KZ0MHqxMnTpSVK1eabenSpTJ48OBQ1nPlGqvRhnNhADHaDN8nGLHqXnrmNv/gk+/K5773thy49U258oYTcumHX0/AVuyjDHVog7Z8UQEqQAWoABWgAlSAClCBVAoQrBKWBQWfaCf+vgTAGNQyAGCHynTCgqtBLQcQKlgdPXq0LF++XABX8XAspAsWLJB+/foFDlcJVsOHaOrUQaeMWI323DU2NiY+8IL2jXywl+8Rq6kuhFlHBagAFaACVIAKUAEqQAXaowDBavxhGIEn5zgoHwBgLC0tDSzCdNmyZQnWMG3atMDsaiQtxhrEuYcKVmfMmJEEUgFUL730UgFwBWgNciNYjTacyweAxjG03ocYsdqey1T2pQJUgApQASpABagAFaAC+a0AwSqhWxDgiTYKw48AGIuKigIFoDZcxb5C0SBSjDUI38w6WEXEqkawEqy2HmTFEf4xYjW6fkCwmt8XwhwdFaACVIAKUAEqQAWoABVojwIEq4UBxIKAS7RBXwFg7Ny5c6DwEwA1LLiKsQbht6GCVV1fVUGq5hHJGiRUhS2viNXzzz9fRo0aJSNHjpR58+aZdV4VTK5bt06mTp1q6lA/adIkWbVqVSLMeObMmYJN29spytE/XZldz31/eBgHsNrQ0CDz58+XAQMGyJIlS5J8Y/Xq1TJu3Djja1hv2PWFbdu2mX52+e7du2X69OkybNiwJL+122B/165dKdvV19e3sO3awIfUiBEjZPLkyS3GhrYIuXf9XW0QrLbnMpV9qQAVoAJUgApQASpABahAfivQo1cvqaqpkYrKSrMBIHCjBlH1gcrKykBAWhAwLo424BedOnUKHKyGBVcx1iDmAefdIWjIadsDRNWHV2EZAESsZgusdujQwQAhQKFFixZJr169BJALUAhldj3GVVtbK4sXLzb1qcAq4JkLmrzKFD4x9Yeq0CYOYBUQf+7cucYvXN8pLy83cHLWrFnSrVs3A0PVJ6655hoZNGhQC/gJ2A+ounDhQuOn27dv94SeaIPjwTYWXoY9tb1nzx4ZPnx4C9taj/SKK64w9fDns88+20ST2/WAxKl8m2A1vy+EOToqQAWoABWgAlSAClABKtAeBRixyijEIMATbRSGHwEwBnGLvp8NOxgSfNGvXWvKg/DN0MGqDVnxVK+lS5dmbSkABacKigCPAImQV7CqdZoCfB05csTAKgArLbdTL9DkVWb34b4/XI0DWMX8A2TqPMP3sA+QjzWFtRxR0upX8EHAfNsv0e7w4cNSUlKS6DNnzpxEH7WjtvFjgZYhIlxtowxjuOyyywy41TZu2r9/f9MG5Yi6xXHh/8jDFsaeyrcJVttzmcq+VIAKUAEqQAWoABWgAlQgvxUgWC0MIBYEXKIN+kqYYLVPnz5y8OBBwyoOHTokyLcGoPq1DcJvswpWAWkAVrP18CoFqwBXoNlYFuDKK680E+EHVhFdCFgEqGRDKhtIKWiCDd20zG7HfX+YamsTB7Bqnw9uz8fSEyhDBLS9HojtV/AdtEEK/1Eb6F9XV5fIu/XaDrZtaIuobCw5oPUHDhxoYVvrNIW/43iaxw8LWIYA+auuusqkqXybYDW/L4Q5OipABagAFaACVIAKUAEq0B4FCFYJy4IAT7RRGH4EwBjGUgA2VMVSitXV1YFA1UgsBQDoA/iDSNV+/fqZZQAQfWdHsQa177XGKsAqoJBuXbp0MbdWAxoBVmlUoUIlpIgARJ0NwOx67MOe1muaCj65/ZlPBq5xAqsrVqwwHyQ6x+offnmUu+A0VR5RpbphDVbYV9tuPy/b2ldT9z3g5cdeZXpMgtX2XKayLxWgAlSAClABKkAFqAAVyG8FCFYLA4gRfHKeg/ABgNWgH14FnqiRqoCqXbt2DQSqIoI1Eg+vAjS111jFOqYArEHBVNuOH1gFbFIItHHjRkGEngInFyqhvKioKCOwattFv1TwSY/PNBmoqh5xAat4yFPfvn0T/obzW758uXlImp4rQOgll1yS1MYFol758ePHmz7du3c3Pgw/RlQs1mJV23h41tixYxN5lLu2AH7RF9uECRPMUgT2+q1YCsCOYIWNVL5NsJrfF8IcHRWgAlSAClABKkAFqAAVaI8CBKsEbkEAN9ooDD8CWAVT87vtvrXlykHAJYKGqhgLxhqEb2Z1KQAbhAa9nwlY3bBhg9TU1BjwBODkglUsFwAwhjUu3UhDhVd+oCkVfLL7cr8lXI0DWIW/DBw4MAlqYq43b95s3qw673hQFWCr5pG68BM/AOBphdoGIBYPx9K8pm47LAPgtnNta19NR4wYYSLJkd+xY4d5T8D/tR5pKt8mWG3PZSr7UgEqQAWoABWgAlSAClCB/FaAYLUwgFgQcIk26CsAjKWlpYGAVUSqKpcIA6oCrGKsQfht7MEqoJBuWAoAUbOYHAWrWocU9ShHPUCZXYd9lPmBJtRrX518pi0hqpcmUQermHc8BEo39Rs91zFjxpglJgD/EbGt5ZqiP/poHil8DT8+YF1g/ADgRpFqW0Sooh1SLGOhIfJa72Vb65BizWNEr+KXIKT4ccGux34q3yZYze8LYY6OClABKkAFqAAVoAJUgAq0RwGCVcKyIMATbRSGHwEwlpWVBQJWAT7xvJqwoCrsY6xB+GaswSqgkr3ZAM8u1308WUyhkpa5Keq1TNv6ldn13PeHrPa8RFEn9Qc3tc8F0aX4UMADpexy7Gs/t/zIkSPmdn8/qKrt9+zZI1gGAOumapmmfra1XtMlS5b4/jCQygbBansuU9mXClABKkAFqAAVoAJUgArktwIEq4UBxIKAS7RBXwFghB8AWga1BbmmqjumoHw21mBVoRFTf6iZD9pEHazmg4a5GgPBan5fCHN0VIAKUAEqQAWoABWgAlSgPQoQrBKWBQWfaCf+vqRgtbi4ODCw6sLQoPIYY1A+SbB6XX5Dx1wBs2wel2A1uj5IsNqey1T2pQJUgApQASpABagAFaAC+a0AwWr8YVhQcIl26CsKVoNcDiAokOraCWoZAPg9wSrBaovbx7MJVXEsglWC1Wz7XGuOd+zYMTnc2Cj1DQ35fdXL0VEBKkAFqAAVoAJUgApQgYAVIFglLCMwpQ9k6gMKVtEezzByYWa+5DG2TM8pk3axA6uNjY3CLVoaaNQj5y1a84b5wtxh3dg4zx3WXm7Yv1/27N0b8GUqzVEBKkAFqAAVoAJUgApQgfxWgGCVUC0TsMQ29BP4gA1Wu3XrlrdgFWML0mcNWMWTx6O+4anoeLI5QA83akAfoA8E5QM7duyQrdu2yabNm/P7qpejowJUgApQASpABagAFaACAStAsEpgFiSAoq14+5MNVjHXRUVFeQdXMaag/dCA1QEDBkjUtxEjRsikSZNyflt7a24xZtvmW+ABwKhFNJcDwNwhWjXO88elAAK+Oqc5KkAFqAAVoAJUgApQgcgoQLAabxAWNGCivcL2FxesVlRU5B1YxZiC9lMDVnv06CFR34YMGSJTpkyJNeCJK7wiWI0mVIU/EqyGd03cJE3y2tt/kRdOvCTPvf4nbtSAPkAfoA/QB+gD9IGs+QCuP3AdgusRvgpbAYLVwgZlQQMo2ou3P7lgFfOdT0sCBL0EgPozwSofXpVzGE2wSrCazz8a5CJiFV9iXnzj5ax9eSK4JbimD9AH6AP0AfoAfcDLB3A9QrhKsFpTWyvV1dVmU5DANN6AjPPL+W2LD3iBVdgpLS3NeeQqxtCWc8qkD8EqwSrBKn2gzT7AiNVwLrQRIeL15YZl/NJLH6AP0AfoA/QB+kC2fQDXJXwVrgKMWCVgywQssQ39BD7gB1ZRV1JSkjO4imOH6aMEq4RqbYZqQUUZMmKVEatB+VIYdnIRscrb//mlOdtfmnk8+hx9gD5AH6AP+PkArkv4KlwFCFYJzMIEUrQdL/9KBVYx17mIXA0zUlX9NzSwOnr0aFm8eLEMHjw4af3WOXPmyMqVK802ceLEpLr2rPPKNVajDefCAGK0Gb5PMGI1nItsvy82LOeXXvoAfYA+QB+gD9AHcuED4Vzx0GoUFCBYjRf4UhDElPMahg+kA6s4ZjbXXA1rTVVXu1DAKqDq8uXLZenSpUlgFSBVy+z99gBV7UuwGj5ECwtUMmI12nPX2NiY86jnsHwTdnMRsZqLL0w8Jr+o0wfoA/QB+gB9gD7g5wNRAIAcYzgKEKwSwLkQiXn6hJ8PZAJW0beiokKKiopCWxoAtnEMv3EGXR44WJ0xY4aJRkVkqkJUhZ8ow4Z8v379ZMGCBRJU1CrBarThXJhgjLbD8w1GrIZzAev3pYbl/MJLH6AP0AfoA/QB+kAufCCcKx5ajYICBKuEaEFDKNqLr09lClbVBxBR2qVLl8AAK2xlK0pVzwFp4GD13HPPNdDUjUhVkArwaoNVzSt8bWtKsBoePAsbTDJiNdpzx4jV4C+J/b4w4cm8b777Np/OG7zktEgFqAAVoAJUgAp4KNAkTebaw6OKRQWiQL6B1crKSrNOYyp40rVrV9MGbW34oftar3mNnkOUG7bi4mJBm2xGvOlYmMYXOhbC3LYWrKomZWVl5n3XsWPHNkFWvGdhQ+1lOw0crCoY9QOrdoQqolfDBKszZ84U3ebNm2ciaRUSrlu3LlGnbbZv3564pVnLtL2dog7905XZ9dz3h4dxAavqU65vHDhwQJYtWybz588X28fUJw4fPmx8UfOarl692kR4e/XRNkjRbvbs2Z62UQ9/tdu7+7t27RK8P7B8h1uHPNZKds9J2zFiNZwrai+wCqiKLzcPP/ywrFq1yvxAVV5eLtyoAX2APkAfoA/QB+gDYfgAvtfhmgPXHnwVrgL5BlYBTwA/04FVtMH7wgUsgK14Qrj9QBsAVDuPPjiOW+baYp4QlD6Q7ANtBau2jvrew3u4c+fO0qlTpwRsxT7KUIf3Zy5hqj3mWIPVDh06JMFT5AGhAIUAitz6mpoa2bp1q6lPBVYHDBjQAjR5lSl8YuoPVaFNHMAqwCR8YO3ateaf9yWXXJKAlH369JGpU6fKtGnTpLa2VgBabZ9AP2x22eTJk2Xo0KEGmKJPQ0NDUr22HT9+vIwdO1amT59ubLvtvGxrX6Tr16837wOMG8dxISwupvE+IVhtlPqGhqxdUXuBVUSq4osNvuSE8eWJNvmlnD5AH6AP0AfoA/QBLx/AtQfhatYuA/PuQPkEVgFAEUmKLR1Y1XY2/MC+QhsbmnqBVY2M9Yt6de0ynwzYqEdh6hEEWI2i72QdrGqEqrs0gEa6tjX1WgrABUKIGlSApWDVhkzbtm0zwOLIkSMJIGvX6z5suKDJq0zbM40/WMX879mzx8BPwE38I8e8Y53hYcOGJaDouHHjTAQo6uBDCHVH5Lb6JcoPHjxoYKb6Dfx25MiRCRtajh8JevXqlSiHbdjSeoBS1Nu2tU7T/v37y2WXXWb6YPy4QNE6QFbYcN9HWo+UEavhXPt6gVVEqwJ04wvP+i0b5ZfPPi5e7VjGtffoA/QB+gB9gD5AHwjCB3CtgWsOXHvgGoSvwlQgn8AqvmPBH/GdJR1YRTvAU/t2foWlqIMtBTheYBUA1m6jbZkWJjDkvGc27wSrPXqYSKi2gk23n7sUAOrtW/8VrNpLA7g2WpNPBVYBsLChjUbkIQ9gZEMi7ONDdvfu3RmBVbWLlGA1NTx1dbbzcYhYtc8H0avwNZRddNFFCZ9D3o6Eht/s3bvX+KYNPwH47TzaTZgwoYWv4hb90aNHJ8r1YXA6Ftg577zzkmxpnabwdywFoHncFoMxIY8LaIW8GIO2sVOC1XAusL2+DOFI+EzEnBGqFu4X5tHX/1W4UQP6AH0gLB/w+v/DssL9n4O5xzUHrj1wDcJXYSqQL2AVfqgwNVOwCjhq3yoMG4ClGvmqsAx53Fpsb4CyjFbNDKapjkypF8FqFsCqDVvt/dYAVL+2fmAVgEo3rMcAWAQwBFDkBVZ79+5t6mwAZoMk7Ks9N/WDT25/5pMhbJzA6sKFC6W6uloANTHPrh+5ebSB38CX1C/S5bWda8vth3ZXXXVVkm3tq6n7HsA4XD9mxOoxOdyY+6UAcCmPi0Fs/JJbuF9yw4IptEtQRx+gD8AH+P+lcP+/pJp7vf4oTKzIs84HsKqRpgo6MwWrbj+NeEW5HY3qFbEKvydcJSgkLG6dDxCsZgGsAooianXlypVmCypaFXb9wKoNiTZs2CBYRxVQCeUuVEI5IvZQ50IrBVFIveCTV5ndh/vJMNXWIy5gFVAV/3y3bNmSgKRYCgC+pOeLfXv9VZTD3zIFq927dzeLNWPB5rlz5yYtEYCHY2G9VT2Wl+0VK1Yk+iMKFhcV9sOx4P92BCtsEKwSrOLL1m9efkYW/NsW+eD9n4rlF++fHf+VzP/SJhnwsRme5/i/Lzwukz67TL706Ddyev6EX4Rf9AH6QJg+kAqusa5woWuYYPVnz7wjwxpfkG/+71sJgtlw22uC8nx/Xf/t16XXvuNm23rzq4ENF+cODfLllQ9gFSDVjjzNFKwCitkwVUGpC1LdvMI0tIf/a55p6yAb9So8vQhWAwarfpGlYZUHAVYBXhFtuH//foLV6/xBqA3ugtiPA1gFsDzzzDOToCq0QcQo1ilVnQYNGiTLly9P5FHuBVYBPLUPHkyFh1Qhf+zYscS2Zs0aA0a1HdZYPf/88xP9vGzb/bGPB2QtWrTI9NmxY4eBqIcPH06ygXVaMUY9jp1yKYBwLnm9vrziSPrFxqs+7LI4gdWnX/29LFF1uVMAACAASURBVP/KDvn0Q7caSPrsn5+Xq77eYMDqD559yEDkJ195Rv7uh5+RB//4v6ZNe8DqH19/QXbc+X459J1/EOx7zdV/Pf3fMvGzywSpW//9Z34sF37xSvmfPzxilgG44kvvyq2PnJRfHm+SE++IfO3Rk0nLA2z66rvywl+SffNkk8jvX22Sv7n3dNvP/OikvP62CNIwQc32r70rP/htkxy6611zHIz3nXdbHvfKW9+V514T+eNrTYJzdMf0o2eaz/eLPzkpf3i1ybRFH7sdzuXtd0W+/1RTUrndZuon/yrffKzZFlR696TII881iWvL7uO1//EfnJQ//UWkSZo37KPMq22qsiU3vSv3P508nt++3CTXfvu0LZ3Tp17yPy8cA+cPbd2X+ghS9/XWX0V++ofWn3+qc8qkDucCP8W52e1d/whivrzOW3WAX+H47nHtMaEN3iuHT/mw6ow+djt7njDux15oklffFKn/ZvI5os/Xf9E8V//845PGLuy79mzbmZyD3d5vH7qn8iP38+e2X94p827ZKL966akWn01u2//+/c/k73/4WcFnrFsXRP6xl56Sdf9xQAb948Uy4GMz5cqv7ZOf/yl6643jB0r8UIn/q0HoYtv45q+/Jzc+9G+C/2t2eXv39fpD3zdBpX9+s0kAJH99/K8mff7VkyYNElIGNVbXDkCwPU5AVmztecEeQO3ED74o0CJfXrkGq/hehOAP+zZ93Qf49IJ3ClNRB/9F3oazLkh182qTYLXwwKDOPdO2zT3BakzBqkaeIgXU0of7ABQhEk/r8XAgfEAjmhbgCOUAWrNmzZILL7ww0Q51XtGpXmU2gOK+P6iNOli9+uqrTaSq+pKmOufwjbPOOsvAUfxT13JNXbCKcqydigdLXXrppcZP3ShS7Ttw4EADR3FMAFCsiap1SL1s2/VLliwx9mfPnm2iuXE8ux77qXybYDWcS16vL0A4kn6x8aoPuyxOYFVB5Y+f+7n54vnzPz0hUz63Qj7z0y8nvoj+8Pc/lXGfXiKf+PHNpqw9YBX2Z/3rOrnzyfsS9t35SgVW/+GBzxvwiy/KCm4AVH/9YpMAirkwRts880qTATaAQZ964KS8+LrISydEADoBXQCHsgFWP/nfJw0AvuVnzRAK4/UCqxjT3Y83n9PH7vcGVk++1CQAVgDLfz0pctv/nm638F/eNZr83wmRPd9oCbIUNAFoQbd7nmjW5/ZHm/OAi9omXfq5B5v7PPFik3zk+yfNhn3YRV26/lqPMT/+pyajh44HcwVI+9qbIsfuabalc5oKiMEmdMGcwgbmXTcF1ar9Vx45XQ/IjHH/4niztjq2sNNMwWoQ8+V13qoNtMW5ahu8L9xzbwtYhY2bHmr2dcyLbRM+DF9WsIyxZAJW8b6x5849B/sYfvutAav6o1Djd6/3/eyyP8vweYnPTXx+2uVB7OsPYOd/4QrzA9R3f/cjmXvLhsRnYxDHyJaNMMFq3T1/KzP/ZXVGILw156vXH2Fc9QBQatQn0vbCyTDG6NoEEF78if9LGnd7gaht047edY+di3yuwaoX4GpNxCrALAAp4Cz2Yc8FqW4ebRAhi37ax2scLGsbfKNu8dWNYDWGYBXrqeqyA0htgAfgZNdh/9ChQwmohCeuu9vatWtNPfpiswGUV5ldz/34glWdeze15xxA/+KLL5b6+vokv0Eb7We3x/6mTZsED8Lyg6raHssNTJ06Verq6jK2rX2RYimAKVOmJH5UsOuw7zc+1BGshnN56/VlB0fSLzZe9WGXxQmsAhIgglSjRzOBppm08ZuDz/3sNhMhmyqKyw+sPvHyb00kLaLGYB9AZt1XmkGQH4zxg3CAOwBoCo6yBVZdwJMKYH3o3mYI+70nkyEnxoqxK0hFlCfAMSJcNdIUbRCtCkDpHlPzAJnoh0hCaKnlD//xNOTSMr9UI2thB+PQdl5j0jq/FNGKGPN//jJ5zH/3vZPyxjsiqoPfnLp2oS3A8s7/OD0uu42f9gCHf3lL5OCd3v1sG0HtZwJWg5gvjNfvvO1zSdWmrWAVP2Lgx4xfvZA8v0fvaQbgiFTGGPzey5mOz26Xbr81YBU/PiFaHj9G+X2+Zav81y//zkT9/+cT9ybGgh/DsEQLPp+zNY4gjhMmWA1ifF429PojnKseWs13BaIOVhWSIsBFgZ4LUpHXKFhNAVVRrn2YxhcGcm6Dm1uC1RiCVRcQMe8PN3OpjQ28czkOHrv1/kGwGs6lsNeXGhxJv9jY9YCDX/7Ft2Tq51dKv+svkFE3zJe//cGn5Zk/P5f4oplJmz/85bggMnLEJ+ckbrHcddcHZcN/HjJ2vMAqQOGR734s0QdrlOJWUHt87j5u21zztXrfWzmTbc6QC76wSv7zie8kbCrgPPrdj5soUKyJOvbGRUYD6DD+M0uMDpM+u1y+9vi3E/10HC6oBNA8+5NzTR/op1/S9Ti6pqqbhz3clrrtm8fMueDWVJyXe1uqRllBWx0DUug09+YNZk1XjH/P3R+SCZ9Z2mIpAES5ItoVUa/oZ0MTPxjjB+EQPfemB1j9n2eaTHQkfAxRkjf/NDm67rM/OmluZ8Yt77htHpGNG247DeCwvIDeEg/7D/yuSV55MxngItIO4ArjTwWwANJwG7y7HADAFsZmgz+FkoCt6IcIXo0AxHFUn5/9oRkaom7H19+VujvebXH7+Y+fbZLjfxEDrTVC8h9/eFqHOx9vMqDzw98/KYimBfR0oxBxTO2LNoBqsGkDWI0O/fypqFZo5QU0AX0xTr2F3G9ObX/APuzZGrj1ftoD4NrjwPHt5RIwr8jbMNq1beczOfdMwKrqgPO37dvzhXLAbiznAP+En+L2e9uP/c7btpmqTVvBKuwjEtpdDkD9RH1MffWHv21KvJfwQwJ+JFDNU41PzwPjRGQ69MF7Dlo892dJLMOBdtD92VeazPsYS4Rgs9/T9ueU/aMQPpuXffkawf8FbYPPt1W31yV+qMLnpX6Goo37vwefz//88FdNufa17d3+2D1y7qcXJUCuVxs9NlJ8rl7yr2vl8f972sBVdx1srx+s7nnqh+b/Cv53DP2nWeazF0u/wJ5+zjfee32iDT6fdcz2sVPt6/9T/D/G/xX7vNEPYPXSWzbJ+7//icT/TyxPY///gN4fuv8G8z8dNtxx2GPF/39dWsCFtvgfjjlq+PbfJ/7vbrnjiOg5Yzz4X4blcLC8Aq4B8OPjnJvXJ60prtcfQV312NGZGq3qFamq669qG6zF6rX2qt5Cr+3sW/R1zLi1HrfYa5tMbbVnXPZ5umOy63RM+RapqtrlI1glCAsOhFFLahmkDxCsEqy2iPYjaGs9aGuLZgSr2dG5LXOTrg/Bql5yBpt6fWHDEfSLjV1/y8//04DBj//oi+ZL4b89eoeMvmG+/M39NyQiMjNpg/VGh/zTJaJ2sEYbgKMfWMUX5j13/01iXVI8/Al53IL46J9+nfjibY8VUHPxrVvlfV/dLVjLFBtg7JIvbzNrzeFL9PZvXWtuy7/7yfsFNrEuKc7nnqd+kPTFF7fuo81PnnvUrLk38OMXysU3XWXApJZ53Q6JL+64fRRfxHVs+gVVISrK3TI3jy+977ttlzk2jvejPz4iq/59rylDndrGOSLiS9dqRTnWKgQsxbmrDtAEegMEaF+kgA4HvvORRJkCFKQKYwBc7HIvCLf/W82Q7/k/n17TEhGegC+vvNEMQT/4nZPy9P81r/WJyFHYRIpblBHRidvSAQQB4PS2edxyjwhJgFXARGxYyxV2YR829Dg6znSASKETbKG/no8b9acwFVGrgMZ2RCv6qT4ov++pJsFSBOiDOnvTc9DoQcBbQFzNA2zhtm0AUvT/6s+bo0z1/GxbKAOExHhQfuP/NOcRkYo5AGB78NnTsAznlAqEqm3VAFBMy7xSADVAXywVgRdSLHXgB+dQfsMDzXOKJQlUn2/8snl5AF2eAOAVc4q58TquV1m6c88ErHrZdecLbeCP8Ev4J/wU/gq/VT9O53OwkapNe8AqfAI+qCBe/cn+8UB9FWPGDwU4B4BizF9rzgHjBEyFtng/48cH2AQ4VS1RB5gKP8Rx3KUw9PPnt6/+QVbctjNpiRREiOJW/F+++BvzmYTPNcBMfK6inwtW//1Xd8u4Ty8W/F/CZ+i/PHK7jL5hgaAc7fH/RsEo8visA0REOfIPH/+VTPv8+0Qj9lGmG/4n4H8DfkhEmfsZjTIXrCICF2tZ4/8K/r/gfwj+l+hSB2rD/v9yzbeuM7BRl3LRNhinvdlAGUAaY9PzxvkAsqoNwE+AXdjG/4+7nrzf6KjjwNixj3EABCNa17Wh4xhz40L56P98Qf7j8f8y66p6gVUAU/wIinPG9cDIT81LLHODH2GxVq17zhif/T9Rrz+aP1na91eBog0aFXraYFGhql2GfXf9UYBPG36qLdc+bt231y1FHxeuog/aYYx4eY0BNjKxpf3xECqM2z6WlwZum/apHGxvglWCtyDBG23F259yCVaxfMf/Z+9dwO0q6zv/PM8AJgQIIARMgHAJhggJCSQQAhhQINwTCAgEkVsSCETI5ZwEcjBq52JHe3Pa2k6ttXbGTqe2M1Otnf/YWlun7djRqa1jb7Zqp62VAuIVRJC8/+ez4nfnd96z9j57n7P32rfvep6Vd6338nvf97t+2Wftz/6td8WX3FXpa8x7RqdeKFWl3bKXV00GhVzeG0DPYLU3rsNU/j8YrLb3xlXW9MUxppTpi43y9cU3PtZO2U9/+oOJiE2+lE6nDlC1HlgFCPJF8iNf+N3aF12+tJFH5KjGGFPy+ZL9v/7xs7Vy1skjcueTf//pAjKyPl/8Es2Xvtt/bXva9OG9BSjWl8kP/Nl/rdlQ1GnMY1zYwr7GAAxGq/jllTLZjF8i87z8HJDAXCMw5QswebHPuD6qxoEOwIX4eG0OAKhbtjar4AipYIyApcoE4eRPSr/1Qko/FtYuBfgAbohIVVs9oqxH0FmrE1D3wR+sj0o94NUvfebldOXPHVjTE5CoyDvKsQvMIdU5UE7jbASwqC+wqTEAh+iDlPK487Io5sDOC620LAB1pA/rtsY28ZjH91kblchSrT1LeQSeaAK0I2qVskbjZ85xrtRXBO/fPL2/gNBx/dd6cDGOkWNdU+rnZfEcWAao5fqw9iugnKUGdC0Ye76BD5ivopBZagI9/uyfDgJgYCAvSyMv9jfZ8VTm3kjfeteLaGWiMLU0w6O/8f3iOsUXpuXz5jxC7TJtYht8Gp9izmXXmfyy66SlI/TDgH6skD/RrsxX6SMC2Xrji3MArOZLQdCvorHpCx/CLwTbyaOdomr1OZWvRU0+YBIAJ5AKQORHIv1QFcGq/vbEH4b4DOblU0RMYo/PvYt+/g3FZz82rvvg5rT5w2NFhCU/tPE5Dsjlb5nGRQqMBLg++JtvqT2dkX9Gy358KSCfzfxd+K9/9ds1e8DVD3/h44koU9mIf0v4QZDoTc2Devx4SN24k0cZ/b7jD362+KHvL5752+KcH9v43NffPuBnBMq04W8tIBvdOP/rr3252Dlm19j0d0rncW1w6pWBVSJW0ZNyXRddA/6W5393ZVt90U73H/H/xFSPy2AltoCaEYYCPgGYvNgKmMr+2f/3YpFG2Fo2DtrmADavJwArKCvYSfRobJuPK7fDeW5LdaLNCFZVn74EclVX45GNXkgNVgcbhFUJn9zX4PtSN8Hq4Ycfnti74WcGq2/rX6g1FRDWi20MVvvXBw1WO3O7y5eYfKcnfbFRmb78xC+BlEVI10wdvbxJUUKy3wis8iWRiJYYsaPj+GVMtkj5wgdEJfom5uuYdjwOD6BVntrpMUfNJ/YhsJrnxS/U2OHLOdGj1I/2y2zmefk5X5w135jGqFOWT7jhl7cUEUKxv7Iv1fGaqS6RRbTHjvKAINoFYwAuyiMV3CHCkjrsRK997qsHovje8bsHgWcEoLEtoIVzQBWRjES4AWwAZW//7YP9cS4gozEAhKLdHEI1AmfYAPiwBqoi+ohGjC/dUj+qSzQeL7ICJsayevqoDv2wDAJjJWpT+aRx2QQiCAGrihxsJWIVW3osvmyMEeBSN4dnAqm6pjqPY210zFqrXDciOGUf8KsXIP3aD6JvtXYtdaRbvu6r+tH11KcfY2Zc2iLoazR32sS6sl/PPxpdL0FIQCR2f+VPXy58N7epeev/BcstCDCq37wOdRUByzE2pQFt1AdpvetE9LP+nwBU8Tn5E+2kebSX91FvfHEO/L/NNc3z0Ic9jhvbjIlx6LOGzyn9oKU84ByPjBNJr+P4QxWfwfy4xOel/q7Ez0cd6wc7YCqAEThINOdVv3RPYg1VRfkzhggFGQdwlnGxLEF8OiD/jKZu/rnKD3U8FXH6T1xe9Eu06//56udrcy6zgZ34t1BaNEoBvyxjw1IDjJ9I3fjoPfPS3zTZoY+YR/3dv/3O2lIA0k5/5+qNNbddNvaYx99yol4BrBpLmW3df+j/+XRSwOqKf/l0EQ0KtAQuAkoFUgGMbDr/lf/9fHHMOceAyAgfaYsNdoFZ8iIcxZ5gZiOQGcemOeZgVQCU/gRLladx0Sb2z3hUV3bzMeY2VK8XUoPVwYdh3QBR7nMw/WqoweprXvOa1O87b1E///zzi5fpAHu8WwP7gH2gHT6wbdu29ODWrWnT5s2V3dvqy01M6VxfbJSvLz/TBas81klUUB75Er985Wus8uWOqEu+DDOOuCviRuNUyhe+boLVuF6gxkQqHfWFtSwvr8Nc+OLMl9E4d2CC1rdFm7g+qvos0yEHAIIW+dqsEYaUwZhGcEf1gaHUA9xEABrb8kh57IsoUh4L/+q3Dqyz+ntfPFBOVGkeIZfbrQeIyI99xGMemyZS9hc+/XIBVQV6Yx0dRyikPFLNN8KqWM7j7vTx3h+sdxrLAILAXPoFfrIUgAAcSxTQLsJItc2XMSBfj64Dp/NH6dGPa0BULHXv+OABEM7Lq1grUwCsHrBTv43SCNIE56Q9j/6zpm2M9pVu9cAqsB1/oB47Y374vx48j6Cv0dwZVw4BmQdjRF/9AKC5Nbpe1GFczIuoWiKcuX6MTzYBypq3bMY01yaW4QcCj+RjJ49MJl/XSSBbNuQzH/qzlwu9oz9RR5pHX837aDQ+9ZNDVPLzvOgPaodtor5ZGoDPqXwtan12kfKDD599RH+uef/G2uPtlEWwqs/Md/7he8d9RpJPNKZsEgkKKP2h3/+pAtjy94NlVlieBiiZ/+CX/y2SHfUXP8fzz1XV5XMa+yxNA/z8sf/1C8V4ymzQJv4tVB2BTqUCyuqD6FX+PrCOKmug8kPf7/3dHxf95PBTfQisaqkd/i5/4u8+Ne5pDc1P49C5+s1tx7GrTswre/qizLbuP9pxIyR4+d5PPpfe+N6vFxGpgMi3f/hbtehN+gFSAicVpQqY/P2//t44sJrDSNpgqxG0pA7leVv6zCFqWV60Dax93buemTAuQVyBVtpEsFrWd1leO/Ruhw2D1cEEYAabvq6d8IGhBqtnnHFG6vcdMHzBBRd4ndQ+jMAFfvViJK3HNHkkLddubGxsoK/fvn370t6xsTQyOtqOe9OmbOjLT0xpqC82ytcjfd1YCoAv1US55FBXjxtqjDElMoZHDuPj85/+p88VUTmkZY8k1lsKIH6Z5MszkaJ5XoxYZVxlX9IZX9mXyDwvP2curFNH35ojX4b1KCh5AIP4YhbV44tsfEEL+TkAQCOitmIUEfUEQkjLYAz5gjuCcmoDNAGeRLDKeVwKgCg68vQYPoCTiFFsYge4CLgSEKO83UsB0I/AJtAPoBWXGtB8lAKFIvRSfj19KAcaEt1YDx5SByDF8gnYjhBVj3bHl1JRH7BHHmu+akkC9AKyAZ/RjahFroPGyFIG6CdQrfz8GubnqhdTYCfjjfBW7QT6yuAcSyzER861FIDaqI+P/83+xK7zydLJ5o4f5i8kwyb+puhO9dHoej346wciSn8pvHSNl4yhK/PFRtm8ZVtpozo5WEVropi1Dq9s5P9/lC+AjW/QLvoTdcp8tZNgNV8KIGrO5wyP4POjkNZS1WcXKVDyig+8qVhTm/WqgbAq5zNYgPGLX//7AlzyyHn8u8BnJJ+VasPn4aW/cHvxeadlYPhBCchY9oSB2uWpPqPj36T8c5W1XVlrVE8BMA5e6iSgWWaj1aUA/t83v1IsBcAPeRojSwKwBjjQk7wcfpIH7NQ4yuAxT3LwRIf+zmmsOldfue0IUVUn5pX93S2zrfuPpm5iJqkkgHj5u56pRZoCHoGQiibFhAAsqYCp2gpYCmASPaoIUdY0BdLqHFtl9XJbOgeuxi2HrfStCFmOGR918khayjSfHKxqPJoH/an/mBfH0c1jg1UDuE4AONscTL8aarBa5VqonerLa6xODsF6FRQarPb3tTNYbf+trr78xJRe9MUm5ucvpuKLKeurNnp5VVkdvowu+smriuggvlRN9vIqgCfr2wEvsUebX/78R4oIJq0dyhc2HhP9/NMHXmbFF1QihHjJEy97opyXNjV6eRVRTKzLmr+8Kn6ZbAaslq0XKB3LvkTmefm55qIv/pS/+48/kK7+D/cVWgAfABN6WYn6Im3m5VVla7PSVqCmHowhXzAtLgXAept/9+wBmAjMo57ATf7yKuCcHvfXC4g+/Q8HXnRD5B0vqgJ4AovU11ReXpU/cg2sAk5qjsAetggqVRZTgFgrYJUIVUAiUAygFXeiL2UbmEu9MvgnG6zPirbsHFM/RsCyHq2gpaI340uigI8sR8AyAXqZEOD1v//VgWhavXRIOsdrqnETLcqYsUV9wF18iVO+xmoeuSkgHKNW9fKqj/zFAY2IVmYeEdpKp3rpZHNneQp8jZed4VfMm2uCFhE0S+t61ws/RFNgLD6NLvwwwHi1Lq+gae5z1EVb5qA62MjnlINVXTe01Qu+WI+Y/weMgxeV5TZYAgCPLvMnxoEPMwa10/9P5Wl8jeaQR6diK8/jB5eyl1dRj/rAxrK1qPUZpnIiNQUKVRbBKnm/+Kf/pfjRi89xwCCf+fwN+NE/el8NOrJEC3+ztC447fi85mVPrG0awS1lQFr+Pv3mFz5Rs0G+fmhs9FLA3/nyHxU/ar319/5dbTzUZ3kD7OpzXp/rjJkXXeU/otFfo50lBs7/9+uLdVWxqZdKCrbm8BNbEawyFsakF0rpbyWaK4JXY41/C7GT244QVWOOefQF/FZfLGPAS7U6+fIqPtcBkTGCk7wIIjkXfASSEhXKeQ4fVYe27ABMQCe2y8BqhJa5LZ03A1YVSUtd2pECW6P9ODbG1ep40KBXNoPVwQRgBpu+rp3wAYPVE09MnYKeVdg1WO1vONer0NfjauxXjljtzC2vvvzElJ7KwCpfcome5FFDvnTxZZQvdXocHRvN1CGKCJi3+KfWJt4gzKOYPLbPFzBslEXQaA042tA3Y2As9EebX/jsrxVfLv/gH/5P7Uvo5576q3TXfxlJZ7z79cXOMXmaK2vmEVF0YBxrikdOf+Ovf6dWXvZlshmwWg9U0m+ZzTwvP6cd4+ZFK8yFL6GAVL64UwZs5gt7DgU0TyJ0Kafdsp+5Me37xLvTxe+7rYhcRYMN/3lb0pdwtSEVdCEtgzHkC8JF7wTo8Gj5L4Z1SAE3wBygKTCODegTI1ix9x/+z8sFLMIGQAaAyMuBNJZ/9fEDQIlyogQpJ+pVgKoMEMWx6TgHfmqn6Fn1l6cAp1bAKmCp3iaIRR+KTGW9V0Ba3i+AGpCGNXaOBa2pS9QteTz2LWBMhC/z5JFw2cM2IBPtZYv5ABIV+Vp2TTWHGJnMC6iAq9//wTuqsMn1U1+Cc7o2yte4SMljTL/5lweuI/1wPTkv00E2Ytrs3N/1+y8Xa+niV8yd8aJF7KeZ65XPG39mLVzZYd71NgHFetowL+rkPsY15RqhDRua8xItvTAr6sGxXgynl1jF8rL/y/J/+WQzc8ghqsauCHPO0ROIrrWT0Z5oavlaox+F9FlUFnVPWQ5W+VsAXNXfJz7X+XyPa6MC9niaQHATO/p7oxdGqV9SPlMBrjv/x7+p/V1Q+ce//L/SJe+7vfa38LHf+ZHixz7+RqgOf09YyoDPXj67t/7mvvSXz3yxKNfn/J7ffmetDp/PgFH9XZOdRil/f/k7zN9j/jZigx/e9ERDDj+xFcEq5/x9eeN/2VX8PUY3fqSML9HSWKcLVumL+aM/f/vp64GPvKUYc7St+496/49azQdEKppTbYGSMU9gMgJJwc8IMDmOEavYw35sJ1uKNI2pbMk2bePGecyLttRWMFfnag9QVV+xTDZinvqPebLT7dRg1QCuEwDONgfTr6oAq3PmzCleUqWXVSmdNWtWYtd5TGnTSZ9j3jOqAJ+d7sNgtTEA62VA6IjV/r52jlht/+1u2Rc2etEXm7Ly6ebxpVFf+rClL7t6c/B07XezPV/EgZjAzirGoWgjYO5U+qu3Niu2IozplWMiBuNYePETa2QSwUd+Dohi3V4+JoL2699NSbCxl8fqsU0E39ZkaprUW4t6Kp9l/damHqzst3m0Ot58eQaWomHZHn4olS3df7T/jscW+0EBg9XBBGCdhEy2Pbw+Y7DqiNWBXifSYLV/4WWvXzuD1fbfEuuLTEzpRV9sYn67jt/z6Q8Wa8AR2cOXSx43ZN1S1qRrVx+20/jx0Wb06TVYROQqkbB6jF1LBeixch5T/9gXDjyWLdDaa3PIx3Plz72U3vqxl9Pnvrq/mBvRl3kdn08N2lm33tetmc+hQa0zjGCVNWHv/PVdxeP/LAPAfs9/21NE7P7fpw4s48P11v1H++94bLEfFDBYHV5IZkDqa9+qD1QBVuuNSRGq9co7me+I1T582VMvg7apjM0Rq/0Lfb0UQGduh8u+tNITkf98ufnzvz/4eXWMugAAIABJREFU6HxZ3ank8Wjmv/7ke2qPLrI+3Ps++6GWHn+cSr9u0xps7UUwFR+J57Fi1nLV49A8Gs0j3jxOr8fhe3EOcUx6LJvH0t/zg6jbWO7j3oeDvkZTv0bD/Jk8jGCV6/0nT/55bYkelgPgCY8//Ic/qf2oyj0H9x7cg3gbTgUMVg3XOgmkbHuw/MtgtQMRq2vXrk1r1qyZsHbrypUr0/XXX59OOeWUCWVTXTLASwH0N5ybCpB1m+5fc4PVztxgl32xBU9t3Lix+HJz75b7OwJXy/p1Xmvg03pZL/uAfcA+YB8YFB8AqnLPAVjlHsTbcCpgsDpY4Msg09ezkz5gsNpmsApUvfXWWyeAVaAq+Qar3YdivQImHbHav75gsNqZG+yyL2Tf/f730mc/+9la1Koey3N6dPGFzzpYB/uAfcA+YB+wD3TGBwh84R7E23AqYLBqENdJEGfbg+VfBqttAqsLFy5MN910U1q3bl2xx4hVYOuGDRvStddea7DqJQhqa9oarBqs9grkLxvHvn370t6xsTQyOlrZ3XQZWH36+WcTUat8sSFqRMsC+EtkZ75EWlfrah+wD9gH7APD7gPca3DPYaha2S1gT3ZksDpY4Msg09ezkz5gsNpGsLpkyZLiMX+iUiNYJVqVP9DkVRGxetlllyXt11xzTbrrrrtqMO+ee+6plVHn5ptvTrt27aqVq10ZaKGM9rGsLC+W+7g+PBwUsLp9+/bCt0nj9d6zZ0/hX9ddd1166KGHxpVRb+/evYUvxjYc33nnnYkfI3bs2DGhTaxLvauuuqrUNvXwzVg/P37kkUcS/z/40SMv45wfSnJ/Vz1HrHbm/rcMrJIHXCVy9cCqlZ3p21atgBWwAlbAClgBKyAFuOfg3sPb8CpgsGoQ10kQZ9uD5V/dBKtz5sxJ7N3wKeY9A9jZ7p31U3Owqj6qAqszZsyowdNly5YlzoFQQCFAUSwHBs+aNSvdd999RXkjsHrqqadOAE1leYJPTutDVbQZBLAKfDz77LPT3XffXfxHXr9+fQ1SLliwIPGjwsUXX5zmzp2bAK3RJ1asWJHwn5i3evXqNG/evHTJJZcUbUZHR8eVq+7555+faC/beT3yc9tqS3rvvfcW/w8YN2PLIeyDDz5YfDYYrHY/YrUebHW+1/KzD9gH7AP2AfuAfaDTPjC8WNEzN1gdLPDVDejkPofHh7oJVrvpZwMPViMQIipVkElgNUKmzZs3p1e84hUFwDJYbQxDo27TPR4EsMp/YiI/0QK4yaNjHBMFyo8M0ujcc89Ngq7yQaJS5ZfUe+yxxwrYuXv37qIdbYhIlQ2l/EhAvzqnHlGxOgeU0u7000+v5alMKdCXZTs4J5qWNirj/8D8+fOLscX/RyondcRqZ262O/3lyPb9Bdw+YB+wD9gH7AP2gVZ8oDN3PLbaDwoYrA4PFOsmmHLfg+FnBqttjlrtlYhVASGgKaDo8ssvL8CRoFaERBzPnj27ePS6GbCKDe2AMfWV2/R5Y0g7CGA1XmNeznbyyScXfnbFFVeMiwKNfoW/bNmypfCbCFa3bt06DrRSL5arL4AoUbI6B6oSGatz1sSq11Z1AMBxeQL5P+WMleUxGvm2wWpnbodb+aLjuv5ibB+wD9gH7AP2AftAp32gM3c8ttoPChisDgbwMrj0dazCBwxWBxSsnnbaaUXE3nHHHZde/epXJx5tBhoBnFgKQIBJqSBSBGAqU0qdsh2bquO0MUyN+gwSWAVSHnvssWnTpk2FL+R+lJ+jQw4/JzuXdrmtvF2ZbbVVmv8fkP+rnLQsT+UGq525Hf7n555Jnf6CZPv+Em4fsA/YB+wD9gH7QDM+wH2Jt+FVwGDVQK4KIOc+BsPPDFYHFKxG2Mkj2KzzChQiP4dK5B955JFFWQ6tBJJIy0BTWV5s4+P6oHVQwCovR8OntCQA1/yWW26ZELH6ute9bhyAz4Fo2TnrFWPvhBNOSPxIwH711VenpUuX1mzdeOONibWEo6/lthiP2rM2KxA4jveoo44ad46tRr5tsNqZm+xvfu/bBqvf8ZfdZr7suo79xD5gH7AP2Ac67QPcl3gbXgUMVgcDeBlc+jpW4QMGq0MAVnlbO486A4vKwCqPTgOdWNvSYLU+CI3grh3HgwBWWb/38MMPn/Biqvvvv3/c4/mLFi1KvOgq6pbDT84BqKpD/UsvvbQ437FjR7FUBSmQFDCqehdddFGtnvJy27E9x2eccUZi6QLq4/eA4b1799Zskm+wui/tHav25VW8gffp5581XDVctQ/YB+wD9gH7gH2gqz7A/Qj3Jd6GV4ET581Lrzz++HTMsccWO+DEuzXoVx/g+3MVgHFY+zBYbTNYJTK0yv3MM89Mq1atGgeEgEQCpKRALd6iDiwSWI3lRxxxRLrhhhuK8pgfj+uBpkbwiTbe62vQ72CVNVFZq3TNmjXFLn/RNcc3Vq9ena688sp0/PHHT/CFHH7SDt+94IILCn/kmLVYZS+mlBGlyvqqjGHnzp3j6pXZju0ZK/9Pr7nmmsIO57Gc40a+7YjVzt1k8yWGCBEvC+BIpE5HItm+fcw+YB+wD9gHch/g/oP7EEPVzt3r9YtlR6w60nFYIaHn3brvG6xWDELbDV3LwKoAFynANMIpgFMsJ+Jw27ZtNagUy+IxoIlz2kcAVZYXy308uGA19yX5S7zmRIXy6D7LBcR8jtU+z2edVl5+ddttt01oE+sS0XreeeclIq5jfiPbsR7rwvKjBOOO+Tpu5NsGq/1yS+xxWgErYAWsgBWwAlbACliB1hUwWG0dLhnIWbNh9QGD1QEEqwJDTutDzV7Qpt8jVntBw26NwWC19ZtTt7ACVsAKWAErYAWsgBWwAv2igMGqIeGwQkLPu3XfN1g1WC2N1usWsBqmfg1Wext8N/JFg9V+uSX2OK2AFbACVsAKWAErYAWsQOsKGKy2DpcM5KzZsPqAwarBqsFql9aCNVg1WG0Eb7tdtm9f9S+vav2W1y2sgBWwAlbAClgBK2AFrED7FTBYNSQcVkjoebfu+warBqsGqwar9oEWfcARq+2/ebVFK2AFrIAVsAJWwApYASvQKwoYrLYOlwzkrNmw+sBQg9Wzzjor9fu+ZMmSdP755ydAj3drYB+wD7TLB3ip3YNbt6ZNmzf3yv2tx2EFrIAVsAJWwApYAStgBSpRwGDVkHBYIaHn3brvDzVYPfPMM1O/7+ecc05auXKlIw5bjDjs9mPW9A8A64VxeAytL0nAtRsbGxvo6+elACq5Z3cnVsAKWAErYAWsgBWwAj2ogMFq63DJQM6aDasPDDVYPbHPlwFg/IDhVatWDTTgGVTwZ7DaOtDsFV8wWO3Bu18PyQpYAStgBayAFbACVsAKtEkBg1VDwmGFhJ53675vsNrncNVgtb/hXK+AQo+jNT8yWG3THavNWAErYAWsgBWwAlbACliBHlTAYLV1uGQgZ82G1QcMVg1WHe3apWUEHLHaGszsJfhrsNqDd78ekhWwAlbAClgBK2AFrIAVaJMCBquGhMMKCT3v1n3fYNVg1WDVYNU+0KIPGKy26Y7VZqyAFbACVsAKWAErYAWsQA8qYLDaOlwykLNmw+oDBqsGq4ZqLUK1dkVOOmLVEavt8qVO2PHLq3rwDt9DsgJWwApYAStgBayAFahEAYNVQ8JhhYSed+u+b7DaZrC6dOnStG7durRw4cKkl2ORt2HDhnTrrbcW+9q1a2tlqjPV1Gus9jec6wQQs83O+4QjViu5n3UnVsAKWAErYAWsgBWwAlagKwoYrLYOlwzkrNmw+oDBahvBqgDqTTfdVAOrAFbOV65cWcBUna9Zs6YtcNVgtfMQrVOg0hGr/X3txsbGBjra2xGrXbmHd6dWwApYAStgBayAFbACPaCAwaoh4bBCQs+7dd83WG0TWAWUEpFKNGoEq2WRqNRpV9SqwWp/w7lOQVvb7axfOGK1B+52PQQrYAWsgBWwAlbAClgBK9AhBQxWW4dLBnLWbFh9wGC1TWB1+fLl6ZRTTikiU7sNVu+5556kfevWrSlG1ik/po8//ngt8k75ZWCurKwsr6yt8yaCvkGKWOVHhbJr/Mgjj6T777+/tIz6+E/ebu/evelNb3rThPy8Hn67ZcuWuvXKbOc26GfXrl2lNh566KHS8WHDYLVDd7A2awWsgBWwAlbAClgBK2AFekABg1VDwmGFhJ53675vsNomsKrIVB75bwRWtVyAlgZQu6mmZRGrM2bMSKeeemptnzt3bnr44YcLeARsyss5v++++4ryyy67LLHnAIpzbOawqiyvrK3zBhOsvuENb0gzZ85MZ599djrttNPS+vXra76Dr8+aNSsde+yxRXnuA/gZ/hPzr7nmmsI/582blxYvXjyuLNa76qqr0vz584slN/g/EMs4xk5uO9YZGRkpluJgDPj/zTffPMEG4879XTYMVnvgbtdDsAJWwApYAStgBayAFbACHVLAYLV1uGQgZ82G1QcMVisEq1pftV3LAABj64HVCISATIAvoJDAqgARKdGGwCWODVYnAtCoVTuPByFidcGCBTVov3379nT00UcXfoRPAfSl17nnnptuueWW4nzbtm1FdPeyZcvGwc8nnngiHXnkkbU2559/frrhhhtq57JFlCnQU+f8H4j1gLK5bdVVCrRVGyJTaaMy8plHox8NDFY7dAdrs1bAClgBK2AFrIAVsAJWoAcUMFg1JBxWSOh5t+77BqsVgdVOQNVmwSqw9OKLLy7AURlYBSjNnj077dixw2D1bQarAoytpsDUk08+ufAzIkrxO9mIwB4fBMKSxqhSgGs8z8tli+jSGM3KDwcXXHBBra+NGzdOsK22So877rjEMhk6J7J2586dxTljZXkAg9V9ae/YWBoZHe2BW1sPwQpYAStgBayAFbACVsAKVKeAwWrrcMlAzpoNqw8YrFYAVgVVecHVVB/5r9euXsQqEaja6f+BBx4ooFE9sCqIFAGYoJNS6pTt2FQdp82D2UGIWNX1BpTibxs2bKjByXpgVW1ycDrZudpdccUVtR8KyLvzzjuLyG2Vk+a2YhnHhxxyyLi1h0866aS0adOmcX6s/xN5W84dsVrdTa17sgJWwApYAStgBayAFbACVStgsGpIOKyQ0PNu3fcNVjsMVnmh1fXXX5/a+fh/hKz1wGqEnax7SRuAEPl67D8CIx7BpmwysBrt0r4RfIr2fTwRuA4SWMWn4guscj/Kz/EHfAn/kW80Oo9A/8orrywe9Vc7/Pucc86p2SmzzTIEsrFixYp01FFHFVGzssGj/ywJoHPSRr5tsFr1ra37swJWwApYAStgBayAFbAC1SnQa2CVpdCOOOKI4ntMPfDFd3rqULesjspVdswxxxTvxODpPfbDDz+8WJqNfNVx2jpks2bDp5nBaofBql5WBXSKO7AV6Boh6VSOmwGrRBPyqL+AUw5WeXSaD2AejS4DYIJNZaCpLE/1nU6EqVGTQQCr+HQOVZkjPqV1fTlnzdN169aNA5dlIDWudUr917zmNUWbzZs3J+30GeutXr06sUdtc9tqqxS/vf3224s2u3fvLuawZ8+ecTYa+bbBanU3te7JClgBK2AFrIAVsAJWwApUrUCvgdU5c+YU8JMAkXrgDnAKICVoJK8DbIUJ8L1fZQDUeE4+/eR5qu90+IChr3lz19xgtc1gdSpwdDptGoFV4NJ1111XwFJeBAR4Ig8QRspOJC0fnHqRj8DqvffeW6tDPdqWgaayvAi4fFwfrvY7WAVI8ocd0Cl/kq9w3fkQpgzIyh931i2N/kBd/Cfm8TIsfPDhhx8uXn511113jStXXXwY3ybKlJsEgKnKSMtsx3L6WLRoUXrkkUfSa1/72nThhReOa0/dRr5tsFr1ra37swJWwApYAStgBayAFbAC1SnQS2AVAAo0ZZ8MrKpeDsQETCM0LQOrioytF/Wa2/V5c+DNOg22TgarAwhWL7300sRb2IkYXLJkSQ2aCjhddNFFRRnlK1euLMCXoBPAiTz2VatWpUsuuaQAXZRTFsFZvTzZclofqqJNv4NV1jbFJ/Jd1310dDThi0B96ipfKb5EW52TjoyMJNZQJVKVR/xjWTwG1gJG+YOvyNNYXmY7lgN56ZsbD3w9lumY8tzfVWawWt1NrXuyAlbAClgBK2AFrIAVsAJVK9BLYJXvLASqAFUnA6vUA57Gx/kFSynDliBfGVgFwMY6qut0sMGgr+/0rq/B6gCCVcEfp43BZrf16Xew2m39utm/wWrVt7buzwpYAStgBayAFbACVsAKVKdAr4BVAVXAV7NgFTjKLlgmoKrIV+VzrvVVlQJlHa06PcgmfZ0Oj44GqwarpdF63YRWw9K3wWpvg+9GfmiwWt1NrXuyAlbAClgBK2AFrIAVsAJVK9ALYFWRpgKdzYLVvJ0iXsmP0ahlEauKeFWfhoPDAwd9rad+rQ1WDVYNVt/WHcBnsNod3RsB02bLDFarvrV1f72owH/+1Q+lT33qj3txaB6TFbACVsAKWAErYAWmpUAvgFVAaow8bRasAsgiTFUUag5S83OBNeoDWHXudOrAzdoNh3YGqwarBqsGq/aBFn3AYHVa96luPCAKGKwOyIX0NKyAFbACVsAKWIEJCnQbrBIxOnv27AmP6vPIPuCzDNgJplKmx/8jnM1Ban4umwarwwEDdb2dTv96DzVYPfPMM1O/7+ecc05asWJF8SIkYI93a2AfsA+0wwe2bduWHty6NW3avHnCjWYvZbz48kvp2y8+l5594ZvpqeefTU8+93T6p+88NW4njzLqUJc23qavQDNg9W/+5m/TT/30e6bfmS1YAStgBayAFbACVqBCBboNVstgVysRq1oOADirx/pzkJqf0ycRsopwLRuD86YP4azh4Gk41GD1rLPOSv2+L1mypACrY2NjyXt/aQD88jXrr2um68W127Nnz0Bfv8cffzyN7t6dtu/YUeEtbHNd7U/7C0AKLM0harPntAWyYstbcwrw2P+ppy0s9kcf3ZHe//4PTFgK4Nlnn03rb9pQ1Ln4kjXpox/9rVKwmtcDwLZrA+S20167xmU7VsAKWAErYAWsQP8o0O9gVZC00ZqqgFW9tEopUJV8w7/Bg3++pp27pkMNVk/s82UAGD8Rt6tWrfKj3C0+yt3sWpqdrAec66R92+7cGq6C4oOs8b59+9LesbE0MjraU3fAwNCyqNRmgWpeD1vY9NZYAUDlE0/sS88//3xRUZA1rrFKGXUENQVPf/jfvnOc8bJ6gFrqT3WjT0Au4JdIWm9WwApYAStgBayAFZiOAr0IVg3GOgfGrK21nY4PGKz2OVw1WO0cPOs0NDNY7e9rR/Rqp32km/Z7Dazy+P4zz399yhGqOVDNz7HtJQLqf/0AjipaNaYRrAq2xnKOc7Bar950gKhsAmgFf+vPxiVWwApYAStgBayAFWisgMGqQdt0QJvbDpf/GKwarA40HOommJqsb4NVg9XJfKSb5b0EVp9/6YWOAdUcsNKXNytgBayAFbACVsAKWIHhVsBgdbjAmEGor/d0fMBg1WDVYLVLywgYrBqsdhOcTtZ3r4DV5156vjKoKshKn1VsRGgS0RmjLIm25Jz8PIIzlikqNEaMasx5dGm9iFHWQtXj97Id68pOzNPj/fQf+1bdOBc9nh/rMUbV1Ryifc2BVFGoPOKv5QVUrjLZiP2qzlTSfGyyr7TeWKfSl9tYAStgBayAFbACvauAwapB23RAm9sOl/8YrBqsGqwarNoHWvQBr7FazU1wlZGqgqpKOx25CqAE0n3lK18pXvYk+EgeQJXzycAndXLoSPsIGQVMI6Tl5U6f+9zninrKVz2BQ0CmXgK1bv3NBdhUHfqlnfqJc7n33k01CFoGVmmnPvEigVr1Gz0rjjOW5/PWuGKdaKfVY8YnkBrTOO5Wbbq+FbACVsAKWAEr0F8KGKwOFxgzCPX1no4PGKy2GawuXbo0rVu3Li1cuDDp5Vgc33TTTenWW28t9jVr1tTKVGeqqddY7e+ox8miBl3em9fXYLXzN8asdyrI2a2002uuRoAHLAREAiaBjZxHsCoACegT0BRQFPBTHZ3rKnGuNuRhW8BQMFK2dE49jqkneEs72cltqi71qcdWBlaLguwfbMW5qrhsnJRRX+NXX6RlNmSr1TT2QV+ce7MCVsAKWAErYAWGRwGDVYO26YA2tx0u/zFYbSNYBapu2LChgKgCq6ecckq6/vrrk2Cq6qxcubItcNVgtTfBWzNA1EsB9Pe188urOntj3ckXVTULahlDpzfBUMAg8E4ArwwU5nmCoWqT2xIQzNsxJ7UVSM3PNW/gqCJWqYstNvoUZI11gbCqUwZWKRMUVd9xfGqjOZWNS3mqQ//RhsYz3RT70nC6ttzeClgBK2AFrIAV6C8FDFaHC4wZhPp6T8cHDFbbBFYBp0Skrl27dhxYzSNRc9Cal7d6brDa33CuGQDrOr13jR2x2tkb42+/+FzXo1UFXxlLJzfB0N/9xCfSE0/sqz1Gn4PCMpiY58nWRz/6WwX0ZJkB4CXneTSn2gpu5ueas8Aq4wGk0gfbVMCq+hAQJRWsjeMjX+dqo3HSd65NvbxioNP85x//8R+nacHNrYAVsAJWwApYgX5UwGDVoG06oM1th8t/DFbbBFaXL1+egKZEovLYvyJWc1BKxCrlpHnZVM7LwOo999yTtG/dujXFyDrlK925c+e49TWVXwbzysrK8sraOm8iHBykiNW77757nB/peuNfDz/8cGkZdfAf1VW6d+/e9KY3vWlCvsqV4tdbtmypW6/Mttoq5f/Hrl27Sm08+OCDpeOjrcFq526P96f96cnnnp42WP3MVz6f2AVIp5oyFsbUqU0w9P3v/0ABVgGJbDk8VD1BSeoIOsY8AOTd99xXiwqlLLcV21JftonO1GP/xSB+8Dg/EauML8JN7MaIVfpQJKpsKPqUMrbYj8Ap66hiW+exHu00x7zvWJ82ZXMsOvU/VsAKWAErYAWsgBWYggIGq8MFxgxCfb2n4wMGq20Cq4Ki9cCqIlUV1ar6003LwOqMGTPSqaeeWtvnzp1bg1vAplg+e/bsRPn27dsLuHTZZZcldoGnmGIzh1VlebGNjycCVWkyCGD1tttuS4cffnix1MX8+fPH+Qe+8apXvSrNmzcvnX322RN8Cj+jjvQgXb16dTrssMPSySefXNpGda+44oo0Z86clmyrLenIyEhivESa8/+B/5exnGPyc39XHYPVKdydNtlkqtGqf/21L6cf+eT70pr3bEwnvm3VuJ08yqgzFcDayahVwUZgaASkOShUvVhH0DHmcQzgFMxE9twWeWoLHGUnqpV6tI9tFbEKXI351BNYxRbgk3Lq6cVYRODGpQHiHNSP4GsOSiknj6hb+uFcm8qwp42+cxsqc2oFrIAVsAJWwApYgVYVMFg1aJsOaHPb4fIfg9WKwKoAqgArSwYobzppPbAagRB9AXyBQgKrAkSk11xzTQGRODZYrQ9Co2btOB4EsAoYJeoTPR566KEaKN24cWMB7KXT4sWL05133lnU27ZtWwFOidqOYPWJJ55IM2fOrEF+2rA+sWwoJZoVqKpz6kUwCsRlj7ZVVyltrrvuusLG/fffP64utoCqp512msHq2FgaGR1t9T50WvWfev7ZluHnB//0w+nMd7x+HEzN4Srn5/34jYm6rcJVxtSpTbBRUZ7qJweFqhcBo+BozGsWOqqtYKTs61zjaAQ+BVapS78A3bK8HMhSL/YDlI3n2NP48rrqK6+f66XxO7UCVsAKWAErYAWswFQUMFgdLjBmEOrrPR0fMFitGKwCUetFtU4FsDYDVoGlq1atKiBSGVgFNs2aNSvx2LbBqsGq4GMzKY/ja6kJgCTRz7S7+uqrx0U+R7/CB4H5pBF+Aprj+Rvf+MZ00UUX1QCqxnPzzTcn/F7nV1555bh6l1xyyQTbqqv0uOOOS5s3b67ZIEqWKFbKGStzMVjdl/ZWDFZffPmllqHnz37qP00KVF/703ekzR/aW6tHm1bhKmPzZgWsgBWwAlbACliBTijw7LNfTztH96a7738wPbhtR/rbL36pE900bZP+f+ED/7Hp+oNY0WDVoG06oM1th8t/DFa7AFZ5/JhIPKJXpwJTY5t6YJWIO+3xMex6YPWkk05KmzZtmhSsymZMsSlg5bR5MDsIEau63qyjClTdsGFDDU4CKFUewarycrA62bnasQzAxRdfXLNNJGwErdTLbamt0kMOOSSxlqvOWRYgglbyDVarB6utLgNA9GlZZGqeJ5D64b/8eFr4jtcVbVqNXO3kcgBlX0aIwCRaM0ajltVznhWwAlbAClgBK9DfCjz//HfTj/7ET9ZgKpD1X73jXYm06u09P/vzBdwF8naj/6rn26g/g9XhAmMGob7e0/EBg9UOg1U9+g9MBYjyUiteXqXzCEmnclwPrAp2PvLII2nFihUFxAUWkQ8UFVBSeswxxxRlZQBMdYgmlN1GeSpz2hiyDgpYFVS94YYban6V+1F+jm/k8LPR+TnnnJO0E6F63nnn1foigpWy6G+5rVtuuaXWnv8PRx11VBGhrTbHHntssZSBzknL/F3lXDtF6ipv0NJ9+6oHq8++8M2mI0lZL7XR4/9v/di7E/snvvSpcTYV4cqyAK2sucrYqt6AqwarVavu/qyAFbACVsAKVKvApz/zJwXMJFo17v/tw79Z6UAAvABdxsCYhn0zWDVomw5oc9vh8h+D1Q6D1QhTebyYvV3rq2J7MrAq2COYCnDSscqArzwK/cADD0wasUp7tSNtBJ9iPR9PhKyDAFbLoCrXet26deNePgVYvfHGG8f5Tg4/y84XLVpUtLnjjjuSdn6YiEsGYJuXXkUfy22prVJ+8Ii+zP+JPXv2jLPRyLcNVjtzq93K+qo/8vs/3zBatdEr37iTAAAgAElEQVSj/loWABuN6sWyTq6z2hk1bdUKWAErYAWsgBWwAlZgqgoYrA4XGDMI9fWejg8YrLYZrE4l6nQ6bRqBVcARO+BJgIpzIJLKgLzYoA5gipRd5UopKwNNZXkRcPl4IlCVJv0OVnmUHkDJ4//yE1Lm99hjjxUR2pxv2bIlvfrVr669lErzpywCUvIB/Lz4avv27cXSAnrhldqQjo6OFj6semecccaEx/jLbEcbrHOMn+/atSutX78+XXjhheOgKnUb+bbB6lRvURu3e/K5p5sGnaybmj/yr3Me949QND/+zFc+X7Rd856NDevFdozNmxWwAlbAClgBK2AFcgWILC17dD6PRCUalKjQuMUoUUWr5pGq2Clbd1VtsfvJP/ijItI0b0tf5Mk2KY/7xy2u76p6ZfOJbYbh2GDVoG06oM1th8t/DFYHEKwChLSzvupVV12VBPEEnFR+/vnnp/wRbpUpFXTlnPYRUJXlxXIfDy5YxS/kIzHVNSc6++STTy7gK5GiylcqX9Q5KUB12bJlac6cOenaa6+d0EZ1gar8WMAj/LfddtuEemW21ZYUoMr4jzzyyGKpjFim40a+bbDamdvpCDInOwaiLv+xG2trpnJOBCrrqDbziL/WWp2sn1jemVnbqhWwAlbAClgBK9DPCpSBVWBoBJgRggquKi/WE+SMj+KXgVW1Bap+/s//onjRVFlbxhZhq+rEPjkug75TvSZP/vNT6ad+5uca7tTp9c1gdbjAmEGor/d0fMBgdQDBqsCQ0/pQsxe0EezuhbF4DK35isFqZ26FI8RsdKyI0+vet6lYQ1WQFKjaqF0soy0wthkIq3admbWtWgErYAWsgBWwAv2sQBlYLZtPDkj/9otfSjtGHy9eWgXcJFpUQDaCz7wdtmlLFCtlcaNdbBvLdJyPV30rWjW3qXatpE8++c9p99594yJlsU8eZf2wGawatE0HtLntcPmPwarB6oRoP0O21iDbVPUyWK1G56len0btDFY7czssgDlZGsEqdXlBleCqlgOI6c4P/+sJwNVgtTPX0FatgBWwAlbACgybAjmo1PwBlMBERYxGkEodnVMPuKnIU+rHCFLK86UA1JZUYJR2eVv6IU/QlnPs1XvUn7r1yjSvZtMcrvYTVGWOBqvDBcYMQn29p+MDBqsGqwarb+sO4DNY7Y7ujYBps2UGq83eUrdWr5U1VgGncY3URnAViJrDWq3RmufXO/caq61dS9e2AlbAClgBKzAsCpTBSIFPYCngk0fwlUfKRqqo00ZwtBFYbQbKAkq/+KUvF+NgCYFGYDUf43SvoeBqv0FV5m2watA2HdDmtsPlPwarBqsGqwar9oEWfcBgdbq32eXtn3r+2QkAtB7oFBglelV16sHVHKwq4hUbajtZyti8WQErYAWsgBWwAlYgV0ARoTE6FXjJOTvQlC2HllonlfaUje37oQLAcp5HrOa2tFYqdQVl6TNvy7nacsxWBlY1Furm0bFFo2n8A1ztl8f/4zQNVocLjBmE+npPxweGGqzyNvF+31/zmtcUL9/ZuXNn8t5fGgDnfM3665rpenHteNGWzgcxZX5vfuSR9ODWrfEes6PHz77wzaZBJy+qImp184f2jmujR/zjUgBEtn7kL383CcLShnJsTAZUVc7YvFkBK2AFrIAVsAJWIFdAoDKPCs0BZQ5WsQMU/dGf+MkCpGKHLYejahejX9WW9tQXNM3bcp4/2q/xAme10ccvfOA/ToC/Kh/G9MR589Irjz8+HXPsscUOOPFuDfrVB3jp83TAods2Bs9DDVaBkv2+L126tACrY2NjyXt/aaCoR1+3/rpuXC+u3Z49ewb6/9zjjz+eRnfvTtt37KjsXvrbLz7XNOjkpVNaVzW+tOqtH3t3AU0jWNXxme94ffrZT/2nonz5j93Y0ourGJs3K9BPCugLcj+N2WO1AlbACvSjAjHaU4ATeKlI0ZjmsDVGm2ruORwlX/VItSlPfZKft+U89q/jHLbGOcQ+1Ncwpo5YbQySDNqsj33goA8MNVg9sc+XAWD8Z555Zlq1apUf5W7xUe5m19LsZD3gXCft23bn1nAVFB9kjfft25f2jo2lkdHRyu6lX3z5pabBKpGkH/zTDxeQFGAa4argqYBqWUpbRaM2kzI2b/2pAF9u4yOV/TmL1kdtsNq6Zm5hBayAFbACVkAKGKwehEYGaNbCPtDYBwxW+xyuGqx2Dp51GpoZrPb3tSNytdM+0k373QCr3Mi2ss4qQDRC1C2/NlZ73L8MpiqPNs3AVNXpx/VVtfYaUJFjwGJ85E9fGgYxjVE3RObk0UGDOOeyOTUDVolkwke8WQErYAWsgBWwAuMVMFhtDJIM2qyPfeCgDxisGqwONBzqJpiarG+DVYPVyXykm+XdAqutLAcg8En0KY/2C5ye9+MHj5VHSp1WI1Xpo+plAABdekSP43f+6LsLOKjH95oBYQKr/+O3P168DIO107TFxwL77XE/rQGnuZSl6MMch23Lr2sZWEUb+RGw/T/9518rBavyn06A6bJxVXmt0EkRzD/8rh+rvSyG/3NTgfAC+WgrfWV/snlJZ9pxPEw/gEymjcutgBWwAt1WwGD1IDQyQLMW9oHGPmCwarBqsNqlZQQMVg1WuwlOJ+u7W2B1f9qfnnzu6ZYiSoGfrLnKy6he+9N31ACroCp5lFFHMLbZlLEwpio3IAuQBygKaHnv+z5QvEziV37114s8QdfJxgQ0zetiO8JUIFM/QEjGDOTL51OmAXME3lEX/UjjnMva9Hte2XXNISFQmhekAALZaIOmpHGjnHqC8e0AfthiPPTXbX8TWAUq/+RP//vCN/i/ppfHTGV8Av74GXZ3jD5e0y9qmx8LrJb9AJLX9bkVsAJWwApUq4DBamOQZNBmfewDB33AYNVg1WDVYNU+0KIPeI3Vzt7YTiVqNQeln/nK52vLAuRlrZxXHa2KsoItgoE6B4CxNwMXy66QIuuAW3Gfqr2yPjqRF8edQ8Cy/lQf/ajPXKVlWf1+z9N84zXlOAeraJDX4TzXVJrldacCHKWtbDYbyal2nUgFeZkP2gFU2QGijG8qvoJN2rIDSdE+17XeXOiv1/8P1hu7862AFbACg6yAwepBaGSAZi3sA419wGC1zWB16dKlad26dWnhwoWp7OVYK1euTDfddFPd8rI2jfK8xmp/Rz1OFjXo8t68vgarnb+Nfub5r7ccXdoKMG2mLmPopU0ArVnwo8g82nmzAlagXAH+nwBCP//nfzFlsKr/m4BV7LQCVstH5VwrYAWsgBXotgIGq41BkkGb9bEPHPQBg9U2glWg6oYNG+qCU2ArUNVgtTdhWdUQ00sB9K8fGKx2/lb3xZdf6jpYZQyd3hSNCpARACX6rexRYiLg8ihEAR1FFyqqUHZ1zjwUNai6sU/KFcmX9wHIjXXLbCsvj4BUn2UReYxNYyHNgbHaltUp00L1Y1/SJ7etuTIGyvI5T2U+6l/jjZrJjzQe1SGN14h6jIf8OGaNlz7YWhlf7DPaLNMw1tUY8/FpLppvrh3lKpONXAvNR+X5fKMNzZlU4+c49st5vO4aI6n0VF/15qO5qw/ZoL7aah4av8amuqSNyvKx5H1FOz62AlbACliB7ipgsHoQGhmgWQv7QGMfMFhtE1hds2ZNuvXWW9PatWvrglPqEM1qsNq/QK2d8NVgtX/9wGC1mhvd5196oWtwlb47vQnkAG7YBWkAM/XAag6P1I7Hj9lpR8RcXCOTeWA7Qhz1LVBEHdmiXqzLcawnqEd9bWpLqrrMY2zfD6Wv/NNXi7y8fjyXTfWr81hHfZEynwjWyGNdVUUdqp3mKbvUE/iiDju22KO2yidtZj75eMr6LcvTPGnPxjljZR7RBzRm1WtlfLTVC6O4HvTBlo+ZPPpWH5yrX/rLt6h31De3WzZv7EWb0kF2aMPxF7/05SLFhxg742HL++A8Xj+NFRu6fuRpPnGOqls2zqjdb3zkozU/bmSnXlk+FvUXddBYnFoBK2AFrED3FTBYbQySDNqsj33goA8YrLYJrC5fvjydcsopqd6j/kSzXnvttemiiy4yWG1xPct2wsxesjVIYPWee+4pXad1586d6aGHHiot41qUtRsbG0tbtmyp20bXcLJ6ZbbVVunWrVvTrl27Svt68MEHS8dHW4PV6m52n3vp+crhKn1WsQkmEQ0XoRBgJkI1jaUMHpGn9kAowad6NmSLlLYRTgoIYS/CqBwIadwRCCkvtqUddZoFSNSVDtGe5keetnzsmg912embTX3rnLzYT1EpRIBily32Ly0azQeb6ls2SDUfbEpflatv7MbxcZzbytu2Mj5pgM14vRlHPNd48pTxSINYRnuNM46/GS2iHR3TLvajOauPqFs+ds6j1tiM845ljDWOV/2rfiyLOn/yD/5oymBVdhin9CHN56yxOLUCVsAKWIHuK2CwehAaGaBZC/tAYx8wWG0TWNU6qPXAKpGslNUrV/tW07I1VmfMmJFOPfXUYuf47LPProEjYFMsP+KII9LcuXPT6OhoUeeyyy5L7AJPMcVmDqvK8mIbH9ePyhwEsEqUNj8o4AeHHXbYOP8499xzC1879NBDx/mgfOKqq64q2umc9IYbbijsHHnkkaVtVPe6665Lxx57bDrkkENK6xEZzphUP0+feOKJdM4559T+jzCPvM6CBQvGzSeWG6xWe7NbZeRqFZGqUk+wBbgC1AHokAdQahasyhZphDSCUjmMAlJRj61eP4wjAq78PI479h/HoChV6gpYqV+14ZzxaIxlcIy6ah+BF3XLoGBeNz/Pxwhww04e6RrHiBaTzUf9xDnm84l6MxfNnTZRb/rOr19+3ur4qJ9rlp9TR9ck+kkcn8aheWre8dooT3XUd4Sb5MmPdB2pn9ehXtmWjz3XWm2i5spjrHG8yte4y8qoE/uUDuTlW1mZ5gqcxb4icTlvds55Pz63AlbACliBzipgsNoYJBm0WR/7wEEfMFitAKwCUwGrQNOqwGoEoKtXr05XXHFFAY4EViMkuuaaawoARp7Ban0QGjVrx/EggNVFixalzZs313xLMJO8mTNn1mDl4sWL05133lmcb9++PS1btiwBXlVfeh5//PG1NvxoUAY8iSTlBwG1wfYb3vCG2jlR4fw/O/3002t5qqv0wgsvTIBdzu+///5xdd/4xjcmxsHY4v8jtSU1WO3sjWyZddY77eQLrbBdxZqqcW6CLQAlAM3et7y9gC5lMIh29eARZTnMKTvXMgGAHfqu1w/lEfTl53HccT4cMxfaCiCRJ2BVBtoEmKjTaH6ySz026grIFRk/+Ed9MWa2/Jw82WKMHLNzzLg5jlusm9uMdcvGnudJb5ZsYKkGYC029TZ6zY3+y64f88Vm3JodH21yzfJzXVf1wdiwrz40Ps4FA8v0pb3KNdayPOyQL/vokLdT+zylXbz+ZfZpwxx03WSjLI+ysrmoTV6WXx/VIy0rk7bMlR1wzTjqjTva87EVsAJWwAp0RwGD1YPQyADNWtgHGvuAwWqHwSrRfCwBwFIA3QKrl19+ebEEAUCoDKyST7QhUasGqwarESA2On7kkUcKf9q7d28NUBL9TBuA6KZNm2pgM/oVPgjMJ41gdWRkJL3+9a+vtQHEnnHGGbVzjQXbQFedX3nllTX/Ju+SSy6ZYFt1lfJ/MY6PqNrdu3cXNhkrfRis7kt7x8bSyOhod+5m6/T67RefS08+93TblgfAFja7sQm2sFYlkAV4QwpgqhexCpARlIljFrQjZcvhDgAnb5u3kT3GAGRkfKRqhw02jZv8HIQJkgEOVV9QijJtgkvYUH4ZZNI8qMdYsMVWNh/y1RdziOPMIZwgJeNnV0SqxhLHSb/NzCfXIp+PxgZAj5rSZ5wbfWve2IhzzeupbTPjU58aJ3ajLupTWqMfOuKfsV/pSnvNiXraGJP6UB518zzZIZ/xs8c6mjcpG6n6URljJS+e6xqWjQ071JcdjY9U9TV/zrWpTLallcameqQqw47qk69+mbeW7KB9nHO042MrYAWsgBXorgIGq41BkkGb9bEPHPQBg9UOg1WA6oYNGwpQA6zRTp5ga6uP/8f6ky0FwCPVgCIBpXpgdf78+UXkYQRgaqMU0FS2Y1N1nDYPZgchYjVe77POOitdffXVhS8AKaPflflVDlaJRCX6VDbzcuXTBxGnOr/tttvGtSO/Xlu1IZp2z549NRsnnHBCon+Vkxqs9iZY5RZ7f9pfwNCnnn92yoCVtgBVbHVrE1iKcKssT+MThFGkI3W1AXMijBXcEfghjf3QLm8jWwAgwA8wTS/For0gUYRM5KkP2nPOOGiv8cX66oN6OVDCTp4n+6QR7mnsPMLPePO+qKvxa+wapzQmShWYh62yMXZiPow1vw753OhX108w7ld+9ddrEa6aa7Pjoz52mC/6EiVMmo9FfaKTXnbFcRlo1PUrA9Iqi+PETn5t5QtxvqrD9WB8imimH8FI1Y8R2PgpbeP/DV1T7MSN8zxP5SpjvMxDm2wpL2qlOkrlX1FHymiLT+JzsjOZLrLp1ApYAStgBapXwGD1IDQyQLMW9oHGPmCw2mGwGiEox1UuBQBcYl+xYkWxDqaAE2usRoDE8THHHFPULQNgqlsGmsryVN9pY8g6SGCV9U6vv/76ml/lfpSf4xs5/Cw719q/q1atStpf97rXFf+P5F/8WAHU1XmZ7VtuuaXWHjuzZ8+urStMfSJtH3jggXE2Gvm2lwKo/ua2Xo88vg8gffaFbyZgaVk0K3mUUYe6VT/yX2/sAjA55AG25PANG4I7itKTXUEe8vMdW2ykeRnnZf0wHuWrT52rT9kTCFM+wAi7cU6yIZhEXdXLx5Tbi3PTXNQXfdTrS3aksc5pq7w4p7IxxnE2M5/YB20Zb56HnQiI1Ueep3mrX+mtc9qxSceYXzYXynOtyIsaYE/1NB7Z0vmBXsf7Yj5HxpTnlWkhW0rpO7aTBvKRRtdf46Su/Ex52I0b53meytUmzld5GkdM8zHJjsausZCvaxXzmtFFNp1aAStgBaxAtQoYrDYGSQZt1sc+cNAHDFYHGKxG0CSYCrzSscp5Azt5lJUBMNUrA01learvdPDB6tatW9OsWbPSfffdNw5Kbty4cdxLpfArXjgVfaIMpOJPqnP33XfXIlN5qZX29evXj1tCANsxgpX2uW3AqtqTskQHddQX/s9SBDonbeTbBqvV3ti6NytgBayAFbACVsAKWAErUKUCBqsHoZEBmrWwDzT2AYPVNoPVPEK10+f1lgIAGmkHPAlYkSeIqnLWsaQOMImUXWVK64GmRvApQiofT4Ss/R6xytqqAEqgJRCUHX/hWlN29NFHF+eA+wULFiTS6AfUlV8qn7V+gbK84Ir/O0BQlSl9/PHHizWBVQ//vfnmm8fVK7Ot9qQXXHBB4ee7du1KgNqFCxeOa0+dRr5tsFrlbe3w9KWINqLY2GNk2/Co0PszVQRjjK7s/VF7hFbAClgBK2AFrEArChisNgZJBm3Wxz5w0AcMVgcQrAKE4r5kyZL06KOPFuBIwCmWr169ugaVBGFjuaAreQJnglRleSpzOhGmRk36HayW+RL+oDk+9NBDBbDkMXv5kMpI1T7mcczLp3hUn2Uz8jKdA16XLVuW8jWEVV7PtspJAarA30WLFhUgN5Zx3Mi3DVZbuS113VYUEFyNjzS30t51q1EAuMrj5Cwr4M0KWAErYAWsgBUYPAUMVg9CIwM0a2EfaOwDBqsDCFZzQOTzxoCzW/r0O1jtlm690K/B6uDdPHtGVsAKWAErYAWsgBWwAlZAChisNgZJBm3Wxz5w0AcMVg1W60YF9gLAGuQxGKz2JvBuxucMVnXL6dQKWAErYAWsgBWwAlbACgyeAgarB6GRAZq1sA809gGDVYNVg9W3dQfwGax2R/dmwOlkdQxWB+/m2TOyAlbAClgBK2AFrIAVsAJSwGC1MUgyaLM+9oGDPmCwarBqsGqwah9o0QcMVnXL6dQKWAErYAWsgBWwAlbACgyeAr0GVo899th0xBFHpKOOOirVA1q8f4I61C2ro3KVHXPMMWnWrFm1/fDDDy/eYUG+6jg9CM+shbWo5wNDDVZ5OU2/74sXLy5e8rNz587kvb80AM75mvXXNdP14trxAi2dD2LK/N78yCPpwa1bB+9O2TOyAlbAClgBK2AFrIAVsAINFOg1sDpnzpwCgE4GVgGlvKA3B0DAVl4QDHhVGQA1npNPP3me6js1WLQPlPvAUIPVJUuWpH7feTP6ihUr0u7du733mQbAOV+3/vRbrt3IyMhAXz/mt2PnzrTtzW9ucMvpIitgBayAFbACVsAKWAErMHgK9BJYBYASbco+GVhVvRyACZhGaFoGVhUZWy/qNbfr83LQZl2GS5ehBqsn9vkyAIz/zDPPTKtWrfKj3C0+yj3ZGppVlAPnqujHfbR/LVeu3djY2EBfv3379qW9Y2NpZHR08O6UPSMrYAWsgBWwAlbAClgBK9BAgV4Cq8BSolCBqpOBVeoBT+Pj/IKllGFL0K8MrAJgYx3VdTpcoNDXu7XrbbDa53DVYLX90KwqEGmw2t/XzmC1wZ2oi6yAFbACVsAKWAErYAWsQB8r0CtgVUAV0NUsWAWOsguOCagq8lX5nMc1VjkGyjpatTWoJj2dDq9uBqsGqwMddVcVJJ1KPwarBqtT8Zuq2jhitY+/CXjoVsAKWAErYAWsgBWwAtNSoBfAqiJNBTqbBat5O0W8kh+jUcsiVhXxqj4NC4cXFvraN3/tDVYNVg1Wu7SMgMGqwWpVkHQq/RisTute3I2tgBWwAlbAClgBK2AF+liBXgCrgNQYedosWAWIRZiqKNQcpObnAmnUB7Dq3GnzgM1aDadWBqsGqwarBqv2gRZ9wGus9vFdsoduBayAFbACVsAKWAErYAUmUaDbYJWI0dmzZ094VF+P65cBPMFUyvT4f4SzOUjNz2XTYHU44aCuv9PWr7/BapvB6tKlS9O6devSwoULk16OxfFNN92Ubr311tq+Zs2aWrnqTSX1Gqv9HfU4lUhCt+n+NTdYneRO1MVWwApYAStgBayAFbACVqCPFeg2WC2DW61ErGo5AOCsHuvPQWp+Tp9EyCrCtWwMzmsdulmzwdfMYLWNYBWoumHDhgKiRrBaBlunAlHL2hisdh+yTRV0eimA/r52fnlVH98pe+hWwApYAStgBayAFbACVqCBAv0OVgVJy9ZUjaC17OVVAFfDwMGHgb7G7bvGBqttAqtEoBKRunbt2glgdeXKlen6669Pp5xySluiVCNgNVjtbzg3VSjrdt297o5YbXAX6iIrYAWsgBWwAlbAClgBK9DnCvQiWDUIax8Is5bWsp0+YLDaJrC6fPnyApwCUXnsP0asAl0BrhGItuvYYLW7gG06gNMRq/197Ryx2ud3yx6+FbACVsAKWAErYAWsgBWoo4DBqsFbO8GbbQ22Px199HBGeQOUZ7QLbkY7ZWAVqBrXV21n9GoZWJ0xY0aK+9lnn117OdE999wzrox6l112Wa2c43geweGpp56aaD9ZXiz3cX14OAhgddOmTenVr351Ovnkk4v0vvvuq/kHfnTCCScUC6eX+dRtt92W8KnoI3feeWc67bTTioXay9qo7h133FHUO/zww0v9FTu5bbVVesEFFxQ/hpx00knpoYceGjcO6ixYsGCCv6utI1br3IE62wpYAStgBayAFbACVsAKDIACBquDDcIMOn192+kDBqttilgVXM3BKo//A1IVsZqfq91U03pgNQLQyy+/PF155ZUFOBJYFSAife1rX5suuuiiohyYVQ9oGazWh6RRz2aPBwGsLlmyJAFXmfPtt9+eFi1aVBxv2bKlAPjk79mzp4jgVj3yLrnkkjR37twJ8HPevHlFe+oAPKMfk8e+devWxMLtHMt2rIf/slZQI7B68cUXp6uuuqqwcfPNN6f448OuXbuKsfGjQ7Sr/kkNVgfgbtlTsAJWwApYAStgBayAFbACdRQwWDV4ayd4s63B9ieD1Q6D1TJgmsPXsjrN5jUDVoG6vEALIFQGVsk/7LDD0u7duwuoarDaXoAagVw87new+uijjxb+tHfv3sK3tm3bVkSnMsdrr712HKCPwB4fBKySRvi5ffv2cedEeVMvasYx+fi98l/3uteNq8f/L0BptK26Svn/FUEvEPWxxx4rbGqsBqv70t6xsTQyOlrndtPZVsAKWAErYAWsgBWwAlZgMBUwWB1sEGbQ6evbTh84+uijh/KFb5UuBZBDUsBPu5YDqAdWgUrauch61LkeWJ0/f3568MEHJwWrshlTbApYOW0eyvY7WM2vNT4hECo4qTr5Ofk5WL333nvHwVDKX/Oa10zwrauvvjpdeOGFtXxAa4w4xfYNN9wwzpbGoXTmzJlFtKvOiZ4lElbnpAarBquD+TXBs7ICVsAKWAErYAWsgBWYTIF58+en4+fOrcGSY489Nnm3BvYB+0CZD8DcyvI7nddOODwVW5WBVV5ixcusgKkAVp3zQqscuE7lvB5YBUppZy1JoBewiDyAUQRIHCMiZWUATHWxIZtKlac6TocTrPLYvqAqPpD7UX5OHXxIfjnZ+RVXXJG0s7QF/5/ka4DVs846q3ZeZuuWW26ptccOSwWMjo7W2gBWH3jggdo5NgxWDVYnu+F2uRWwAlbAClgBK2AFrMBgKmCwaoDWaShm+4PjY90Cq7kPTQWOTqdNZWA1wlQAELvWW50KSM3bNAKrAk+CRAJOOVhlncpDDjmkabAa7RqsNg9So24cD0rEKj8WrFixYhyUZL1VYKrmzPF1111XOye/GbDKi7GoC0zVfuONN44DstiOEaxltgGrak9KhDb9a3z8nxgZGamdkw98jXVUl9RrrA7mDbRnZQWsgBWwAlbAClgBK2AFUOCoOa5miUUAACAASURBVHPSzFmziiXzDj300OL7Mt+ZvVsD+4B9oFd9gM8qOAbAdTrAtNm2HQOrOfjs9HkzYHX9+vU1EAUoimD1/vvvLwDYeeedV0ClsshCAaUyiFqWp/pOG0PXQQCr5557bjr//PPHAUmuO+ul8oIplqAA3Jf5SQ5WqUebzZs3F/bwbR7pz/0I20cccURtjdQzzjgj8QKqWC+3Hcs4JmKcnWN+7AAO53XKxqw6Bqu+4bYCVsAKWAErYAWsgBWwAoOrgMGq4VmvwjOPy745mQ8AV5uFo9OpN9BgFSAE0D3yyCPTv/gX/yLx5nZBPIDTggULipcMAVh5BHr16tU1qARYPeaYY9Lxxx+fXvWqV6WTTz65FnlYBprK8gSfnA42WL3zzjvTaaedVuz4gXZddx65nz17duJXE/xK+UrL4OfGjRvT4sWLC9+Nj/urjdLXv/71NR9u1rbaktI367fyf+CUU04pQHAs57iRbxusDu5NtGdmBayAFbACVsAKWAErYAUMVg2vJoNXLreP9KoPwGCqiFodaLCaAyKfNwac3dJHsLtb/bvfqfuFwapvtq2AFbACVsAKWAErYAWswOAqYLBqaNar0Mzjsm824wNaf3U6EamTtTVYfdvUoZKBXHu0M1htj47d8EeD1cG9ifbMrIAVsAJWwApYAStgBayAwarhVTPwynXsJ73qAwarJ55YPMrfzPqsZWusdgM0uc/WIaHBauua9YqfGaz6ZtsKWAErYAWsgBWwAoOtwPMv7k9v/Y1vpeVvfyrN2/Wk9y5ogPZcA65F1ZvBqoFZrwIzj8u+2YwPCKx2ckkAR6w6YnXCmp9VQzuDVYPVqn2ulf727duX9o6NpZHR0arvY92fFbACVsAKWAErYAW6qgAg7+of/5phahdgahnE5lpUDVcNVg2vmoFXrmM/6VUfqAys8mKmft/POuusdMEFF6Tdu3d77zMNAKu+bv3pt1y7kZGRgb5+zG/Hzp1p25vf3NUvNu7cClgBK2AFrIAVsAJVK0CUZBngc173Ine5JlVuBqsGZr0KzDwu+2YzPlAZWF22bFnq93358uVpxYoVAw14BhU+Gqz2J1TFHw1Wq7ytdV9WwApYAStgBayAFahWAT/+3z2AWg9ec02q3AxWDa+agVeuYz/pVR+oDKw2s4Zpr9fxGqv9/Th5K49mu27vXGvA6tjYWNeXk+ikT3gpgCpv3d2XFbACVsAKWAEr0EsK1IN7zu8ucK3SRwxWDcx6FZh5XPbNZnzAYNUvrxpoYCUYBpzTsdPegabNXAuD1Spva92XFbACVsAKWAErYAWqVcAAtbsAtZ7+VXqBwarhVTPwynXsJ73qAxGscvzKV76y7btfXuWXV3Udahqs9hdMjcDVYLXK21r3ZQWsgBWwAlbACliBahWoB/ac313gWqUXGKwamPUqMPO47JvN+IDBqiNWuw49I0Tr1LHBqsFqp3yrHXa9FECVt+7uywpYAStgBayAFeglBQxQuwtQ6+lfpY8YrBpeNQOvXMd+0qs+YLBqsGqw6ojinvYBR6xWeVvrvqyAFbACVsAKWAErUK0C9cCe87sLXKv0AoNVA7NeBWYel32zGR/oa7C6dOnStG7durRw4cIUX3y1Zs2adOuttxb79ddfn0455ZRx5bFuK8d+eVV/Rz22I7LQNqr3AYPVKm9r3ZcVsAJWwApYAStgBapVYFgB6o9/7Dvp2y/sT6Tsf/fM99OtP/Ns6hU9qvQCg1XDq2bglevYT3rVB/oWrAJVN2zYkG666aZxYHXlypVFPuVA07Vr1xZ7KwC1Xl2D1eqhWrtAppcC6O9rNzY21tNRtdP1Uy8FUOWtu/uyAlbAClgBK2AFekmBXgGJVY8DmPri9/enT3/5xfS177ycHvnlb/QMVEWLKjeDVQOzXgVmHpd9sxkf6EuwqohUoGkOVsmjvB4cnU6+wWp/w7npwi+37871d8Rqlbe17ssKWAErYAWsgBWwAtUqUDXQbEd/f/3kS+l/fuF70wKhRKd+9RsvF3svRapKnyq9wGDV8KoZeOU69pNe9YG+BKvLly8vHu8nOjWCVZYE4Jz86QDUem0NVrsD1toBNB2x2t/XzhGrVd7aui8rYAWsgBWwAlbAClSngEBeL6eKLpUqANGpwtBf/uPnZaZnoSrXosrNYNXArFeBmcdl32zGB/oSrAp8loFV1ly95JJLiuUAWGe102uszpgxI2k/4ogj0tlnn117ZPmee+6plVHnhBNOKMYmUHjZZZcldp3H9NRTT020nywvlvu4PjwcBLC6ffv2tGLFirRgwYIi5VzXHD/Cv+bMmVPqU7fddlvCp1Sf9K677kqnnXZawm9ZViOWxeM77rijqHf44YeX2sZObju25/iCCy4ofgw56aST0kMPPTShr9NPP32Cv8uGI1arvK0dvr74YvRDH/nW8E3cM7YCVsAKWAEr0CMK9DJQ1dg+948vFuug6nyqab6WKpCV6Nep2utkuyrdw2DV8KoZeOU69pNe9YGBA6tErAqm8tIqjlkeQDB2OmlZxCrAVAAUYHT55Zenq666qgBHAqsCRFu3bk2s/XrppZcW5Qar9UGoNGtXOghg9bzzzkv3339/4Tu33357WrZsWXG8ZcuWBPR8+OGH0549e9IZZ5yRNm3aVJSh380335zmzp07AX7OmzcvrV+/PgFoaSM/jprjs0ceeeQ427Ee46AtgDa2i8cXX3xxDcgylvjjw2OPPZZWrVpVjC3aje0NVqu8rR3f16BCx299d39a95NfK77ELBr75/Qn/+/F8RP3mRWwAlbAClgBK1CZAp2Eg+2yDVhlLVQ2QCgbULRV+2pbGPjBP6yzCnBt1Van68cxdvrYYNXArFeBmcdl32zGBwYSrMalAPKo1k6CVWDQddddV8BTjnOwKlgEjAUoGawarMonJksBpkBJUuru3LkzzZ49uzjG52Lkc/QrfBCQSRqjSnfs2DHunOhuAf84FvJjO2wTEa46/HiBbeCq8vKU/3PUUb78n3ONlT5iHdUlNVjt9K1sffu9BlZ/889eqH3p4HiqGyD1vZ98runm6PDgf/hG+pX/feALVKO+sf3G9349AW+1CeSu/JdPF4/8/djHvpPYe2nTGHttXL2kkcdiBayAFbACnVGg04CwHfa1FIAiTFFiKmC1HWOpykZnrna5VYNVw6tm4JXr2E961QcGCqwqQjUHq4pgnQ5UpW29iFXBoSVLlqTFixcXIAggBCgCIkVIxDHRg0QCql1ezjmgqWyvB5/KbDjvILgdhIjVeD3xHUWl5n4Uzx999NHC//CbCEjvu+++ced5ufq6+uqrizWLdQ5ojRGn5NdrqzYzZ85Mo6Ojtf8H8n/KtXaqweq+tHdsLI2MjpbfbTq3AJKASX2ZEKScijSCiLIFNJ1sA8RS7+0f/laR1qvfCKyqv2bhJREs7/6d7ySiak8aeTKteecz6ZNf+F69rqeVL02aHdu0OnNjK2AFrIAVsAJBAf197LUUmPrtFzobTVpFH1PVNVyijh9OBlaPOeaYYsmzXoUqHpeBn31guH1goMAq8HPNmjUTlgIgb7pQtRFYBSyxE1F48sknp3PPPbcGs+qBVepHACYIpVSgSbZJlac6Tg+C08m0GCSweuGFFxYAX3O+9tpr60asqo78p9E5sJ9yltPQztIW9Kd2rNV61lln1c7Jz23fcssttfbYmTVrVi3SlvqsBfvAAw+Ms9HItx2x2vF72bodEJnZDHSsa2CACtACmCvAWm9qZWC1Xt3J8unrnH1Ppd/6vy+kp751YC3Y1e94Ov39174/WdOWyw1WW5bMDayAFbACVqBNCkwV/E2lHVGmZY/e8yIqnlDJt//5he/VftTlON/Ie+SXv1EA2FiGrfzlVpP1Ectjv/XGPJX5t9ImzqfTxzlY5R0Qr3zlK2s70IJgDcOr4YZXvv6+/tEHXvGKV6TDDjuspc+FTn2ODBxYFVwlso69XeurTgZWBZ5Yr5KLJeCUg9Vdu3alQw89tIBRzYBV2SVtBJ9iPR9PBK6DAlZ5+RN+E6/x3XffPS6PcmBrrJPDz/ycyFEBVF6Qpf3GG28sIrVl68orr6zVU15uC7Cq9qTz58+vRdfSBv8fGRkZN75Gvm2w2ulb2YP2iVaMN9z5+qNAQ/JYnxQQx8YXhxhJGh+TB8rKnvJjXrSjfNVjLBHqxrHFdoyhXhljo66+KKkeaWynPsvGoLpFg5QSdeO48jY5WI195mXYzNurn+++uD/d/u+fTbs/9E1lpa995+X01t/4VmKdN7Z//Pr30w3/7mtFNOt5P/RU+sRfHfzC96d//2K65IcPRPhe9s5n0l/+04H14L75/P50//u/XrR57b99prh2zCkHq9H2uW97Kv1/n5/60gu1CfjAClgBK2AFrECJArpXqCKtBynzl1NpLVQ97h+XAsjHSZ34AioB0hyuNtMHdbBHpCzAlr7qjTkfR7vPSy5Vx7JysHr00UcXL9iNEGUYjod13sNwbT3H9kJhoCo/wLA3C1cJ+KI+Syq2+3r0NVhtRxRqKzbqLQUAWBJk4mVARK1yTn4OVoFey5cvL8oNVicCUOnY7nQQwCqR0KtXr675WtRIMJ88/I8XWsXyHH7GNVqpx4uwWKs1tuGYF7JFH2api3Xr1o2rl9vObTBuQVtevrVgwYJx7akPWL333nsn5FNmsNqxe9i6hgVL64FVPYYvGCcwCTh83bueKUAmx1rHlPIchuZtBRgFLQGSOs7bky/g2aisHljVWAQ9Nf6yMagfiUVdjYu8vE0OT1WOnbwsts/7efrbLyfAZ56vcTz/4v608eeeTW/+QZTMz3ziubTiXz6dvvz099M/f+vldPm7nkk/8j++XXwx2/Nr30zX/MTXElD1Z3/vubTqXz9dgNY/+4cXS8HqS99PadMvfj398G99OwF4f/EPnyuWIWBM3qyAFbACVsAKtFuBdgPBRvaagZREi/KiKu4jBEwFVjX3HJrmfeZwNC8v60NAlj5iVG0zY87tt+Ncc60iLQOrQEaiVlkGgJQX6rYbhvSCvRidO2fOnNI5Ao6AQZQDcNCkF8buMbQXFlrP1vTk/4TgKqC1kX6CqtTnuFHdqZQZrJ54YtPLBNQDq4An7YsWLUobN24sAJHAqsoQe+nSpYmoVYARYFVlSskTaKI9x9obRfWpjtODekUt+h2s5r4kf9EciVolmpUPivPOO6/mMyovg5/4KaCUNvoxQPVjysuq+PChTy1zEcvLbMdyIsdPP/30oj03RMDVWM5xI982WK3idvZAH0A8bsQFToGCgMQIBCOs1DF1gLCsP8qLm6gfN9UjjRv9RXDIsaBlfqzz/HF88kd/9ZvFmPOysn4Zq8CqoCd52tQP5xyzx426GqPyY5uoFeXSkONYFvPL+snBqsbK9WEMzO2if/N0+vhfHhg7EabMn8hS+qFMUaqf+bsDABWQih12tgi3dcxYsI2t+KWM8/z6FUb8jxWwAlbACliBaSoQ/950+rgepAR0aqMO4wCqCqzGcenR//i4foSitC/rp9k+8rb5eRxLJ4+lRxVpDlb5fiKYOuhgle9HzBVWUO8xZYCqILPBamvwbSqQbFDbNBvZqfm3Wl/tqkybgaudhqrM12B1mmA1B0Q+Lweb3dal38Fqt/XrZv8Gq1Xczh7oQ7BP8FDnlOo4wkpgHCCVSElu7DsFVhkPfQBvc3iqsZIK7gocxrFKReoBVhkrxznUjJA0L8OG+pM90tgmwlPKOGfspLEsHpf1o6UARn71m2n/gVUXasCTMTC3S3/4mfSHf3Pgi2AOVin70tMH1mKdKlj9b5/9bpymj62AFbACVsAKdESBTsLB3HYZpBQopUyAlON6YBWbeRn1AaekPMb/sT9/YVzUaSt9YGMYI1bnHH10Ou644zoamQqk7cdoz7iWZL/OoUrY5r4mwmcByGZhqWDkZJGgvaC15sYPMvl4G5W1c+wGqwarE6IHuwnROtW3wWpvAu9mrrfBake+w0wwqohFviwIFHIMxGMTCPzCky+NW7cUiCmQKdBKXW20x05ZxGMEihxTj13gU3axJziJ3Qg3KaM+SxBgI5YBH+k3Lmmg8ch2HAO2OQcWY7Ns3Gof50Mb2ZNOaMFGPm3Y6pXlYygqp5QAm8veduDlVd95YX/6o7/9Xjr7LU8V9jq5FABQ940///V00099rVhW4K+++lL6pT868CVPY3NqBayAFbACVqBdCujvfxUp0FKbolHjY/7cO7CeOWV/98z3J0SslrVn3AKyAFG1i3C01T7UNka5arxV6EQfVW7zTzopHT93bgE9eR8DkZuACqI04w44UTRrzC+DpYoEjfU4Pvzww4vHgGM5NoEs6lf2Yl+qQz21LbOl/mSD+oo4bVQmW5PBnmbAqsan/kg1nnws1I19xraMSRrEesqL9uP4OY5lXMsYjZuPgbrkxXH4eCIcnaomwEaumfYcPuZ2BVVVPy/vxXP5KmPW/KqCquhhsGqwarAalltoBvS5TrWQ1mC1uttaAB830qSCkoKCjAJISLkgInkRCjYCq7GNZhTbxr4BkMBQtWEsgE5SNsYUy4CctM/LBItzsJpDUbWlPcfU//2//l7RZ6xLuXRRvkBr/JLDWCNYrVemecbxFZP4wT9Eqn7oM99NvDwKG0DVf/PRbyegKlujF0zFl1fxEivO2Vp5edX6n/paOnn0yaJ/xqHI2cKQ/7ECVsAKWAEr0CYF4t/JTh8DOIkoZR14QCWRpIKeQFO9YEpAM4eZKic/L9PYFZ0qOEp+K30oYhVAy1qv7IK9AFz10+m0TZe3KTOvmjevAKvANcCqwFuEdYI5lEUIJ4gncEg94AprtKoN58C7CPj0oijayV4OVskHKOYwU/CRvtW/bKhPpbEueXl92jE28tWmUZqPJa+b24/luS7qm3zqaf7kszN2accxdfJz8hhTmbaUaTzUqdeefO+d1aBZuMr14hprbzbCtReuXw6ENQeB1k6O0WDVYNVg1WC1p33AYLWp+1FXsgJNKfDscy+nT37he+mFl/YXjywuf/tT6VNfOriuXFNGXMkKWAErYAWsQBsV6DQgzO0DRNkiGFUeP6ACLwVHYx3sKGI1QtPcPueA2bxOq31gQ7YYr87L+utEXhsv8aSmTnzVqwqwCpyIYFVRj0C+RlCE8gj2Yl1AEWXUwR6whXIBT/IE/QQWdU5djSHaV1tsCxyqHil5GgO2VKa+yVMfGldso7ZlaWxbVj7ZeGIb1RU01bnGy7k0UB3NnTq6Lqqj+cU+OI7XR3XVR9Q1b+fz9sLWyeBqjPDkuB/1l8/iZ+xVQFV0wo/jLv9uZ3r0McekGfPnz0/9vr/61a9OF1xwQdq9e7f3PtMAOOfr1p9+y7UbGRkZ6OvH/Hbs3Jm2vfnNk954dqoCa3l24qbcNg8sb9ArOhD9okhUImV/7pPPFZGozYzvzvd+vVPuZ7tWwApYASswxAo08zfIdaq/n6jSJXl51XHHH1+ACcBqBDoCeRHaRQBIfg4nY7nAHfWAHNFODlLzc40DmCk75GlM9KM6pGXtNRaBSepF0JiPPdorO54MrMY2ZeOJ5fnYVJ8xqZ50i+PPx6A6UVu1J43zjfnqP/YXy33cXrCKnjlc5ZqTPwhQlehafDDuRLFW4UcRqnLcTqAqWwVY5U3lg7CvWLFioAHPoMJHg9X+hKr4o8Fqlbe17ssKWAErYAWsgBWwAtUqYGhaPTRtRvMqvWDuCSfUBauCbxHsAeI4F7DjsX7gA3WBKMoHGlEP0EHaabCa9112nucx1jh2yhvtOdRsVDfvK69bpq0gKeOivs6lv85JZa8sT2Wk8XrEfI5bnU/e3ueN/aVMnzIAyTVk79dI1XxOcVmAKuBqZWD1xBYeue/VumeeeWZatWpVTz827fU/y9f/BM5Zm3Jtel0Xrt3Y2NhAX799+/alvWNjaWR0tMp7WPdlBayAFbACVsAKWIGuK9AM5HOd6uFrlY7BGqtlEatAN0VrCewBigQEKROYi3AybwfYE3wVEIw2aEsdRWzSPgIpzgEniu4TpBXIpa7gIrZi3Xws1BVoBGJRX3u0F/uPx9jLxxfLdVxvPConlQbSVvNnfKonO6qjuUtH6qlOzFN7Us1X+pEnO8y9mflEez5uHabmmuUgkmvXjP/ldnrhPJ8L54wrRud2GhgbrLYAfA1W+xPMAQ4NVvv72hmsVnlr676sgBWwAlbAClgBK1CdAoam1UPTZjSvzgNSOuHEE8etsQoUAfIA3AQfBfZykCOoB6ATGKIdoIM2AFUBROoI/gH7jjrqqKIex4J/tMtBn+wJDAoKqj/GRHvyZUd1da6xqK76oZxxkbLn88vPGUs+vryO+igbT6wrXahHvs7jOKSv6pBGHWmnOtI29sEx9pivNCEvvjysmfnkNn3eXrhaRVRnJ65ZDk/zpUTy8k6MAZv4d9z5P9LuvVgKoFejUFsZl8Fqf8O5Xo/M9PjK/csRq1Xe1rovK2AFrIAVsAJWwApUq0AzkM91qoevVXrBK487bgJYBVYA3IATOZTL4YjqCXQK9NFWQBC4x7ngX6yT5wn0AQLpux4gUX+MJ9pTn+QLVtYbS1l5Pr94ztg0vpifH9cbT6ynvjVenZfNV3VIo47YU1/SMfbBcRlYlZ3cVt7W59MHqI00JLpzUKBqvXlWAVcjVG30mVH2f6vZPINVv3W+649xO2K1HFr2A8w1WK3yttZ9WQErYAWsgBWwAlagWgUMTauHps1oXqUX8PKqmbNmJSBPHnFWD5Y4v7PAzfpa3172gVZhaVwugCj4dn/OGKx6KYCuQ88q4J7BqsFqFX421T68xmqVt+7uywpYAStgBayAFeglBZqBfK5TPXyt0kf6Bawq6pVoS3bOexk+eWyGo4PsAwDSVtZOFVztRIRuX4PVpUuXpnXr1qWFCxcmHuknvemmm9Ktt946bidPdVp59D+v66UA+hvOTRV6uV13r7sjVqu8rXVfVsAKWAErYAWsgBWoVgFD0+qhaTOaV+kF/QJWgVSCqzy+a7BqcDnI4HIQ59buSFVp1LdgFai6YcOGAqTWg6annHJKuv7669OaNWsK8JqD0lbPDVa7C9imAzgdsdrf184vr6ry1tZ9WQErYAWsgBWwAlagOgWagXyuUz18rc4DUuonsCqQ4tRQ1T5gH5AP9CVYBZQSlbp27dqGYJV6gFUAa6sQtay+wWp/w7npgFm37d61d8Rqlbe17ssKWAErYAWsgBWwAtUqYGhaPTRtRvMqvcBg1YBKgMqpfaEffaAvwery5csLWLpy5cq6YFXLAlCnDJJOJc9gtXtwbbpg0xGr/X3tHLFa5a2t+7ICVsAKWAErYAWsQHUKNAP5XKd6+FqdBzhitR9BksdsAGofOOgDfQlWBUUbgdV2R6vSZxlYPfXUU5P2xYsXp8suu6z2Mqh77rmnVqY6q1evrpVTN9aP8JD6tJ8sL5b7uD48HASwunPnznT++eenGTNmpEWLFqXt27fX/OOOO+4ofmyYN29eEc2d+8LWrVsLX4z5jzzySDrnnHPS0UcfXdpGddHujDPOKPokUlz5SkdHRyfYVpnSq666qhj3qlWrJrSnDv8Pcn9XW0esVnlb676sgBWwAlbAClgBK1CtAsvf/lQyOK0enDbSnGtS5eaI1YOAxrDKWtgH+s8HBhKstnttVYHcMrAK5AIIaT/77LPT+vXrC3hEXln5JZdcUpQbrNYHoYJq7UoHAaxefPHF6YYbbih8Bx9btmxZcbxnz57irZT425YtWwoI+vDDDxdl6HfvvfcWfgisj3oCZ7EDoMVPaRvLOX7iiScKaCrbeT3akJfbjnZuvPHG2g8IjB84HMs5L/shQXUMVqu8rXVfVsAKWAErYAWsgBWoVoG3/sa3DFZ39RZY5ZpUuRms9h9IMvzzNbMPHPSBgQSrLAOwbt26xAuuBEXbkTYCq4JAgCrgKucCqypTCoh67LHHCtjkiNVq4Gq/g9W3vOUthb8QHYofEb06e/bs4jiCS8oisMcHzz333MIXI/wcGRkZB0OJRD3rrLPGAU9s3X777ePqYfvSSy+t1VuwYMEE2/JzpSeddFJRR+f4/+OPP17Y0FgNVvelvWNjaWR0tMp7WPdlBayAFbACVsAKWIGuK/D8i/vT1T/+NcPVHoGrXAuuSZWbwepBQGNYZS3sA/3nAwMJVhstETAdwFoPrAoOkR555JG1x6rrgdW5c+cmHs1WOwGnmAKaVK60EXyKbX08Edb2O1jNryk+wQ8H5Ms/VCeea7kAfDGC1c2bN487z8tli5e/nXfeeTWQevPNN9f6VZ16bVV+xBFHFCBY53zobNu2rbBJRCz5jXzbEatV3ta6LytgBayAFbACVsAKVK8AII8oSS8L0L3IVbTnGlQNVfE2g9X+A0mGf75m9oGDPjCQYJX1VdeuXdvWaFWAbDNg9eSTTy4iBIFFjcAqZRGACTopFWiinnblqY7TiQC1niaDBFbxG0VFM9/cj/Jz6uBDEaw2Or/rrruSdqJTWYJAut55552JiHCdl9lWW6WHHnpo2rt3b63N/Pnz06ZNm2rn2Gjk2war1X+5cY9WwApYAStgBayAFbACVqAqBQxWDwIawyprYR/oPx8YSLAKVK0SrAKpBJqIEJw5c2ZxTj6PPauMdNeuXQnQRFkZAFPdMtBUlqf6ThtD1kEBq6xHGqEq151lL/Al+QDHV199de2c/EYgVeWnn3560YYlAbSzJio/KMj2lVdemVasWFE7V9sIbW+55ZZae+qecMIJiQhZ2TjssMPSjh07aufkN/Jtg9WqbmndjxWwAlbAClgBK2AFrIAVqF4Bg9X+A0mGf75m9oGDPtDXYHU6j/VPpW29iNUIVjnm5VkCTjlYBXqx5iXlBquNYahAXDvSQQCry5cvnwBV0Yb1UlleQjoBKTduhB5ATAAAIABJREFU3Fg7Jz8Hq+SxbIXasKxAhLPK54cCreVK3uLFiyfUK7Ot9qSvfe1rE0CW4/vvvz/xocOasbGOwarXWK3+Ft49WgErYAWsgBWwAlbACvSCAgarBwGNYZW1sA/0nw8YrJ54YtNLBtQDq0AhdgAUIFVQC+DEeSznmKhVoBIg65xzzimi+7B92mmn1aAV9WjfLHyK9Xw8Edj2O1jlEfxZs2YVPiJ/ItW1Zh3U4447rvDlRYsW1fJVXgY/8b85c+YUsJTH81U3T5csWVL48fHHH584zsvLbMc6vNDtla98ZaKPV7ziFcUyA7Gc4zJ/Vx1HrPbC7a7HYAWsgBWwAlbAClgBK2AFOqOAwWr/gSTDP18z+8BBHzBYnSZYFfxxOhFm9pIm/Q5Wm9GSF0Ht3LlzAvicrC0vUpusztjYWBFtOlm9RuX33XffpP2UtTdY7cwNrK1aAStgBayAFbACVsAKWIFeUMBg9SCgMayyFvaB/vMBg1WD1SnBrjIA1st5wwBWe1n/6YxtmMDqrpHRXri39RisgBWwAlbAClgBK2AFrEAlCuzfvz8dedScNHPWrMS7GHgficFS/4ElXzNfs2H2AYNVg1WD1bf1drTtdKDkILQdBrD6ln370t69Y2lkdHf6xje+UclNrDuxAlbAClgBK2AFrIAVsALdVuCrX/3qAbA6c1Y61GDVUPkQA8phBpT9OneDVYNVg1WD1Z72gUEHq29969uKl3mx3MLo7j3pzz73uW7f37p/K2AFrIAVsAJWwApYAStQiQIf/a3fSkcceVSaOXPmD6JVHbHar3DJ4zYUHlYfMFhtEaxeeOGFaffu3d77TAPgnK9bf/ot125kZGRgr9/o6GgxP15q9+ijj6b3/+IHKrmJdSdWwApYASvw/7P35rGaFWl6Z04XS5J7spMLyb4kJBSQJEkCxb7vSVKsxQ4JZDaZJEklBWRVSyW5KcpW45Fc1eV/xo3lcVkzqqlxDy5NlzxjWrLRICH1mLF7GtklPLZxW4NsFzPS8FfH6HduPl++X9xzvuV+y/3iu8+VjmJ533gjTrxPnBPx3DjxuQfcA+4B94B7YL574KWXd6Vly5YFYtXk1EIlp3zfxn6pGBgbscqvlk/DtXnz5vTqq6/6KqwPIOfstzJxi+/27t071f7j/iBVd+/enXbufDH923/77+Z7juv63QPuAfeAe8A94B5wD7gH3AMj7YF/+S//PK1atTotXbo0HX300T5f1Z/B+ygEY6BIDIyNWF27dm0q/TrnnHPS1q1bJ/qz6Wk4U3MU9wA5Nwq7tjn682nxHZ/JT3Nf/+AHP0jf55zVt95K3/3ugfTTn/50pJNYG3cPuAfcA+4B94B7wD3gHnAPzHcPPPjgg2k5xwD4h6uKJJNK3V3odntn7LAxMDZi9eQ+PrmfVN2zzz7bxGqh55GaWB09AToq4nMhEatvv30wfe9730v7Xnst/b3/9u/P91zX9bsH3APuAfeAe8A94B5wD7gHRtIDe1/dl1auWnVot6rOVzXhM2zCx/aMKWNg9BgwsdoH4WtitWxyblTEn+2OFhcLgVgFQ+xaPfj971e7cw9Aru57Lf2tn/40ffHFFyOZzNqoe8A94B5wD7gH3APuAfeAe2DcPfDnf/7n6cGHHqqOAFiis1WPOsrHAPgTcO/aNQaKxYCJVROrU/2JtUhP71gdLfmpfh5FuFCIVZGrHAnA0QcVufraa+mVPXvSH73/d9Of/dmfpf/8X/7LuOe+rs894B5wD7gH3APuAfeAe8A9MOce+Ku/+qv0H/7yL9OvfvWrtGv376bjjj++2qkqUvUok6rFkkneCTn6nZDu4zL62MSqiVUTq4UebzAKEnMSbS40YlXnrUKuciwAZ66ye3XP3lfTK6/sTbt/95VqUsrEdNfvTvb19LPPphdffnni2znp/Tgf7cN3z73wgn034WOsDhv4zb6b7Gdjnd/Is+/K9Jt8t+H005Mv94ExEDBw2ulpg64Np6f1p25I69atT2vWrE0c/XfiiSem448/vrqOO+645Mt9YAwYA71gYNXq1RP3vCiaWL3ooovSvffem84666zq4ayzWW+99dbEQdhcxJU/aOijAMre9TiJpKHb1B1TC4lYBQ8QqzoWgDNX+UErCNYDBw6k1797IO1//bvptf2vp/2vT/714ksvpb2vvlpEW0voz3G2Ed/t/t3fte8KGGc5LvCbfTf5z8fcb6TtuzL9Jt+tXbcu+SqvD9asXZviddLJJ9uPQ8TymrXrEtcpa9amU045ZYZQPemkdMIJJ1Y7VyFWeyFSrGPCzRgwBiYVAytXrkzFEquQqg888EC6//7724jVa6+9Nt11113p1FNPrfKRkzcoqUp5E6vdSbBJJQp9FEDZvmP35qRia1TtEsHK0QAHDx5Mb7/9dnVEwJtvvlWRrRCuk35BErz+3e9OfDsnvR/no3347tV9++y7AsZZjg/8Zt9N/vMx9xtp+65Mv8l3J5x4YvJVfh8ce9xx9uOQsXziiSdVu1PZoXrCCSe0dqmaVDVRNqlEmdtlbPaDgWKJVYhS7UbNiVV2qMZdqnl6EILVxGrZ5NyoCDDbHS0uFtqO1YgnkauEIlj5gSviJVx79uypdtuW0Fa3sR1T+G7//v1F4My+a/cdfrPv2vukFIzYd2X6DXzhO33S7HDm0+5S+iFfPK9evdq+PPR5/rB8yJmq9HO0l/e70yayjAFjoFQMFEusXnLJJdWO1Msvv7ynHavoDUKoqqyJ1dESaJFQGnbcO1bL9t1C3LGaj4EZkvX30g8KOhP41VdfrXbZ5vfi9OSPR3z33e9+d8HtFJ8GbOI3+27yx1gd1uy7Mv2GL/FdJI0cL4dczRfyq1atsi9HQqz6k/8ca06bSDQGpgMDxRKrIjrriFVk5LOjlaMCODJA+oOGdcTqaaedlnSdf/756brrrmstRJ966qmWDJ3NmzenRx55pCVHN+rHSTb6lO+WF+WON0/Ip4FY3bdvX4WXDRs2VGcLR38/9thj6bLLLksXXnhhhf0oI/7SSy9VWIz55KHPBJLxEmUxvnv37nTVVVelc889t1aPXRrgNZbJ4+wsZ3xcccUVtXrk53iXjYW8Y1V9MGhY178PPfRQ5TeOTYnPpbyuO+64I/Gy+OY3vznLdzfccEM655xzGp9jJlabn0l5P881/eijj1Zjk3N98Gm0wxcbK1asqMY541iyXbt2VT5btGhRuuWWW1r5khOaWB2975599tl0wQUXVOOLcRb7n2cysjPPPDPhL8l4D1x55ZWpk+9Mzo3ed53GEL5bv379LN+9/vrr6c4776yeu8wH5dMY2nej912nMcQ8hDVE/jx97bXXqmfm8uXLq7l89Jni+M4L5DIXyPm5eMx57MsyfWm/2W/GgDEwHxiYSmKVhaTOWIUwID7KM1ZZ3DAR07Vu3bp03333VRNm8qKctnCuzG233VbJTayOfgKtCe80EKuQm3fffXeFHTAtUh5ic+nSpRUGIViZIL7yyiutRdvTTz9d4TAnPznnCKy+8MILlTwu3tVvnOvJAhEsy3bUU9nctsoTgnu1dcuWLdWiJcohhE8//fSqjpivuInVwcZJXf9C6PBswn96Tqm/Y6ijVvbu3VsR9yw4JedZBn7wDz8gqOee5IQmVgfzXezLpjh+hFzFR/GfH5DlyMhHfswxx7R8B0muZwnkuMZnrMPE6uh9d9JJJ1XjRqSN/PDMM8+0xifPb57Veu5u3bq15a8m35mcG73vmsYQPzSoeV/uO8hzfIy/t2/fXhHnccwRt+9G77umMcSXMYy1uucp7zfmOTxPO/luPhZzrnNwEsHE6uB9aBy6D40BY2AhY2DqiFUW9xABLP61O5W4yAHlzTWs27GqCbQmx5AU5513XrWAbSIsKMPkmwm2FlIqr5AJHOWVJqzLi3LHmyfkpROr7LBgxyeh/AyOiN97771tuwnZzSRcgSEWCoSR/ISMZaeqbMUyyiN8+OGH09q1a1t6jCfZRk4b2J0TbcfyxPlnAwsV4uzYgQSGsCWNLXZlmVhtxm7en/2k1b/5s4P86EfwoedNlG3cuLGNMAUz+O7AgQMVga+2gAGej0orNLE6Gr+qf19++eXEDiql+ceidoVfeumlbbtR8R271CFu9Oyg3M6dO6v3pWwoNLE6Wt9BrkU/ME+5+OKLK1/yT7Q4Pnn2M8bwDQQA/xAhjj/jc1y+Mzk3Wt91GkOQbvFZyFdT/HMR3/Au1XOWNLvJeRfLb4T23Wh9Rx83jSH+eRznMuwu1vOUuU/c3d/ku4W8qCz53k2smhAqGb9uu/FrDMw/Bkysnnxyi4DthWxtIlZFRBCyyNXOLSbQceGkyTMvcD7LVDnlx5DJneQKc3Ik6jveeTJeOrGa+xdMQEiSL3xIJ6a1iCOMC4bnn3++LZ3LZYsFYfwEHGzHNARbU1nZWLZsWbXLQ2mIAPnjiSeeqO7BxGpn/Krv+g3Vv/mzAwIHooYXMc8+7aLHfsRPXg6SHt9B6EU8sYunjuAxsToavwoH7EznHD+lb7/99tY/9vJ/gmiH8RtvvJGOOOKI6p8clHvuuefS4sWLWzZky8TqaH3HszPuIuboIo0hvkgQoYM/eNZrjOofZeQz7phjxC8UyDc5N1rfdRpD+T+Z+E0AvTM5xkcEOX7in4z8Y4O4LvvucF+oT4YdNo2hJ598Mp1yyiktXzDmtFGCMai5Pe1h7Nb5btXq1clXAX2wanVa1bpWVc9enr8rV3KtrC4TFfNPVNgH9oExYAyUgoGpI1YhCOqOAiCvF+K0m043YpVPbo8++ujW7gQIpzpidc2aNRUZFQmMfOIIaSG5wpzkyMs43TwhF5E3DX0EHtidrXsRPprS5OfkZ6c0u6B0XXPNNdX5qrLNjo5Yd51tlVV45JFHtv2AETtYIXNkk7ATtvGdf7yqGduxH5vief+S5rNxHQXAIjGewSk7deXATo4f/IOfVU6hidXB/KZ+jKHGlULeMfq0lXcYPkNfx3RABrBrjvOU77nnnkqGPmQPfuRz9Lr3lInV0fvujDPOqPzAzjjIHiZl+O7FF1+s/Aixw85jyB2e88huuumm1vOS444Yx/n7zeTc6H3XaQwxnvAX/9zAR4w/fMdYZB65Y8eO6j2KX7X7GDmXfTd633UaQzw/r7766sp/zFUYX/iFf1qR5h8gnCtOPs9P+U2+K2UB6Ha2kxXesdreH8aH+8MYMAaMgf4wMJXEqs5VZVcA17BIVRasTcRqnFxxdqF2nZBft2CFxECWE2JxgpYTGsjq8mIZx5sn5PnCs9S+AjNgPLY/fv5LPjrxkzXywJsIl25pFg+6WPDzGarqY3GR/+hGbptFo8qjC3EDCSQb4B/SRmnCTtg2sdqM69iHneJ5/7Lg//a3v93yAeQNuMlt5OVIQ8CyQ46dyNLHv/hZaYUmVgf3nfpSIT9mpPHFznPyH3/88erMVMYicukS4lcIOs5Klj756PKcgMSre0+ZWB2+79gpLt/pB+PwA/+UxQ8cvSHf6YeO8B8Xz17J2KmK79gxx8RX+QpNzg3fd5Bt8p3OJ+40hiBR8RsknnYb4x/96BXz0yVLlrQd74Pcvhu+7+h/+e7666+vxkunMYRvGG/4MM53dIQXcv5RVbdT3AvR/haik9JfJlbL9Nuk4MftMH6MAWOgeGK12w7TYct7IVaZaLPzhAky8XzBykRNC18tmLQYimFOaCCry4tlHG+ekE8DsQpe2O2c+1k705QPTpj4K00IFslXnn68SOkmLOZ6EAPoqlyd7SgjDjErUoBFJRPYgwcPttnohG0Tq824zvu6KZ33b+5vFp2RdJOd6DvyOOpE5+PGTyZzeypvYnVw36kv60LIgTiu2Rmn8ckxHrxvVI6jAN58880qTRnKImNs8m6TnkITq6P1Hc/A6Ls4hvCbPh/HH0zYdU519B3PdY5Rkc8Umpwbre/o5+iHOIZy36H3ne98p/IRPmXHI+V5t65evXrWu9C+G6/v4hjKn6e8//Q8xXd6nvLFDaS43oVx3HlxXebi2sRqmX7zeLPfjAFjYFIwYGJ1SGesMnHmYoHDZEu7BUWsSs55Wry8yWcixoRNMoWaxJGWniZtdXmSOew8GS+dWK3DCniQ3/k0jZ2gXDFfcrCU52MTogyyNpJkKqOQHbJHHXVU9Q+DTZs2teqUvM62ZITseuUzcexwVIYWmVGnE7ZNrHbGduzHpnjevywg2VlPPv8IiiQOuNBziB9LQwff8U8iEeTUgw55nfBjYnVw3zX5VPn4jk/KufTZKjLOwYVM5YfpIE7ZFakyEAT4FX1wIJJVckITq6P3Hb7BD5ynqi9d5APS+Ad5k+/4h0jdER4m50bvu05jKPpOxwDgV8YZ72rO6+Qf/+w0l78V2nfj9V0+hnieckQDz1N2pcovemfiO36EjB8pk0whvpuUBZ7b0R/ZYGK1v/4yvtxfxoAxYAy0Y8DE6hCIVUglXTl5p3yF/AqwJmCEys/DKKvTj3mO9zYJz31TWr/lGFE63gckWP5pmuR1+pI9/fTTbbhUfgw5Q5MdNjFP8U62pUP4zDPP1JZH1smGidXeMB77Oo839e+ePXtm+bVOl92s2u2Y2+6EHxOrg/su7++6NOO+09ivK4M/u/kOoqCurPOG51cIm3hUSuxb/FM37rr5zuTc8PwT/ZHHO/mhyXfYyL8oiXbtu/n3XafnaTffeaHZvtAspT9MrJbpt1Lw5XYaX8bA9GPAxOoQiNU4IXZ8PBPiufRz6cTqXO55WsqYWJ3ccdUNYyZWy/adidUy/Wdyrky/8Ty178r2nRfPZS6eTayW6TePN/vNGDAGJgUDJlZNrC6Y3UgmVstdrJhYLdd3JlbL9p2J1TL9Z3KuTL+ZWC3Xb/LdpCzw3I7+yAYTq/31l/Hl/jIGjAFjoB0DJlZNrJpY/b2yJ/LddgxOg9zEarkYNbFatu9MrJbpPxOrZfpN5JzHXZn+w29eaLYvNEvpDxOrZfqtFHy5ncaXMTB3DBx73HFp+aqVafHKZenI5cek/2rZ0a3rqBVL0jErl6VVx66e9/evidU5EqucN+mrrD4QOWe/leU3/IXvDhw44DFX4HOH8yPtu/LGHOMO3+3fv9/jrsBxh9/suzLHnX1Xpt94ZuI7L57nvniez74bN7HKAnzp0mVpydKltRfy+ewP110mju03+23aMLB01Yr0O8sWt4jUSKrmcUjWlatXzduzc6zEKr+0Wfp1ySWXpM2bN1e/lsxOLF/l9AHknP1Vjr+ir/AdJE/Mc7wMX/IjIPZdGb7KxxS+48fN8nynJ9+f+M2+m3w/1Y0l+65Mv+FLfDdti9qFcj/jJFZZfB+9eHHXy+SqSbKFMv58n8Z6jgF2qUKU5uRpL+llq1bMy7t4rMTq+vXrU+nXeeedl6644ooF8/n8NHxGrnuAnFPcYVmf2eE7doPYb2X5DX+x2LTvyvObfOdPksv0nY8CKNNvjDv7rmzf5YtDp8sgDMZJrLJLtRdiFZ3ly5en5ctXdL1WrZq/XVrGeBkYt5/sp1IwAKl6xPLedqk2Ea0cGzDu+x0rsXpyn5/dT6L+2WefnbZu3WqCp8BzSU2slrtYMbFaru9MrJbtOxOrZfrP5FyZfjOxWq7f5LtxL+Rc33DIkkklVnslYNEzuTocLHhMuR+NgfnFQH6OahN52i2fc1nH6UsTq32SvSZWy530mlgt23fe9Vim/0ysluk371gt128ieHolxd9444101113pfPPPz+ddtppvua5D0499dTENV++OOOMMxLHXj366KPeRNDnJgLG3DgXca5reIv/aSBW2QlrTAwPE+5L96UxMH4MLFm1fE6f/0OyQshyxqqIWc5mZffruPxoYtXE6oKZOJtYLZco8I7Vcn1nYrVs3/VKzkHm+ZqcPuh1xyqk6h133DFvJN58kYeTXO98E6vqG4h2k6v9jWkTq+NbwA57obzQiVV2ux599NHpG9/4RjriiCPSsmXtn9GuXr06LV68uFHerTz9u2LFinTMMcdUVzf/dasPAoO2xgvbTXa7ta8fexzPEOs96qijqntrqrsun/ujHGGdvFMefYmvaLP0yMM/tE15hPRJnhflvcapi/ZST69lxqGHX8Hq0qVLa9vWTU4b6Z8lS5ZUNsbR5l7qABeMF+6LMC/TTY4+9055MEA8tzGJaUjQXn+oKt+tCpkqEnX1sce2yNnFK8f3DyfGCWMkXqPo51WrV6dFk/hpf79t8o7V/iaZk7TQNrFatu+8Y7VM/5lYLdNvPLvxnYnVMv3XK7G6b98+71Sd5x2qIjIVTgqxys7VK6+80v8w6eOfRiZWTaz2soju54zVfo4CmOuOVZF8InBIQ9wpzT1B2olszeXdykMyYA/yiqsTAar+61QfOrQNO5HAIK7yMezWvn7tQcTFe4C0or2QWLHeTnG1ibCTXpOMfpQ/0MHOkUce2dYu+gMydBik2iQSq9w/l4jR3P/d5OjjM8rnZZv6fRz5+Av/6r7iOKT+bnJ0KIONYfh+HPesOvh0PydMe0lHUhVyVTtWKQtRK/ujDosnVi+66KJ07733prPOOiuJJGVSymdtDz74YHVde+21LZl05hqaWC1zkQlJYGK1bN+ZWC3TfyZWy/SbidVy/YbveiVW9+7d692qJlYbMfDNb37TxKqJ1bEtSke96O1kH2IlXiyQO+kPIps0YjUnCrk3SCmIGeKQMxCjkXwS6YO8W/nYV3W6Ud5LfapT7cvL5+m6OuP9DcOeiNJIZKnf2N0K6SmCjPbEHa+k1WbaxY5h5CKOJYthfk/YxkfRT6o/+g0iEft1u5KxSTupGzsifenn2N5Rjo14j73GuU/aGO8zlm2S02ex72OZPI5f8IeuvD7qiDL1nexEOXrCguRNIf7qpFsnpx/Iz9vQVMck5R+9YmnfxGonUlWkLMcDjOM+iyZWIVUfeOCBdP/997cRq7feemtFrOq//pCsl19++VDIVROr5S42TayW7TsTq2X6z8RqmX4zsVqu30ysln1OrOau2sE6n6GJ1f6eA96x6h2rvSzeJ41YrWszxAxkEjLIAnZkRj3yIIhiXozH8jE/JwSjTPFe6oPYgvwTEZgTXbLVFObt68de0z1gQ30mopV7oQ0Qa3H3qOSR/BJ5J4KQNmKz7h6wF0lU9CDg8InqzNuJPS7sUQc+FbFI2Uimkh99js1JPApAfcv9q9/y/qKv6uT0N/eJjH6jb5psoBtlpNWX+FD9SN30ZawPOWn5GjukaVfe1jxNHf0Sq9ilnPBEXcJEbn/S0ketWNJGrEKadiJbeyFVIVc5t3Uc90o/4994jaLeoR8FwC5UdqRCokZilZ2rpCORShy9ue5SjeVMrPY3yWSBNymXidXJ8UW/mMB3JlbL9J+J1TL9xhj1UQDl+s47VsslV02slj3uRrGIss3RE7ZxIUx8lETEpBOrIu1EBNEXOYlalyec5uWVTwgBlduKcuJ1tvM87IjsUn0QSLmturT0dX/o9GOv6R6oP7YBHMX6uW/KkkfdEJWxDbk+9xzJ02gLXWTcC3FIUGzRJ1zo0hbFkeW2RMSii41Yf94+2jJNxCr3Sv+ITCUd+y72dV2c/qE8YS7PZfgI33MRR7/XuuZCrMqv+Iy6qJO2qu68vZOU1g5TQghVnZnKOalRRjySqquOXZ2OWL54lo7KmFjt8qNS/GIpk09I016IVXatoh9J0rnETayWO+E1sVq270ysluk/E6tl+s3Earl+w3cmVk2sDmOnq3es9vcc8I7V0ROgoyIBRCwpFCkxivommViFFIKAi/dPPCdD6/Loq7rysQ9zUpL+hrDTp+bI62zX5UW7kEbYURjtRb1u7ZOu7NA+5SnM70H5kFdcSmODvlRbCDsRq5SDcNNRAOh3IjNF1FKP/KM47YZsJY1d+i+2Q3GVQ4e2aQcwcuL0l8p3ags683Vxj/R7na9oU52c+6KM7g+9urx4TyIs8VEn3TpZTpCOkljFj9iPbSct7MX8SYtHcpSzUSFM1cZIruakarcfvDKx2oVYFSmaE6uQp5CoIlKVjuSrys4lrCNWr7nmmrRp06Z0wQUXpNtvv73aSasdeU899VR1+D8yri1btrT9yup1112XuKQfQ/Ip3y0vyh1vngRPA7H6+uuvpzvvvLM6D+2+++5rw8Zjjz2WLr300gpn7ObOsfDSSy9V5WL+nj170lVXXZXOPffcNtxGHeKvvPJKR739+/fPsp3b2L59e/UjKVdcccWstqG7bdu2WXiXDe9Ybca1+qhbmPevnj15WGcHrPEL0XW+ozzPRcK6siZWB/ddXb/GvGeffTbxHuIdk/+KN88C8hnnjGOVe/nllyuf4dcdO3a08iUn9I7V0fsu+iF/pkffvfbaay0fxffA3Xff3cqPvjOxOnpide3atdWCjQXTCSec0HZOKfNLFmFc6InkZE7KIoEFL4tA5ccQHa6YN1/xaSVWO40h5t2sLZhPPffcc63xxZhijG7cuLHxfWdidf7IFS2+5xoyHuMFETVXW93KTSqxyv1DBOYEDH0RPwvn/uqIzqbysT+wHcm8KFO81/qkTwiZBfFHGPNjvJf2Sb+TvaZ7gKgToaXyvANkU0Qoaclje3mXoEM70aEfOpGZtEN1ql7K4ivqjTtUsRXTapNCbCFXe/L2dWuL7MxHWEecxnbUyekn+lv3i35dXrRDn6JDnxPPiVnpYjPKSFMXZaWDv+Qz5dWFlIsYynXq5OjntuvycluTkM6PAqgjVyFY1VaI126kKrtW+VEslRllyDjBz/EaRX1DPwpApGhOrJKv4wBYlHAG6w033NC2q1Vl5xLWEauLFi2qCCEmY/fcc09as2ZNguRikUNelEP4nnjiidUPbiEXqREXRIozkc6J1bo86TvsvAieBmIV8uS2226rcJFjhxcH5NnNN99cPYQGoZc6AAAgAElEQVQjibJr16505plnVgu1iBMIF0hVFufglEV+lCuODvVhm4cG9iTjx0/OO++8WbYlJ3zkkUcqOXhmUcK4jXIWK52wbWK1M7ZjX9bF6/pX+FGIj/kHVF7+hRdeqLABRtCJvvvWt75V5UGar1+/vlp05uVNrA7mu7w/69KMXQgQ/MxzQGQA7yFk+A5SHP+pPKQB/+hjTDL29M6SnNDE6uh9t2HDhtYYWrduXcsPzzzzTDWm+EcaYxQ/Hjx4sPIf7wEmavId84roN+ImVkdPrLIQZbHCXJKF7EknnVSNJXyKv3hXMh6Jk8c4w28shJgHsvAhTn68TKyOftw1jSG+jDnllFPS9ddf33qeai6l5yshz1vmT3XjbhSLKNscPWEbF8LEGb+j6vdJJFa550j8xXvnOZaTciL1pNepvHQIKdeNWO1WH0QVNiIpVlcm1tupff3aq7sHbECC0g7qBT/5ffKeoCxy6cd7QD/ijngnYlX3jF3Vi23eK9iK9SOP7Yt9QxwiUG0jLX21r1tbcnvjTNNW2o+P6+qtk6NLP8X+5l4jIZrb4n1Pn/LuJmzSze3U1Y+NnPzM6yNNG6m3TtYk554oF8tQV/RvlE1S/JiVy2Z9zp+Tq2pvr6QqxOrqBmzI1rBC+h5sxWtYtqOdsRKrOWHKeazawZrL+k13IlY1wdJihzRxJtWSKWSQvP322yZWx3gG6zQQqyy+IDKFI2ELUoQfc1P+lVdeWWGLNBhkERdxSf6bb75ZPXhVhnOIWcArrRDb/LNAaYi1qEcbHnrooYq4lU4esqhEh3x2ivDAB/+ksUXbuTfamJclbWJ17gvNXvqXfz5ByqvvKSMfswCNhCu+Y/H5xhtvtD3b+EfWOeec07IhWyZW5+479WGncPfu3en4449v9TvjmPFPmXyssqsOkgDSjQkhYxE9dryyqy6vx8TqaH3HTn8m5+p3/hGsf1zwT4urr766JYPEefjhh6u0nufyHWnZUGhitZ2sjMTlMOKQn3wqqZ2lkHEQD9jGH/hV9fDMZIySZgGMXLJoQ3kmVkc77hgjTWPoiSeeaJvLdHqe8gw9cOBA29jzjtXhEqAsTiED6GuunGAQOcJ409ULWREXqIrHhTDxSLhIZ1jhJBKr9F9OxsT75dmlvoU44nkX+6hbednCn+gq3RT2Ux/+wiYYabLXrX1R3s1efg8QZ/RH7D/yIDJFtNB3PO9FblFH3ofCOTL1cSdiFT3k2CGue2ecUJf8pXzukX6VLnLpECKjXi5041EAukdkskee0txnjKsO6Y4ypB30XVOdTXL6iXK0m7KxP7q1F1+rbK6LvSirq7/Xuqgnf+7F+urk3EvMV/3yTyw/aXHIUp2Lmodx12k/pCrHBozrPjXe8YGuUdQ9r8QqEyOufknUOv1OxCqk0B133FEdC/D4449Xky3yRH5pwUMIyCGLIoER5cSZZFM+XsrLdZ3uPhGfBmI1+hmChKMnyLv33nsTuwYlj7gCP+QTgh/pUH7fvn2tdC6XHrYjacuubHa7Sc7CoqmsdMC7dn2Qx0uCYwiIs5Ah7IRtE6vd8a2+zsNu/cun4zzrYrmIH/4pJQyhw4uCnc350RL4F1m0Q9zE6tx9l/dlXTonVnkmXHjhhZUfcmIVcod/cPBZOe8lEavscGWSl9s3sTpa3+XEKv/A0FjkGSuCHL9ArGpnaiSF+EcbvsRW9J+J1dESq+zQp98jscpClvdYTqyykOadh4yFak6sxqMC0DGxOtpxxzhpGkP6+kJj6cYbb2w9TxmD7FaVDOIh/8rHxOrwiFXmE7yXRN6RZiwpzWIVooA8ZIMuXrERr1jPoLbz8pNGrHKvPL/yKxJr9DXEGzrkiyDk3noprz6gHGNH6aawU32UwVeQV7SHM0mJN+Ggl/b1Y497iH0FuVlHfpFHX9E+iC7uG0zrnoljB5nuSX0MWYo8J01VViE2VV559J1IXeUR6h51hmveZ+pPynKP1M36TTYkR4YttZE47Sa/qW7ZGEUo4pB21NnvJMdH3Jd802Qjtyub3G8uIw+bkkk32sa3EQu5DaUjQaq8GDbJqQsZ90VbaEMsN8nx/DiASLBCrvZDqlI2ErKjvm+eNfR9vEZR51iJVUhUdqmyQGFhyS4QiKE6orTfvCZilcmwLh4uOvcMQqKOWGUHILJIYGiyphB7kiskL5Ic0nXYfSI+TcQqZyLy4pPfhY+mNPngBvxIp1MawkUXZzNiv6lcnW2VVZiPgToc1+WpThOr3fGtvmoKm/oXEo5nZq/lZCfHD+VzP5NnYnVw3+W+0bhSSL9v3bq1Gqe80/ARZXQUAGQA78DTTz893XTTTZVMny3jR+JNvoMoyOt3eu4+lc8Uspufz4r55B8/sOChfzk+BZ/w7IVk5bgVPYfZRa5xKGJPxz/INyZWD8/J6KthXCI8FfIOZr7HmCOOv6hHRwGwkGGhiQ6LG2Qs4vAx/+RgscPClN2usX2yH/PmKz4tZ6xqvClsGkPf+973Kj9y34w3dvlzvBjjCpKV4zpYU/B1BhfPT405QhOrwyNWISVy4kFjSgtVdBhjSncKKQvRIHKDBTDlucgnjIth5J3sDSKbNGJ1kHtx2eFh3n3pvjQGjksrV69q3LUKUdrLmaoiY8e5WxXfTSWxGs9Y5fNUyNV+CdQm/SZiNU6u+KySFziTLPLrFqxMspExcdNiKU7OiDORjnab8vJyTtcveqeFWOWTbXbLRD8z0Y+7m8CUCBTpgSUw1Sl92WWXVXIW+GCYix1w8SwxCIB8sZXbhvhV+c2bN1e7Q+LODiaxcQcrbarDu9pqYrUe0+qfXsK6/mW3MQv9TuRZXo6FKb6DMKWs6sa/7AJSWqGJ1cF9p75UyHnJGl/PP/98tWuKneT8Qy8fi6R5HrDbkTNW9eNW7Fbn/XjLLbekF198sfY95R2rw/fdxRdf3PId5Ck7TiG+ea7ypUs81oG5BP/00DxBz3SO4eBYAHy3c+fOtnEojJhYHQ6ZyvNPFxNmSFEuJtC8h3nmQcbwz3IRq+iTJp9xSgj5Qz6kqd6vkHbsVoKsUx3SQS/mzVc8f9cLX6WFnE2vZybnp3YaQ7zL9Dxl7DGH4X4hXRmj5PHsZCzzxUDsCxOroyVG8CHzDpEPpCFftTOLccZ4k1wheSJSRcRiR3njJlap9+jFi4d+YVf37HC0WHT/un+NgdFhYOmqFR3JVRGnncKms1lH6Teewbxv4jWK+ka2Y7WJAB1Vfi/EKj86wYSZyRaL2pxY5bgAJuSccakFU5yYKc5EmvJKE9blRbnjzQvhaSBWwQu7znI/Q65A1isf4gWyVWnCnHBh0c7Alw6LdnZxKK0w12P3VK6X21ZZhfzyuD5jZSHCmAD/khN2wraJ1WZcxz7sFK/rXz4L58fEOpWLvkMv+i4SqZA8IuajPROrg/su9mce17mbyuefIDwnSBPyTw7J8BeEQjwCBBn/PGFHpPQUmlgdre8gVTdt2tTq9zgfkA/lC8gDfInv2H2ss7abnr0mVg8Tojz7hn0xh4s2mTizA5U8kT2Ss2OVOSFp5qbKZ6cqxKrSCr1jdbTjrtMYgjDVmCNkrGksxvk4/9BgAaWz4lXGxOroFtrMV3kOsrNUC1XiEKRaxEKaijiVjkLymSdjA33pzseOVdoEfpYuXZbYvTrohR2TqqPDnjDk0H1sDIwPA4tXLp0zuTofpKqe63ofKRwFZqaeWNWEmJBJtEgkJmJxF4PkmqAxYYtliWsSR1x6mrTV5UnmsPNkvHRiFSzwiaEu4UZ+Z/cEu2Qg/1mYKV8h5SmjNCFYY6HH4h6c5rtIpcuuFfQIqQNyRjLCOttRztmBLDYh3gj550KUE++EbROrnbGd92Vduq5/8QO/Fp/rgws9h5BByOE7PluN+uiQB9nehB8Tq4P7LvdPnma8M/7xR/wRKsYlfmGXO7K485x/jvApK/nocGZubtfE6uh9xzOV4zjkB3aE4wd9ksx4Q6YftUKW+07nKEf/mVjtTqaeccYZ1T+WeH7Rv/iBPL1bu4UQGTq7jDGks1J1FACED+875oSyxUSbHa/KJy2ZQhOrox93ncYQvmR3P+Mu/vOQo1XwG/n4ivPn45gjbmJ1NItuxglEKP3faZGKXk6+Rn1IVOTYYfxqjI57x2psk+OjwYz71f1qDJSPAc5H7efTf3aw8vn/6povF8aBB94rvIfiNYp6p5pYZfEar0jgxXzFWTBpMqa8PESuPOk25UW5480T8uiXEvtJeMjDeC/sLuXHF/JfqkVH5aI+cXZcsGOtiVSVPjuk+FxVC3/lEzbZjjrE+eQV3Ty/mw0Tq824ruvLurw6H9XlNfmC3XIsLHPb4KETfkysDu67vM/zNOOdcV839vExREDduMOf3XwHUZDX5/TwfKqjAHg2aheq+pdnMv6pG3fdfGditZlYhTyF0ObzcI7PiBf/bOK8Yv5BKaKzU8hn/Uya88/5SZOPPC/PTlWInfxsVemZWB3e+NJYqgubxlCn5ylnGfM8zc80ln0Tq6NZyEOqQoL2skDthVjVLleIVmybWB2N33rxl3Xc98aAMdAJA8ced1w6ZuWyrgQrhOo4f6iqrs0mVk8+ua/zV+uOAtCEyuF4JsNz7efSidW53vc0lDOxOtljqxPGTKyW7TsTq2X6z8RqPbHKMTlbtmxpkal8XcQ5thyFwz8OIVnJu/nmm6tdiyI7xxn2SqzyewKQwOy27ZUI7vc+IKA7Pd8ta38+mFgdPkEACdpEqkKKQo5qgdvLjlVIVNlD38Tq8H0mfzh03xoDxsAwMcAPWy1Ztby6IFuJcx7rfO1Qze/NxKqJ1QUzaTax2r4AKGlBZGK1XN+ZWC3bdyZWy/SfidXZxCqkKkeaQJ5Con7rW99qIySRQ1Iig1zlR476ORqgX9KySb9XYlWk5/79+6sfWGqyN0i+6ihpvjCfbTWxOlwSAQIU4jNfvCrNIjbKu+lDwnLOajxSgDJxxyo62OVSPQ6H61f3p/vTGDAGphEDJlZNrJpY/b0yF87zuXgYd90mVsvFqInVsn1nYrVM/5lYnU2scm4mRyvwuT/nDtcRjhCp/GAR5Cp6EK11eqPMM7Fa5phjXmRidXhkAbtJITwhQvMr7lJlIctZx1yQrJRrWrCLWM3L58QqaROrw/Nlkz+c7z42BoyBacKAidU5EqtvvfVW8lVWH4ics9/K8hv+wnece2bflec7zo2078rzG2MN37EbzuOuPP/ht158t3v37tYPIuqHEacxhDCFJGUn6o033phOP/30xvvOdcfdH+vXr09c3erlB+sg8/AzO3G76c9FDsns8d/7+McX07RIXEj3AiEbLxOrJnwWEv59r8a7MTA4BsZKrPLL46VffBbFBBaix5f7wBgwBowBY8AYMAZKxcCTTz5Z/Zo9v2g/zRc7TK+++urqPNXNmzd3vVeOBWDHKmetnnPOOV3156PvLrzwwopYfe2119Ill1wykjaef/75nuv2Od/34nTwxel89GEkVYmbWC3Tj/OBHddprBgDxgAYGCuxOspPp8Zlm0kmP3ww7k+hXd/gn4ax8HU/Dt6P89GH+I5dM/NRt+scDDM+CmCw/ptP/OE7HwVQpv98FED7UQCQo/xAFUcB8M9xiFMI1htuuKHtgnxlPin92267LUFgjmuOST0+CqDMMcez2kcBlLu4NrFaru9Matl3xoAxMAkYGCuxenKfn91Poj6/vMqvsM7nYtd1z23SbWJ1bv02CXgzsVqu70yslu07E6tl+s/EamdiVWepXnHFFSlekK4iVm+55ZZqh+vGjRtNrPos+p7m/SZWy13cm1gt13eTQKi4DcaPMWAMmFjtk+w1sVrmIhNy0MRq2b7zjtUy/WditUy/8cz0jtVyfTcuYlU/CMVO0Llc7Bgdx27Qs846q/rBqk4/XKV2cP4qZOrdd99dEavco2TjCOOOVdrNLtr77rtv1vXwww9XZN+bb76ZHn300Vnye+65J33rW98aqO0cfzUJ/1wtpQ0mVstdWJtYLdd3JrTsO2PAGJgEDJhYNbG6YCbNJlbLJQm8Y7Vc35lYLdt3EAWlkBpu52GsjYtY5Xik73znO3PCCITgjh07BiL+eiU6tUO1F7JUJCw/dHX99dePpX3xPiKxet555yURqP3i++23306PP/74QO03sXp4TPXS/yZWy13cm1gt13eTQKi4DcaPMWAMmFg1sTqnBVEvE8xJ0zGx2t8CYZL8Z2K1XN+ZWC3bdyZWy/TfOIlVdkvu2bOn72v37t1jI1YhLnVu6p133pmuu+66xBdIkdAkztmrnKMPAcv5qhdddNEsnbzMsNORWKXN7LJ98cUXZ130H+/pgwcPVl/k5DrPP/98dR+DtM/Ean/j38RquQtrE6vl+s6Eln1nDBgDk4CBYonVa6+9Nj344IOt6/LLL0/xTNZbb721URb1+o37KID+JpmTRs5NUnvclt6xZGK1976aNFyZWC3bdyZWy/TfuIjVQUi7cZfVrlWIVXajMk/kB6z47J9dqpCozC0hVedrtyp9EonVTn0k0nP//v3VfXTSnatMdUzae2VS22NitdzFvYnVcn03CYSK22D8GAPGQJHEKiTq/fffX02EIUZJP/DAA9WkWGnJc91+idRc38RqmYtMJuHesVq273zGapn+M7Fapt94ZuI7E6tl+s/EavuPV4lYjOQqBGrdxQ5RdrRyZux87Fo1sVrmmOOZaWK13IW1idVyfWdCy74zBoyBScBAkcRqTnay0wAiVbtW2YXAhR4TVHYeSJaX7TdtYrXcCa+J1bJ9Z2K1TP+ZWC3TbyZWy/WbCJ5eSPG9e/eO/VN3kZzzFfLjVHxiv23btoo8FbnKTlZ+TIudq8z1OF8V2bjJVROr5Y49E6vlLu5NrJbru0kgVNwG48cYMAamjlgVkcrnXJFYVbpfIjXXN7Fa7oTXxGrZvjOxWqb/TKyW6TcTq+X6zcRq/W7VJiKXXaznnntuG8EM+coPR91yyy1jJ1dNrJY79kyslruwNrFaru9MaNl3xoAxMAkYmApiFdJUn/6LWI07VNm9OkpilU/GdPHpGGe/srDheuqpp1oy6bz88sstufKkH0NklO+WF+WON0/Ip4VYFaZybBw4cCBt3749sesmYkyY4BeYwZTSCh977LFqh3ddGekQoscis0mvznYs/8orr1S7gzi2I+Yrfu+9987Cu2T4zsRqM7bVT53Cuv7duXNnuuKKKyr/dxofnXwHDsFF0y+Dm1gdzG+dfBplvAOvvPLKtG/fvrbxRZp8/B/1ieO7iy++OPEjN7mMtI8CGI/vmDMwDhmP0Q+vv/569Tzn0/SYT/zZZ59NF1xwQRXmMtIQPN6x2h/BmhOvvZCr/PN92bJl6ZRTTmkjZrEloia3u3bt2rRq1ap04oknziqDronV8Yy7TmOIMXnNNdfMep4y/9m6dWvbPD+OPxOr5S7uNV4VskCehIW621Aupuw7+84YWFgYKJ5YhUBlAiQidT6I1UWLFrWRp6QhoZhssXDN5SeccEL1667IOxGrTLBz8qwuL07qHG+ekHcijkrpN4h7MPDkk09WE76bbrqpteBet25dRaDweSMLNojWeF+U44p5LOb5JBJijDIs5KNc8csuuyzxIxZXXXVVrV6dbZUlfPrpp6txQLupJydh+VVpxkmOd9kwsdqMa/VRp7Cpf+lzCDlwdemll9b6HlIVPY5UYYIQfQceIBb4XPaII45oPfdiW0ysDua72JdNcfzD+GQcE9c/P5555pm0fPnyKp9dedHHkK2QqnpHxX8Iqh4Tq6P3HeQduyV5luM7fEb/40Oeq3yGzphDJr/wufqaNWuquQ/5db4zsToYqap3WidydcWKFRWpyjMQP0SilDRyLuKyx/zvmGOOSYQQssglU2hidfTjrtMYwg9XX311uu+++yrf6XnKONPzlN3MrDs0JhWaWC17ES1SldDEatm+NKFl/xkDxsC4MZATq6Oqf9Xq1WlR/ln9oOmcVMWeiFXtUM3Tg9ZZdxQAk+ZICLFrkIkZEy0tWjXpInzppZeq3Qpvv/22idVDO3tj/4wqPg3EKrjiTDz6CBKUST5xyDEW5+o7CBTtUAODRx55ZLUrUbhE74033mhbrINbdkDJhkL+ScAiXmlsswtcaRaTyKNtyRRu2LAhPfTQQ1UZ2s9iUjJIA2zk40hyQhOrc19oNvUv+VzqZ/pfcTCjZxqYgDiVDF8Rz/HDIrQOPyZW5+479XmnkB2p0XeMTUhTykB8888Tlcd3EOUHDx5MS5cubT1L2LnFLjrpKTSxOlrfMQfAd9/73veqvmc3v8gaCNX4i+yMrYcffrjS459o/LMEP+E7jUn5jdDE6nCIVd5r8Qev+AcTJDh53/jGNxK+QIcdq0cffXQVP+mkk6p3LvlcjLXjjz++ii9ZsqQVR4YN5qnSJeyVWIXc47nLjuaNGze22Yj2BolHDEZ8lR5vGkPs3mc3se4vPk9ZV/BMlQy/5v/ANrFa9kLexGrZ/hsViWG7xoUxYAz0goFiiVUWHyxC+JGBnCyNn/6LWEU/15tLuhOxKjICHREW5MVFryZkTNz27NnTE7Equ4RMkAllx2HvC99pIFajv9llCNbIY/eFMEc6kmbgBYJE+JENCH7wpDTyzZs3t9LKh6BlnCmtH4NTGjvs7oi2JFMI3iF0lGZBQptIQxCIpGvCtonV3nGuPlbY1L98uo9fIOUhTqOPI37yZw6kOL7L8YOP2IWlehWi62Mc5u4/9WNTyG6qSKzxXLjwwgsrP0CKxN2MvPP4Bwf/3IjkwXPPPVftnsvrwHcQBXm+08PxJ3MAFvLqT3yFj0jzlUD0HeOTY16Q4Tt9XSBiff/+/S076JhYHR6xyjNQ5Cq7wvEFxBy79JFxQaxCkhKHRI07UYkrzT85I5GKDf6pITuEvRKrscyo4tNKrDaNofjPDcZRfJ5CXscxyT+2tZsVXY27XhZf1pnMRbqJ1cn0i8eL/WIMGAMlYKBIYpVJrSY/deQoJCpkwVlnnVXt/lC8TrffvCZiNU5qjzrqqNZuEoiiOmKViTSySGBoYqYw2ozxJvJJ5RzWL3qniViFCGPxBrmFv3Mc5Wl0wA04Ej66paWX28rLoffEE0+02VZZhfkYoB05jtHJ81TexGo9ptU/vYR5/9KnPCPZCcfnrnwWXmcn95XSdTjI/Yw9E6uD+67OLzGPyQbjFBJdP8KDnM/KWSg+8sgj1c42fK3d5hAmxPEjZZt8Z2J1tP6DBIe84csA/MCuR3yHX/AJRA7zHf5pgRwZfiOODjtbGb8vvPBC2/g1sTpcYpXnHv0MwUqci0/5GV/MIyHq8Bf5fKEBYYrP+KcHn/6zUxUZ+uiyq5Vxiyw/n9XE6mjHXKcxxD958cc999zTep7ynqQMeTxDGZP8kwOilTGITBfjroTFn9tYT1KYWK3vF+PF/WIMGAPGQHcMFEms8jkOE5v80uf/THJZeEg+rN2q2G0iVuPkisWsdm5pcaRJl0J27CFjcaTFkmQKmYRHu+TX5Unf4eHJbV1fTAuxCqnKgi4upPnnQcQR8Xj+Kv0BlsCP+qZTmkUfC3wuFu4sJlSOBUW+iyW3tWPHjlZ5dsEyWY07O8B/3MGKbRalOd5Vp4nVzthWP3UK8/4FI/hWZdavX197Rmr+zCENoc9uu4infOek7JpYHdx36kuFZ555Zmt88ekquxfZNc4/HfXJsXQ1NjkeACKAf4Igw19gQEQs+FAZhd6xOnzf8Q8MPVshvOlr/HD++edXcxZ2Qqr/mcPw7OU4B45bufnmm1syPgHHdxzhAjnH8Q4qR2hidfjEKhPm3/md36kuFhj6ESpI08WLF7eIVZ6L+FFnqIpMJR/SlLLoQ7DG4wSQSyfualX+fIT5uz5irKQ47zqNu+uvv74aK01jiGcm6waep3yxE/uAMYsfmF+RH+c1GndefHZffE5qH3UiVqPM8WOreb37wf1gDBgDxsBhDBRJrPa7y3SY+sMgViFeWfyy8GFBxVU3QWXylhNNdXl1ZZ03e0E8DcQqhCU7YSKpiq8hS+LnwBAv7HKKOBDBojzSPAyV5uwwPj8l/f3vf7918cl41OOMVX4tV+UIc9uxPHF+IIvdHuju3r27WoC++eabbTYgDnK8qw4Tq7PxrL7pNcz7d9OmTdUPUqk8i8Rvf/vbbT5BFn3HMwsCjl09nA8JLvQJMp/ICj+ySWhidXDfxf4kHscXYz++Q+I4Jj+OKXwnf8UykAXgI6/HxOpofYcvoh/YuaoxRH6UQbTpmR7z+SdHne9MrA6fWM2JTYhR5fH+hbgjTX6U6ceqJOMfl8QhXxmT7HCVHULvWB3tuOP52TSGeF5G2ZYtW1rzHfL1PNURHDofWc9Oxt2kkoZuV2+Eb04SrF69OvlyHxgDxoAxMHkYWLFi5Vifz8ztIE/rsJC/O0b5zh3Jj1cNkzDt1VYTscqESxeklj63ZBLGxFkydp8wyWYnChMx8lkIsxOF/6JLDxkTbE3iNGmry5PMYefJeOnE6s6dO6sdMMKIQvkdbPCZIgtz/aiVZIRgCZ2Yx44MFnX8+AU4zXeRSpdPICHYqJNFPMSaZE22o5ydIdiHfGM3N/VFOfFO2Dax2hnbeV/WpfP+ffHFF6sdb+zIYTcjzzaVi9hiRyTnA+IzbGzbtq2lt3Xr1up5pl80zwl/7JlYHdx38ktTiF/Yyc7F2Gdxjy7/xGPc8aNHGruyIR+z2x0d/bic5IQmVkfvu0suuaQ6CoB/auCHOIZI62uESJ7mvqt7nppYHQ+xyiSbdxq+glxlLHKRJh8556oqn7kmE3J02bXKxFsyhSZWRz/uOo0h/MA/MXiexvmO5lDM39Hh/Refl8RNrPZGXo5ywTmo7XxxTLpuEe28ySNZ7BP7xBhYWBhY0UByjhsHde+NQd9FncpPNbHKubR8o7AAACAASURBVHY6doAwEnhMxKKMePwPN+eq5deTTz5ZTdYoyxUnbnV5Ue5484Q8+qXEfpLv8zDeC4T+jTfe2NqVFmUqF/OI88M17JRqIlWlzwIfAo6dGspT2GRbckI+mWMhwhiI+Yp3smFitRnX6r9uYV3/4kt8im9j+VyX3an8aBnPqqhHHH/yqTLEfy4jbWJ1cN/V9WvMY+cj475u7ONLSITcx5SHVO/mO5G0sT7Hh+dTfkiMfzzxDwudma3+ZUzhH/ykPIXdfGdidfTEKuSafqgKAk7EKCFp/iGlozmijB2rHIejnatRRtzE6vDGl8ZLXdg0hjo9T3kHskGi7l1IHSZWyydWWczWLZJNsC4swmbcxIzrM76Mgf4x0LR7dFx92fSu6ESKDkM21cRq3YTNeeOZGPfTz6UTq/3c67TpmlidvPHUK8ZMrJbtOxOrZfrPxOp4iNWcFB1G2sRqmWOOd6KJ1ekgVjuRq00LaecfPmfQfeG+MAaMgXFgID/TdBx1dqtjGMRpNxsmVsOvhvZKSFhvuJNrE6vD7c9x4tPEarm+M7Fatu9MrJbpPxOrJlaHQfLGH24a5zu/1LoYdyx4fBXUB6tWp1WzrplzkjnKQ9dKztarztfjjD1f7gNjwBjojgHeBd2IOMvnTkKDwUnqv26E6LDkJlZNrM76lHHcE2cTq2USBODExGq5vjOxWrbvTKyW6T8TqyZWTayOf+wy7oa1cLKdyd39OkkLebdl7qSM+859ZwyUjQH+8TUfPpzv97OJVROrJlaNgTljwMTq+BeIw/rHh4nVsn1nYrVM/5lYNbFqYnX8Y9fE6uSSofO9EHb9xoYxYAwYA8PFAMTqQuzTiljduHFjKv3iV9T51XWIHl/uA2PAGDAGjAFjwBgoFQP8WObatWt9uQ9qMXD++ed7rtvnfH8hLvJ8z8MlC9yf7k9jwBgwBrpjgGNcFmI/VcTqmWeemUq/IIa3bNky5513w9oFZjv970Rg4et+67/fJqHP8N1bb71l/xW469k7Vsscc4x7fOcdq2X6zztWvWPVO1bHP3a9Y7X7QnghLoJ9z8aFMWAMGAPDx8CCJlZPPvnkVPp19tlnp61bt5rgKZDgMbE6/kXGsEhZE6vl+s7Eatm+M7Fapv9MrJpYNbE6/rFrYnX4C2eTEe5TY8AYMAaMgToMmFgtnFw1sTr+ieowyblh2bKd8eLAxOp4+3uY+DaxWrbvTKyW6b9eidV9+/YlPvceBglnG8Mhc0899dTENd/9ecYZZ6Qrr7zSGwn62EhgYtWL/7rFv/OMC2PAGDAGho8BPolfiP3qH6/qY2I2TFLDtg4vir1j9XBflIYLE6vl+s7Eatm+M7Fapv96JVbfeOONdMcdd8w7iTffJOIk1T8pxCqE+6OPPmpitY/5u4nV4S+cF+Ki2fdsHBkDxoAx0B0DJla9Y9WT1D4mqcMkAE2slkkQgAETq+X6zsRq2b4zsVqm/3olVnm+Qq7edddd3rl62nB2nA5K0s43scpO1UsuucSk6hzmqiZWuy+ETRa4j4wBY8AYMAaGgQETqyZWTazOYbI6DILVxGqZBIGJ1XL9hu9MrJbrP3xnYrVM//VDrA7j/Wobw8OJfTe8vhw3Lk2smiwYBllgG8aRMWAMGAPdMWBidUjE6rXXXpsefPDB1nX55ZfP+mEs/uvPLow62Vx/RMtnrJY74TWxWrbv3nrrLf9TYp7+KTHI4tTEarnjzsRqub4zOWffDfLcdtm54cfEaveFsMkC95ExYAwYA8bAMDBgYnUIxCpE6f3335/OOuusikwl/cADD6SLLrqoRa6KVIV8NbE6twnitE2sTayWiwMfBVCu70yslu07iIJpexcshPsxsVruuLPvyvbdMBaLtmHSwRgwBowBY8AY6IwBE6tDIFbz3aYQrBCtIlAhWCFa2a0a8/Nyc0l7x2q5E14Tq2X7zjtWy/SfidUy/Qb56B2r5frO5Jx9txD+gTBp98i480K480LY/eP+MQaMAWPAGBgGBkysjoFY5ZdMuXLCdS5Eal6mjli97rrrkq7bb789fec732nt8HnqqadaMnS2b9+eXnvttZZc5eomh8goH2V1eVHuePNialqI1b179yaOwiCM/j5w4ECFrzvvvDO9/PLLbTL03nzzzQqLsQzxxx57LN16660ViZLLYhq9W265pdY2emAz6ufxV155JTE++KdHLiPNP0FyvEvPO1abca0+6hbW9e++ffvSlVdeme69995an8hmJ9/hM3ARn3sqR2hidXDfxf5siuNffIlPo04nH+O7iy++OD3//PNtZVTexOp4fMeXNVdccUXauXNnmx9ef/31xPP8jjvuaMvHP88++2y64IILqlD+iqGJ1fH4rtMY4r3KFf1CfNeuXdX78qGHHpolQ27fjcd3ncYQY/Kaa66Z9TxlbrV169bqGLLcr/LdMBaLtmHSwRgwBowBY8AY6IwBE6sjIFYhmVhU6mgAkaHjIlYXLVrUIk+/+c1vJtKQUEyymHRH+aZNm9IxxxyTnnnmmUreiVjll2UpHydvdXlR7njzhHwaiFVwzmL6ySefrHZF3HfffS18bNiwodq1fdVVV6UTTzwxQbRGPGzevDmBn5i3bdu2tGbNmnT11VdXZVjIR7nil112WaK8bOd65Oe2VZbw6aefrsYB7aZtOQn74osvVsd45HiXDROrzbhWH3UK6/r3ueeeS8cee2zle8g1iJ06G5CqPMPAyNq1a9t8xwKT5+3dd9+djjjiiNZzL9oxsTqY72JfNsVPP/30alxBcOMrfuUd3U4+Pu+886p3kd5RdWPPxOrofSc/8E8nfMd4k+9OOOGE6pnO8xKZ/I+fFy9eXJE75Nf5zuTc+HxXN4Z4H55xxhnV+5p5YfQdc0AIc/Jvu+22lkw69t3ofddpDPE8xX/Mr+LzFLL16KOPrt6B5557bqPvvBDuvBB2/7h/jAFjwBgwBoaBAROrQyZW+fy/6RzVcRKrcWHDrlSRTJpwa8JMyO4gJmfETayOfgKtvp8GYpWHkBbekJurVq2qcMQuUM4V1r1ClIl0FQbZOSNcogf5wqKBRRxpyrDYkA2F/JOAepVGj0Wh0hCllGMRqbw8hPTVrkh2fFBGOowBCDvaFseR5IQmVuc+Tpr6l/xIpq5evTrt37+/8gt+kC8g1SHO8QO7H0866aQqnuOHo1cigSD/mVidu+/Uh51CfLJy5crWeIIAZ6cVZZp8fPDgwWrsa9c7Y5wxmtdjYnW0vsv9cM899yT+2VXnO57v+octz0rmGeiRt379+lm+Mzk3Xt/FMfTEE0+kdevWtXzC2NLu1Og7viLhHUwYx559N1rf0dfRD3EM5b5rep528t0wFou2YdLBGDAGjAFjwBjojAETq0MkVjuRquyimg9iFdKUxez1119fTZRFasVJM/GlS5dWn8iiy5XLNfETwaGwE/lUZ8N5hyfo00CsRn/yDwUtqG+66aY2HEVcgZ0XXnihIsrAj2y89NJLbUQrelEuPQhRdskqDanK2FP60UcfnWVbMoUQwPF4AuEfOW3leIxO2DaxehjH6tNew6b+xaci37HFzmV9zh/xk/tlxYoV1bMrx09OmKt9Jlbn7jv1YaeQd84pp5zSGo88F0RwN/l4z549admyZa0ykLP6J02sy8TqaH3HmGHXuPr84Ycfbj2D8WH8BxbPXP1ziuenSHH9g8Pk3Gh9JR8p7DSGtBtVuhzRwTOVdP4uZFey/lkqfROro/dl0xjK5zv801rPU44CY4zKT02+80K480LY/eP+MQaMAWPAGBgGBkysDolYZZHBhIcfqtKn/3k4TmKVT4fYsXf88cenc845J/HpLZMvyCp2JGgiplBkRSQwJFOITt2FTek47H0CPk3EqhbkfOoLBnIc5Wl0cuK0W1rYym3l5epsq6zCfAwI/5IT1uVJbmK1d5yrz/Iw718IcRaKEDTE+bQYX3crJzt1OMj9jC0Tq4P7LvdJnj7yyCMrH+JLfIqP0OnkY46l4QgH9PB7k++0oz2v0+nh+JXd+/yDg38uRT8wvvCJ/ikGIafxyREciuND/imCfvSJybnh+Cf2aR5vGkP80CKf++MT/HfmmWe2xiSf/uM7/I3f8b99N3pf5b5rGkP8o4J5PM/O/HmK36Lv+PKsznfDWCzahkkHY8AYMAaMAWOgMwZMrA6BWIVMhVSFXM3J1JgeJ7EaJ1dMlmkHEzny6xasy5cvr2SaqOWTPtIiMKKsLi/KHW+eoE8LscquQjAVd7ns2LGjtdAGA+DqhhtuaFtog0URLujUpfmcGxmfe7O44GIhyJgTtvhcVTs4lJfboj0qz9ms7MqK7WXXY0xjpxO2Taw241o+6BbW9a/8hj83btxY+8NieTl2N+I7jg2IeCIv7r5Te0ysDu479aVCiBqNL3asciwIn/+LpIl+afKxfkCHZwnvrLr3lHesDt93HKUi3z3yyCPVc5XnNcQpu+XizmF2H7PrmCufK8hnPI85CgJCSPggNLE6fN/xWbh8B6HdaQxByvFcxXdxBytjlTRjFJ/WvQvtu+H7jnmMfKcvyprGEM9M1hfsSL3xxhvb5juMWfkOHW2i0NjDd14Id14Iu3/cP8aAMWAMGAPDwICJ1SEQq/xYFQuO/CJ/EohVJtR8ZsREiwlavmDlP+FM8JiA5YslTc4ImbxRvltelDvePCGfBmKVc/WWLFky64ep+HVbJvnyPz+swA9dKU0ogkV5pHVeJnno62xGCBVdkKSRMOOzRulFW5HMUVmFEEGMV/TBPWMi/3S1Du+yb2K1Gdfqo25h3r/8gJ5+RI+y+AR/5Xai75DxbJPvIgkE0QCJkJfHJju48nyn5+5TjStCfhiOHz5Sf3IeLj+IRLrJx/ywnc7oRA+yIH9PkY99xqtsO5y7z9R30Xccp6HP+5FzVjVfvBDnawTmByrHGasQQbnvsFHnO/xm3w3uL/U/Ye67pjGU+45nqI514DxPzet4r9W9C+274fqtm+/iGOIfhPF5yjnkmu9E3+EjfFf3D41hLBZtw6SDMWAMGAPGgDHQGQMmVodArEbydNxxPrPkE6I42WZyJYKUEFKLH3xBhwl0Ludsu/gJZiyrOGVzIqQpL7bF8eYJeenEKpN/iCz+gcAVsSJs8MMnN998c7XTIsdCTqwiB5tbtmyp8EiczxbzctJj9w2LQ9rArsWoV2c7ymkrY5UFC3ZIRznxOrxLx8RqM67VR93CvH+185kz4/BH/oNi8hGEOD8uBonAsy2Sp+hABCHjnM989w5tgowwsTq4/zr5l7OWeadwMY45/xH9Tj7WuY98/YHv83/EyHcm50brO3aw8lzkx42045i+5xmLL/FLPj6j7xib7KrL8WFybrR+o7+jH+IYyn3HMSvyj3Yf81wlrrmi5IT23Xh9l48hxl3d8xSf8R7t5jsvhDsvhN0/7h9jwBgwBoyBYWBgwRKrq1alRUw8x02EDru+OmKVRY8uJmORnIJwkowQAmL37t2tSXaUxTiTa9KUjxPuurwod7x5Ql46sZpjSXiJPmfCzydv+hGiKFP5mEec3TX8+JV+tTiXK80C/9JLL63OHlOewibbkhNyLmw81yzKiHfCtonVZlzn/diUrutf+Y2dcPhHZXNsvf3224ljIni+ibST7pNPPtkRPyZWB/ed+rop5FgGyDV2V/EMiHpNPkaH3ZKXXHJJ5ddYRnF8Z2J1tP7jCxfGH89txpf6nnDnzp2VT9kxF8cnsm6+Mzk3Wr/JT01+iL7L/+HEzkdIVd67shND+25+fdfpedqL74axWLQNkw7GgDFgDBgDxkBnDCxUYnXFypVp0YYNG5Iv94ExYAwYA8aAMWAMGAPGgDFgDBgDxoAxYAwYA8aAMWAMGAO9Y2ARv6Dqy31gDBgDxoAxYAwYA8aAMWAMGAPGgDFgDBgDxoAxYAwYA8ZA7xgwsWpi2cS6MWAMGAPGgDFgDBgDxoAxYAwYA8aAMWAMGAPGgDFgDPSJAROrfXaYWfveWXv3lfvKGDAGjAFjwBgwBowBY8AYMAaMAWPAGDAGjAFjYFoxYGLVxKr/G2EMGAPGgDFgDBgDxoAxYAwYA8aAMWAMGAPGgDFgDBgDfWLAxGqfHTatDLvvy/89MgaMAWPAGDAGjAFjwBgwBowBY8AYMAaMAWPAGDAGeseAiVUTq/5vhDFgDBgDxoAxYAwYA8aAMWAMGAPGgDFgDBgDxoAxYAz0iQETq312mFn73ll799Xw++rZZ5/1Q85j1hgwBowBY8AYMAaMAWPAGDAGjAFjwBgwBoyBCcCAidUJcIIJyOETkNPapyZWjZVpxbbvy9g2BowBY8AYMAaMAWPAGDAGjAFjwBgoDQMmVk2s+j8cBWHAxKpfMqW9ZNxeY9YYMAaMAWPAGDAGjAFjwBgwBowBY2BaMWBitSBSbVpB6Pvq/QFrYrX3vjKu3FfGgDFgDBgDxoAxYAwYA8aAMWAMGAPGgDEwSgyYWDWx6h2rBWHAxKpfCKN8Idi28WUMGAPGgDFgDBgDxoAxYAwYA8aAMWAM9I4BE6sFkWoGdu/Anta+MrFqDEwrtn1fxrYxYAwYA8aAMWAMGAPGgDFgDCw0DFx/ww3pnR/9OP2TD/9p+uxffe6rpg/oG/qIvppEfJhYNbE6kcCcxMEyCW0yseqJxiTg0G0wDo0BY8AYMAaMAWPAGDAGjAFjwBgYDAM33Hhj+ke/+pP07o//Rtqx48G0bds2XzV9QN/QR/QVfTZpuDOxamJ14kA5aYNkktpjYnWwF9ck+dJtsS+NAWPAGDAGjAFjwBgwBowBY8AYWLgY+NG7f70iDE2o9kYoQ66yc3XSxoyJVROrEwfKSRskk9QeE6sL96U7STh0W4xDY8AYMAaMAWPAGDAGjAFjwBgwBgbDAJ+4e6dqb6Qq5DN9RZ9NGu5MrJpYnThQTtogmaT2mFgd7MU1Sb50W+xLY8AYMAaMAWPAGDAGjAFjwBgwBhYuBjhT1btVeydW6Sv6bNLGjIlVE6sTB8pJGyST1B4Tqwv3pTtJOHRbjENjwBgwBowBY8AYMAaMAWPAGDAGBsOAidX+SFUTqyYwTWAaAwNjwMTqYC8uv/jdf8aAMWAMGAPGgDFgDBgDxoAxYAwYA5OAAROrJlYHJokmAchugx+oJWHAxKrxWhJe3Vbj1RgwBowBY8AYMAaMAWPAGDAGjIF6DJhYNbFaS6z+uyd/lPLrj258Ov0///2b6f89dBEnL9cj7QFXP+DcL+4XMGBi1Tjws8AYMAaMAWPAGDAGjAFjwBgwBowBY6B8DJhYNbFaS4L+7xc9lFLakgh1/denXZO+3H9a20We5DH0w6H8h4N9ODofmlgdXd8at+5bY8AYMAaMAWPAGDAGjAFjwBgwBoyBcWHAxKqJ1Vpi9ZON96X/738+MxHq+oP1W9P/vW9D20We5DEcF4Bdjx+WJWLAxKpxWyJu3Wbj1hgwBowBY8AYMAaMAWPAGDAGjIF2DJhYNbFaS6x+dM5tFbFKqOvHay9N/3HvhraLPMlj6IHWPtDcH+6PiAETq8ZDxIPjxoMxYAwYA8aAMWAMGAPGgDFgDBgDZWJgGMTqqz//JH3xVWr9ffXpz9O2bdvSB5+nlL76JL23rX/ykvKDX++lT2jX5x8MtT302Vzw/t57fzP94R/+LG3ZsmVWefKQ/cEfvDdL1ktdi3pR6kfnByduTPE6cMK56Z7lp6R/v3Nd+g+vnFpdxMlDFnWJ91OXdct8eMzdb79Mv0kp/eaXC+2+D9+vidXDfTF3HNmG+84YMAaMAWPAGDAGjAFjwBgwBowBY2B+MTAwsfrDj9KX8Kef/iK9e/BgOviTX6fPPx0ukTl3gnWyiNWf/exvp3/8j/+X9Ed/9H4buQqpSh4ydOYyJoZOrD7yxP+a4nXbXX+c/tn/+Kfp3zx0cvpi1/rqIv7RH/+zhCzqEp/LTXQr887Hv22x9yn9Jv1yUxw8M2TdjMJv08fvHJZ1LofeobK/+WVP7f4lrOChv99+/M7hMu98nGILU2pvx+z7i21Oqc2W2qSKGonId1JbtxzS7520nCnfu/7hfp19P5b12icmVo2VXrFiPWPFGDAGjAFjwBgwBowBY8AYMAaMgcnFwMDEarUt9cv04auzd5h6x2q73yFQ33//77aRq5FURUZ6LuNl6MTqjkf+pPrxKkKua2/8B+k/fvZ/pX997wnpL/7iL6qLOHnIpKdwLjfRucwv028C8VmRpb/9OL1TkasZOVgxnyJeO5XblGZI19+kj2Eng/2mtlT6Lb1s5yXEaqtN7c6vs/fOx78JBHBmqyJWdQ+dbHHvOYHbD1Gc9V0bWd2p3umW/bW/9vvp93//9+c0GOt8neeZWJ1u/OT+dtr+NgaMAWPAGDAGjAFjwBgwBowBY2A6MTAwsbrrg/T512xZ/Tz9+t0n2j7fnyFWP0ufVAoppa+/SB+9t31GZ/u76defx/MDKI/s/fTp15wg8N6M3s8/q7bgffbzGeK2svnZzFEDh3ey/iR99GW09Vn6RUX0TtaOVcZQTq5qp+ogpCp2h06s3rP9j6szVgm5tl3zd9J/+vf/Kf3zc5a09lAS/89/+dtKJj2FI39gVLtDDxGPswjNDmRhLBdIxHbCtGmwzyYx28pB6LZI1yYbzfkUb+1anXVPTeVmt2mm7yFXA+Fa3XfLdYc+wz9EwCpbpHCtblP9zfkzpLWMz4Qz99fetpn7/mXYeRvaHXw0ckwdqgtSle3jXKMiV02sNuNmXH52PfaBMWAMGAPGgDFgDBgDxoAxYAwYA8bAoBgYmFjdti1tf/fXSRzp1198lN7bHkjQ9FX67Bc/TLsO/nqGgK3OO92VPoBs/frz9Osf7kpP7HovffgF6U/TT7ZtSxWX+sWHade2ben9T79OX3/99SGidYZ0/fyDQ+Rs6xzWH6afvP/DtIt6n/hFmjna9d20bdvkEav4K5KrcDeDkqrYHDqxessd/11FrBJyXb71p+k3//rfpA+POabFlH24eHGVh0x6CgcFZtfykcSM8UPkWBtJGcm5Gl3qaiNIo35bHEIw20U6U9HMzlni4a+/z+szgjQjN1uEa1t7eABm5YI89kHb7tiqnboPyrefd9qsO8ADN/ZTtRv3MHk6022H05va2jdAnaEvuuLpkK5IVULFR0Gumlgdr1979b/17BdjwBgwBowBY8AYMAaMAWPAGDAGjIF+MDAMYnVm5+gT6Ye/+CR9ye7VL35dkaL5UQBV+suP0sFtH1Tk55cfHTy8w/X9T9PX6av0yXvb0vZfsEv18/TBdojRL9NHH32eEuXe/SR9lb5IH+7Kjx14Nf38o8/Tl199naiev5kdr5NLrGqnKsRqfuZqP/6T7tCJ1Y0X7krxOvPsR9L/8Pf/YfoXH/+LQ12c0v/xv/3z9Mt/8D8lZFGXuBo2krAiHQ8TcXWkKHmzyMisXGzbbBvtuzkrkrQqL0Ly0IOGPO30jEReVtcMeXio62p2tc5wiU1nvM60pZ6obSZWa/ugamMkiGcTq7FfZs6fze453mdPceo77K8Zm4fT3Hu7r7q1aTQPeRGphOoD5Q2bXDWxOhofym8O3b/GgDFgDBgDxoAxYAwYA8aAMWAMGAPjwMDwiNUZsnPXh1/MkKLbtqVaYvWrT9J7h4jVLz7cNZtYfXdb2rYd4vXr9OkHH6Uv0d/1YfoifZ4+xPahnayHjwHYlg5+yM9nfZF+/UOOIpghUyeVWM3PVM3PXJ2rz4dOrG74ezeleK3/O9en5TevSwcuXpZev2jmIk4esqhLfK430q1cRYDmRCbMXEZW5mRdbblACs4mVuseQJGQPCSfqejQWa/tZZqJzajXiTQNejX3ONNXzcTqTBHZmKmnxYq3dt7WkZhNurLVX9jeDspivxOxuinNLtNfnd1wlMtFoEZSVTqSff/73x8ark2sjtaf8p1D97MxYAwYA8aAMWAMGAPGgDFgDBgDxsAoMTAwsfrBp+mLTz5IPzl4MB189xfpEzjOLz9KP+xIrHIUAGeuZkcBVKQrBO2uBIfKEQBff/r+IbL06/TVV5gOu1wPHQXw3idfpfT1Z+nnT2xPu97/NHHa6iQSqzmpSjoeCzDIztWhE6un/jfXVz9eRajrhD2b0r964pS2izzJYzgK0DYSlbBwbWRrO1nYWG5OxOphQpB77ETIzjTrnQ5kHARjb7tBm+tpIFbbdte2E5ntu1Db+yonPdt15/AwnmFIsz5ob8/sfmq4p+CvYeML0rSOVFU9yEyszsH/I/SZfOPQfjEGjAFjwBgwBowBY8AYMAaMAWPAGJgvDAxMrP6EXaWHt8F9Xf2I1cwZqM07VjkL9Sfpoy8OF/z6y08P/eDUzM7Xgx/B0KakH63irNV06KiAuFu1ir966Ae0Kq72k/TZV5NJrP7sZ3+7+j2c/EzVSK7+4R/+LOOgehsbQydW1/6tq6szVgl1HffixvTZ4ye3XeRJHsOhA7rpk/uKuMnIwUi0dix3uHObicvDOtxTu15OEAaSNDsKoK4/ZjjHdvvSazvntNrh2X4OqvRqz1it6g76VTq0jYpbhG7Wd51022Tx3qONGEcn1Nsi2WLZmd2ph9tzqI/biPL6PjrcB+XJvWO1PJ+VjDe33XgzBowBY8AYMAaMAWPAGDAGjAFjYDQYGJhYbf2AVH7u6fSm6bO54PG99/5mglyFSM3Lk4cMnVzWS3roxOopP9pSEauEulY/dU76Px89Kf3FoYs4eZLHsJdG96VTkYGHGXzFWueOHiITZ/IDmdet3CGyr50w7TTYZojDWfVvEkEoSfvO1tn32m5HpbTztmpPKzOQpC1yUm2ssxPuP96f7P0GujPoqI8OkZltdUfdPolVmVW1hDNnqc4mVn/78cfp8E9/hbbNul/dd9mhidWy/Td7PPt+3CfGgDFgDBgDxoAxYAwYA8aASafNZgAAIABJREFUMWAMLEQMmFjtnwCeK7E6SnwNnVhd8cBpKb+WXHVS+oc3rEofHLqIk5frkR7lzdr2dD2sIWDbf7xquu6vDq8mVqffx3V+d579bgwYA8aAMWAMGAPGgDFgDBgDxsB0YcDEqonVWhL0vPPOS4NcflBM14NilP40sWqsjBJftm18GQPGgDFgDBgDxoAxYAwYA8aAMWAMjAoDJlZNrNYSq6MCnO36YZZjwMSqMZFjwmljwhgwBowBY8AYMAaMAWPAGDAGjAFjoAQMmFg1sWpidUrP8SzhAbRQ2+ijADxBWKjY930b+8aAMWAMGAPGgDFgDBgDxoAxME0YMLFqYtXEqolVY2DMGDCx6onENE0kfC/GszFgDBgDxoAxYAwYA8aAMWAMLFQMmFg1sWpSbcyk2kJ92Pi+D79oTawe7gvjwn1hDBgDxoAxYAwYA8aAMWAMGAPGgDFQKgZMrJpYNbFqYtUYGDMGTKx60lDqpMHtNnaNAWPAGDAGjAFjwBgwBowBY8AYOIyBf/LhP007djyYtm3rn2BciGXoK/ps0jC0aNIa5PYcHmTuC/dFjgETq8ZEjgmnjQljwBgwBowBY8AYMAaMAWPAGDAGysPAj9796+ndH/8NE6s9Esv01Ts/+rGJVQ/28ga7fTY5PjOxOjm+8LiwL4wBY8AYMAaMAWPAGDAGjAFjwBgwBuaKgRtuvDH9o1/9SUWueudq865d+gZSlb6iz+ba36Mq5x2rY/6Ue1SOtN2F8TA3sbow/OzxbD8bA8aAMWAMGAPGgDFgDBgDxoAxMP0YuP6GG6pdmHzizpmrvmb3AX3DTlX6ahLHhIlVE6sTCcxJHCyT0CYTq9P/Yp0EnLkNxpkxYAwYA8aAMWAMGAPGgDFgDBgDxoAx0B0DJlZNrJpYLQgDJla7P9T84HcfGQPGgDFgDBgDxoAxYAwYA8aAMWAMGAPGwDgwYGK1IFJtHIBwHZP94DGxOtn+8fixf4wBY8AYMAaMAWPAGDAGjAFjwBgwBoyBhYMBE6smVr1jtSAMmFhdOA9nv4jta2PAGDAGjAFjwBgwBowBY8AYMAaMAWNgsjFgYrUgUs2DabIH0zj8Y2LVGBgHzlyHcWYMGAPGgDFgDBgDxoAxYAwYA8aAMWAMdMeAiVUTq96xWhAGTKx2f6j5we8+MgaMAWPAGDAGjAFjwBgwBowBY8AYMAaMgXFgwMRqQaTaOADhOib7wWNidbL94/Fj/xgDxoAxYAwYA8aAMWAMGAPGgDFgDBgDCwcDJlZNrHrHqjFgDBgDxoAxYAwYA8aAMWAMGAPGgDFgDBgDxoAxYAz0iQETq312mP/rsHD+62Bf29fGgDFgDBgDxoAxYAwYA8aAMWAMGAPGgDFgDBgDTRgwsWpi1f+NMAaMAWPAGDAGjAFjwBgwBowBY8AYMAaMAWPAGDAGjIE+MWBitc8Oa2Kone//XhgDxoAxYAwYA8aAMWAMGAPGgDFgDBgDxoAxYAwYAwsHAyZWTaz6vxHGgDFgDBgDxoAxYAwYA8aAMWAMGAPGgDFgDBgDxoAx0CcGTKz22WH+r8PC+a+DfW1fGwPGgDFgDBgDxoAxYAwYA8aAMWAMGAPGgDFgDDRhYNHatWvTqaeemtatW5eIK1R8/fr1VR75upBxRRlx7CiPUHGVI1RdkisddYirfuLSJQ99lSH/T//0T325D4wBY8AYGAEG9KzV815pPZP1fNbzWnp6nisf/VhWctkhlK5k6KucZLK/YcOG1vsIPfJln/IxL9qJOujJLvG6NqgtkkmfNDLaIZtqq2wRqr15+0jLlvRlR+loL79f1Y9uvMjXldshX3VKJ7ZLMkLF0Yv2iUseZcTVz7HevKzuUfUrneup/miLPPRVBhtqi/SRKb5mzZqq7VGPODYlU70qo3Yp3STHH9KVjmwrVD5tyuuTTrRBPN6bZIRqD3HsYi/qk6e09BVKFkPquf3226vrjjvuSHfeeWcijHnKj3nokUYmfYVRT3GF0VbUJ65LugrVJtV54YUXpm3btqWrr746XXPNNS1cyufqO+4z5hFX30Qd9NSv6puYJk+X+lJy0sg8/mf6SP2rfiFUXH1IqP6XXOmoQ1z9TFy65KGvMuSTp0v2VVZjLuoRR08y4lwqE+uSrE4+DeNf98c906fqJ/LVD+pr+kd6Ua64+k96sq38vKzkqodQupKpTYSSyX7+PiRfbaW8yhByqf6og57sEq9rg9oimfRJI/P49/iPGBGOlEcI5vLnjfBDGOPCp/IV5rgbxvtfbaQOjZFYj/LRIz+m1S5kxFVOerKt/Lys5LITbUimNhHKjux7/M88f9RXCmN/kqe0+lL9qHzSyNCVjFBx9GRboeRRRlx1xHpVRqHqUv1KS65Q9ZOWLnnoqwz5aov0kSmuMRf1iGNTsry+WJdkhLIpeXz/HzhwoLIp24SLKKSGUlgFla80Ml3oK19x2aAcjSYte7Fh5JHOL+lGOXbiDeRlqANi9auvvvLlPjAGjAFjYIgY4Nmq57ue9zyDFUcmuZ7Nen6jQx5yPduVp3yVRa5y0b70o4wy6MQ8lYmTLeURxjg2VS9xpfXOkkxllCZUOwkpl9dHGb2wkcuG6lFIvuxFPekTKk5daoPyKBPbkstjGeIqJ728TvLRQTdvo9J19SGTTdnAjvpS9mQ7hsTjJV1C5ffy/lf7KBPbQFw2o4y86DeVJ5Se7ol0LpeeZApVRnLarjg6pNUe2SRfeYRKE1c+upLJXl0om+jSFt2j8hVSB3IuCM277rqrRZRCaN52221VOpKaIj4J0VEaHemJDFUoXZGiKiN5t7K5PuUgViFVr7rqqopg5V50cX+655iXx9GLvlJamJWMcpIplF/km7w+ymBHZRVSPl7kU4/sSC+GisuflFce8diWvM2xDHGVk160hYx8QnTVTuUrXVcfMtmUDcqpL2VPtmNIPF7SJVQ+duhjtUH5ClU3cvJiG4jLZpSRF/0m29GG7FIul0tPMoUqIzltVxwd0mqPbJKvPEKliSsfXclkry6UTXRpi+5R+QqpA7naG/XUTulQRnqxvOLRDmW48raiE+9FerEscpVDLvuE0SZxyuV5KqN7Ia28PI5NbMQ6SAuzkqm80oRqp+4nr48y2FFZhbEu3ZPsKZ2HKktdaoPy0I1tyeWxDHGVk15eF/nooItM8qhfVx960pEN7KgvZU+2Y0g8XtIlVD526OPYJskIVXdsr+TIZFO6hORFv8l2tCG76Ody6UmmUGUkp+2Ko0Na7ZFN8pVHqDRx5aMrmezVhbKJLm3RPSpfIXUgV3ujntopHcpIL5ZXPNqhDFfeVnTivUgvlkWucshlnzDaJE65PE9ldC+klZfHsYmNWAdpYVYylVeaUO3U/eT1UQY7Kqsw1qV7kj2l81BlqUttUB66sS25PJYhrnLSy+siHx10kUke9evqQ086soEd9aXsyXYMicdLuoTKxw59HNskGaHqju2VHJlsSpeQvOg32Y42ZBf9XC49yQghVlVG8opYVYVkqjEoqjA3qHzloYuO9GRYDZeMNGXySw0grLtkL8qwQX7sbBOrJpVNrBsDxsDwMcCzlee3nv11z2yex/EFmL8fVIZ82dFzPOqihy29L2I59HSRL13l6V2hUPnSlU3yVTavS7qEsXyMq/3SRZbnqbx0CNHRpXS0Sx7tIY94tKtykpPO71P6ytf7kXzlqXxePzoqL1nenkl+/6utse3cT8zXPZInvZgX4/Qv9xvzVI48Tcrq7OR5uW70AXHqUhlC7CtNnHbEMvI9eVFP5WSDNBf1oxsv5SGHrIRIzcnPmBYRGolOxQnRxQYELWn0JUemvGiHeKwj6ud6ShOKWIVc5dJ9qj8UKp/+qOsn9Qf9ia70FMbyMS5/Rb08D1luEx1dyIlHu+TRJpUjlF2Vk5x0fp/SVz4+VjuUp/J5/WpHrC9vj8f/DI7oq3xMq//os7xvc93oA+J5n2Mr2hj1+Kf+vI7c9+ioncjURuLSxUbEXJSpDOVkh3jsi6iPjuogzK+oKxm2yFeofOnKJvnSU/8rT7qEsXyMq/3SRZbnqbx0CNHRpXS0S17sj2hX5SQnnd+n9JUffaE8lc/rVzuwK1neHo9/j38wwQVeFBdOPP5n+kb9kveRxnAcYxp3KhPHJ7KoS1xyxSknG9LXWPf4P/ycj/2kvqYP1Xe5HBl4jnKVIy9/p5MHsSod2a6OAkAogZySVygdQl04MjYi6sie8gQM5StUQ1Qf9ohLP5ZXGeWRNrE6fELFJJX71BgwBrRjVc9bQl08t+PzWDo8tyVTntLo6/kuWXx/yF589uv9gH4eR192FI9p7ChfNqMN2ZRMutIh5JJcbSUtHdnQe5N8xbHHRZ5C9HXJBiE2VY90yZdOrFPtiHrEsStZXgdy6UtGKPuSx7ZLT7YVKp825fVJR/bQJR7vTTLCWD+62Iv6sbzKKY808WhbcfLjhS73Rn1RR/erdnS7H/Qpz0UZtUHl1caYr3gMKR91Y5tiXPeQt4v8aI+0ykW78X5zfcjKSHyK4Ix5kQCNJKfKRl3iub7khFyQsDFPO2SjPdnI64NYZbeqdqzG+1Fc/UJafRz7Rn4ij6uuf6RDGOXyAXalIxsRR4rTBi50FapelVOIzeg/1a16Yp1qh2zKPrYkUz0qH9simeomlDy2XXrIpKM8QtqU1xd1Yzzem+oijO3DJvbIl77qJa1yyiOtdigvliNPF7rcG/VFHd2v2tHtftCnPBdl1AaVVxtjvuIxpHzUjW2KcbU/b5fuN4YqF+3G+431yy55TW1HJ9pUGULdu2ySRxx9yZSnNHL5V7J4X8hlAzmX2lYXR1d2FI9p2qJ83Ue0J5uSSVc6hFySq62kpSMbEUeKY48LXYXo65IN1aF6pEu+dGKdakfUI45dyfI6kEtfMkLZlzy2XXqyrVD5tCmvTzqyhy7xeG+SEcb60cVe1I/lVU55pIlH24qTHy90uTfqizq6X7Wj2/2gT3kuyqgNKq82xnzFY0j5qBvbFOO6h7xd5Ed7pFUu2o33m+vLRlPbc5ukdeneZVO2aINkylMaXflXsnhfarfuAx21rS6uulUOHdklDzvSkc1oTzYlk650CLkkV1tJS0c2Io4UV7vQJR7LqJxCbKoe6aKvMrFOtSPqEceWZMRlmxC59CWrk8e2S0+2FSqfNuX1SYcwxuO9SUao+5Mu9ohLn7qUJpRejEtXempfDJFxb9QnfeS6X7Wj2/2gT3kuymAXYlXl1a62owCUSaiCurHYSMWlHxtKXOUJc101QHbRz+uS3brylMOGLhOrJoBMAhoDxsDwMcCzVS8jPXd5Juvlw3NbLyY9s/X85/ms5zeh8ru9D6IcG6qLfNUhu9StfHRjWXRiXq5Le1SWuNqrUDLZoB2xDPmkufK61E61h5D6pa9Qecixl9eBHXRjW9Q+ZMpXfehiA7u5HJnyVJ/SsY5oS/cuPcrFK+oqX/UoVL50ZZN88tDjUr70FOblSaOri3Ssi3LIVJ4QuewQCgvKR0d2Y1tkN7ehulWOkDz0o03F6+zIZgxpA2nZi/dBXHLZVZpQl8pLprRC5ROK7BSpKdIzEp86KkAkp8hR0hCg2qkqW+TF8rId85UnvWg7j0filR8K0G5VyFX5Uf2V94H6jPxcV31IWeLqa4XqJ9nIxyb5lONqql/tUf3SV0ibiCPHXl6H2hbbovYhUz5x6Xr8e/zXYUMYEWYURl2wk+uBUY0BYQ89yoNd5CpDSB6hdFWP8kkrT3oxL8axobpiGcqRzsd0LJvbznU17tAjrvYqVH2kidOOWIZ80lx5XaS51B5C6pe+QuUhx15eh9qGXHWofbJPqAu72MBuLlc71SbZIY1MdURb6Chf5WIYdZWvehQqX7qyST556HEpX3oK8/Kk0dVFOtZFOWQqT4hcdgiFBeWjI7uxLbKb21DdKkdIHvrRpuJ1dmQzhrSBtOzF+yAuuewqTahL5SVTWqHyFZKvONjJ9egr1a32oEcZ2iGsqZzuVbqyrXzSyqOMbCsvypGpLslVD2n5sc5Onpfrqg/RI672KlR9ah/tiGXIJ82V10WaS/eitkpfIW0ijhx7eR1qW2yL2if7qku62JBPVE4ylVF9SqsNpHWRp3uXHuXiFXWVTznyFSpfurJJvvTyuqRLmJcnjQ1dpGNdlEEWbSCXHUJhQfmqh3KxLbKLXLqxfpUTsYqO9BYhVCMJ1VDFBeyoJ4OSqdEqg1z6kqlBhJILALInWQyJc6nBhCpPvonV4RMqJqncp8aAMcCzVc9fPaMV6nmsZzEhz/+YT1npK56/I6I8L6u6KaN6lEcafcmifenyfpJ9wvi+ko7qpLzaVhePdhRXnaSxo3zZjPZkUzLpSoeQS3K1lbR0ZEPvTfIVxx4XeQrR1yUbhNhUPdIlXzqxTrUj6hHHrmR5HcilLxmh7Ese2y492VaofLWXUOUlI622YDOvR3qE6CInlC3ylUeofHRURnG1Q+WjbcWRqR3SR6b7VfvU5liOOOVlg/Jcah9ylZceofIVjyHlo67aBIlZtzs0kpk50SkyVOVEqNblU1b5dXGVVR3RpvIUoguxqh2rEKx5v3CP6ifi9G/sh9jf6g/1hfqPsC4e7SiOXrSjfNmUn6JNyaQrHUIuydVW0tJRuyKOFFc70CUey6icQmyqHumirzKxTrUj6hHHlmTEZZsQufQlq5PHtktPthUqX+0llH3JSKst2NR95Hrok4ecULbIVx6h8tFRGcXVDpVXG2KITO2QPnLdr9qnNqus6iCUDcpzqX3oqrz0VC7qKI+Q8lE3tinG1Y68XeRHe6RVLtql/pgfyyne1PbcJmldui+1QbaoSzLlKY0u96EySssmaS61l3y1rS4e7SiuOmVH+bIZ7cmmZNKVDiGX5PIBaenIRsSR4tjjQlch+rpkQ3WoHumSL51Yp9oR9YhjV7K8DuTSl4xQ9iWPbZeebCtUvtpLqPKSkVZbsJnXIz1CdJETyhb5yiNUPjoqo7jaofLRtuLI1A7pI9P9qn1qcyxHnPKyQXkutQ+5ykuPUPmKx5DyUTe2KcbVjrxdalMMVS7aVd9FPbVDeU1tRx5tktale89toS9ZtK82cR8qQxjvSzqqk/JqW1082lFcdZLGjvJlM9qTTcmkKx1CLsnVVtLSkY2II8Wxx4WuQvR1yYbqUD3SJV86sU61I+oRx65keR3IpS8ZoexLHtsuPdlWqHy1l1DlJSOttmAzr0d6hOgiJ5Qt8pVHqHx0VEZxtUPlkUOsEupCtghFGcuNkEYuY1GuhmCEm0KHOJf00JGebBAqL8pVNg9lV+WwrXYRmlg1AWQS0BgwBoaPAZ6teh7zrOV5recv+Xk66kY95ROSrzRxPd+VR5pL5VWHyqp8LKcy6KAfZbGcyhKih0x1qYzqVTnlx3ccebqirdhWlVcdhKqTMpoIECJTKHt5O0jLptpEWnlMKNBBplAy9YlsKF963eSyGcvrXrAV+0a2CdGRnmwQKi/K0a+70Cdf5WiD2q24yimtviUtGaHSskn9xMmPbZId8lQmhvJVbJN0ZVs2CMlTPaRVF21SPMpzG2p7tKn7Uvmoo3jUUftkAxmkpXaSRlIzxnPyMxKdihNKj7ApXzLpoqf6lUda9ed2dBSAdq3q/tS/pLlP9Z/kumdC8gjVb+p3lZGu9JQfMU6ermhLfRzrJS4bqpMywqiwpFD28naQztsU6/H4n/Fr7Fv1Weyn3B/4Bj35Rj5UnmzEUL6irPQVytfo6yJP9ZCnumiL4lGe20BPthTqnlQ+6igeddS+WJ481aX6KRPjsqF25+VjOurW5SMnP+qpfuWRVv3oqt0qq/KxnMqgE+9JNtUWlZVd5KpL9qSr+pSPzxUn1BVtxbaqvOogRK587FFWWFIoe3k7SKus2kFaeR7/h8eI+lZ9FvuJuPpPWFGfI5MPlScbMZSvsCN9hbKNvi7yuJRGV21SPMpzG+j+/+ydCbiWVdW/qT4HHLJMzTIVzRkFLOdEZRBlkkFQGZyVKK0sM8vsX5laaWafAw45EQ6laaaiiKaCIjKooCAIilMOWA4pJpWy/tf9HO6XdTbvYVCy4TvvdW3XXmv91m+tvZ/hPSyf8xxjlWV8xjjPGOvL8djMZX5i8lwO4jIH9lLP2JxHOxK7OnPza0M3f85prPE5zhgweU1yEuOQBxxzc8lX4rRzzJ0jHeDlcj9yXnMgxRHjOeq5pJSvrAMdDuTZZ58dfm655ZbK1tT1f/PNN8fTTz8dbdu2Debl580334w999yztg977bVXYPPz9ttvxzHHHFPl0Dd16tTaWqjJvaEW8F/60peqWlmva2a/qB2pLfvhqTfAYzfOfZHPfQGjz73NPv1yIckvT65JHmxyZOmxsiafWAWDDe7qHasmkZBADhR2fQQ4xJlMHH592pAlDt3Fy5lxcrhYubRnbHNjdcU3VJqbVM172nwONJ8D+YlV7+1+2eR7sV/q2VbOuWfD4b1cne+Bet8BYpHkdBBX5iOX3yf40XMe59jlyzjxSOfkswZtxFhHPX+2MTdOnjIndjBgyxrV8Tkyj3M54HEv5ZM7S+Z5iEVqh+c/5fvffXBvqd0560F3je4pdm2uG+kQp0++ejJjqcVzU7uSnPitN+OsUwwx4nK888xDDKOsFQw2Y8Tl2Ny4ZG5z0wZo9tdrdhpT73UBxsqFrNdE5elYm6n1sDmvf7yqffv21ZOrrgnJcUayXqVrV2LP+yIuS+fsHdiSD7uj9OcY5nKJy1z4sCPBljWqmytz45NTDnjYA3T55M6SeR5ikdrhab7+G+717El53LKejxN7n69rfeLxM9Azjhyev/qVclgHeubxmHn8ci6PrTawORa/cZlffPYRBybbjHEt6NrKuXUjHXB6zjI3b8Zit04kvjIfudy/zME8D3DyZVy9mslV1kRMrqX05xjm8oorc2IHA9Y6rVG9Xj58cspBnHspn9xZMs9DLFI7POxxroE8DnFIMdakL9tLHLrHS07w4uSwNrm0Zyzx2Q+vfvPU49HmupEO+fTJV09mLLV4bmpXUktea8ZZpxhi8rrQ8cmVebAzylrBYDNGXI51vfrEmk9O/MTlPDnGtWRbOYcTjpwD3XNWH3EZi906XU+ZjxjPJ2vPeZyDky/jzIl0Tq6yJmJyLaU/xzCXS1yZEzsYsGWN6mW+L3/5y/GnP/0pOnToEDQ6//znP1eNTHjcS/nw8+94Gqv87AQmDxqtDNeFjxj4aaZip1lqY5ac5HvuuedqOa3TpmturOqD1zkS3ePFHrg/4pAM12GsdjmQxmqD1zl49Ho82pDmYq4dDn3y1ZPYbKxSi+dm9Y7VTAAQgMnQGWKwoytdWD2/PiR+uYzNPHmOP28QPji0MQcDZ3NjtbkB1NwEbD4Hms+BFX8O+MSqXxbet72vq3N/9v6O9P6MvbyvE+Pwvm5s5iMndmzyZf+S7PiMNQZZjlyb8xxbft/I1WqXDrH5YcfHNpfeEduNfiLajp0TbcbOjrb3zYh29z8S7cZMiHa/uz62+dqXYtNO7aPVFptXuXMOuZT6yFna6q0FPPvi3qBbb4lHB2cMMu+veOxiqAG7NjHWppS3nl8fMnMZC3e9OTbXoh8Obcyx33HHHXHnnXfG5MmTmxz4GcaYk3iGdVm/Upx+dOfEuSZ58DO0qyvF6ZcDP/OM+2TbzrF+u70ruz7jxSGtFV+e5xjx+MnN0Gbz0wZpls5pdubGaW6QZgzz/bt3i8O6d40v9eweX+nZrRpDe2LrFn26N36S1Vgbp7mpWuYUY2OVJ1Z5JQBrKfdFPe8H69WO/Hj/j0eL21pEi1tbRIvb3+cY1SJajGoRq/x8ldoxIB/XF/VxzlpnWYc60jl4asy2emvBD2/m9voo8R57Y5D/Dde/63RdTe1b6c/nAhz45VJiA6dfjHb2XWzOqx1cHubUj85cPrHitMud7WJz/jzPMRlLPnNm/hIvl7GcKzm/HMaBI0aJP/ucy6EED9ZYcdjz+Slf9jNvyo7PNRiDLAd59DtHN9brqcwjRjuxDOOYN1//i85v9slj7D67Z+X+63fv9cOhzX3P+60t8zblh9NhXWKV1qEf3Tmxrkke82pXV4rTLwd+5iVOuz7jxSGtFV+e5xjx+MnN0CZniZdLXPP13/jnDPebvXTv8vFg/s+6/ml02gwlv/rPf/7zqgHapk2b2rkAbvTo0fH4449XT6xSl8e/Y8eO8cILL1SN1Hy8c7MWu41WnkJ1Pm3atEY1wHvWWWfF7Nmzq6YszV/2xVxIuMAx8p7Vm2PzWtcPhzbm2HPd2nKOpvzEOqxLrNI69aM7J9Y1Maexal7t1ROrFkUgA10iydA5WTKBc8iZI8EjteV4bWAtIHNYh1xK45CesGAZzY3VFd9QaW5SNe9p8znQfA7YWPU+7L0ayX3doc792Xs1tvJ+7neBcfrRmRMjBzLb/e7BLtb4Mr8cOV9ZD1/S+sHjFyOvecCRv1XbHaP1Sb+M7X83Oz5398vRbszz0XbMM7HdmCdju7EzY7t7p0ebcY9Eu/EPxg4THogvPHRn7D7x+tj10h/Elvs2/LEd8yjNVdbgOq0RvOvSZ2z2MSfGYR755UMXI0/WM48cHgN094a53HIitZkv44wvfdaRsZmLud//I0aMqP5v/LI0VrmXgc81lbnJ6aAOzg/Xa5x1Wx92eZjn+jMXGDmQ5RBLM3W1QZfFyl+6sxqrDbws1m/XudF1IVZOecnN0C5OaU5052UzU92mJ7qjtKE7BvToHhf27RG39donJvbpEtP77B2z+3SJWb07x6O9O8cDPTvFzT07xU967tuowWrDFB7mOb/c2mnu+o5VXwWQ99t1uzYkNtarBP/xAxY2VWmIvt+mqvELm6urn7R67Ti771mSP+vMXQP16tOGtHZ8eW34xGUfc2Iccsovn/uQ5Ny9AAAgAElEQVSDLo8x6JlHDq8HdDHM5ZYTqc18GWd86bOOjM1czL3+wTq04YeTazdzmS/XVOYG4yD2X3H9WzN1MrduJDbrR6f+bAPP0O5alBmb53kfzFPatMuFBONQz7zYXA9zfPIapx+duTh5st1zD59Y48v8OV4fMuPfy/c/8QzqMkeW1o+sN4gt7dYEjz5t5tKec+ETh18fc/cXmWP1iRcnT9bFZg6PAT5ikHIpwZe1lDh04jM3MdYhlxKfc691sA5t4OBsvv4XnUvsm3uX99F5PgbiSpt2uZBgHOpwyoutPJ7yGqcfnTkxciCz3XMPu1jjy/xy5HxlPf+p179PmbJ2BjrN1bKxSiP0gQceCJqcNFb52cl9QoIn1j12v3ktAE+lEocPnSdY0WnGMv/Rj35Ua8rCBTc5TjnllMpPbvhyPubamFO7x0dfPp5ikXnute76kdrAwflBX/++YzXXXz2x6sLyQp0rXWCWELEI4uXIkliTEcdcLBK/fMxzrhyXeciXuZobq80NoOYmYPM50HwOrPhzwMYq99t8X/ee7T3c+7o47d7TS7/3c3HGiStz+V3g94P+jDdX5gYnRg5y+cUrHzbmWTLPY+O2O0W7i8fF5+96NT5/zyux/Zi50W7MC9F2zFOx7djHY9uxM2LbsdNju/umRLvxk2KHiffHLg/eFXs+ckvsM/2q2HfyOfG5o/eu9jHXQo0O8jlHoufvO9cizvpcRxkLXh9Y82KrxyUWHudKc2UJx7/q+9/r3XW4dupzjo8hFh/rEYPE7xqJw6ZdbvzGGWsO9OwjprQZww+AzB3m+9Tm7WKtnj+sNVRXHnpHrPLF0bHKF0fFKkNui7W6fS/W36xNVas1yamOtE4k3GU+Yjyf8NO8tHGapY1O/fWkthP26xYT+veIWX33iSf7dmkYffaOJ3t3rsYT+3WMJ3p2qMaMnh1iXO+949ju+yzWSCW/TVQbrEobsPWeWPU45LW7J/icI1n/Cmum2lTN8rYWtWNkvnysrTX7tCE9ptry8SKGkXFye7yNEwNeH1jzYqvHJZZ450pzZQnHv+r6t36la6c+5/j0WzfrEYPE7xrdN+3G4jfOWHOgZx8xpc2Y8nrM+ZwjzWsOdPYZqU9OdaR1Iokt8xGTr385zKPELh82cVk6J5c1aCMm11L6cwxz48SVObGDAVvWqF4vHz455YDHvZRP7iyZ5yEWqR0e9jjXQB6HOKQYa9KX7SUO3eMlJ3hxclhbyUWMPrDoSGzMSy6x2J0rzZUlHNRnXnyZ0zzGmFM8fn3Mcy5rxZ958n7AU3Jagz79OY8YJH7zWrt2Y61NDusXj18fMcyzDR1seT0ar19pXvOgs26kvhKL3TqR9fIR4/6Z2xxZgpMv48yJdE6usiZici2lP8cwl0tcmRM7GLDWiZ7x9fKBFSMHce6lfHJnyTwPsUjt8HzQ1z8NUd6BytOjNDT5NX0apO4LkqdWaXTy6/w0OW2sugf8HIXNJ0uJce0+lUocdrjJQa7s4z2rvOuVPbB526tXr1pjlVj2ypzweyzw6XcvwbrHYrNPHs9fuZRyEuMcn/7MJQaJ37zEicux1qZPfvHf+ta3GsWBq55YNQAJWCJvBE0lF6uUx8VYsEXixyaOOIY60o3TBt46zGN96M2N1RXfUPEfos2yeW+bz4H/u+cA91buw97Hvf/mezP3dnR8/pCh9F7v94E4sNoyN37tYuUgxoFPrLhcR8aVdnXi4Ea3BnNh046tVbudo92lE2Kne+bFDvf8ZWFj9cVoN+a5aDPmyVpTddux02Lbe6dGm3EPxeceeCB2e+jO2OuRm6LrzBHRZ84FMeDZ02LnYzvHhq0W/94jX94X60O6RutTB++8lHkPfjZkjXjikhbx9OX1B74zh6wRrbdo+EcSeRh+77oXmdN84LDn2lyLPnQGMRlX8uFf1u9/70twlLWYh1zkFatuvdaH7jnL3Pozt5zIMl/GGZ+5wbv+jMX+8U7HxqpH37ywqXpHrDx0UUN1laNvjVWPuiVWPfLmWO3g38Taexxd7bX55SWXNvjVXZPrQeJjsM82LGmSOngyVLvSJqqNTvTe3brFeX16xKwDusWcfl3jyf0XNlZpqtpY7dUpnuzVMZ7Yr6Gx+kSPPeOJ7nvEQ933iu/27Bo9Fv6hK3jlJqdzpfn54d7XAORXAbjneQ/c57zv2Pi1/aaaqx8Z/ZH4+F0fj63HbR17TNwjuj7YNbo91C06TOoQbca1ifXuXi9WGr1Sk/Fwl7V4LNx761JSs8fRWH3Guq5SF1dPYst2zwW4mMOFP3PmPNjBWZt4OTO25PF8Mwbd45DzEZf54FzW619u461BHT8j51UXmzncH3zWL5cSPDWWa9ePZBCfucFbR8ZmrnIO3v3HB5+c6PKYSxt263RNYHJd+NnnHGsOYrCjK82bucWLwWc+pXWAwZ9r1Ja5zZmxcmBzgBMrZ64j40q7OnFwo1uDubBpzzZzsj7zalOS2xzMc7x5cizzMpY4bMaKL3Vx9SS2bPeYwMXcWjJnzoPddboXmTNjsWce8NqQ6O5JxpV8cDZf/w3Hnv1y/9kX9o3Bnrn3SHDuqfup7jEH43GQp/n6/8+9/ml28uF9po8++mj1xGo+J3iClcExt7Harl272rlDw5WnWfF7rhDPoHnKz8t+aOLyblVwubEqL01amqy8CkC/72clxvPuv/n694lV1up6a0+s5k3IFywXIGAPnAfCizX7jFPi22WXXeKAAw6Ir3/969Xmjxo1KsaPH+9xq3twMydzhjcJfdazIhur06dPjyFDhkSrVq1i1VVXrSQ6dv9x1iz/7zaamo9987H/v3QOcG/1Bzfvu35PqGfJXJ37M4OPdmS97w1s4vSXer288Gn3+8C8yozJdegnPnNoV7Zqs0O0u3hC7HzP/KqxuuM9f4ntx7wc2495IdqMeTq2G/t4tB47PbYZ+8jCMTVa3zsl2oybFDtNuiv2nHpT7PPYVdF3zv/GwOdOi0GzvhHb9Vz0Qw55qAvp2s2NtDYw9fwZA1Ye49Av/XrLmHNJiyWOp6/ZKMb+5oi45fJD4+bLDqnJPNf32wsPiX067lA7ruTIa7AGbNaBdM46jBGD7pAL6Si//70O4ZJXbCnFwg+WGPiMQ+Z6ch1gGXKKVWonxhozF/56+ro77BerHHJNekqVhurt1ROquaG66hE3RcvDb4yWh/8uWh52fax54MWxXrt9G3HKj3RYn9J1UKN4m5hI5zY50WloKssm5y96d40Z/feNOf27Nm6s8tQqjVWaqr0XNlZ5YrXHXmFj9Ylue8Qj3faM03rsUzVRycEfsSKHddhMzXpurNJgZW9ZX95j16/MGOZNNVU3GLNBHD/z+Lj71bvjubefi7feeau6J/Gft999O16c/2KMf318/GTOT2KbcdsETdh6XOR1r5mX5wT15prBWL/nmbUjxYKp588YsOjgjNOv3drEYs97hF8smPf78791IJ2bg7zmJqcDm3WJcR/16c9rFVtKMMZRAzp81oOUT5w6WOPxiVWaC7w1Gpt9zpH4jUdiIwfzUsql1K8unxI7I/OjE8egRmPRze0cXVuuR37rVc+SuXquQzsy58l1eJ7pzz7i6uXNdvHmVWYMc4d+eOXWliV4dbmoMcdoF4efgV6eE/XymSOvXS7zgKnnBycGiQ5Om37t+PRjY1i/OcTC4XHJOP3gGfq0KzMvXNZEfmPEoDsyJ3OG+6jPeNcirp4EYxw1oMNnPUj5xKmDNR6fWKX5wFujsdnnHInfeCQ2cjAvpVxK/eryKbEzMj86cQxqNBbd3M7RteV65Lde9SyZq+c6tCNznlyH55n+7COuXt5sF29eZcYwd+iHV25tWYJXl4sac4x2cfgZ6OU5US+fOfLa5TIPmHp+m5q+CoCnRmmGlh//ABUcNF1phJrD+pE0Uf3jVeT2uIC1cUpTtW3bttVTr8OHD68kT8ni949pWav153Xjg4985rYW7Uox7iP6+/2QH75cW85nLeQC61pyrcQaY2PVGrG3sHBJ2MgM0C+5SS0KnR+K+/fvX7234dprr43777+/KmZZNsC88ppHqR2ci8GHHbmiGqs33XRTrL322nHcccfFmDFjqndIINGx//73v29urr7R3FjzH+nNsvlc+G8/B7i3ev9Xct9lrsxzv4Szje8A79t+Z4Dz/u13DTjivO+rm0c7ujbwcmvLfnzm0k+M9ZFbe8kj97YnXRo73vXX2Omet2PHe+bF5+56Lba5+dnY5pY5sfXI2bHd2FmxzdhHY5uxUxuN7cZNjp0n3RV7TLkp9p5+TfR58hfVE6tHvPSN6Htj39h484Yng1xXvfyuBUmtYPPQht+14ndNrAH9wmNaxoxzWzQ55ozYJP465asRs46LmIVc8lgw87gYMnDX2j6WOc3rmtzvvJ6yRn1wGZ/jmMsHxmuPOI8j/hwjp1h94BxgzMncPEiH65PPfNozL7ZcZ8nBr/2v0f/81FDl1/5pqI6KhobqyFj1qJtj1SNvipZH2FC9IVY79Lex2iHXVU+urj7417FWj1Njg83bLrZX5nN9WXd91m3zEumwsapPXYn9iP27x/j99oqZfbtUTdU5/fZt4onVhU+rFk+s8tTq7K7tY3rX9vGV7g0NVflzIxWbdWCnscqTqozcWPW4eBxcJ3tQXv9lM/RDt3+oejp1wusT4m/v/m2pP7K+u+DdmDFvRvR9uG8QW/KR0zqQngvU4b5rR2eo53XIoc1r3RikNjCuFbvrhyPrYKxPfqQDLHXCW/rxaTOfes6RuVy7ONeizFht5lFqByuf+ZRej67NmCyzj7kDTM5lHmtDmkc+82kHgw9ObMjMW3KY2ziksZnTORJM5nGeJTnF5RzYrEm8a0F3nuPzXE6xWeY5545Y49krcyPxe02yLs8141yrWHm0o2sjRm5t2Y/PXPrNg+5xrMdT2kos9cjJ3HqV+qyPOnIMdnRGmSvXCI+1ildSE3P88JU54NFvDutDt0bzgYXDY5L9+Iwxn3rOkblcuzji8shY7eZRagcrn/mUHhvXZkyW2cfcASbnMo+1Ic0jn/m0g8EHJzZk5i05zG0c0tjM6RwJJvM4z5Kc4nIObNYk3rWgO8/xeS6n2CzznHNHrPHslbmR+MHhZ12ea8a5VrHyaEfXRozc2vQfdNBBsdVWW9Vy6TcPusexHg+9HxqIPBXKE6IllnrkZG69Sn3WV16b2IlzXeKMoybmDvKLV/Kr+P6aPo1Sm6eZg6dH+bV//6hVvdcAuCfw7rHHHrV3rGYefLmxSr00c/nQqAWrn1cDgHdN5VpcU86rjTjsSu3Y5FvqD2lLAcDjgD/nMo+1WYt1ID0XiEO3sQonNmQLSQFDkhMZaLJMzhyCpj6cSMvykTufOPCWudTB5wt4RTRWeSKV5ikniP8IyxI7/uYnV5ubafm8aJ43nw//zeeAT6x6b/aeX/6QwD25/K7gHo59eT7yIPmfc+ZDZ55zYBPv94U4vyuUGavN7z2ldrFwbrJLp9jxd3+MHe/8a2x97XPxyZ+Oi7VOHBkf++7oWPt7d8Ta37s91vneyNjwwrGx+e8nxtb3LGquthk3MXac+If4wkM3x97ThkefJ86Mg54+OQ5//qsxdO7h0bb7NlX95iO/cyT5HepljXk/8IEXy1z/zZcMiHji202P2SdEPH5MxONfXuYxdNBOjfKR13zMOUesJ68NjDik9XqOYSPOtSInT55cGxMnTox777239j3ND73jxo2LSZMm1TDiS+ytt95a/bZMxpY1WpP5qc8asy3P4WC92WYcNtb26U22iLW6nBArf3FUwxhyW6wy5NZY5ehbYpWqkfr7WPWIG2PVw2+IVQ+7Ploeel20POTaaHnwr2O1wdfEaoOujtUGXhmrDxgRqw8YHqsfNDzWOOjy+ET7IfGZVpvX9qy8NqmNNbmuvLc2M22qIn0VAI1Mhzb8e/fpHh3PGBw39torHunZIWb32TsaNVb77RtzjhoYc75yZDz5tcNj1pA+MfPgvWLm4D1j5uA94vHB7WPWoN1j1qAvxKxBu8UtgzpEnx6Lmqu5sWpdNlhtrPrHq9jjfL6gewyy9FiAzY3QD4/+cHSe1Ll6QnV57lNg33znzRgwdUCsfMfKjThzDcw9v6yBukqbMWKMAycW6ZrEsR5sxmcsc/3OxcmT7Zyj+oljbjxzsMYpsekr8Svy+jcfkjxwIxnaqN8arctrknW4PuNco1h5tJtTvNzish+fufQbh05u7SUPuGwrsfkYMAdrDLLkpY4cAx6dYRwxxsmhjfzildrAwFfmgAOsnGCsU36kAywc8JZ+fNrMp55zZC5ymRtZjozVZx6ldrFyYscGjqFdnDLH53neB7D4Spt2uZBgHOqZFxv1YGOeeY3Tj85cnDzZno+FWOPL/DleHzLjOb7wmxMpRpx5wHmOYUM3RynhgFs+/MyJN8684PDD6fqMy7mxyaPdvOLlFpf9+Myl3zh0cmsvecBp46G0448/vhGWJwP53tt6662rdYA1BlnyUgdryHZ0PuD54NMvh7Z8HIhjaAPjWnOOivR9/CfXAm+uyfWCMec3vvGNKhs4bO5fjuOPLvXu3bvROo2Xy/gcx5xxzz33xIUXXhijR4+ufm2e2DKX2DIeftdk/WKxlzbjxSDBONSJpXnpE6m+a9V4eY2jXn9ln/MIHPEvvPBCJcGBwe71gd8/XoUvr8PGKZzYadJOmzat+gNXcPi0K41VzkPrkQMMnPKaG5znGDZ0YuoNON7vxzqQZY3WZG4w4rItz3nHann9V0+sQg5hJs3JJUGKwY/e1GdJvhxj4eYoC9SvJL+bgW1FNFb5dX+eTF1SkwQ/uCVh6vlGntA6WrduYpwwcrn56uVYdtu0GNa3dZwwsrkhtux7trS9at7TFbeXS9vrZv8HudfcW73nc9/1Hs19l3m+D+f7c/klCU480nglfjH6zWcO7cTgM59SPHrJRSwDu1/42sA7V4JjbHnYt6PdTa/FJ898MNb87pj46A8mxFqnPRQf+8nUWPuMqfGJM6bEuj+dHOuefl+s96M7Y8MLx8RWf5gSre99ONqMuz92eGB07P7g9bH3IxdHr8d/HAfO+U4c/OxXYsiLh8Wgcd1r+2C9rsU1sKbssz79WccG3h+Q9CFvvqhnxIwvrtAxdNCOtX2zbo+L3+HZji3rYrVZr7Ho+myUImmW0kj1OqjXLBVfYnkNEe+Wyo1Vc5jPOqxPmf0ek4xlnvceXv3gV+k/LFY+9LpY6dBfx0oHXxMrD746Vh58Zaw8aESsMvBXscqA4bHKQZfHqgdeFqsecEms2v+X0bL/xdGy30XRst8Fsdr+w2K1vufHan3OjdV7n7NwnBtr9jkvPtrt9CpXXou5rQNJfdipB52Gqc1Um5i5sWlD0wYrmJ1OGhibjjg6jvx2nxjbrX1M79Wx9kernhjYK56/Zng88/D0GD/5mZg49al4dubkeGbMefHkiM4xZ8QX4vlf7x5/+l37ePWmPeK1ke1j7u/bx4lD96k9MUsO8pLTmqzDVwHkxqpr5jixNvR8fNDdC+y5sbrhmA3j/tfujwWxIP9IuszzZ99+NnafuHsjzny+5LzWqS3jrFeMawCTfcbqzzo28Pkc1I/MXNkuF34GOn751I0Rk+3MM95rONvfz/UvjznYE22uzZqzPc/r7WPJA75cp+uVHylXxjLPe5+5xMPFnCGv1yR49w0u/AxzyKHETgy6uZDOjVNHmssYdSQ2hnXJjyxrkVMedAdY+IyRFx7mmTfz6NNPvDHicg7nSvHoJRc8crHHTfkzLmPcJ/3kws9g7nFTpwax5rVO7cSJM5cYpFzZZ6z+rGODk1qZ61Nas7pSLvy5JvlKLjHZzjzj3Y9sx5b1zIPdeoxFF58lceyJNnDYSnzWmdfbx5In12F9SvkyF3OG+fPeZy5zg2POkNdzCzw9Bj68NnHLLbeMI444Ig4//PBqHHbYYTFgwIDqKUzzEuMasKHnvNqQfMjFxxhzI8u6ciy1usZslwdOc4PjY4y8xDHP8cTwyRj95jOHdpuqxJkTad6jjjqq4uN1joMHD64a0sQy4OL8sg459Svx01ilqcqvuk+YMKGK108uMAzmnrPq1CMWid1atRMnDj92MUi5ss9Y/VnHBifHkrk+pTWrK+XCn2uSr+QSk+3MM979yHZsWc882K3HWHTxWRKXP+CwlfisM88fdEZ5XHId1qeUzzg5kN/+9rcrvrz31R+v8uB5oalnMolMrswF5zn4ZfmAc4H1crgw87mJYLGtiMYqFyGPfvuPtXoSP7h6vmW1VU3WD7yZmptR/yZNwJEnROu+w2Laf8WrBf5N9vS/Yi/zudo8X9b7yj8LZ2PVe63Se3K97wl9SPzL8/HL9y9/+UsVhuQeD5c//KmX3xXW4ncJMQxx+tHzXBy8eYBrd8mUWO+MKbHad++PNU6ZEh/98WOx1hkz42NnzYq1z54dn/jF7FjnF4/HumdPj/XOnBzr/eiu2PSqe2O7seOi3X1/iJ0euDF2n3xl7D313Og14/txwOxvxKHPHBVHPj84jn6uT5XPNVMTtVCDc2u1Rv1I14V0T4hjnuOY31I1Vo+KmLHixtBBO9RqMKd51amT9Vl39tez4WcYjwS3YMGCarz77rvBeOedd6rxj3/8Ixh///vfq/G3v/0tGPPnz68Gv8bF+Otf/1qNt956Kxzz5s0Lhjk9Jzwe5NVnPfm4YGMYx5xzlDjXnNeyxbUvRZsf3BpnXTM6Xn/99ff1cwTxr7zySpx71a2xy+k3RodJb9bqMKe1Upd77TUEBr9NzHqNTJuZubm5z37do/XPDo5Nrjw6Pn/BoXHJAR1jcvc9Y1avTvHEoF7x54cnx7hHX42jfzkvDjinYRw3/M2Y9uQr8fqTI+Nv9+4T74zrEAvGd4yY2DFicqdYMLljXPGTLtGzR9fae1atyyYvkiYwT0jYVOV1AK7V9Shdcz6GHqfcWD380cPj3Xh3eW5RjbA0ZIc9O6zRU6vkZlBLrk8bNVkLNs+3fLycux5iHMTkdZlDXvNkDn3ksi45wDGwv5ef/80vL1zWQA6vBW368ZU2ObQjxWmzbvNqR3cd+uTLUjzSeY71eJR5xGg33pzoS7r+rcGcxmP3uGSbvPhzDPlzDdZb4tHBEassr3+5xaATZx0lp3j56vn1ITOXsXkteY7ftYjNXNaeaxWHtBZzEsvAl/3lXJxrVoKzPubmh99c+KmZUfIQkznkAlfG48OGL8+J1575mctvDnnNYxx+fdRpnBzgGNhZI1KduXzGqStLDLH6yOHeaNOPr7TVyyFOrHWbVzv6kuqux10vlnqxl3nk1w6GQROUwZz9w++ardHcWTcem8cF2wknnFB9x8C500471RqrNlgPOeSQ2GabbarjBN56y7WjUwuYeh/8y/KxdnisX15z1uMBg5+4HFvOidXmWso8cLG37AkfnurlIw5JLvz8m4EH2Yjp3LlzdOzYcbFz2rqJA8ewTiW/CcUToaecckr1P+Obr//697N8DDwOHk/21WtBm+eEe17GZD5ixBmP/n4/5pDTGpCeg+RBFytGO7EM1sOrAJjn67/2xKqB9ZJhy4Q5YVOLXNYNAEdx8sOdbcxzfnHYGCuisdqyZcvq8eglNShefPHF6g9aLQmzNF9zY3Vhs6y5sfq+/mG9tPOs2d/clF0R50BurHKP5ouDe26eex/Gps/vByQfpPf4fP/G5gDnfT9/p8gpP1x8+eUc+NBzLUvyuw7w4pwrsW85/Llo+b3JsdoPH4nVT5sZa/xkVnz0jNmx1s+eiI/9/MlY+xdPxid+MiU+fdyI2GC/Y2ODbkfFp756YWx9692x/X23xc7jfx3tJ10anR/+efR+7OToP+vrMfipI+OIZw+KIc/3bfSdR16/61xrXpfrQ7qH2nKcNvnQb76wW8RjR6zQMXTgoj9eRS5rJR/DmpD6XBf7n3HY85qMQTKWtaG6LE1VG6r80MywVmQ+9ujWm+3uqz7j1PH7w5k+9K1+93I1dvnNc3HLvZPj5Zdfrv4RsDzXKf9oePXVV2Pu3Lkx7rEnYsDkV2P3SfOqQS73kFrQHej6XAs2m6ZInxDlfflZz5i9B/aOLS46LFpdeVRsMuKoOOKEXjFy391iau9O8fw1v6qaqn3Pnhc9f9YwevxsXnQ/c170/vm8mDzzpfjbjO9GPLRPxEN7LxydIx7sFA9f2yX69lpUAzmtIzd4fRXAbrvtVr1nNa+POWtj1Fu/fhurvB91yl+m1G41X5765Zg1b1alj5w7Mm568abYf9L+MfaVsTHptUlx4mMnxmmzTos+k/rEkKlD4ol5T1TYWW/NivXvWb/21Kp5rCXXwxy/54fHxBh08Up9WS4pThzx4tiPrDNniHW/xGFnaC9j9cuDFKvPtSD1yb+813/O75rK3NlODfitJdeX4/SXsdqtt+RyTdrll9vjax3ocooxJ3b3p94853AuLzo82uXMfHLqEysGydBvrehi5PB7E7tz+BjYlOAdciDhNI9Y7GJyTuvIOObw6itz4BevDym//ly7OLmV2qmpzCdGPrDM89r0IXN+sPBlfI4Xr9SXpXm0oZf4zE/+rDNnGG994rAztJex+uVBitVnTUh98v+3XP/56Umbq+yFx5e9UHdf3LN8DNkX/sj3scceG9/5zneCVwLwgXPnnXderLnKr7hnHubwy+l+mxMufWD5iEEy9Huuo/ORA4zXTZ5nPnnLODjMYR7isBlj/diYW4f8FXDhnuDjY23M+Rs/YNm7X/7yl5Vv++23r14HICd+hutgLodzpXbeUcofW1dHikHmeV6bPmTOT7znh3g50cUr9WW5pDhxxIsjf9aZM8RanzjsDO1lrH55kGL1uRakPvnf7/XvufBepXXnWplj14a03mxn7pq001jNWG0VvEgAACAASURBVI5vC4kAOTwgJtNeT29qccQsy8eC4DYvNuZwmBMpNtezIhqr/B+gf8UTq/UardOG9a09zYm/77BpUdl8nUCdJz0b+Vv3jWHTmmos+XRlg2x4RcHi+Kb5jB8ZJ1T1nBAjFz4p2XRM41qqNbsWZHqCtzFHY1/df4DSoK1xNV5HY67GvjemDYu+tbjWtf1uyLGsa/SVCuKXvKd1629+yrS5wfxvfA7kxmq+F3tv9j6MzpcJUp/3bb4DwGHn/u3Alr9gwREDT/nEqnmU4OTDZq4sndf7LiHGOur5ta33i9mxyv97NFb90YxY7bTHY7XTH6+aq2vaXP3BpPhEtxNjo89uWdVA3IZbtI4tLro+drj317HL/VfEHhPOic4PnhY9H/lW9H3s2Bg0e1Ac9lS/OOrZXrV9oR7WQ80M97LiW7g+5viUYpVisx8e9viWC7tGTD+0NhZMPzSWeUxrwOZ45kMHfr5WKzVQP6M8HtaMPQ9jrFtdfObyCVXke31KtWyoej8mX66LesjtuZl9zK3T+jIOH3suBrw4G6vILa+fG4fe8HjMmDFjmZ5e5Xp47bXXqmYsf6DgB5OfifYLG6o2VvNxzzVTS/ZRj7bcNKWB6asBtOemJvMOg/eLVpceFhuPOLIaW196WJx+cOcYN7hPPD1levWkaq2pemZDU7XbGfOC8Z1r3oxXn749Fjzcs1FTlcbq3Ds7xQH7N/yhqrKhSl6HrwLwj1flc8djo2SNzD2e2m2sfvTOj8b8d+fXfkRtN7ZdTH59cqVf+MyFce6cc2OV21aJPcfvGZc/e3l0eaBLHPTQQXHolEPjnDnnxIvzX6ywf/nHX6L1fa1rjVXymMtjbx3UkuvBLsbjQt0r+vq3JnOTK+dzr8RlnzZkibNWpJwZh51B3swjhhh9cojHJ04pVi6x6PjUmWesPnnqSTnBkjtf1/qMy2vNOPI3df3LAcZ55sFu/WKQYPJaxOVY/K7RWHOgZx9xpc0Y14KurZzDC4f86p6z+oxXR1onkrgyHzHuH345ci7t8qmX0lhyWYM2sLmW0p9jmBsnrsyFHQxYfPozvl4+cGLkgMe9lE/uLJnnIRapHR722JrwkcchDinGmvRle4lD93jJCV6cHNZWchGjDyw60jpLLrHyiEXHp848Y/WVfFmXEyx1eG5qV1qnT00ifZISmfeDGLiMRRKvjo+x6667Vk+90aDhfY3Ia665pvp+gX/HHXesmqtf/OIX46STTorvfve7ccABB1S/wQGX64U785sPon322afy8f3Kh0bukj7w8MmccpdrAuc5i8848otFWicSH3ss1jzun7Uj+SAd1ibPD37wg+A1T9jZF977yXyLLbYIXqFgDdjkyLWUfnzaeJ8or48ijr+1w29A8Q5RuND5n/O8W9Q/dIUNLDE0ZZeUD595kHAy3EvXh415lmKVYsVhh+e/8fqvToiF/ynXje7Ie59jsLM/WWYsx2Jp17/HDZxPrLrnyOqJVSYeWE9sbAwSloV6sPTnGAvMEhwcSn3k1I5NPmwWrrQGMUjGimisDh069J/2jlX/AYdcrJG62JObNukampE2IWmuNvAsbN6VzcjcbK2ajYsanjn/G2/Y/FvUaKxypPiqIZn0NxrxNcT37XtCo+btkmMaN1arehZb9xsLm8e57sXX2mgtVXN00TreGDmsVtPS6pk2LNdf5lnCGlun+qYNi2HVu2oXxqeGdrmnjer+N26kNddZ51z9P3y8uLdy/2Vwr+Ue7L3b+69+feKM4QsNH/YyVhuSD355yhj4tMmd4+UWk33M/c4yR9ZLPrk++tPHY+XvPxar/HBmrPqjmdFyYXN19Z/MijW//2Cs3uecWHe7LtXayMEg/3Y/Pi92GHt57Dbuf2PPCWdGl4nfju4PfyX6PHpUHDhjUBwyu3cc+WTDD7rkMpY6rCXbmWd7xmk3d5bG3TysS8S0wdV499FB8Y+pA+PvUwbG/IcHLHk8NCD+9vCACvvOI4OCWHmGDvxc7Zj+s7//l9RQfaP3ppEHv/b//dEtGg2aqj6h6j2OZiWD/XIP2S/3zGOSZXlugcWP1FcvHlturDrf7toX4pe3T6p+W4ZarC1Lfu2fPybw/PPPx/UPPR5dJr9ZPaG6x+R58dWZb8cPHv1TnDFmapx66qnBPzB4T1vfvn2r1xZZG5L6qINjxZxRNk5tYNJYZc5TrA5sex7SKzYefnitsUqDdY+zB8ZdRw+ICQ8+V/36P43VHgubqjytamP16IvnxVNPPhoLpvQuGqsd428PdIoB/RsaqObOzV1r4VUANlXLVwGwNobHIa+dude7jdU171wz3n737drP223Hto0Jr02Idxa8E1Vj9alzY7071ovOEzrHzuN2jk4PdIqDHj4oNr170+g0vlNMe2NaFfv6P16Pbe7bptZYdZ+th9zWgk09n3PZVs9OXLYzV1fC4dqVOQ4/WGz45bAmefK1TIz4vC73Un+OAV+Osjb95My1ymd94HLNJRa8Ax+DGG05Xu7sF+fa8RmjL0vzl1zE6KsXj42YnEdeba5Tbv3EOkqMsRwP147NWjKX/nz9wyvWHNqQcDngkgOf9enXJw67mDKHdqRc4HPuMga/tsxtPNJ4+fWhe86KyXrJJ5c81pbtzq1JLLo+pHZt6ubMGGz17GCyPeO0w2styhyHHyw2/HKYX558LRMjPq/LvdOfY8CXo6xNPzlzrfJZH7hcc4kF78DHIEZbjpc7+8W5dnzG6MvS/DZSeWJV3myTz1hzalfHj40nVXlPIw2aPGyukoc/xnT++edXf4mdv8bO4K/C8weFlnb9P/fcc9XPFvDwswX6kUceWfvuqzehRj/W7f6W9YvL0hjW6L4Rl2Px8XEf8Jkjx4CBTxtz44jhwTg+xmcfr1CA33NWTNZzrfgdxNlYbdOmTe0PWrH37DsP49FABYONP3bFu1nBYrcBC0/mdL3akdqsBbx25tnOXF0J1v1R5jj5seGXwzzy5GuZGPHEMGe4d/pzjJgsy9r0kTPXKp/1gQODxCa2Otjv4z/kycO157qy37n50cUy55rVZ83VE6sqSABKCbK0CG1NrQ/csnwsyLzwMrRbm3Z0B7YV0VidM2dOrL322tX/gcj/qHHO/4XAP3369Lr/+BG3NLlYY/UNnvxMzcGqWbioebc4/o1oeNrSmCK+agI1NPrq/4GqhU3DWqNWPnMuja9OfLmGpdbwRlTN2ty8rctR1lY0vYq9WrT3S1tDwUO9jRq9Ta3RJ1TL+Dr4JmsrY5v1RceteS/+3fbCJ1bz/ZZ7rrpfetj8XvC+7f2a7wB9xGEXg2T4XeEXNPr9999f+/ID45d5nlsHNuZI85Z54Mx1gHWAxWe8dfzPydNipf/3WKz8gxmxyg9nNDRXT308Vjv1sVj9kBGxRu9zYt02ixqk1rD1d46IHcdeFLvd97PY8/7vR+cHvh7dJx8ZfR45NA6c3j8GzewePa/etVar+6J0DdRkLdrEIPM8r00fkjXdPGzviGkD452pB8XbDx4QT48/Nsb/4cQYd8eJcd8d31riuP/OE+OBu06MPz4wNOY/dGDFEY8OiKEDt6/yk9c81Ghu6yE/NnX9Yt1zca5TO/glvUc1N1WZ8w7VsrHaVFOVpqX5yn22vizLNVAbdWZ7xjsHYzO1lDy92vW3TwV/cItf87fBikR/6aWX4vHHH4/DJv+p9pRqv6lvxS8emBkD/99PYp9jT4z2X/pW9ZeDebKFf4Dtv//+cdppp0X79u0bnT/uvfXavGxK2ni14UpjdaMrDo+NRhxRjQ1/dXgwvvPzY2PSg8/EAf+7qKlqQ1XJe1efeXJqLJjSa7HG6l/Hd4yD+i369X9fS5Dr4mlanljlNQCsi3etuh7PHc8Z9p2hjmTNDBurHxr1obj/1ftrP6JudvdmccTUI+Kns38aZ885O85/6vz47F2fjVvn3hp7jN8jOk7oGIMeHhTdJ3WvXgvw9F+frmKnvjE11rtrvRqvOcsarNX7GLoY50rt1Fuel2KQee4x1a60HrHwMRdPLnUkeKW+LJcUJ04+dPmMw8cQa33isBsnxlj1zJHjMi8x4pCZI8/NV+6zubI0LvOSP9sz3rlrzHH4GGWsdtdFjDbXoQ87NnXmHl99eV345ZDT2tDLOVh5nGed2rW7jswhpz6xYpAM/daKLkYOrxvszuFjYFOCd8iBhNM8YrGLyTmtI+OYw6uvzIFfvD6k/Ppz7eLkVmqnpjKfGPnAMs9r04fM+cHCl/E5XrxSX5bm0YZe4jM/+bPOnGG89YnDztCeY43JHDku81qX2Fx3npuv3GdzZUlcbqDCTX75fDWADVdj81qsx7zE5maqc55cPeecc+Luu++uvmfIy9OmI0aMiLPOOqvWYP3xj39c1SCvx9fc6DytSjOVzx//+Mfo169f1cuoDE38h5r9yG3N6tTOHDtzPq5VbN4fsWLM4f55DNDFwMPH6wY7cz7WsfXWW1e6MSjEodNYRcJpHuKwOawfnbl1gLOxypz3rvKhicorB/QhaaLy8yRzOGy4ymmtrgMdHMO5Ujv1Wos2Mcg8z2vTh8z54YAPu3jzo4tX6stySXHiMj/5s86cIdb6xGFnaM+xxlQH4X38J6/BfOU+mytL41wDkjr941V5XbUnVl1YdkoqkUUgxTe1PmKW5SNPzstcuzWYW58nyIporI4cOTLWWWedqnnKEx/8n4gXXnihkug0VX//+9+/r6YqTZN6jVJsPpFaPWmZnkbNvkVNl9Q4rJ4mbZ1+HX7RfEmN1Ua+/OTnUvkamoiN4pcaU6dh1qiRubCxmZ8GrT0lmNZas8nXUAuvAngv9VR7Xfd1AE2t0eaz+ZV18HlPF6vbuGa56Jxu3ot/x72wscoPA96Huf96r8bOfZh7tffnEsd3AH6+lPIPFXDkLypwcuAzznz1JPHYics5/O6wLmMzP7HG4xerxPaR706P//neY/E/qbm6yikzo+VJE2P1/S+INfe/KNZpf3RVg3VsuO2Wsf31p8bOY86M3caeEnvd983oPP7L0W3CYdHrwQNi/ym9ovfdnWPznTat1U4steTcNb70A5jrzNJ15GPkuvTdckHnWDD1gPjbQ/3i1XF94pu/fSA6XjxnucYZN94Uf3mgb/z9of6x4JED4osHta2t2/qRuW7y+z1tTdSe8ay5jEPXDn5Jf5xqWRqrXls0Kxn8AMzg1+upixzWVc5Lv7W6BvHIvEZ1JNjFGqo3zI0trp8bm/92bmx+7Uux2TUvxkk3PxL8T14aqryD9dlnn42zJs+JPdOv/R834634/jU3RadjTowdh3wrdhxyQuxw9KJX4vD0Bt+JPNH5zW9+s/qHRd5P5tZE45Impk+Elo1UdV8R0HFwr9jk0kPjM786vBo2Vvf61bExZfrU4A9VdV/4q/80VLv+tGHs+9N5ceoNb8YbT90QCx7uFvEg71btWBt/HNUhDlz4KgBqsh7n6AxfBeAfsMr7zfmCznXguYN0ra7bxipy0JRBtdcB8Ov+w54eFiOeGxEPvf5Q9UTqlc9dGa/+/dV45C+PxI0v3hijXx5dYa549oqYO39u9XTr6U+eHiuNXmmxxqo1UJO1ZWldSnHq1qvEznBNSuJct7HoxOlj7sCW65Afmxh5lNmOjZHx+M0pn7YVcf3LaT3klrf0WRuYPNwLZOZR14bM89JPPkf2EYOe69EvnnqwidNuTiQYOZyrG5d5m4rJ1wHxJVc9Tm1IB/z5u6W0L+373/qoGR7jkXkd6GAZ+nLNOc65+1HmMA4pXz1+4/GJVZqDeOvOXPKJUzceiY0czEspl1K/unxK7IzMj04cIx8jdHM7R9eW65HfetWzZK6e69COzHnAaPM61Z99YOrlzXbx5tUnL3r2MYezHOR3yAkGWxmvH5n9uXFK3uwTK4ZGqH6w1o2NoQ1pMxV58sknx0UXXRRXX311Na666qrq4TF+Hua1APyqO029iy++uNZcdQ+pwTnng3Nzw8GcB8SW9gHnJ59b2Bnkwp6vf/DYxYhzn8FnH/vARxuxxuOz/owRi8195Dd1brvttko/8MADq5+bwG222Wa1n3/QS37j8ZELv9I8NEr59f+pU6dWfh6yGz58eNUbAu+TqeBpuE6ZMqXCaXcdpXSdSv3q1qvEzrA+JXGMfIzQidPH3IGNWKX82MRYgzLbcx3akeZkbhw2r1P92Qe2Xt5sF29efPljvoyDc0kfse5D5i7n1J1t5HPo47oFk9dYa6ziIECwc3UlOApSNrUA4pflA4+54WVYuBeifmQuHv39NlZtqiL5Rw3vMeEfJ/xBq1atWsWQIUPe95Oq/sOuXmN10dOSizfolq2x2lTDr16zavEcjZ6ArZqkS+KrE7/UmDp1rJDG6kLeqolJQ3lh3Uuth2Zt8V7VRvUs7xrr4Jsbq+/7f0J4zTTLOtfPB9Ss597q9wD3Wu7H3p+5D/s9kO/P+v2Ba1m+A8T4HQMHH3LDzcBnTu3gjAFjPX5/GIs0Bjxz6yxjzEHMh0+YHB85uXFzdeUfzoiWX7srVu99XqzZ/5JYa9//F5/ZeNNanVsd2TM+f/tPY+e7T4kv3HNi7HXvV6LzuCOi6wODYr9JfaPXuG6xXd9tYsONFn1BW6e15fqdW6dY69evvdThvPn8DrFg6v4xf3KfmDumZ3S7eGrsNuzJ5RpDht8er963X8x/sG/FNXRA20b7TR5rcB3UyFwdvzjOD/FI6gaf1+X3P3+Uqqk/TFU2Vvm1//KJ1bKhalM1N1bJSx3WYE25xuynXn3M8xrLYwDOxuqWN7xcNVS3oKF63Uux2bUvxWd//WJses2LsenVL8ROVz8bN/zh/rjjwanRZ/Lr4TtUkTyp+v2rb4pdhy5qqH7n4qvi2bl/qq4X1sM/vnzveLt27YJ/6NGIdN9znTZOywamzVbtPkG694Bescl5g2OD4Yc1GhsOPyzOvOfqeGj2n6P3WYt+/Z/mKk3VXmfNiymzno9Xphzf8LTqg52qP1plc3XiNZ2iX9+G1w6Q07y5PmrwiVXWQ+OYY+W6PDbIevvv8cqN1fXvWj/ufuXueDferfZvef8zc97MaHNfm1pTFW7PWfJRX9ZzrdZoXdTtsdGX1+L5iY2BLi5zaBNnzozBVs8OJtszTru5s8xx2MFi8/io60Muz/UP3vozF/Y8wDiMQTfGPRRjfWD1IZ2Dy/zi8GdfzpHzlrHUkf3qJc78GetcnzlzrDXJqw5GG1K7Um50Rokx9r18/7tXuW7z6IPfQS3ac3369YmzNvW8FuYOucAzlweZY/Bry9zGI40vudHz9Q5P1ks+ueSxtmx3bk1i0fUhtWtTN2fGYKtnB5PtGacdXmtR5jj8YLHhl8P88vwnXv/8W4SGqXvvHrt+18h3Llj9StcOzhh8AwcOjDPPPLNqqN54441x5ZVX1gaN1dxcJT9/vAocrwogTn7z5zz6sPFRLu27Di4+uc6lXf/g3Rt//ldHUgt8Dmx8qMkBxhhw6PnD+rHzAed6eCoXnabzJZdcUmH841XmRYIn3hxI/djxa2NOY/WUU06pGqn8+j+NVfpE+clUnlalqUrz1evdJ1bV5SZXzoddm7Vh0+7cmsRav37tpQ6n+cRgq2cnNtszTjsc1qLMcfjBYsMvB7o+5Pu5/vP58F7m1JLrK9eU14UvD3wM14OPxqprRsdX++NVGjB6AWlTJziTgm3qQ+yyfDIf/MRhIydzayAXwwWAYbyfxmpuqn4QDZy6jVV/DX4kf1CpcVOzLj43Dpe7gbeUJuBS+ZYSv6wNn0aNTH/l39cbpEZSVU/jPal/nBrqqp78Xdoa6nA2fifr8q5xefFpfcu6X8245kbtv+Ac4N7qDwbch/ky5B5c3pPVkd6fvVdjy/d44/1OyTjmDHx8xGrPecyFdJCb4fdHWa8+eZvi0L/qYVfGh0+aXjVXP1I9uTqjei3Aql++Ldboe0GsecBlsWa/S2LdHfrGhhst+r/xW5/QN7a/aEjs/NuhsfuoI2Ov2wZEh990j/bn7xVb7bNVVSO587qo2XWY371Ush6Ph3sK1jk4OZT4bz5vz1gwpU/Mn9Qr5t7dLfa9aPkbq0dfMSpeHduj4oBr6IA2Vf3Wbc3mVVq7/lwjc2sHrw8b65Rj/vz5weDJAQbvUWXwa/+M8g9T8av/fk+UTVWajwyeCmVQl3mR6A7XRh3M8Tty3dYpzrVm+1Y3NPzRqkYN1d+82NBUvfrF2OSqF6LVlS/ExiOej42HPx9b3zC3UVOVd6r+YvyM6Pjlb1VPqPKU6uePOiFee/OteOTJZ+KQQw6pnpZgbTZWkfzq/Omnn97ovHENNjFpWjq00dTkSVWGDc4uPbrG1j8dFJ9e2Fj99PBDo2EcFltcPTSufWxM3PPYy9UfquKdqvz6P0+qTpz9Yjwy/dfx9qSuCxuqNFZ5YrVDvDNpr7j4tC7Ro3vDk6rmtbmqxM47Vm2q0lhlHXmPXZfnT73rPzdWP3z7h2P3B3aPx958bFl+VG2E+ePbf4yuk7rG/9z+P40aqxz7fG7kc8G5daNrI8a1aAPHXPler3/rkdc8pcTP8N6MP+vUIZc+626K29r1o5u35NMHZ77+iXXIB4bBnmS+jMscclu3MeD1yS2HawPLHL8DHZw8yqbs5iAGDIMYc2VZYuXWbpwc2HMtzpFg8COzLpd+dG3ys38M+crrCbs+JRza5TO3vEh4tYszLvuMkV+J3Tjm6tjghaOsV9/SOPSDh0duedHFYFPHxnBd2pF5bt3i8clT4sCARzZf/4v2gv1i/Ddc/7wT/Te/+U3VQLWRSnOVeW6y8vM4H5ur+PhDVp4f5XnmuYifveKDRGd43qlr8xwEz/kPD7byesKuD/leP+aVr6nrn3XzURrnuvmfyvy8x6sB4OCPSnXq1Kl27YFn/dZMXMmBrp95x44dq/fz0zQllsYqczE2UGms5g9/ZJT/ESzOPc058emH23VosxZl8/XfcP3nfX4vc/fXY8L+elw8Jsh8TJiDc6DL4xOrcGhvwYSTsLxoIBDkAbeArDe1MGKX5ZNzWCj8zs2pji/b3mtj9dZbb61+/Z/mqv8I+2fLuo3Sha8I4ObaOr0GgFoqfKNfdW942tJXByzC5ObjtBh2wrCYVrcRs/QmYEPOpvjqxNfqbCqmTiMxN4cX1lk3b99Fr0lY7NiMPCG9AqBxXXW53JOy8Vrp+QnWxlzmXYyz+ONVjV5HUOaoeyzq7Esz7gO7Fj2uzbLp85B7a77vMvfei0R3cB/3e4E5fsbyfIw3Dm645DZXlmD9vhCXvyNKH3jizeUcad1I9LV3Oyg+dOIj8SGbqyc3vBZg1aEjY439L4w1D7i8YfQ5L9bZ40uNfgjdoNWG8dkvbBubdd4utujcOjZp99nYMNVqjeRhuA5zWzcy/6ApzrjsMwafc+TN57WPBQ/vF/Mn9oi5d+0T+140JXYb9kRtXHPdiXHt9SfGdTd8uxq/+e2Jcc1136r5wR59xW3x6tiuMX9Sj4pr6EHbVTWbi7qohXzMWYe6GGzWZf311itGrqYaqjRVW1z5WqPB9Ry3t2g08hOqNlRfeeWVYJCDYW1K6nOvrQMbfuwM1yUu/yOPGPHENDRU51ZPqG72m0VPqW5ydUNDtRUN1V89HxsN/2NseMUf4zOXM56Lz9/zenxhwptxzPS/xoCTf1I1VWmofv7Ib8a3L7yyurzOuOrGqplKc5UP713LzVXeucrPF7k+aqZZyaCp6q/708hEzw3WPN/5a/3i05cfEutfcUh8avihjQZ/zOrg0WfFNdPujTtnzorRM2fExZNujf2v/X48NW6/Rk+p2lj98z0d4qtH7VPLl/NTm7mR5asA8jFyrz2eHpN8HJjnxqrzzcZsFmNeGRN/X/D3ZbpdvTj/xaqp2mJUi8X4PCfKn6ex61N6DqFbL+eKfmW+xsXhY2SfazVOid045urYyAdHWa++pXHoB+/1bqy6GHLlGrHXW68Y68z6kmzkLbHkyHbm6kpirE2Z48xpvXKg60Pm6wtdvGtEZ0+MQ+YY9HLAY02Zhxq0Zz5s+LApsTFyLn3iPFZ5Pa4B6Zw4MblWa8FnDWAZ6NYol7h6dnPgI1bunM95iZVfO7o8zLGji3MuBr/1ItHlyro2+dm/fGzL6wn+nCvXgl0+c8uLhFe7OPmyz5gyj7mQDngY8MJR1qtPrqY49IOHR5y86GKwqWNjuC7tyDyHN+vMm7LVs5Mj25mrK+G0NmWOM6f1yoGuD5mvL3TxrhGdPTIOaQxPXJ533nmNmqtlY5VGqs1VmohdunSJzTffvBEfuagPbiU2Bh/qWp6Ptboe90xu/IzMbw1gGHwyD1wMcPXs5pAXnPl91YKcGYuNP8oFdtNNN43BgwfHVlttVasPO/ic07m58FtXXof14ndgYxDLcc3HtryewORcuRbscJoj43yvK2vjgQGaxeYExx8w4/UD/MEsmrl+aPTKAx4c8Tx1a27XKgd4msZ+yC1HbhxjlyPjaTprZ+/KnPk4wstwr4kzV567L9lnfe9Vyqkkn7UpyZf9zK2XuTqxvmPVaxlb1VhlIjknh4RKFy9xxje1OLDL8snc8OaCc75yjs54L41VmqrrrrtuID/IxkrVnCuap1X+Jhpx4PsOGxnD+i56d2rZfCW+oem3CJMbr43XV6dpWCd303x14hs1RpelBho5DTzVP/7SfpTvPW16HT7l2nS+ptfwRjTKwx/RavQE7bKu0Sds6+Dr7Gnj49B0M6sZ17w3/y7nAPdW7/Xca5l73y2l9+1sx8Ynx2HzPp/v/eL0qZtXDmIc5so+8WLMl3Uw6nL4QxG6a/nUNjvHSseMig99Z1qj5uoqx94Za/RNjdX+l8ZH+14YH+9ycmywWUPDEX65XRPyU1vtFp/ZsFXlQ7f2ck4N1KQ915tjwOHT5trQXdMtDAvdFAAAIABJREFU5+0eCx7qHvMndI25f9g79hk2OXY9d2ZtPD+6c7w2dp+YN37fmHf/vvHKmC6BLWOOvvTmeHVMl5g/sWvFNfSgbau87i95zae0Lvcz16it3j7BJRb/kp5SLRurPLFQNlbzE6o2VP/85z8HI+diziCnQ516rAlbXjd212GcfnTm1XtUi4Zq7SnVqqH6fNVQ3ZCG6mXPxQaXPhefvuTZ+NQvn41WVz0f33tobnT58reqhurnjvxmfO6Ib8YZV99YXV82Vvfee+9K5wlV37XKdyw/TH/ta1+r6rAupI1LmqrlE6u5oclc7L77dY9N/ndg1Vj95BUHB4Mmq/NPDT8kWl15VGx21ZD47K+Ojg0vOCQuuLFPLHio8XtVeVo1Htwrxv2qc/Tab1Ejl1y5FvPaWOUJXIfHy+PiMfB4uPdZt5naSI5qEWvdsVYMnjI4bp57c8x+a3a88vdX4t0FjV8R8I8F/4gpb0yJzhM7x0du/8hiTVU4PTesBZ387ru60tqReQ5+RV3/cOW6qI1/BGBnbm7m5LRWZV5LiRcDv9e9UiwY14u0FmTmpo4SK4dY90gepPWX88ytr7RpRzrAOLAxzzmw5XXjk9c4/eh5TfJku/uFT6zxZf4cr6+sh2NrPeDxi5HXPOA85tjQzZEl8ZlLTqV86khz5Tht5hKfc+ETh18fc+pz5Fh94sXIk3Wx2OTwGKATo93akeDLWkqc8ZmbGOvAnzmbmoOnJvNZfxkPzrqsRd01uR6x+Juv/0XXu8cg71/eb/cz49hLdSQY4o3Tj+7+g3Nku8cJn1jj5TQO6RObNBnNm/H/quufHz7cQ6Q1Zbs2pLWDzevDJy77mBPj+tH161PfY489olevXjUe4hjwis35PQb4xMilBG+dciD1Oyc+cxNTrscYfPXm4KmJxiVNTfjkNIb/0cwfNuW1BPyMx5OTcKH/6U9/qp62teE6e/bs6u8G8cdN4fH657eA5CDu1FNPrWqFj5+PsRHD3xzCxhxu7Iwf/ehH1Z6I57UIvIKKJu+sWbOqOJrBrhHJcI9dk37trhF/vbk8xvHHjssPthKX8+mTXx2MA5s1ZFw+nuy7vMbVGquSIiFg5OA8FyuG/9vCS5U5AXjHhX/RuVxoPd2i5UdyQrkIc6hbuPjlbaz+q5qqS2yWNGrsLWosNTRWp32gzd8l1tn8RGXzsWg+B/7PnAPcW/0+QPrlwb24vA9nXSw2PuhL+8EFHHi4GerEMrz/M+feDzb7/D7IWLm0yYHM3zPo1i9WuVaPk+JDJ06pmqu8FuDD350eK31jfKze76JYs/+lDU+s0ljt98v46P4Xx0d7nx8f73xyrLt97/j0Nl+I9bfaNdZvvVes84Uh8bF9T4+Pdzk1Nthql2o91pzXkveAuRjqcQ+VYsFYL5KhDcwt5+4UCyZ1jPnj94q5d+weXc4ZF7uc/UhtvDR693jrvj3jHxM7xN8ndIg3x+4Z2DLmyIuvj1fvbl9xwDX0wK0brSHndd+tH4k/10t96NlWHhdisC3p1/7LxipPp5aN1fIpVZuq/ICY67JuZK4ZTD4O7+UfLp/l1/4Xvke11lAd8Xxs5FOqRUP10798Nj518bOx/kXPxCcvfCZOvn5C7HL48VVDdfvDvxnbH3Z8tDv0+Pjr/L/F1Ceerp5S5ckFPj6xanN1xx13DP7Ag+tjLYzcMC3n6jY2s2x/cM/49AWDas1Um6rrXXFwONa9fHCsc8nA6HRZ/3htIq8AWPTHqmyq/unujnHMEfvWmrbkdOR8zvMTqzRXOS6eI/n4sE7t5bxRQ/X24onTUS1izTvWjK3Hbh2dJnSKW1++tdpP/vPWO2/FuU+dGzzd+qHbP1S3qQq357T/cPH89pzi2rVWpecaNZd4Mfi87pViwbheJENb5qYG7e6LHMbJI1ZcrkNsiTEvdgbcxFmDubBpzzb5WB9za8m5wTO0ORdb5sbufsmf62RuDcYisekr8e/l+s9rznmck4M5st4gvrS7BzlOG9I1yG0ufOKyjzkxDvPJLx+6GHmynnnk8BigE6NdbjmR2swHVpvxpc86MjZzlXPwnmf4rL+MB4cv51d3Ta5HLP7m67/5+udc4lzgPOHc8PzwXMwyn3fMy+E5pp2m6nXXXVedl/ncBIduLvE5Fz5x+PUxp15HjtUnXow86HzQwSzpI0YuJRxlLfj0OycerLrrRYo96KCDqqdVsy3P4fhPuP591QDr8n6jpLGJ3/10fTQ5bYS6T9rKJqcc7qX7l5u29PVo8MrPk6n56VTsNHBp0B5zzDG1Y2hDFgmvx5d6PYbZBk8+LtaCzdzgGdqcg83NVeZgsLtf8mMznrk14Hdg01fiy+9/G9pwytvCiYWXxNmvD1suhsQMOdSRu+66a/Tv37/6vwwcoFGjRjXagIx17qLQzek8S+bL21ht27btB/6k6pKblQ1PPNZ7OrO5sbqoybzkPWzGNe9P8zmwos+B3Fj1Poz0/ux3gN8H3puzHZ9+OcDJgQ+7GL605BGnHz37tCvFK8scxlsfcYzMKab2Q9emW8ZqB5wdLXhq1SdXvz01Wg6+Otbod3Gs2f+yqsFaa6z2vTDW6nNBrNV7WKzV67z42H7nxMf2+9/4WI+z42M9fh7r7XBgbLjxJlVOc1GDNVmLtWF3HdrcM2vHn23axQ//4dbx9/vaxfyxbePl27aNzmfdFTueMbk2sP11TNt49/528c64djHv7jYx99Zta36wR5x/Zbw6eruYf2/bCntwz0V/sCuvw3mW1oHN4+wPOxnn3PWiE9vUu1Q535elsVo+pUpDlfHyyy9X9ZgHSX3IsgZs2V7ucV5jjjWOP07lr/1X71G1obrw1/434CnVS56LsqG63gVPx3rDno5TrhwV2/T/Wmxz4HHR9tCGpmrbQ46Pi24cHa+9Oa/6dww/ZPOxscrTqjRXeSrhtNNOW+xnKZ4MtWlpQzM3VJvyg9ltSJ/41IUDgwZqOda5fFCsc9mg2PiSg2LkHd1jQfXHqmys8qRqh3hmVIf4xhf3rb12gFzw7rvvokZrrg2/jVXer8q7Vtlzz/vyuHEMPA5iOBZLbKzmRuuoFnHK7FOC1wPwBOuQR4fEyrevvNR466A28nuekNs6xHhulFh0R16HNnnQ4QCTbdqbwue8OQ67MeXeaUcS49rQM5/zLI3FZuzyXP/mKKU55Edatz7yOTcem98z+rMPfObRl+3akHlkjHmRYuCVW1uWGSuXe6ZPu3H4GejuK3NxZT558trlEgumnh+cGCQ6OG36tePTj41hXeYQC4fHJeP0g2fo067MvHBZE/mNEYPuyJzMGX7/Z7xzpDnLtaHrJ3/Oax1iwNXDWhcyr0O7PHKDyTbtTeFz3hxnLcSVeycXkhjXhp75nGdpLDZjPU8zzrm50XOsuZTixSBzLH7yZZw2zzP9cqpnHn3EateGzCNjzIsUQ3zm0K7MWLncM33ajcHPQHdfmYsr88njWuVBigVTz58xYNHBGadfOz792BjWZQ6xcHhcMk4/eIY+7crMC5c1kd8YMeiOzMmc8e9w/fPzTv71/vwr+NSO7tOsrhF7boSi47OxinSN+GiQgmfuPjC3KUojljzmxuerA5gbV48/28R5LnieWkuWHrdcj/MsjbEOJA1Vhj7yOc81eJ7pzz7wZQ1yaBePzO9YNbb641UoJFiRyUjoMJnFKfVTbC5YuxI8c2osbcvbWF3RzYf3w1f7dfX06/CZr7mx2twsy+dD87z5fPggzwEbq9x/vfeW92593r/1lzJ/gYFF58vVOCT3duPyfR6s8fjFKnOMX9iZC3893XgkGHIwL+UGrTaLVQ/7VaPm6kpfGdPwntV+lyxzY/UT7YfGRhtv2uiHNteFdO56yjpch/WqZ2ms+4fc4rOfiXatN65G2202is9979bY4fRxtYFt+21bxXZbLcRt2yrabLNRzQ/2c1/7Zc3ftvXGscnGi46V9bjHObc2MdZnzfjx6S9j0cs/TuU1sLQ/TLWkhipNVYb52Gvm1kc99Y6JeGSu2bnr8ljK26r641R13qNa/Nr/+hc9E+tf+Ex88oJnqobquuc/Heuc91ScdN2E+NyA42LLfl+NLff/arQe8PVoc/A3os3gb8R2g75RvVOVhiofXgmQ37HKE6s//OEPq5/vqNM15CZq2cT0j1ZhZ9j4VO/arVvseEyfWO/iwVE1UmmmLhyfuGxQMPYe0S/mTdy79oeqGp5U7RBz7+oQxw/tGj179qj71Gyuxdy5scrTqjRXXYvHjHUt7fqv917UppqtJ848Mb4/6/ux1ditlviUai1+VIva3np+ZOn5RI3YqTufJ85dDzprVHpuleeaduPUyWH+7Mt5ch3/iT//Wz+SdSG1lWvWJzbvk7HGuO95rzIeDo9DnosxLvNmXJ7n70Hi5ZVLmTm1IR1w5nOrtHN84QbnEIO0JvJ4HenP6xALnjm+XLMxWVp7mcM46zIm10es8fjFKnOMdVtb9jlHWocSm+sopVxK/eryKbEzrE9JHCMfI3RzO0fXRix2pPzO1bNkrp7r0I7MeVwDtubr/5/3/e8x8dh5fmDnfNCOnuceH6THTamPGPnzuVXam6//xvdK9jkfB/YVWyndZ6V+dfdeiZ2R+dGJY+RjhE6cPo+ZNuvJv4KPLTctzUuTlI9Pl+Y6Mt6cpS1f/3DQTIXbJ1TJi27jljkDe8abN/MbawxSHD792rIUS93ataE7L/3YHdlHjHsgn37x1INNnHbxSGvOrwIAh69qrAJAwQiRG6wuqcnAgpNYnEUo5URmTvk4wYxVZhw8cnkywkVea/5Pbqz6D8Rm2dwwaz4Hms+Bf7dzIDdWvddz/82D+za69/R6Er/3cXnA5XnmAWsO+dRzjHPxSusxxu8ZdDF8z+iHJ/vAWF8Nv0XbaDlgWHzomw/WXguw8pdGx+oHXBpr8gqAfhc3vAqgzhOra3U7I9bdaUB8ZqNWtZzmRrp2cjGszfUh9YklTru1ohujjThs5tGe82e/+cEx0J2DQydWXn3oYpXmRObvdWM8LuKRGYfO4KX7DK+P5W2o8qv/+SlVGqpz586thrWQx3Uh8z6CcS3g9CmNA2fNOQYcT6nya/8b8sepil/75z2q61/8TMOv/aeG6rrnPRXrnPtUfOKcOfHF38+J3Q/+etVU3bLvV2OLvl+Nrfp9LX48/Hdx6A/PjQsuuCBeeumlGD9+fKP3q9Jg5Yfy4447rnZeuWYaqzZXndtAVa81UtN7VvUh2x+8X2x6Wv9Y78IBVTN17csGRjUuHRCj7uhRa6q+M6lD8Ieq7ruiYxx75KJ3tspvM9VGqjn0o/PkLU1VnlZluP/lsfNYIRmeZ8xb3NYilrW52nJ0y1hp9EpLfUo1N1bd2yyp01rqSc8Vz53m63/RvYc9YX+a+vnfc4B9Fed+4jMeG0MdaYx2dO3yGicWvz6lcfKYwxhwzpHisyQWXI41Bp9x1mNu8dme8xkLzvNKbOY0Bpz2nN982adfKW8p8VunPGDyHF2eXINc+Bg5xrl4pTzG5OtfjHshJ1If0vq0lfXptz5j1LOkTmupJ8GaHx5rc31I7OaQQzvxzB3m1o8kJtvlQGa/+cWa0xzoxCCJyzixSnMiWZNYpcdFPDLj0PU1X/8N57975967P9mejyd2j5fnlVjsHiNj4NOuD7z5sk+/Ut5S4rdOeTKneHlyDdmHv168eKU8SIbnGXMx7gW2cu1grE88Olhk9lufNvUs5Se+3gCLHQ6GtblWJHaal/4KPs1NGp/mBePAx98l4Nf88WMvm5zkkwM/OnXwG908JUsedOJzYxXdxipxvsMVjLUoc858Xbs3HhfxyIxD1/fvfP3TWLVOa641VjFQPJvFwvNmo3tCuNkSZWy9GDfPAwf+/7d3Py//btdZx09DxEiotaWBKBFOIrZIB4IkCGpAU2jaY5MmJwmxs6NoJsETPeRXJyGI2FFoK7SFUuigFDtoRx1YOktxYINSStKBk8ZOkpn/wkfez5fX91xn83mO8fitaZP7wGbtda1rXWvd+973/Xm+O08+Dz1zvnw9VKM5i6d22tfB6nUg5R/cl732wrUHnt0e6N3q/ds7t+E9Dt/PhXOOL2ff9xsrnu/9zt889fBoxTHi0DDny1MXjpeG+X4OxoO/410/fPvBv//i7S//i9+8fc/n/uj2PT/zx7c3v/Jfb3/lpd++fe+Lv3z7qx9u/NKTrwH40C/evu+Dv3D7wX/8b29//e/8g4dD1bTUrUY/RKSt/ywOXvF69jkqvteBK7+YnvFPG0fe1pCXpYfHL1d+MVxWrfj6lrsx82xx+dkw1+GZPg9U+z7V/jDV6/1xqscOVDuEbFRXbX3AWH3l61nOxvTNys++6+f+8OGPU73j1179w1T3/m//b/ul/3l79UD167cf+IU/uX3/z//J7YO/9Y3bT33q3z0cqHao+kMf/tcP4w//x9cffkuh76HtUNX//d9vrPZVAB/96EdvH/nIRx56rzc/vDrM7NBy5w412Q5bjeU6hH3/B164/aOXPnj7u6+8eHv+Zz92e/vPf+z28m98+Pa//suP3v70P/+T2x/8px+9/cq//7Hby//y/Q9/qOo8PE0zre2BdhjcVwE4WD3v1667OY79+pb/+JZv+WD16YHpfkXAY/Pffe725l9989P9oW77f/fN4tfz/+R9aE26Z56rMM8/i+de7truGjfHyTZO3TD1Ntb8HMurB32Eb6x5MfbUkbe2+Y7N2d7D5TV3TfjF2k/5egprjsv3/K+eefxz6OPU4Z+90Trj4cbGXI88Pt1w11EejeXHjQMz58tTF463+e0reLyd6ym7mvSyRpzdoyd+Pf+vXavWee9D6xvGWmPrvmvrvpycuI1Tl2b4xvhr9RW29zB8Y82Ls6sh97T02M3Z3jevuWvCL/96/r+zn/8OVjvU9H2mHZye+ya/vdH37ccV30POsA5Q/dGq9ms5/dGpsP4AlX0d10GqPeigdfsotjnlbU25+rnny8/Gq6fmbFh5+c3/vDz/vgpA39nnNJs1XPReRLEuKIzA8vbDCI/exuQUM8825K0fVr00ymkunn8drD67gxT/gL3stabXHrj2gN9Y9QNb713v9LXh3ss+G4p7d8tj4xTDyYY1thYOng/SdIplae5cbPPVwNNDnEZ+HHH2Hv43nv/bt7d1wPrSr9/e9On/dnvTz3z19pc+999vb/k3v3976yd/7/bXXv6929v/+a/e3vEj//D2N5//W097PXvQZ7U2pm896Atn+93riL/+qd/6+RyN21qvdvP14+glnN6uCX66cDx6G0sTbp5Vy5yf1le+8pXbeaj6/3qg+s1vfvP25S9/+WldPbkefte0PblGcbHT3zXACbuHl7v48uDPP//8w/ek9hub/iiVw9PTbjx+36/6rnc9+U7cfb72kNS8Q0xfAwDre0+b8x12smI//k9fuP3YB164vf9DP3n70Isv3P7Zx164ffTDP3578UM/cfvAT77wND++g1T2qcbUEqtO836Q7ysA9jtWW9vWzxrvWrZ27kvWvXzr59/6f/Wbq697wPq7T34DtkPVt/+9t7+mntru4fZQv3DXoD997zUtp7h9mM2ntT5M7l/U579r8t5qfq5Lvrg1Xv9cB/eFTnFY1nrRwstW/+QuH1dNeuFh9/A4iy8PrvbazaMftntAfTr7/JeDv9dl7cQ3J/45tqfVqWY+HVZ/6cTZHraWGF59pdFwPTThuDj5hl6K6SGdRn48OuxjuPrlxGmUo9bak0sbLo9G+PZino1TPLs+LfF8GP3Wb+9ta73azdcvLw04PbXpZtOF48nbmJyzjlpZI51GuvpuLk4jXzxs+fn6iZdv0CkOyy5v64Xnn9zlryZ8Mb2og7N4cz4bTy9sGhtvHla8Ob9cvH2+1I7fcF3WUnxzcNaevYlVc3ulp794etTD1hLDq680Gq6HJhwXRy9ZvRTTQzqN/Dh02Mdw9enS3nrmJ5c2PJ9O8/B8vOYdovaLBNn+QFTfpy8nfod7HWTWR9+L2v9La/+QlEPO973vfQ956fQ/xKuTPQ9Q9dJBa7+gkG46zcOW372xVq5ra4q51q3rOuWtH1auPdlcnEa+eNjy81c336BTHJYN52+98Hwx3NYeRvO5iAoTyZpLlkC8+MaaazDOWUi+WuJ8cVb91QqLLyeN62D1OgC6DgGvPXDtgWe/B3q3etd63/O9v72fva/xzvd4/M0Vp5OlIRZfnhj984escPrlN4etznLi0W1+rwe9iOHnF6sPmnqllY0vFw9OC3/j5azeeb3FyjuHPHF+2s3VhOerK5Y1p7N1xDfWXA3Xs3H5ahWTI7ZW/dUKK3819IJfzNwP6dXB05OYmnL0xX8svj/I4dBm4fV01sNRL27zvTaxbP30m5qf+cxnHn7bYA9Pz4PV/OL9BsKnP/3ph68CSEONbHUcZjq4zC4GX6wDzvxi+OzyzNnVWn5zA5d1sKrmfhXAe9/73qd73z23dq6vNQtrWNvlxNv7bJ3DzyGGbz2v5//JWllf65I137W0/uL85TS3zs1x937Cw4yw9OR65srH0ZNYOQ05W0vsXvzb8fzXx/bffNePn+162M0Ly3+9PHx6+fTkFaOVtX545cijt7nidFZDLH549tQ/Pw+L0y9fTrZBZznx6Da/14NexPDzi13P//X87x6xj2DZ9tz5vrF/sju3P+Hsue/SK4avbn54fFZs7evl4a0+PXnFGrj6wwtvwFdLnlxauHJdS1aM/nfD89/BZF+B5b8OMlubfmPU3Fp1UNr//d9/4ta2Q9FvfOMbDz8Lrkbr6Z721QLnf9WKn57/vvSlLz3cj2Lnf/jVdbCa1ada+uKLs+53Pq5e5YSHGXGLyfXMLa95PLGz3tYSy9IU389/v7FKO/ucB7RkSUsIr1kxF1Whk1cxOJ68jW0t86xa5nyLRctFFr8OVp/9gcp1SHWt6bUHrj3Qu7V3bO/d/SDyHl4bz3vZZ0Bx7246bJxiONmwxtbCwTt/oEqP5s7Ly998NfD0EKeRH0ecfQxXg268cvLPcXJpw+XRCN9ezLNxiuuLT2t9GP3Wr0HvL/rnv+vo+lyXNVr/XIc4m1scBue3nu5X1rqLi52+mvTihd3D4yy+PHj5L7300u2VV155+K7ReweqsH5TtUPVT3ziE0+vk47nywHmvYPON/pbq6uZrkPRcHXYPTiFxdvfkMUp3lcBdKDqt1ZdT+uya7xrGSff2Ht5Pifuq/vJPoarn3achl7UY08ubbg8GvrGS2c5xfWVzae1Pkzu9fy/9v1sfVsn92rXurl7gmvd8eGnb+3pxQu7h8dZfHnw8vXCbh79sOI01Kfj+d++4zfiNrw74+RvDs7aszexam6v9PQXL05WD1tLDK++9O16aMJx8zdfDTw9xGnkxxFnH8PVpxuvnPxznFzacHk0wrcX82yc4vri01ofRv96/l97f/Y+7D2zXtYbL2vd8cVO39qH44Tdw+Msvjy42ms3Lzxu2O4B9ens81UO/l7X9fw/+XeFtbaG+Yb13PWznmE7Tu6pIa970Nx9xFO/Q8qvfvWrD//juvu19zr++urS7772W6tf+9rXHn6eai/Q3n7xs3opTk/t5aUNx6O5MTlbN0wtc35adMtpjkMj357FWV8/8YobdIrDssvbeuHbS9w9WJX73BYsKb9Rco2dCy9GQE7WiCPePB08uvk4Gs83NL88MXXyr4PV6wDoOgS89sC1B579Hujd6t3t/b3v3p33nsfxns56txdrHs/YdzwtvHIXa64GXdpbz/zk0oLn06Gdj2eOU55+9zrir3/qt34NeufnabgYmwacntr6zqYLx5O3MTn02XB5zflh6aZx9iv2f9IQj58Obbr5OGH8sIbrgrNy7vmuZTlh9/A4iy8PXg29sZtXPG5YcRrq02kN4xr4rjG/NZKX3Zz8HR0u9n/vf/HFFx9+A+Hd7373ww/J73nPex5+S6DvUy3uNwXK1V9zPTsEfewgs0PNDljx7h2SOjAV24PQPSxdjTj49zg05bAdrPoagA6O957s+rjG1tu1W3v35IxZE7zyllPc/bKWtNaHye2+7r09nyd942f1steh9vLShatLb2Ny9prC1DLnp5VuGme/YrTknBri8dPBo5uPE8YPa7guOCvnnr9rULwRdg9PZ/HlwcvXG7t59PVLQ4909lkuB9815rdG8rKbk3+Oszfxam6vW69YPDZeY2uJ4bl3rjVLc+fl4eglq5dizeMZ+XHosI/hatClvfXMTy5teD6d5uH5eOY4xfWVzae1Pox+67f39nye0t9a20s4PbXpZtOF49HbmJyzjlpZI51Gummc/YrRekxDPH46eHTzccL4YQ3XBWfl3POrBc82wu7h6Sy+PHj5emM3j75+aeiRzj5f5eC7xvzWSF52c/LPcfYmXs3tdesVi8fGa2wtMTz3zrVmae68PBy9ZPVSrHk8Iz8OHfYxXA26tLee+cmlDc+n0zw8H88cp7i+svm01ofRb/323p7PU/pba3sJp6c23Wy6cDx6G5Nz1lEra6TTSDeNs18xWo9piMdPB49uPk4YP6zhuuCsnHt+teDZRtg9PJ3FlwcvX2/s5tHvYLU4jTjPddGAggRYF8IuJ+EtVAwvK2bOajxfHVrZRng3dePlwfGug9Vnf6ByHVJda3rtgWsP9G7tHd271ju7Ocx7uncybK33dRicDgzOp3mvznLkxUszn93c/fzAzfa5R4MNx9d7Pl0/IMQ/fxiNU/5q0AorJ1+trLk8flYtOfxsWENf9LNh2wtNOvlGvPTk0E2n+equjpi4emrAyymmHouff2qV2wj/Vj7/acWnZa34+qG9fj3Ad14uvxr14lrii9/DTr108JqvrxdYvLTP3jevnHe+8523j3/847eXX3759oUvfOHhIPWLX/zi7VMOQmo4AAAIhklEQVSf+tTDH6vqO1U3Z+vTdmC5toPOcxR3ENr83mEobK0ceqsDW765fk7fH69yuGqdXRtrTbOudbnN2yOtz3KXv/eBrn1V3vX8P3lOW4vWx9rtmopld+CH7f3JT4fW9fy/usbWb9euOd+6LW/n8fi75vJYnLXFtk4x/LQasLXliMHp5Btp7Vx/coqfOhtzbSw9eVlD/ev5f/Lctg6tSaM1tvasdWaXY52taTG8bKOYOYufrw4t9yn8ev6v53/3g/1z7hV7jN347q9we+96/q/nf/fJOd93WXvm9X7+9xurm/PcKXjvZReW+G7G8oxi5wamG168kQ58/dXZhwdXfby118HqdQB0HQJee+DaA89+D+zB6vle9m5m+2xo7sOFnw3zObCfAfF9NjSntTrq+gxITw5d/M1XZzni5cvBU8fnEj+L3zy9cmmZh5//EIgvzp79WCfxauE0T7NYmN5w4XqFL6+8cBzXoI6YXPH1w+LXa3MxdrVgWVrFG3Lp8eXgLN4cH2+t+NriaeEVM7e2sLXlFKe1OrDlm+8abx05Ybg0813vxmnRcR279quFr/d8uvZWfPtI/TgOMO9Zh5przfH52f3N1vUX76B1c9IJcwCbL26eb/gqgL5rttG1un7W2rDLsc7WtBhetmHt+DC56vCzjfDr+X/13wTWp3VpTa0rfH1rCGvNYe5DMdha8bXFl7969dOArS1HDE4n30h/5+XA9Hbq0NNbftpwlhYd9f8snn811GTD68c18PUoj5/1rpHDz4Y17l1vmGtUJ0snbSNeenLo4m++3pYjrp4a8HKKqcfi55cTX455+PX8X8//7gf759wr9hi78d1f4fZe+z695TbHj9e8QdczWN69z//yV4OWGvlb01weP6uWHH42rKEv+tmwxqlJJ20jXnpy6JbbfHX1thxx9dSAl1NMPRY/Xx052Ub49fx/dz7/n/3sZ1+z99oPD7+xarOw54YKh+HsxipmQ96Li2VXi0b59+ZhbdYzDkvvOlh99gcq1yHVtabXHrj2QO/WfS/7YQnmvc7vPe39ni2+MfPsDp8fcvHC/WAWRm/jr4cXSzMrx3zt+fkiJnc/b8Tk3LtOefqv7zT0L/fUCheLX3wxunA23dXW78nXa5rxs7u++GrSDIfhqM3SuxcXy66W3LTvzcNcy8Zh2584TL/hegrbeDFDX7is3sTzzct1TXTUhfNZPHEaxZufPLiYfLysXovtfHPwi1e74cDSQanDzLXmcfeQNP88KA3Dzzow3To4xQ1amytna/oqAL+xam26lnNd+Lse+GIs3BrB5Z77rbgc6wkLl9fcPwTT0KdcdfhZ8/ir2ZwunHU/+fo9+XqtRjnZ6/l/8g5obVoPa8a6H+I48NYR1/oXgzffEachbk4PFw+ef85xt/7ON2e51W7A1Dr5tPDaK7hhNOSFlcMW35g5DZaWXLzw3Z/0Nt78MbyYa5CTPUd1xM3z5Xqezjo48HIb8ppfz/+T+9NatE7ucf655mGLF7f2y4VZ911v2Go9Fk/T0Bcuqx/xfPNyXRMddeF8Fk+cRvHmJw8uJh8vq9diO98c/OLVbsBonnxaeNfz/9qfM6x3a2nt9n40v57/7/zn38Hq7oGH31j1ANko2cb5AHrACOD58EuHVtxegI1TR16c1Yp35scJs3mX3/w6WL0OgK5DwGsPXHvg2e8BB6veyecPtPsu3ne0zwl5+dcPGM/2B4w+D1vXX/zN3/m2jZ/+V5+8fe4//Nzrjj/rz397LWu/tS93vvsU3361juHxDP7qyv1O+QfGt3PvvJHa534772v38o3oPqucs797z0Z7qD7bf/aT68i/Nw/z7hW3b7N+/qYdBy/rWVCznAae+HKb4+mTLabX5uqnQ6t4PV/P/6v/dnls/VpDa9qau0+w8qxx2N671XwML8d9oZk9R1ri5vly7cGzDg5cT/Ly67+4/aBO1lBTfnh8XHG6cDb97UG/Jz8/Xnrsri++PmiGw3DUZundi4tlV0uu61MDnnUtsNXSe3nhcfCyelEzzvLEl9scTz/sajdXPx1aceu5ceqUsxpx8+Od+cXCtl98Gvl4tOnw5Sz3sb7osrTkdr2rm849/bDtXT5dGmxxa3DqWeO451rgPoaX4xqa46vLwrPmm2sPnnVw4PLVzK//4vZDOVtjfflh8cXw6cLZ9LcH/Z78/Hjpsbu++PqgGQ7DUZuldy8ull0tua5PDXjWtcBWS+/lhcfBy+pFzTjLE19uczz9sKvdXP10aMWt58apU85qxM2Pd+YXC9t+8Wnk49Gmw5ez3Mf6osvSktv1ru7nP//5p3sZ5+FgNVLJjW0g/LzY4gpVID8OS8eC4qpRjkVi1V1tfJxiYefoH//XuNbg2gPXHrj2wLPfA97N+x7u3Q7vfdy72fsfL+t97p0ftp8H+y73fqd1WnqLq3X2kK8W/tYqJre4WPP6MzZXDB+Hzvq4YTR8VuaXA9d7Nv7Zy8mTT/tZHQq9EZ1v5SBpr6m5vdB17tq5zpOPU9zarJWHR9c6bR7u1sArH47Hqpe/8/g4YicGX14cI7z56oa5Hvl05YnnN8ejs7i9Vww3+0bu+bcz59xv1qDr6vobf576e72DVf3qPds9y8LyT15+133GrEVx+at1zuO3L+Dp0dx8tWDpx8u3r+JsX8X/f/38X121Xcv2UwyOq3/XFP/edeJv/s6t1/JOTH2cbByDv7ph9aO/LF154vnNy6GBD3efwmHyz/o0tt7Zz/X5/+q/l63j3hdrag3z3QNrmW203mx86x+2+Xjh1Txj+qDFylvd5vGv5//J2rcW1tR6tX7GuXY4ew+s94nBaWXjGPytEXbeT7ryxPObl0Mju7i9F44r/6xPY+ud/VzP//X8t0/sq91T9ud30+d/37Hq+fPc/G/YIZqMudfLjQAAAABJRU5ErkJggg==)"
      ]
    },
    {
      "cell_type": "markdown",
      "metadata": {
        "id": "y43S7mbT5jGQ"
      },
      "source": [
        "ดูรหัสสถานีจากข้างบนแล้วเปิดแชร์ไฟล์แล้วก็อปตามรูปมาใส่หลัง --id ข้างล่าง"
      ]
    },
    {
      "cell_type": "code",
      "metadata": {
        "id": "1d354URmcafg",
        "colab": {
          "base_uri": "https://localhost:8080/"
        },
        "outputId": "96601b97-683d-4072-f209-c9080ee2f814"
      },
      "source": [
        "# download station file\n",
        "!gdown --id 1ebJddYtRmEJbU9ITdvObE0IGr2zz5K0f\n",
        "!gdown --id 1dj14nux3FyViM9heQwHxio1QZleZoZJx\n",
        "!gdown --id 1hT_L86beygC_OQ1jMushxeDga8ZBM9Js"
      ],
      "execution_count": 130,
      "outputs": [
        {
          "output_type": "stream",
          "text": [
            "Downloading...\n",
            "From: https://drive.google.com/uc?id=1ebJddYtRmEJbU9ITdvObE0IGr2zz5K0f\n",
            "To: /content/CGMN.csv\n",
            "3.72MB [00:00, 57.6MB/s]\n",
            "Downloading...\n",
            "From: https://drive.google.com/uc?id=1dj14nux3FyViM9heQwHxio1QZleZoZJx\n",
            "To: /content/WCHN.csv\n",
            "3.65MB [00:00, 101MB/s]\n",
            "Downloading...\n",
            "From: https://drive.google.com/uc?id=1hT_L86beygC_OQ1jMushxeDga8ZBM9Js\n",
            "To: /content/SWKL.csv\n",
            "3.69MB [00:00, 93.1MB/s]\n"
          ],
          "name": "stdout"
        }
      ]
    },
    {
      "cell_type": "code",
      "metadata": {
        "id": "TqPDlkhweAyw"
      },
      "source": [
        "north_df = getData('CGMN.csv')\n",
        "mid_df = getData('WCHN.csv')\n",
        "south_df = getData('SWKL.csv')"
      ],
      "execution_count": 203,
      "outputs": []
    },
    {
      "cell_type": "code",
      "metadata": {
        "id": "pSyCP0p4AgSz"
      },
      "source": [
        "# north_df[north_df.date.str.contains('2012-07-12')]\n",
        "north_df = north_df.drop(range(0,22167))"
      ],
      "execution_count": 205,
      "outputs": []
    },
    {
      "cell_type": "code",
      "metadata": {
        "colab": {
          "base_uri": "https://localhost:8080/",
          "height": 419
        },
        "id": "vO18z7qtGrRI",
        "outputId": "fdd97806-58e2-4616-9b65-ed08dd9ba16f"
      },
      "source": [
        "north_df"
      ],
      "execution_count": 206,
      "outputs": [
        {
          "output_type": "execute_result",
          "data": {
            "text/html": [
              "<div>\n",
              "<style scoped>\n",
              "    .dataframe tbody tr th:only-of-type {\n",
              "        vertical-align: middle;\n",
              "    }\n",
              "\n",
              "    .dataframe tbody tr th {\n",
              "        vertical-align: top;\n",
              "    }\n",
              "\n",
              "    .dataframe thead th {\n",
              "        text-align: right;\n",
              "    }\n",
              "</style>\n",
              "<table border=\"1\" class=\"dataframe\">\n",
              "  <thead>\n",
              "    <tr style=\"text-align: right;\">\n",
              "      <th></th>\n",
              "      <th>code</th>\n",
              "      <th>date</th>\n",
              "      <th>time</th>\n",
              "      <th>rain1h</th>\n",
              "      <th>temp_out</th>\n",
              "      <th>press</th>\n",
              "      <th>humid</th>\n",
              "    </tr>\n",
              "  </thead>\n",
              "  <tbody>\n",
              "    <tr>\n",
              "      <th>22167</th>\n",
              "      <td>CGMN</td>\n",
              "      <td>2012-07-12</td>\n",
              "      <td>15:00</td>\n",
              "      <td>0.0</td>\n",
              "      <td>34.3</td>\n",
              "      <td>973.0</td>\n",
              "      <td>70.0</td>\n",
              "    </tr>\n",
              "    <tr>\n",
              "      <th>22168</th>\n",
              "      <td>CGMN</td>\n",
              "      <td>2012-07-12</td>\n",
              "      <td>16:00</td>\n",
              "      <td>0.0</td>\n",
              "      <td>34.8</td>\n",
              "      <td>973.0</td>\n",
              "      <td>68.0</td>\n",
              "    </tr>\n",
              "    <tr>\n",
              "      <th>22169</th>\n",
              "      <td>CGMN</td>\n",
              "      <td>2012-07-12</td>\n",
              "      <td>17:00</td>\n",
              "      <td>0.0</td>\n",
              "      <td>36.3</td>\n",
              "      <td>971.0</td>\n",
              "      <td>64.0</td>\n",
              "    </tr>\n",
              "    <tr>\n",
              "      <th>22170</th>\n",
              "      <td>CGMN</td>\n",
              "      <td>2012-07-12</td>\n",
              "      <td>18:00</td>\n",
              "      <td>0.0</td>\n",
              "      <td>32.8</td>\n",
              "      <td>974.0</td>\n",
              "      <td>70.0</td>\n",
              "    </tr>\n",
              "    <tr>\n",
              "      <th>22171</th>\n",
              "      <td>CGMN</td>\n",
              "      <td>2012-07-12</td>\n",
              "      <td>19:00</td>\n",
              "      <td>0.0</td>\n",
              "      <td>30.9</td>\n",
              "      <td>975.0</td>\n",
              "      <td>71.0</td>\n",
              "    </tr>\n",
              "    <tr>\n",
              "      <th>...</th>\n",
              "      <td>...</td>\n",
              "      <td>...</td>\n",
              "      <td>...</td>\n",
              "      <td>...</td>\n",
              "      <td>...</td>\n",
              "      <td>...</td>\n",
              "      <td>...</td>\n",
              "    </tr>\n",
              "    <tr>\n",
              "      <th>96427</th>\n",
              "      <td>CGMN</td>\n",
              "      <td>2020-12-31</td>\n",
              "      <td>19:00</td>\n",
              "      <td>0.0</td>\n",
              "      <td>24.8</td>\n",
              "      <td>981.8</td>\n",
              "      <td>61.4</td>\n",
              "    </tr>\n",
              "    <tr>\n",
              "      <th>96428</th>\n",
              "      <td>CGMN</td>\n",
              "      <td>2020-12-31</td>\n",
              "      <td>20:00</td>\n",
              "      <td>0.0</td>\n",
              "      <td>23.8</td>\n",
              "      <td>982.7</td>\n",
              "      <td>64.0</td>\n",
              "    </tr>\n",
              "    <tr>\n",
              "      <th>96429</th>\n",
              "      <td>CGMN</td>\n",
              "      <td>2020-12-31</td>\n",
              "      <td>21:00</td>\n",
              "      <td>0.0</td>\n",
              "      <td>23.2</td>\n",
              "      <td>983.6</td>\n",
              "      <td>63.5</td>\n",
              "    </tr>\n",
              "    <tr>\n",
              "      <th>96430</th>\n",
              "      <td>CGMN</td>\n",
              "      <td>2020-12-31</td>\n",
              "      <td>22:00</td>\n",
              "      <td>0.0</td>\n",
              "      <td>22.7</td>\n",
              "      <td>983.9</td>\n",
              "      <td>64.9</td>\n",
              "    </tr>\n",
              "    <tr>\n",
              "      <th>96431</th>\n",
              "      <td>CGMN</td>\n",
              "      <td>2020-12-31</td>\n",
              "      <td>23:00</td>\n",
              "      <td>0.0</td>\n",
              "      <td>22.3</td>\n",
              "      <td>984.0</td>\n",
              "      <td>65.9</td>\n",
              "    </tr>\n",
              "  </tbody>\n",
              "</table>\n",
              "<p>74265 rows × 7 columns</p>\n",
              "</div>"
            ],
            "text/plain": [
              "       code        date   time  rain1h  temp_out  press  humid\n",
              "22167  CGMN  2012-07-12  15:00     0.0      34.3  973.0   70.0\n",
              "22168  CGMN  2012-07-12  16:00     0.0      34.8  973.0   68.0\n",
              "22169  CGMN  2012-07-12  17:00     0.0      36.3  971.0   64.0\n",
              "22170  CGMN  2012-07-12  18:00     0.0      32.8  974.0   70.0\n",
              "22171  CGMN  2012-07-12  19:00     0.0      30.9  975.0   71.0\n",
              "...     ...         ...    ...     ...       ...    ...    ...\n",
              "96427  CGMN  2020-12-31  19:00     0.0      24.8  981.8   61.4\n",
              "96428  CGMN  2020-12-31  20:00     0.0      23.8  982.7   64.0\n",
              "96429  CGMN  2020-12-31  21:00     0.0      23.2  983.6   63.5\n",
              "96430  CGMN  2020-12-31  22:00     0.0      22.7  983.9   64.9\n",
              "96431  CGMN  2020-12-31  23:00     0.0      22.3  984.0   65.9\n",
              "\n",
              "[74265 rows x 7 columns]"
            ]
          },
          "metadata": {
            "tags": []
          },
          "execution_count": 206
        }
      ]
    },
    {
      "cell_type": "code",
      "metadata": {
        "id": "KT78Ty3LAK38"
      },
      "source": [
        "# mid_df[mid_df.date.str.contains('2012-01-09')]\n",
        "mid_df = mid_df.drop(range(0,17722))"
      ],
      "execution_count": 208,
      "outputs": []
    },
    {
      "cell_type": "code",
      "metadata": {
        "colab": {
          "base_uri": "https://localhost:8080/",
          "height": 419
        },
        "id": "rWhk1wY7G5js",
        "outputId": "473241a1-a319-460c-cc09-68bdb982fb46"
      },
      "source": [
        "mid_df"
      ],
      "execution_count": 209,
      "outputs": [
        {
          "output_type": "execute_result",
          "data": {
            "text/html": [
              "<div>\n",
              "<style scoped>\n",
              "    .dataframe tbody tr th:only-of-type {\n",
              "        vertical-align: middle;\n",
              "    }\n",
              "\n",
              "    .dataframe tbody tr th {\n",
              "        vertical-align: top;\n",
              "    }\n",
              "\n",
              "    .dataframe thead th {\n",
              "        text-align: right;\n",
              "    }\n",
              "</style>\n",
              "<table border=\"1\" class=\"dataframe\">\n",
              "  <thead>\n",
              "    <tr style=\"text-align: right;\">\n",
              "      <th></th>\n",
              "      <th>code</th>\n",
              "      <th>date</th>\n",
              "      <th>time</th>\n",
              "      <th>rain1h</th>\n",
              "      <th>temp_out</th>\n",
              "      <th>press</th>\n",
              "      <th>humid</th>\n",
              "    </tr>\n",
              "  </thead>\n",
              "  <tbody>\n",
              "    <tr>\n",
              "      <th>17722</th>\n",
              "      <td>WCHN</td>\n",
              "      <td>2012-01-09</td>\n",
              "      <td>10:00</td>\n",
              "      <td>0.0</td>\n",
              "      <td>27.0</td>\n",
              "      <td>1004.0</td>\n",
              "      <td>97.0</td>\n",
              "    </tr>\n",
              "    <tr>\n",
              "      <th>17723</th>\n",
              "      <td>WCHN</td>\n",
              "      <td>2012-01-09</td>\n",
              "      <td>11:00</td>\n",
              "      <td>0.0</td>\n",
              "      <td>31.9</td>\n",
              "      <td>1003.0</td>\n",
              "      <td>69.0</td>\n",
              "    </tr>\n",
              "    <tr>\n",
              "      <th>17724</th>\n",
              "      <td>WCHN</td>\n",
              "      <td>2012-01-09</td>\n",
              "      <td>12:00</td>\n",
              "      <td>0.0</td>\n",
              "      <td>34.8</td>\n",
              "      <td>1002.0</td>\n",
              "      <td>51.0</td>\n",
              "    </tr>\n",
              "    <tr>\n",
              "      <th>17725</th>\n",
              "      <td>WCHN</td>\n",
              "      <td>2012-01-09</td>\n",
              "      <td>13:00</td>\n",
              "      <td>0.0</td>\n",
              "      <td>35.3</td>\n",
              "      <td>1001.0</td>\n",
              "      <td>53.0</td>\n",
              "    </tr>\n",
              "    <tr>\n",
              "      <th>17726</th>\n",
              "      <td>WCHN</td>\n",
              "      <td>2012-01-09</td>\n",
              "      <td>14:00</td>\n",
              "      <td>0.0</td>\n",
              "      <td>35.8</td>\n",
              "      <td>1000.0</td>\n",
              "      <td>48.0</td>\n",
              "    </tr>\n",
              "    <tr>\n",
              "      <th>...</th>\n",
              "      <td>...</td>\n",
              "      <td>...</td>\n",
              "      <td>...</td>\n",
              "      <td>...</td>\n",
              "      <td>...</td>\n",
              "      <td>...</td>\n",
              "      <td>...</td>\n",
              "    </tr>\n",
              "    <tr>\n",
              "      <th>96427</th>\n",
              "      <td>WCHN</td>\n",
              "      <td>2020-12-31</td>\n",
              "      <td>19:00</td>\n",
              "      <td>0.0</td>\n",
              "      <td>22.8</td>\n",
              "      <td>998.5</td>\n",
              "      <td>81.9</td>\n",
              "    </tr>\n",
              "    <tr>\n",
              "      <th>96428</th>\n",
              "      <td>WCHN</td>\n",
              "      <td>2020-12-31</td>\n",
              "      <td>20:00</td>\n",
              "      <td>0.0</td>\n",
              "      <td>21.3</td>\n",
              "      <td>999.6</td>\n",
              "      <td>86.4</td>\n",
              "    </tr>\n",
              "    <tr>\n",
              "      <th>96429</th>\n",
              "      <td>WCHN</td>\n",
              "      <td>2020-12-31</td>\n",
              "      <td>21:00</td>\n",
              "      <td>0.0</td>\n",
              "      <td>19.8</td>\n",
              "      <td>1000.3</td>\n",
              "      <td>89.5</td>\n",
              "    </tr>\n",
              "    <tr>\n",
              "      <th>96430</th>\n",
              "      <td>WCHN</td>\n",
              "      <td>2020-12-31</td>\n",
              "      <td>22:00</td>\n",
              "      <td>0.0</td>\n",
              "      <td>18.6</td>\n",
              "      <td>1000.8</td>\n",
              "      <td>93.0</td>\n",
              "    </tr>\n",
              "    <tr>\n",
              "      <th>96431</th>\n",
              "      <td>WCHN</td>\n",
              "      <td>2020-12-31</td>\n",
              "      <td>23:00</td>\n",
              "      <td>0.0</td>\n",
              "      <td>17.5</td>\n",
              "      <td>1001.3</td>\n",
              "      <td>93.6</td>\n",
              "    </tr>\n",
              "  </tbody>\n",
              "</table>\n",
              "<p>78710 rows × 7 columns</p>\n",
              "</div>"
            ],
            "text/plain": [
              "       code        date   time  rain1h  temp_out   press  humid\n",
              "17722  WCHN  2012-01-09  10:00     0.0      27.0  1004.0   97.0\n",
              "17723  WCHN  2012-01-09  11:00     0.0      31.9  1003.0   69.0\n",
              "17724  WCHN  2012-01-09  12:00     0.0      34.8  1002.0   51.0\n",
              "17725  WCHN  2012-01-09  13:00     0.0      35.3  1001.0   53.0\n",
              "17726  WCHN  2012-01-09  14:00     0.0      35.8  1000.0   48.0\n",
              "...     ...         ...    ...     ...       ...     ...    ...\n",
              "96427  WCHN  2020-12-31  19:00     0.0      22.8   998.5   81.9\n",
              "96428  WCHN  2020-12-31  20:00     0.0      21.3   999.6   86.4\n",
              "96429  WCHN  2020-12-31  21:00     0.0      19.8  1000.3   89.5\n",
              "96430  WCHN  2020-12-31  22:00     0.0      18.6  1000.8   93.0\n",
              "96431  WCHN  2020-12-31  23:00     0.0      17.5  1001.3   93.6\n",
              "\n",
              "[78710 rows x 7 columns]"
            ]
          },
          "metadata": {
            "tags": []
          },
          "execution_count": 209
        }
      ]
    },
    {
      "cell_type": "code",
      "metadata": {
        "id": "EA2dNMUcHA57"
      },
      "source": [
        "# south_df[south_df.date.str.contains('2011-09-29')]\n",
        "south_df = south_df.drop(range(0,15280))"
      ],
      "execution_count": 212,
      "outputs": []
    },
    {
      "cell_type": "code",
      "metadata": {
        "colab": {
          "base_uri": "https://localhost:8080/",
          "height": 419
        },
        "id": "rBwjQ7kNHRav",
        "outputId": "fd5f26e7-87dc-4958-a165-4b50d1054719"
      },
      "source": [
        "south_df"
      ],
      "execution_count": 213,
      "outputs": [
        {
          "output_type": "execute_result",
          "data": {
            "text/html": [
              "<div>\n",
              "<style scoped>\n",
              "    .dataframe tbody tr th:only-of-type {\n",
              "        vertical-align: middle;\n",
              "    }\n",
              "\n",
              "    .dataframe tbody tr th {\n",
              "        vertical-align: top;\n",
              "    }\n",
              "\n",
              "    .dataframe thead th {\n",
              "        text-align: right;\n",
              "    }\n",
              "</style>\n",
              "<table border=\"1\" class=\"dataframe\">\n",
              "  <thead>\n",
              "    <tr style=\"text-align: right;\">\n",
              "      <th></th>\n",
              "      <th>code</th>\n",
              "      <th>date</th>\n",
              "      <th>time</th>\n",
              "      <th>rain1h</th>\n",
              "      <th>temp_out</th>\n",
              "      <th>press</th>\n",
              "      <th>humid</th>\n",
              "    </tr>\n",
              "  </thead>\n",
              "  <tbody>\n",
              "    <tr>\n",
              "      <th>15280</th>\n",
              "      <td>SWKL</td>\n",
              "      <td>2011-09-29</td>\n",
              "      <td>16:00</td>\n",
              "      <td>0.0</td>\n",
              "      <td>35.8</td>\n",
              "      <td>995.0</td>\n",
              "      <td>71.0</td>\n",
              "    </tr>\n",
              "    <tr>\n",
              "      <th>15281</th>\n",
              "      <td>SWKL</td>\n",
              "      <td>2011-09-29</td>\n",
              "      <td>17:00</td>\n",
              "      <td>0.0</td>\n",
              "      <td>33.8</td>\n",
              "      <td>997.0</td>\n",
              "      <td>76.0</td>\n",
              "    </tr>\n",
              "    <tr>\n",
              "      <th>15282</th>\n",
              "      <td>SWKL</td>\n",
              "      <td>2011-09-29</td>\n",
              "      <td>18:00</td>\n",
              "      <td>0.0</td>\n",
              "      <td>30.4</td>\n",
              "      <td>999.0</td>\n",
              "      <td>84.0</td>\n",
              "    </tr>\n",
              "    <tr>\n",
              "      <th>15283</th>\n",
              "      <td>SWKL</td>\n",
              "      <td>2011-09-29</td>\n",
              "      <td>19:00</td>\n",
              "      <td>0.0</td>\n",
              "      <td>29.4</td>\n",
              "      <td>1000.0</td>\n",
              "      <td>91.0</td>\n",
              "    </tr>\n",
              "    <tr>\n",
              "      <th>15284</th>\n",
              "      <td>SWKL</td>\n",
              "      <td>2011-09-29</td>\n",
              "      <td>20:00</td>\n",
              "      <td>0.0</td>\n",
              "      <td>28.4</td>\n",
              "      <td>1001.0</td>\n",
              "      <td>97.0</td>\n",
              "    </tr>\n",
              "    <tr>\n",
              "      <th>...</th>\n",
              "      <td>...</td>\n",
              "      <td>...</td>\n",
              "      <td>...</td>\n",
              "      <td>...</td>\n",
              "      <td>...</td>\n",
              "      <td>...</td>\n",
              "      <td>...</td>\n",
              "    </tr>\n",
              "    <tr>\n",
              "      <th>96427</th>\n",
              "      <td>SWKL</td>\n",
              "      <td>2020-12-31</td>\n",
              "      <td>19:00</td>\n",
              "      <td>0.0</td>\n",
              "      <td>22.8</td>\n",
              "      <td>1008.1</td>\n",
              "      <td>61.3</td>\n",
              "    </tr>\n",
              "    <tr>\n",
              "      <th>96428</th>\n",
              "      <td>SWKL</td>\n",
              "      <td>2020-12-31</td>\n",
              "      <td>20:00</td>\n",
              "      <td>0.0</td>\n",
              "      <td>22.7</td>\n",
              "      <td>1009.2</td>\n",
              "      <td>61.8</td>\n",
              "    </tr>\n",
              "    <tr>\n",
              "      <th>96429</th>\n",
              "      <td>SWKL</td>\n",
              "      <td>2020-12-31</td>\n",
              "      <td>21:00</td>\n",
              "      <td>0.0</td>\n",
              "      <td>21.1</td>\n",
              "      <td>1010.1</td>\n",
              "      <td>66.0</td>\n",
              "    </tr>\n",
              "    <tr>\n",
              "      <th>96430</th>\n",
              "      <td>SWKL</td>\n",
              "      <td>2020-12-31</td>\n",
              "      <td>22:00</td>\n",
              "      <td>0.0</td>\n",
              "      <td>19.8</td>\n",
              "      <td>1010.7</td>\n",
              "      <td>70.2</td>\n",
              "    </tr>\n",
              "    <tr>\n",
              "      <th>96431</th>\n",
              "      <td>SWKL</td>\n",
              "      <td>2020-12-31</td>\n",
              "      <td>23:00</td>\n",
              "      <td>0.0</td>\n",
              "      <td>19.3</td>\n",
              "      <td>1010.8</td>\n",
              "      <td>70.6</td>\n",
              "    </tr>\n",
              "  </tbody>\n",
              "</table>\n",
              "<p>81152 rows × 7 columns</p>\n",
              "</div>"
            ],
            "text/plain": [
              "       code        date   time  rain1h  temp_out   press  humid\n",
              "15280  SWKL  2011-09-29  16:00     0.0      35.8   995.0   71.0\n",
              "15281  SWKL  2011-09-29  17:00     0.0      33.8   997.0   76.0\n",
              "15282  SWKL  2011-09-29  18:00     0.0      30.4   999.0   84.0\n",
              "15283  SWKL  2011-09-29  19:00     0.0      29.4  1000.0   91.0\n",
              "15284  SWKL  2011-09-29  20:00     0.0      28.4  1001.0   97.0\n",
              "...     ...         ...    ...     ...       ...     ...    ...\n",
              "96427  SWKL  2020-12-31  19:00     0.0      22.8  1008.1   61.3\n",
              "96428  SWKL  2020-12-31  20:00     0.0      22.7  1009.2   61.8\n",
              "96429  SWKL  2020-12-31  21:00     0.0      21.1  1010.1   66.0\n",
              "96430  SWKL  2020-12-31  22:00     0.0      19.8  1010.7   70.2\n",
              "96431  SWKL  2020-12-31  23:00     0.0      19.3  1010.8   70.6\n",
              "\n",
              "[81152 rows x 7 columns]"
            ]
          },
          "metadata": {
            "tags": []
          },
          "execution_count": 213
        }
      ]
    },
    {
      "cell_type": "code",
      "metadata": {
        "id": "tdMQRMizt9cL"
      },
      "source": [
        "# insert column key in north_df for merge data\n",
        "n_10 = north_df[north_df.date.str.contains('2010')]\n",
        "n_10.insert(0, \"Key\", \"10\")\n",
        "n_11 = north_df[north_df.date.str.contains('2011')]\n",
        "n_11.insert(0, \"Key\", \"11\")\n",
        "n_12 = north_df[north_df.date.str.contains('2012')]\n",
        "n_12.insert(0, \"Key\", \"12\")\n",
        "n_13 = north_df[north_df.date.str.contains('2013')]\n",
        "n_13.insert(0, \"Key\", \"13\")\n",
        "n_14 = north_df[north_df.date.str.contains('2014')]\n",
        "n_14.insert(0, \"Key\", \"14\")\n",
        "n_15 = north_df[north_df.date.str.contains('2015')]\n",
        "n_15.insert(0, \"Key\", \"15\")\n",
        "n_16 = north_df[north_df.date.str.contains('2016')]\n",
        "n_16.insert(0, \"Key\", \"16\")\n",
        "n_17 = north_df[north_df.date.str.contains('2017')]\n",
        "n_17.insert(0, \"Key\", \"17\")\n",
        "n_18 = north_df[north_df.date.str.contains('2018')]\n",
        "n_18.insert(0, \"Key\", \"18\")\n",
        "n_19 = north_df[north_df.date.str.contains('2019')]\n",
        "n_19.insert(0, \"Key\", \"19\")\n",
        "n_20 = north_df[north_df.date.str.contains('2020')]\n",
        "n_20.insert(0, \"Key\", \"20\")"
      ],
      "execution_count": 214,
      "outputs": []
    },
    {
      "cell_type": "code",
      "metadata": {
        "id": "hql-ImEkwnZb"
      },
      "source": [
        "# insert column key in mid_df for merge data\n",
        "m_10 = mid_df[mid_df.date.str.contains('2010')]\n",
        "m_10.insert(0, \"Key\", \"10\")\n",
        "m_11 = mid_df[mid_df.date.str.contains('2011')]\n",
        "m_11.insert(0, \"Key\", \"11\")\n",
        "m_12 = mid_df[mid_df.date.str.contains('2012')]\n",
        "m_12.insert(0, \"Key\", \"12\")\n",
        "m_13 = mid_df[mid_df.date.str.contains('2013')]\n",
        "m_13.insert(0, \"Key\", \"13\")\n",
        "m_14 = mid_df[mid_df.date.str.contains('2014')]\n",
        "m_14.insert(0, \"Key\", \"14\")\n",
        "m_15 = mid_df[mid_df.date.str.contains('2015')]\n",
        "m_15.insert(0, \"Key\", \"15\")\n",
        "m_16 = mid_df[mid_df.date.str.contains('2016')]\n",
        "m_16.insert(0, \"Key\", \"16\")\n",
        "m_17 = mid_df[mid_df.date.str.contains('2017')]\n",
        "m_17.insert(0, \"Key\", \"17\")\n",
        "m_18 = mid_df[mid_df.date.str.contains('2018')]\n",
        "m_18.insert(0, \"Key\", \"18\")\n",
        "m_19 = mid_df[mid_df.date.str.contains('2019')]\n",
        "m_19.insert(0, \"Key\", \"19\")\n",
        "m_20 = mid_df[mid_df.date.str.contains('2020')]\n",
        "m_20.insert(0, \"Key\", \"20\")"
      ],
      "execution_count": 215,
      "outputs": []
    },
    {
      "cell_type": "code",
      "metadata": {
        "id": "lE2uyXBBw8WE"
      },
      "source": [
        "# insert column key in south_df for merge data\n",
        "s_10 = south_df[south_df.date.str.contains('2010')]\n",
        "s_10.insert(0, \"Key\", \"10\")\n",
        "s_11 = south_df[south_df.date.str.contains('2011')]\n",
        "s_11.insert(0, \"Key\", \"11\")\n",
        "s_12 = south_df[south_df.date.str.contains('2012')]\n",
        "s_12.insert(0, \"Key\", \"12\")\n",
        "s_13 = south_df[south_df.date.str.contains('2013')]\n",
        "s_13.insert(0, \"Key\", \"13\")\n",
        "s_14 = south_df[south_df.date.str.contains('2014')]\n",
        "s_14.insert(0, \"Key\", \"14\")\n",
        "s_15 = south_df[south_df.date.str.contains('2015')]\n",
        "s_15.insert(0, \"Key\", \"15\")\n",
        "s_16 = south_df[south_df.date.str.contains('2016')]\n",
        "s_16.insert(0, \"Key\", \"16\")\n",
        "s_17 = south_df[south_df.date.str.contains('2017')]\n",
        "s_17.insert(0, \"Key\", \"17\")\n",
        "s_18 = south_df[south_df.date.str.contains('2018')]\n",
        "s_18.insert(0, \"Key\", \"18\")\n",
        "s_19 = south_df[south_df.date.str.contains('2019')]\n",
        "s_19.insert(0, \"Key\", \"19\")\n",
        "s_20 = south_df[south_df.date.str.contains('2020')]\n",
        "s_20.insert(0, \"Key\", \"20\")"
      ],
      "execution_count": 216,
      "outputs": []
    },
    {
      "cell_type": "code",
      "metadata": {
        "id": "cuTATyJPxPHh"
      },
      "source": [
        "# result nf_df, mf_df amd sf_df\n",
        "north_df = pd.concat([n_10, n_11, n_12, n_13, n_14, n_15, n_16, n_17, n_18, n_19, n_20], sort=False)\n",
        "mid_df = pd.concat([m_10, m_11, m_12, m_13, m_14, m_15, m_16, m_17, m_18, m_19, m_20], sort=False)\n",
        "south_df = pd.concat([s_10, s_11, s_12, s_13, s_14, s_15, s_16, s_17, s_18, s_19, s_20], sort=False)\n",
        "# display(north_df)\n",
        "# display(mid_df)\n",
        "# display(south_df)"
      ],
      "execution_count": 219,
      "outputs": []
    },
    {
      "cell_type": "code",
      "metadata": {
        "colab": {
          "base_uri": "https://localhost:8080/"
        },
        "id": "MHP1yNAGbQnL",
        "outputId": "7e7eb786-2cd4-45eb-bc88-de53ed2c7194"
      },
      "source": [
        "# download storm file\n",
        "!gdown --id 1Sj-7RPCg6Ul4CWFdZ-hLAiWpVCzf-2_L"
      ],
      "execution_count": 220,
      "outputs": [
        {
          "output_type": "stream",
          "text": [
            "Downloading...\n",
            "From: https://drive.google.com/uc?id=1Sj-7RPCg6Ul4CWFdZ-hLAiWpVCzf-2_L\n",
            "To: /content/Storm_2010-2020.csv\n",
            "\r  0% 0.00/17.8k [00:00<?, ?B/s]\r100% 17.8k/17.8k [00:00<00:00, 25.4MB/s]\n"
          ],
          "name": "stdout"
        }
      ]
    },
    {
      "cell_type": "code",
      "metadata": {
        "id": "ZZhLSrFmbYcZ"
      },
      "source": [
        "storm_df = getData('Storm_2010-2020.csv')\n",
        "# storm_df"
      ],
      "execution_count": 221,
      "outputs": []
    },
    {
      "cell_type": "code",
      "metadata": {
        "colab": {
          "base_uri": "https://localhost:8080/"
        },
        "id": "0BcZaBK2bn59",
        "outputId": "baecb39f-50d1-4621-9452-3de727ca677b"
      },
      "source": [
        "# download forest file\n",
        "!gdown --id 1AYwTBFuIVJJ0QGDu1lALIQDmwpIKNO8P"
      ],
      "execution_count": 222,
      "outputs": [
        {
          "output_type": "stream",
          "text": [
            "Downloading...\n",
            "From: https://drive.google.com/uc?id=1AYwTBFuIVJJ0QGDu1lALIQDmwpIKNO8P\n",
            "To: /content/ForestNorth_2013-2019.csv\n",
            "\r  0% 0.00/1.57k [00:00<?, ?B/s]\r100% 1.57k/1.57k [00:00<00:00, 1.34MB/s]\n"
          ],
          "name": "stdout"
        }
      ]
    },
    {
      "cell_type": "code",
      "metadata": {
        "id": "zEAl2jkRbwdQ"
      },
      "source": [
        "forest_df = getData('ForestNorth_2013-2019.csv')\n",
        "# forest_df"
      ],
      "execution_count": 223,
      "outputs": []
    },
    {
      "cell_type": "code",
      "metadata": {
        "id": "ICl73zXWdE8W"
      },
      "source": [
        "nf_df = forest_df[forest_df['Province'] == 'ตอนบน']\n",
        "mf_df = forest_df[forest_df['Province'] == 'ตอนกลาง']\n",
        "sf_df = forest_df[forest_df['Province'] == 'ตอนล่าง']\n",
        "nf_df = nf_df.astype(str)\n",
        "mf_df = mf_df.astype(str)\n",
        "sf_df = sf_df.astype(str)\n",
        "# display(nf_df)\n",
        "# display(mf_df)\n",
        "# display(sf_df)"
      ],
      "execution_count": 224,
      "outputs": []
    },
    {
      "cell_type": "code",
      "metadata": {
        "id": "ypZB2Qmvd-5g"
      },
      "source": [
        "# insert column key in nf_df for merge data\n",
        "nf_10 = nf_df[nf_df['Year'] == '2010']\n",
        "nf_10.insert(0, \"Key\", \"10\")\n",
        "nf_11 = nf_df[nf_df['Year'] == '2011']\n",
        "nf_11.insert(0, \"Key\", \"11\")\n",
        "nf_12 = nf_df[nf_df['Year'] == '2012']\n",
        "nf_12.insert(0, \"Key\", \"12\")\n",
        "nf_13 = nf_df[nf_df['Year'] == '2013']\n",
        "nf_13.insert(0, \"Key\", \"13\")\n",
        "nf_14 = nf_df[nf_df['Year'] == '2014']\n",
        "nf_14.insert(0, \"Key\", \"14\")\n",
        "nf_15 = nf_df[nf_df['Year'] == '2015']\n",
        "nf_15.insert(0, \"Key\", \"15\")\n",
        "nf_16 = nf_df[nf_df['Year'] == '2016']\n",
        "nf_16.insert(0, \"Key\", \"16\")\n",
        "nf_17 = nf_df[nf_df['Year'] == '2017']\n",
        "nf_17.insert(0, \"Key\", \"17\")\n",
        "nf_18 = nf_df[nf_df['Year'] == '2018']\n",
        "nf_18.insert(0, \"Key\", \"18\")\n",
        "nf_19 = nf_df[nf_df['Year'] == '2019']\n",
        "nf_19.insert(0, \"Key\", \"19\")\n",
        "nf_20 = nf_df[nf_df['Year'] == '2020']\n",
        "nf_20.insert(0, \"Key\", \"20\")"
      ],
      "execution_count": 225,
      "outputs": []
    },
    {
      "cell_type": "code",
      "metadata": {
        "id": "Th-jj7aFiykz"
      },
      "source": [
        "# insert column key in mf_df for merge data\n",
        "mf_10 = mf_df[mf_df['Year'] == '2010']\n",
        "mf_10.insert(0, \"Key\", \"10\")\n",
        "mf_11 = mf_df[mf_df['Year'] == '2011']\n",
        "mf_11.insert(0, \"Key\", \"11\")\n",
        "mf_12 = mf_df[mf_df['Year'] == '2012']\n",
        "mf_12.insert(0, \"Key\", \"12\")\n",
        "mf_13 = mf_df[mf_df['Year'] == '2013']\n",
        "mf_13.insert(0, \"Key\", \"13\")\n",
        "mf_14 = mf_df[mf_df['Year'] == '2014']\n",
        "mf_14.insert(0, \"Key\", \"14\")\n",
        "mf_15 = mf_df[mf_df['Year'] == '2015']\n",
        "mf_15.insert(0, \"Key\", \"15\")\n",
        "mf_16 = mf_df[mf_df['Year'] == '2016']\n",
        "mf_16.insert(0, \"Key\", \"16\")\n",
        "mf_17 = mf_df[mf_df['Year'] == '2017']\n",
        "mf_17.insert(0, \"Key\", \"17\")\n",
        "mf_18 = mf_df[mf_df['Year'] == '2018']\n",
        "mf_18.insert(0, \"Key\", \"18\")\n",
        "mf_19 = mf_df[mf_df['Year'] == '2019']\n",
        "mf_19.insert(0, \"Key\", \"19\")\n",
        "mf_20 = mf_df[mf_df['Year'] == '2020']\n",
        "mf_20.insert(0, \"Key\", \"20\")"
      ],
      "execution_count": 226,
      "outputs": []
    },
    {
      "cell_type": "code",
      "metadata": {
        "id": "C30xxcTBjJ8s"
      },
      "source": [
        "# insert column key in sf_df for merge data\n",
        "sf_10 = sf_df[sf_df['Year'] == '2010']\n",
        "sf_10.insert(0, \"Key\", \"10\")\n",
        "sf_11 = sf_df[sf_df['Year'] == '2011']\n",
        "sf_11.insert(0, \"Key\", \"11\")\n",
        "sf_12 = sf_df[sf_df['Year'] == '2012']\n",
        "sf_12.insert(0, \"Key\", \"12\")\n",
        "sf_13 = sf_df[sf_df['Year'] == '2013']\n",
        "sf_13.insert(0, \"Key\", \"13\")\n",
        "sf_14 = sf_df[sf_df['Year'] == '2014']\n",
        "sf_14.insert(0, \"Key\", \"14\")\n",
        "sf_15 = sf_df[sf_df['Year'] == '2015']\n",
        "sf_15.insert(0, \"Key\", \"15\")\n",
        "sf_16 = sf_df[sf_df['Year'] == '2016']\n",
        "sf_16.insert(0, \"Key\", \"16\")\n",
        "sf_17 = sf_df[sf_df['Year'] == '2017']\n",
        "sf_17.insert(0, \"Key\", \"17\")\n",
        "sf_18 = sf_df[sf_df['Year'] == '2018']\n",
        "sf_18.insert(0, \"Key\", \"18\")\n",
        "sf_19 = sf_df[sf_df['Year'] == '2019']\n",
        "sf_19.insert(0, \"Key\", \"19\")\n",
        "sf_20 = sf_df[sf_df['Year'] == '2020']\n",
        "sf_20.insert(0, \"Key\", \"20\")"
      ],
      "execution_count": 227,
      "outputs": []
    },
    {
      "cell_type": "code",
      "metadata": {
        "id": "IUGTFK8mkXxA"
      },
      "source": [
        "# result nf_df, mf_df amd sf_df\n",
        "nf_df = pd.concat([nf_10, nf_11, nf_12, nf_13, nf_14, nf_15, nf_16, nf_17, nf_18, nf_19, nf_20], sort=False)\n",
        "mf_df = pd.concat([mf_10, mf_11, mf_12, mf_13, mf_14, mf_15, mf_16, mf_17, mf_18, mf_19, mf_20], sort=False)\n",
        "sf_df = pd.concat([sf_10, sf_11, sf_12, sf_13, sf_14, sf_15, sf_16, sf_17, sf_18, sf_19, sf_20], sort=False)\n",
        "# display(nf_df)\n",
        "# display(mf_df)\n",
        "# display(sf_df)"
      ],
      "execution_count": 230,
      "outputs": []
    },
    {
      "cell_type": "code",
      "metadata": {
        "id": "LBrMNUwJsg8c"
      },
      "source": [
        "data_north = pd.merge(north_df, nf_df, on=\"Key\", how=\"outer\")\n",
        "data_mid = pd.merge(mid_df, mf_df, on=\"Key\", how=\"outer\")\n",
        "data_south = pd.merge(south_df, sf_df, on=\"Key\", how=\"outer\")\n",
        "# display(data_north)\n",
        "# display(data_mid)\n",
        "# display(data_south)"
      ],
      "execution_count": 238,
      "outputs": []
    },
    {
      "cell_type": "code",
      "metadata": {
        "id": "3hCVddBawshm"
      },
      "source": [
        "#Load ข้อมูลพายุ, พื้นที่ป่าไม้ แล้วเพิ่มไปในตารางแยกเป็นตอนบน ตอนกลาง ตอนล่าง"
      ],
      "execution_count": null,
      "outputs": []
    },
    {
      "cell_type": "markdown",
      "metadata": {
        "id": "Jhbqe0YpAdcv"
      },
      "source": [
        "##Data Preparation"
      ]
    },
    {
      "cell_type": "markdown",
      "metadata": {
        "id": "sAARoO3FArt0"
      },
      "source": [
        "\n",
        "\n",
        "*   Data Cleansing\n",
        "\n"
      ]
    },
    {
      "cell_type": "code",
      "metadata": {
        "colab": {
          "base_uri": "https://localhost:8080/",
          "height": 1000
        },
        "id": "ZUWPVIgq-mE-",
        "outputId": "322709ab-515f-474b-80fd-a38171555535"
      },
      "source": [
        "#overview data\n",
        "print(\"สถานีทต.เชียงม่วน\")\n",
        "display(data_north)\n",
        "print(\"\\n\\nสถานีอบต.วังชิ้น\")\n",
        "display(data_mid)\n",
        "print(\"\\n\\nสถานีโรงฆ่าสัตว์ ทม.สวรรคโลก\")\n",
        "display(data_south)"
      ],
      "execution_count": 232,
      "outputs": [
        {
          "output_type": "stream",
          "text": [
            "สถานีทต.เชียงม่วน\n"
          ],
          "name": "stdout"
        },
        {
          "output_type": "display_data",
          "data": {
            "text/html": [
              "<div>\n",
              "<style scoped>\n",
              "    .dataframe tbody tr th:only-of-type {\n",
              "        vertical-align: middle;\n",
              "    }\n",
              "\n",
              "    .dataframe tbody tr th {\n",
              "        vertical-align: top;\n",
              "    }\n",
              "\n",
              "    .dataframe thead th {\n",
              "        text-align: right;\n",
              "    }\n",
              "</style>\n",
              "<table border=\"1\" class=\"dataframe\">\n",
              "  <thead>\n",
              "    <tr style=\"text-align: right;\">\n",
              "      <th></th>\n",
              "      <th>Key</th>\n",
              "      <th>code</th>\n",
              "      <th>date</th>\n",
              "      <th>time</th>\n",
              "      <th>rain1h</th>\n",
              "      <th>temp_out</th>\n",
              "      <th>press</th>\n",
              "      <th>humid</th>\n",
              "      <th>Year</th>\n",
              "      <th>Province</th>\n",
              "      <th>Province_Area</th>\n",
              "      <th>Forest_Area</th>\n",
              "      <th>Percent_of_Province_Area</th>\n",
              "      <th>Non_Forest_Area</th>\n",
              "    </tr>\n",
              "  </thead>\n",
              "  <tbody>\n",
              "    <tr>\n",
              "      <th>0</th>\n",
              "      <td>12</td>\n",
              "      <td>CGMN</td>\n",
              "      <td>2012-07-12</td>\n",
              "      <td>15:00</td>\n",
              "      <td>0.0</td>\n",
              "      <td>34.3</td>\n",
              "      <td>973.0</td>\n",
              "      <td>70.0</td>\n",
              "      <td>NaN</td>\n",
              "      <td>NaN</td>\n",
              "      <td>NaN</td>\n",
              "      <td>NaN</td>\n",
              "      <td>NaN</td>\n",
              "      <td>NaN</td>\n",
              "    </tr>\n",
              "    <tr>\n",
              "      <th>1</th>\n",
              "      <td>12</td>\n",
              "      <td>CGMN</td>\n",
              "      <td>2012-07-12</td>\n",
              "      <td>16:00</td>\n",
              "      <td>0.0</td>\n",
              "      <td>34.8</td>\n",
              "      <td>973.0</td>\n",
              "      <td>68.0</td>\n",
              "      <td>NaN</td>\n",
              "      <td>NaN</td>\n",
              "      <td>NaN</td>\n",
              "      <td>NaN</td>\n",
              "      <td>NaN</td>\n",
              "      <td>NaN</td>\n",
              "    </tr>\n",
              "    <tr>\n",
              "      <th>2</th>\n",
              "      <td>12</td>\n",
              "      <td>CGMN</td>\n",
              "      <td>2012-07-12</td>\n",
              "      <td>17:00</td>\n",
              "      <td>0.0</td>\n",
              "      <td>36.3</td>\n",
              "      <td>971.0</td>\n",
              "      <td>64.0</td>\n",
              "      <td>NaN</td>\n",
              "      <td>NaN</td>\n",
              "      <td>NaN</td>\n",
              "      <td>NaN</td>\n",
              "      <td>NaN</td>\n",
              "      <td>NaN</td>\n",
              "    </tr>\n",
              "    <tr>\n",
              "      <th>3</th>\n",
              "      <td>12</td>\n",
              "      <td>CGMN</td>\n",
              "      <td>2012-07-12</td>\n",
              "      <td>18:00</td>\n",
              "      <td>0.0</td>\n",
              "      <td>32.8</td>\n",
              "      <td>974.0</td>\n",
              "      <td>70.0</td>\n",
              "      <td>NaN</td>\n",
              "      <td>NaN</td>\n",
              "      <td>NaN</td>\n",
              "      <td>NaN</td>\n",
              "      <td>NaN</td>\n",
              "      <td>NaN</td>\n",
              "    </tr>\n",
              "    <tr>\n",
              "      <th>4</th>\n",
              "      <td>12</td>\n",
              "      <td>CGMN</td>\n",
              "      <td>2012-07-12</td>\n",
              "      <td>19:00</td>\n",
              "      <td>0.0</td>\n",
              "      <td>30.9</td>\n",
              "      <td>975.0</td>\n",
              "      <td>71.0</td>\n",
              "      <td>NaN</td>\n",
              "      <td>NaN</td>\n",
              "      <td>NaN</td>\n",
              "      <td>NaN</td>\n",
              "      <td>NaN</td>\n",
              "      <td>NaN</td>\n",
              "    </tr>\n",
              "    <tr>\n",
              "      <th>...</th>\n",
              "      <td>...</td>\n",
              "      <td>...</td>\n",
              "      <td>...</td>\n",
              "      <td>...</td>\n",
              "      <td>...</td>\n",
              "      <td>...</td>\n",
              "      <td>...</td>\n",
              "      <td>...</td>\n",
              "      <td>...</td>\n",
              "      <td>...</td>\n",
              "      <td>...</td>\n",
              "      <td>...</td>\n",
              "      <td>...</td>\n",
              "      <td>...</td>\n",
              "    </tr>\n",
              "    <tr>\n",
              "      <th>74260</th>\n",
              "      <td>20</td>\n",
              "      <td>CGMN</td>\n",
              "      <td>2020-12-31</td>\n",
              "      <td>19:00</td>\n",
              "      <td>0.0</td>\n",
              "      <td>24.8</td>\n",
              "      <td>981.8</td>\n",
              "      <td>61.4</td>\n",
              "      <td>NaN</td>\n",
              "      <td>NaN</td>\n",
              "      <td>NaN</td>\n",
              "      <td>NaN</td>\n",
              "      <td>NaN</td>\n",
              "      <td>NaN</td>\n",
              "    </tr>\n",
              "    <tr>\n",
              "      <th>74261</th>\n",
              "      <td>20</td>\n",
              "      <td>CGMN</td>\n",
              "      <td>2020-12-31</td>\n",
              "      <td>20:00</td>\n",
              "      <td>0.0</td>\n",
              "      <td>23.8</td>\n",
              "      <td>982.7</td>\n",
              "      <td>64.0</td>\n",
              "      <td>NaN</td>\n",
              "      <td>NaN</td>\n",
              "      <td>NaN</td>\n",
              "      <td>NaN</td>\n",
              "      <td>NaN</td>\n",
              "      <td>NaN</td>\n",
              "    </tr>\n",
              "    <tr>\n",
              "      <th>74262</th>\n",
              "      <td>20</td>\n",
              "      <td>CGMN</td>\n",
              "      <td>2020-12-31</td>\n",
              "      <td>21:00</td>\n",
              "      <td>0.0</td>\n",
              "      <td>23.2</td>\n",
              "      <td>983.6</td>\n",
              "      <td>63.5</td>\n",
              "      <td>NaN</td>\n",
              "      <td>NaN</td>\n",
              "      <td>NaN</td>\n",
              "      <td>NaN</td>\n",
              "      <td>NaN</td>\n",
              "      <td>NaN</td>\n",
              "    </tr>\n",
              "    <tr>\n",
              "      <th>74263</th>\n",
              "      <td>20</td>\n",
              "      <td>CGMN</td>\n",
              "      <td>2020-12-31</td>\n",
              "      <td>22:00</td>\n",
              "      <td>0.0</td>\n",
              "      <td>22.7</td>\n",
              "      <td>983.9</td>\n",
              "      <td>64.9</td>\n",
              "      <td>NaN</td>\n",
              "      <td>NaN</td>\n",
              "      <td>NaN</td>\n",
              "      <td>NaN</td>\n",
              "      <td>NaN</td>\n",
              "      <td>NaN</td>\n",
              "    </tr>\n",
              "    <tr>\n",
              "      <th>74264</th>\n",
              "      <td>20</td>\n",
              "      <td>CGMN</td>\n",
              "      <td>2020-12-31</td>\n",
              "      <td>23:00</td>\n",
              "      <td>0.0</td>\n",
              "      <td>22.3</td>\n",
              "      <td>984.0</td>\n",
              "      <td>65.9</td>\n",
              "      <td>NaN</td>\n",
              "      <td>NaN</td>\n",
              "      <td>NaN</td>\n",
              "      <td>NaN</td>\n",
              "      <td>NaN</td>\n",
              "      <td>NaN</td>\n",
              "    </tr>\n",
              "  </tbody>\n",
              "</table>\n",
              "<p>74265 rows × 14 columns</p>\n",
              "</div>"
            ],
            "text/plain": [
              "      Key  code  ... Percent_of_Province_Area Non_Forest_Area\n",
              "0      12  CGMN  ...                      NaN             NaN\n",
              "1      12  CGMN  ...                      NaN             NaN\n",
              "2      12  CGMN  ...                      NaN             NaN\n",
              "3      12  CGMN  ...                      NaN             NaN\n",
              "4      12  CGMN  ...                      NaN             NaN\n",
              "...    ..   ...  ...                      ...             ...\n",
              "74260  20  CGMN  ...                      NaN             NaN\n",
              "74261  20  CGMN  ...                      NaN             NaN\n",
              "74262  20  CGMN  ...                      NaN             NaN\n",
              "74263  20  CGMN  ...                      NaN             NaN\n",
              "74264  20  CGMN  ...                      NaN             NaN\n",
              "\n",
              "[74265 rows x 14 columns]"
            ]
          },
          "metadata": {
            "tags": []
          }
        },
        {
          "output_type": "stream",
          "text": [
            "\n",
            "\n",
            "สถานีอบต.วังชิ้น\n"
          ],
          "name": "stdout"
        },
        {
          "output_type": "display_data",
          "data": {
            "text/html": [
              "<div>\n",
              "<style scoped>\n",
              "    .dataframe tbody tr th:only-of-type {\n",
              "        vertical-align: middle;\n",
              "    }\n",
              "\n",
              "    .dataframe tbody tr th {\n",
              "        vertical-align: top;\n",
              "    }\n",
              "\n",
              "    .dataframe thead th {\n",
              "        text-align: right;\n",
              "    }\n",
              "</style>\n",
              "<table border=\"1\" class=\"dataframe\">\n",
              "  <thead>\n",
              "    <tr style=\"text-align: right;\">\n",
              "      <th></th>\n",
              "      <th>Key</th>\n",
              "      <th>code</th>\n",
              "      <th>date</th>\n",
              "      <th>time</th>\n",
              "      <th>rain1h</th>\n",
              "      <th>temp_out</th>\n",
              "      <th>press</th>\n",
              "      <th>humid</th>\n",
              "      <th>Year</th>\n",
              "      <th>Province</th>\n",
              "      <th>Province_Area</th>\n",
              "      <th>Forest_Area</th>\n",
              "      <th>Percent_of_Province_Area</th>\n",
              "      <th>Non_Forest_Area</th>\n",
              "    </tr>\n",
              "  </thead>\n",
              "  <tbody>\n",
              "    <tr>\n",
              "      <th>0</th>\n",
              "      <td>12</td>\n",
              "      <td>WCHN</td>\n",
              "      <td>2012-01-09</td>\n",
              "      <td>10:00</td>\n",
              "      <td>0.0</td>\n",
              "      <td>27.0</td>\n",
              "      <td>1004.0</td>\n",
              "      <td>97.0</td>\n",
              "      <td>NaN</td>\n",
              "      <td>NaN</td>\n",
              "      <td>NaN</td>\n",
              "      <td>NaN</td>\n",
              "      <td>NaN</td>\n",
              "      <td>NaN</td>\n",
              "    </tr>\n",
              "    <tr>\n",
              "      <th>1</th>\n",
              "      <td>12</td>\n",
              "      <td>WCHN</td>\n",
              "      <td>2012-01-09</td>\n",
              "      <td>11:00</td>\n",
              "      <td>0.0</td>\n",
              "      <td>31.9</td>\n",
              "      <td>1003.0</td>\n",
              "      <td>69.0</td>\n",
              "      <td>NaN</td>\n",
              "      <td>NaN</td>\n",
              "      <td>NaN</td>\n",
              "      <td>NaN</td>\n",
              "      <td>NaN</td>\n",
              "      <td>NaN</td>\n",
              "    </tr>\n",
              "    <tr>\n",
              "      <th>2</th>\n",
              "      <td>12</td>\n",
              "      <td>WCHN</td>\n",
              "      <td>2012-01-09</td>\n",
              "      <td>12:00</td>\n",
              "      <td>0.0</td>\n",
              "      <td>34.8</td>\n",
              "      <td>1002.0</td>\n",
              "      <td>51.0</td>\n",
              "      <td>NaN</td>\n",
              "      <td>NaN</td>\n",
              "      <td>NaN</td>\n",
              "      <td>NaN</td>\n",
              "      <td>NaN</td>\n",
              "      <td>NaN</td>\n",
              "    </tr>\n",
              "    <tr>\n",
              "      <th>3</th>\n",
              "      <td>12</td>\n",
              "      <td>WCHN</td>\n",
              "      <td>2012-01-09</td>\n",
              "      <td>13:00</td>\n",
              "      <td>0.0</td>\n",
              "      <td>35.3</td>\n",
              "      <td>1001.0</td>\n",
              "      <td>53.0</td>\n",
              "      <td>NaN</td>\n",
              "      <td>NaN</td>\n",
              "      <td>NaN</td>\n",
              "      <td>NaN</td>\n",
              "      <td>NaN</td>\n",
              "      <td>NaN</td>\n",
              "    </tr>\n",
              "    <tr>\n",
              "      <th>4</th>\n",
              "      <td>12</td>\n",
              "      <td>WCHN</td>\n",
              "      <td>2012-01-09</td>\n",
              "      <td>14:00</td>\n",
              "      <td>0.0</td>\n",
              "      <td>35.8</td>\n",
              "      <td>1000.0</td>\n",
              "      <td>48.0</td>\n",
              "      <td>NaN</td>\n",
              "      <td>NaN</td>\n",
              "      <td>NaN</td>\n",
              "      <td>NaN</td>\n",
              "      <td>NaN</td>\n",
              "      <td>NaN</td>\n",
              "    </tr>\n",
              "    <tr>\n",
              "      <th>...</th>\n",
              "      <td>...</td>\n",
              "      <td>...</td>\n",
              "      <td>...</td>\n",
              "      <td>...</td>\n",
              "      <td>...</td>\n",
              "      <td>...</td>\n",
              "      <td>...</td>\n",
              "      <td>...</td>\n",
              "      <td>...</td>\n",
              "      <td>...</td>\n",
              "      <td>...</td>\n",
              "      <td>...</td>\n",
              "      <td>...</td>\n",
              "      <td>...</td>\n",
              "    </tr>\n",
              "    <tr>\n",
              "      <th>78705</th>\n",
              "      <td>20</td>\n",
              "      <td>WCHN</td>\n",
              "      <td>2020-12-31</td>\n",
              "      <td>19:00</td>\n",
              "      <td>0.0</td>\n",
              "      <td>22.8</td>\n",
              "      <td>998.5</td>\n",
              "      <td>81.9</td>\n",
              "      <td>NaN</td>\n",
              "      <td>NaN</td>\n",
              "      <td>NaN</td>\n",
              "      <td>NaN</td>\n",
              "      <td>NaN</td>\n",
              "      <td>NaN</td>\n",
              "    </tr>\n",
              "    <tr>\n",
              "      <th>78706</th>\n",
              "      <td>20</td>\n",
              "      <td>WCHN</td>\n",
              "      <td>2020-12-31</td>\n",
              "      <td>20:00</td>\n",
              "      <td>0.0</td>\n",
              "      <td>21.3</td>\n",
              "      <td>999.6</td>\n",
              "      <td>86.4</td>\n",
              "      <td>NaN</td>\n",
              "      <td>NaN</td>\n",
              "      <td>NaN</td>\n",
              "      <td>NaN</td>\n",
              "      <td>NaN</td>\n",
              "      <td>NaN</td>\n",
              "    </tr>\n",
              "    <tr>\n",
              "      <th>78707</th>\n",
              "      <td>20</td>\n",
              "      <td>WCHN</td>\n",
              "      <td>2020-12-31</td>\n",
              "      <td>21:00</td>\n",
              "      <td>0.0</td>\n",
              "      <td>19.8</td>\n",
              "      <td>1000.3</td>\n",
              "      <td>89.5</td>\n",
              "      <td>NaN</td>\n",
              "      <td>NaN</td>\n",
              "      <td>NaN</td>\n",
              "      <td>NaN</td>\n",
              "      <td>NaN</td>\n",
              "      <td>NaN</td>\n",
              "    </tr>\n",
              "    <tr>\n",
              "      <th>78708</th>\n",
              "      <td>20</td>\n",
              "      <td>WCHN</td>\n",
              "      <td>2020-12-31</td>\n",
              "      <td>22:00</td>\n",
              "      <td>0.0</td>\n",
              "      <td>18.6</td>\n",
              "      <td>1000.8</td>\n",
              "      <td>93.0</td>\n",
              "      <td>NaN</td>\n",
              "      <td>NaN</td>\n",
              "      <td>NaN</td>\n",
              "      <td>NaN</td>\n",
              "      <td>NaN</td>\n",
              "      <td>NaN</td>\n",
              "    </tr>\n",
              "    <tr>\n",
              "      <th>78709</th>\n",
              "      <td>20</td>\n",
              "      <td>WCHN</td>\n",
              "      <td>2020-12-31</td>\n",
              "      <td>23:00</td>\n",
              "      <td>0.0</td>\n",
              "      <td>17.5</td>\n",
              "      <td>1001.3</td>\n",
              "      <td>93.6</td>\n",
              "      <td>NaN</td>\n",
              "      <td>NaN</td>\n",
              "      <td>NaN</td>\n",
              "      <td>NaN</td>\n",
              "      <td>NaN</td>\n",
              "      <td>NaN</td>\n",
              "    </tr>\n",
              "  </tbody>\n",
              "</table>\n",
              "<p>78710 rows × 14 columns</p>\n",
              "</div>"
            ],
            "text/plain": [
              "      Key  code  ... Percent_of_Province_Area Non_Forest_Area\n",
              "0      12  WCHN  ...                      NaN             NaN\n",
              "1      12  WCHN  ...                      NaN             NaN\n",
              "2      12  WCHN  ...                      NaN             NaN\n",
              "3      12  WCHN  ...                      NaN             NaN\n",
              "4      12  WCHN  ...                      NaN             NaN\n",
              "...    ..   ...  ...                      ...             ...\n",
              "78705  20  WCHN  ...                      NaN             NaN\n",
              "78706  20  WCHN  ...                      NaN             NaN\n",
              "78707  20  WCHN  ...                      NaN             NaN\n",
              "78708  20  WCHN  ...                      NaN             NaN\n",
              "78709  20  WCHN  ...                      NaN             NaN\n",
              "\n",
              "[78710 rows x 14 columns]"
            ]
          },
          "metadata": {
            "tags": []
          }
        },
        {
          "output_type": "stream",
          "text": [
            "\n",
            "\n",
            "สถานีโรงฆ่าสัตว์ ทม.สวรรคโลก\n"
          ],
          "name": "stdout"
        },
        {
          "output_type": "display_data",
          "data": {
            "text/html": [
              "<div>\n",
              "<style scoped>\n",
              "    .dataframe tbody tr th:only-of-type {\n",
              "        vertical-align: middle;\n",
              "    }\n",
              "\n",
              "    .dataframe tbody tr th {\n",
              "        vertical-align: top;\n",
              "    }\n",
              "\n",
              "    .dataframe thead th {\n",
              "        text-align: right;\n",
              "    }\n",
              "</style>\n",
              "<table border=\"1\" class=\"dataframe\">\n",
              "  <thead>\n",
              "    <tr style=\"text-align: right;\">\n",
              "      <th></th>\n",
              "      <th>Key</th>\n",
              "      <th>code</th>\n",
              "      <th>date</th>\n",
              "      <th>time</th>\n",
              "      <th>rain1h</th>\n",
              "      <th>temp_out</th>\n",
              "      <th>press</th>\n",
              "      <th>humid</th>\n",
              "      <th>Year</th>\n",
              "      <th>Province</th>\n",
              "      <th>Province_Area</th>\n",
              "      <th>Forest_Area</th>\n",
              "      <th>Percent_of_Province_Area</th>\n",
              "      <th>Non_Forest_Area</th>\n",
              "    </tr>\n",
              "  </thead>\n",
              "  <tbody>\n",
              "    <tr>\n",
              "      <th>0</th>\n",
              "      <td>11</td>\n",
              "      <td>SWKL</td>\n",
              "      <td>2011-09-29</td>\n",
              "      <td>16:00</td>\n",
              "      <td>0.0</td>\n",
              "      <td>35.8</td>\n",
              "      <td>995.0</td>\n",
              "      <td>71.0</td>\n",
              "      <td>NaN</td>\n",
              "      <td>NaN</td>\n",
              "      <td>NaN</td>\n",
              "      <td>NaN</td>\n",
              "      <td>NaN</td>\n",
              "      <td>NaN</td>\n",
              "    </tr>\n",
              "    <tr>\n",
              "      <th>1</th>\n",
              "      <td>11</td>\n",
              "      <td>SWKL</td>\n",
              "      <td>2011-09-29</td>\n",
              "      <td>17:00</td>\n",
              "      <td>0.0</td>\n",
              "      <td>33.8</td>\n",
              "      <td>997.0</td>\n",
              "      <td>76.0</td>\n",
              "      <td>NaN</td>\n",
              "      <td>NaN</td>\n",
              "      <td>NaN</td>\n",
              "      <td>NaN</td>\n",
              "      <td>NaN</td>\n",
              "      <td>NaN</td>\n",
              "    </tr>\n",
              "    <tr>\n",
              "      <th>2</th>\n",
              "      <td>11</td>\n",
              "      <td>SWKL</td>\n",
              "      <td>2011-09-29</td>\n",
              "      <td>18:00</td>\n",
              "      <td>0.0</td>\n",
              "      <td>30.4</td>\n",
              "      <td>999.0</td>\n",
              "      <td>84.0</td>\n",
              "      <td>NaN</td>\n",
              "      <td>NaN</td>\n",
              "      <td>NaN</td>\n",
              "      <td>NaN</td>\n",
              "      <td>NaN</td>\n",
              "      <td>NaN</td>\n",
              "    </tr>\n",
              "    <tr>\n",
              "      <th>3</th>\n",
              "      <td>11</td>\n",
              "      <td>SWKL</td>\n",
              "      <td>2011-09-29</td>\n",
              "      <td>19:00</td>\n",
              "      <td>0.0</td>\n",
              "      <td>29.4</td>\n",
              "      <td>1000.0</td>\n",
              "      <td>91.0</td>\n",
              "      <td>NaN</td>\n",
              "      <td>NaN</td>\n",
              "      <td>NaN</td>\n",
              "      <td>NaN</td>\n",
              "      <td>NaN</td>\n",
              "      <td>NaN</td>\n",
              "    </tr>\n",
              "    <tr>\n",
              "      <th>4</th>\n",
              "      <td>11</td>\n",
              "      <td>SWKL</td>\n",
              "      <td>2011-09-29</td>\n",
              "      <td>20:00</td>\n",
              "      <td>0.0</td>\n",
              "      <td>28.4</td>\n",
              "      <td>1001.0</td>\n",
              "      <td>97.0</td>\n",
              "      <td>NaN</td>\n",
              "      <td>NaN</td>\n",
              "      <td>NaN</td>\n",
              "      <td>NaN</td>\n",
              "      <td>NaN</td>\n",
              "      <td>NaN</td>\n",
              "    </tr>\n",
              "    <tr>\n",
              "      <th>...</th>\n",
              "      <td>...</td>\n",
              "      <td>...</td>\n",
              "      <td>...</td>\n",
              "      <td>...</td>\n",
              "      <td>...</td>\n",
              "      <td>...</td>\n",
              "      <td>...</td>\n",
              "      <td>...</td>\n",
              "      <td>...</td>\n",
              "      <td>...</td>\n",
              "      <td>...</td>\n",
              "      <td>...</td>\n",
              "      <td>...</td>\n",
              "      <td>...</td>\n",
              "    </tr>\n",
              "    <tr>\n",
              "      <th>81147</th>\n",
              "      <td>20</td>\n",
              "      <td>SWKL</td>\n",
              "      <td>2020-12-31</td>\n",
              "      <td>19:00</td>\n",
              "      <td>0.0</td>\n",
              "      <td>22.8</td>\n",
              "      <td>1008.1</td>\n",
              "      <td>61.3</td>\n",
              "      <td>NaN</td>\n",
              "      <td>NaN</td>\n",
              "      <td>NaN</td>\n",
              "      <td>NaN</td>\n",
              "      <td>NaN</td>\n",
              "      <td>NaN</td>\n",
              "    </tr>\n",
              "    <tr>\n",
              "      <th>81148</th>\n",
              "      <td>20</td>\n",
              "      <td>SWKL</td>\n",
              "      <td>2020-12-31</td>\n",
              "      <td>20:00</td>\n",
              "      <td>0.0</td>\n",
              "      <td>22.7</td>\n",
              "      <td>1009.2</td>\n",
              "      <td>61.8</td>\n",
              "      <td>NaN</td>\n",
              "      <td>NaN</td>\n",
              "      <td>NaN</td>\n",
              "      <td>NaN</td>\n",
              "      <td>NaN</td>\n",
              "      <td>NaN</td>\n",
              "    </tr>\n",
              "    <tr>\n",
              "      <th>81149</th>\n",
              "      <td>20</td>\n",
              "      <td>SWKL</td>\n",
              "      <td>2020-12-31</td>\n",
              "      <td>21:00</td>\n",
              "      <td>0.0</td>\n",
              "      <td>21.1</td>\n",
              "      <td>1010.1</td>\n",
              "      <td>66.0</td>\n",
              "      <td>NaN</td>\n",
              "      <td>NaN</td>\n",
              "      <td>NaN</td>\n",
              "      <td>NaN</td>\n",
              "      <td>NaN</td>\n",
              "      <td>NaN</td>\n",
              "    </tr>\n",
              "    <tr>\n",
              "      <th>81150</th>\n",
              "      <td>20</td>\n",
              "      <td>SWKL</td>\n",
              "      <td>2020-12-31</td>\n",
              "      <td>22:00</td>\n",
              "      <td>0.0</td>\n",
              "      <td>19.8</td>\n",
              "      <td>1010.7</td>\n",
              "      <td>70.2</td>\n",
              "      <td>NaN</td>\n",
              "      <td>NaN</td>\n",
              "      <td>NaN</td>\n",
              "      <td>NaN</td>\n",
              "      <td>NaN</td>\n",
              "      <td>NaN</td>\n",
              "    </tr>\n",
              "    <tr>\n",
              "      <th>81151</th>\n",
              "      <td>20</td>\n",
              "      <td>SWKL</td>\n",
              "      <td>2020-12-31</td>\n",
              "      <td>23:00</td>\n",
              "      <td>0.0</td>\n",
              "      <td>19.3</td>\n",
              "      <td>1010.8</td>\n",
              "      <td>70.6</td>\n",
              "      <td>NaN</td>\n",
              "      <td>NaN</td>\n",
              "      <td>NaN</td>\n",
              "      <td>NaN</td>\n",
              "      <td>NaN</td>\n",
              "      <td>NaN</td>\n",
              "    </tr>\n",
              "  </tbody>\n",
              "</table>\n",
              "<p>81152 rows × 14 columns</p>\n",
              "</div>"
            ],
            "text/plain": [
              "      Key  code  ... Percent_of_Province_Area Non_Forest_Area\n",
              "0      11  SWKL  ...                      NaN             NaN\n",
              "1      11  SWKL  ...                      NaN             NaN\n",
              "2      11  SWKL  ...                      NaN             NaN\n",
              "3      11  SWKL  ...                      NaN             NaN\n",
              "4      11  SWKL  ...                      NaN             NaN\n",
              "...    ..   ...  ...                      ...             ...\n",
              "81147  20  SWKL  ...                      NaN             NaN\n",
              "81148  20  SWKL  ...                      NaN             NaN\n",
              "81149  20  SWKL  ...                      NaN             NaN\n",
              "81150  20  SWKL  ...                      NaN             NaN\n",
              "81151  20  SWKL  ...                      NaN             NaN\n",
              "\n",
              "[81152 rows x 14 columns]"
            ]
          },
          "metadata": {
            "tags": []
          }
        }
      ]
    },
    {
      "cell_type": "code",
      "metadata": {
        "id": "E88dpyj7166b"
      },
      "source": [
        "data_north = data_north.replace({-999: np.nan})\n",
        "data_mid = data_mid.replace({-999: np.nan})\n",
        "data_south = data_south.replace({-999: np.nan})\n",
        "# display(data_north)\n",
        "# display(data_mid)\n",
        "# display(data_south)"
      ],
      "execution_count": 233,
      "outputs": []
    },
    {
      "cell_type": "markdown",
      "metadata": {
        "id": "UJqPEsS_o9sn"
      },
      "source": [
        "Find missing value"
      ]
    },
    {
      "cell_type": "code",
      "metadata": {
        "colab": {
          "base_uri": "https://localhost:8080/",
          "height": 901
        },
        "id": "lGcEC164cdxD",
        "outputId": "f701bb7c-9d44-481c-e3fb-c141d84e4bb5"
      },
      "source": [
        "#North\n",
        "print(\"สถานีทต.เชียงม่วน\")\n",
        "display(data_north.isna().sum())\n",
        "#Mid\n",
        "print(\"\\n\\nสถานีอบต.วังชิ้น\")\n",
        "display(data_mid.isna().sum())\n",
        "#South\n",
        "print(\"\\n\\nสถานีโรงฆ่าสัตว์ ทม.สวรรคโลก\")\n",
        "display(data_south.isna().sum())"
      ],
      "execution_count": 234,
      "outputs": [
        {
          "output_type": "stream",
          "text": [
            "สถานีทต.เชียงม่วน\n"
          ],
          "name": "stdout"
        },
        {
          "output_type": "display_data",
          "data": {
            "text/plain": [
              "Key                             0\n",
              "code                            0\n",
              "date                            0\n",
              "time                            0\n",
              "rain1h                      12281\n",
              "temp_out                    13675\n",
              "press                       12584\n",
              "humid                       20472\n",
              "Year                        12921\n",
              "Province                    12921\n",
              "Province_Area               12921\n",
              "Forest_Area                 12921\n",
              "Percent_of_Province_Area    12921\n",
              "Non_Forest_Area             12921\n",
              "dtype: int64"
            ]
          },
          "metadata": {
            "tags": []
          }
        },
        {
          "output_type": "stream",
          "text": [
            "\n",
            "\n",
            "สถานีอบต.วังชิ้น\n"
          ],
          "name": "stdout"
        },
        {
          "output_type": "display_data",
          "data": {
            "text/plain": [
              "Key                             0\n",
              "code                            0\n",
              "date                            0\n",
              "time                            0\n",
              "rain1h                       1285\n",
              "temp_out                     2659\n",
              "press                        1986\n",
              "humid                       20952\n",
              "Year                        17366\n",
              "Province                    17366\n",
              "Province_Area               17366\n",
              "Forest_Area                 17366\n",
              "Percent_of_Province_Area    17366\n",
              "Non_Forest_Area             17366\n",
              "dtype: int64"
            ]
          },
          "metadata": {
            "tags": []
          }
        },
        {
          "output_type": "stream",
          "text": [
            "\n",
            "\n",
            "สถานีโรงฆ่าสัตว์ ทม.สวรรคโลก\n"
          ],
          "name": "stdout"
        },
        {
          "output_type": "display_data",
          "data": {
            "text/plain": [
              "Key                             0\n",
              "code                            0\n",
              "date                            0\n",
              "time                            0\n",
              "rain1h                       1504\n",
              "temp_out                     2183\n",
              "press                       23075\n",
              "humid                        3205\n",
              "Year                        19808\n",
              "Province                    19808\n",
              "Province_Area               19808\n",
              "Forest_Area                 19808\n",
              "Percent_of_Province_Area    19808\n",
              "Non_Forest_Area             19808\n",
              "dtype: int64"
            ]
          },
          "metadata": {
            "tags": []
          }
        }
      ]
    },
    {
      "cell_type": "code",
      "metadata": {
        "id": "tA4dMif5lP1h"
      },
      "source": [
        "#fill by random values in their columns --ต้องดูก่อนว่าหายเยอะมั้ย\n",
        "def fill_missing_value(df):\n",
        "  feature_missing = df.columns[df.isnull().any()].tolist()\n",
        "  df_original = df.copy()\n",
        "  for i in feature_missing:\n",
        "    np.random.seed(0)\n",
        "    nan_rows = df[i].isna()\n",
        "    random_feat = np.random.choice(df[i][~nan_rows], replace=True, size=sum(nan_rows)) \n",
        "    df.loc[nan_rows,i] = random_feat\n",
        "  return df"
      ],
      "execution_count": 235,
      "outputs": []
    },
    {
      "cell_type": "code",
      "metadata": {
        "id": "guxZzPySl3lU",
        "colab": {
          "base_uri": "https://localhost:8080/",
          "height": 1000
        },
        "outputId": "c03cdf7a-27e7-4ef3-c696-cff2f3d1c398"
      },
      "source": [
        "north = fill_missing_value(data_north)\n",
        "mid = fill_missing_value(data_mid)\n",
        "south = fill_missing_value(data_south)\n",
        "display(north)\n",
        "display(mid)\n",
        "display(south)"
      ],
      "execution_count": 239,
      "outputs": [
        {
          "output_type": "display_data",
          "data": {
            "text/html": [
              "<div>\n",
              "<style scoped>\n",
              "    .dataframe tbody tr th:only-of-type {\n",
              "        vertical-align: middle;\n",
              "    }\n",
              "\n",
              "    .dataframe tbody tr th {\n",
              "        vertical-align: top;\n",
              "    }\n",
              "\n",
              "    .dataframe thead th {\n",
              "        text-align: right;\n",
              "    }\n",
              "</style>\n",
              "<table border=\"1\" class=\"dataframe\">\n",
              "  <thead>\n",
              "    <tr style=\"text-align: right;\">\n",
              "      <th></th>\n",
              "      <th>Key</th>\n",
              "      <th>code</th>\n",
              "      <th>date</th>\n",
              "      <th>time</th>\n",
              "      <th>rain1h</th>\n",
              "      <th>temp_out</th>\n",
              "      <th>press</th>\n",
              "      <th>humid</th>\n",
              "      <th>Year</th>\n",
              "      <th>Province</th>\n",
              "      <th>Province_Area</th>\n",
              "      <th>Forest_Area</th>\n",
              "      <th>Percent_of_Province_Area</th>\n",
              "      <th>Non_Forest_Area</th>\n",
              "    </tr>\n",
              "  </thead>\n",
              "  <tbody>\n",
              "    <tr>\n",
              "      <th>0</th>\n",
              "      <td>12</td>\n",
              "      <td>CGMN</td>\n",
              "      <td>2012-07-12</td>\n",
              "      <td>15:00</td>\n",
              "      <td>0.0</td>\n",
              "      <td>34.3</td>\n",
              "      <td>973.0</td>\n",
              "      <td>70.0</td>\n",
              "      <td>2013</td>\n",
              "      <td>ตอนบน</td>\n",
              "      <td>19,254,452.30</td>\n",
              "      <td>12,181,835.00</td>\n",
              "      <td>183.95</td>\n",
              "      <td>116.05</td>\n",
              "    </tr>\n",
              "    <tr>\n",
              "      <th>1</th>\n",
              "      <td>12</td>\n",
              "      <td>CGMN</td>\n",
              "      <td>2012-07-12</td>\n",
              "      <td>16:00</td>\n",
              "      <td>0.0</td>\n",
              "      <td>34.8</td>\n",
              "      <td>973.0</td>\n",
              "      <td>68.0</td>\n",
              "      <td>2017</td>\n",
              "      <td>ตอนบน</td>\n",
              "      <td>19,254,452.30</td>\n",
              "      <td>12,115,729.16</td>\n",
              "      <td>182.92</td>\n",
              "      <td>117.08</td>\n",
              "    </tr>\n",
              "    <tr>\n",
              "      <th>2</th>\n",
              "      <td>12</td>\n",
              "      <td>CGMN</td>\n",
              "      <td>2012-07-12</td>\n",
              "      <td>17:00</td>\n",
              "      <td>0.0</td>\n",
              "      <td>36.3</td>\n",
              "      <td>971.0</td>\n",
              "      <td>64.0</td>\n",
              "      <td>2017</td>\n",
              "      <td>ตอนบน</td>\n",
              "      <td>19,254,452.30</td>\n",
              "      <td>12,115,729.16</td>\n",
              "      <td>182.92</td>\n",
              "      <td>117.08</td>\n",
              "    </tr>\n",
              "    <tr>\n",
              "      <th>3</th>\n",
              "      <td>12</td>\n",
              "      <td>CGMN</td>\n",
              "      <td>2012-07-12</td>\n",
              "      <td>18:00</td>\n",
              "      <td>0.0</td>\n",
              "      <td>32.8</td>\n",
              "      <td>974.0</td>\n",
              "      <td>70.0</td>\n",
              "      <td>2018</td>\n",
              "      <td>ตอนบน</td>\n",
              "      <td>19,254,452.30</td>\n",
              "      <td>12,128,810.16</td>\n",
              "      <td>183.14</td>\n",
              "      <td>116.86</td>\n",
              "    </tr>\n",
              "    <tr>\n",
              "      <th>4</th>\n",
              "      <td>12</td>\n",
              "      <td>CGMN</td>\n",
              "      <td>2012-07-12</td>\n",
              "      <td>19:00</td>\n",
              "      <td>0.0</td>\n",
              "      <td>30.9</td>\n",
              "      <td>975.0</td>\n",
              "      <td>71.0</td>\n",
              "      <td>2018</td>\n",
              "      <td>ตอนบน</td>\n",
              "      <td>19,254,452.30</td>\n",
              "      <td>12,128,810.16</td>\n",
              "      <td>183.14</td>\n",
              "      <td>116.86</td>\n",
              "    </tr>\n",
              "    <tr>\n",
              "      <th>...</th>\n",
              "      <td>...</td>\n",
              "      <td>...</td>\n",
              "      <td>...</td>\n",
              "      <td>...</td>\n",
              "      <td>...</td>\n",
              "      <td>...</td>\n",
              "      <td>...</td>\n",
              "      <td>...</td>\n",
              "      <td>...</td>\n",
              "      <td>...</td>\n",
              "      <td>...</td>\n",
              "      <td>...</td>\n",
              "      <td>...</td>\n",
              "      <td>...</td>\n",
              "    </tr>\n",
              "    <tr>\n",
              "      <th>74260</th>\n",
              "      <td>20</td>\n",
              "      <td>CGMN</td>\n",
              "      <td>2020-12-31</td>\n",
              "      <td>19:00</td>\n",
              "      <td>0.0</td>\n",
              "      <td>24.8</td>\n",
              "      <td>981.8</td>\n",
              "      <td>61.4</td>\n",
              "      <td>2015</td>\n",
              "      <td>ตอนบน</td>\n",
              "      <td>19,254,452.30</td>\n",
              "      <td>12,177,345.86</td>\n",
              "      <td>183.97</td>\n",
              "      <td>116.03</td>\n",
              "    </tr>\n",
              "    <tr>\n",
              "      <th>74261</th>\n",
              "      <td>20</td>\n",
              "      <td>CGMN</td>\n",
              "      <td>2020-12-31</td>\n",
              "      <td>20:00</td>\n",
              "      <td>0.0</td>\n",
              "      <td>23.8</td>\n",
              "      <td>982.7</td>\n",
              "      <td>64.0</td>\n",
              "      <td>2017</td>\n",
              "      <td>ตอนบน</td>\n",
              "      <td>19,254,452.30</td>\n",
              "      <td>12,115,729.16</td>\n",
              "      <td>182.92</td>\n",
              "      <td>117.08</td>\n",
              "    </tr>\n",
              "    <tr>\n",
              "      <th>74262</th>\n",
              "      <td>20</td>\n",
              "      <td>CGMN</td>\n",
              "      <td>2020-12-31</td>\n",
              "      <td>21:00</td>\n",
              "      <td>0.0</td>\n",
              "      <td>23.2</td>\n",
              "      <td>983.6</td>\n",
              "      <td>63.5</td>\n",
              "      <td>2018</td>\n",
              "      <td>ตอนบน</td>\n",
              "      <td>19,254,452.30</td>\n",
              "      <td>12,128,810.16</td>\n",
              "      <td>183.14</td>\n",
              "      <td>116.86</td>\n",
              "    </tr>\n",
              "    <tr>\n",
              "      <th>74263</th>\n",
              "      <td>20</td>\n",
              "      <td>CGMN</td>\n",
              "      <td>2020-12-31</td>\n",
              "      <td>22:00</td>\n",
              "      <td>0.0</td>\n",
              "      <td>22.7</td>\n",
              "      <td>983.9</td>\n",
              "      <td>64.9</td>\n",
              "      <td>2014</td>\n",
              "      <td>ตอนบน</td>\n",
              "      <td>19,254,452.30</td>\n",
              "      <td>12,197,151.71</td>\n",
              "      <td>184.23</td>\n",
              "      <td>115.77</td>\n",
              "    </tr>\n",
              "    <tr>\n",
              "      <th>74264</th>\n",
              "      <td>20</td>\n",
              "      <td>CGMN</td>\n",
              "      <td>2020-12-31</td>\n",
              "      <td>23:00</td>\n",
              "      <td>0.0</td>\n",
              "      <td>22.3</td>\n",
              "      <td>984.0</td>\n",
              "      <td>65.9</td>\n",
              "      <td>2016</td>\n",
              "      <td>ตอนบน</td>\n",
              "      <td>19,254,452.30</td>\n",
              "      <td>12,177,949.25</td>\n",
              "      <td>183.89</td>\n",
              "      <td>116.11</td>\n",
              "    </tr>\n",
              "  </tbody>\n",
              "</table>\n",
              "<p>74265 rows × 14 columns</p>\n",
              "</div>"
            ],
            "text/plain": [
              "      Key  code  ... Percent_of_Province_Area Non_Forest_Area\n",
              "0      12  CGMN  ...                   183.95          116.05\n",
              "1      12  CGMN  ...                   182.92          117.08\n",
              "2      12  CGMN  ...                   182.92          117.08\n",
              "3      12  CGMN  ...                   183.14          116.86\n",
              "4      12  CGMN  ...                   183.14          116.86\n",
              "...    ..   ...  ...                      ...             ...\n",
              "74260  20  CGMN  ...                   183.97          116.03\n",
              "74261  20  CGMN  ...                   182.92          117.08\n",
              "74262  20  CGMN  ...                   183.14          116.86\n",
              "74263  20  CGMN  ...                   184.23          115.77\n",
              "74264  20  CGMN  ...                   183.89          116.11\n",
              "\n",
              "[74265 rows x 14 columns]"
            ]
          },
          "metadata": {
            "tags": []
          }
        },
        {
          "output_type": "display_data",
          "data": {
            "text/html": [
              "<div>\n",
              "<style scoped>\n",
              "    .dataframe tbody tr th:only-of-type {\n",
              "        vertical-align: middle;\n",
              "    }\n",
              "\n",
              "    .dataframe tbody tr th {\n",
              "        vertical-align: top;\n",
              "    }\n",
              "\n",
              "    .dataframe thead th {\n",
              "        text-align: right;\n",
              "    }\n",
              "</style>\n",
              "<table border=\"1\" class=\"dataframe\">\n",
              "  <thead>\n",
              "    <tr style=\"text-align: right;\">\n",
              "      <th></th>\n",
              "      <th>Key</th>\n",
              "      <th>code</th>\n",
              "      <th>date</th>\n",
              "      <th>time</th>\n",
              "      <th>rain1h</th>\n",
              "      <th>temp_out</th>\n",
              "      <th>press</th>\n",
              "      <th>humid</th>\n",
              "      <th>Year</th>\n",
              "      <th>Province</th>\n",
              "      <th>Province_Area</th>\n",
              "      <th>Forest_Area</th>\n",
              "      <th>Percent_of_Province_Area</th>\n",
              "      <th>Non_Forest_Area</th>\n",
              "    </tr>\n",
              "  </thead>\n",
              "  <tbody>\n",
              "    <tr>\n",
              "      <th>0</th>\n",
              "      <td>12</td>\n",
              "      <td>WCHN</td>\n",
              "      <td>2012-01-09</td>\n",
              "      <td>10:00</td>\n",
              "      <td>0.0</td>\n",
              "      <td>27.0</td>\n",
              "      <td>1004.0</td>\n",
              "      <td>97.0</td>\n",
              "      <td>2013</td>\n",
              "      <td>ตอนกลาง</td>\n",
              "      <td>4,051,912.64</td>\n",
              "      <td>2,515,083.57</td>\n",
              "      <td>62.07</td>\n",
              "      <td>37.93</td>\n",
              "    </tr>\n",
              "    <tr>\n",
              "      <th>1</th>\n",
              "      <td>12</td>\n",
              "      <td>WCHN</td>\n",
              "      <td>2012-01-09</td>\n",
              "      <td>11:00</td>\n",
              "      <td>0.0</td>\n",
              "      <td>31.9</td>\n",
              "      <td>1003.0</td>\n",
              "      <td>69.0</td>\n",
              "      <td>2017</td>\n",
              "      <td>ตอนกลาง</td>\n",
              "      <td>4,051,912.64</td>\n",
              "      <td>2,610,863.30</td>\n",
              "      <td>64.44</td>\n",
              "      <td>35.56</td>\n",
              "    </tr>\n",
              "    <tr>\n",
              "      <th>2</th>\n",
              "      <td>12</td>\n",
              "      <td>WCHN</td>\n",
              "      <td>2012-01-09</td>\n",
              "      <td>12:00</td>\n",
              "      <td>0.0</td>\n",
              "      <td>34.8</td>\n",
              "      <td>1002.0</td>\n",
              "      <td>51.0</td>\n",
              "      <td>2017</td>\n",
              "      <td>ตอนกลาง</td>\n",
              "      <td>4,051,912.64</td>\n",
              "      <td>2,610,863.30</td>\n",
              "      <td>64.44</td>\n",
              "      <td>35.56</td>\n",
              "    </tr>\n",
              "    <tr>\n",
              "      <th>3</th>\n",
              "      <td>12</td>\n",
              "      <td>WCHN</td>\n",
              "      <td>2012-01-09</td>\n",
              "      <td>13:00</td>\n",
              "      <td>0.0</td>\n",
              "      <td>35.3</td>\n",
              "      <td>1001.0</td>\n",
              "      <td>53.0</td>\n",
              "      <td>2018</td>\n",
              "      <td>ตอนกลาง</td>\n",
              "      <td>4,051,912.64</td>\n",
              "      <td>2,623,909.73</td>\n",
              "      <td>64.76</td>\n",
              "      <td>35.24</td>\n",
              "    </tr>\n",
              "    <tr>\n",
              "      <th>4</th>\n",
              "      <td>12</td>\n",
              "      <td>WCHN</td>\n",
              "      <td>2012-01-09</td>\n",
              "      <td>14:00</td>\n",
              "      <td>0.0</td>\n",
              "      <td>35.8</td>\n",
              "      <td>1000.0</td>\n",
              "      <td>48.0</td>\n",
              "      <td>2018</td>\n",
              "      <td>ตอนกลาง</td>\n",
              "      <td>4,051,912.64</td>\n",
              "      <td>2,623,909.73</td>\n",
              "      <td>64.76</td>\n",
              "      <td>35.24</td>\n",
              "    </tr>\n",
              "    <tr>\n",
              "      <th>...</th>\n",
              "      <td>...</td>\n",
              "      <td>...</td>\n",
              "      <td>...</td>\n",
              "      <td>...</td>\n",
              "      <td>...</td>\n",
              "      <td>...</td>\n",
              "      <td>...</td>\n",
              "      <td>...</td>\n",
              "      <td>...</td>\n",
              "      <td>...</td>\n",
              "      <td>...</td>\n",
              "      <td>...</td>\n",
              "      <td>...</td>\n",
              "      <td>...</td>\n",
              "    </tr>\n",
              "    <tr>\n",
              "      <th>78705</th>\n",
              "      <td>20</td>\n",
              "      <td>WCHN</td>\n",
              "      <td>2020-12-31</td>\n",
              "      <td>19:00</td>\n",
              "      <td>0.0</td>\n",
              "      <td>22.8</td>\n",
              "      <td>998.5</td>\n",
              "      <td>81.9</td>\n",
              "      <td>2017</td>\n",
              "      <td>ตอนกลาง</td>\n",
              "      <td>4,051,912.64</td>\n",
              "      <td>2,610,863.30</td>\n",
              "      <td>64.44</td>\n",
              "      <td>35.56</td>\n",
              "    </tr>\n",
              "    <tr>\n",
              "      <th>78706</th>\n",
              "      <td>20</td>\n",
              "      <td>WCHN</td>\n",
              "      <td>2020-12-31</td>\n",
              "      <td>20:00</td>\n",
              "      <td>0.0</td>\n",
              "      <td>21.3</td>\n",
              "      <td>999.6</td>\n",
              "      <td>86.4</td>\n",
              "      <td>2018</td>\n",
              "      <td>ตอนกลาง</td>\n",
              "      <td>4,051,912.64</td>\n",
              "      <td>2,623,909.73</td>\n",
              "      <td>64.76</td>\n",
              "      <td>35.24</td>\n",
              "    </tr>\n",
              "    <tr>\n",
              "      <th>78707</th>\n",
              "      <td>20</td>\n",
              "      <td>WCHN</td>\n",
              "      <td>2020-12-31</td>\n",
              "      <td>21:00</td>\n",
              "      <td>0.0</td>\n",
              "      <td>19.8</td>\n",
              "      <td>1000.3</td>\n",
              "      <td>89.5</td>\n",
              "      <td>2015</td>\n",
              "      <td>ตอนกลาง</td>\n",
              "      <td>4,051,912.64</td>\n",
              "      <td>2,600,029.96</td>\n",
              "      <td>64.17</td>\n",
              "      <td>35.83</td>\n",
              "    </tr>\n",
              "    <tr>\n",
              "      <th>78708</th>\n",
              "      <td>20</td>\n",
              "      <td>WCHN</td>\n",
              "      <td>2020-12-31</td>\n",
              "      <td>22:00</td>\n",
              "      <td>0.0</td>\n",
              "      <td>18.6</td>\n",
              "      <td>1000.8</td>\n",
              "      <td>93.0</td>\n",
              "      <td>2016</td>\n",
              "      <td>ตอนกลาง</td>\n",
              "      <td>4,051,912.64</td>\n",
              "      <td>2,603,324.70</td>\n",
              "      <td>64.25</td>\n",
              "      <td>35.75</td>\n",
              "    </tr>\n",
              "    <tr>\n",
              "      <th>78709</th>\n",
              "      <td>20</td>\n",
              "      <td>WCHN</td>\n",
              "      <td>2020-12-31</td>\n",
              "      <td>23:00</td>\n",
              "      <td>0.0</td>\n",
              "      <td>17.5</td>\n",
              "      <td>1001.3</td>\n",
              "      <td>93.6</td>\n",
              "      <td>2016</td>\n",
              "      <td>ตอนกลาง</td>\n",
              "      <td>4,051,912.64</td>\n",
              "      <td>2,603,324.70</td>\n",
              "      <td>64.25</td>\n",
              "      <td>35.75</td>\n",
              "    </tr>\n",
              "  </tbody>\n",
              "</table>\n",
              "<p>78710 rows × 14 columns</p>\n",
              "</div>"
            ],
            "text/plain": [
              "      Key  code  ... Percent_of_Province_Area Non_Forest_Area\n",
              "0      12  WCHN  ...                    62.07           37.93\n",
              "1      12  WCHN  ...                    64.44           35.56\n",
              "2      12  WCHN  ...                    64.44           35.56\n",
              "3      12  WCHN  ...                    64.76           35.24\n",
              "4      12  WCHN  ...                    64.76           35.24\n",
              "...    ..   ...  ...                      ...             ...\n",
              "78705  20  WCHN  ...                    64.44           35.56\n",
              "78706  20  WCHN  ...                    64.76           35.24\n",
              "78707  20  WCHN  ...                    64.17           35.83\n",
              "78708  20  WCHN  ...                    64.25           35.75\n",
              "78709  20  WCHN  ...                    64.25           35.75\n",
              "\n",
              "[78710 rows x 14 columns]"
            ]
          },
          "metadata": {
            "tags": []
          }
        },
        {
          "output_type": "display_data",
          "data": {
            "text/html": [
              "<div>\n",
              "<style scoped>\n",
              "    .dataframe tbody tr th:only-of-type {\n",
              "        vertical-align: middle;\n",
              "    }\n",
              "\n",
              "    .dataframe tbody tr th {\n",
              "        vertical-align: top;\n",
              "    }\n",
              "\n",
              "    .dataframe thead th {\n",
              "        text-align: right;\n",
              "    }\n",
              "</style>\n",
              "<table border=\"1\" class=\"dataframe\">\n",
              "  <thead>\n",
              "    <tr style=\"text-align: right;\">\n",
              "      <th></th>\n",
              "      <th>Key</th>\n",
              "      <th>code</th>\n",
              "      <th>date</th>\n",
              "      <th>time</th>\n",
              "      <th>rain1h</th>\n",
              "      <th>temp_out</th>\n",
              "      <th>press</th>\n",
              "      <th>humid</th>\n",
              "      <th>Year</th>\n",
              "      <th>Province</th>\n",
              "      <th>Province_Area</th>\n",
              "      <th>Forest_Area</th>\n",
              "      <th>Percent_of_Province_Area</th>\n",
              "      <th>Non_Forest_Area</th>\n",
              "    </tr>\n",
              "  </thead>\n",
              "  <tbody>\n",
              "    <tr>\n",
              "      <th>0</th>\n",
              "      <td>11</td>\n",
              "      <td>SWKL</td>\n",
              "      <td>2011-09-29</td>\n",
              "      <td>16:00</td>\n",
              "      <td>0.0</td>\n",
              "      <td>35.8</td>\n",
              "      <td>995.0</td>\n",
              "      <td>71.0</td>\n",
              "      <td>2013</td>\n",
              "      <td>ตอนล่าง</td>\n",
              "      <td>84,183,434.55</td>\n",
              "      <td>41,275,108.50</td>\n",
              "      <td>551.44</td>\n",
              "      <td>748.56</td>\n",
              "    </tr>\n",
              "    <tr>\n",
              "      <th>1</th>\n",
              "      <td>11</td>\n",
              "      <td>SWKL</td>\n",
              "      <td>2011-09-29</td>\n",
              "      <td>17:00</td>\n",
              "      <td>0.0</td>\n",
              "      <td>33.8</td>\n",
              "      <td>997.0</td>\n",
              "      <td>76.0</td>\n",
              "      <td>2017</td>\n",
              "      <td>ตอนล่าง</td>\n",
              "      <td>84,183,434.55</td>\n",
              "      <td>41,652,816.09</td>\n",
              "      <td>564.0</td>\n",
              "      <td>736.0</td>\n",
              "    </tr>\n",
              "    <tr>\n",
              "      <th>2</th>\n",
              "      <td>11</td>\n",
              "      <td>SWKL</td>\n",
              "      <td>2011-09-29</td>\n",
              "      <td>18:00</td>\n",
              "      <td>0.0</td>\n",
              "      <td>30.4</td>\n",
              "      <td>999.0</td>\n",
              "      <td>84.0</td>\n",
              "      <td>2017</td>\n",
              "      <td>ตอนล่าง</td>\n",
              "      <td>84,183,434.55</td>\n",
              "      <td>41,652,816.09</td>\n",
              "      <td>564.0</td>\n",
              "      <td>736.0</td>\n",
              "    </tr>\n",
              "    <tr>\n",
              "      <th>3</th>\n",
              "      <td>11</td>\n",
              "      <td>SWKL</td>\n",
              "      <td>2011-09-29</td>\n",
              "      <td>19:00</td>\n",
              "      <td>0.0</td>\n",
              "      <td>29.4</td>\n",
              "      <td>1000.0</td>\n",
              "      <td>91.0</td>\n",
              "      <td>2018</td>\n",
              "      <td>ตอนล่าง</td>\n",
              "      <td>84,183,434.55</td>\n",
              "      <td>41,728,212.55</td>\n",
              "      <td>565.64</td>\n",
              "      <td>734.36</td>\n",
              "    </tr>\n",
              "    <tr>\n",
              "      <th>4</th>\n",
              "      <td>11</td>\n",
              "      <td>SWKL</td>\n",
              "      <td>2011-09-29</td>\n",
              "      <td>20:00</td>\n",
              "      <td>0.0</td>\n",
              "      <td>28.4</td>\n",
              "      <td>1001.0</td>\n",
              "      <td>97.0</td>\n",
              "      <td>2018</td>\n",
              "      <td>ตอนล่าง</td>\n",
              "      <td>84,183,434.55</td>\n",
              "      <td>41,728,212.55</td>\n",
              "      <td>565.64</td>\n",
              "      <td>734.36</td>\n",
              "    </tr>\n",
              "    <tr>\n",
              "      <th>...</th>\n",
              "      <td>...</td>\n",
              "      <td>...</td>\n",
              "      <td>...</td>\n",
              "      <td>...</td>\n",
              "      <td>...</td>\n",
              "      <td>...</td>\n",
              "      <td>...</td>\n",
              "      <td>...</td>\n",
              "      <td>...</td>\n",
              "      <td>...</td>\n",
              "      <td>...</td>\n",
              "      <td>...</td>\n",
              "      <td>...</td>\n",
              "      <td>...</td>\n",
              "    </tr>\n",
              "    <tr>\n",
              "      <th>81147</th>\n",
              "      <td>20</td>\n",
              "      <td>SWKL</td>\n",
              "      <td>2020-12-31</td>\n",
              "      <td>19:00</td>\n",
              "      <td>0.0</td>\n",
              "      <td>22.8</td>\n",
              "      <td>1008.1</td>\n",
              "      <td>61.3</td>\n",
              "      <td>2019</td>\n",
              "      <td>ตอนล่าง</td>\n",
              "      <td>84,183,434.55</td>\n",
              "      <td>41,661,864.73</td>\n",
              "      <td>565.03</td>\n",
              "      <td>734.97</td>\n",
              "    </tr>\n",
              "    <tr>\n",
              "      <th>81148</th>\n",
              "      <td>20</td>\n",
              "      <td>SWKL</td>\n",
              "      <td>2020-12-31</td>\n",
              "      <td>20:00</td>\n",
              "      <td>0.0</td>\n",
              "      <td>22.7</td>\n",
              "      <td>1009.2</td>\n",
              "      <td>61.8</td>\n",
              "      <td>2016</td>\n",
              "      <td>ตอนล่าง</td>\n",
              "      <td>84,183,434.55</td>\n",
              "      <td>41,652,712.94</td>\n",
              "      <td>563.8</td>\n",
              "      <td>736.2</td>\n",
              "    </tr>\n",
              "    <tr>\n",
              "      <th>81149</th>\n",
              "      <td>20</td>\n",
              "      <td>SWKL</td>\n",
              "      <td>2020-12-31</td>\n",
              "      <td>21:00</td>\n",
              "      <td>0.0</td>\n",
              "      <td>21.1</td>\n",
              "      <td>1010.1</td>\n",
              "      <td>66.0</td>\n",
              "      <td>2019</td>\n",
              "      <td>ตอนล่าง</td>\n",
              "      <td>84,183,434.55</td>\n",
              "      <td>41,661,864.73</td>\n",
              "      <td>565.03</td>\n",
              "      <td>734.97</td>\n",
              "    </tr>\n",
              "    <tr>\n",
              "      <th>81150</th>\n",
              "      <td>20</td>\n",
              "      <td>SWKL</td>\n",
              "      <td>2020-12-31</td>\n",
              "      <td>22:00</td>\n",
              "      <td>0.0</td>\n",
              "      <td>19.8</td>\n",
              "      <td>1010.7</td>\n",
              "      <td>70.2</td>\n",
              "      <td>2014</td>\n",
              "      <td>ตอนล่าง</td>\n",
              "      <td>84,183,434.55</td>\n",
              "      <td>41,746,553.35</td>\n",
              "      <td>565.14</td>\n",
              "      <td>734.86</td>\n",
              "    </tr>\n",
              "    <tr>\n",
              "      <th>81151</th>\n",
              "      <td>20</td>\n",
              "      <td>SWKL</td>\n",
              "      <td>2020-12-31</td>\n",
              "      <td>23:00</td>\n",
              "      <td>0.0</td>\n",
              "      <td>19.3</td>\n",
              "      <td>1010.8</td>\n",
              "      <td>70.6</td>\n",
              "      <td>2016</td>\n",
              "      <td>ตอนล่าง</td>\n",
              "      <td>84,183,434.55</td>\n",
              "      <td>41,652,712.94</td>\n",
              "      <td>563.8</td>\n",
              "      <td>736.2</td>\n",
              "    </tr>\n",
              "  </tbody>\n",
              "</table>\n",
              "<p>81152 rows × 14 columns</p>\n",
              "</div>"
            ],
            "text/plain": [
              "      Key  code  ... Percent_of_Province_Area Non_Forest_Area\n",
              "0      11  SWKL  ...                   551.44          748.56\n",
              "1      11  SWKL  ...                    564.0           736.0\n",
              "2      11  SWKL  ...                    564.0           736.0\n",
              "3      11  SWKL  ...                   565.64          734.36\n",
              "4      11  SWKL  ...                   565.64          734.36\n",
              "...    ..   ...  ...                      ...             ...\n",
              "81147  20  SWKL  ...                   565.03          734.97\n",
              "81148  20  SWKL  ...                    563.8           736.2\n",
              "81149  20  SWKL  ...                   565.03          734.97\n",
              "81150  20  SWKL  ...                   565.14          734.86\n",
              "81151  20  SWKL  ...                    563.8           736.2\n",
              "\n",
              "[81152 rows x 14 columns]"
            ]
          },
          "metadata": {
            "tags": []
          }
        }
      ]
    },
    {
      "cell_type": "markdown",
      "metadata": {
        "id": "0N1kjc_B3CUO"
      },
      "source": [
        "## **จี้**\n"
      ]
    },
    {
      "cell_type": "markdown",
      "metadata": {
        "id": "yR8q1W-bpIEz"
      },
      "source": [
        "Check error data"
      ]
    },
    {
      "cell_type": "code",
      "metadata": {
        "id": "nem0RUvnpsZb"
      },
      "source": [
        "#สถานีตอนบน\n",
        "#df['column'].describe() ดูค่าว่าเกินเกณฑ์มั้ย"
      ],
      "execution_count": null,
      "outputs": []
    },
    {
      "cell_type": "code",
      "metadata": {
        "id": "d6glcpg_pL_Q"
      },
      "source": [
        "# df['column'].unique() ดูพวกวัน พวกที่เป็น category error"
      ],
      "execution_count": null,
      "outputs": []
    },
    {
      "cell_type": "code",
      "metadata": {
        "id": "kK82Ut_WFhxZ"
      },
      "source": [
        "#สถานีตอนกลาง"
      ],
      "execution_count": null,
      "outputs": []
    },
    {
      "cell_type": "code",
      "metadata": {
        "id": "2MqJKC_mFlx1"
      },
      "source": [
        "#สถานีตอนล่าง"
      ],
      "execution_count": null,
      "outputs": []
    },
    {
      "cell_type": "markdown",
      "metadata": {
        "id": "o9J_QAqIB9R6"
      },
      "source": [
        "\n",
        "\n",
        "*   Preprocessing\n",
        "\n"
      ]
    },
    {
      "cell_type": "code",
      "metadata": {
        "id": "EBfMzM9uCEk7"
      },
      "source": [
        "def change_todate(df):\n",
        "  df['Year'] = df['date'].apply(lambda x: str(x)[:4])\n",
        "  df['Month'] = df['date'].apply(lambda x: str(x)[5:7])\n",
        "  df['Day'] = df['date'].apply(lambda x: str(x)[8:])\n",
        "  df['date'] = pd.to_datetime(df['date'])\n",
        "  return df"
      ],
      "execution_count": null,
      "outputs": []
    },
    {
      "cell_type": "code",
      "metadata": {
        "id": "GeA4i1lUEpzX"
      },
      "source": [
        "#change_todate(df)"
      ],
      "execution_count": null,
      "outputs": []
    },
    {
      "cell_type": "code",
      "metadata": {
        "id": "jwAGwa4XFp4j"
      },
      "source": [
        "#ตอนบน กลาง ล่าง"
      ],
      "execution_count": null,
      "outputs": []
    },
    {
      "cell_type": "markdown",
      "metadata": {
        "id": "yDlstODsckcS"
      },
      "source": [
        "\n",
        "\n",
        "*   Transformation\n",
        "\n"
      ]
    },
    {
      "cell_type": "code",
      "metadata": {
        "id": "zdLzZ6NAFzTe"
      },
      "source": [
        "#ตอนบน กลาง ล่าง"
      ],
      "execution_count": null,
      "outputs": []
    },
    {
      "cell_type": "code",
      "metadata": {
        "id": "8sb5UGYXsGyL"
      },
      "source": [
        "# transform all features to 1 day (ฝนสะสมต่อวัน, อุณหภูมิ ความกดอากาศ ความเร็วลมเฉลี่ย) groupby aggregate\n"
      ],
      "execution_count": null,
      "outputs": []
    },
    {
      "cell_type": "code",
      "metadata": {
        "id": "p9hxUE4Mwa3f"
      },
      "source": [
        "# add column จำนวนวันที่ฝนตก"
      ],
      "execution_count": null,
      "outputs": []
    },
    {
      "cell_type": "code",
      "metadata": {
        "id": "SoIYZVb0sTi4"
      },
      "source": [
        "# set index\n",
        "def transform_index(dataframe):\n",
        "  dataframe = dataframe.set_index('date')\n",
        "  return dataframe"
      ],
      "execution_count": null,
      "outputs": []
    },
    {
      "cell_type": "code",
      "metadata": {
        "id": "f4glvpAB3IuX"
      },
      "source": [
        "#เรียกใช้ transform_index"
      ],
      "execution_count": null,
      "outputs": []
    },
    {
      "cell_type": "markdown",
      "metadata": {
        "id": "xkb6NOTolcl4"
      },
      "source": [
        "##Data Exploration"
      ]
    },
    {
      "cell_type": "markdown",
      "metadata": {
        "id": "ji4UEF_1lot4"
      },
      "source": [
        "## **อิ่ม**\n",
        "\n",
        "*   Analyzing and comparing rainfall <br> ดูปริมาณน้ำฝนแล้วก็แนวโน้มของปัจจัยอื่นๆด้วยได้ เพื่อตอบคำถาม plot graph<br> \n",
        "-ปริมาณฝนรายปีมีการเปลี่ยนแปลงอย่างไร<br> \n",
        "-บริเวณใด(บน กลาง ล่าง มีความผันผวน)ของปริมาณฝนมากที่สุด ระหว่างฤดูหรือปี<br> \n"
      ]
    },
    {
      "cell_type": "code",
      "metadata": {
        "colab": {
          "base_uri": "https://localhost:8080/",
          "height": 334
        },
        "id": "67ITF4gHBrhK",
        "outputId": "59d39b30-1540-45e1-f2c2-fa94569a1328"
      },
      "source": [
        "#ตัวอย่าง plot แต่อย่าลืมทำเป็นปีก่อนจะดูง่ายกว่าภาพล่าง df_new = df.copy()\n",
        "\n",
        "# df_new.Prep.plot(figsize=(15,5))\n",
        "# plt.title('Prep Trend')\n",
        "# #plt.title('Symbol: {}'.format(stock_symbol))\n",
        "# plt.grid()\n",
        "# plt.legend();"
      ],
      "execution_count": null,
      "outputs": [
        {
          "output_type": "display_data",
          "data": {
            "image/png": "[encoded data removed]",
            "text/plain": [
              "<Figure size 1080x360 with 1 Axes>"
            ]
          },
          "metadata": {
            "tags": [],
            "needs_background": "light"
          }
        }
      ]
    },
    {
      "cell_type": "code",
      "metadata": {
        "id": "nRbP5NbomDeS"
      },
      "source": [
        "#สถานีตอนบน"
      ],
      "execution_count": null,
      "outputs": []
    },
    {
      "cell_type": "code",
      "metadata": {
        "id": "IZhsGM1vmGbW"
      },
      "source": [
        "#สถานีตอนกลาง"
      ],
      "execution_count": null,
      "outputs": []
    },
    {
      "cell_type": "code",
      "metadata": {
        "id": "kBa7N1C-mJHP"
      },
      "source": [
        "#สถานีตอนล่าง"
      ],
      "execution_count": null,
      "outputs": []
    },
    {
      "cell_type": "markdown",
      "metadata": {
        "id": "x_CajoQVlg3s"
      },
      "source": [
        "\n",
        "\n",
        "*   Season Time Series --มิ้ม\n",
        "\n"
      ]
    },
    {
      "cell_type": "code",
      "metadata": {
        "id": "ur0bLtxcnd02"
      },
      "source": [
        "# decompose trend, seasonal, and residual\n",
        "from statsmodels.tsa.seasonal import seasonal_decompose"
      ],
      "execution_count": null,
      "outputs": []
    },
    {
      "cell_type": "code",
      "metadata": {
        "colab": {
          "base_uri": "https://localhost:8080/",
          "height": 577
        },
        "id": "mstyjReXDclj",
        "outputId": "76daad7b-6840-4b89-ee1b-75674c4c634c"
      },
      "source": [
        "# prep_decom = seasonal_decompose(df.Prep.values, model='additive', freq= 30)\n",
        "\n",
        "# prep_decom.plot()"
      ],
      "execution_count": null,
      "outputs": [
        {
          "output_type": "execute_result",
          "data": {
            "image/png": "[encoded data removed]",
            "text/plain": [
              "<Figure size 432x288 with 4 Axes>"
            ]
          },
          "metadata": {
            "tags": []
          },
          "execution_count": 42
        },
        {
          "output_type": "display_data",
          "data": {
            "image/png": "[encoded data removed]",
            "text/plain": [
              "<Figure size 432x288 with 4 Axes>"
            ]
          },
          "metadata": {
            "tags": [],
            "needs_background": "light"
          }
        }
      ]
    },
    {
      "cell_type": "markdown",
      "metadata": {
        "id": "FK-wPPu7jDgM"
      },
      "source": [
        "##Data Modeling"
      ]
    },
    {
      "cell_type": "code",
      "metadata": {
        "id": "OyIvW8N2bLpP"
      },
      "source": [
        "# # Create get_X_y function to get dependent (y) and independent (X) variables\n",
        "# def prep_data(dataframe):\n",
        "  \n",
        "#   dataframe['date'] = pd.to_datetime(dataframe['date'])\n",
        "#   dataframe = dataframe.set_index('date')\n",
        "\n",
        "#   # Extract time series variable\n",
        "#   X = dataframe.reset_index()[['date']]\n",
        "#   X['Year'] = [X.iloc[i, 0].year for i in range(len(X))]\n",
        "#   X['Month'] = [X.iloc[i, 0].month for i in range(len(X))]\n",
        "#   X['Day'] = [X.iloc[i, 0].day for i in range(len(X))]\n",
        "#   #X['EnglishDay'] = X.Date.dt.strftime('%a')\n",
        "\n",
        "#   # Set categorical variable\n",
        "#   X = X.astype({'Month':'category', \n",
        "#                 'Day':'category'}).set_index('date')\n",
        "\n",
        "#   # Get OHLC\n",
        "#   X = X.merge(dataframe, left_index=True, right_index=True)\n",
        "\n",
        "#   # Extract dependent variable\n",
        "#   #y = dataframe[['Prep']].copy()\n",
        "\n",
        "#   # col_drop = ['Station', 'MaxTemp', 'MaxTempTime', 'MinTemp', 'MinTempTime',\n",
        "#   #                   'MaxRHTime', 'MinRHTime', 'SR', 'Prep', 'MaxSTemp5', 'MaxSTemp5Time', 'MinSTemp5', 'MinSTemp5Time',\n",
        "#   #                   'MaxSTemp15', 'MaxSTemp15Time', 'MinSTemp15', 'MinSTemp15Time', 'BV','Year_y', 'MaxWGTime', 'DirectionMaxWG']\n",
        "#   # X = X.drop(col_drop, axis=1)\n",
        "#   #X = X.rename(columns={'Year_x' : 'Year'})\n",
        "#   return X #, y"
      ],
      "execution_count": null,
      "outputs": []
    },
    {
      "cell_type": "code",
      "metadata": {
        "colab": {
          "base_uri": "https://localhost:8080/",
          "height": 235
        },
        "id": "2WcPN5AndU7w",
        "outputId": "9b0ba310-c8da-4e97-bf8e-6f4869e4e2e6"
      },
      "source": [
        "X, y = get_X_y(data)\n",
        "X.head()"
      ],
      "execution_count": null,
      "outputs": [
        {
          "output_type": "execute_result",
          "data": {
            "text/html": [
              "<div>\n",
              "<style scoped>\n",
              "    .dataframe tbody tr th:only-of-type {\n",
              "        vertical-align: middle;\n",
              "    }\n",
              "\n",
              "    .dataframe tbody tr th {\n",
              "        vertical-align: top;\n",
              "    }\n",
              "\n",
              "    .dataframe thead th {\n",
              "        text-align: right;\n",
              "    }\n",
              "</style>\n",
              "<table border=\"1\" class=\"dataframe\">\n",
              "  <thead>\n",
              "    <tr style=\"text-align: right;\">\n",
              "      <th></th>\n",
              "      <th>Year</th>\n",
              "      <th>Month</th>\n",
              "      <th>Day</th>\n",
              "      <th>AvgTemp</th>\n",
              "      <th>VP</th>\n",
              "      <th>MaxRH</th>\n",
              "      <th>MinRH</th>\n",
              "      <th>WR</th>\n",
              "      <th>MaxWG</th>\n",
              "    </tr>\n",
              "    <tr>\n",
              "      <th>Datetime</th>\n",
              "      <th></th>\n",
              "      <th></th>\n",
              "      <th></th>\n",
              "      <th></th>\n",
              "      <th></th>\n",
              "      <th></th>\n",
              "      <th></th>\n",
              "      <th></th>\n",
              "      <th></th>\n",
              "    </tr>\n",
              "  </thead>\n",
              "  <tbody>\n",
              "    <tr>\n",
              "      <th>2010-01-01</th>\n",
              "      <td>2010</td>\n",
              "      <td>1</td>\n",
              "      <td>1</td>\n",
              "      <td>-4.459</td>\n",
              "      <td>0.262</td>\n",
              "      <td>0.866</td>\n",
              "      <td>0.276</td>\n",
              "      <td>54.20</td>\n",
              "      <td>6.125</td>\n",
              "    </tr>\n",
              "    <tr>\n",
              "      <th>2010-01-02</th>\n",
              "      <td>2010</td>\n",
              "      <td>1</td>\n",
              "      <td>2</td>\n",
              "      <td>-1.732</td>\n",
              "      <td>0.335</td>\n",
              "      <td>0.938</td>\n",
              "      <td>0.300</td>\n",
              "      <td>124.00</td>\n",
              "      <td>8.970</td>\n",
              "    </tr>\n",
              "    <tr>\n",
              "      <th>2010-01-03</th>\n",
              "      <td>2010</td>\n",
              "      <td>1</td>\n",
              "      <td>3</td>\n",
              "      <td>-1.364</td>\n",
              "      <td>0.411</td>\n",
              "      <td>0.971</td>\n",
              "      <td>0.377</td>\n",
              "      <td>72.00</td>\n",
              "      <td>5.300</td>\n",
              "    </tr>\n",
              "    <tr>\n",
              "      <th>2010-01-04</th>\n",
              "      <td>2010</td>\n",
              "      <td>1</td>\n",
              "      <td>4</td>\n",
              "      <td>-5.664</td>\n",
              "      <td>0.338</td>\n",
              "      <td>0.959</td>\n",
              "      <td>0.441</td>\n",
              "      <td>41.20</td>\n",
              "      <td>3.725</td>\n",
              "    </tr>\n",
              "    <tr>\n",
              "      <th>2010-01-05</th>\n",
              "      <td>2010</td>\n",
              "      <td>1</td>\n",
              "      <td>5</td>\n",
              "      <td>-2.719</td>\n",
              "      <td>0.382</td>\n",
              "      <td>0.934</td>\n",
              "      <td>0.525</td>\n",
              "      <td>58.46</td>\n",
              "      <td>4.325</td>\n",
              "    </tr>\n",
              "  </tbody>\n",
              "</table>\n",
              "</div>"
            ],
            "text/plain": [
              "            Year Month Day  AvgTemp     VP  MaxRH  MinRH      WR  MaxWG\n",
              "Datetime                                                               \n",
              "2010-01-01  2010     1   1   -4.459  0.262  0.866  0.276   54.20  6.125\n",
              "2010-01-02  2010     1   2   -1.732  0.335  0.938  0.300  124.00  8.970\n",
              "2010-01-03  2010     1   3   -1.364  0.411  0.971  0.377   72.00  5.300\n",
              "2010-01-04  2010     1   4   -5.664  0.338  0.959  0.441   41.20  3.725\n",
              "2010-01-05  2010     1   5   -2.719  0.382  0.934  0.525   58.46  4.325"
            ]
          },
          "metadata": {
            "tags": []
          },
          "execution_count": 102
        }
      ]
    },
    {
      "cell_type": "code",
      "metadata": {
        "id": "y9aNYR7k1owA"
      },
      "source": [
        "def encoding_data(X, y):\n",
        "  X_encoded = pd.get_dummies(X)\n",
        "  y = pd.DataFrame(y, index= y.index, columns= ['Prep'])\n",
        "  return X_encoded, y"
      ],
      "execution_count": null,
      "outputs": []
    },
    {
      "cell_type": "code",
      "metadata": {
        "id": "g3MbXvZjfSwh"
      },
      "source": [
        "#Split data\n",
        "\n",
        "def train_test_split(dataframe, y, trainsize=0.8):\n",
        "\n",
        "  import math\n",
        "\n",
        "  train_ratio = trainsize\n",
        "  train_size = math.ceil(len(dataframe) * train_ratio)\n",
        "\n",
        "    # Get train dataframe\n",
        "  X_train = dataframe.iloc[:train_size, :]\n",
        "  y_train = y.iloc[:train_size, :]\n",
        "\n",
        "  # Get train dataframe\n",
        "  X_test = dataframe.iloc[train_size:, :]\n",
        "  #X_test = dataframe.copy()\n",
        "  y_test = y.iloc[train_size:, :]\n",
        "\n",
        "\n",
        "  return X_train, X_test, y_train, y_test"
      ],
      "execution_count": null,
      "outputs": []
    },
    {
      "cell_type": "code",
      "metadata": {
        "id": "aEXx7wlCu5Lr"
      },
      "source": [
        "X_train, X_test, y_train, y_test  = train_test_split(X_encoded, y, trainsize=0.8)"
      ],
      "execution_count": null,
      "outputs": []
    },
    {
      "cell_type": "code",
      "metadata": {
        "id": "1X1Pe-vAjCER"
      },
      "source": [
        "from sklearn.linear_model import LinearRegression\n",
        "lr = LinearRegression()\n",
        "lr.fit(X_train, y_train)\n",
        "y = lr.predict(X_test)"
      ],
      "execution_count": null,
      "outputs": []
    },
    {
      "cell_type": "code",
      "metadata": {
        "colab": {
          "base_uri": "https://localhost:8080/"
        },
        "id": "Wq5RISnGkAYy",
        "outputId": "7cf8c54d-23a8-4f94-fecc-9e120da15e20"
      },
      "source": [
        "#Error\n",
        "from sklearn.metrics import mean_squared_error\n",
        "import math\n",
        "\n",
        "MSE = mean_squared_error(y_test, y)\n",
        " \n",
        "RMSE = math.sqrt(MSE)\n",
        "print(\"Root Mean Square Error:\\n\")\n",
        "print(RMSE)"
      ],
      "execution_count": null,
      "outputs": [
        {
          "output_type": "stream",
          "text": [
            "Root Mean Square Error:\n",
            "\n",
            "55.541302778105994\n"
          ],
          "name": "stdout"
        }
      ]
    },
    {
      "cell_type": "code",
      "metadata": {
        "id": "PDFl2uXB2btD"
      },
      "source": [
        "def prediction_model(X_train, X_test, y_train, y_test):\n",
        "  from sklearn.linear_model import LinearRegression\n",
        "  from sklearn.metrics import mean_squared_error\n",
        "  import math\n",
        "  lr = LinearRegression()\n",
        "  lr.fit(X_train, y_train)\n",
        "  y_pred = lr.predict(X_test)\n",
        "  \n",
        "  MSE = mean_squared_error(y_test, y_pred)\n",
        "  RMSE = math.sqrt(MSE)\n",
        "  print(\"Root Mean Square Error:\\n\")\n",
        "  print(RMSE)\n",
        "  return y_pred"
      ],
      "execution_count": null,
      "outputs": []
    },
    {
      "cell_type": "code",
      "metadata": {
        "id": "-mMB695vmUkq"
      },
      "source": [
        "#Visualize\n",
        "def visualize(X, y, y_hat):\n",
        "\n",
        "  # Set figure size\n",
        "  plt.figure(figsize=(30, 10))\n",
        "\n",
        "  # Plot actual price\n",
        "  plt.plot(X.index, y, label='Actual Prep')\n",
        "\n",
        "  # Plot predicted price\n",
        "  plt.plot(X.index, y_hat, label='Predicted Prep')\n",
        "\n",
        "  # Set title\n",
        "  plt.title('Prep')\n",
        "\n",
        "  # Set x-label\n",
        "  plt.xlabel('Period')\n",
        "\n",
        "  # Set y-label\n",
        "  plt.ylabel('Prep')\n",
        "\n",
        "  # Plot grid\n",
        "  plt.grid()\n",
        "\n",
        "  # Display legend\n",
        "  plt.legend()\n",
        "\n",
        "  # Display graph\n",
        "  plt.show()"
      ],
      "execution_count": null,
      "outputs": []
    },
    {
      "cell_type": "code",
      "metadata": {
        "colab": {
          "base_uri": "https://localhost:8080/",
          "height": 344
        },
        "id": "30HVakkat1gV",
        "outputId": "502de344-9a42-4791-98f0-561d784d042f"
      },
      "source": [
        "visualize(X_test,y_test,y)"
      ],
      "execution_count": null,
      "outputs": [
        {
          "output_type": "display_data",
          "data": {
            "image/png": "[encoded data removed]",
            "text/plain": [
              "<Figure size 2160x720 with 1 Axes>"
            ]
          },
          "metadata": {
            "tags": [],
            "needs_background": "light"
          }
        }
      ]
    },
    {
      "cell_type": "markdown",
      "metadata": {
        "id": "FU5saQvAyXJF"
      },
      "source": [
        "##Feature Engineering"
      ]
    },
    {
      "cell_type": "code",
      "metadata": {
        "id": "GbpqkbzbuSA4"
      },
      "source": [
        "# Create feature_engineer function to extract new features\n",
        "def feature_engineer(dataframe, feat_eng=False):\n",
        "\n",
        "  if feat_eng:\n",
        "    # Create a feature from previous day AvgTemp\n",
        "    dataframe['PreviousDayAvgTemp'] = dataframe[['AvgTemp']].shift(periods=1,fill_value=0)\n",
        "\n",
        "    # Create a feature from previous day VP\n",
        "    dataframe['PreviousDayVP'] = dataframe[['VP']].shift(periods=1,fill_value=0)\n",
        "\n",
        "    # Create a feature from previous day MaxRH\n",
        "    dataframe['PreviousDayMaxRH'] = dataframe[['MaxRH']].shift(periods=1,fill_value=0)\n",
        "    # Create a feature from previous day MinRH\n",
        "    dataframe['PreviousDayMinRH'] = dataframe[['MinRH']].shift(periods=1,fill_value=0)\n",
        "    # Create a feature from previous day WR\n",
        "    dataframe['PreviousDayWR'] = dataframe[['WR']].shift(periods=1,fill_value=0)\n",
        "    # Create a feature from previous day MaxWG\n",
        "    dataframe['PreviousDayMaxWG'] = dataframe[['MaxWG']].shift(periods=1,fill_value=0)\n",
        " \n",
        "  return dataframe"
      ],
      "execution_count": null,
      "outputs": []
    },
    {
      "cell_type": "code",
      "metadata": {
        "colab": {
          "base_uri": "https://localhost:8080/",
          "height": 640
        },
        "id": "Lru60irPysg0",
        "outputId": "78a7f7a4-b293-4a10-d79e-4f1307bd9083"
      },
      "source": [
        "# Test our feature_engineer function\n",
        "X_engineered = feature_engineer(X, feat_eng=True)\n",
        "X_engineered"
      ],
      "execution_count": null,
      "outputs": [
        {
          "output_type": "execute_result",
          "data": {
            "text/html": [
              "<div>\n",
              "<style scoped>\n",
              "    .dataframe tbody tr th:only-of-type {\n",
              "        vertical-align: middle;\n",
              "    }\n",
              "\n",
              "    .dataframe tbody tr th {\n",
              "        vertical-align: top;\n",
              "    }\n",
              "\n",
              "    .dataframe thead th {\n",
              "        text-align: right;\n",
              "    }\n",
              "</style>\n",
              "<table border=\"1\" class=\"dataframe\">\n",
              "  <thead>\n",
              "    <tr style=\"text-align: right;\">\n",
              "      <th></th>\n",
              "      <th>Year</th>\n",
              "      <th>Month</th>\n",
              "      <th>Day</th>\n",
              "      <th>AvgTemp</th>\n",
              "      <th>VP</th>\n",
              "      <th>MaxRH</th>\n",
              "      <th>MinRH</th>\n",
              "      <th>WR</th>\n",
              "      <th>MaxWG</th>\n",
              "      <th>PreviousDayAvgTemp</th>\n",
              "      <th>PreviousDayVP</th>\n",
              "      <th>PreviousDayMaxRH</th>\n",
              "      <th>PreviousDayMinRH</th>\n",
              "      <th>PreviousDayWR</th>\n",
              "      <th>PreviousDayMaxWG</th>\n",
              "    </tr>\n",
              "    <tr>\n",
              "      <th>Datetime</th>\n",
              "      <th></th>\n",
              "      <th></th>\n",
              "      <th></th>\n",
              "      <th></th>\n",
              "      <th></th>\n",
              "      <th></th>\n",
              "      <th></th>\n",
              "      <th></th>\n",
              "      <th></th>\n",
              "      <th></th>\n",
              "      <th></th>\n",
              "      <th></th>\n",
              "      <th></th>\n",
              "      <th></th>\n",
              "      <th></th>\n",
              "    </tr>\n",
              "  </thead>\n",
              "  <tbody>\n",
              "    <tr>\n",
              "      <th>2010-01-01</th>\n",
              "      <td>2010</td>\n",
              "      <td>1</td>\n",
              "      <td>1</td>\n",
              "      <td>-4.459</td>\n",
              "      <td>0.262</td>\n",
              "      <td>0.866</td>\n",
              "      <td>0.276</td>\n",
              "      <td>54.20</td>\n",
              "      <td>6.125</td>\n",
              "      <td>0.000</td>\n",
              "      <td>0.000</td>\n",
              "      <td>0.000</td>\n",
              "      <td>0.000</td>\n",
              "      <td>0.00</td>\n",
              "      <td>0.000</td>\n",
              "    </tr>\n",
              "    <tr>\n",
              "      <th>2010-01-02</th>\n",
              "      <td>2010</td>\n",
              "      <td>1</td>\n",
              "      <td>2</td>\n",
              "      <td>-1.732</td>\n",
              "      <td>0.335</td>\n",
              "      <td>0.938</td>\n",
              "      <td>0.300</td>\n",
              "      <td>124.00</td>\n",
              "      <td>8.970</td>\n",
              "      <td>-4.459</td>\n",
              "      <td>0.262</td>\n",
              "      <td>0.866</td>\n",
              "      <td>0.276</td>\n",
              "      <td>54.20</td>\n",
              "      <td>6.125</td>\n",
              "    </tr>\n",
              "    <tr>\n",
              "      <th>2010-01-03</th>\n",
              "      <td>2010</td>\n",
              "      <td>1</td>\n",
              "      <td>3</td>\n",
              "      <td>-1.364</td>\n",
              "      <td>0.411</td>\n",
              "      <td>0.971</td>\n",
              "      <td>0.377</td>\n",
              "      <td>72.00</td>\n",
              "      <td>5.300</td>\n",
              "      <td>-1.732</td>\n",
              "      <td>0.335</td>\n",
              "      <td>0.938</td>\n",
              "      <td>0.300</td>\n",
              "      <td>124.00</td>\n",
              "      <td>8.970</td>\n",
              "    </tr>\n",
              "    <tr>\n",
              "      <th>2010-01-04</th>\n",
              "      <td>2010</td>\n",
              "      <td>1</td>\n",
              "      <td>4</td>\n",
              "      <td>-5.664</td>\n",
              "      <td>0.338</td>\n",
              "      <td>0.959</td>\n",
              "      <td>0.441</td>\n",
              "      <td>41.20</td>\n",
              "      <td>3.725</td>\n",
              "      <td>-1.364</td>\n",
              "      <td>0.411</td>\n",
              "      <td>0.971</td>\n",
              "      <td>0.377</td>\n",
              "      <td>72.00</td>\n",
              "      <td>5.300</td>\n",
              "    </tr>\n",
              "    <tr>\n",
              "      <th>2010-01-05</th>\n",
              "      <td>2010</td>\n",
              "      <td>1</td>\n",
              "      <td>5</td>\n",
              "      <td>-2.719</td>\n",
              "      <td>0.382</td>\n",
              "      <td>0.934</td>\n",
              "      <td>0.525</td>\n",
              "      <td>58.46</td>\n",
              "      <td>4.325</td>\n",
              "      <td>-5.664</td>\n",
              "      <td>0.338</td>\n",
              "      <td>0.959</td>\n",
              "      <td>0.441</td>\n",
              "      <td>41.20</td>\n",
              "      <td>3.725</td>\n",
              "    </tr>\n",
              "    <tr>\n",
              "      <th>...</th>\n",
              "      <td>...</td>\n",
              "      <td>...</td>\n",
              "      <td>...</td>\n",
              "      <td>...</td>\n",
              "      <td>...</td>\n",
              "      <td>...</td>\n",
              "      <td>...</td>\n",
              "      <td>...</td>\n",
              "      <td>...</td>\n",
              "      <td>...</td>\n",
              "      <td>...</td>\n",
              "      <td>...</td>\n",
              "      <td>...</td>\n",
              "      <td>...</td>\n",
              "      <td>...</td>\n",
              "    </tr>\n",
              "    <tr>\n",
              "      <th>2020-12-27</th>\n",
              "      <td>2020</td>\n",
              "      <td>12</td>\n",
              "      <td>27</td>\n",
              "      <td>3.866</td>\n",
              "      <td>0.298</td>\n",
              "      <td>0.944</td>\n",
              "      <td>0.001</td>\n",
              "      <td>240.90</td>\n",
              "      <td>11.830</td>\n",
              "      <td>5.241</td>\n",
              "      <td>0.341</td>\n",
              "      <td>0.948</td>\n",
              "      <td>0.001</td>\n",
              "      <td>189.60</td>\n",
              "      <td>14.000</td>\n",
              "    </tr>\n",
              "    <tr>\n",
              "      <th>2020-12-28</th>\n",
              "      <td>2020</td>\n",
              "      <td>12</td>\n",
              "      <td>28</td>\n",
              "      <td>-3.694</td>\n",
              "      <td>0.446</td>\n",
              "      <td>1.045</td>\n",
              "      <td>0.001</td>\n",
              "      <td>47.14</td>\n",
              "      <td>3.350</td>\n",
              "      <td>3.866</td>\n",
              "      <td>0.298</td>\n",
              "      <td>0.944</td>\n",
              "      <td>0.001</td>\n",
              "      <td>240.90</td>\n",
              "      <td>11.830</td>\n",
              "    </tr>\n",
              "    <tr>\n",
              "      <th>2020-12-29</th>\n",
              "      <td>2020</td>\n",
              "      <td>12</td>\n",
              "      <td>29</td>\n",
              "      <td>-3.675</td>\n",
              "      <td>0.330</td>\n",
              "      <td>0.999</td>\n",
              "      <td>0.000</td>\n",
              "      <td>161.40</td>\n",
              "      <td>10.480</td>\n",
              "      <td>-3.694</td>\n",
              "      <td>0.446</td>\n",
              "      <td>1.045</td>\n",
              "      <td>0.001</td>\n",
              "      <td>47.14</td>\n",
              "      <td>3.350</td>\n",
              "    </tr>\n",
              "    <tr>\n",
              "      <th>2020-12-30</th>\n",
              "      <td>2020</td>\n",
              "      <td>12</td>\n",
              "      <td>30</td>\n",
              "      <td>-10.070</td>\n",
              "      <td>0.223</td>\n",
              "      <td>1.043</td>\n",
              "      <td>0.001</td>\n",
              "      <td>30.06</td>\n",
              "      <td>3.050</td>\n",
              "      <td>-3.675</td>\n",
              "      <td>0.330</td>\n",
              "      <td>0.999</td>\n",
              "      <td>0.000</td>\n",
              "      <td>161.40</td>\n",
              "      <td>10.480</td>\n",
              "    </tr>\n",
              "    <tr>\n",
              "      <th>2020-12-31</th>\n",
              "      <td>2020</td>\n",
              "      <td>12</td>\n",
              "      <td>31</td>\n",
              "      <td>-2.413</td>\n",
              "      <td>0.326</td>\n",
              "      <td>0.999</td>\n",
              "      <td>0.001</td>\n",
              "      <td>45.10</td>\n",
              "      <td>3.125</td>\n",
              "      <td>-10.070</td>\n",
              "      <td>0.223</td>\n",
              "      <td>1.043</td>\n",
              "      <td>0.001</td>\n",
              "      <td>30.06</td>\n",
              "      <td>3.050</td>\n",
              "    </tr>\n",
              "  </tbody>\n",
              "</table>\n",
              "<p>3994 rows × 15 columns</p>\n",
              "</div>"
            ],
            "text/plain": [
              "            Year Month Day  ...  PreviousDayMinRH  PreviousDayWR  PreviousDayMaxWG\n",
              "Datetime                    ...                                                   \n",
              "2010-01-01  2010     1   1  ...             0.000           0.00             0.000\n",
              "2010-01-02  2010     1   2  ...             0.276          54.20             6.125\n",
              "2010-01-03  2010     1   3  ...             0.300         124.00             8.970\n",
              "2010-01-04  2010     1   4  ...             0.377          72.00             5.300\n",
              "2010-01-05  2010     1   5  ...             0.441          41.20             3.725\n",
              "...          ...   ...  ..  ...               ...            ...               ...\n",
              "2020-12-27  2020    12  27  ...             0.001         189.60            14.000\n",
              "2020-12-28  2020    12  28  ...             0.001         240.90            11.830\n",
              "2020-12-29  2020    12  29  ...             0.001          47.14             3.350\n",
              "2020-12-30  2020    12  30  ...             0.000         161.40            10.480\n",
              "2020-12-31  2020    12  31  ...             0.001          30.06             3.050\n",
              "\n",
              "[3994 rows x 15 columns]"
            ]
          },
          "metadata": {
            "tags": []
          },
          "execution_count": 129
        }
      ]
    },
    {
      "cell_type": "markdown",
      "metadata": {
        "id": "dTDHccbKzp5H"
      },
      "source": [
        "##Data Pipeline"
      ]
    },
    {
      "cell_type": "code",
      "metadata": {
        "id": "X1_UhoeZyunl"
      },
      "source": [
        "def prediction_model_pipeline(filename, feat_eng = True):\n",
        "  #Get data\n",
        "  df = getData(filename)\n",
        "  df = fill_missing_value(df)\n",
        "  #Get x y\n",
        "  X, y = get_X_y(df)\n",
        "\n",
        "  #Feature engineering\n",
        "  X_engineered = feature_engineer(X, feat_eng=True)\n",
        "\n",
        "  #Encoded\n",
        "  X_eng_encoded, y = encoding_data(X_engineered, y)\n",
        "\n",
        "  #Split\n",
        "  X_train, X_test, y_train, y_test  = train_test_split(X_eng_encoded, y, trainsize=0.8)\n",
        "\n",
        "  #Model\n",
        "  y_pred = prediction_model(X_train, X_test, y_train, y_test)\n",
        "\n",
        "  #Visualization\n",
        "  visualize(X_test,y_test,y_pred)"
      ],
      "execution_count": null,
      "outputs": []
    },
    {
      "cell_type": "code",
      "metadata": {
        "colab": {
          "base_uri": "https://localhost:8080/",
          "height": 395
        },
        "id": "2e31YziC3XZv",
        "outputId": "677ef1fb-d760-4de1-f740-ab5cf2a31393"
      },
      "source": [
        "prediction_model_pipeline('rawdata_results_test.csv', feat_eng = True)"
      ],
      "execution_count": null,
      "outputs": [
        {
          "output_type": "stream",
          "text": [
            "Root Mean Square Error:\n",
            "\n",
            "73.11948743888803\n"
          ],
          "name": "stdout"
        },
        {
          "output_type": "display_data",
          "data": {
            "image/png": "[encoded data removed]",
            "text/plain": [
              "<Figure size 2160x720 with 1 Axes>"
            ]
          },
          "metadata": {
            "tags": [],
            "needs_background": "light"
          }
        }
      ]
    },
    {
      "cell_type": "markdown",
      "metadata": {
        "id": "QKEYGY3AI0nV"
      },
      "source": [
        "###Forecast Model"
      ]
    },
    {
      "cell_type": "code",
      "metadata": {
        "colab": {
          "base_uri": "https://localhost:8080/",
          "height": 513
        },
        "id": "ie9jILkpQTq-",
        "outputId": "35b2f0cb-4d4b-41ec-d513-f21dbd9aa9ed"
      },
      "source": [
        "pip install pmdarima"
      ],
      "execution_count": null,
      "outputs": [
        {
          "output_type": "stream",
          "text": [
            "Collecting pmdarima\n",
            "\u001b[?25l  Downloading https://files.pythonhosted.org/packages/f4/c2/2a94bce6bba1deac3c0b16dbb14f28de0b9035e3211919cae8448455aa65/pmdarima-1.8.2-cp37-cp37m-manylinux1_x86_64.whl (1.5MB)\n",
            "\r\u001b[K     |▎                               | 10kB 13.4MB/s eta 0:00:01\r\u001b[K     |▌                               | 20kB 18.4MB/s eta 0:00:01\r\u001b[K     |▊                               | 30kB 22.0MB/s eta 0:00:01\r\u001b[K     |█                               | 40kB 24.0MB/s eta 0:00:01\r\u001b[K     |█▏                              | 51kB 25.7MB/s eta 0:00:01\r\u001b[K     |█▍                              | 61kB 27.6MB/s eta 0:00:01\r\u001b[K     |█▋                              | 71kB 26.1MB/s eta 0:00:01\r\u001b[K     |█▉                              | 81kB 25.1MB/s eta 0:00:01\r\u001b[K     |██                              | 92kB 25.9MB/s eta 0:00:01\r\u001b[K     |██▎                             | 102kB 24.2MB/s eta 0:00:01\r\u001b[K     |██▌                             | 112kB 24.2MB/s eta 0:00:01\r\u001b[K     |██▊                             | 122kB 24.2MB/s eta 0:00:01\r\u001b[K     |███                             | 133kB 24.2MB/s eta 0:00:01\r\u001b[K     |███▏                            | 143kB 24.2MB/s eta 0:00:01\r\u001b[K     |███▍                            | 153kB 24.2MB/s eta 0:00:01\r\u001b[K     |███▋                            | 163kB 24.2MB/s eta 0:00:01\r\u001b[K     |███▉                            | 174kB 24.2MB/s eta 0:00:01\r\u001b[K     |████                            | 184kB 24.2MB/s eta 0:00:01\r\u001b[K     |████▎                           | 194kB 24.2MB/s eta 0:00:01\r\u001b[K     |████▌                           | 204kB 24.2MB/s eta 0:00:01\r\u001b[K     |████▊                           | 215kB 24.2MB/s eta 0:00:01\r\u001b[K     |█████                           | 225kB 24.2MB/s eta 0:00:01\r\u001b[K     |█████▏                          | 235kB 24.2MB/s eta 0:00:01\r\u001b[K     |█████▍                          | 245kB 24.2MB/s eta 0:00:01\r\u001b[K     |█████▋                          | 256kB 24.2MB/s eta 0:00:01\r\u001b[K     |█████▉                          | 266kB 24.2MB/s eta 0:00:01\r\u001b[K     |██████                          | 276kB 24.2MB/s eta 0:00:01\r\u001b[K     |██████▎                         | 286kB 24.2MB/s eta 0:00:01\r\u001b[K     |██████▌                         | 296kB 24.2MB/s eta 0:00:01\r\u001b[K     |██████▊                         | 307kB 24.2MB/s eta 0:00:01\r\u001b[K     |███████                         | 317kB 24.2MB/s eta 0:00:01\r\u001b[K     |███████▏                        | 327kB 24.2MB/s eta 0:00:01\r\u001b[K     |███████▍                        | 337kB 24.2MB/s eta 0:00:01\r\u001b[K     |███████▋                        | 348kB 24.2MB/s eta 0:00:01\r\u001b[K     |███████▉                        | 358kB 24.2MB/s eta 0:00:01\r\u001b[K     |████████                        | 368kB 24.2MB/s eta 0:00:01\r\u001b[K     |████████▎                       | 378kB 24.2MB/s eta 0:00:01\r\u001b[K     |████████▌                       | 389kB 24.2MB/s eta 0:00:01\r\u001b[K     |████████▊                       | 399kB 24.2MB/s eta 0:00:01\r\u001b[K     |█████████                       | 409kB 24.2MB/s eta 0:00:01\r\u001b[K     |█████████▎                      | 419kB 24.2MB/s eta 0:00:01\r\u001b[K     |█████████▌                      | 430kB 24.2MB/s eta 0:00:01\r\u001b[K     |█████████▊                      | 440kB 24.2MB/s eta 0:00:01\r\u001b[K     |██████████                      | 450kB 24.2MB/s eta 0:00:01\r\u001b[K     |██████████▏                     | 460kB 24.2MB/s eta 0:00:01\r\u001b[K     |██████████▍                     | 471kB 24.2MB/s eta 0:00:01\r\u001b[K     |██████████▋                     | 481kB 24.2MB/s eta 0:00:01\r\u001b[K     |██████████▉                     | 491kB 24.2MB/s eta 0:00:01\r\u001b[K     |███████████                     | 501kB 24.2MB/s eta 0:00:01\r\u001b[K     |███████████▎                    | 512kB 24.2MB/s eta 0:00:01\r\u001b[K     |███████████▌                    | 522kB 24.2MB/s eta 0:00:01\r\u001b[K     |███████████▊                    | 532kB 24.2MB/s eta 0:00:01\r\u001b[K     |████████████                    | 542kB 24.2MB/s eta 0:00:01\r\u001b[K     |████████████▏                   | 552kB 24.2MB/s eta 0:00:01\r\u001b[K     |████████████▍                   | 563kB 24.2MB/s eta 0:00:01\r\u001b[K     |████████████▋                   | 573kB 24.2MB/s eta 0:00:01\r\u001b[K     |████████████▉                   | 583kB 24.2MB/s eta 0:00:01\r\u001b[K     |█████████████                   | 593kB 24.2MB/s eta 0:00:01\r\u001b[K     |█████████████▎                  | 604kB 24.2MB/s eta 0:00:01\r\u001b[K     |█████████████▌                  | 614kB 24.2MB/s eta 0:00:01\r\u001b[K     |█████████████▊                  | 624kB 24.2MB/s eta 0:00:01\r\u001b[K     |██████████████                  | 634kB 24.2MB/s eta 0:00:01\r\u001b[K     |██████████████▏                 | 645kB 24.2MB/s eta 0:00:01\r\u001b[K     |██████████████▍                 | 655kB 24.2MB/s eta 0:00:01\r\u001b[K     |██████████████▋                 | 665kB 24.2MB/s eta 0:00:01\r\u001b[K     |██████████████▉                 | 675kB 24.2MB/s eta 0:00:01\r\u001b[K     |███████████████                 | 686kB 24.2MB/s eta 0:00:01\r\u001b[K     |███████████████▎                | 696kB 24.2MB/s eta 0:00:01\r\u001b[K     |███████████████▌                | 706kB 24.2MB/s eta 0:00:01\r\u001b[K     |███████████████▊                | 716kB 24.2MB/s eta 0:00:01\r\u001b[K     |████████████████                | 727kB 24.2MB/s eta 0:00:01\r\u001b[K     |████████████████▏               | 737kB 24.2MB/s eta 0:00:01\r\u001b[K     |████████████████▍               | 747kB 24.2MB/s eta 0:00:01\r\u001b[K     |████████████████▋               | 757kB 24.2MB/s eta 0:00:01\r\u001b[K     |████████████████▉               | 768kB 24.2MB/s eta 0:00:01\r\u001b[K     |█████████████████               | 778kB 24.2MB/s eta 0:00:01\r\u001b[K     |█████████████████▎              | 788kB 24.2MB/s eta 0:00:01\r\u001b[K     |█████████████████▌              | 798kB 24.2MB/s eta 0:00:01\r\u001b[K     |█████████████████▊              | 808kB 24.2MB/s eta 0:00:01\r\u001b[K     |██████████████████              | 819kB 24.2MB/s eta 0:00:01\r\u001b[K     |██████████████████▎             | 829kB 24.2MB/s eta 0:00:01\r\u001b[K     |██████████████████▌             | 839kB 24.2MB/s eta 0:00:01\r\u001b[K     |██████████████████▊             | 849kB 24.2MB/s eta 0:00:01\r\u001b[K     |███████████████████             | 860kB 24.2MB/s eta 0:00:01\r\u001b[K     |███████████████████▏            | 870kB 24.2MB/s eta 0:00:01\r\u001b[K     |███████████████████▍            | 880kB 24.2MB/s eta 0:00:01\r\u001b[K     |███████████████████▋            | 890kB 24.2MB/s eta 0:00:01\r\u001b[K     |███████████████████▉            | 901kB 24.2MB/s eta 0:00:01\r\u001b[K     |████████████████████            | 911kB 24.2MB/s eta 0:00:01\r\u001b[K     |████████████████████▎           | 921kB 24.2MB/s eta 0:00:01\r\u001b[K     |████████████████████▌           | 931kB 24.2MB/s eta 0:00:01\r\u001b[K     |████████████████████▊           | 942kB 24.2MB/s eta 0:00:01\r\u001b[K     |█████████████████████           | 952kB 24.2MB/s eta 0:00:01\r\u001b[K     |█████████████████████▏          | 962kB 24.2MB/s eta 0:00:01\r\u001b[K     |█████████████████████▍          | 972kB 24.2MB/s eta 0:00:01\r\u001b[K     |█████████████████████▋          | 983kB 24.2MB/s eta 0:00:01\r\u001b[K     |█████████████████████▉          | 993kB 24.2MB/s eta 0:00:01\r\u001b[K     |██████████████████████          | 1.0MB 24.2MB/s eta 0:00:01\r\u001b[K     |██████████████████████▎         | 1.0MB 24.2MB/s eta 0:00:01\r\u001b[K     |██████████████████████▌         | 1.0MB 24.2MB/s eta 0:00:01\r\u001b[K     |██████████████████████▊         | 1.0MB 24.2MB/s eta 0:00:01\r\u001b[K     |███████████████████████         | 1.0MB 24.2MB/s eta 0:00:01\r\u001b[K     |███████████████████████▏        | 1.1MB 24.2MB/s eta 0:00:01\r\u001b[K     |███████████████████████▍        | 1.1MB 24.2MB/s eta 0:00:01\r\u001b[K     |███████████████████████▋        | 1.1MB 24.2MB/s eta 0:00:01\r\u001b[K     |███████████████████████▉        | 1.1MB 24.2MB/s eta 0:00:01\r\u001b[K     |████████████████████████        | 1.1MB 24.2MB/s eta 0:00:01\r\u001b[K     |████████████████████████▎       | 1.1MB 24.2MB/s eta 0:00:01\r\u001b[K     |████████████████████████▌       | 1.1MB 24.2MB/s eta 0:00:01\r\u001b[K     |████████████████████████▊       | 1.1MB 24.2MB/s eta 0:00:01\r\u001b[K     |█████████████████████████       | 1.1MB 24.2MB/s eta 0:00:01\r\u001b[K     |█████████████████████████▏      | 1.1MB 24.2MB/s eta 0:00:01\r\u001b[K     |█████████████████████████▍      | 1.2MB 24.2MB/s eta 0:00:01\r\u001b[K     |█████████████████████████▋      | 1.2MB 24.2MB/s eta 0:00:01\r\u001b[K     |█████████████████████████▉      | 1.2MB 24.2MB/s eta 0:00:01\r\u001b[K     |██████████████████████████      | 1.2MB 24.2MB/s eta 0:00:01\r\u001b[K     |██████████████████████████▎     | 1.2MB 24.2MB/s eta 0:00:01\r\u001b[K     |██████████████████████████▌     | 1.2MB 24.2MB/s eta 0:00:01\r\u001b[K     |██████████████████████████▊     | 1.2MB 24.2MB/s eta 0:00:01\r\u001b[K     |███████████████████████████     | 1.2MB 24.2MB/s eta 0:00:01\r\u001b[K     |███████████████████████████▎    | 1.2MB 24.2MB/s eta 0:00:01\r\u001b[K     |███████████████████████████▌    | 1.2MB 24.2MB/s eta 0:00:01\r\u001b[K     |███████████████████████████▊    | 1.3MB 24.2MB/s eta 0:00:01\r\u001b[K     |████████████████████████████    | 1.3MB 24.2MB/s eta 0:00:01\r\u001b[K     |████████████████████████████▏   | 1.3MB 24.2MB/s eta 0:00:01\r\u001b[K     |████████████████████████████▍   | 1.3MB 24.2MB/s eta 0:00:01\r\u001b[K     |████████████████████████████▋   | 1.3MB 24.2MB/s eta 0:00:01\r\u001b[K     |████████████████████████████▉   | 1.3MB 24.2MB/s eta 0:00:01\r\u001b[K     |█████████████████████████████   | 1.3MB 24.2MB/s eta 0:00:01\r\u001b[K     |█████████████████████████████▎  | 1.3MB 24.2MB/s eta 0:00:01\r\u001b[K     |█████████████████████████████▌  | 1.3MB 24.2MB/s eta 0:00:01\r\u001b[K     |█████████████████████████████▊  | 1.4MB 24.2MB/s eta 0:00:01\r\u001b[K     |██████████████████████████████  | 1.4MB 24.2MB/s eta 0:00:01\r\u001b[K     |██████████████████████████████▏ | 1.4MB 24.2MB/s eta 0:00:01\r\u001b[K     |██████████████████████████████▍ | 1.4MB 24.2MB/s eta 0:00:01\r\u001b[K     |██████████████████████████████▋ | 1.4MB 24.2MB/s eta 0:00:01\r\u001b[K     |██████████████████████████████▉ | 1.4MB 24.2MB/s eta 0:00:01\r\u001b[K     |███████████████████████████████ | 1.4MB 24.2MB/s eta 0:00:01\r\u001b[K     |███████████████████████████████▎| 1.4MB 24.2MB/s eta 0:00:01\r\u001b[K     |███████████████████████████████▌| 1.4MB 24.2MB/s eta 0:00:01\r\u001b[K     |███████████████████████████████▊| 1.4MB 24.2MB/s eta 0:00:01\r\u001b[K     |████████████████████████████████| 1.5MB 24.2MB/s eta 0:00:01\r\u001b[K     |████████████████████████████████| 1.5MB 24.2MB/s \n",
            "\u001b[?25hRequirement already satisfied: pandas>=0.19 in /usr/local/lib/python3.7/dist-packages (from pmdarima) (1.1.5)\n",
            "Requirement already satisfied: setuptools!=50.0.0,>=38.6.0 in /usr/local/lib/python3.7/dist-packages (from pmdarima) (56.1.0)\n",
            "Requirement already satisfied: numpy~=1.19.0 in /usr/local/lib/python3.7/dist-packages (from pmdarima) (1.19.5)\n",
            "Requirement already satisfied: scipy>=1.3.2 in /usr/local/lib/python3.7/dist-packages (from pmdarima) (1.4.1)\n",
            "Requirement already satisfied: Cython!=0.29.18,>=0.29 in /usr/local/lib/python3.7/dist-packages (from pmdarima) (0.29.23)\n",
            "Requirement already satisfied: urllib3 in /usr/local/lib/python3.7/dist-packages (from pmdarima) (1.24.3)\n",
            "Collecting statsmodels!=0.12.0,>=0.11\n",
            "\u001b[?25l  Downloading https://files.pythonhosted.org/packages/da/69/8eef30a6237c54f3c0b524140e2975f4b1eea3489b45eb3339574fc8acee/statsmodels-0.12.2-cp37-cp37m-manylinux1_x86_64.whl (9.5MB)\n",
            "\u001b[K     |████████████████████████████████| 9.5MB 31.3MB/s \n",
            "\u001b[?25hRequirement already satisfied: scikit-learn>=0.22 in /usr/local/lib/python3.7/dist-packages (from pmdarima) (0.22.2.post1)\n",
            "Requirement already satisfied: joblib>=0.11 in /usr/local/lib/python3.7/dist-packages (from pmdarima) (1.0.1)\n",
            "Requirement already satisfied: python-dateutil>=2.7.3 in /usr/local/lib/python3.7/dist-packages (from pandas>=0.19->pmdarima) (2.8.1)\n",
            "Requirement already satisfied: pytz>=2017.2 in /usr/local/lib/python3.7/dist-packages (from pandas>=0.19->pmdarima) (2018.9)\n",
            "Requirement already satisfied: patsy>=0.5 in /usr/local/lib/python3.7/dist-packages (from statsmodels!=0.12.0,>=0.11->pmdarima) (0.5.1)\n",
            "Requirement already satisfied: six>=1.5 in /usr/local/lib/python3.7/dist-packages (from python-dateutil>=2.7.3->pandas>=0.19->pmdarima) (1.15.0)\n",
            "Installing collected packages: statsmodels, pmdarima\n",
            "  Found existing installation: statsmodels 0.10.2\n",
            "    Uninstalling statsmodels-0.10.2:\n",
            "      Successfully uninstalled statsmodels-0.10.2\n",
            "Successfully installed pmdarima-1.8.2 statsmodels-0.12.2\n"
          ],
          "name": "stdout"
        },
        {
          "output_type": "display_data",
          "data": {
            "application/vnd.colab-display-data+json": {
              "pip_warning": {
                "packages": [
                  "statsmodels"
                ]
              }
            }
          },
          "metadata": {
            "tags": []
          }
        }
      ]
    },
    {
      "cell_type": "code",
      "metadata": {
        "id": "UmTtetE0RF8R"
      },
      "source": [
        "data = getData('rawdata_results_test.csv')"
      ],
      "execution_count": null,
      "outputs": []
    },
    {
      "cell_type": "code",
      "metadata": {
        "colab": {
          "base_uri": "https://localhost:8080/"
        },
        "id": "VNrNz6WMLoB5",
        "outputId": "994332f0-883f-4450-9bd5-9ea672c93478"
      },
      "source": [
        "#Check Stationarity Data\n",
        "from statsmodels.tsa.stattools import adfuller\n",
        "def ad_test(dataset):\n",
        "     dftest = adfuller(dataset, autolag = 'AIC')\n",
        "     print(\"1. ADF : \",dftest[0])\n",
        "     print(\"2. P-Value : \", dftest[1])\n",
        "     print(\"3. Num Of Lags : \", dftest[2])\n",
        "     print(\"4. Num Of Observations Used For ADF Regression:\", dftest[3])\n",
        "     print(\"5. Critical Values :\")\n",
        "     for key, val in dftest[4].items():\n",
        "         print(\"\\t{}: {} - The data is {} stationary with {}% confidence\".format(k, v, \"not\" if v<dftest[0] else \"\", 100-int(k[:-1])))\n",
        "ad_test(data['Prep'])"
      ],
      "execution_count": null,
      "outputs": [
        {
          "output_type": "stream",
          "text": [
            "1. ADF :  -8.521541233887849\n",
            "2. P-Value :  1.0972577301523728e-13\n",
            "3. Num Of Lags :  31\n",
            "4. Num Of Observations Used For ADF Regression: 3962\n",
            "5. Critical Values :\n",
            "\t10%: -2.5671584676893895 - The data is  stationary with 90% confidence\n",
            "\t10%: -2.5671584676893895 - The data is  stationary with 90% confidence\n",
            "\t10%: -2.5671584676893895 - The data is  stationary with 90% confidence\n"
          ],
          "name": "stdout"
        }
      ]
    },
    {
      "cell_type": "code",
      "metadata": {
        "colab": {
          "base_uri": "https://localhost:8080/"
        },
        "id": "pGsvk88BMeaE",
        "outputId": "3ad768c5-1db8-4e7b-a2ec-d23c7b0d0712"
      },
      "source": [
        "from pmdarima import auto_arima\n",
        "stepwise_fit = auto_arima(data['Prep'], trace=True,suppress_warnings=True)"
      ],
      "execution_count": null,
      "outputs": [
        {
          "output_type": "stream",
          "text": [
            "Performing stepwise search to minimize aic\n",
            " ARIMA(2,0,2)(0,0,0)[0] intercept   : AIC=20555.256, Time=7.15 sec\n",
            " ARIMA(0,0,0)(0,0,0)[0] intercept   : AIC=20954.366, Time=0.11 sec\n",
            " ARIMA(1,0,0)(0,0,0)[0] intercept   : AIC=20573.209, Time=0.21 sec\n",
            " ARIMA(0,0,1)(0,0,0)[0] intercept   : AIC=20597.673, Time=0.56 sec\n",
            " ARIMA(0,0,0)(0,0,0)[0]             : AIC=21234.473, Time=0.07 sec\n",
            " ARIMA(1,0,2)(0,0,0)[0] intercept   : AIC=20559.776, Time=4.20 sec\n",
            " ARIMA(2,0,1)(0,0,0)[0] intercept   : AIC=20576.706, Time=2.58 sec\n",
            " ARIMA(3,0,2)(0,0,0)[0] intercept   : AIC=20572.655, Time=7.44 sec\n",
            " ARIMA(2,0,3)(0,0,0)[0] intercept   : AIC=20556.021, Time=7.32 sec\n",
            " ARIMA(1,0,1)(0,0,0)[0] intercept   : AIC=20575.126, Time=0.88 sec\n",
            " ARIMA(1,0,3)(0,0,0)[0] intercept   : AIC=20555.528, Time=6.17 sec\n",
            " ARIMA(3,0,1)(0,0,0)[0] intercept   : AIC=20555.511, Time=6.77 sec\n",
            " ARIMA(3,0,3)(0,0,0)[0] intercept   : AIC=20557.913, Time=8.42 sec\n",
            " ARIMA(2,0,2)(0,0,0)[0]             : AIC=20575.714, Time=1.70 sec\n",
            "\n",
            "Best model:  ARIMA(2,0,2)(0,0,0)[0] intercept\n",
            "Total fit time: 53.608 seconds\n"
          ],
          "name": "stdout"
        }
      ]
    },
    {
      "cell_type": "markdown",
      "metadata": {
        "id": "WfXs_-obUDcI"
      },
      "source": [
        "Train model"
      ]
    },
    {
      "cell_type": "code",
      "metadata": {
        "id": "3wr3MGySUHSu"
      },
      "source": [
        "df_new = fill_missing_value(data)"
      ],
      "execution_count": null,
      "outputs": []
    },
    {
      "cell_type": "code",
      "metadata": {
        "id": "fgS-z54WUyJ7"
      },
      "source": [
        "df_new = pd.DataFrame(df_new[['Prep']])"
      ],
      "execution_count": null,
      "outputs": []
    },
    {
      "cell_type": "code",
      "metadata": {
        "colab": {
          "base_uri": "https://localhost:8080/",
          "height": 450
        },
        "id": "gzb9h3FdVaPq",
        "outputId": "baaeaa08-cf1c-4698-be50-5df3a65e2c88"
      },
      "source": [
        "df_new"
      ],
      "execution_count": null,
      "outputs": [
        {
          "output_type": "execute_result",
          "data": {
            "text/html": [
              "<div>\n",
              "<style scoped>\n",
              "    .dataframe tbody tr th:only-of-type {\n",
              "        vertical-align: middle;\n",
              "    }\n",
              "\n",
              "    .dataframe tbody tr th {\n",
              "        vertical-align: top;\n",
              "    }\n",
              "\n",
              "    .dataframe thead th {\n",
              "        text-align: right;\n",
              "    }\n",
              "</style>\n",
              "<table border=\"1\" class=\"dataframe\">\n",
              "  <thead>\n",
              "    <tr style=\"text-align: right;\">\n",
              "      <th></th>\n",
              "      <th>Prep</th>\n",
              "    </tr>\n",
              "    <tr>\n",
              "      <th>Datetime</th>\n",
              "      <th></th>\n",
              "    </tr>\n",
              "  </thead>\n",
              "  <tbody>\n",
              "    <tr>\n",
              "      <th>2010-01-01</th>\n",
              "      <td>0.000</td>\n",
              "    </tr>\n",
              "    <tr>\n",
              "      <th>2010-01-02</th>\n",
              "      <td>0.000</td>\n",
              "    </tr>\n",
              "    <tr>\n",
              "      <th>2010-01-03</th>\n",
              "      <td>0.000</td>\n",
              "    </tr>\n",
              "    <tr>\n",
              "      <th>2010-01-04</th>\n",
              "      <td>1.778</td>\n",
              "    </tr>\n",
              "    <tr>\n",
              "      <th>2010-01-05</th>\n",
              "      <td>0.000</td>\n",
              "    </tr>\n",
              "    <tr>\n",
              "      <th>...</th>\n",
              "      <td>...</td>\n",
              "    </tr>\n",
              "    <tr>\n",
              "      <th>2020-12-27</th>\n",
              "      <td>0.000</td>\n",
              "    </tr>\n",
              "    <tr>\n",
              "      <th>2020-12-28</th>\n",
              "      <td>0.000</td>\n",
              "    </tr>\n",
              "    <tr>\n",
              "      <th>2020-12-29</th>\n",
              "      <td>0.000</td>\n",
              "    </tr>\n",
              "    <tr>\n",
              "      <th>2020-12-30</th>\n",
              "      <td>0.000</td>\n",
              "    </tr>\n",
              "    <tr>\n",
              "      <th>2020-12-31</th>\n",
              "      <td>2.794</td>\n",
              "    </tr>\n",
              "  </tbody>\n",
              "</table>\n",
              "<p>3994 rows × 1 columns</p>\n",
              "</div>"
            ],
            "text/plain": [
              "             Prep\n",
              "Datetime         \n",
              "2010-01-01  0.000\n",
              "2010-01-02  0.000\n",
              "2010-01-03  0.000\n",
              "2010-01-04  1.778\n",
              "2010-01-05  0.000\n",
              "...           ...\n",
              "2020-12-27  0.000\n",
              "2020-12-28  0.000\n",
              "2020-12-29  0.000\n",
              "2020-12-30  0.000\n",
              "2020-12-31  2.794\n",
              "\n",
              "[3994 rows x 1 columns]"
            ]
          },
          "metadata": {
            "tags": []
          },
          "execution_count": 18
        }
      ]
    },
    {
      "cell_type": "code",
      "metadata": {
        "id": "DRaDB5wmUiY0"
      },
      "source": [
        "def f_train_test_split(dataframe,trainsize=0.8):\n",
        "\n",
        "  import math\n",
        "\n",
        "  train_ratio = trainsize\n",
        "  train_size = math.ceil(len(dataframe) * train_ratio)\n",
        "\n",
        "    # Get train dataframe\n",
        "  X_train = dataframe.iloc[:train_size, :]\n",
        "  #y_train = y.iloc[:train_size, :]\n",
        "\n",
        "  # Get train dataframe\n",
        "  X_test = dataframe.iloc[train_size:, :]\n",
        "  #X_test = dataframe.copy()\n",
        "  #y_test = y.iloc[train_size:, :]\n",
        "\n",
        "\n",
        "  return X_train, X_test"
      ],
      "execution_count": null,
      "outputs": []
    },
    {
      "cell_type": "code",
      "metadata": {
        "id": "xX_IWO9_U6IM"
      },
      "source": [
        "train, test = f_train_test_split(df_new)"
      ],
      "execution_count": null,
      "outputs": []
    },
    {
      "cell_type": "code",
      "metadata": {
        "colab": {
          "base_uri": "https://localhost:8080/"
        },
        "id": "RtgQnLT1VwzW",
        "outputId": "9a33f256-9bcb-47f0-ad74-662694b03fc8"
      },
      "source": [
        "train.shape"
      ],
      "execution_count": null,
      "outputs": [
        {
          "output_type": "execute_result",
          "data": {
            "text/plain": [
              "(3196, 1)"
            ]
          },
          "metadata": {
            "tags": []
          },
          "execution_count": 44
        }
      ]
    },
    {
      "cell_type": "code",
      "metadata": {
        "colab": {
          "base_uri": "https://localhost:8080/",
          "height": 418
        },
        "id": "NgLVYlQGQ26k",
        "outputId": "10591830-ff45-4e84-96ed-b5e7e23a29f2"
      },
      "source": [
        "from statsmodels.tsa.arima_model import ARIMA\n",
        "import warnings\n",
        "warnings.filterwarnings('ignore')\n",
        "model=ARIMA(df_new,order=(3,0,1))\n",
        "model=model.fit()\n",
        "model.summary()"
      ],
      "execution_count": null,
      "outputs": [
        {
          "output_type": "execute_result",
          "data": {
            "text/html": [
              "<table class=\"simpletable\">\n",
              "<caption>ARMA Model Results</caption>\n",
              "<tr>\n",
              "  <th>Dep. Variable:</th>       <td>Prep</td>       <th>  No. Observations:  </th>    <td>3994</td>   \n",
              "</tr>\n",
              "<tr>\n",
              "  <th>Model:</th>            <td>ARMA(3, 1)</td>    <th>  Log Likelihood     </th> <td>-10271.755</td>\n",
              "</tr>\n",
              "<tr>\n",
              "  <th>Method:</th>             <td>css-mle</td>     <th>  S.D. of innovations</th>    <td>3.167</td>  \n",
              "</tr>\n",
              "<tr>\n",
              "  <th>Date:</th>          <td>Thu, 27 May 2021</td> <th>  AIC                </th>  <td>20555.511</td>\n",
              "</tr>\n",
              "<tr>\n",
              "  <th>Time:</th>              <td>16:11:31</td>     <th>  BIC                </th>  <td>20593.266</td>\n",
              "</tr>\n",
              "<tr>\n",
              "  <th>Sample:</th>                <td>0</td>        <th>  HQIC               </th>  <td>20568.895</td>\n",
              "</tr>\n",
              "<tr>\n",
              "  <th></th>                       <td> </td>        <th>                     </th>      <td> </td>    \n",
              "</tr>\n",
              "</table>\n",
              "<table class=\"simpletable\">\n",
              "<tr>\n",
              "       <td></td>         <th>coef</th>     <th>std err</th>      <th>z</th>      <th>P>|z|</th>  <th>[0.025</th>    <th>0.975]</th>  \n",
              "</tr>\n",
              "<tr>\n",
              "  <th>const</th>      <td>    0.8975</td> <td>    0.115</td> <td>    7.824</td> <td> 0.000</td> <td>    0.673</td> <td>    1.122</td>\n",
              "</tr>\n",
              "<tr>\n",
              "  <th>ar.L1.Prep</th> <td>    1.2475</td> <td>    0.022</td> <td>   56.579</td> <td> 0.000</td> <td>    1.204</td> <td>    1.291</td>\n",
              "</tr>\n",
              "<tr>\n",
              "  <th>ar.L2.Prep</th> <td>   -0.2980</td> <td>    0.025</td> <td>  -11.868</td> <td> 0.000</td> <td>   -0.347</td> <td>   -0.249</td>\n",
              "</tr>\n",
              "<tr>\n",
              "  <th>ar.L3.Prep</th> <td>    0.0285</td> <td>    0.016</td> <td>    1.762</td> <td> 0.078</td> <td>   -0.003</td> <td>    0.060</td>\n",
              "</tr>\n",
              "<tr>\n",
              "  <th>ma.L1.Prep</th> <td>   -0.9494</td> <td>    0.015</td> <td>  -61.361</td> <td> 0.000</td> <td>   -0.980</td> <td>   -0.919</td>\n",
              "</tr>\n",
              "</table>\n",
              "<table class=\"simpletable\">\n",
              "<caption>Roots</caption>\n",
              "<tr>\n",
              "    <td></td>   <th>            Real</th>  <th>         Imaginary</th> <th>         Modulus</th>  <th>        Frequency</th>\n",
              "</tr>\n",
              "<tr>\n",
              "  <th>AR.1</th> <td>           1.0302</td> <td>          -0.0000j</td> <td>           1.0302</td> <td>          -0.0000</td>\n",
              "</tr>\n",
              "<tr>\n",
              "  <th>AR.2</th> <td>           4.7114</td> <td>          -3.4424j</td> <td>           5.8350</td> <td>          -0.1004</td>\n",
              "</tr>\n",
              "<tr>\n",
              "  <th>AR.3</th> <td>           4.7114</td> <td>          +3.4424j</td> <td>           5.8350</td> <td>           0.1004</td>\n",
              "</tr>\n",
              "<tr>\n",
              "  <th>MA.1</th> <td>           1.0533</td> <td>          +0.0000j</td> <td>           1.0533</td> <td>           0.0000</td>\n",
              "</tr>\n",
              "</table>"
            ],
            "text/plain": [
              "<class 'statsmodels.iolib.summary.Summary'>\n",
              "\"\"\"\n",
              "                              ARMA Model Results                              \n",
              "==============================================================================\n",
              "Dep. Variable:                   Prep   No. Observations:                 3994\n",
              "Model:                     ARMA(3, 1)   Log Likelihood              -10271.755\n",
              "Method:                       css-mle   S.D. of innovations              3.167\n",
              "Date:                Thu, 27 May 2021   AIC                          20555.511\n",
              "Time:                        16:11:31   BIC                          20593.266\n",
              "Sample:                             0   HQIC                         20568.895\n",
              "                                                                              \n",
              "==============================================================================\n",
              "                 coef    std err          z      P>|z|      [0.025      0.975]\n",
              "------------------------------------------------------------------------------\n",
              "const          0.8975      0.115      7.824      0.000       0.673       1.122\n",
              "ar.L1.Prep     1.2475      0.022     56.579      0.000       1.204       1.291\n",
              "ar.L2.Prep    -0.2980      0.025    -11.868      0.000      -0.347      -0.249\n",
              "ar.L3.Prep     0.0285      0.016      1.762      0.078      -0.003       0.060\n",
              "ma.L1.Prep    -0.9494      0.015    -61.361      0.000      -0.980      -0.919\n",
              "                                    Roots                                    \n",
              "=============================================================================\n",
              "                  Real          Imaginary           Modulus         Frequency\n",
              "-----------------------------------------------------------------------------\n",
              "AR.1            1.0302           -0.0000j            1.0302           -0.0000\n",
              "AR.2            4.7114           -3.4424j            5.8350           -0.1004\n",
              "AR.3            4.7114           +3.4424j            5.8350            0.1004\n",
              "MA.1            1.0533           +0.0000j            1.0533            0.0000\n",
              "-----------------------------------------------------------------------------\n",
              "\"\"\""
            ]
          },
          "metadata": {
            "tags": []
          },
          "execution_count": 53
        }
      ]
    },
    {
      "cell_type": "code",
      "metadata": {
        "colab": {
          "base_uri": "https://localhost:8080/",
          "height": 343
        },
        "id": "F2znaxJzlX4_",
        "outputId": "2bc9e05e-53f2-4c5c-b391-d8249ac4ee01"
      },
      "source": [
        "start=len(train)\n",
        "end=len(train)+len(test)-1\n",
        "pred=model.predict(start=start,end=end,typ='levels').rename('ARIMA Predictions')\n",
        "pred.plot(figsize=(12,5),legend=True)\n",
        "test['Prep'].plot(figsize=(12,5),legend=True)"
      ],
      "execution_count": null,
      "outputs": [
        {
          "output_type": "execute_result",
          "data": {
            "text/plain": [
              "<matplotlib.axes._subplots.AxesSubplot at 0x7f064ec85bd0>"
            ]
          },
          "metadata": {
            "tags": []
          },
          "execution_count": 64
        },
        {
          "output_type": "display_data",
          "data": {
            "image/png": "[encoded data removed]",
            "text/plain": [
              "<Figure size 864x360 with 1 Axes>"
            ]
          },
          "metadata": {
            "tags": [],
            "needs_background": "light"
          }
        }
      ]
    },
    {
      "cell_type": "code",
      "metadata": {
        "colab": {
          "base_uri": "https://localhost:8080/"
        },
        "id": "o63aGRF6mVWr",
        "outputId": "a0a8293f-11c9-4a62-bebe-de254419413f"
      },
      "source": [
        "from sklearn.metrics import mean_squared_error\n",
        "from math import sqrt\n",
        "# test['Prep'].mean()\n",
        "rmse=sqrt(mean_squared_error(pred,test['Prep']))\n",
        "print(rmse)"
      ],
      "execution_count": null,
      "outputs": [
        {
          "output_type": "stream",
          "text": [
            "2.1761221198286465\n"
          ],
          "name": "stdout"
        }
      ]
    },
    {
      "cell_type": "code",
      "metadata": {
        "colab": {
          "base_uri": "https://localhost:8080/",
          "height": 340
        },
        "id": "Q4KLecXBnLzX",
        "outputId": "cd7a30f3-148f-4b2f-ac41-b188339edcf9"
      },
      "source": [
        "df = fill_missing_value(data)\n",
        "model2=ARIMA(df['Prep'],order=(3,0,1))\n",
        "model2=model2.fit()\n",
        "df.tail()"
      ],
      "execution_count": null,
      "outputs": [
        {
          "output_type": "execute_result",
          "data": {
            "text/html": [
              "<div>\n",
              "<style scoped>\n",
              "    .dataframe tbody tr th:only-of-type {\n",
              "        vertical-align: middle;\n",
              "    }\n",
              "\n",
              "    .dataframe tbody tr th {\n",
              "        vertical-align: top;\n",
              "    }\n",
              "\n",
              "    .dataframe thead th {\n",
              "        text-align: right;\n",
              "    }\n",
              "</style>\n",
              "<table border=\"1\" class=\"dataframe\">\n",
              "  <thead>\n",
              "    <tr style=\"text-align: right;\">\n",
              "      <th></th>\n",
              "      <th>Station</th>\n",
              "      <th>AvgTemp</th>\n",
              "      <th>MaxTemp</th>\n",
              "      <th>MaxTempTime</th>\n",
              "      <th>MinTemp</th>\n",
              "      <th>MinTempTime</th>\n",
              "      <th>VP</th>\n",
              "      <th>MaxRH</th>\n",
              "      <th>MaxRHTime</th>\n",
              "      <th>MinRH</th>\n",
              "      <th>MinRHTime</th>\n",
              "      <th>SR</th>\n",
              "      <th>WR</th>\n",
              "      <th>Prep</th>\n",
              "      <th>MaxSTemp5</th>\n",
              "      <th>MaxSTemp5Time</th>\n",
              "      <th>MinSTemp5</th>\n",
              "      <th>MinSTemp5Time</th>\n",
              "      <th>MaxSTemp15</th>\n",
              "      <th>MaxSTemp15Time</th>\n",
              "      <th>MinSTemp15</th>\n",
              "      <th>MinSTemp15Time</th>\n",
              "      <th>BV</th>\n",
              "      <th>Year</th>\n",
              "      <th>MaxWG</th>\n",
              "      <th>MaxWGTime</th>\n",
              "      <th>DirectionMaxWG</th>\n",
              "    </tr>\n",
              "    <tr>\n",
              "      <th>Datetime</th>\n",
              "      <th></th>\n",
              "      <th></th>\n",
              "      <th></th>\n",
              "      <th></th>\n",
              "      <th></th>\n",
              "      <th></th>\n",
              "      <th></th>\n",
              "      <th></th>\n",
              "      <th></th>\n",
              "      <th></th>\n",
              "      <th></th>\n",
              "      <th></th>\n",
              "      <th></th>\n",
              "      <th></th>\n",
              "      <th></th>\n",
              "      <th></th>\n",
              "      <th></th>\n",
              "      <th></th>\n",
              "      <th></th>\n",
              "      <th></th>\n",
              "      <th></th>\n",
              "      <th></th>\n",
              "      <th></th>\n",
              "      <th></th>\n",
              "      <th></th>\n",
              "      <th></th>\n",
              "      <th></th>\n",
              "    </tr>\n",
              "  </thead>\n",
              "  <tbody>\n",
              "    <tr>\n",
              "      <th>2020-12-27</th>\n",
              "      <td>ftc01</td>\n",
              "      <td>3.866</td>\n",
              "      <td>8.870</td>\n",
              "      <td>14:06:30</td>\n",
              "      <td>-5.214</td>\n",
              "      <td>22:19:40</td>\n",
              "      <td>0.298</td>\n",
              "      <td>0.944</td>\n",
              "      <td>22:19:50</td>\n",
              "      <td>0.001</td>\n",
              "      <td>00:02:30</td>\n",
              "      <td>8.770</td>\n",
              "      <td>240.90</td>\n",
              "      <td>0.000</td>\n",
              "      <td>-0.173</td>\n",
              "      <td>22:43:00</td>\n",
              "      <td>-0.391</td>\n",
              "      <td>09:41:00</td>\n",
              "      <td>0.089</td>\n",
              "      <td>23:54:10</td>\n",
              "      <td>-0.062</td>\n",
              "      <td>00:10:50</td>\n",
              "      <td>12.53</td>\n",
              "      <td>2012.0</td>\n",
              "      <td>11.830</td>\n",
              "      <td>00:01:00</td>\n",
              "      <td>258.70</td>\n",
              "    </tr>\n",
              "    <tr>\n",
              "      <th>2020-12-28</th>\n",
              "      <td>ftc01</td>\n",
              "      <td>-3.694</td>\n",
              "      <td>-1.899</td>\n",
              "      <td>14:57:30</td>\n",
              "      <td>-7.736</td>\n",
              "      <td>03:26:40</td>\n",
              "      <td>0.446</td>\n",
              "      <td>1.045</td>\n",
              "      <td>13:24:00</td>\n",
              "      <td>0.001</td>\n",
              "      <td>21:52:30</td>\n",
              "      <td>1.874</td>\n",
              "      <td>47.14</td>\n",
              "      <td>0.000</td>\n",
              "      <td>-0.203</td>\n",
              "      <td>00:00:10</td>\n",
              "      <td>-0.891</td>\n",
              "      <td>07:35:10</td>\n",
              "      <td>0.089</td>\n",
              "      <td>00:00:40</td>\n",
              "      <td>-0.146</td>\n",
              "      <td>11:07:30</td>\n",
              "      <td>12.47</td>\n",
              "      <td>2010.0</td>\n",
              "      <td>3.350</td>\n",
              "      <td>01:10:00</td>\n",
              "      <td>164.00</td>\n",
              "    </tr>\n",
              "    <tr>\n",
              "      <th>2020-12-29</th>\n",
              "      <td>ftc01</td>\n",
              "      <td>-3.675</td>\n",
              "      <td>3.093</td>\n",
              "      <td>13:17:50</td>\n",
              "      <td>-13.790</td>\n",
              "      <td>21:31:20</td>\n",
              "      <td>0.330</td>\n",
              "      <td>0.999</td>\n",
              "      <td>07:32:00</td>\n",
              "      <td>0.000</td>\n",
              "      <td>08:13:00</td>\n",
              "      <td>6.251</td>\n",
              "      <td>161.40</td>\n",
              "      <td>0.000</td>\n",
              "      <td>-0.297</td>\n",
              "      <td>16:36:40</td>\n",
              "      <td>-0.741</td>\n",
              "      <td>23:56:30</td>\n",
              "      <td>0.066</td>\n",
              "      <td>18:22:00</td>\n",
              "      <td>-0.021</td>\n",
              "      <td>00:02:50</td>\n",
              "      <td>12.44</td>\n",
              "      <td>2011.0</td>\n",
              "      <td>10.480</td>\n",
              "      <td>10:37:00</td>\n",
              "      <td>294.40</td>\n",
              "    </tr>\n",
              "    <tr>\n",
              "      <th>2020-12-30</th>\n",
              "      <td>ftc01</td>\n",
              "      <td>-10.070</td>\n",
              "      <td>0.187</td>\n",
              "      <td>14:59:10</td>\n",
              "      <td>-18.200</td>\n",
              "      <td>04:35:40</td>\n",
              "      <td>0.223</td>\n",
              "      <td>1.043</td>\n",
              "      <td>08:14:20</td>\n",
              "      <td>0.001</td>\n",
              "      <td>18:23:30</td>\n",
              "      <td>9.320</td>\n",
              "      <td>30.06</td>\n",
              "      <td>0.000</td>\n",
              "      <td>-0.741</td>\n",
              "      <td>00:00:10</td>\n",
              "      <td>-1.576</td>\n",
              "      <td>09:27:30</td>\n",
              "      <td>-0.009</td>\n",
              "      <td>00:00:10</td>\n",
              "      <td>-0.625</td>\n",
              "      <td>23:43:10</td>\n",
              "      <td>12.41</td>\n",
              "      <td>2011.0</td>\n",
              "      <td>3.050</td>\n",
              "      <td>13:00:00</td>\n",
              "      <td>339.90</td>\n",
              "    </tr>\n",
              "    <tr>\n",
              "      <th>2020-12-31</th>\n",
              "      <td>ftc01</td>\n",
              "      <td>-2.413</td>\n",
              "      <td>6.340</td>\n",
              "      <td>14:26:40</td>\n",
              "      <td>-11.390</td>\n",
              "      <td>07:19:40</td>\n",
              "      <td>0.326</td>\n",
              "      <td>0.999</td>\n",
              "      <td>08:04:50</td>\n",
              "      <td>0.001</td>\n",
              "      <td>14:33:40</td>\n",
              "      <td>8.840</td>\n",
              "      <td>45.10</td>\n",
              "      <td>2.794</td>\n",
              "      <td>-0.853</td>\n",
              "      <td>18:49:10</td>\n",
              "      <td>-1.731</td>\n",
              "      <td>09:04:30</td>\n",
              "      <td>-0.426</td>\n",
              "      <td>22:29:10</td>\n",
              "      <td>-0.878</td>\n",
              "      <td>10:36:10</td>\n",
              "      <td>12.56</td>\n",
              "      <td>2012.0</td>\n",
              "      <td>3.125</td>\n",
              "      <td>05:41:00</td>\n",
              "      <td>43.07</td>\n",
              "    </tr>\n",
              "  </tbody>\n",
              "</table>\n",
              "</div>"
            ],
            "text/plain": [
              "           Station  AvgTemp  MaxTemp  ...   MaxWG  MaxWGTime DirectionMaxWG\n",
              "Datetime                              ...                                  \n",
              "2020-12-27   ftc01    3.866    8.870  ...  11.830   00:01:00         258.70\n",
              "2020-12-28   ftc01   -3.694   -1.899  ...   3.350   01:10:00         164.00\n",
              "2020-12-29   ftc01   -3.675    3.093  ...  10.480   10:37:00         294.40\n",
              "2020-12-30   ftc01  -10.070    0.187  ...   3.050   13:00:00         339.90\n",
              "2020-12-31   ftc01   -2.413    6.340  ...   3.125   05:41:00          43.07\n",
              "\n",
              "[5 rows x 27 columns]"
            ]
          },
          "metadata": {
            "tags": []
          },
          "execution_count": 59
        }
      ]
    },
    {
      "cell_type": "code",
      "metadata": {
        "colab": {
          "base_uri": "https://localhost:8080/"
        },
        "id": "kgY3AD_lmiXQ",
        "outputId": "c0a4ba60-1726-4320-d221-937d71a248bd"
      },
      "source": [
        "index_future_dates=pd.date_range(start='2020-12-31',end='2021-03-31')\n",
        "#print(index_future_dates)\n",
        "pred=model2.predict(start=len(df),end=len(df)+90,typ='levels').rename('ARIMA Predictions')\n",
        "pred.index=index_future_dates\n",
        "print(pred)"
      ],
      "execution_count": null,
      "outputs": [
        {
          "output_type": "stream",
          "text": [
            "2020-12-31    1.281143\n",
            "2021-01-01    0.785299\n",
            "2021-01-02    0.697270\n",
            "2021-01-03    0.692095\n",
            "2021-01-04    0.697738\n",
            "                ...   \n",
            "2021-03-27    0.880038\n",
            "2021-03-28    0.880549\n",
            "2021-03-29    0.881044\n",
            "2021-03-30    0.881525\n",
            "2021-03-31    0.881991\n",
            "Freq: D, Name: ARIMA Predictions, Length: 91, dtype: float64\n"
          ],
          "name": "stdout"
        }
      ]
    },
    {
      "cell_type": "code",
      "metadata": {
        "colab": {
          "base_uri": "https://localhost:8080/",
          "height": 372
        },
        "id": "5GGqhGc-oVm6",
        "outputId": "7cb02b0f-6df2-4d42-efef-e4b0b7a39717"
      },
      "source": [
        "pred.plot(figsize=(12,5),legend=True)"
      ],
      "execution_count": null,
      "outputs": [
        {
          "output_type": "execute_result",
          "data": {
            "text/plain": [
              "<matplotlib.axes._subplots.AxesSubplot at 0x7f064ee2a410>"
            ]
          },
          "metadata": {
            "tags": []
          },
          "execution_count": 63
        },
        {
          "output_type": "display_data",
          "data": {
            "image/png": "[encoded data removed]",
            "text/plain": [
              "<Figure size 864x360 with 1 Axes>"
            ]
          },
          "metadata": {
            "tags": [],
            "needs_background": "light"
          }
        }
      ]
    },
    {
      "cell_type": "code",
      "metadata": {
        "id": "rLLrYovXof1S"
      },
      "source": [
        ""
      ],
      "execution_count": null,
      "outputs": []
    }
  ]
}